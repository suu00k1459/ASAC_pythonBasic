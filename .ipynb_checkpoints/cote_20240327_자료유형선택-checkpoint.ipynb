{
 "cells": [
  {
   "cell_type": "code",
   "execution_count": 100,
   "id": "8c92b507-fe1d-4f36-a83c-ea9d81e58370",
   "metadata": {},
   "outputs": [
    {
     "data": {
      "text/plain": [
       "{'Name': 'Hong'}"
      ]
     },
     "execution_count": 100,
     "metadata": {},
     "output_type": "execute_result"
    }
   ],
   "source": [
    "# dict 기능 : 여러개의 값을 모아두는 것!\n",
    "\n",
    "# 1) 값의 구성 : 2가지로 구성 key-value 쌍으로 & 여러개\n",
    "#     ==> 쌍/연결구조 표현할 때 자주 사용이 됨\n",
    "\n",
    "# 2) 내부적인 개별 원소에 대한 접근이 빠르다\n",
    "#     --> 내부 구성을 hash table 알고리즘으로 설계!\n",
    "#     --> 속도이슈가 발생할 때 변경해볼만한 자료형!\n",
    "\n",
    "# 참고) dict 에 대한 기본 기능 \n",
    "dict_1 = {}\n",
    "dict_1[\"Name\"] = \"Hong\"\n",
    "dict_1"
   ]
  },
  {
   "cell_type": "code",
   "execution_count": 101,
   "id": "adcabbbd-8ab0-498c-920c-8c122ee62ea3",
   "metadata": {},
   "outputs": [
    {
     "data": {
      "text/plain": [
       "{'Name': 'Hong', 'region': 'Seoul'}"
      ]
     },
     "execution_count": 101,
     "metadata": {},
     "output_type": "execute_result"
    }
   ],
   "source": [
    "dict_1[\"region\"] = \"Seoul\" \n",
    "dict_1"
   ]
  },
  {
   "cell_type": "code",
   "execution_count": 102,
   "id": "505c4cee-42a9-48b6-9870-bd3aba51d841",
   "metadata": {},
   "outputs": [
    {
     "data": {
      "text/plain": [
       "{'Name': 'Hong', 'region': 'Seoul2'}"
      ]
     },
     "execution_count": 102,
     "metadata": {},
     "output_type": "execute_result"
    }
   ],
   "source": [
    "dict_1[\"region\"] = \"Seoul2\" \n",
    "dict_1 # key값을 가져와서 value 값을 변경(갱신) ! 추가되는 게 아님."
   ]
  },
  {
   "cell_type": "code",
   "execution_count": 103,
   "id": "003fbe9d-e122-4a35-8f0b-d13d62930340",
   "metadata": {},
   "outputs": [],
   "source": [
    "# key 값이 없었따면 --> 새로운 k-v 추가 \n",
    "# ==> 키 값에 대한 사용을 유의해야 함. 키 값이 유니크하지 않으면 값이 소실!ㅠㅠ"
   ]
  },
  {
   "cell_type": "code",
   "execution_count": 104,
   "id": "76f7802b-69f6-4d06-9fa0-efa7b2a2279c",
   "metadata": {},
   "outputs": [
    {
     "data": {
      "text/plain": [
       "{'Name': 'Hong'}"
      ]
     },
     "execution_count": 104,
     "metadata": {},
     "output_type": "execute_result"
    }
   ],
   "source": [
    "# Dict의 값을 제거!\n",
    "# dict 에서는 특정 키 값을 중심으로 삭제!\n",
    "# --> 삭제도 쌍으로 날라감! => 키만 있으면 연겱된 value 같이 삭제!\n",
    "# ==> del 파이썬의 명령어..\n",
    "del dict_1[\"region\"]\n",
    "dict_1"
   ]
  },
  {
   "cell_type": "code",
   "execution_count": 106,
   "id": "35c1aefe-3c0c-489a-a8e5-81da4ef6783e",
   "metadata": {},
   "outputs": [
    {
     "data": {
      "text/plain": [
       "{}"
      ]
     },
     "execution_count": 106,
     "metadata": {},
     "output_type": "execute_result"
    }
   ],
   "source": [
    "# 유사한 기능 : dict의 내무를 비우는 것\n",
    "#   --> 안에 있던 모든 k-v 를 제거하고,\n",
    "#   --> 틀인 dict만 남기는 것.\n",
    "\n",
    "dict_1.clear()\n",
    "dict_1"
   ]
  },
  {
   "cell_type": "code",
   "execution_count": 98,
   "id": "567e4e24-1f18-4b7e-b5e7-1db06fbd1b9b",
   "metadata": {},
   "outputs": [
    {
     "ename": "NameError",
     "evalue": "name 'dict_1' is not defined",
     "output_type": "error",
     "traceback": [
      "\u001b[1;31m---------------------------------------------------------------------------\u001b[0m",
      "\u001b[1;31mNameError\u001b[0m                                 Traceback (most recent call last)",
      "Cell \u001b[1;32mIn[98], line 3\u001b[0m\n\u001b[0;32m      1\u001b[0m \u001b[38;5;66;03m# 주의!!!!!!\u001b[39;00m\n\u001b[0;32m      2\u001b[0m \u001b[38;5;28;01mdel\u001b[39;00m dict_1\n\u001b[1;32m----> 3\u001b[0m dict_1\n",
      "\u001b[1;31mNameError\u001b[0m: name 'dict_1' is not defined"
     ]
    }
   ],
   "source": [
    "# 주의!!!!!!\n",
    "del dict_1 # dict_1 을 아예 메모리에서 다 날린 것\n",
    "dict_1 # 없는 거 부르면 에러 뜸"
   ]
  },
  {
   "cell_type": "code",
   "execution_count": 107,
   "id": "6075912d-5f3e-4869-a846-f3b39648950c",
   "metadata": {},
   "outputs": [],
   "source": [
    "# 결론 : dict 에서 지울 때 주의를 해야함.\n",
    "# 개별 원소 : del + 지울 key 값 을 중심으로\n",
    "# 모든 원소를 비울 때 : d.clear()\n",
    "# 완전히 메모리상 제거 : del 변수명"
   ]
  },
  {
   "cell_type": "code",
   "execution_count": 109,
   "id": "0365ec3c-69cc-40c3-9803-7dcead5a9fd4",
   "metadata": {},
   "outputs": [
    {
     "data": {
      "text/plain": [
       "{'Name': 'T-Academy',\n",
       " 'regio1': 'Seoul',\n",
       " 'region9': 'Korea',\n",
       " 'region3': 'GongDuck'}"
      ]
     },
     "execution_count": 109,
     "metadata": {},
     "output_type": "execute_result"
    }
   ],
   "source": [
    "# 기타\n",
    "dict_1 = {}\n",
    "dict_1[\"Name\"] = \"T-Academy\"\n",
    "dict_1[\"regio1\"] = \"Seoul\"\n",
    "dict_1[\"region9\"] = \"Korea\"\n",
    "dict_1[\"region3\"] = \"GongDuck\"\n",
    "dict_1"
   ]
  },
  {
   "cell_type": "code",
   "execution_count": 112,
   "id": "e9b559e7-9936-43e0-b9e1-1022515782e1",
   "metadata": {},
   "outputs": [],
   "source": [
    "# --> 앞의 파일명 정리 문제에서 dict로 할 때, 굳이 원본의 순서를 정보로 추가하지 않은 이유. 생성 순서대로 들어가기 때문!"
   ]
  },
  {
   "cell_type": "code",
   "execution_count": 114,
   "id": "904a2a4d-c948-44e0-ba82-55c2afc53689",
   "metadata": {},
   "outputs": [
    {
     "data": {
      "text/plain": [
       "dict_items([('Name', 'T-Academy'), ('regio1', 'Seoul'), ('region9', 'Korea'), ('region3', 'GongDuck')])"
      ]
     },
     "execution_count": 114,
     "metadata": {},
     "output_type": "execute_result"
    }
   ],
   "source": [
    "dict_1.items()"
   ]
  },
  {
   "cell_type": "code",
   "execution_count": 115,
   "id": "ac81d51b-62f6-4827-9937-6d6c210bbb95",
   "metadata": {},
   "outputs": [
    {
     "data": {
      "text/plain": [
       "4"
      ]
     },
     "execution_count": 115,
     "metadata": {},
     "output_type": "execute_result"
    }
   ],
   "source": [
    "# 1) dict의 원소의 수\n",
    "len(dict_1)"
   ]
  },
  {
   "cell_type": "code",
   "execution_count": 116,
   "id": "efce4ce4-1c9c-43e5-a079-8ceb34b35a32",
   "metadata": {},
   "outputs": [
    {
     "name": "stdout",
     "output_type": "stream",
     "text": [
      "Name\n",
      "regio1\n",
      "region9\n",
      "region3\n"
     ]
    }
   ],
   "source": [
    "# 2) 개별적인 key만\n",
    "dict_1.keys()\n",
    "for k in dict_1.keys():\n",
    "    print(k)\n",
    "    "
   ]
  },
  {
   "cell_type": "code",
   "execution_count": 117,
   "id": "ce367a5d-cd99-4964-8cb5-cdb8afa05eca",
   "metadata": {},
   "outputs": [
    {
     "data": {
      "text/plain": [
       "dict_values(['T-Academy', 'Seoul', 'Korea', 'GongDuck'])"
      ]
     },
     "execution_count": 117,
     "metadata": {},
     "output_type": "execute_result"
    }
   ],
   "source": [
    "# 3) value를 중심으로\n",
    "dict_1.values()"
   ]
  },
  {
   "cell_type": "code",
   "execution_count": 118,
   "id": "75db0419-8f0c-43a5-ad88-d567ac625556",
   "metadata": {},
   "outputs": [
    {
     "name": "stdout",
     "output_type": "stream",
     "text": [
      "T-Academy\n",
      "Seoul\n",
      "Korea\n",
      "GongDuck\n"
     ]
    }
   ],
   "source": [
    "for v in dict_1.values():\n",
    "    print(v)"
   ]
  },
  {
   "cell_type": "code",
   "execution_count": 119,
   "id": "d566ca3d-44cb-44ad-879d-adcef40357cd",
   "metadata": {},
   "outputs": [
    {
     "name": "stdout",
     "output_type": "stream",
     "text": [
      "Name T-Academy\n",
      "regio1 Seoul\n",
      "region9 Korea\n",
      "region3 GongDuck\n"
     ]
    }
   ],
   "source": [
    "# 4) k,v 같이 돌리자. d.items()\n",
    "for k,v in dict_1.items():\n",
    "    print(k,v)"
   ]
  },
  {
   "cell_type": "code",
   "execution_count": 121,
   "id": "ebdc7972-1fba-4d74-8e75-b6086c5764cb",
   "metadata": {},
   "outputs": [],
   "source": [
    "# 문제1) 마라톤 참가!\n",
    "\n",
    "# 시도1) 그냥 간단히 리스트로 : 효율성x --> 기능\n",
    "def solution(participant, completion):\n",
    "    ###\n",
    "    for name in completion:\n",
    "        participant.remove(name)\n",
    "    ###\n",
    "    return participant[0]"
   ]
  },
  {
   "cell_type": "code",
   "execution_count": 122,
   "id": "2150a500-8e09-4d3e-895b-26848d0244aa",
   "metadata": {},
   "outputs": [
    {
     "data": {
      "text/plain": [
       "'leo'"
      ]
     },
     "execution_count": 122,
     "metadata": {},
     "output_type": "execute_result"
    }
   ],
   "source": [
    "p = [\"leo\",\"kiki\",\"eden\"]\n",
    "c = [\"eden\",\"kiki\"]\n",
    "solution(p,c)"
   ]
  },
  {
   "cell_type": "code",
   "execution_count": 123,
   "id": "4e9cd702-9000-4904-afa3-8a70d5adc233",
   "metadata": {},
   "outputs": [],
   "source": [
    "# # 시도2) 자료형을 dict 로 해보자\n",
    "# --> dict = {이름 : 몇 명} :코테에서 자주 사용되는 구조\n",
    "# p = [\"mislav\", \"stanko\", \"mislav\", \"ana\"]\n",
    "# {\"mislav\" : 1}\n",
    "# {\"mislav\" : 1,\"stanko\":1 }\n",
    "# {\"mislav\" : 1+1,\"stanko\":1 }\n",
    "# {\"mislav\" : 2,\"stanko\":1,\"ana\":1}\n",
    "# -->{\"mislav\" : 2,\"stanko\":1,\"ana\":1}\n",
    "#     value에는 무조건 1이상의 값이 있을 것.\n",
    "\n",
    "# 완주자 명단 롤링!\n",
    "# c= [\"stanko\", \"ana\", \"mislav\"]\n",
    "# 대상 -->{\"mislav\" : 2,\"stanko\":1,\"ana\":1}\n",
    "#         {\"mislav\":2,\"ana\":1}\n",
    "#         {\"mislav\":2}\n",
    "#         {\"mislav\":1}\n",
    "\n",
    "# 남은 우너소의 키값을 출력하면 완주하지 못한 사람! "
   ]
  },
  {
   "cell_type": "code",
   "execution_count": 124,
   "id": "a3a99520-7f24-4b50-8ead-16a519c31828",
   "metadata": {},
   "outputs": [],
   "source": [
    "def solution(participant, completion):\n",
    "    answer = ''\n",
    "    # 0) 자료드을 정리할 나의 변수& 자료형 세팅\n",
    "    # ---> 참가자 명단을 키, 참가자 수:  value ==> dict\n",
    "    people_dict ={}\n",
    "    # 1) 참가자 명단을 정리 : 참가자 수를 롤링\n",
    "    for p in participant:\n",
    "        # 기준 : 기존에 등록된 이름 or 처음 등록되는 이름인지.\n",
    "        if p in participant : # --> key가 있냐? : 추가 등록\n",
    "            people_dict[p] +=1\n",
    "        else: # 신규등록\n",
    "            people_dict[p] =1\n",
    "    # 2) 완주자 명단으로 도려가면서, 하나씩 -빼면 됨.\n",
    "    for c in completion: \n",
    "        # 1명 있어서 완전히 key를 가지고 제거할지, 여러 명 중 1명만 감소\n",
    "        if people_dict[c] == 1: # 1명 참가해서/ 1명만 남았는지..\n",
    "            del people_dict[c]\n",
    "        else:\n",
    "            people_dict[c] -=1\n",
    "    # --> {\"NNN\" :1}\n",
    "    answer = list(people_dict.keys())[0]\n",
    "    return answer"
   ]
  },
  {
   "cell_type": "code",
   "execution_count": null,
   "id": "2b80f183-b184-4a9e-8b29-6b67681a4564",
   "metadata": {},
   "outputs": [],
   "source": [
    "# 문제 :\n",
    "# - 여러번 신고는 가능 but 카운팅 1로 중복에 대한 처리!!!!!\n",
    "# - k 정지할 기준 값 가변적으로 들어옴..==> 정지 처리\n",
    "#   ==> 정지 당한 사람을 신고한 유저한테 알림!!!!!!\n",
    "#   ( 신고 접수를 다 집계하고,,,,최종적으로 처리하겠다!!!)\n",
    "\n",
    "# ==> 어떻게 세팅할까??????\n",
    "#      + 속도 이슈!!!!\n",
    "# ==> 문제 상의 관계 + 속도 이슈 : Dict 세팅을 하겠습니다!!!"
   ]
  },
  {
   "cell_type": "code",
   "execution_count": null,
   "id": "2a7196e2-3f74-41b9-b42a-ca6b06b81d9a",
   "metadata": {},
   "outputs": [],
   "source": [
    "# Dict로 한다고 할 때 중요한 부분!!\n",
    "# 1) key : 신고 당한 사람기준\n",
    "# 2) value : 나를 신고한 녀석들!!!!!\n",
    "# ====> 주어진 k의 값을 기준으로 value를 보면서 BlackList선정!!!\n",
    "# 역으로 BlackList에서 신고한 사람들에게 +1씩 카운팅!!!"
   ]
  },
  {
   "cell_type": "code",
   "execution_count": null,
   "id": "f9bde12d-ee49-4a96-8019-6a15992169eb",
   "metadata": {},
   "outputs": [],
   "source": [
    "# 참고) answer = [,,,,] : id_list =[\"A\",\"B\",\"c\"]\n",
    "#       answer = [0,0,0]\n",
    "id_list = [\"a\",\"b\",\"c\"]\n",
    "[0] + [0] +[0]"
   ]
  },
  {
   "cell_type": "code",
   "execution_count": null,
   "id": "4d732ac0-8b3c-42cd-a4c9-523dc7600a16",
   "metadata": {},
   "outputs": [],
   "source": [
    "[0] * len(id_list)"
   ]
  },
  {
   "cell_type": "code",
   "execution_count": null,
   "id": "65fa6102-ec4a-4d3e-bcdd-c41b2e9a1636",
   "metadata": {},
   "outputs": [],
   "source": [
    "# 큰 해결 방안\n",
    "# 1) 문제 세팅\n",
    "# 주어진 입력에 대한 정보 처리 : Dict(k:신고당한사람, v:신고한 사람들)\n",
    "# 입력의 id_list를 보고,,,순회 for\n",
    "# d = {\"muzi\":[], \"Frodo\":[], \"Apeach\":[], \"Neo\":[] }\n",
    "\n",
    "# ++추가\n",
    "# ===> d = {\"muzi\":set([]), \"Frodo\":set([]), \"Apeach\":set([]), \"Neo\":[] }\n",
    "# set에서 원소를 추가 : .add() ==> 코드상 리스트이 append코드를 대체\n",
    "\n",
    "\n",
    "# 2) 신고 결과들을 나의 자료형에 처리 : report(2만건) ->for\n",
    "# \"muzi frodo\" --> .split(\" \")[0] :신고한 사람 (v추가)\n",
    "#                  .split(\" \")[1] :신고 당한 삶(k)\n",
    "# d = {\"muzi\":[], \"Frodo\":[\"muzi\"], \"Apeach\":[], \"Neo\":[] }\n",
    "# \" apeach frodo\"\n",
    "# d = {\"muzi\":[], \"Frodo\":[\"muzi\", \"Apeach\"], \"Apeach\":[], \"Neo\":[] }\n",
    "# \"frodo neo\"\n",
    "# d = {\"muzi\":[], \"Frodo\":[\"muzi\", \"Apeach\"], \"Apeach\":[],\n",
    "#       \"Neo\":[\"fordo\"] }\n",
    "# \"muzi neo\"\n",
    "# d = {\"muzi\":[], \"Frodo\":[\"muzi\", \"Apeach\"], \"Apeach\":[],\n",
    "#       \"Neo\":[\"fordo\", \"muzi\"] }\n",
    "# \"apeach muzi\"\n",
    "# d = {\"muzi\":[\"apeach\"], \"Frodo\":[\"muzi\", \"Apeach\"], \"Apeach\":[],\n",
    "#       \"Neo\":[\"fordo\", \"muzi\"] }\n",
    "\n",
    "# 3) 시스템적으로 k번 이상 신고당한애들을 리스트업!!!!\n",
    "#    => k=2: value에서 원소의 갯수가 2이상인 애들의 키를 수집\n",
    "#       정지당할 BlackList 정리가 됨!!!!\n",
    "\n",
    "# 4) 역으로 Balcklist에 해당하는 신고한 사람들을 찾아서 +1카운팅\n",
    "#    ==> Blackllist 돌아가면서\n",
    "#        d에서 key로 찾아서, key 에 해당하는 values에 가서\n",
    "#        +1씩 올려주면 됨!!!!\n",
    "#    --> BlackList = [\"Frodo\", \"Neo\"], answer = [0,0,0,0]\n",
    "#        d[\"Frodo\"] :  [\"muzi\", \"Apeach\"]\n",
    "#                      muzi의 Answer 위치에서 +1 갱신 answer = [0+1,0,0,0]\n",
    "#                      Apeach의 Answer 위치에서 +1 갱신 answer = [0+1,0,0+1,0]\n",
    "#        d[\"Neo\"]  : [\"fordo\", \"muzi\"]\n",
    "#                      fordo의 Answer위치에서 +1 갱신 answer = [0+1,0+1,0+1,0]\n",
    "#                      muzi의  Answer위치에서 +1 갱신 answer = [0+1+1,0+1,0+1,0]\n",
    "# ===> answer = [2,1,1,0]"
   ]
  },
  {
   "cell_type": "code",
   "execution_count": null,
   "id": "b6fecca9-2b1d-459d-9784-fad687e8a55b",
   "metadata": {},
   "outputs": [],
   "source": [
    "# 위의 방법대로 [\"ryan con\", \"ryan con\", \"ryan con\", \"ryan con\"]\n",
    "# 생각을 하면,,,\n",
    "# d={\"ryan\":[], \"con\":[]}\n",
    "# --> d={\"ryan\":[], \"con\":[\"ryan\",\"ryan\",\"ryan\",\"ryan\"]}\n",
    "# ===> d={\"ryan\":[], \"con\":[]} 를 가지고 report하는 과정에서\n",
    "#      중복 신고에 대한 부분을 어찌할까!!!!!!!!!!!!!!!!!!!!\n",
    "\n",
    "\n",
    "# =========================================\n",
    "# ==> d = {\"ryan\": set([]), \"con\":set([])}\n",
    "#     d={\"ryan\":[], \"con\":[\"ryan\",\"ryan\",\"ryan\",\"ryan\"]} (X)\n",
    "#     d = {\"ryan\": set([]), \"con\":set([\"ryan\"])}"
   ]
  },
  {
   "cell_type": "code",
   "execution_count": null,
   "id": "e0f2608b-ea06-49f5-b6ed-496cb7c5e25f",
   "metadata": {},
   "outputs": [],
   "source": [
    "def solution(id_list, report, k):\n",
    "    # answer = []\n",
    "    # 출력의 편의성을 위해서 answer =[0,0,0,0]\n",
    "    # 0) 출력을 편하게 하기 위해서 유저별 메일 받을 카운팅 초기화\n",
    "    answer = [0]*len(id_list)\n",
    "    # --> [0,0,0,0....]\n",
    "\n",
    "    # 1) 신고 내역에 대한 정보 처리를 위해 세팅!\n",
    "    #     -> dict에 대해서 유저별  ㅏ됴,\n",
    "    #         key  : 신고 당한 사람\n",
    "    #         value : 신고한 사람들을[]\n",
    "    # d= {\"muzi\":{},\"forodo\":[]...}\n",
    "    report_dict = {}\n",
    "    for id in id_list: \n",
    "        report_dict[id] = [] # --> 나를 신고한 녀석들... 여러명:\n",
    "        \n",
    "    # 2) 실제 신고 내역들에 대해서 report를 돌려가면서 dict 정리!\n",
    "    # => d = {\"muzi\":[\"apeach\"], \"frodo\":[\"muzi\",\"apeach\"]...]}\n",
    "    for report_pair in report: #\"A B\"\n",
    "        # report_pair : \"A B\" -> 신고자(v추가) 신고당한사람(k)\n",
    "        reporter = report_pair.split(\" \")[0] #\"A\"\n",
    "        reported = report_pair.split(\" \")[1] #\"B\"\n",
    "        # --> s나의 자료형에 정리!\n",
    "        report_dict[reported].append(reporter)\n",
    "    # 참고) 위에서 report를 set 미리 정리하고하면 편할 수 있음\n",
    "    # --> 신고내역에 대한 정리!\n",
    "    # 3) 시스템의 기준 k이상 신고당한 BL을 찾자\n",
    "    #    --> report_dict의 value 원소의 수 >=k : 정지대상 (key)\n",
    "    #    --> [\"frodo\",\"neo\"] \n",
    "    #    정지당한 애들의 이름만 있으면 되니 리스트로(컴팩트해짐)\n",
    "    k_reported =[] # 정지당한 id들만 모아두려고 함.\n",
    "    for k, v in report_dict.items() :\n",
    "        if len(v) >=k:\n",
    "            k_reported.append(k) # 1줄로 리스트 컴프리핸션 가능\n",
    "    # 4) 최종적으로 신고한 사람들한테 메일 발송\n",
    "    # -> 정지다한 리스트를 돌려가면서\n",
    "    #    d[blacklist] : values에 신고자들이 나타남\n",
    "    for ban_id in k_reported:\n",
    "        # 정리먹은 id를 신고한 사람들\n",
    "        mail_res_ids = report_idct[ban_id] # [\"muzi\",\"apeach\"]\n",
    "        # 신고한 id들을 돌려가면서 메일 발송 : +1 갱신\n",
    "        for id in mail_Res_ids:\n",
    "            id_index = id_list.index(id)\n",
    "            answer[id_index] +=1 #갱신 \n",
    "    return answer"
   ]
  }
 ],
 "metadata": {
  "kernelspec": {
   "display_name": "Python 3 (ipykernel)",
   "language": "python",
   "name": "python3"
  },
  "language_info": {
   "codemirror_mode": {
    "name": "ipython",
    "version": 3
   },
   "file_extension": ".py",
   "mimetype": "text/x-python",
   "name": "python",
   "nbconvert_exporter": "python",
   "pygments_lexer": "ipython3",
   "version": "3.11.7"
  }
 },
 "nbformat": 4,
 "nbformat_minor": 5
}
