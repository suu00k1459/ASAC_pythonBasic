{
 "cells": [
  {
   "cell_type": "code",
   "execution_count": null,
   "id": "416aeaf9-c7a1-4c43-9310-4e47aba5d335",
   "metadata": {},
   "outputs": [],
   "source": [
    "# 파이썬 활용해서 내가 원하는 데이터 수집, 전처리, 표/시각화/그래프\n",
    "\n",
    "# -> 주어진 데이터에 대한 핸들링\n",
    "# + pandas (제일 기본 패키지!)\n",
    "# + numpy (외부 패키지!)\n",
    "\n",
    "# 전제 조건 : 패키지가 다운 받아져야함.\n",
    "# colab, anaconda 는 이미 다운되어 있음.\n",
    "# colab 은 최신은 아님. anaconda 와 다를 때 있고 -> 버전 이슈 (갑자기 colab에서 업데이트하면 코드가 안돌아갈 수 있음)\n",
    "\n"
   ]
  },
  {
   "cell_type": "markdown",
   "id": "529bab1e-cc37-4e9c-ad37-e12285279be4",
   "metadata": {},
   "source": [
    "### numby"
   ]
  },
  {
   "cell_type": "markdown",
   "id": "15915930-31d3-4ca7-a026-4823c0d4d650",
   "metadata": {},
   "source": [
    "데이터를 처리하는 가장 파있너에서 기본이 되는 패키지\n",
    "-> numerical python : 수치 연산\n",
    "+ pandas, scikit-learn, tf/pytorch\n",
    "\n",
    "-> numpy 는 가장 대표적인 자료형 array 자료형을 개발!"
   ]
  },
  {
   "cell_type": "code",
   "execution_count": 2,
   "id": "af3bd7c4-9de5-4454-a1d3-8d67948b0dff",
   "metadata": {},
   "outputs": [
    {
     "data": {
      "text/plain": [
       "'1.26.4'"
      ]
     },
     "execution_count": 2,
     "metadata": {},
     "output_type": "execute_result"
    }
   ],
   "source": [
    "import numpy as np  # numpy의 기능을 부를 때 np.~~\n",
    "import pandas as pd # pandas~~ pd.~~\n",
    "\n",
    "# 사람들이 개발하고 배포한 패키지들을 활용을 하니\n",
    "# 내가 지금 사용하는 버전을 꼭 체크!\n",
    "# --> 버전에 따라서 기능의 변화가 있음.\n",
    "\n",
    "pd.__version__ \n",
    "# --> 2024.04.08 년 기준 ) 2.1.4\n",
    "# 앞으로는 최소한 pandas 2.대 코드를 작성할 것.\n",
    "\n",
    "np.__version__\n",
    "# --> 2024.04.08 년 기준 ) 1.26.4"
   ]
  },
  {
   "cell_type": "code",
   "execution_count": 5,
   "id": "9664dafc-81aa-4d02-8557-06579984f92e",
   "metadata": {},
   "outputs": [
    {
     "name": "stdout",
     "output_type": "stream",
     "text": [
      "[110, 210, 310, 410, 510]\n"
     ]
    },
    {
     "data": {
      "text/plain": [
       "[110, 210, 310, 410, 510]"
      ]
     },
     "execution_count": 5,
     "metadata": {},
     "output_type": "execute_result"
    }
   ],
   "source": [
    "# m1) 생 파이썬 : 꾸역꾸역 돌리기\n",
    "a= [100,200,300,400,500]\n",
    "b=[]\n",
    "for i in a :\n",
    "    b.append(i+10)\n",
    "print(b)\n",
    "\n",
    "# m1) 생 파이썬 업글 : 리스트 컴프리핸션\n",
    "[i+10 for i in a] \n",
    "\n",
    "### for 문을 사용해 롤링해서 개별 원소에 접근하는 수밖에 없음!"
   ]
  },
  {
   "cell_type": "code",
   "execution_count": 9,
   "id": "a31c6f80-d808-4b4e-9512-f106a3c5ccda",
   "metadata": {},
   "outputs": [
    {
     "data": {
      "text/plain": [
       "array([100, 200, 300, 400, 500])"
      ]
     },
     "execution_count": 9,
     "metadata": {},
     "output_type": "execute_result"
    }
   ],
   "source": [
    "# m3) numpy의 패키지를 활용해서 array 자료형을 사용하자!\n",
    "# --> array는 벡터연산을 기본으로 하는 자료형!\n",
    "# 내가 할 일만 정해주면,, 모든 원소에 일괄적용\n",
    "\n",
    "a_arr = np.array(a)\n",
    "a_arr #리스트라고 보이지만 array 라고 가공을 해놓은 거임. 내부적으로 벡터 연산이 가능함"
   ]
  },
  {
   "cell_type": "code",
   "execution_count": 11,
   "id": "9203f50d-4756-4e50-a0a6-3e68156778ad",
   "metadata": {},
   "outputs": [
    {
     "data": {
      "text/plain": [
       "array([110, 210, 310, 410, 510])"
      ]
     },
     "execution_count": 11,
     "metadata": {},
     "output_type": "execute_result"
    }
   ],
   "source": [
    "a_arr +10  # 벡터형식이기 때문에 일괄 연산이 가능함."
   ]
  },
  {
   "cell_type": "markdown",
   "id": "739df892-021d-4068-9b9d-098d7d97585e",
   "metadata": {},
   "source": [
    "### 예시"
   ]
  },
  {
   "cell_type": "code",
   "execution_count": 12,
   "id": "dbfb0573-dbf2-4491-989f-7e86f40cbd8d",
   "metadata": {},
   "outputs": [],
   "source": [
    "# ex)\n",
    "x=[1,2,3,4,5]\n",
    "y=[10,20,30,40,50]\n",
    "#(1+10, 2+20, 3+30, 4+40, 5+50)\n",
    "# x+y 벡터적인 표현 (선대 표현 ㅣ 수식적인 표현)"
   ]
  },
  {
   "cell_type": "code",
   "execution_count": 14,
   "id": "5f00f2e1-5b91-417a-8b7b-9c8dc749a07c",
   "metadata": {},
   "outputs": [
    {
     "data": {
      "text/plain": [
       "[11, 22, 33, 44, 55]"
      ]
     },
     "execution_count": 14,
     "metadata": {},
     "output_type": "execute_result"
    }
   ],
   "source": [
    "# m1-1) 쌩 파이썬으로\n",
    "z=[]\n",
    "for i in range(len(x)):\n",
    "    z.append( x[i] +y[i])\n",
    "z"
   ]
  },
  {
   "cell_type": "code",
   "execution_count": 15,
   "id": "d956e9a5-c47a-4d6e-be21-6e20af08584b",
   "metadata": {},
   "outputs": [
    {
     "data": {
      "text/plain": [
       "array([11, 22, 33, 44, 55])"
      ]
     },
     "execution_count": 15,
     "metadata": {},
     "output_type": "execute_result"
    }
   ],
   "source": [
    "# m1-2) numpy 로\n",
    "x_arr = np.array(x)\n",
    "y_arr = np.array(y)\n",
    "\n",
    "x_arr + y_arr"
   ]
  },
  {
   "cell_type": "code",
   "execution_count": 16,
   "id": "bb74777c-22ca-4d69-8027-c87e1ed8a9de",
   "metadata": {},
   "outputs": [],
   "source": [
    "# numpy는 사용이 수치연산을 위해 하는 것이라\n",
    "# 통일성 있게 사용해야함\n",
    "# 그래야 원하는대로 동작을 한다는 의미\n",
    "\n",
    "# 생 파이썬의 리스트 : 값들을 모아둘 수 있음. 숫자, 문자, 리스트, etd, 차원에 대한 정보는 없음.\n",
    "# numpy는 array : 값들을 모아둘 수 있음. 숫자, 문자, 리스트 etc. +오와 열, 종류가 맞으면 차원도 인식함.\n",
    "#                                                               + 기능을 부여하면, 기본적으로 모든 값에 일정"
   ]
  },
  {
   "cell_type": "code",
   "execution_count": 21,
   "id": "3343513b-e750-4a16-a7f3-a854ca5d1869",
   "metadata": {},
   "outputs": [
    {
     "ename": "ValueError",
     "evalue": "setting an array element with a sequence. The requested array has an inhomogeneous shape after 1 dimensions. The detected shape was (4,) + inhomogeneous part.",
     "output_type": "error",
     "traceback": [
      "\u001b[1;31m---------------------------------------------------------------------------\u001b[0m",
      "\u001b[1;31mValueError\u001b[0m                                Traceback (most recent call last)",
      "Cell \u001b[1;32mIn[21], line 2\u001b[0m\n\u001b[0;32m      1\u001b[0m arr \u001b[38;5;241m=\u001b[39m [\u001b[38;5;241m1\u001b[39m,\u001b[38;5;241m2\u001b[39m,\u001b[38;5;241m3\u001b[39m,[\u001b[38;5;124m\"\u001b[39m\u001b[38;5;124ma\u001b[39m\u001b[38;5;124m\"\u001b[39m,\u001b[38;5;124m\"\u001b[39m\u001b[38;5;124mb\u001b[39m\u001b[38;5;124m\"\u001b[39m,[\u001b[38;5;241m1\u001b[39m,\u001b[38;5;241m2\u001b[39m,\u001b[38;5;241m3\u001b[39m]]]\n\u001b[1;32m----> 2\u001b[0m test_arr \u001b[38;5;241m=\u001b[39m np\u001b[38;5;241m.\u001b[39marray(arr)\n",
      "\u001b[1;31mValueError\u001b[0m: setting an array element with a sequence. The requested array has an inhomogeneous shape after 1 dimensions. The detected shape was (4,) + inhomogeneous part."
     ]
    }
   ],
   "source": [
    "arr = [1,2,3,[\"a\",\"b\",[1,2,3]]]\n",
    "test_arr = np.array(arr)\n",
    "# type(test_arr)\n",
    "# test_arr.dtype"
   ]
  },
  {
   "cell_type": "code",
   "execution_count": null,
   "id": "ba0408c0-2a8c-4862-86ef-9eaae98423bc",
   "metadata": {},
   "outputs": [],
   "source": [
    "test_arr.dtype"
   ]
  },
  {
   "cell_type": "code",
   "execution_count": 22,
   "id": "57fe01eb-2911-4031-99a3-ca5335a4e0d7",
   "metadata": {},
   "outputs": [
    {
     "data": {
      "text/plain": [
       "array([1, 2, 3, 4, 5])"
      ]
     },
     "execution_count": 22,
     "metadata": {},
     "output_type": "execute_result"
    }
   ],
   "source": [
    "# arrary 사용시 형식을 딱 맞춰서 사용하는 게 일반적\n",
    "test_arr2 = np.array([1,2,3,4,5])\n",
    "test_arr2"
   ]
  },
  {
   "cell_type": "code",
   "execution_count": 24,
   "id": "83752d32-048b-4903-b45d-d4ead2ed2fbd",
   "metadata": {},
   "outputs": [],
   "source": [
    "# 1) 이 array의 값들의 자료형\n",
    "# 2) 이 arrar의 차원에 대한 정보\n",
    "# 3) d어떤 모양으로 이루어져 있는지"
   ]
  },
  {
   "cell_type": "code",
   "execution_count": 26,
   "id": "fdb6bb2e-ba3e-49e9-9899-a321bc33e619",
   "metadata": {},
   "outputs": [
    {
     "data": {
      "text/plain": [
       "dtype('int32')"
      ]
     },
     "execution_count": 26,
     "metadata": {},
     "output_type": "execute_result"
    }
   ],
   "source": [
    "test_arr2.dtype"
   ]
  },
  {
   "cell_type": "code",
   "execution_count": 27,
   "id": "a66cb2a0-989a-4e6d-ae78-2c3cbd5fd5b0",
   "metadata": {},
   "outputs": [
    {
     "data": {
      "text/plain": [
       "array([2, 3, 4, 5, 6])"
      ]
     },
     "execution_count": 27,
     "metadata": {},
     "output_type": "execute_result"
    }
   ],
   "source": [
    "test_arr2+1 #연산 가능!"
   ]
  },
  {
   "cell_type": "code",
   "execution_count": 28,
   "id": "43b77017-1916-407f-815f-789d919380dc",
   "metadata": {},
   "outputs": [
    {
     "data": {
      "text/plain": [
       "[[1, 2, 3], [4, 5, 6]]"
      ]
     },
     "execution_count": 28,
     "metadata": {},
     "output_type": "execute_result"
    }
   ],
   "source": [
    "# 참고) 2차원으로 하게 되면,\n",
    "test = [\n",
    "    [1,2,3],\n",
    "    [4,5,6]\n",
    "]\n",
    "test"
   ]
  },
  {
   "cell_type": "code",
   "execution_count": 29,
   "id": "3560f2c1-2f79-41c6-ab64-0c98967229f7",
   "metadata": {},
   "outputs": [
    {
     "data": {
      "text/plain": [
       "array([[1, 2, 3],\n",
       "       [4, 5, 6]])"
      ]
     },
     "execution_count": 29,
     "metadata": {},
     "output_type": "execute_result"
    }
   ],
   "source": [
    "test_arr = np.array(test)\n",
    "test_arr"
   ]
  },
  {
   "cell_type": "code",
   "execution_count": 30,
   "id": "50181a92-a11e-4910-837c-f1c19c3aca22",
   "metadata": {},
   "outputs": [
    {
     "data": {
      "text/plain": [
       "dtype('int32')"
      ]
     },
     "execution_count": 30,
     "metadata": {},
     "output_type": "execute_result"
    }
   ],
   "source": [
    "test_arr.dtype"
   ]
  },
  {
   "cell_type": "code",
   "execution_count": 31,
   "id": "3a24d301-7324-4c03-b426-bdaa8350b170",
   "metadata": {},
   "outputs": [
    {
     "data": {
      "text/plain": [
       "(2, 3)"
      ]
     },
     "execution_count": 31,
     "metadata": {},
     "output_type": "execute_result"
    }
   ],
   "source": [
    "test_arr.shape"
   ]
  },
  {
   "cell_type": "code",
   "execution_count": 33,
   "id": "0c2ea64a-f021-4eb8-8da8-e56908cfa838",
   "metadata": {},
   "outputs": [
    {
     "data": {
      "text/plain": [
       "2"
      ]
     },
     "execution_count": 33,
     "metadata": {},
     "output_type": "execute_result"
    }
   ],
   "source": [
    "len(test_arr) # 2차원의 경우에는 가로줄의 수"
   ]
  },
  {
   "cell_type": "code",
   "execution_count": 35,
   "id": "773caaed-212c-45a1-a686-cb9871afa10e",
   "metadata": {},
   "outputs": [
    {
     "data": {
      "text/plain": [
       "6"
      ]
     },
     "execution_count": 35,
     "metadata": {},
     "output_type": "execute_result"
    }
   ],
   "source": [
    "test_arr[1,2] #배열로 접근 가능함. test[1,2] 에러남 test에서는 test[1][2] 처럼 인덱스로 접근"
   ]
  },
  {
   "cell_type": "code",
   "execution_count": 42,
   "id": "c7b3f4c8-c4ad-4af7-87f3-e30eaf29ca32",
   "metadata": {},
   "outputs": [
    {
     "data": {
      "text/plain": [
       "[100, 200, 300]"
      ]
     },
     "execution_count": 42,
     "metadata": {},
     "output_type": "execute_result"
    }
   ],
   "source": [
    "a_arr = np.array(a)\n",
    "a_arr[0]\n",
    "a[:3]"
   ]
  },
  {
   "cell_type": "code",
   "execution_count": 41,
   "id": "d00f5d49-4296-4356-9f51-fd216b8826ff",
   "metadata": {},
   "outputs": [
    {
     "ename": "TypeError",
     "evalue": "list indices must be integers or slices, not list",
     "output_type": "error",
     "traceback": [
      "\u001b[1;31m---------------------------------------------------------------------------\u001b[0m",
      "\u001b[1;31mTypeError\u001b[0m                                 Traceback (most recent call last)",
      "Cell \u001b[1;32mIn[41], line 1\u001b[0m\n\u001b[1;32m----> 1\u001b[0m arr[[\u001b[38;5;241m0\u001b[39m,\u001b[38;5;241m1\u001b[39m,\u001b[38;5;241m3\u001b[39m]]\n",
      "\u001b[1;31mTypeError\u001b[0m: list indices must be integers or slices, not list"
     ]
    }
   ],
   "source": [
    "arr[[0,1,3]] # - > 인덱스 자리에 내가 보고자 하는 것들을 덩어리로 던질 수 있음.\n",
    "#              - > 인덱스 자리에 보고자 하는 값들 리스트도 들어 있음\n",
    "# => numpy 를 기반을 하는 값의 접근에 그냥 보고자하는 거 덩어리"
   ]
  },
  {
   "cell_type": "code",
   "execution_count": 43,
   "id": "4a444e57-0fb4-4204-97a9-6084c09d06ed",
   "metadata": {},
   "outputs": [
    {
     "data": {
      "text/plain": [
       "dtype('int32')"
      ]
     },
     "execution_count": 43,
     "metadata": {},
     "output_type": "execute_result"
    }
   ],
   "source": [
    "# 참고) 강제로 값의 타입 변경\n",
    "b=[1,2,3]\n",
    "b_arr = np.array(b)\n",
    "b_arr.dtype"
   ]
  },
  {
   "cell_type": "code",
   "execution_count": 44,
   "id": "d10626d0-e30b-4472-a14f-9efdbe8d23ba",
   "metadata": {},
   "outputs": [
    {
     "data": {
      "text/plain": [
       "dtype('S1')"
      ]
     },
     "execution_count": 44,
     "metadata": {},
     "output_type": "execute_result"
    }
   ],
   "source": [
    "# dtype에는 numpy가 정한 메뉴얼상 정한 값의 타입을 지정할 수 있음.\n",
    "# -> 훨씬 많은 타입이 있음.\n",
    "b_arr = np.array(b, dtype=np.string_)\n",
    "b_arr.dtype"
   ]
  },
  {
   "cell_type": "code",
   "execution_count": 46,
   "id": "3c5b007d-da8a-4447-a0a0-0bf73bdf3b0c",
   "metadata": {},
   "outputs": [
    {
     "data": {
      "text/plain": [
       "array([1., 2., 3.])"
      ]
     },
     "execution_count": 46,
     "metadata": {},
     "output_type": "execute_result"
    }
   ],
   "source": [
    "# 데이터를 불러놓고, 원하는 형이 아니여서 변경할 때.\n",
    "# -> 강제적으로 내부 데이터 타입 변경!\n",
    "b_arr.astype(np.float64)"
   ]
  },
  {
   "cell_type": "code",
   "execution_count": 47,
   "id": "a61fdb5e-72ba-468e-88ea-28a8f80d7ab3",
   "metadata": {},
   "outputs": [
    {
     "data": {
      "text/plain": [
       "array([b'1', b'2', b'3'], dtype='|S1')"
      ]
     },
     "execution_count": 47,
     "metadata": {},
     "output_type": "execute_result"
    }
   ],
   "source": [
    "b_arr # --> astype은 재할당을 해야함. 기존 데이터는 바뀌지 않는다."
   ]
  },
  {
   "cell_type": "markdown",
   "id": "e1e2a1f0-6653-4e0e-a60e-c32ca58c0419",
   "metadata": {},
   "source": [
    "## numpy 인덱싱 연습"
   ]
  },
  {
   "cell_type": "code",
   "execution_count": 48,
   "id": "0a0c9c22-9ad0-4493-8449-8519f6085b7b",
   "metadata": {},
   "outputs": [
    {
     "data": {
      "text/plain": [
       "[[0, 1, 2, 3, 4, 5],\n",
       " [10, 11, 12, 13, 14, 15],\n",
       " [20, 21, 22, 23, 24, 25],\n",
       " [30, 31, 32, 33, 34, 35],\n",
       " [40, 41, 42, 43, 44, 45],\n",
       " [50, 51, 52, 53, 54, 55]]"
      ]
     },
     "execution_count": 48,
     "metadata": {},
     "output_type": "execute_result"
    }
   ],
   "source": [
    "# 주어진 2차원 array에 대해서 생성할 때\n",
    "# m1) 그냥 직접 값들을 다 작성하는 방법\n",
    "# m2) 벡터연산을 활용하는 방법 : 규칙\n",
    "\n",
    "m=[\n",
    "    [0,1,2,3,4,5],\n",
    "    [10,11,12,13,14,15],\n",
    "    [20,21,22,23,24,25],\n",
    "    [30,31,32,33,34,35],\n",
    "    [40,41,42,43,44,45],\n",
    "    [50,51,52,53,54,55],\n",
    "]\n",
    "m"
   ]
  },
  {
   "cell_type": "code",
   "execution_count": 51,
   "id": "9300f48d-f749-4fde-9647-0fc4500b66c9",
   "metadata": {},
   "outputs": [
    {
     "data": {
      "text/plain": [
       "[0, 1, 2, 3, 4, 5]"
      ]
     },
     "execution_count": 51,
     "metadata": {},
     "output_type": "execute_result"
    }
   ],
   "source": [
    "list(range(0,6,1)) #생 파이썬"
   ]
  },
  {
   "cell_type": "raw",
   "id": "8ca461bc-cbfb-484e-b525-5b22bead1c52",
   "metadata": {},
   "source": [
    "np.arange(0,6,1) # numpy가 array로 값들을 만들 때..."
   ]
  },
  {
   "cell_type": "code",
   "execution_count": 57,
   "id": "2761068a-87cb-4b48-bc45-df359afd0fe0",
   "metadata": {},
   "outputs": [
    {
     "data": {
      "text/plain": [
       "array([[ 0],\n",
       "       [10],\n",
       "       [20],\n",
       "       [30],\n",
       "       [40],\n",
       "       [50]])"
      ]
     },
     "execution_count": 57,
     "metadata": {},
     "output_type": "execute_result"
    }
   ],
   "source": [
    "# 앞에 시작하는 컬럼 벡터 0, 10, 20... :2D\n",
    "np.arange(0, 51, 10)[:,np.newaxis] # 가로줄은 처음부터 끝까지. 세로줄은 축으로\n"
   ]
  },
  {
   "cell_type": "code",
   "execution_count": 63,
   "id": "c39b2732-280a-4bfc-9258-04a81172b0fe",
   "metadata": {},
   "outputs": [
    {
     "data": {
      "text/plain": [
       "array([[ 0,  1,  2,  3,  4,  5],\n",
       "       [10, 11, 12, 13, 14, 15],\n",
       "       [20, 21, 22, 23, 24, 25],\n",
       "       [30, 31, 32, 33, 34, 35],\n",
       "       [40, 41, 42, 43, 44, 45],\n",
       "       [50, 51, 52, 53, 54, 55]])"
      ]
     },
     "execution_count": 63,
     "metadata": {},
     "output_type": "execute_result"
    }
   ],
   "source": [
    "a = np.arange(0, 51, 10)[:,np.newaxis] + np.arange(0,6,1)\n",
    "a\n",
    "#벡터 연상을 통해 규칙이 있는 2d를 만들 수 있다."
   ]
  },
  {
   "cell_type": "code",
   "execution_count": 64,
   "id": "beb525f7-5a92-4379-b712-f0a48b7a06aa",
   "metadata": {},
   "outputs": [
    {
     "name": "stdout",
     "output_type": "stream",
     "text": [
      "int32\n",
      "2\n",
      "(6, 6)\n"
     ]
    }
   ],
   "source": [
    "print(a.dtype)\n",
    "print(a.ndim)\n",
    "print(a.shape)"
   ]
  },
  {
   "cell_type": "code",
   "execution_count": 66,
   "id": "d6eddb3b-5d15-4e44-9483-a0f2353b0645",
   "metadata": {},
   "outputs": [
    {
     "data": {
      "text/plain": [
       "12"
      ]
     },
     "execution_count": 66,
     "metadata": {},
     "output_type": "execute_result"
    }
   ],
   "source": [
    "#### 원하는 값에 대한 2차원에 대한 접근 연습!\n",
    "# 예) 12값에 대한 접근\n",
    "# 생파이썬 - > 순차적 접근\n",
    "a[1][2]"
   ]
  },
  {
   "cell_type": "code",
   "execution_count": 67,
   "id": "e19fdaac-5797-4b82-9324-4774fe8d6356",
   "metadata": {},
   "outputs": [
    {
     "data": {
      "text/plain": [
       "12"
      ]
     },
     "execution_count": 67,
     "metadata": {},
     "output_type": "execute_result"
    }
   ],
   "source": [
    "# numpy 바로 접근이 가능함!\n",
    "a[1,2]"
   ]
  },
  {
   "cell_type": "code",
   "execution_count": 68,
   "id": "afed5036-a0e6-4d9c-a21d-eb2441955548",
   "metadata": {},
   "outputs": [],
   "source": [
    "# 정리) numpy 에서 2D 차원 데이터의 값의 접근 방식!\n",
    "# 1) 생 파이썬 리스트 처럼 : 가로 접근 후에 -> 새로 접근하는 a[가로][세로] \n",
    "# 2) 원하는 포지션을 직접 지정\n",
    "# -> 가로 어디, 세로 어디\n",
    "# a[가로 , 세로]"
   ]
  },
  {
   "cell_type": "code",
   "execution_count": 72,
   "id": "83144fbd-b301-420a-8447-980053c426a2",
   "metadata": {},
   "outputs": [
    {
     "data": {
      "text/plain": [
       "array([2, 3])"
      ]
     },
     "execution_count": 72,
     "metadata": {},
     "output_type": "execute_result"
    }
   ],
   "source": [
    "# Q) 처음 줄 2,3 접근 방식은?\n",
    "a[0][2:4]"
   ]
  },
  {
   "cell_type": "code",
   "execution_count": 73,
   "id": "e9ef098c-e01b-47c4-b71e-9c5ae8e236db",
   "metadata": {},
   "outputs": [
    {
     "data": {
      "text/plain": [
       "array([2, 3])"
      ]
     },
     "execution_count": 73,
     "metadata": {},
     "output_type": "execute_result"
    }
   ],
   "source": [
    "a[0,2:4]"
   ]
  },
  {
   "cell_type": "code",
   "execution_count": 74,
   "id": "a06ac5ad-2977-4295-bb94-cbf996178f34",
   "metadata": {},
   "outputs": [
    {
     "data": {
      "text/plain": [
       "array([ 2, 12, 22, 32, 42, 52])"
      ]
     },
     "execution_count": 74,
     "metadata": {},
     "output_type": "execute_result"
    }
   ],
   "source": [
    "# Q) 2번째 세로줄에 대한 접근! \n",
    "a[:,2]"
   ]
  },
  {
   "cell_type": "code",
   "execution_count": 76,
   "id": "8edcdf48-94d9-4956-bfb5-5026e4393675",
   "metadata": {},
   "outputs": [
    {
     "data": {
      "text/plain": [
       "array([[20, 22, 24],\n",
       "       [40, 42, 44]])"
      ]
     },
     "execution_count": 76,
     "metadata": {},
     "output_type": "execute_result"
    }
   ],
   "source": [
    "# 연습 20,22,24, 40, 42,44 접근\n",
    "a[2::2,::2]"
   ]
  },
  {
   "cell_type": "code",
   "execution_count": 77,
   "id": "486ed426-20c5-489f-b9c1-f23f07aa8caf",
   "metadata": {},
   "outputs": [
    {
     "data": {
      "text/plain": [
       "array([[44, 45],\n",
       "       [54, 55]])"
      ]
     },
     "execution_count": 77,
     "metadata": {},
     "output_type": "execute_result"
    }
   ],
   "source": [
    "# 연습 44, 45, 54,55 접근\n",
    "a[4:6,4:6]"
   ]
  },
  {
   "cell_type": "code",
   "execution_count": null,
   "id": "77135dc9-5b2e-411c-a00c-c831c066c9e2",
   "metadata": {},
   "outputs": [],
   "source": [
    "### 중요!\n",
    "# 불리언 인덱싱!\n",
    "# 인데싱 : 정수, 슬라이싱, 리스트(주의) : 가로,세로 독립적\n",
    "#          + 조건식이 들어감\n",
    "# 불리언 인덱싱  :numpy의 array의 인덱스 자리에 조건식이 들어간다.\n",
    "# --> 필터링! (조건 검색!) : sql where having~\n",
    "#     pandas에서 데이터에 필터링을 할 때 필터링한 조건을 인덱스 자리에 작성을 함!\n",
    "# + 벡터 연산을 이해를 해야 함!\n",
    "\n"
   ]
  },
  {
   "cell_type": "code",
   "execution_count": 79,
   "id": "e95fe245-7956-4f84-9afd-4f88b4f54c1d",
   "metadata": {},
   "outputs": [
    {
     "data": {
      "text/plain": [
       "array([0, 1, 2, 3, 4, 5, 6, 7, 8, 9])"
      ]
     },
     "execution_count": 79,
     "metadata": {},
     "output_type": "execute_result"
    }
   ],
   "source": [
    "test_arr = np.arange(10)\n",
    "test_arr"
   ]
  },
  {
   "cell_type": "code",
   "execution_count": 81,
   "id": "fe08251f-daab-44b3-a91d-4af7b5f17a73",
   "metadata": {},
   "outputs": [
    {
     "data": {
      "text/plain": [
       "array([ True,  True,  True,  True,  True, False, False, False, False,\n",
       "       False])"
      ]
     },
     "execution_count": 81,
     "metadata": {},
     "output_type": "execute_result"
    }
   ],
   "source": [
    "# 예) 5보다 작은 값들을 추리고 싶다. --> 필터링, where\n",
    "test_arr <5"
   ]
  },
  {
   "cell_type": "code",
   "execution_count": 82,
   "id": "5ff39bce-f386-40dd-934c-37c1debf4902",
   "metadata": {},
   "outputs": [
    {
     "data": {
      "text/plain": [
       "array([0, 1, 2, 3, 4])"
      ]
     },
     "execution_count": 82,
     "metadata": {},
     "output_type": "execute_result"
    }
   ],
   "source": [
    "test_arr[test_arr<5]\n",
    "# 인덱스 자리에 조건식이 들어가서 모든 원소에 해당하는 조건에 맞는 여부를 물어보고(벡터 연산)\n",
    "# 인덱스에 T/F가 T에 해당하는 값만 출력하는데, : 필터링!"
   ]
  },
  {
   "cell_type": "code",
   "execution_count": 87,
   "id": "af21b5cf-f05c-4f36-8e51-b7963ae4466a",
   "metadata": {},
   "outputs": [
    {
     "data": {
      "text/plain": [
       "45"
      ]
     },
     "execution_count": 87,
     "metadata": {},
     "output_type": "execute_result"
    }
   ],
   "source": [
    "test_list = list(test_arr)\n",
    "sum(test_list)"
   ]
  },
  {
   "cell_type": "code",
   "execution_count": 88,
   "id": "cf2e8611-ef93-41d4-b225-e0590f2f1bba",
   "metadata": {},
   "outputs": [
    {
     "data": {
      "text/plain": [
       "45"
      ]
     },
     "execution_count": 88,
     "metadata": {},
     "output_type": "execute_result"
    }
   ],
   "source": [
    "test_arr.sum() # 이미 패키지가 만든 기능이 있따면 그 기능을 쓰는 것을 추천함."
   ]
  },
  {
   "cell_type": "markdown",
   "id": "0c74f439-e772-4e15-8962-cd9dd42cb453",
   "metadata": {},
   "source": [
    "## pandas"
   ]
  },
  {
   "cell_type": "code",
   "execution_count": 89,
   "id": "533ca422-9b82-4b91-8de6-6cf579d7aff6",
   "metadata": {},
   "outputs": [],
   "source": [
    "\n",
    "# 생성1) 파이썬 리스트\n",
    "stock_price_list = [10000, 10300, 9900, 10500, 11000]\n",
    "# 생성2) numpy -> array\n",
    "stock_price_arr = np.array(stock_price_list)\n",
    "# 생성3) 1차워 series\n",
    "stock_price_Series = pd.Series(stock_price_list)"
   ]
  },
  {
   "cell_type": "code",
   "execution_count": 91,
   "id": "7cebd7f1-38d3-4b10-8a59-5eeb35d4f9b7",
   "metadata": {},
   "outputs": [
    {
     "name": "stdout",
     "output_type": "stream",
     "text": [
      "[10000, 10300, 9900, 10500, 11000]\n",
      "[10000 10300  9900 10500 11000]\n",
      "0    10000\n",
      "1    10300\n",
      "2     9900\n",
      "3    10500\n",
      "4    11000\n",
      "dtype: int64\n"
     ]
    }
   ],
   "source": [
    "print(stock_price_list)\n",
    "print(stock_price_arr)\n",
    "print(stock_price_Series)"
   ]
  },
  {
   "cell_type": "code",
   "execution_count": 92,
   "id": "4e29a60e-4d65-4050-81df-aa3d9412111f",
   "metadata": {},
   "outputs": [
    {
     "name": "stdout",
     "output_type": "stream",
     "text": [
      "10000\n",
      "10000\n",
      "10000\n"
     ]
    }
   ],
   "source": [
    "# 1번 주식 가격에 대한 접근\n",
    "print(stock_price_list[0])\n",
    "print(stock_price_arr[0])\n",
    "print(stock_price_Series[0])"
   ]
  },
  {
   "cell_type": "code",
   "execution_count": 93,
   "id": "206f3b8e-a6c2-4b6f-8377-278de82f6dbf",
   "metadata": {},
   "outputs": [
    {
     "name": "stdout",
     "output_type": "stream",
     "text": [
      "[10000, 10300, 9900, 10500]\n",
      "[10000 10300  9900 10500]\n",
      "0    10000\n",
      "1    10300\n",
      "2     9900\n",
      "3    10500\n",
      "dtype: int64\n"
     ]
    }
   ],
   "source": [
    "# 1~3번 주식 가격에 대한 접근\n",
    "print(stock_price_list[0:4])\n",
    "print(stock_price_arr[0:4])\n",
    "print(stock_price_Series[0:4])"
   ]
  },
  {
   "cell_type": "code",
   "execution_count": 94,
   "id": "e7bbe8d9-6d61-4abb-9f15-41d44fb5686b",
   "metadata": {},
   "outputs": [
    {
     "ename": "TypeError",
     "evalue": "list indices must be integers or slices, not list",
     "output_type": "error",
     "traceback": [
      "\u001b[1;31m---------------------------------------------------------------------------\u001b[0m",
      "\u001b[1;31mTypeError\u001b[0m                                 Traceback (most recent call last)",
      "Cell \u001b[1;32mIn[94], line 2\u001b[0m\n\u001b[0;32m      1\u001b[0m \u001b[38;5;66;03m# 내가 보고자 하는 게 0번째 주가하고 4번째 주가만 보자\u001b[39;00m\n\u001b[1;32m----> 2\u001b[0m stock_price_list[[\u001b[38;5;241m0\u001b[39m,\u001b[38;5;241m4\u001b[39m]]\n",
      "\u001b[1;31mTypeError\u001b[0m: list indices must be integers or slices, not list"
     ]
    }
   ],
   "source": [
    "# 내가 보고자 하는 게 0번째 주가하고 4번째 주가만 보자\n",
    "stock_price_list[[0,4]]"
   ]
  },
  {
   "cell_type": "code",
   "execution_count": 95,
   "id": "aa5c009d-9893-41bf-96bb-94cca3b605e5",
   "metadata": {},
   "outputs": [
    {
     "data": {
      "text/plain": [
       "array([10000, 11000])"
      ]
     },
     "execution_count": 95,
     "metadata": {},
     "output_type": "execute_result"
    }
   ],
   "source": [
    "stock_price_arr[[0,4]]"
   ]
  },
  {
   "cell_type": "code",
   "execution_count": 96,
   "id": "e61b8187-f9c8-4d2d-8079-ab59d2f71bc7",
   "metadata": {},
   "outputs": [
    {
     "data": {
      "text/plain": [
       "0    10000\n",
       "4    11000\n",
       "dtype: int64"
      ]
     },
     "execution_count": 96,
     "metadata": {},
     "output_type": "execute_result"
    }
   ],
   "source": [
    "stock_price_Series[[0,4]]"
   ]
  },
  {
   "cell_type": "code",
   "execution_count": 97,
   "id": "76d3a1ab-8136-41eb-ba6c-e1c922f9f218",
   "metadata": {},
   "outputs": [
    {
     "data": {
      "text/plain": [
       "2024-04-01    10000\n",
       "2024-04-02    10300\n",
       "2024-04-03     9900\n",
       "2024-04-04    10500\n",
       "2024-04-5     11000\n",
       "dtype: int64"
      ]
     },
     "execution_count": 97,
     "metadata": {},
     "output_type": "execute_result"
    }
   ],
   "source": [
    "# 특별하게 하지 않으면, 그냥 값들만 모아둔 것이라서\n",
    "# 정수인덱스는 태생적으로 가지게 됨!\n",
    "stock_price_Series_index = pd.Series(\n",
    "    # 데이터 값, 내가 원하는 인덱스 같이..\n",
    "    data = [10000,10300,9900,10500,11000],\n",
    "    index = ['2024-04-01','2024-04-02','2024-04-03','2024-04-04','2024-04-5']\n",
    ") ## 똑같은 시리즌데 내가 지정한 index가 있으면 그걸로 지정해줌.\n",
    "stock_price_Series_index"
   ]
  },
  {
   "cell_type": "code",
   "execution_count": 98,
   "id": "d8fc9a59-0b94-461a-83ed-dc95a88ae901",
   "metadata": {},
   "outputs": [
    {
     "data": {
      "text/plain": [
       "10000"
      ]
     },
     "execution_count": 98,
     "metadata": {},
     "output_type": "execute_result"
    }
   ],
   "source": [
    "stock_price_Series_index['2024-04-01']"
   ]
  },
  {
   "cell_type": "code",
   "execution_count": 99,
   "id": "c34bd588-fd9d-4e6e-8b02-5a5bf0c9caf6",
   "metadata": {},
   "outputs": [
    {
     "data": {
      "text/plain": [
       "2024-04-01    10000\n",
       "2024-04-02    10300\n",
       "dtype: int64"
      ]
     },
     "execution_count": 99,
     "metadata": {},
     "output_type": "execute_result"
    }
   ],
   "source": [
    "stock_price_Series_index[['2024-04-01','2024-04-02']] # 냅다 index 뭉탱이 던지기!!"
   ]
  },
  {
   "cell_type": "code",
   "execution_count": 100,
   "id": "0ac2405a-106c-438a-be53-a24d1ef515d0",
   "metadata": {},
   "outputs": [
    {
     "data": {
      "text/plain": [
       "10000"
      ]
     },
     "execution_count": 100,
     "metadata": {},
     "output_type": "execute_result"
    }
   ],
   "source": [
    "# 참고) 쌩파이썬의 dict 처럼 exact matching -> 공백, 대소문자, 오타 등에 유의를 해야함\n",
    "stock_price_Series_index['2024-04-01']"
   ]
  },
  {
   "cell_type": "code",
   "execution_count": 101,
   "id": "bdeeb3ac-5af8-49c4-bfc1-0a4c9b3eef7d",
   "metadata": {},
   "outputs": [],
   "source": [
    "# numpy에 다가 + 내가 만든 인덱스를 핸들링 할 수 있는 기능 추가\n",
    "# => numpy 의 대부분의 기능을 가지고 있음\n",
    "# 불리언 인덱싱이 여기서도?\n",
    "# 예) 주식 가격이 10000원이 넘는 데이터만 추려보자!"
   ]
  },
  {
   "cell_type": "code",
   "execution_count": 102,
   "id": "3f8203e6-3125-4592-a7d0-c3c4ebf66c2e",
   "metadata": {},
   "outputs": [
    {
     "data": {
      "text/plain": [
       "2024-04-02    10300\n",
       "2024-04-04    10500\n",
       "2024-04-5     11000\n",
       "dtype: int64"
      ]
     },
     "execution_count": 102,
     "metadata": {},
     "output_type": "execute_result"
    }
   ],
   "source": [
    "stock_price_Series_index[stock_price_Series_index>10000]"
   ]
  },
  {
   "cell_type": "code",
   "execution_count": null,
   "id": "47c5a742-21a1-4499-b2d7-007cb3a4d5f4",
   "metadata": {},
   "outputs": [],
   "source": [
    "# 참고) dict 하고 상당히 유사하게 동작을 함! key+ values\n",
    "# pandas index(정수, 내가 만든거) + value"
   ]
  },
  {
   "cell_type": "code",
   "execution_count": 103,
   "id": "46f2cb5a-fb03-4eb4-9157-93426f700810",
   "metadata": {},
   "outputs": [
    {
     "data": {
      "text/plain": [
       "Index(['2024-04-01', '2024-04-02', '2024-04-03', '2024-04-04', '2024-04-5'], dtype='object')"
      ]
     },
     "execution_count": 103,
     "metadata": {},
     "output_type": "execute_result"
    }
   ],
   "source": [
    "stock_price_Series_index.index"
   ]
  },
  {
   "cell_type": "code",
   "execution_count": 104,
   "id": "1c7dbfa5-7cec-4517-9635-79001c4dfffa",
   "metadata": {},
   "outputs": [
    {
     "data": {
      "text/plain": [
       "array([10000, 10300,  9900, 10500, 11000], dtype=int64)"
      ]
     },
     "execution_count": 104,
     "metadata": {},
     "output_type": "execute_result"
    }
   ],
   "source": [
    "stock_price_Series_index.values"
   ]
  },
  {
   "cell_type": "code",
   "execution_count": null,
   "id": "8373a139-62c5-465b-a7df-d3ea80dff324",
   "metadata": {},
   "outputs": [],
   "source": [
    "# 참고) 자료형이 파이썬의 dict는 key중심으로 체크\n",
    "# 파이썬의 리스트는 value 중심으로 체크\n",
    "# pandas 에서는? index! 값이 아니라!!!! 인덱스 중심!!!!!"
   ]
  },
  {
   "cell_type": "code",
   "execution_count": null,
   "id": "bfe1b3ae-9976-48d9-b556-fd0ce4bd5ba9",
   "metadata": {},
   "outputs": [],
   "source": [
    "# 알아둘 사항 : 생파이썬의 dict <-> pandas SEries/DataFrame\n",
    "# -> 데이터 수집 할 때 사용할 수 있음. 데이터 크롤링 할 때!"
   ]
  },
  {
   "cell_type": "code",
   "execution_count": 105,
   "id": "9d8cc5da-0a1a-46d6-b79f-12595e805bd1",
   "metadata": {},
   "outputs": [
    {
     "data": {
      "text/plain": [
       "{'APPL': 1000, 'MS': 2000, 'TSLA': 1500}"
      ]
     },
     "execution_count": 105,
     "metadata": {},
     "output_type": "execute_result"
    }
   ],
   "source": [
    "s_data = {\"APPL\" : 1000, \"MS\":2000,\"TSLA\":1500}\n",
    "s_data"
   ]
  },
  {
   "cell_type": "code",
   "execution_count": 106,
   "id": "16ca3d4e-1f08-454f-9ab4-b21f0a9b8e62",
   "metadata": {},
   "outputs": [
    {
     "data": {
      "text/plain": [
       "1000"
      ]
     },
     "execution_count": 106,
     "metadata": {},
     "output_type": "execute_result"
    }
   ],
   "source": [
    "s_data['APPL']"
   ]
  },
  {
   "cell_type": "code",
   "execution_count": 107,
   "id": "1bc45881-e881-4cf6-9e56-eb0f0362fb9d",
   "metadata": {},
   "outputs": [
    {
     "ename": "KeyError",
     "evalue": "0",
     "output_type": "error",
     "traceback": [
      "\u001b[1;31m---------------------------------------------------------------------------\u001b[0m",
      "\u001b[1;31mKeyError\u001b[0m                                  Traceback (most recent call last)",
      "Cell \u001b[1;32mIn[107], line 1\u001b[0m\n\u001b[1;32m----> 1\u001b[0m s_data[\u001b[38;5;241m0\u001b[39m]\n",
      "\u001b[1;31mKeyError\u001b[0m: 0"
     ]
    }
   ],
   "source": [
    "s_data[0] ##정수 인덱스로 접근이 안됨."
   ]
  },
  {
   "cell_type": "code",
   "execution_count": 108,
   "id": "b008dfd9-878a-46de-bcd4-5ada8cf74686",
   "metadata": {},
   "outputs": [
    {
     "data": {
      "text/plain": [
       "APPL    1000\n",
       "MS      2000\n",
       "TSLA    1500\n",
       "dtype: int64"
      ]
     },
     "execution_count": 108,
     "metadata": {},
     "output_type": "execute_result"
    }
   ],
   "source": [
    "s_data_Series = pd.Series(s_data)\n",
    "s_data_Series"
   ]
  },
  {
   "cell_type": "code",
   "execution_count": 109,
   "id": "749336fb-dd96-401c-a428-8816ffae6c2c",
   "metadata": {},
   "outputs": [
    {
     "data": {
      "text/plain": [
       "1000"
      ]
     },
     "execution_count": 109,
     "metadata": {},
     "output_type": "execute_result"
    }
   ],
   "source": [
    "s_data_Series[\"APPL\"]"
   ]
  },
  {
   "cell_type": "code",
   "execution_count": 110,
   "id": "7af02f89-b1e3-4e74-986c-58a6a1dd1a8a",
   "metadata": {},
   "outputs": [
    {
     "name": "stderr",
     "output_type": "stream",
     "text": [
      "C:\\Users\\NT551XCJ\\AppData\\Local\\Temp\\ipykernel_4700\\670982772.py:1: FutureWarning: Series.__getitem__ treating keys as positions is deprecated. In a future version, integer keys will always be treated as labels (consistent with DataFrame behavior). To access a value by position, use `ser.iloc[pos]`\n",
      "  s_data_Series[0]\n"
     ]
    },
    {
     "data": {
      "text/plain": [
       "1000"
      ]
     },
     "execution_count": 110,
     "metadata": {},
     "output_type": "execute_result"
    }
   ],
   "source": [
    "s_data_Series[0] #정수 인덱스로 접근 가능!"
   ]
  },
  {
   "cell_type": "code",
   "execution_count": null,
   "id": "8de3c38b-6a44-491a-91f7-0ffd5af7d757",
   "metadata": {},
   "outputs": [],
   "source": [
    "# 참고) pandas 의 핵심은 => 내가 만든 인덱스!\n",
    "# pandas의 기본적인 동작 방식 : 내가 만든 인덱스/ 인덱스!\n"
   ]
  },
  {
   "cell_type": "code",
   "execution_count": 113,
   "id": "d8545511-0060-4f17-a2bb-b7f9b2fba3d4",
   "metadata": {},
   "outputs": [
    {
     "data": {
      "text/plain": [
       "GOOGLE       NaN\n",
       "APPL      1000.0\n",
       "MS        2000.0\n",
       "META         NaN\n",
       "dtype: float64"
      ]
     },
     "execution_count": 113,
     "metadata": {},
     "output_type": "execute_result"
    }
   ],
   "source": [
    "s_data = {\"APPL\" : 1000, \"MS\":2000,\"TSLA\":1500}\n",
    "s_1 = pd.Series(s_data)\n",
    "ticker = [\"GOOGLE\",\"APPL\",\"MS\",\"META\"]\n",
    "s_2 = pd.Series(s_data, index = ticker)\n",
    "s_2"
   ]
  },
  {
   "cell_type": "code",
   "execution_count": 117,
   "id": "1e95612d-faaf-4e7c-afe8-61f2db721735",
   "metadata": {},
   "outputs": [
    {
     "data": {
      "text/plain": [
       "APPL      2000.0\n",
       "GOOGLE       NaN\n",
       "META         NaN\n",
       "MS        4000.0\n",
       "TSLA         NaN\n",
       "dtype: float64"
      ]
     },
     "execution_count": 117,
     "metadata": {},
     "output_type": "execute_result"
    }
   ],
   "source": [
    "temp = s_1+ s_2\n",
    "temp"
   ]
  },
  {
   "cell_type": "code",
   "execution_count": null,
   "id": "b6ddeff2-5c91-48f0-8ca8-32ae2b6d98a0",
   "metadata": {},
   "outputs": [],
   "source": [
    "# s_1 : appl, ms, tsla\n",
    "# s_2 : google, apple, ms, meta\n",
    "\n",
    "# -> pandas 에서는 index 에 대해서 대충 처리하면, 원하지 않는 row가 생성됨.\n",
    "# 그래서 결측치 데이터에 대한 처리가 중요!\n",
    "# -> 자주 사용되는 메서드!\n",
    "# .isnull(): 너 값이 결측값이냐? -> T/F\n",
    "# .notnull(): 정상값이냐? -> T/F\n",
    "\n",
    "# -> T/F에 따라서 원하는 조건의 값들만 필터링!\n",
    "# + 불리언 인덱싱이랑 결합되는 부분이 있음"
   ]
  },
  {
   "cell_type": "code",
   "execution_count": 119,
   "id": "e41a9073-c4b8-4040-a2b7-ba287b7d5033",
   "metadata": {},
   "outputs": [
    {
     "data": {
      "text/plain": [
       "APPL    2000.0\n",
       "MS      4000.0\n",
       "dtype: float64"
      ]
     },
     "execution_count": 119,
     "metadata": {},
     "output_type": "execute_result"
    }
   ],
   "source": [
    "# 실제 받은 데이터에서 결측치들만 체크\n",
    "# -> 빈 데이터들에 대해 확인할 때 사용!\n",
    "temp[temp.isnull()]\n",
    "\n",
    "# 정상적인 데이터만 보겠다!\n",
    "temp[temp.notnull()]\n"
   ]
  },
  {
   "cell_type": "code",
   "execution_count": null,
   "id": "733cfdfc-377a-4f4d-b34f-db97c63544fc",
   "metadata": {},
   "outputs": [],
   "source": [
    "#위의 경우들이 FM 적으로 맞는 말인데\n",
    "# 실제 데이터들을 처리하다보면, 더 단순 기능으로는 안 되는 것들\n",
    "# NaN 처리가 되는 애들만 걸러주는 역할이..\n",
    "\n",
    "\"\"\n",
    "None\n",
    "# -> 코드적인 부분만이 아니라 실제 데이터들을 보면서\n",
    "#     결측값에 대한 처리를 해야함.\n"
   ]
  },
  {
   "cell_type": "code",
   "execution_count": 120,
   "id": "32840544-b353-4191-bd93-6946e1801e5a",
   "metadata": {},
   "outputs": [
    {
     "data": {
      "text/plain": [
       "1"
      ]
     },
     "execution_count": 120,
     "metadata": {},
     "output_type": "execute_result"
    }
   ],
   "source": [
    "# 기타) \n",
    "temp.ndim # 시리즈는 무조건 1차원\n"
   ]
  },
  {
   "cell_type": "code",
   "execution_count": 121,
   "id": "f72a2a94-407d-4681-872e-e16220141dce",
   "metadata": {},
   "outputs": [
    {
     "data": {
      "text/plain": [
       "(5,)"
      ]
     },
     "execution_count": 121,
     "metadata": {},
     "output_type": "execute_result"
    }
   ],
   "source": [
    "temp.shape #튜블로 나와서 접근하려면 temp.shape[0] 해야함"
   ]
  },
  {
   "cell_type": "code",
   "execution_count": 122,
   "id": "6bf92267-c8b3-43c0-8da3-b4560534522e",
   "metadata": {},
   "outputs": [
    {
     "data": {
      "text/plain": [
       "5"
      ]
     },
     "execution_count": 122,
     "metadata": {},
     "output_type": "execute_result"
    }
   ],
   "source": [
    "len(temp) # tmep.shape[0]이랑 똑같음"
   ]
  },
  {
   "cell_type": "code",
   "execution_count": 123,
   "id": "ef0e96e4-efe7-4d0b-a715-c10fe11a9b1e",
   "metadata": {},
   "outputs": [
    {
     "data": {
      "text/plain": [
       "dtype('float64')"
      ]
     },
     "execution_count": 123,
     "metadata": {},
     "output_type": "execute_result"
    }
   ],
   "source": [
    "temp.dtype"
   ]
  },
  {
   "cell_type": "code",
   "execution_count": null,
   "id": "d6e8dc25-c943-46c1-aa47-34f1cd805ca2",
   "metadata": {},
   "outputs": [],
   "source": [
    "# pandas 에서는 값에 대한 접근 방식 : FM 방법을 알아보겠음\n",
    "# 기존의 방식) 인덱스 자리에 내가 원하는 것을 던지자!\n",
    "#     -> 정수, 슬라이싱, 리스트 etc\n",
    "#     + 내가 만든 거 , 내가 만든 걸로 슬라이싱, 리스트\n",
    "#     + 조건식 기반의 불리언 인덱싱(필터링)\n",
    "\n",
    "# 앞의 결론) series[대충 던지면 됨]\n",
    "\n",
    "# 값이 많은 경우에는 FM 으로 해야 속도가 빠름!\n",
    "# -> 생각보다 많이 차이가 남!\n",
    "\n"
   ]
  },
  {
   "cell_type": "code",
   "execution_count": 127,
   "id": "fb05f197-b3fa-4124-bcc4-0dd880b7f15d",
   "metadata": {},
   "outputs": [],
   "source": [
    "stock_price_Series_index = pd.Series(\n",
    "    # 데이터 값, 내가 원하는 인덱스 같이..\n",
    "    data = [10000,10300,9900,10500,11000],\n",
    "    index = ['2024-04-01','2024-04-02','2024-04-03','2024-04-04','2024-04-5']\n",
    ")"
   ]
  },
  {
   "cell_type": "code",
   "execution_count": 128,
   "id": "2ea9ef73-ca17-4827-b1fd-b499a17a44be",
   "metadata": {},
   "outputs": [
    {
     "name": "stderr",
     "output_type": "stream",
     "text": [
      "C:\\Users\\NT551XCJ\\AppData\\Local\\Temp\\ipykernel_4700\\2592654350.py:1: FutureWarning: Series.__getitem__ treating keys as positions is deprecated. In a future version, integer keys will always be treated as labels (consistent with DataFrame behavior). To access a value by position, use `ser.iloc[pos]`\n",
      "  stock_price_Series_index[0]\n"
     ]
    },
    {
     "data": {
      "text/plain": [
       "10000"
      ]
     },
     "execution_count": 128,
     "metadata": {},
     "output_type": "execute_result"
    }
   ],
   "source": [
    "stock_price_Series_index[0]\n",
    "# 비공식적으로 가능하나 데이터가 많으면 속도 차이남."
   ]
  },
  {
   "cell_type": "code",
   "execution_count": 130,
   "id": "ca91ba79-93c1-4d22-8543-a97d132d40b4",
   "metadata": {},
   "outputs": [
    {
     "data": {
      "text/plain": [
       "10000"
      ]
     },
     "execution_count": 130,
     "metadata": {},
     "output_type": "execute_result"
    }
   ],
   "source": [
    "# 예 ) 정수 인덱스 0번째 접근 : FM\n",
    "stock_price_Series_index.iat[0]"
   ]
  },
  {
   "cell_type": "code",
   "execution_count": 131,
   "id": "1675463a-fa03-4fae-be5b-c716b27452c9",
   "metadata": {},
   "outputs": [
    {
     "data": {
      "text/plain": [
       "10000"
      ]
     },
     "execution_count": 131,
     "metadata": {},
     "output_type": "execute_result"
    }
   ],
   "source": [
    "stock_price_Series_index.iloc[0]\n",
    "# 속도 -> [0] > iloc[0]> iat[0]"
   ]
  },
  {
   "cell_type": "code",
   "execution_count": 137,
   "id": "738f0b36-25cc-46cd-a440-2302ae601e97",
   "metadata": {},
   "outputs": [
    {
     "data": {
      "text/plain": [
       "10000"
      ]
     },
     "execution_count": 137,
     "metadata": {},
     "output_type": "execute_result"
    }
   ],
   "source": [
    "# 예 ) 2024년 4월 4일 주식 가격은 얼마?\n",
    "# --> 내가 만든 인덱스 & 1개 : at\n",
    "stock_price_Series_index.at['2024-04-01']"
   ]
  },
  {
   "cell_type": "code",
   "execution_count": 138,
   "id": "2edd097b-afec-4020-aa2f-64e341838fa7",
   "metadata": {},
   "outputs": [
    {
     "data": {
      "text/plain": [
       "2024-04-01    10000\n",
       "2024-04-02    10300\n",
       "2024-04-03     9900\n",
       "2024-04-04    10500\n",
       "dtype: int64"
      ]
     },
     "execution_count": 138,
     "metadata": {},
     "output_type": "execute_result"
    }
   ],
   "source": [
    "# 예) 0번째부터 4번째 날의 주식 데이터를 보여주세요.\n",
    "stock_price_Series_index[:4]"
   ]
  },
  {
   "cell_type": "code",
   "execution_count": 139,
   "id": "5d893fbc-a4da-46dc-a302-3295329588f8",
   "metadata": {},
   "outputs": [
    {
     "data": {
      "text/plain": [
       "2024-04-01    10000\n",
       "2024-04-02    10300\n",
       "2024-04-03     9900\n",
       "2024-04-04    10500\n",
       "dtype: int64"
      ]
     },
     "execution_count": 139,
     "metadata": {},
     "output_type": "execute_result"
    }
   ],
   "source": [
    "stock_price_Series_index.iloc[:4]"
   ]
  },
  {
   "cell_type": "code",
   "execution_count": 140,
   "id": "7d28af2d-ab24-48cd-a874-06455d98e34f",
   "metadata": {},
   "outputs": [
    {
     "data": {
      "text/plain": [
       "2024-04-02    10300\n",
       "2024-04-03     9900\n",
       "2024-04-04    10500\n",
       "dtype: int64"
      ]
     },
     "execution_count": 140,
     "metadata": {},
     "output_type": "execute_result"
    }
   ],
   "source": [
    "# 예) 2024-04-02 부터 2024-04-04까지 주가데이터 보여주세요.\n",
    "stock_price_Series_index['2024-04-02':'2024-04-04'] #비공식"
   ]
  },
  {
   "cell_type": "code",
   "execution_count": 141,
   "id": "00af8751-7971-42d7-9307-f25db7095c8c",
   "metadata": {},
   "outputs": [
    {
     "data": {
      "text/plain": [
       "2024-04-02    10300\n",
       "2024-04-03     9900\n",
       "2024-04-04    10500\n",
       "dtype: int64"
      ]
     },
     "execution_count": 141,
     "metadata": {},
     "output_type": "execute_result"
    }
   ],
   "source": [
    "stock_price_Series_index.loc['2024-04-02':'2024-04-04'] #속도가 훨 빠름!!"
   ]
  },
  {
   "cell_type": "code",
   "execution_count": 142,
   "id": "9ec235fa-fef9-4003-9ff3-4ec509ec5e6f",
   "metadata": {},
   "outputs": [
    {
     "data": {
      "text/plain": [
       "51700"
      ]
     },
     "execution_count": 142,
     "metadata": {},
     "output_type": "execute_result"
    }
   ],
   "source": [
    "# 참고) 수치연산에 대한 기능도 있음 \n",
    "stock_price_Series_index.sum()"
   ]
  },
  {
   "cell_type": "code",
   "execution_count": 145,
   "id": "897b817f-ae70-4166-a91f-b4c71e5e8a01",
   "metadata": {},
   "outputs": [
    {
     "data": {
      "text/plain": [
       "51700"
      ]
     },
     "execution_count": 145,
     "metadata": {},
     "output_type": "execute_result"
    }
   ],
   "source": [
    "sum(stock_price_Series_index)"
   ]
  },
  {
   "cell_type": "code",
   "execution_count": 143,
   "id": "27a38a24-8cc0-4c43-895a-a14a9271d19a",
   "metadata": {},
   "outputs": [
    {
     "data": {
      "text/plain": [
       "5"
      ]
     },
     "execution_count": 143,
     "metadata": {},
     "output_type": "execute_result"
    }
   ],
   "source": [
    "stock_price_Series_index.count()"
   ]
  },
  {
   "cell_type": "code",
   "execution_count": 144,
   "id": "e19be410-df16-402c-9473-403b283d7c4a",
   "metadata": {},
   "outputs": [
    {
     "data": {
      "text/plain": [
       "11000"
      ]
     },
     "execution_count": 144,
     "metadata": {},
     "output_type": "execute_result"
    }
   ],
   "source": [
    "stock_price_Series_index.max()"
   ]
  },
  {
   "cell_type": "code",
   "execution_count": null,
   "id": "646b041d-5799-4a11-8f13-119d62df8267",
   "metadata": {},
   "outputs": [],
   "source": []
  }
 ],
 "metadata": {
  "kernelspec": {
   "display_name": "Python 3 (ipykernel)",
   "language": "python",
   "name": "python3"
  },
  "language_info": {
   "codemirror_mode": {
    "name": "ipython",
    "version": 3
   },
   "file_extension": ".py",
   "mimetype": "text/x-python",
   "name": "python",
   "nbconvert_exporter": "python",
   "pygments_lexer": "ipython3",
   "version": "3.11.7"
  }
 },
 "nbformat": 4,
 "nbformat_minor": 5
}
