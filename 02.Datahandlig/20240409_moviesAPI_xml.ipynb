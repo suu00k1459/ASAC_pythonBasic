{
 "cells": [
  {
   "cell_type": "code",
   "execution_count": 1,
   "id": "c6ba1040-6fa2-4e0b-850b-7d786441056f",
   "metadata": {},
   "outputs": [],
   "source": [
    "# XML ->> tag 중심의 언어!\n",
    "\n",
    "# <테그> 값 <테그>\n",
    "# <openDt></openDt> or <openDt/>\n",
    "# -> tag 중심으로 쌓아서 전달!\n"
   ]
  },
  {
   "cell_type": "code",
   "execution_count": 3,
   "id": "e516cfdf-fbf8-46b9-a6c5-415454100db5",
   "metadata": {},
   "outputs": [],
   "source": [
    "# 필요한 패키지\n",
    "\n",
    "import pandas as pd #데이터 처리를 위한 도구\n",
    "import urllib.request # http 통신으로 API에 정보 요청 & 받기\n",
    "# xml/html tag중심의 언어들에 대한 처리 : BeautifulSoup\n",
    "\n",
    "from bs4 import BeautifulSoup\n"
   ]
  },
  {
   "cell_type": "code",
   "execution_count": 5,
   "id": "31dbc534-08c9-4627-8210-6949b7440723",
   "metadata": {},
   "outputs": [
    {
     "data": {
      "text/plain": [
       "'http://www.kobis.or.kr/kobisopenapi/webservice/rest/movie/searchMovieList.xml?key=68195af132b8cc46b7dc02955585c26f&itemPerPage=40'"
      ]
     },
     "execution_count": 5,
     "metadata": {},
     "output_type": "execute_result"
    }
   ],
   "source": [
    "# step1) xml 양식으로 최신 영화 목록 40개 요청 url을 만들어 보세요.\n",
    "url_p1 = \"http://www.kobis.or.kr/kobisopenapi/webservice/rest/movie/searchMovieList.xml\"\n",
    "key = \"68195af132b8cc46b7dc02955585c26f\"\n",
    "\n",
    "url_p2 = \"40\"\n",
    "\n",
    "url = url_p1 + \"?key=\" + key+ \"&itemPerPage=\"+url_p2\n",
    "url"
   ]
  },
  {
   "cell_type": "code",
   "execution_count": 8,
   "id": "0370c576-e841-43cb-b352-e700827fc13f",
   "metadata": {},
   "outputs": [
    {
     "name": "stderr",
     "output_type": "stream",
     "text": [
      "C:\\Users\\NT551XCJ\\anaconda3\\Lib\\site-packages\\bs4\\builder\\__init__.py:545: XMLParsedAsHTMLWarning: It looks like you're parsing an XML document using an HTML parser. If this really is an HTML document (maybe it's XHTML?), you can ignore or filter this warning. If it's XML, you should know that using an XML parser will be more reliable. To parse this document as XML, make sure you have the lxml package installed, and pass the keyword argument `features=\"xml\"` into the BeautifulSoup constructor.\n",
      "  warnings.warn(\n"
     ]
    }
   ],
   "source": [
    "res = urllib.request.urlopen(url)\n",
    "# => xml 양식으로 요청한 정보들을 처리하기 위해서\n",
    "# bs : parse \"html.parser\", \" etc...\n",
    "#   일반적인 경우들에서는 html.parser를 사용해도 무방함.\n",
    "#   xml 의 사이즈 크거나 하면 별도의 parser로 해야함\n",
    "#   특수 parser는 메뉴얼 참조\n",
    "\n",
    "soup = BeautifulSoup(res, \"html.parser\")"
   ]
  },
  {
   "cell_type": "code",
   "execution_count": 11,
   "id": "1f402a51-4cbf-4f32-9483-96448714828c",
   "metadata": {},
   "outputs": [
    {
     "data": {
      "text/plain": [
       "'<?xml version=\"1.0\" encoding=\"utf-8\" standalone=\"yes\"?>\\n<movielistresult>\\n <totcnt>\\n  101023\\n </totcnt>\\n <movielist>\\n  <movie>\\n   <moviecd>\\n    20249587\\n   </moviecd>\\n   <movienm>\\n    부산국제단편영화제 나는 눈이다\\n   </movienm>\\n   <movienmen>\\n    I the eye\\n   </movienmen>\\n   <prdtyear>\\n    2024\\n   </prdtyear>\\n   <opendt>\\n   </opendt>\\n   <typenm>\\n    옴니버스\\n   </typenm>\\n   <prdtstatnm>\\n    기타\\n   </prdtstatnm>\\n   <nationalt>\\n    한국\\n   </nationalt>\\n   <genrealt>\\n    드라마,다큐멘터리,기타\\n   </genrealt>\\n   <repnationnm>\\n    한국\\n   </repnationnm>\\n   <repgenrenm>\\n    드라마\\n   </repgenrenm>\\n   <directors>\\n   </directors>\\n   <companys>\\n   </companys>\\n  </movie>\\n  <movie>\\n   <moviecd>\\n    20249603\\n   </moviecd>\\n   <movienm>\\n    부산국제단편영화제 이탈리아 뉴리얼리티\\n   </movienm>\\n   <movienmen>\\n    Italy Newreality\\n   </movienmen>\\n   <prdtyear>\\n    2024\\n   </prdtyear>\\n   <opendt>\\n   </opendt>\\n   <typenm>\\n    옴니버스\\n   </typenm>\\n   <prdtstatnm>\\n    기타\\n   </prdtstatnm>\\n   <nationalt>\\n    기타\\n   </nationalt>\\n   <genrealt>\\n    애니메이션,다큐멘터리,드라마\\n   </genrealt>\\n   <repnationnm>\\n    기타\\n   </repnationnm>\\n   <repgenrenm>\\n    애니메이션\\n   </repgenrenm>\\n   <directors>\\n   </directors>\\n   <companys>\\n   </companys>\\n  </movie>\\n  <movie>\\n   <moviecd>\\n    20249586\\n   </moviecd>\\n   <movienm>\\n    부산국제단편영화제 이탈리아 파노라마\\n   </movienm>\\n   <movienmen>\\n    Italy Panorama\\n   </movienmen>\\n   <prdtyear>\\n    2024\\n   </prdtyear>\\n   <opendt>\\n   </opendt>\\n   <typenm>\\n    옴니버스\\n   </typenm>\\n   <prdtstatnm>\\n    기타\\n   </prdtstatnm>\\n   <nationalt>\\n    기타\\n   </nationalt>\\n   <genrealt>\\n    드라마,애니메이션\\n   </genrealt>\\n   <repnationnm>\\n    기타\\n   </repnationnm>\\n   <repgenrenm>\\n    드라마\\n   </repgenrenm>\\n   <directors>\\n   </directors>\\n   <companys>\\n   </companys>\\n  </movie>\\n  <movie>\\n   <moviecd>\\n    20249585\\n   </moviecd>\\n   <movienm>\\n    부산국제단편영화제 오퍼레이션 키노\\n   </movienm>\\n   <movienmen>\\n    Operation Kino\\n   </movienmen>\\n   <prdtyear>\\n    2024\\n   </prdtyear>\\n   <opendt>\\n   </opendt>\\n   <typenm>\\n    옴니버스\\n   </typenm>\\n   <prdtstatnm>\\n    기타\\n   </prdtstatnm>\\n   <nationalt>\\n    한국\\n   </nationalt>\\n   <genrealt>\\n    다큐멘터리\\n   </genrealt>\\n   <repnationnm>\\n    한국\\n   </repnationnm>\\n   <repgenrenm>\\n    다큐멘터리\\n   </repgenrenm>\\n   <directors>\\n   </directors>\\n   <companys>\\n   </companys>\\n  </movie>\\n  <movie>\\n   <moviecd>\\n    20249602\\n   </moviecd>\\n   <movienm>\\n    부산국제단편영화제 한국경쟁 5\\n   </movienm>\\n   <movienmen>\\n    Korean Competition 5\\n   </movienmen>\\n   <prdtyear>\\n    2024\\n   </prdtyear>\\n   <opendt>\\n   </opendt>\\n   <typenm>\\n    옴니버스\\n   </typenm>\\n   <prdtstatnm>\\n    기타\\n   </prdtstatnm>\\n   <nationalt>\\n    한국\\n   </nationalt>\\n   <genrealt>\\n    드라마,애니메이션\\n   </genrealt>\\n   <repnationnm>\\n    한국\\n   </repnationnm>\\n   <repgenrenm>\\n    드라마\\n   </repgenrenm>\\n   <directors>\\n   </directors>\\n   <companys>\\n   </companys>\\n  </movie>\\n  <movie>\\n   <moviecd>\\n    20249584\\n   </moviecd>\\n   <movienm>\\n    부산국제단편영화제 한국경쟁 4\\n   </movienm>\\n   <movienmen>\\n    Korean Competition 4\\n   </movienmen>\\n   <prdtyear>\\n    2024\\n   </prdtyear>\\n   <opendt>\\n   </opendt>\\n   <typenm>\\n    옴니버스\\n   </typenm>\\n   <prdtstatnm>\\n    기타\\n   </prdtstatnm>\\n   <nationalt>\\n    한국\\n   </nationalt>\\n   <genrealt>\\n    드라마\\n   </genrealt>\\n   <repnationnm>\\n    한국\\n   </repnationnm>\\n   <repgenrenm>\\n    드라마\\n   </repgenrenm>\\n   <directors>\\n   </directors>\\n   <companys>\\n   </companys>\\n  </movie>\\n  <movie>\\n   <moviecd>\\n    20249601\\n   </moviecd>\\n   <movienm>\\n    부산국제단편영화제 한국경쟁 3\\n   </movienm>\\n   <movienmen>\\n    Korean Competition 3\\n   </movienmen>\\n   <prdtyear>\\n    2024\\n   </prdtyear>\\n   <opendt>\\n   </opendt>\\n   <typenm>\\n    옴니버스\\n   </typenm>\\n   <prdtstatnm>\\n    기타\\n   </prdtstatnm>\\n   <nationalt>\\n    한국\\n   </nationalt>\\n   <genrealt>\\n    드라마\\n   </genrealt>\\n   <repnationnm>\\n    한국\\n   </repnationnm>\\n   <repgenrenm>\\n    드라마\\n   </repgenrenm>\\n   <directors>\\n   </directors>\\n   <companys>\\n   </companys>\\n  </movie>\\n  <movie>\\n   <moviecd>\\n    20249600\\n   </moviecd>\\n   <movienm>\\n    부산국제단편영화제 한국경쟁 2\\n   </movienm>\\n   <movienmen>\\n    Korean Competition 2\\n   </movienmen>\\n   <prdtyear>\\n    2024\\n   </prdtyear>\\n   <opendt>\\n   </opendt>\\n   <typenm>\\n    옴니버스\\n   </typenm>\\n   <prdtstatnm>\\n    기타\\n   </prdtstatnm>\\n   <nationalt>\\n    한국\\n   </nationalt>\\n   <genrealt>\\n    드라마,애니메이션\\n   </genrealt>\\n   <repnationnm>\\n    한국\\n   </repnationnm>\\n   <repgenrenm>\\n    드라마\\n   </repgenrenm>\\n   <directors>\\n   </directors>\\n   <companys>\\n   </companys>\\n  </movie>\\n  <movie>\\n   <moviecd>\\n    20249599\\n   </moviecd>\\n   <movienm>\\n    부산국제단편영화제 한국경쟁 1\\n   </movienm>\\n   <movienmen>\\n    Korean Competition 1\\n   </movienmen>\\n   <prdtyear>\\n    2024\\n   </prdtyear>\\n   <opendt>\\n   </opendt>\\n   <typenm>\\n    옴니버스\\n   </typenm>\\n   <prdtstatnm>\\n    기타\\n   </prdtstatnm>\\n   <nationalt>\\n    한국\\n   </nationalt>\\n   <genrealt>\\n    드라마,다큐멘터리\\n   </genrealt>\\n   <repnationnm>\\n    한국\\n   </repnationnm>\\n   <repgenrenm>\\n    드라마\\n   </repgenrenm>\\n   <directors>\\n   </directors>\\n   <companys>\\n   </companys>\\n  </movie>\\n  <movie>\\n   <moviecd>\\n    20234045\\n   </moviecd>\\n   <movienm>\\n    설계자들\\n   </movienm>\\n   <movienmen>\\n    The Plot\\n   </movienmen>\\n   <prdtyear>\\n    2022\\n   </prdtyear>\\n   <opendt>\\n   </opendt>\\n   <typenm>\\n    장편\\n   </typenm>\\n   <prdtstatnm>\\n    개봉준비\\n   </prdtstatnm>\\n   <nationalt>\\n    한국\\n   </nationalt>\\n   <genrealt>\\n    범죄,스릴러\\n   </genrealt>\\n   <repnationnm>\\n    한국\\n   </repnationnm>\\n   <repgenrenm>\\n    범죄\\n   </repgenrenm>\\n   <directors>\\n    <director>\\n     <peoplenm>\\n      이요섭\\n     </peoplenm>\\n    </director>\\n   </directors>\\n   <companys>\\n    <company>\\n     <companycd>\\n      20100450\\n     </companycd>\\n     <companynm>\\n      영화사 집\\n     </companynm>\\n    </company>\\n   </companys>\\n  </movie>\\n  <movie>\\n   <moviecd>\\n    20249554\\n   </moviecd>\\n   <movienm>\\n    스픽 노 이블\\n   </movienm>\\n   <movienmen>\\n    Speak No Evil\\n   </movienmen>\\n   <prdtyear>\\n    2024\\n   </prdtyear>\\n   <opendt>\\n   </opendt>\\n   <typenm>\\n    장편\\n   </typenm>\\n   <prdtstatnm>\\n    개봉준비\\n   </prdtstatnm>\\n   <nationalt>\\n    영국,미국\\n   </nationalt>\\n   <genrealt>\\n    공포(호러)\\n   </genrealt>\\n   <repnationnm>\\n    영국\\n   </repnationnm>\\n   <repgenrenm>\\n    공포(호러)\\n   </repgenrenm>\\n   <directors>\\n    <director>\\n     <peoplenm>\\n      제임스 왓킨스\\n     </peoplenm>\\n    </director>\\n   </directors>\\n   <companys>\\n   </companys>\\n  </movie>\\n  <movie>\\n   <moviecd>\\n    20249153\\n   </moviecd>\\n   <movienm>\\n    에스파: 월드 투어 인 시네마\\n   </movienm>\\n   <movienmen>\\n    aespa: WORLD TOUR in cinemas\\n   </movienmen>\\n   <prdtyear>\\n    2024\\n   </prdtyear>\\n   <opendt>\\n    20240410\\n   </opendt>\\n   <typenm>\\n    장편\\n   </typenm>\\n   <prdtstatnm>\\n    개봉\\n   </prdtstatnm>\\n   <nationalt>\\n    한국\\n   </nationalt>\\n   <genrealt>\\n    공연\\n   </genrealt>\\n   <repnationnm>\\n    한국\\n   </repnationnm>\\n   <repgenrenm>\\n    공연\\n   </repgenrenm>\\n   <directors>\\n    <director>\\n     <peoplenm>\\n      김하민\\n     </peoplenm>\\n    </director>\\n    <director>\\n     <peoplenm>\\n      오윤동\\n     </peoplenm>\\n    </director>\\n   </directors>\\n   <companys>\\n    <company>\\n     <companycd>\\n      20242041\\n     </companycd>\\n     <companynm>\\n      스크린엑스 스튜디오\\n     </companynm>\\n    </company>\\n   </companys>\\n  </movie>\\n  <movie>\\n   <moviecd>\\n    20248670\\n   </moviecd>\\n   <movienm>\\n    다시 김대중-함께 합시다\\n   </movienm>\\n   <movienmen>\\n   </movienmen>\\n   <prdtyear>\\n    2024\\n   </prdtyear>\\n   <opendt>\\n    20240328\\n   </opendt>\\n   <typenm>\\n    장편\\n   </typenm>\\n   <prdtstatnm>\\n    개봉\\n   </prdtstatnm>\\n   <nationalt>\\n    한국\\n   </nationalt>\\n   <genrealt>\\n    다큐멘터리\\n   </genrealt>\\n   <repnationnm>\\n    한국\\n   </repnationnm>\\n   <repgenrenm>\\n    다큐멘터리\\n   </repgenrenm>\\n   <directors>\\n    <director>\\n     <peoplenm>\\n      김진홍\\n     </peoplenm>\\n    </director>\\n   </directors>\\n   <companys>\\n    <company>\\n     <companycd>\\n      20061772\\n     </companycd>\\n     <companynm>\\n      (주)영화사메이플러스\\n     </companynm>\\n    </company>\\n   </companys>\\n  </movie>\\n  <movie>\\n   <moviecd>\\n    20249583\\n   </moviecd>\\n   <movienm>\\n    부산국제단편영화제 국제경쟁 9\\n   </movienm>\\n   <movienmen>\\n    International Competition 9\\n   </movienmen>\\n   <prdtyear>\\n    2024\\n   </prdtyear>\\n   <opendt>\\n   </opendt>\\n   <typenm>\\n    옴니버스\\n   </typenm>\\n   <prdtstatnm>\\n    기타\\n   </prdtstatnm>\\n   <nationalt>\\n    기타\\n   </nationalt>\\n   <genrealt>\\n    다큐멘터리,드라마,애니메이션\\n   </genrealt>\\n   <repnationnm>\\n    기타\\n   </repnationnm>\\n   <repgenrenm>\\n    다큐멘터리\\n   </repgenrenm>\\n   <directors>\\n   </directors>\\n   <companys>\\n   </companys>\\n  </movie>\\n  <movie>\\n   <moviecd>\\n    20249582\\n   </moviecd>\\n   <movienm>\\n    부산국제단편영화제 국제경쟁 8\\n   </movienm>\\n   <movienmen>\\n    International Competition 8\\n   </movienmen>\\n   <prdtyear>\\n    2024\\n   </prdtyear>\\n   <opendt>\\n   </opendt>\\n   <typenm>\\n    옴니버스\\n   </typenm>\\n   <prdtstatnm>\\n    기타\\n   </prdtstatnm>\\n   <nationalt>\\n    기타\\n   </nationalt>\\n   <genrealt>\\n    다큐멘터리,드라마\\n   </genrealt>\\n   <repnationnm>\\n    기타\\n   </repnationnm>\\n   <repgenrenm>\\n    다큐멘터리\\n   </repgenrenm>\\n   <directors>\\n   </directors>\\n   <companys>\\n   </companys>\\n  </movie>\\n  <movie>\\n   <moviecd>\\n    20249581\\n   </moviecd>\\n   <movienm>\\n    부산국제단편영화제 국제경쟁 7\\n   </movienm>\\n   <movienmen>\\n    International Competition 7\\n   </movienmen>\\n   <prdtyear>\\n    2024\\n   </prdtyear>\\n   <opendt>\\n   </opendt>\\n   <typenm>\\n    옴니버스\\n   </typenm>\\n   <prdtstatnm>\\n    기타\\n   </prdtstatnm>\\n   <nationalt>\\n    기타\\n   </nationalt>\\n   <genrealt>\\n    다큐멘터리,드라마\\n   </genrealt>\\n   <repnationnm>\\n    기타\\n   </repnationnm>\\n   <repgenrenm>\\n    다큐멘터리\\n   </repgenrenm>\\n   <directors>\\n   </directors>\\n   <companys>\\n   </companys>\\n  </movie>\\n  <movie>\\n   <moviecd>\\n    20249580\\n   </moviecd>\\n   <movienm>\\n    부산국제단편영화제 국제경쟁 6\\n   </movienm>\\n   <movienmen>\\n    International Competition 6\\n   </movienmen>\\n   <prdtyear>\\n    2024\\n   </prdtyear>\\n   <opendt>\\n   </opendt>\\n   <typenm>\\n    옴니버스\\n   </typenm>\\n   <prdtstatnm>\\n    기타\\n   </prdtstatnm>\\n   <nationalt>\\n    기타\\n   </nationalt>\\n   <genrealt>\\n    드라마,애니메이션,다큐멘터리\\n   </genrealt>\\n   <repnationnm>\\n    기타\\n   </repnationnm>\\n   <repgenrenm>\\n    드라마\\n   </repgenrenm>\\n   <directors>\\n   </directors>\\n   <companys>\\n   </companys>\\n  </movie>\\n  <movie>\\n   <moviecd>\\n    20249579\\n   </moviecd>\\n   <movienm>\\n    부산국제단편영화제 국제경쟁 5\\n   </movienm>\\n   <movienmen>\\n    International Competition 5\\n   </movienmen>\\n   <prdtyear>\\n    2024\\n   </prdtyear>\\n   <opendt>\\n   </opendt>\\n   <typenm>\\n    옴니버스\\n   </typenm>\\n   <prdtstatnm>\\n    기타\\n   </prdtstatnm>\\n   <nationalt>\\n    기타\\n   </nationalt>\\n   <genrealt>\\n    드라마,기타\\n   </genrealt>\\n   <repnationnm>\\n    기타\\n   </repnationnm>\\n   <repgenrenm>\\n    드라마\\n   </repgenrenm>\\n   <directors>\\n   </directors>\\n   <companys>\\n   </companys>\\n  </movie>\\n  <movie>\\n   <moviecd>\\n    20249598\\n   </moviecd>\\n   <movienm>\\n    부산국제단편영화제 국제경쟁 4\\n   </movienm>\\n   <movienmen>\\n    International Competition 4\\n   </movienmen>\\n   <prdtyear>\\n    2024\\n   </prdtyear>\\n   <opendt>\\n   </opendt>\\n   <typenm>\\n    옴니버스\\n   </typenm>\\n   <prdtstatnm>\\n    기타\\n   </prdtstatnm>\\n   <nationalt>\\n    기타\\n   </nationalt>\\n   <genrealt>\\n    드라마,애니메이션\\n   </genrealt>\\n   <repnationnm>\\n    기타\\n   </repnationnm>\\n   <repgenrenm>\\n    드라마\\n   </repgenrenm>\\n   <directors>\\n   </directors>\\n   <companys>\\n   </companys>\\n  </movie>\\n  <movie>\\n   <moviecd>\\n    20249597\\n   </moviecd>\\n   <movienm>\\n    부산국제단편영화제 국제경쟁 3\\n   </movienm>\\n   <movienmen>\\n    International Competition 3\\n   </movienmen>\\n   <prdtyear>\\n    2024\\n   </prdtyear>\\n   <opendt>\\n   </opendt>\\n   <typenm>\\n    옴니버스\\n   </typenm>\\n   <prdtstatnm>\\n    기타\\n   </prdtstatnm>\\n   <nationalt>\\n    기타\\n   </nationalt>\\n   <genrealt>\\n    드라마,다큐멘터리\\n   </genrealt>\\n   <repnationnm>\\n    기타\\n   </repnationnm>\\n   <repgenrenm>\\n    드라마\\n   </repgenrenm>\\n   <directors>\\n   </directors>\\n   <companys>\\n   </companys>\\n  </movie>\\n  <movie>\\n   <moviecd>\\n    20249596\\n   </moviecd>\\n   <movienm>\\n    부산국제단편영화제 국제경쟁 2\\n   </movienm>\\n   <movienmen>\\n    International Competition 2\\n   </movienmen>\\n   <prdtyear>\\n    2024\\n   </prdtyear>\\n   <opendt>\\n   </opendt>\\n   <typenm>\\n    옴니버스\\n   </typenm>\\n   <prdtstatnm>\\n    기타\\n   </prdtstatnm>\\n   <nationalt>\\n    기타\\n   </nationalt>\\n   <genrealt>\\n    드라마,다큐멘터리\\n   </genrealt>\\n   <repnationnm>\\n    기타\\n   </repnationnm>\\n   <repgenrenm>\\n    드라마\\n   </repgenrenm>\\n   <directors>\\n   </directors>\\n   <companys>\\n   </companys>\\n  </movie>\\n  <movie>\\n   <moviecd>\\n    20249578\\n   </moviecd>\\n   <movienm>\\n    부산국제단편영화제 국제경쟁 1\\n   </movienm>\\n   <movienmen>\\n    International Competition 1\\n   </movienmen>\\n   <prdtyear>\\n    2024\\n   </prdtyear>\\n   <opendt>\\n   </opendt>\\n   <typenm>\\n    옴니버스\\n   </typenm>\\n   <prdtstatnm>\\n    기타\\n   </prdtstatnm>\\n   <nationalt>\\n    기타\\n   </nationalt>\\n   <genrealt>\\n    드라마,기타\\n   </genrealt>\\n   <repnationnm>\\n    기타\\n   </repnationnm>\\n   <repgenrenm>\\n    드라마\\n   </repgenrenm>\\n   <directors>\\n   </directors>\\n   <companys>\\n   </companys>\\n  </movie>\\n  <movie>\\n   <moviecd>\\n    20249577\\n   </moviecd>\\n   <movienm>\\n    부산국제단편영화제 개막작\\n   </movienm>\\n   <movienmen>\\n    Opening Films\\n   </movienmen>\\n   <prdtyear>\\n    2024\\n   </prdtyear>\\n   <opendt>\\n   </opendt>\\n   <typenm>\\n    옴니버스\\n   </typenm>\\n   <prdtstatnm>\\n    기타\\n   </prdtstatnm>\\n   <nationalt>\\n    기타\\n   </nationalt>\\n   <genrealt>\\n    드라마,애니메이션\\n   </genrealt>\\n   <repnationnm>\\n    기타\\n   </repnationnm>\\n   <repgenrenm>\\n    드라마\\n   </repgenrenm>\\n   <directors>\\n   </directors>\\n   <companys>\\n   </companys>\\n  </movie>\\n  <movie>\\n   <moviecd>\\n    20100625\\n   </moviecd>\\n   <movienm>\\n    화끈한 동영상(이정길)\\n   </movienm>\\n   <movienmen>\\n    Hot Burning Video\\n   </movienmen>\\n   <prdtyear>\\n   </prdtyear>\\n   <opendt>\\n   </opendt>\\n   <typenm>\\n    기타\\n   </typenm>\\n   <prdtstatnm>\\n    기타\\n   </prdtstatnm>\\n   <nationalt>\\n   </nationalt>\\n   <genrealt>\\n   </genrealt>\\n   <repnationnm>\\n   </repnationnm>\\n   <repgenrenm>\\n   </repgenrenm>\\n   <directors>\\n   </directors>\\n   <companys>\\n   </companys>\\n  </movie>\\n  <movie>\\n   <moviecd>\\n    20108641\\n   </moviecd>\\n   <movienm>\\n    홍콩서 온 불사신\\n   </movienm>\\n   <movienmen>\\n    Little Godfather from Hong Kong\\n   </movienmen>\\n   <prdtyear>\\n    1974\\n   </prdtyear>\\n   <opendt>\\n   </opendt>\\n   <typenm>\\n    단편\\n   </typenm>\\n   <prdtstatnm>\\n    기타\\n   </prdtstatnm>\\n   <nationalt>\\n    홍콩\\n   </nationalt>\\n   <genrealt>\\n    드라마,액션\\n   </genrealt>\\n   <repnationnm>\\n    홍콩\\n   </repnationnm>\\n   <repgenrenm>\\n    드라마\\n   </repgenrenm>\\n   <directors>\\n    <director>\\n     <peoplenm>\\n      오사원\\n     </peoplenm>\\n    </director>\\n   </directors>\\n   <companys>\\n   </companys>\\n  </movie>\\n  <movie>\\n   <moviecd>\\n    19720055\\n   </moviecd>\\n   <movienm>\\n    홍살문\\n   </movienm>\\n   <movienmen>\\n    Gate Of Woman\\n   </movienmen>\\n   <prdtyear>\\n    1972\\n   </prdtyear>\\n   <opendt>\\n   </opendt>\\n   <typenm>\\n    장편\\n   </typenm>\\n   <prdtstatnm>\\n    기타\\n   </prdtstatnm>\\n   <nationalt>\\n    한국\\n   </nationalt>\\n   <genrealt>\\n    드라마\\n   </genrealt>\\n   <repnationnm>\\n    한국\\n   </repnationnm>\\n   <repgenrenm>\\n    드라마\\n   </repgenrenm>\\n   <directors>\\n    <director>\\n     <peoplenm>\\n      변장호\\n     </peoplenm>\\n    </director>\\n   </directors>\\n   <companys>\\n    <company>\\n     <companycd>\\n      20111156\\n     </companycd>\\n     <companynm>\\n      보한산업\\n     </companynm>\\n    </company>\\n   </companys>\\n  </movie>\\n  <movie>\\n   <moviecd>\\n    20124450\\n   </moviecd>\\n   <movienm>\\n    홍길동 도사학교\\n   </movienm>\\n   <movienmen>\\n   </movienmen>\\n   <prdtyear>\\n    1996\\n   </prdtyear>\\n   <opendt>\\n   </opendt>\\n   <typenm>\\n    장편\\n   </typenm>\\n   <prdtstatnm>\\n    기타\\n   </prdtstatnm>\\n   <nationalt>\\n    한국\\n   </nationalt>\\n   <genrealt>\\n    가족,코미디\\n   </genrealt>\\n   <repnationnm>\\n    한국\\n   </repnationnm>\\n   <repgenrenm>\\n    가족\\n   </repgenrenm>\\n   <directors>\\n    <director>\\n     <peoplenm>\\n      김춘범\\n     </peoplenm>\\n    </director>\\n   </directors>\\n   <companys>\\n   </companys>\\n  </movie>\\n  <movie>\\n   <moviecd>\\n    20100592\\n   </moviecd>\\n   <movienm>\\n    혼류\\n   </movienm>\\n   <movienmen>\\n    Bravura\\n   </movienmen>\\n   <prdtyear>\\n    2010\\n   </prdtyear>\\n   <opendt>\\n   </opendt>\\n   <typenm>\\n    옴니버스\\n   </typenm>\\n   <prdtstatnm>\\n    기타\\n   </prdtstatnm>\\n   <nationalt>\\n    한국\\n   </nationalt>\\n   <genrealt>\\n    다큐멘터리\\n   </genrealt>\\n   <repnationnm>\\n    한국\\n   </repnationnm>\\n   <repgenrenm>\\n    다큐멘터리\\n   </repgenrenm>\\n   <directors>\\n    <director>\\n     <peoplenm>\\n      김연정\\n     </peoplenm>\\n    </director>\\n   </directors>\\n   <companys>\\n   </companys>\\n  </movie>\\n  <movie>\\n   <moviecd>\\n    20135796\\n   </moviecd>\\n   <movienm>\\n    혼돈의시간들\\n   </movienm>\\n   <movienmen>\\n    Without Light\\n   </movienmen>\\n   <prdtyear>\\n    2008\\n   </prdtyear>\\n   <opendt>\\n   </opendt>\\n   <typenm>\\n    장편\\n   </typenm>\\n   <prdtstatnm>\\n    기타\\n   </prdtstatnm>\\n   <nationalt>\\n    캐나다\\n   </nationalt>\\n   <genrealt>\\n    스릴러\\n   </genrealt>\\n   <repnationnm>\\n    캐나다\\n   </repnationnm>\\n   <repgenrenm>\\n    스릴러\\n   </repgenrenm>\\n   <directors>\\n    <director>\\n     <peoplenm>\\n      그레고리 밀른\\n     </peoplenm>\\n    </director>\\n   </directors>\\n   <companys>\\n   </companys>\\n  </movie>\\n  <movie>\\n   <moviecd>\\n    20128097\\n   </moviecd>\\n   <movienm>\\n    혼다 - 캐논볼 런\\n   </movienm>\\n   <movienmen>\\n    Honda - Cannonball Run\\n   </movienmen>\\n   <prdtyear>\\n    2011\\n   </prdtyear>\\n   <opendt>\\n   </opendt>\\n   <typenm>\\n    단편\\n   </typenm>\\n   <prdtstatnm>\\n    기타\\n   </prdtstatnm>\\n   <nationalt>\\n    영국\\n   </nationalt>\\n   <genrealt>\\n    애니메이션\\n   </genrealt>\\n   <repnationnm>\\n    영국\\n   </repnationnm>\\n   <repgenrenm>\\n    애니메이션\\n   </repgenrenm>\\n   <directors>\\n   </directors>\\n   <companys>\\n   </companys>\\n  </movie>\\n  <movie>\\n   <moviecd>\\n    19688013\\n   </moviecd>\\n   <movienm>\\n    혹성탈출\\n   </movienm>\\n   <movienmen>\\n    Planet of the Apes\\n   </movienmen>\\n   <prdtyear>\\n    1968\\n   </prdtyear>\\n   <opendt>\\n   </opendt>\\n   <typenm>\\n    장편\\n   </typenm>\\n   <prdtstatnm>\\n    기타\\n   </prdtstatnm>\\n   <nationalt>\\n    미국\\n   </nationalt>\\n   <genrealt>\\n   </genrealt>\\n   <repnationnm>\\n    미국\\n   </repnationnm>\\n   <repgenrenm>\\n   </repgenrenm>\\n   <directors>\\n    <director>\\n     <peoplenm>\\n      프랭클린 J. 샤프너\\n     </peoplenm>\\n    </director>\\n   </directors>\\n   <companys>\\n   </companys>\\n  </movie>\\n  <movie>\\n   <moviecd>\\n    20112448\\n   </moviecd>\\n   <movienm>\\n    호치민 루트 +하노이 천변풍경\\n   </movienm>\\n   <movienmen>\\n    Chronicle of a Tape Recorded Over+Hard Rails Across a Gentle River\\n   </movienmen>\\n   <prdtyear>\\n    2010\\n   </prdtyear>\\n   <opendt>\\n   </opendt>\\n   <typenm>\\n    장편\\n   </typenm>\\n   <prdtstatnm>\\n    기타\\n   </prdtstatnm>\\n   <nationalt>\\n   </nationalt>\\n   <genrealt>\\n   </genrealt>\\n   <repnationnm>\\n   </repnationnm>\\n   <repgenrenm>\\n   </repgenrenm>\\n   <directors>\\n   </directors>\\n   <companys>\\n   </companys>\\n  </movie>\\n  <movie>\\n   <moviecd>\\n    20112474\\n   </moviecd>\\n   <movienm>\\n    호치민 루트\\n   </movienm>\\n   <movienmen>\\n    Chronicle of a Tape Recorded Over\\n   </movienmen>\\n   <prdtyear>\\n    2011\\n   </prdtyear>\\n   <opendt>\\n   </opendt>\\n   <typenm>\\n    단편\\n   </typenm>\\n   <prdtstatnm>\\n    기타\\n   </prdtstatnm>\\n   <nationalt>\\n    베트남\\n   </nationalt>\\n   <genrealt>\\n    다큐멘터리\\n   </genrealt>\\n   <repnationnm>\\n    베트남\\n   </repnationnm>\\n   <repgenrenm>\\n    다큐멘터리\\n   </repgenrenm>\\n   <directors>\\n   </directors>\\n   <companys>\\n   </companys>\\n  </movie>\\n  <movie>\\n   <moviecd>\\n    20111179\\n   </moviecd>\\n   <movienm>\\n    호접몽\\n   </movienm>\\n   <movienmen>\\n    Butterfly Dream\\n   </movienmen>\\n   <prdtyear>\\n    2011\\n   </prdtyear>\\n   <opendt>\\n   </opendt>\\n   <typenm>\\n    단편\\n   </typenm>\\n   <prdtstatnm>\\n    기타\\n   </prdtstatnm>\\n   <nationalt>\\n    미국\\n   </nationalt>\\n   <genrealt>\\n    애니메이션\\n   </genrealt>\\n   <repnationnm>\\n    미국\\n   </repnationnm>\\n   <repgenrenm>\\n    애니메이션\\n   </repgenrenm>\\n   <directors>\\n   </directors>\\n   <companys>\\n   </companys>\\n  </movie>\\n  <movie>\\n   <moviecd>\\n    20107717\\n   </moviecd>\\n   <movienm>\\n    호반(湖畔)의 메아리\\n   </movienm>\\n   <movienmen>\\n    An Echo Of Lakeside\\n   </movienmen>\\n   <prdtyear>\\n    1978\\n   </prdtyear>\\n   <opendt>\\n   </opendt>\\n   <typenm>\\n    장편\\n   </typenm>\\n   <prdtstatnm>\\n    기타\\n   </prdtstatnm>\\n   <nationalt>\\n    한국\\n   </nationalt>\\n   <genrealt>\\n    드라마,멜로/로맨스\\n   </genrealt>\\n   <repnationnm>\\n    한국\\n   </repnationnm>\\n   <repgenrenm>\\n    드라마\\n   </repgenrenm>\\n   <directors>\\n    <director>\\n     <peoplenm>\\n      박남수\\n     </peoplenm>\\n    </director>\\n   </directors>\\n   <companys>\\n    <company>\\n     <companycd>\\n      20100465\\n     </companycd>\\n     <companynm>\\n      (주)우진필림\\n     </companynm>\\n    </company>\\n   </companys>\\n  </movie>\\n  <movie>\\n   <moviecd>\\n    20128092\\n   </moviecd>\\n   <movienm>\\n    호반 도시 - 예술\\n   </movienm>\\n   <movienmen>\\n    Lake City - Art\\n   </movienmen>\\n   <prdtyear>\\n    2011\\n   </prdtyear>\\n   <opendt>\\n   </opendt>\\n   <typenm>\\n    단편\\n   </typenm>\\n   <prdtstatnm>\\n    기타\\n   </prdtstatnm>\\n   <nationalt>\\n    중국,대만\\n   </nationalt>\\n   <genrealt>\\n    애니메이션\\n   </genrealt>\\n   <repnationnm>\\n    중국\\n   </repnationnm>\\n   <repgenrenm>\\n    애니메이션\\n   </repgenrenm>\\n   <directors>\\n   </directors>\\n   <companys>\\n   </companys>\\n  </movie>\\n  <movie>\\n   <moviecd>\\n    20060793\\n   </moviecd>\\n   <movienm>\\n    호모파베르, 자반고등어(단편)\\n   </movienm>\\n   <movienmen>\\n    Homo Faber\\n   </movienmen>\\n   <prdtyear>\\n    2001\\n   </prdtyear>\\n   <opendt>\\n   </opendt>\\n   <typenm>\\n    단편\\n   </typenm>\\n   <prdtstatnm>\\n    기타\\n   </prdtstatnm>\\n   <nationalt>\\n    한국\\n   </nationalt>\\n   <genrealt>\\n   </genrealt>\\n   <repnationnm>\\n    한국\\n   </repnationnm>\\n   <repgenrenm>\\n   </repgenrenm>\\n   <directors>\\n    <director>\\n     <peoplenm>\\n      김은희\\n     </peoplenm>\\n    </director>\\n   </directors>\\n   <companys>\\n   </companys>\\n  </movie>\\n  <movie>\\n   <moviecd>\\n    2010A503\\n   </moviecd>\\n   <movienm>\\n    호랑이라 불리우는 사나이\\n   </movienm>\\n   <movienmen>\\n    The Man called \\'Tiger\\'\\n   </movienmen>\\n   <prdtyear>\\n    2007\\n   </prdtyear>\\n   <opendt>\\n   </opendt>\\n   <typenm>\\n    단편\\n   </typenm>\\n   <prdtstatnm>\\n    기타\\n   </prdtstatnm>\\n   <nationalt>\\n    한국\\n   </nationalt>\\n   <genrealt>\\n    드라마,액션\\n   </genrealt>\\n   <repnationnm>\\n    한국\\n   </repnationnm>\\n   <repgenrenm>\\n    드라마\\n   </repgenrenm>\\n   <directors>\\n    <director>\\n     <peoplenm>\\n      권혁재\\n     </peoplenm>\\n    </director>\\n   </directors>\\n   <companys>\\n   </companys>\\n  </movie>\\n  <movie>\\n   <moviecd>\\n    20111145\\n   </moviecd>\\n   <movienm>\\n    호랑이\\n   </movienm>\\n   <movienmen>\\n    Tiger\\n   </movienmen>\\n   <prdtyear>\\n    2010\\n   </prdtyear>\\n   <opendt>\\n   </opendt>\\n   <typenm>\\n    단편\\n   </typenm>\\n   <prdtstatnm>\\n    기타\\n   </prdtstatnm>\\n   <nationalt>\\n    기타\\n   </nationalt>\\n   <genrealt>\\n    애니메이션\\n   </genrealt>\\n   <repnationnm>\\n    기타\\n   </repnationnm>\\n   <repgenrenm>\\n    애니메이션\\n   </repgenrenm>\\n   <directors>\\n   </directors>\\n   <companys>\\n   </companys>\\n  </movie>\\n  <movie>\\n   <moviecd>\\n    20137464\\n   </moviecd>\\n   <movienm>\\n    형사 가제트 : 최대의 사건\\n   </movienm>\\n   <movienmen>\\n    Inspector Gadget\\'s Biggest Caper Ever\\n   </movienmen>\\n   <prdtyear>\\n    2005\\n   </prdtyear>\\n   <opendt>\\n   </opendt>\\n   <typenm>\\n    장편\\n   </typenm>\\n   <prdtstatnm>\\n    기타\\n   </prdtstatnm>\\n   <nationalt>\\n    미국\\n   </nationalt>\\n   <genrealt>\\n    애니메이션,코미디,어드벤처\\n   </genrealt>\\n   <repnationnm>\\n    미국\\n   </repnationnm>\\n   <repgenrenm>\\n    애니메이션\\n   </repgenrenm>\\n   <directors>\\n    <director>\\n     <peoplenm>\\n      이제키엘 노튼\\n     </peoplenm>\\n    </director>\\n   </directors>\\n   <companys>\\n   </companys>\\n  </movie>\\n </movielist>\\n <source/>\\n 영화진흥위원회\\n</movielistresult>\\n'"
      ]
     },
     "execution_count": 11,
     "metadata": {},
     "output_type": "execute_result"
    }
   ],
   "source": [
    "soup.prettify() # bs4로 처리하다 보면 tag의 대소문자 변경이 있을 수 있음!"
   ]
  },
  {
   "cell_type": "code",
   "execution_count": null,
   "id": "60b0c871-e1c6-4931-9884-15f0d822779b",
   "metadata": {},
   "outputs": [],
   "source": [
    "중요!\n",
    "json 패키지 : 파이썬의 기본 자료형을 변형!\n",
    "    -> 정보 접근 : 정수 인덱스, 키 값 등\n",
    "    -> 순차적으로 하나씩 모든 관문을 다 통과\n",
    "bs 패키지 : tag 중심의 언어 -> 직접적으로 접근이 가능함!\n",
    "    -> 파이썬 자료형 아님.\n",
    "    -> find(찾을 테그이름) : 여러 테그들 중에서 처음 매칭된 거 하나\n",
    "    find all : 테그에 해당하느 모든 정보들 다 찾아 줌\n",
    "    => 리스트형"
   ]
  },
  {
   "cell_type": "code",
   "execution_count": 12,
   "id": "96e640af-9f59-4c26-8bbb-87aa4b721dab",
   "metadata": {},
   "outputs": [
    {
     "data": {
      "text/plain": [
       "<movie><moviecd>20249587</moviecd><movienm>부산국제단편영화제 나는 눈이다</movienm><movienmen>I the eye</movienmen><prdtyear>2024</prdtyear><opendt></opendt><typenm>옴니버스</typenm><prdtstatnm>기타</prdtstatnm><nationalt>한국</nationalt><genrealt>드라마,다큐멘터리,기타</genrealt><repnationnm>한국</repnationnm><repgenrenm>드라마</repgenrenm><directors></directors><companys></companys></movie>"
      ]
     },
     "execution_count": 12,
     "metadata": {},
     "output_type": "execute_result"
    }
   ],
   "source": [
    "soup.find(\"movie\") # "
   ]
  },
  {
   "cell_type": "code",
   "execution_count": 16,
   "id": "4a987291-c7ff-4fc8-b580-b82cf43dc3c3",
   "metadata": {},
   "outputs": [
    {
     "data": {
      "text/plain": [
       "<movie><moviecd>20249587</moviecd><movienm>부산국제단편영화제 나는 눈이다</movienm><movienmen>I the eye</movienmen><prdtyear>2024</prdtyear><opendt></opendt><typenm>옴니버스</typenm><prdtstatnm>기타</prdtstatnm><nationalt>한국</nationalt><genrealt>드라마,다큐멘터리,기타</genrealt><repnationnm>한국</repnationnm><repgenrenm>드라마</repgenrenm><directors></directors><companys></companys></movie>"
      ]
     },
     "execution_count": 16,
     "metadata": {},
     "output_type": "execute_result"
    }
   ],
   "source": [
    "soup.find_all(\"movie\")[0]"
   ]
  },
  {
   "cell_type": "code",
   "execution_count": 17,
   "id": "191d9b1a-6644-40c1-8da0-9b8164592aa1",
   "metadata": {},
   "outputs": [],
   "source": [
    "soup.find(\"moviessss\") # 없는 테그는 반응 없음~"
   ]
  },
  {
   "cell_type": "code",
   "execution_count": 45,
   "id": "16a422c8-9f3b-420e-8522-e8d1748f7651",
   "metadata": {},
   "outputs": [
    {
     "data": {
      "text/plain": [
       "'이요섭'"
      ]
     },
     "execution_count": 45,
     "metadata": {},
     "output_type": "execute_result"
    }
   ],
   "source": [
    "# Q) 받은 영화의 정보가 몇 개 인가요?\n",
    "len(soup.find_all(\"movie\"))\n",
    "\n",
    "# Q) 처음 영화에 대해서 코드값을 출력해 보세요!\n",
    "soup.find_all(\"moviecd\")[0].text\n",
    "soup.find_all(\"moviecd\")[0].get_text()\n",
    "\n",
    "# Q) 1번 영화에 대한 제목을 출력해보세요.\n",
    "soup.find_all(\"movienm\")[0].text\n",
    "\n",
    "# Q) 1번 영화에 대한 영문 제목을 출력해 보세요\n",
    "soup.find_all(\"movienmen\")[0].text\n",
    "\n",
    "# Q) 1번 영화에 대한 개봉 날짜 출력해보세요.\n",
    "soup.find_all(\"opendt\")[0].text\n",
    "\n",
    "# Q) 1번 영화의 1번 감독 이름이 있다면 출력\n",
    "soup.find_all(\"director\")[0].text \n",
    "\n",
    "\n",
    "# --> for문으로 일단 출력들..."
   ]
  },
  {
   "cell_type": "code",
   "execution_count": 47,
   "id": "f5d16a2f-faac-4304-b615-bc8044265338",
   "metadata": {},
   "outputs": [
    {
     "data": {
      "text/plain": [
       "<moviecd>20249587</moviecd>"
      ]
     },
     "execution_count": 47,
     "metadata": {},
     "output_type": "execute_result"
    }
   ],
   "source": [
    "# Q) 1번 영화의 1번 감독 이름이 있다면 출력\n",
    "soup.find_all(\"director\")[0].text \n",
    "#### 비추 : 앞에 빈 열이 있으면 [0] 이라도 값이 순서가 안맞음\n",
    "#### 샘플 단위로 처리를 하는 게 좋음\n",
    "\n",
    "soup.find_all(\"movie\")[0].find(\"moviecd\")"
   ]
  },
  {
   "cell_type": "code",
   "execution_count": 54,
   "id": "950f7e2a-c581-4635-8b4e-64889e95764c",
   "metadata": {},
   "outputs": [
    {
     "name": "stdout",
     "output_type": "stream",
     "text": [
      "20249587\n",
      "부산국제단편영화제 나는 눈이다\n",
      "I the eye\n",
      "\n",
      "감독정보X\n",
      "****************************************************************************************************\n",
      "20249603\n",
      "부산국제단편영화제 이탈리아 뉴리얼리티\n",
      "Italy Newreality\n",
      "\n",
      "감독정보X\n",
      "****************************************************************************************************\n",
      "20249586\n",
      "부산국제단편영화제 이탈리아 파노라마\n",
      "Italy Panorama\n",
      "\n",
      "감독정보X\n",
      "****************************************************************************************************\n",
      "20249585\n",
      "부산국제단편영화제 오퍼레이션 키노\n",
      "Operation Kino\n",
      "\n",
      "감독정보X\n",
      "****************************************************************************************************\n",
      "20249602\n",
      "부산국제단편영화제 한국경쟁 5\n",
      "Korean Competition 5\n",
      "\n",
      "감독정보X\n",
      "****************************************************************************************************\n",
      "20249584\n",
      "부산국제단편영화제 한국경쟁 4\n",
      "Korean Competition 4\n",
      "\n",
      "감독정보X\n",
      "****************************************************************************************************\n",
      "20249601\n",
      "부산국제단편영화제 한국경쟁 3\n",
      "Korean Competition 3\n",
      "\n",
      "감독정보X\n",
      "****************************************************************************************************\n",
      "20249600\n",
      "부산국제단편영화제 한국경쟁 2\n",
      "Korean Competition 2\n",
      "\n",
      "감독정보X\n",
      "****************************************************************************************************\n",
      "20249599\n",
      "부산국제단편영화제 한국경쟁 1\n",
      "Korean Competition 1\n",
      "\n",
      "감독정보X\n",
      "****************************************************************************************************\n",
      "20234045\n",
      "설계자들\n",
      "The Plot\n",
      "\n",
      "이요섭\n",
      "****************************************************************************************************\n",
      "20249554\n",
      "스픽 노 이블\n",
      "Speak No Evil\n",
      "\n",
      "제임스 왓킨스\n",
      "****************************************************************************************************\n",
      "20249153\n",
      "에스파: 월드 투어 인 시네마\n",
      "aespa: WORLD TOUR in cinemas\n",
      "20240410\n",
      "김하민\n",
      "****************************************************************************************************\n",
      "20248670\n",
      "다시 김대중-함께 합시다\n",
      "\n",
      "20240328\n",
      "김진홍\n",
      "****************************************************************************************************\n",
      "20249583\n",
      "부산국제단편영화제 국제경쟁 9\n",
      "International Competition 9\n",
      "\n",
      "감독정보X\n",
      "****************************************************************************************************\n",
      "20249582\n",
      "부산국제단편영화제 국제경쟁 8\n",
      "International Competition 8\n",
      "\n",
      "감독정보X\n",
      "****************************************************************************************************\n",
      "20249581\n",
      "부산국제단편영화제 국제경쟁 7\n",
      "International Competition 7\n",
      "\n",
      "감독정보X\n",
      "****************************************************************************************************\n",
      "20249580\n",
      "부산국제단편영화제 국제경쟁 6\n",
      "International Competition 6\n",
      "\n",
      "감독정보X\n",
      "****************************************************************************************************\n",
      "20249579\n",
      "부산국제단편영화제 국제경쟁 5\n",
      "International Competition 5\n",
      "\n",
      "감독정보X\n",
      "****************************************************************************************************\n",
      "20249598\n",
      "부산국제단편영화제 국제경쟁 4\n",
      "International Competition 4\n",
      "\n",
      "감독정보X\n",
      "****************************************************************************************************\n",
      "20249597\n",
      "부산국제단편영화제 국제경쟁 3\n",
      "International Competition 3\n",
      "\n",
      "감독정보X\n",
      "****************************************************************************************************\n",
      "20249596\n",
      "부산국제단편영화제 국제경쟁 2\n",
      "International Competition 2\n",
      "\n",
      "감독정보X\n",
      "****************************************************************************************************\n",
      "20249578\n",
      "부산국제단편영화제 국제경쟁 1\n",
      "International Competition 1\n",
      "\n",
      "감독정보X\n",
      "****************************************************************************************************\n",
      "20249577\n",
      "부산국제단편영화제 개막작\n",
      "Opening Films\n",
      "\n",
      "감독정보X\n",
      "****************************************************************************************************\n",
      "20100625\n",
      "화끈한 동영상(이정길)\n",
      "Hot Burning Video\n",
      "\n",
      "감독정보X\n",
      "****************************************************************************************************\n",
      "20108641\n",
      "홍콩서 온 불사신\n",
      "Little Godfather from Hong Kong\n",
      "\n",
      "오사원\n",
      "****************************************************************************************************\n",
      "19720055\n",
      "홍살문\n",
      "Gate Of Woman\n",
      "\n",
      "변장호\n",
      "****************************************************************************************************\n",
      "20124450\n",
      "홍길동 도사학교\n",
      "\n",
      "\n",
      "김춘범\n",
      "****************************************************************************************************\n",
      "20100592\n",
      "혼류\n",
      "Bravura\n",
      "\n",
      "김연정\n",
      "****************************************************************************************************\n",
      "20135796\n",
      "혼돈의시간들\n",
      "Without Light\n",
      "\n",
      "그레고리 밀른\n",
      "****************************************************************************************************\n",
      "20128097\n",
      "혼다 - 캐논볼 런\n",
      "Honda - Cannonball Run\n",
      "\n",
      "감독정보X\n",
      "****************************************************************************************************\n",
      "19688013\n",
      "혹성탈출\n",
      "Planet of the Apes\n",
      "\n",
      "프랭클린 J. 샤프너\n",
      "****************************************************************************************************\n",
      "20112448\n",
      "호치민 루트 +하노이 천변풍경\n",
      "Chronicle of a Tape Recorded Over+Hard Rails Across a Gentle River\n",
      "\n",
      "감독정보X\n",
      "****************************************************************************************************\n",
      "20112474\n",
      "호치민 루트\n",
      "Chronicle of a Tape Recorded Over\n",
      "\n",
      "감독정보X\n",
      "****************************************************************************************************\n",
      "20111179\n",
      "호접몽\n",
      "Butterfly Dream\n",
      "\n",
      "감독정보X\n",
      "****************************************************************************************************\n",
      "20107717\n",
      "호반(湖畔)의 메아리\n",
      "An Echo Of Lakeside\n",
      "\n",
      "박남수\n",
      "****************************************************************************************************\n",
      "20128092\n",
      "호반 도시 - 예술\n",
      "Lake City - Art\n",
      "\n",
      "감독정보X\n",
      "****************************************************************************************************\n",
      "20060793\n",
      "호모파베르, 자반고등어(단편)\n",
      "Homo Faber\n",
      "\n",
      "김은희\n",
      "****************************************************************************************************\n",
      "2010A503\n",
      "호랑이라 불리우는 사나이\n",
      "The Man called 'Tiger'\n",
      "\n",
      "권혁재\n",
      "****************************************************************************************************\n",
      "20111145\n",
      "호랑이\n",
      "Tiger\n",
      "\n",
      "감독정보X\n",
      "****************************************************************************************************\n",
      "20137464\n",
      "형사 가제트 : 최대의 사건\n",
      "Inspector Gadget's Biggest Caper Ever\n",
      "\n",
      "이제키엘 노튼\n",
      "****************************************************************************************************\n"
     ]
    }
   ],
   "source": [
    "# ---> i번째 영화에 대한 정보!\n",
    "tot_cnt  = len(soup.find_all(\"movie\"))\n",
    "\n",
    "# idx = 0\n",
    "\n",
    "for idx in range(tot_cnt):\n",
    "    i_movie = soup.find_all(\"movie\")[idx]\n",
    "    print(i_movie.find(\"moviecd\").text)\n",
    "    print(i_movie.find(\"movienm\").text)\n",
    "    print(i_movie.find(\"movienmen\").text)\n",
    "    print(i_movie.find(\"opendt\").text)\n",
    "    \n",
    "    if i_movie.find_all(\"peoplenm\") !=[]:\n",
    "        print(i_movie.find(\"peoplenm\").text)\n",
    "    else:\n",
    "        print(\"감독정보X\")\n",
    "    print(\"*\"*100)\n",
    "    "
   ]
  },
  {
   "cell_type": "code",
   "execution_count": 57,
   "id": "d4b5059a-fdd8-4c82-8cd7-817f614197b1",
   "metadata": {},
   "outputs": [
    {
     "data": {
      "text/plain": [
       "[['20249587', '부산국제단편영화제 나는 눈이다', 'I the eye', '', 'X'],\n",
       " ['20249603', '부산국제단편영화제 이탈리아 뉴리얼리티', 'Italy Newreality', '', 'X'],\n",
       " ['20249586', '부산국제단편영화제 이탈리아 파노라마', 'Italy Panorama', '', 'X'],\n",
       " ['20249585', '부산국제단편영화제 오퍼레이션 키노', 'Operation Kino', '', 'X'],\n",
       " ['20249602', '부산국제단편영화제 한국경쟁 5', 'Korean Competition 5', '', 'X'],\n",
       " ['20249584', '부산국제단편영화제 한국경쟁 4', 'Korean Competition 4', '', 'X'],\n",
       " ['20249601', '부산국제단편영화제 한국경쟁 3', 'Korean Competition 3', '', 'X'],\n",
       " ['20249600', '부산국제단편영화제 한국경쟁 2', 'Korean Competition 2', '', 'X'],\n",
       " ['20249599', '부산국제단편영화제 한국경쟁 1', 'Korean Competition 1', '', 'X'],\n",
       " ['20234045', '설계자들', 'The Plot', '', '이요섭'],\n",
       " ['20249554', '스픽 노 이블', 'Speak No Evil', '', '제임스 왓킨스'],\n",
       " ['20249153',\n",
       "  '에스파: 월드 투어 인 시네마',\n",
       "  'aespa: WORLD TOUR in cinemas',\n",
       "  '20240410',\n",
       "  '김하민'],\n",
       " ['20248670', '다시 김대중-함께 합시다', '', '20240328', '김진홍'],\n",
       " ['20249583', '부산국제단편영화제 국제경쟁 9', 'International Competition 9', '', 'X'],\n",
       " ['20249582', '부산국제단편영화제 국제경쟁 8', 'International Competition 8', '', 'X'],\n",
       " ['20249581', '부산국제단편영화제 국제경쟁 7', 'International Competition 7', '', 'X'],\n",
       " ['20249580', '부산국제단편영화제 국제경쟁 6', 'International Competition 6', '', 'X'],\n",
       " ['20249579', '부산국제단편영화제 국제경쟁 5', 'International Competition 5', '', 'X'],\n",
       " ['20249598', '부산국제단편영화제 국제경쟁 4', 'International Competition 4', '', 'X'],\n",
       " ['20249597', '부산국제단편영화제 국제경쟁 3', 'International Competition 3', '', 'X'],\n",
       " ['20249596', '부산국제단편영화제 국제경쟁 2', 'International Competition 2', '', 'X'],\n",
       " ['20249578', '부산국제단편영화제 국제경쟁 1', 'International Competition 1', '', 'X'],\n",
       " ['20249577', '부산국제단편영화제 개막작', 'Opening Films', '', 'X'],\n",
       " ['20100625', '화끈한 동영상(이정길)', 'Hot Burning Video', '', 'X'],\n",
       " ['20108641', '홍콩서 온 불사신', 'Little Godfather from Hong Kong', '', '오사원'],\n",
       " ['19720055', '홍살문', 'Gate Of Woman', '', '변장호'],\n",
       " ['20124450', '홍길동 도사학교', '', '', '김춘범'],\n",
       " ['20100592', '혼류', 'Bravura', '', '김연정'],\n",
       " ['20135796', '혼돈의시간들', 'Without Light', '', '그레고리 밀른'],\n",
       " ['20128097', '혼다 - 캐논볼 런', 'Honda - Cannonball Run', '', 'X'],\n",
       " ['19688013', '혹성탈출', 'Planet of the Apes', '', '프랭클린 J. 샤프너'],\n",
       " ['20112448',\n",
       "  '호치민 루트 +하노이 천변풍경',\n",
       "  'Chronicle of a Tape Recorded Over+Hard Rails Across a Gentle River',\n",
       "  '',\n",
       "  'X'],\n",
       " ['20112474', '호치민 루트', 'Chronicle of a Tape Recorded Over', '', 'X'],\n",
       " ['20111179', '호접몽', 'Butterfly Dream', '', 'X'],\n",
       " ['20107717', '호반(湖畔)의 메아리', 'An Echo Of Lakeside', '', '박남수'],\n",
       " ['20128092', '호반 도시 - 예술', 'Lake City - Art', '', 'X'],\n",
       " ['20060793', '호모파베르, 자반고등어(단편)', 'Homo Faber', '', '김은희'],\n",
       " ['2010A503', '호랑이라 불리우는 사나이', \"The Man called 'Tiger'\", '', '권혁재'],\n",
       " ['20111145', '호랑이', 'Tiger', '', 'X'],\n",
       " ['20137464',\n",
       "  '형사 가제트 : 최대의 사건',\n",
       "  \"Inspector Gadget's Biggest Caper Ever\",\n",
       "  '',\n",
       "  '이제키엘 노튼']]"
      ]
     },
     "execution_count": 57,
     "metadata": {},
     "output_type": "execute_result"
    }
   ],
   "source": [
    "movie_list = []\n",
    "\n",
    "for idx, data in enumerate(soup.find_all(\"movie\")):\n",
    "    # data : 개별 영화에 대한 tag 로 작성된 정보\n",
    "    # *** 중요 *** 데이터 정보 추출의 단위가 생플/영화별!!!\n",
    "    code = data.find(\"moviecd\").text\n",
    "    name = data.find(\"movienm\").text\n",
    "    ename = data.find(\"movienmen\").text\n",
    "    date = data.find(\"opendt\").text\n",
    "    if data.find_all(\"peoplenm\") !=[]:\n",
    "        dir_name = data.find(\"peoplenm\").text\n",
    "    else:\n",
    "        dir_name = \"X\" # 얘 빼면 데이터 밀림!\n",
    "        \n",
    "    movie_list.append([code, name, ename, date, dir_name])\n",
    "\n",
    "movie_list"
   ]
  },
  {
   "cell_type": "code",
   "execution_count": 77,
   "id": "06d9731c-9137-4fb8-a7da-ff08e1e9ac71",
   "metadata": {},
   "outputs": [],
   "source": [
    "df = pd.DataFrame(movie_list, columns = [\"code\", \"Title\", \"E-Title\", \"openDay\", \"Dir_name\"])"
   ]
  }
 ],
 "metadata": {
  "kernelspec": {
   "display_name": "Python 3 (ipykernel)",
   "language": "python",
   "name": "python3"
  },
  "language_info": {
   "codemirror_mode": {
    "name": "ipython",
    "version": 3
   },
   "file_extension": ".py",
   "mimetype": "text/x-python",
   "name": "python",
   "nbconvert_exporter": "python",
   "pygments_lexer": "ipython3",
   "version": "3.11.7"
  }
 },
 "nbformat": 4,
 "nbformat_minor": 5
}
