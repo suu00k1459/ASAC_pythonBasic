{
 "cells": [
  {
   "cell_type": "markdown",
   "id": "99640821-e064-43ff-9eb5-99b3046658e7",
   "metadata": {},
   "source": [
    "## ML Titanic data"
   ]
  },
  {
   "cell_type": "markdown",
   "id": "96bb3d33-5c0a-4904-8557-ceb5903ec940",
   "metadata": {},
   "source": [
    "< 모듈 불러오기>"
   ]
  },
  {
   "cell_type": "code",
   "execution_count": 50,
   "id": "7cd730e2-b6d0-450a-8b98-b8b85fe4fc9d",
   "metadata": {},
   "outputs": [],
   "source": [
    "import pandas as pd\n",
    "import numpy as np\n",
    "\n",
    "# encoding\n",
    "from sklearn.preprocessing import LabelEncoder\n",
    "from sklearn.preprocessing import OneHotEncoder\n",
    "\n",
    "# divid data\n",
    "from sklearn.model_selection import train_test_split\n",
    "\n",
    "# validation 4개 중 선택\n",
    "from sklearn.model_selection import KFold\n",
    "from sklearn.model_selection import StratifiedKFold #-- 비율 유지 k-fold\n",
    "from sklearn.model_selection import RepeatedKFold #-- 복원추출 k-fold\n",
    "from sklearn.model_selection import RepeatedStratifiedKFold #-- 복원추출 비율 유지 k-fold\n",
    "\n",
    "# 평가\n",
    "from sklearn.model_selection import cross_val_score\n",
    "from sklearn.metrics import accuracy_score\n",
    "\n",
    "# 파라미터\n",
    "from sklearn.model_selection import GridSearchCV  #--> 직접 다 체크\n",
    "from sklearn.model_selection import RandomizedSearchCV #--> 랜덤하게 서치\n",
    "\n",
    "# ML\n",
    "from sklearn.neighbors import KNeighborsClassifier\n",
    "from sklearn.ensemble import RandomForestClassifier"
   ]
  },
  {
   "cell_type": "markdown",
   "id": "8e87afd4-af03-4862-a210-4b2d02cb38d5",
   "metadata": {},
   "source": [
    "###  **< 데이터 확인하기>**"
   ]
  },
  {
   "cell_type": "markdown",
   "id": "9067a6b4-9df3-45b9-a4c9-62425144c14c",
   "metadata": {},
   "source": [
    "**데이터 불러오기**"
   ]
  },
  {
   "cell_type": "code",
   "execution_count": 31,
   "id": "aa5f3d60-6cb7-41fd-9d0b-51c1cfbbd7c1",
   "metadata": {},
   "outputs": [],
   "source": [
    "data = pd.read_csv(\"train.csv\")"
   ]
  },
  {
   "cell_type": "code",
   "execution_count": 32,
   "id": "9473780a-b960-43de-8397-87c09b8d1fe7",
   "metadata": {},
   "outputs": [
    {
     "data": {
      "text/html": [
       "<div>\n",
       "<style scoped>\n",
       "    .dataframe tbody tr th:only-of-type {\n",
       "        vertical-align: middle;\n",
       "    }\n",
       "\n",
       "    .dataframe tbody tr th {\n",
       "        vertical-align: top;\n",
       "    }\n",
       "\n",
       "    .dataframe thead th {\n",
       "        text-align: right;\n",
       "    }\n",
       "</style>\n",
       "<table border=\"1\" class=\"dataframe\">\n",
       "  <thead>\n",
       "    <tr style=\"text-align: right;\">\n",
       "      <th></th>\n",
       "      <th>PassengerId</th>\n",
       "      <th>Survived</th>\n",
       "      <th>Pclass</th>\n",
       "      <th>Name</th>\n",
       "      <th>Sex</th>\n",
       "      <th>Age</th>\n",
       "      <th>SibSp</th>\n",
       "      <th>Parch</th>\n",
       "      <th>Ticket</th>\n",
       "      <th>Fare</th>\n",
       "      <th>Cabin</th>\n",
       "      <th>Embarked</th>\n",
       "    </tr>\n",
       "  </thead>\n",
       "  <tbody>\n",
       "    <tr>\n",
       "      <th>0</th>\n",
       "      <td>1</td>\n",
       "      <td>0</td>\n",
       "      <td>3</td>\n",
       "      <td>Braund, Mr. Owen Harris</td>\n",
       "      <td>male</td>\n",
       "      <td>22.0</td>\n",
       "      <td>1</td>\n",
       "      <td>0</td>\n",
       "      <td>A/5 21171</td>\n",
       "      <td>7.2500</td>\n",
       "      <td>NaN</td>\n",
       "      <td>S</td>\n",
       "    </tr>\n",
       "    <tr>\n",
       "      <th>1</th>\n",
       "      <td>2</td>\n",
       "      <td>1</td>\n",
       "      <td>1</td>\n",
       "      <td>Cumings, Mrs. John Bradley (Florence Briggs Th...</td>\n",
       "      <td>female</td>\n",
       "      <td>38.0</td>\n",
       "      <td>1</td>\n",
       "      <td>0</td>\n",
       "      <td>PC 17599</td>\n",
       "      <td>71.2833</td>\n",
       "      <td>C85</td>\n",
       "      <td>C</td>\n",
       "    </tr>\n",
       "    <tr>\n",
       "      <th>2</th>\n",
       "      <td>3</td>\n",
       "      <td>1</td>\n",
       "      <td>3</td>\n",
       "      <td>Heikkinen, Miss. Laina</td>\n",
       "      <td>female</td>\n",
       "      <td>26.0</td>\n",
       "      <td>0</td>\n",
       "      <td>0</td>\n",
       "      <td>STON/O2. 3101282</td>\n",
       "      <td>7.9250</td>\n",
       "      <td>NaN</td>\n",
       "      <td>S</td>\n",
       "    </tr>\n",
       "    <tr>\n",
       "      <th>3</th>\n",
       "      <td>4</td>\n",
       "      <td>1</td>\n",
       "      <td>1</td>\n",
       "      <td>Futrelle, Mrs. Jacques Heath (Lily May Peel)</td>\n",
       "      <td>female</td>\n",
       "      <td>35.0</td>\n",
       "      <td>1</td>\n",
       "      <td>0</td>\n",
       "      <td>113803</td>\n",
       "      <td>53.1000</td>\n",
       "      <td>C123</td>\n",
       "      <td>S</td>\n",
       "    </tr>\n",
       "    <tr>\n",
       "      <th>4</th>\n",
       "      <td>5</td>\n",
       "      <td>0</td>\n",
       "      <td>3</td>\n",
       "      <td>Allen, Mr. William Henry</td>\n",
       "      <td>male</td>\n",
       "      <td>35.0</td>\n",
       "      <td>0</td>\n",
       "      <td>0</td>\n",
       "      <td>373450</td>\n",
       "      <td>8.0500</td>\n",
       "      <td>NaN</td>\n",
       "      <td>S</td>\n",
       "    </tr>\n",
       "  </tbody>\n",
       "</table>\n",
       "</div>"
      ],
      "text/plain": [
       "   PassengerId  Survived  Pclass  \\\n",
       "0            1         0       3   \n",
       "1            2         1       1   \n",
       "2            3         1       3   \n",
       "3            4         1       1   \n",
       "4            5         0       3   \n",
       "\n",
       "                                                Name     Sex   Age  SibSp  \\\n",
       "0                            Braund, Mr. Owen Harris    male  22.0      1   \n",
       "1  Cumings, Mrs. John Bradley (Florence Briggs Th...  female  38.0      1   \n",
       "2                             Heikkinen, Miss. Laina  female  26.0      0   \n",
       "3       Futrelle, Mrs. Jacques Heath (Lily May Peel)  female  35.0      1   \n",
       "4                           Allen, Mr. William Henry    male  35.0      0   \n",
       "\n",
       "   Parch            Ticket     Fare Cabin Embarked  \n",
       "0      0         A/5 21171   7.2500   NaN        S  \n",
       "1      0          PC 17599  71.2833   C85        C  \n",
       "2      0  STON/O2. 3101282   7.9250   NaN        S  \n",
       "3      0            113803  53.1000  C123        S  \n",
       "4      0            373450   8.0500   NaN        S  "
      ]
     },
     "execution_count": 32,
     "metadata": {},
     "output_type": "execute_result"
    }
   ],
   "source": [
    "data.head(5)"
   ]
  },
  {
   "cell_type": "markdown",
   "id": "8a46af77-e6ba-45fd-a335-3ed5a412ba68",
   "metadata": {},
   "source": [
    "**데이터 정보 확인하기**"
   ]
  },
  {
   "cell_type": "code",
   "execution_count": 33,
   "id": "de37b9dd-bce0-4524-b1cf-0fc6056ca2a6",
   "metadata": {},
   "outputs": [
    {
     "name": "stdout",
     "output_type": "stream",
     "text": [
      "<class 'pandas.core.frame.DataFrame'>\n",
      "RangeIndex: 891 entries, 0 to 890\n",
      "Data columns (total 12 columns):\n",
      " #   Column       Non-Null Count  Dtype  \n",
      "---  ------       --------------  -----  \n",
      " 0   PassengerId  891 non-null    int64  \n",
      " 1   Survived     891 non-null    int64  \n",
      " 2   Pclass       891 non-null    int64  \n",
      " 3   Name         891 non-null    object \n",
      " 4   Sex          891 non-null    object \n",
      " 5   Age          714 non-null    float64\n",
      " 6   SibSp        891 non-null    int64  \n",
      " 7   Parch        891 non-null    int64  \n",
      " 8   Ticket       891 non-null    object \n",
      " 9   Fare         891 non-null    float64\n",
      " 10  Cabin        204 non-null    object \n",
      " 11  Embarked     889 non-null    object \n",
      "dtypes: float64(2), int64(5), object(5)\n",
      "memory usage: 83.7+ KB\n"
     ]
    }
   ],
   "source": [
    "data.info()"
   ]
  },
  {
   "cell_type": "markdown",
   "id": "97f9afb0-2674-438d-a2ac-151e27362ffc",
   "metadata": {},
   "source": [
    "### 결측치 확인"
   ]
  },
  {
   "cell_type": "markdown",
   "id": "7799a4e9-b6d8-43ee-ae35-63fbaeba1d8d",
   "metadata": {},
   "source": [
    "**결측값이 있는 것으로 확인됨.**  \n",
    "(대부분 891개 데이터이나 age, cabin, embarked 의 결측치 조정이 필요함)"
   ]
  },
  {
   "cell_type": "markdown",
   "id": "4fa83ae7-1fc6-4ab7-b0ad-d41c5aa09f68",
   "metadata": {},
   "source": [
    "**결측치 비율로 확인하기**"
   ]
  },
  {
   "cell_type": "code",
   "execution_count": 34,
   "id": "ff8b1abf-79b4-46e4-909c-798c112de2a5",
   "metadata": {},
   "outputs": [
    {
     "name": "stdout",
     "output_type": "stream",
     "text": [
      "PassengerId: 0.0 %\n",
      "Survived: 0.0 %\n",
      "Pclass: 0.0 %\n",
      "Name: 0.0 %\n",
      "Sex: 0.0 %\n",
      "Age: 19.87 %\n",
      "SibSp: 0.0 %\n",
      "Parch: 0.0 %\n",
      "Ticket: 0.0 %\n",
      "Fare: 0.0 %\n",
      "Cabin: 77.1 %\n",
      "Embarked: 0.22 %\n"
     ]
    }
   ],
   "source": [
    "for col in data.columns:\n",
    "    print(str(col)+\":\", round(data.loc[:,col].isnull().sum()/len(data)*100,2),\"%\")"
   ]
  },
  {
   "cell_type": "markdown",
   "id": "90da4831-4ddf-4cc6-ac91-de56ca46e4c5",
   "metadata": {},
   "source": [
    "### **<전처리>**"
   ]
  },
  {
   "cell_type": "code",
   "execution_count": 35,
   "id": "b10133c7-428f-4cc4-ba0a-d1a011290923",
   "metadata": {},
   "outputs": [],
   "source": [
    "# 결측치 처리\n",
    "def check_fillna(df):\n",
    "    df.loc[:, \"Age\"].fillna(df.loc[:,\"Age\"].mean(), inplace=True)\n",
    "    df.loc[:, \"Cabin\"].fillna(\"N\", inplace = True)\n",
    "    df.loc[:, \"Embarked\"].fillna(\"N\", inplace = True)\n",
    "    df.loc[:, \"Fare\"].fillna(0, inplace = True) #--> 결측치 대체 값은 변수유형도 확인할 것.\n",
    "\n",
    "    return df\n",
    "\n",
    "\n",
    "# 불필요한 컬럼 제거\n",
    "def drop_feature(df):\n",
    "    df.drop([\"PassengerId\",\"Name\",\"Ticket\"], axis=1, inplace = True)\n",
    "\n",
    "    return df\n",
    "\n",
    "\n",
    "# 인코딩 : 범주형은 숫자로 바꿔줘야함. (라벨인코딩: 1,2,3... / 원핫 인코딩 : 남,여 = 0,1 / 더미변수 : 남 = 0, 여 = 1)\n",
    "def encode_fetures(df):\n",
    "    # Cabin의 앞자리 1개만 가져올 거임. ex) C85 => \"C\"\n",
    "    df.loc[:, \"Cabin\"] = df.loc[:, \"Cabin\"].apply(lambda x: str(x)[:1]) \n",
    "\n",
    "    #라벨 인코딩 \n",
    "    cols = [\"Cabin\", \"Sex\", \"Embarked\"]\n",
    "\n",
    "    for col in cols:\n",
    "        le = LabelEncoder()\n",
    "        le.fit(df.loc[:, col])\n",
    "\n",
    "        df.isetitem( df.columns.get_loc(col), le.transform(df.loc[:, col]) ) #****\n",
    "\n",
    "    return df"
   ]
  },
  {
   "cell_type": "markdown",
   "id": "18faa27b-ecd1-4b26-93bd-090da9659583",
   "metadata": {},
   "source": [
    "**** df.isetitem( df.columns.get_loc(col), le.transform(df.loc[:, col]) ) \n",
    "\n",
    "< old version >  \n",
    "df.loc[:, col] = le.transform(df.loc[:,col])\n",
    "\n",
    "컬럼 하나만 보면 int 나 float 로 바껴있는데 data.info()로 확인하면  \n",
    "해당 컬럼이 여전히 object 형으로 나타남  \n",
    "\n",
    "info에서 명시적으로 int 로 바꿔주기 위해 isetitem 을 사용"
   ]
  },
  {
   "cell_type": "code",
   "execution_count": 36,
   "id": "710239eb-b306-4960-b42f-bdc33c93a360",
   "metadata": {},
   "outputs": [],
   "source": [
    "# 한 번에 표현\n",
    "def titanic_preprocessing(df):\n",
    "    df = check_fillna(df)\n",
    "    df = drop_feature(df)\n",
    "    df = encode_fetures(df)\n",
    "\n",
    "    return df"
   ]
  },
  {
   "cell_type": "code",
   "execution_count": 37,
   "id": "c1be74bc-83f0-4fb1-aaf0-9597bdae1f60",
   "metadata": {
    "scrolled": true
   },
   "outputs": [
    {
     "data": {
      "text/html": [
       "<div>\n",
       "<style scoped>\n",
       "    .dataframe tbody tr th:only-of-type {\n",
       "        vertical-align: middle;\n",
       "    }\n",
       "\n",
       "    .dataframe tbody tr th {\n",
       "        vertical-align: top;\n",
       "    }\n",
       "\n",
       "    .dataframe thead th {\n",
       "        text-align: right;\n",
       "    }\n",
       "</style>\n",
       "<table border=\"1\" class=\"dataframe\">\n",
       "  <thead>\n",
       "    <tr style=\"text-align: right;\">\n",
       "      <th></th>\n",
       "      <th>Survived</th>\n",
       "      <th>Pclass</th>\n",
       "      <th>Sex</th>\n",
       "      <th>Age</th>\n",
       "      <th>SibSp</th>\n",
       "      <th>Parch</th>\n",
       "      <th>Fare</th>\n",
       "      <th>Cabin</th>\n",
       "      <th>Embarked</th>\n",
       "    </tr>\n",
       "  </thead>\n",
       "  <tbody>\n",
       "    <tr>\n",
       "      <th>0</th>\n",
       "      <td>0</td>\n",
       "      <td>3</td>\n",
       "      <td>1</td>\n",
       "      <td>22.0</td>\n",
       "      <td>1</td>\n",
       "      <td>0</td>\n",
       "      <td>7.2500</td>\n",
       "      <td>7</td>\n",
       "      <td>3</td>\n",
       "    </tr>\n",
       "    <tr>\n",
       "      <th>1</th>\n",
       "      <td>1</td>\n",
       "      <td>1</td>\n",
       "      <td>0</td>\n",
       "      <td>38.0</td>\n",
       "      <td>1</td>\n",
       "      <td>0</td>\n",
       "      <td>71.2833</td>\n",
       "      <td>2</td>\n",
       "      <td>0</td>\n",
       "    </tr>\n",
       "    <tr>\n",
       "      <th>2</th>\n",
       "      <td>1</td>\n",
       "      <td>3</td>\n",
       "      <td>0</td>\n",
       "      <td>26.0</td>\n",
       "      <td>0</td>\n",
       "      <td>0</td>\n",
       "      <td>7.9250</td>\n",
       "      <td>7</td>\n",
       "      <td>3</td>\n",
       "    </tr>\n",
       "    <tr>\n",
       "      <th>3</th>\n",
       "      <td>1</td>\n",
       "      <td>1</td>\n",
       "      <td>0</td>\n",
       "      <td>35.0</td>\n",
       "      <td>1</td>\n",
       "      <td>0</td>\n",
       "      <td>53.1000</td>\n",
       "      <td>2</td>\n",
       "      <td>3</td>\n",
       "    </tr>\n",
       "    <tr>\n",
       "      <th>4</th>\n",
       "      <td>0</td>\n",
       "      <td>3</td>\n",
       "      <td>1</td>\n",
       "      <td>35.0</td>\n",
       "      <td>0</td>\n",
       "      <td>0</td>\n",
       "      <td>8.0500</td>\n",
       "      <td>7</td>\n",
       "      <td>3</td>\n",
       "    </tr>\n",
       "  </tbody>\n",
       "</table>\n",
       "</div>"
      ],
      "text/plain": [
       "   Survived  Pclass  Sex   Age  SibSp  Parch     Fare  Cabin  Embarked\n",
       "0         0       3    1  22.0      1      0   7.2500      7         3\n",
       "1         1       1    0  38.0      1      0  71.2833      2         0\n",
       "2         1       3    0  26.0      0      0   7.9250      7         3\n",
       "3         1       1    0  35.0      1      0  53.1000      2         3\n",
       "4         0       3    1  35.0      0      0   8.0500      7         3"
      ]
     },
     "execution_count": 37,
     "metadata": {},
     "output_type": "execute_result"
    }
   ],
   "source": [
    "data = titanic_preprocessing(data)\n",
    "data.head(5)"
   ]
  },
  {
   "cell_type": "markdown",
   "id": "c46fb59e-bbcc-4cc8-99ce-ae9aa3be9833",
   "metadata": {},
   "source": [
    "### < 독립변수 종속변수 분리 & valid data 분리 >"
   ]
  },
  {
   "cell_type": "markdown",
   "id": "9386de16-f8b7-42fc-a0ac-7ee6c3ac4e1e",
   "metadata": {},
   "source": [
    "독립변수 종속변수 분리"
   ]
  },
  {
   "cell_type": "code",
   "execution_count": 38,
   "id": "b3e3140e-1306-4a42-a05e-bd27d3e435db",
   "metadata": {},
   "outputs": [],
   "source": [
    "y_titanic = data.loc[:,\"Survived\"]\n",
    "X_titanic = data.drop(\"Survived\", axis = 1)"
   ]
  },
  {
   "cell_type": "code",
   "execution_count": 39,
   "id": "0aac2da1-f843-4679-a644-d163236a717c",
   "metadata": {},
   "outputs": [
    {
     "data": {
      "text/plain": [
       "0      0\n",
       "1      1\n",
       "2      1\n",
       "3      1\n",
       "4      0\n",
       "      ..\n",
       "886    0\n",
       "887    1\n",
       "888    0\n",
       "889    1\n",
       "890    0\n",
       "Name: Survived, Length: 891, dtype: int64"
      ]
     },
     "execution_count": 39,
     "metadata": {},
     "output_type": "execute_result"
    }
   ],
   "source": [
    "y_titanic"
   ]
  },
  {
   "cell_type": "markdown",
   "id": "b166c3a1-4dc5-4958-80b9-bf2e01a650db",
   "metadata": {},
   "source": [
    "data 분리"
   ]
  },
  {
   "cell_type": "code",
   "execution_count": 40,
   "id": "589e5bb4-3930-469c-8b17-9591e2cf75da",
   "metadata": {},
   "outputs": [],
   "source": [
    "X_train, X_val, y_train, y_val = train_test_split(\n",
    "    X_titanic,\n",
    "    y_titanic,\n",
    "    test_size = 0.2, #test 비율이 20%\n",
    "    random_state = 1234, #꼭 1234 아니고 고정시키면 됨\n",
    "    stratify = y_titanic\n",
    ")"
   ]
  },
  {
   "cell_type": "code",
   "execution_count": 41,
   "id": "aedfd1a5-ba56-4743-aa93-ea0b8f4523a7",
   "metadata": {},
   "outputs": [
    {
     "data": {
      "text/plain": [
       "Survived\n",
       "0    0.616573\n",
       "1    0.383427\n",
       "Name: proportion, dtype: float64"
      ]
     },
     "execution_count": 41,
     "metadata": {},
     "output_type": "execute_result"
    }
   ],
   "source": [
    "y_train.value_counts(normalize = True)"
   ]
  },
  {
   "cell_type": "markdown",
   "id": "ec34e835-8fcb-4d14-b7c7-0270738821e9",
   "metadata": {},
   "source": [
    "**k-fold (validation k개 만들기)**"
   ]
  },
  {
   "cell_type": "code",
   "execution_count": 53,
   "id": "6a37acdb-b9ea-4218-90c5-ba89122c8d73",
   "metadata": {},
   "outputs": [],
   "source": [
    "# 방법 1\n",
    "kfold = KFold (n_splits = 5, \n",
    "               random_state=1234, \n",
    "               shuffle =True)\n",
    "\n",
    "# 방법 2\n",
    "str_kfold = StratifiedKFold(n_splits = 5,\n",
    "                           random_state = 1234,\n",
    "                           shuffle = True)\n",
    "\n",
    "# 방법 3\n",
    "rfold  = RepeatedKFold(n_splits = 5,\n",
    "                       random_state = 1234,\n",
    "                       n_repeats = 10)\n",
    "\n",
    "# 방법 4\n",
    "rsfold = RepeatedStratifiedKFold(n_splits =5,\n",
    "                                 random_state=1234,\n",
    "                                 n_repeats = 10)\n"
   ]
  },
  {
   "cell_type": "markdown",
   "id": "c11a5f33-c1cb-4d82-ab28-3e477e4ce28a",
   "metadata": {},
   "source": [
    "### **< ML >**"
   ]
  },
  {
   "cell_type": "markdown",
   "id": "e1683efd-0f0f-4794-9839-09f555434ea0",
   "metadata": {},
   "source": [
    "### **KNN**"
   ]
  },
  {
   "cell_type": "code",
   "execution_count": 55,
   "id": "23d783f8-9bdf-4ad1-9525-450aff27e637",
   "metadata": {},
   "outputs": [
    {
     "data": {
      "text/plain": [
       "array([0.72027972, 0.75524476, 0.66901408, 0.72535211, 0.71126761])"
      ]
     },
     "execution_count": 55,
     "metadata": {},
     "output_type": "execute_result"
    }
   ],
   "source": [
    "knn = KNeighborsClassifier(n_jobs = -1) #컴퓨터가 가지고 있는 팔다리 다 쓸 거임!\n",
    "\n",
    "score = cross_val_score( knn, \n",
    "                        X_train, \n",
    "                        y_train, \n",
    "                        scoring = \"accuracy\" )\n",
    "score"
   ]
  },
  {
   "cell_type": "code",
   "execution_count": 57,
   "id": "1a61298a-9801-4ff1-be32-1a87ca355a02",
   "metadata": {},
   "outputs": [
    {
     "name": "stdout",
     "output_type": "stream",
     "text": [
      "KNN의 0 시도 acc:0.7202797202797203\n",
      "KNN의 1 시도 acc:0.7552447552447552\n",
      "KNN의 2 시도 acc:0.6690140845070423\n",
      "KNN의 3 시도 acc:0.7253521126760564\n",
      "KNN의 4 시도 acc:0.7112676056338029\n",
      "KNN의 모델의 Acc Mean:  0.7162316556682755\n",
      "KNN의 모델의 Acc std:  0.027841452263861546\n"
     ]
    }
   ],
   "source": [
    "for iter_count, acc in enumerate(score):\n",
    "    print(f\"KNN의 {iter_count} 시도 acc:{acc}\")\n",
    "print(\"KNN의 모델의 Acc Mean: \", score.mean())\n",
    "print(\"KNN의 모델의 Acc std: \", score.std()) "
   ]
  },
  {
   "cell_type": "markdown",
   "id": "6eacde18-85bf-4027-bd1d-568d17cbc381",
   "metadata": {},
   "source": [
    "평균적으로 한 71% 정도는 성능이 나오는 것 같은데 더 좋게는 안되는지 찾아봐야할 듯!"
   ]
  },
  {
   "cell_type": "markdown",
   "id": "f9c0a355-9b02-4078-bf46-188484f358f6",
   "metadata": {},
   "source": [
    "1) RGS : 랜덤으로 최적의 파라미터 찾을거임!"
   ]
  },
  {
   "cell_type": "code",
   "execution_count": 58,
   "id": "5e9b9a09-f5c9-44c6-8b3f-6d64d3389a44",
   "metadata": {},
   "outputs": [],
   "source": [
    "parameters = {\n",
    "    \"n_neighbors\" : [1,3,5,7,9,11,13,15,17,19], #이웃 개수 설정 10개 / 컴프리헨션으로 더 많이 지정 가능\n",
    "    \"algorithm\" : [\"auto\", \"ball_tree\", \"kd_tree\"] # 방법 3개 \n",
    "} # 총 30번 돌려볼거임."
   ]
  },
  {
   "cell_type": "code",
   "execution_count": 59,
   "id": "b3ef06b7-e790-4694-941c-b1a0df341db0",
   "metadata": {},
   "outputs": [
    {
     "data": {
      "text/html": [
       "<style>#sk-container-id-1 {color: black;background-color: white;}#sk-container-id-1 pre{padding: 0;}#sk-container-id-1 div.sk-toggleable {background-color: white;}#sk-container-id-1 label.sk-toggleable__label {cursor: pointer;display: block;width: 100%;margin-bottom: 0;padding: 0.3em;box-sizing: border-box;text-align: center;}#sk-container-id-1 label.sk-toggleable__label-arrow:before {content: \"▸\";float: left;margin-right: 0.25em;color: #696969;}#sk-container-id-1 label.sk-toggleable__label-arrow:hover:before {color: black;}#sk-container-id-1 div.sk-estimator:hover label.sk-toggleable__label-arrow:before {color: black;}#sk-container-id-1 div.sk-toggleable__content {max-height: 0;max-width: 0;overflow: hidden;text-align: left;background-color: #f0f8ff;}#sk-container-id-1 div.sk-toggleable__content pre {margin: 0.2em;color: black;border-radius: 0.25em;background-color: #f0f8ff;}#sk-container-id-1 input.sk-toggleable__control:checked~div.sk-toggleable__content {max-height: 200px;max-width: 100%;overflow: auto;}#sk-container-id-1 input.sk-toggleable__control:checked~label.sk-toggleable__label-arrow:before {content: \"▾\";}#sk-container-id-1 div.sk-estimator input.sk-toggleable__control:checked~label.sk-toggleable__label {background-color: #d4ebff;}#sk-container-id-1 div.sk-label input.sk-toggleable__control:checked~label.sk-toggleable__label {background-color: #d4ebff;}#sk-container-id-1 input.sk-hidden--visually {border: 0;clip: rect(1px 1px 1px 1px);clip: rect(1px, 1px, 1px, 1px);height: 1px;margin: -1px;overflow: hidden;padding: 0;position: absolute;width: 1px;}#sk-container-id-1 div.sk-estimator {font-family: monospace;background-color: #f0f8ff;border: 1px dotted black;border-radius: 0.25em;box-sizing: border-box;margin-bottom: 0.5em;}#sk-container-id-1 div.sk-estimator:hover {background-color: #d4ebff;}#sk-container-id-1 div.sk-parallel-item::after {content: \"\";width: 100%;border-bottom: 1px solid gray;flex-grow: 1;}#sk-container-id-1 div.sk-label:hover label.sk-toggleable__label {background-color: #d4ebff;}#sk-container-id-1 div.sk-serial::before {content: \"\";position: absolute;border-left: 1px solid gray;box-sizing: border-box;top: 0;bottom: 0;left: 50%;z-index: 0;}#sk-container-id-1 div.sk-serial {display: flex;flex-direction: column;align-items: center;background-color: white;padding-right: 0.2em;padding-left: 0.2em;position: relative;}#sk-container-id-1 div.sk-item {position: relative;z-index: 1;}#sk-container-id-1 div.sk-parallel {display: flex;align-items: stretch;justify-content: center;background-color: white;position: relative;}#sk-container-id-1 div.sk-item::before, #sk-container-id-1 div.sk-parallel-item::before {content: \"\";position: absolute;border-left: 1px solid gray;box-sizing: border-box;top: 0;bottom: 0;left: 50%;z-index: -1;}#sk-container-id-1 div.sk-parallel-item {display: flex;flex-direction: column;z-index: 1;position: relative;background-color: white;}#sk-container-id-1 div.sk-parallel-item:first-child::after {align-self: flex-end;width: 50%;}#sk-container-id-1 div.sk-parallel-item:last-child::after {align-self: flex-start;width: 50%;}#sk-container-id-1 div.sk-parallel-item:only-child::after {width: 0;}#sk-container-id-1 div.sk-dashed-wrapped {border: 1px dashed gray;margin: 0 0.4em 0.5em 0.4em;box-sizing: border-box;padding-bottom: 0.4em;background-color: white;}#sk-container-id-1 div.sk-label label {font-family: monospace;font-weight: bold;display: inline-block;line-height: 1.2em;}#sk-container-id-1 div.sk-label-container {text-align: center;}#sk-container-id-1 div.sk-container {/* jupyter's `normalize.less` sets `[hidden] { display: none; }` but bootstrap.min.css set `[hidden] { display: none !important; }` so we also need the `!important` here to be able to override the default hidden behavior on the sphinx rendered scikit-learn.org. See: https://github.com/scikit-learn/scikit-learn/issues/21755 */display: inline-block !important;position: relative;}#sk-container-id-1 div.sk-text-repr-fallback {display: none;}</style><div id=\"sk-container-id-1\" class=\"sk-top-container\"><div class=\"sk-text-repr-fallback\"><pre>RandomizedSearchCV(cv=KFold(n_splits=5, random_state=1234, shuffle=True),\n",
       "                   estimator=KNeighborsClassifier(n_jobs=-1), n_jobs=-1,\n",
       "                   param_distributions={&#x27;algorithm&#x27;: [&#x27;auto&#x27;, &#x27;ball_tree&#x27;,\n",
       "                                                      &#x27;kd_tree&#x27;],\n",
       "                                        &#x27;n_neighbors&#x27;: [1, 3, 5, 7, 9, 11, 13,\n",
       "                                                        15, 17, 19]},\n",
       "                   random_state=1234, scoring=&#x27;accuracy&#x27;)</pre><b>In a Jupyter environment, please rerun this cell to show the HTML representation or trust the notebook. <br />On GitHub, the HTML representation is unable to render, please try loading this page with nbviewer.org.</b></div><div class=\"sk-container\" hidden><div class=\"sk-item sk-dashed-wrapped\"><div class=\"sk-label-container\"><div class=\"sk-label sk-toggleable\"><input class=\"sk-toggleable__control sk-hidden--visually\" id=\"sk-estimator-id-1\" type=\"checkbox\" ><label for=\"sk-estimator-id-1\" class=\"sk-toggleable__label sk-toggleable__label-arrow\">RandomizedSearchCV</label><div class=\"sk-toggleable__content\"><pre>RandomizedSearchCV(cv=KFold(n_splits=5, random_state=1234, shuffle=True),\n",
       "                   estimator=KNeighborsClassifier(n_jobs=-1), n_jobs=-1,\n",
       "                   param_distributions={&#x27;algorithm&#x27;: [&#x27;auto&#x27;, &#x27;ball_tree&#x27;,\n",
       "                                                      &#x27;kd_tree&#x27;],\n",
       "                                        &#x27;n_neighbors&#x27;: [1, 3, 5, 7, 9, 11, 13,\n",
       "                                                        15, 17, 19]},\n",
       "                   random_state=1234, scoring=&#x27;accuracy&#x27;)</pre></div></div></div><div class=\"sk-parallel\"><div class=\"sk-parallel-item\"><div class=\"sk-item\"><div class=\"sk-label-container\"><div class=\"sk-label sk-toggleable\"><input class=\"sk-toggleable__control sk-hidden--visually\" id=\"sk-estimator-id-2\" type=\"checkbox\" ><label for=\"sk-estimator-id-2\" class=\"sk-toggleable__label sk-toggleable__label-arrow\">estimator: KNeighborsClassifier</label><div class=\"sk-toggleable__content\"><pre>KNeighborsClassifier(n_jobs=-1)</pre></div></div></div><div class=\"sk-serial\"><div class=\"sk-item\"><div class=\"sk-estimator sk-toggleable\"><input class=\"sk-toggleable__control sk-hidden--visually\" id=\"sk-estimator-id-3\" type=\"checkbox\" ><label for=\"sk-estimator-id-3\" class=\"sk-toggleable__label sk-toggleable__label-arrow\">KNeighborsClassifier</label><div class=\"sk-toggleable__content\"><pre>KNeighborsClassifier(n_jobs=-1)</pre></div></div></div></div></div></div></div></div></div></div>"
      ],
      "text/plain": [
       "RandomizedSearchCV(cv=KFold(n_splits=5, random_state=1234, shuffle=True),\n",
       "                   estimator=KNeighborsClassifier(n_jobs=-1), n_jobs=-1,\n",
       "                   param_distributions={'algorithm': ['auto', 'ball_tree',\n",
       "                                                      'kd_tree'],\n",
       "                                        'n_neighbors': [1, 3, 5, 7, 9, 11, 13,\n",
       "                                                        15, 17, 19]},\n",
       "                   random_state=1234, scoring='accuracy')"
      ]
     },
     "execution_count": 59,
     "metadata": {},
     "output_type": "execute_result"
    }
   ],
   "source": [
    "knn = KNeighborsClassifier(n_jobs = -1)\n",
    "n_iter = 10 #test 파라미터 조합보다 경우의 수가 작으면 에러남\n",
    "knn_kf_rgs = RandomizedSearchCV(\n",
    "    knn, \n",
    "    param_distributions = parameters,\n",
    "    cv = kfold,\n",
    "    scoring = \"accuracy\",\n",
    "    n_jobs= -1,\n",
    "    random_state = 1234,\n",
    "    n_iter = n_iter\n",
    ")\n",
    "\n",
    "knn_kf_rgs.fit(X_train, y_train)"
   ]
  },
  {
   "cell_type": "code",
   "execution_count": 60,
   "id": "6ca90c22-fab8-431e-9ea3-9d8f82ea066b",
   "metadata": {},
   "outputs": [
    {
     "data": {
      "text/plain": [
       "{'mean_fit_time': array([0.00852599, 0.00937643, 0.01186171, 0.00910811, 0.00801902,\n",
       "        0.00922737, 0.00660129, 0.00753083, 0.00684443, 0.00570092]),\n",
       " 'std_fit_time': array([0.00276631, 0.00263589, 0.00202536, 0.00138954, 0.00254446,\n",
       "        0.00218797, 0.0016592 , 0.00179464, 0.00071085, 0.00134313]),\n",
       " 'mean_score_time': array([0.0810236 , 0.06943083, 0.06589251, 0.04247651, 0.04226308,\n",
       "        0.04296751, 0.03713226, 0.03826351, 0.03847985, 0.030549  ]),\n",
       " 'std_score_time': array([0.0370367 , 0.00583675, 0.00605315, 0.00370649, 0.0052124 ,\n",
       "        0.00786207, 0.00163041, 0.0067802 , 0.00663222, 0.00300755]),\n",
       " 'param_n_neighbors': masked_array(data=[15, 1, 9, 3, 17, 17, 7, 7, 9, 7],\n",
       "              mask=[False, False, False, False, False, False, False, False,\n",
       "                    False, False],\n",
       "        fill_value='?',\n",
       "             dtype=object),\n",
       " 'param_algorithm': masked_array(data=['auto', 'ball_tree', 'auto', 'auto', 'kd_tree', 'auto',\n",
       "                    'auto', 'kd_tree', 'ball_tree', 'ball_tree'],\n",
       "              mask=[False, False, False, False, False, False, False, False,\n",
       "                    False, False],\n",
       "        fill_value='?',\n",
       "             dtype=object),\n",
       " 'params': [{'n_neighbors': 15, 'algorithm': 'auto'},\n",
       "  {'n_neighbors': 1, 'algorithm': 'ball_tree'},\n",
       "  {'n_neighbors': 9, 'algorithm': 'auto'},\n",
       "  {'n_neighbors': 3, 'algorithm': 'auto'},\n",
       "  {'n_neighbors': 17, 'algorithm': 'kd_tree'},\n",
       "  {'n_neighbors': 17, 'algorithm': 'auto'},\n",
       "  {'n_neighbors': 7, 'algorithm': 'auto'},\n",
       "  {'n_neighbors': 7, 'algorithm': 'kd_tree'},\n",
       "  {'n_neighbors': 9, 'algorithm': 'ball_tree'},\n",
       "  {'n_neighbors': 7, 'algorithm': 'ball_tree'}],\n",
       " 'split0_test_score': array([0.6993007 , 0.68531469, 0.72027972, 0.72027972, 0.6993007 ,\n",
       "        0.6993007 , 0.72727273, 0.72727273, 0.72027972, 0.72727273]),\n",
       " 'split1_test_score': array([0.71328671, 0.65734266, 0.6993007 , 0.70629371, 0.66433566,\n",
       "        0.66433566, 0.6993007 , 0.6993007 , 0.6993007 , 0.6993007 ]),\n",
       " 'split2_test_score': array([0.70422535, 0.66197183, 0.6971831 , 0.67605634, 0.69014085,\n",
       "        0.69014085, 0.67605634, 0.67605634, 0.6971831 , 0.67605634]),\n",
       " 'split3_test_score': array([0.66901408, 0.69014085, 0.71126761, 0.69014085, 0.66901408,\n",
       "        0.66901408, 0.69014085, 0.69014085, 0.71126761, 0.69014085]),\n",
       " 'split4_test_score': array([0.73943662, 0.83098592, 0.76760563, 0.76056338, 0.71830986,\n",
       "        0.71830986, 0.77464789, 0.77464789, 0.76056338, 0.77464789]),\n",
       " 'mean_test_score': array([0.70505269, 0.70515119, 0.71912735, 0.7106668 , 0.68822023,\n",
       "        0.68822023, 0.7134837 , 0.7134837 , 0.7177189 , 0.7134837 ]),\n",
       " 'std_test_score': array([0.0227271 , 0.06419235, 0.0256433 , 0.02905305, 0.01985548,\n",
       "        0.01985548, 0.0348656 , 0.0348656 , 0.02299902, 0.0348656 ]),\n",
       " 'rank_test_score': array([8, 7, 1, 6, 9, 9, 3, 3, 2, 3])}"
      ]
     },
     "execution_count": 60,
     "metadata": {},
     "output_type": "execute_result"
    }
   ],
   "source": [
    "knn_kf_rgs.cv_results_"
   ]
  },
  {
   "cell_type": "code",
   "execution_count": 62,
   "id": "bcdab9c4-317d-49f8-9680-ed98e90a12fe",
   "metadata": {},
   "outputs": [
    {
     "data": {
      "text/plain": [
       "{'n_neighbors': 9, 'algorithm': 'auto'}"
      ]
     },
     "execution_count": 62,
     "metadata": {},
     "output_type": "execute_result"
    }
   ],
   "source": [
    "# 가장 좋았떤 지표는?\n",
    "knn_kf_rgs.best_params_"
   ]
  },
  {
   "cell_type": "code",
   "execution_count": 64,
   "id": "014e7e44-3058-4e5a-9d50-2c0d4cf9b65a",
   "metadata": {},
   "outputs": [
    {
     "data": {
      "text/plain": [
       "0.7191273515217178"
      ]
     },
     "execution_count": 64,
     "metadata": {},
     "output_type": "execute_result"
    }
   ],
   "source": [
    "# 가장 좋은 조합의 평균 성능은?\n",
    "knn_kf_rgs.best_score_"
   ]
  },
  {
   "cell_type": "markdown",
   "id": "ef88a0b1-68ad-4b16-b6c7-aa2d7a492b1d",
   "metadata": {},
   "source": [
    "모델 정확도 평가하기"
   ]
  },
  {
   "cell_type": "code",
   "execution_count": 66,
   "id": "741425c1-a4e1-426d-b363-074b4fe0a80f",
   "metadata": {},
   "outputs": [
    {
     "name": "stdout",
     "output_type": "stream",
     "text": [
      "KNN kfold RGS Acc: 0.6871508379888268\n"
     ]
    }
   ],
   "source": [
    "knn_kf_rgs_best = knn_kf_rgs.best_estimator_\n",
    "knn_kf_rgs_ypred = knn_kf_rgs_best.predict(X_val)\n",
    "\n",
    "knn_kf_rgs_acc = accuracy_score(y_val, knn_kf_rgs_ypred)\n",
    "print(\"KNN kfold RGS Acc:\",knn_kf_rgs_acc)"
   ]
  },
  {
   "cell_type": "markdown",
   "id": "d7300290-71e3-473b-befe-37c05fec3d28",
   "metadata": {},
   "source": [
    "RGS 바탕으로 디테일하게 탐색!"
   ]
  },
  {
   "cell_type": "code",
   "execution_count": 72,
   "id": "3f11bbd2-ff76-4db5-bc97-a683642c658f",
   "metadata": {},
   "outputs": [
    {
     "data": {
      "text/html": [
       "<style>#sk-container-id-3 {color: black;background-color: white;}#sk-container-id-3 pre{padding: 0;}#sk-container-id-3 div.sk-toggleable {background-color: white;}#sk-container-id-3 label.sk-toggleable__label {cursor: pointer;display: block;width: 100%;margin-bottom: 0;padding: 0.3em;box-sizing: border-box;text-align: center;}#sk-container-id-3 label.sk-toggleable__label-arrow:before {content: \"▸\";float: left;margin-right: 0.25em;color: #696969;}#sk-container-id-3 label.sk-toggleable__label-arrow:hover:before {color: black;}#sk-container-id-3 div.sk-estimator:hover label.sk-toggleable__label-arrow:before {color: black;}#sk-container-id-3 div.sk-toggleable__content {max-height: 0;max-width: 0;overflow: hidden;text-align: left;background-color: #f0f8ff;}#sk-container-id-3 div.sk-toggleable__content pre {margin: 0.2em;color: black;border-radius: 0.25em;background-color: #f0f8ff;}#sk-container-id-3 input.sk-toggleable__control:checked~div.sk-toggleable__content {max-height: 200px;max-width: 100%;overflow: auto;}#sk-container-id-3 input.sk-toggleable__control:checked~label.sk-toggleable__label-arrow:before {content: \"▾\";}#sk-container-id-3 div.sk-estimator input.sk-toggleable__control:checked~label.sk-toggleable__label {background-color: #d4ebff;}#sk-container-id-3 div.sk-label input.sk-toggleable__control:checked~label.sk-toggleable__label {background-color: #d4ebff;}#sk-container-id-3 input.sk-hidden--visually {border: 0;clip: rect(1px 1px 1px 1px);clip: rect(1px, 1px, 1px, 1px);height: 1px;margin: -1px;overflow: hidden;padding: 0;position: absolute;width: 1px;}#sk-container-id-3 div.sk-estimator {font-family: monospace;background-color: #f0f8ff;border: 1px dotted black;border-radius: 0.25em;box-sizing: border-box;margin-bottom: 0.5em;}#sk-container-id-3 div.sk-estimator:hover {background-color: #d4ebff;}#sk-container-id-3 div.sk-parallel-item::after {content: \"\";width: 100%;border-bottom: 1px solid gray;flex-grow: 1;}#sk-container-id-3 div.sk-label:hover label.sk-toggleable__label {background-color: #d4ebff;}#sk-container-id-3 div.sk-serial::before {content: \"\";position: absolute;border-left: 1px solid gray;box-sizing: border-box;top: 0;bottom: 0;left: 50%;z-index: 0;}#sk-container-id-3 div.sk-serial {display: flex;flex-direction: column;align-items: center;background-color: white;padding-right: 0.2em;padding-left: 0.2em;position: relative;}#sk-container-id-3 div.sk-item {position: relative;z-index: 1;}#sk-container-id-3 div.sk-parallel {display: flex;align-items: stretch;justify-content: center;background-color: white;position: relative;}#sk-container-id-3 div.sk-item::before, #sk-container-id-3 div.sk-parallel-item::before {content: \"\";position: absolute;border-left: 1px solid gray;box-sizing: border-box;top: 0;bottom: 0;left: 50%;z-index: -1;}#sk-container-id-3 div.sk-parallel-item {display: flex;flex-direction: column;z-index: 1;position: relative;background-color: white;}#sk-container-id-3 div.sk-parallel-item:first-child::after {align-self: flex-end;width: 50%;}#sk-container-id-3 div.sk-parallel-item:last-child::after {align-self: flex-start;width: 50%;}#sk-container-id-3 div.sk-parallel-item:only-child::after {width: 0;}#sk-container-id-3 div.sk-dashed-wrapped {border: 1px dashed gray;margin: 0 0.4em 0.5em 0.4em;box-sizing: border-box;padding-bottom: 0.4em;background-color: white;}#sk-container-id-3 div.sk-label label {font-family: monospace;font-weight: bold;display: inline-block;line-height: 1.2em;}#sk-container-id-3 div.sk-label-container {text-align: center;}#sk-container-id-3 div.sk-container {/* jupyter's `normalize.less` sets `[hidden] { display: none; }` but bootstrap.min.css set `[hidden] { display: none !important; }` so we also need the `!important` here to be able to override the default hidden behavior on the sphinx rendered scikit-learn.org. See: https://github.com/scikit-learn/scikit-learn/issues/21755 */display: inline-block !important;position: relative;}#sk-container-id-3 div.sk-text-repr-fallback {display: none;}</style><div id=\"sk-container-id-3\" class=\"sk-top-container\"><div class=\"sk-text-repr-fallback\"><pre>GridSearchCV(cv=KFold(n_splits=5, random_state=1234, shuffle=True),\n",
       "             estimator=KNeighborsClassifier(n_jobs=-1), n_jobs=-1,\n",
       "             param_grid={&#x27;n_neighbors&#x27;: [7, 9, 11, 13]}, scoring=&#x27;accuracy&#x27;)</pre><b>In a Jupyter environment, please rerun this cell to show the HTML representation or trust the notebook. <br />On GitHub, the HTML representation is unable to render, please try loading this page with nbviewer.org.</b></div><div class=\"sk-container\" hidden><div class=\"sk-item sk-dashed-wrapped\"><div class=\"sk-label-container\"><div class=\"sk-label sk-toggleable\"><input class=\"sk-toggleable__control sk-hidden--visually\" id=\"sk-estimator-id-7\" type=\"checkbox\" ><label for=\"sk-estimator-id-7\" class=\"sk-toggleable__label sk-toggleable__label-arrow\">GridSearchCV</label><div class=\"sk-toggleable__content\"><pre>GridSearchCV(cv=KFold(n_splits=5, random_state=1234, shuffle=True),\n",
       "             estimator=KNeighborsClassifier(n_jobs=-1), n_jobs=-1,\n",
       "             param_grid={&#x27;n_neighbors&#x27;: [7, 9, 11, 13]}, scoring=&#x27;accuracy&#x27;)</pre></div></div></div><div class=\"sk-parallel\"><div class=\"sk-parallel-item\"><div class=\"sk-item\"><div class=\"sk-label-container\"><div class=\"sk-label sk-toggleable\"><input class=\"sk-toggleable__control sk-hidden--visually\" id=\"sk-estimator-id-8\" type=\"checkbox\" ><label for=\"sk-estimator-id-8\" class=\"sk-toggleable__label sk-toggleable__label-arrow\">estimator: KNeighborsClassifier</label><div class=\"sk-toggleable__content\"><pre>KNeighborsClassifier(n_jobs=-1)</pre></div></div></div><div class=\"sk-serial\"><div class=\"sk-item\"><div class=\"sk-estimator sk-toggleable\"><input class=\"sk-toggleable__control sk-hidden--visually\" id=\"sk-estimator-id-9\" type=\"checkbox\" ><label for=\"sk-estimator-id-9\" class=\"sk-toggleable__label sk-toggleable__label-arrow\">KNeighborsClassifier</label><div class=\"sk-toggleable__content\"><pre>KNeighborsClassifier(n_jobs=-1)</pre></div></div></div></div></div></div></div></div></div></div>"
      ],
      "text/plain": [
       "GridSearchCV(cv=KFold(n_splits=5, random_state=1234, shuffle=True),\n",
       "             estimator=KNeighborsClassifier(n_jobs=-1), n_jobs=-1,\n",
       "             param_grid={'n_neighbors': [7, 9, 11, 13]}, scoring='accuracy')"
      ]
     },
     "execution_count": 72,
     "metadata": {},
     "output_type": "execute_result"
    }
   ],
   "source": [
    "parameters ={\n",
    "    \"n_neighbors\" : [7,9,11,13] \n",
    "    # 별도의 방법 지정 없으면 auto\n",
    "}\n",
    "knn = KNeighborsClassifier(n_jobs = -1)\n",
    "\n",
    "knn_kf_gs = GridSearchCV( knn,\n",
    "                         param_grid = parameters,\n",
    "                         cv = kfold,\n",
    "                         scoring = \"accuracy\",\n",
    "                         n_jobs = -1\n",
    "                        )\n",
    "\n",
    "knn_kf_gs.fit(X_train, y_train)"
   ]
  },
  {
   "cell_type": "code",
   "execution_count": 73,
   "id": "653594c2-2f4e-41df-8bf9-35f5fdf0f088",
   "metadata": {},
   "outputs": [
    {
     "data": {
      "text/plain": [
       "{'mean_fit_time': array([0.01156578, 0.01236749, 0.00793943, 0.00601997]),\n",
       " 'std_fit_time': array([2.32873885e-03, 1.35169986e-03, 1.17370540e-03, 7.15784196e-05]),\n",
       " 'mean_score_time': array([0.07519803, 0.06123438, 0.04100966, 0.03143115]),\n",
       " 'std_score_time': array([0.00663405, 0.01913291, 0.005682  , 0.00729494]),\n",
       " 'param_n_neighbors': masked_array(data=[7, 9, 11, 13],\n",
       "              mask=[False, False, False, False],\n",
       "        fill_value='?',\n",
       "             dtype=object),\n",
       " 'params': [{'n_neighbors': 7},\n",
       "  {'n_neighbors': 9},\n",
       "  {'n_neighbors': 11},\n",
       "  {'n_neighbors': 13}],\n",
       " 'split0_test_score': array([0.72727273, 0.72027972, 0.71328671, 0.70629371]),\n",
       " 'split1_test_score': array([0.6993007 , 0.6993007 , 0.70629371, 0.70629371]),\n",
       " 'split2_test_score': array([0.67605634, 0.6971831 , 0.70422535, 0.71126761]),\n",
       " 'split3_test_score': array([0.69014085, 0.71126761, 0.70422535, 0.66901408]),\n",
       " 'split4_test_score': array([0.77464789, 0.76760563, 0.74647887, 0.74647887]),\n",
       " 'mean_test_score': array([0.7134837 , 0.71912735, 0.714902  , 0.7078696 ]),\n",
       " 'std_test_score': array([0.0348656 , 0.0256433 , 0.01613563, 0.02456396]),\n",
       " 'rank_test_score': array([3, 1, 2, 4])}"
      ]
     },
     "execution_count": 73,
     "metadata": {},
     "output_type": "execute_result"
    }
   ],
   "source": [
    "knn_kf_gs.cv_results_"
   ]
  },
  {
   "cell_type": "code",
   "execution_count": 74,
   "id": "efa7e781-8011-4c32-98c2-6e9d2de6c5fb",
   "metadata": {},
   "outputs": [
    {
     "name": "stdout",
     "output_type": "stream",
     "text": [
      "{'n_neighbors': 9}\n",
      "0.7191273515217178\n"
     ]
    }
   ],
   "source": [
    "print(knn_kf_gs.best_params_)\n",
    "print(knn_kf_gs.best_score_)"
   ]
  },
  {
   "cell_type": "markdown",
   "id": "b4a0abfb-f821-4d40-87bd-2b159d48277d",
   "metadata": {},
   "source": [
    "### **< RandomForest >**"
   ]
  },
  {
   "cell_type": "code",
   "execution_count": 75,
   "id": "8f7bb504-85a8-4b38-ba82-7356bd73fd7b",
   "metadata": {},
   "outputs": [
    {
     "data": {
      "text/plain": [
       "array([0.81118881, 0.84615385, 0.78873239, 0.76056338, 0.83098592])"
      ]
     },
     "execution_count": 75,
     "metadata": {},
     "output_type": "execute_result"
    }
   ],
   "source": [
    "rf = RandomForestClassifier(n_jobs = -1,\n",
    "                            random_state=1234)\n",
    "\n",
    "score = cross_val_score(rf, \n",
    "                        X_train, \n",
    "                        y_train, \n",
    "                        cv = kfold,\n",
    "                        scoring = \"accuracy\")\n",
    "score"
   ]
  },
  {
   "cell_type": "code",
   "execution_count": 76,
   "id": "07f48932-c5f7-4c44-9572-7162bb0abd98",
   "metadata": {},
   "outputs": [
    {
     "name": "stdout",
     "output_type": "stream",
     "text": [
      "RF의 0 시도 acc:0.8111888111888111\n",
      "RF의 1 시도 acc:0.8461538461538461\n",
      "RF의 2 시도 acc:0.7887323943661971\n",
      "RF의 3 시도 acc:0.7605633802816901\n",
      "RF의 4 시도 acc:0.8309859154929577\n",
      "RF 모델의 Acc Mean:  0.8075248694967005\n",
      "RF 모델의 Acc std:  0.030379537772527453\n"
     ]
    }
   ],
   "source": [
    "for iter_count, acc in enumerate(score):\n",
    "    print(f\"RF의 {iter_count} 시도 acc:{acc}\")\n",
    "print(\"RF 모델의 Acc Mean: \", score.mean())\n",
    "print(\"RF 모델의 Acc std: \", score.std())"
   ]
  },
  {
   "cell_type": "code",
   "execution_count": 78,
   "id": "7737e5ac-b5ad-4afa-9e05-c11d652cd285",
   "metadata": {},
   "outputs": [
    {
     "name": "stderr",
     "output_type": "stream",
     "text": [
      "C:\\Users\\NT551XCJ\\anaconda3\\Lib\\site-packages\\sklearn\\model_selection\\_validation.py:378: FitFailedWarning: \n",
      "15 fits failed out of a total of 100.\n",
      "The score on these train-test partitions for these parameters will be set to nan.\n",
      "If these failures are not expected, you can try to debug them by setting error_score='raise'.\n",
      "\n",
      "Below are more details about the failures:\n",
      "--------------------------------------------------------------------------------\n",
      "15 fits failed with the following error:\n",
      "Traceback (most recent call last):\n",
      "  File \"C:\\Users\\NT551XCJ\\anaconda3\\Lib\\site-packages\\sklearn\\model_selection\\_validation.py\", line 686, in _fit_and_score\n",
      "    estimator.fit(X_train, y_train, **fit_params)\n",
      "  File \"C:\\Users\\NT551XCJ\\anaconda3\\Lib\\site-packages\\sklearn\\ensemble\\_forest.py\", line 340, in fit\n",
      "    self._validate_params()\n",
      "  File \"C:\\Users\\NT551XCJ\\anaconda3\\Lib\\site-packages\\sklearn\\base.py\", line 600, in _validate_params\n",
      "    validate_parameter_constraints(\n",
      "  File \"C:\\Users\\NT551XCJ\\anaconda3\\Lib\\site-packages\\sklearn\\utils\\_param_validation.py\", line 97, in validate_parameter_constraints\n",
      "    raise InvalidParameterError(\n",
      "sklearn.utils._param_validation.InvalidParameterError: The 'min_samples_split' parameter of RandomForestClassifier must be an int in the range [2, inf) or a float in the range (0.0, 1.0]. Got 1 instead.\n",
      "\n",
      "  warnings.warn(some_fits_failed_message, FitFailedWarning)\n",
      "C:\\Users\\NT551XCJ\\anaconda3\\Lib\\site-packages\\sklearn\\model_selection\\_search.py:952: UserWarning: One or more of the test scores are non-finite: [0.82579533 0.81735448 0.81733478 0.82019108 0.82298828        nan\n",
      " 0.7794445  0.82999114 0.82437703 0.80472767        nan 0.82435733\n",
      " 0.78368955 0.82294888 0.82015168        nan 0.81733478 0.80892347\n",
      " 0.82013198 0.82578548]\n",
      "  warnings.warn(\n"
     ]
    },
    {
     "data": {
      "text/html": [
       "<style>#sk-container-id-4 {color: black;background-color: white;}#sk-container-id-4 pre{padding: 0;}#sk-container-id-4 div.sk-toggleable {background-color: white;}#sk-container-id-4 label.sk-toggleable__label {cursor: pointer;display: block;width: 100%;margin-bottom: 0;padding: 0.3em;box-sizing: border-box;text-align: center;}#sk-container-id-4 label.sk-toggleable__label-arrow:before {content: \"▸\";float: left;margin-right: 0.25em;color: #696969;}#sk-container-id-4 label.sk-toggleable__label-arrow:hover:before {color: black;}#sk-container-id-4 div.sk-estimator:hover label.sk-toggleable__label-arrow:before {color: black;}#sk-container-id-4 div.sk-toggleable__content {max-height: 0;max-width: 0;overflow: hidden;text-align: left;background-color: #f0f8ff;}#sk-container-id-4 div.sk-toggleable__content pre {margin: 0.2em;color: black;border-radius: 0.25em;background-color: #f0f8ff;}#sk-container-id-4 input.sk-toggleable__control:checked~div.sk-toggleable__content {max-height: 200px;max-width: 100%;overflow: auto;}#sk-container-id-4 input.sk-toggleable__control:checked~label.sk-toggleable__label-arrow:before {content: \"▾\";}#sk-container-id-4 div.sk-estimator input.sk-toggleable__control:checked~label.sk-toggleable__label {background-color: #d4ebff;}#sk-container-id-4 div.sk-label input.sk-toggleable__control:checked~label.sk-toggleable__label {background-color: #d4ebff;}#sk-container-id-4 input.sk-hidden--visually {border: 0;clip: rect(1px 1px 1px 1px);clip: rect(1px, 1px, 1px, 1px);height: 1px;margin: -1px;overflow: hidden;padding: 0;position: absolute;width: 1px;}#sk-container-id-4 div.sk-estimator {font-family: monospace;background-color: #f0f8ff;border: 1px dotted black;border-radius: 0.25em;box-sizing: border-box;margin-bottom: 0.5em;}#sk-container-id-4 div.sk-estimator:hover {background-color: #d4ebff;}#sk-container-id-4 div.sk-parallel-item::after {content: \"\";width: 100%;border-bottom: 1px solid gray;flex-grow: 1;}#sk-container-id-4 div.sk-label:hover label.sk-toggleable__label {background-color: #d4ebff;}#sk-container-id-4 div.sk-serial::before {content: \"\";position: absolute;border-left: 1px solid gray;box-sizing: border-box;top: 0;bottom: 0;left: 50%;z-index: 0;}#sk-container-id-4 div.sk-serial {display: flex;flex-direction: column;align-items: center;background-color: white;padding-right: 0.2em;padding-left: 0.2em;position: relative;}#sk-container-id-4 div.sk-item {position: relative;z-index: 1;}#sk-container-id-4 div.sk-parallel {display: flex;align-items: stretch;justify-content: center;background-color: white;position: relative;}#sk-container-id-4 div.sk-item::before, #sk-container-id-4 div.sk-parallel-item::before {content: \"\";position: absolute;border-left: 1px solid gray;box-sizing: border-box;top: 0;bottom: 0;left: 50%;z-index: -1;}#sk-container-id-4 div.sk-parallel-item {display: flex;flex-direction: column;z-index: 1;position: relative;background-color: white;}#sk-container-id-4 div.sk-parallel-item:first-child::after {align-self: flex-end;width: 50%;}#sk-container-id-4 div.sk-parallel-item:last-child::after {align-self: flex-start;width: 50%;}#sk-container-id-4 div.sk-parallel-item:only-child::after {width: 0;}#sk-container-id-4 div.sk-dashed-wrapped {border: 1px dashed gray;margin: 0 0.4em 0.5em 0.4em;box-sizing: border-box;padding-bottom: 0.4em;background-color: white;}#sk-container-id-4 div.sk-label label {font-family: monospace;font-weight: bold;display: inline-block;line-height: 1.2em;}#sk-container-id-4 div.sk-label-container {text-align: center;}#sk-container-id-4 div.sk-container {/* jupyter's `normalize.less` sets `[hidden] { display: none; }` but bootstrap.min.css set `[hidden] { display: none !important; }` so we also need the `!important` here to be able to override the default hidden behavior on the sphinx rendered scikit-learn.org. See: https://github.com/scikit-learn/scikit-learn/issues/21755 */display: inline-block !important;position: relative;}#sk-container-id-4 div.sk-text-repr-fallback {display: none;}</style><div id=\"sk-container-id-4\" class=\"sk-top-container\"><div class=\"sk-text-repr-fallback\"><pre>RandomizedSearchCV(cv=KFold(n_splits=5, random_state=1234, shuffle=True),\n",
       "                   estimator=RandomForestClassifier(n_jobs=-1,\n",
       "                                                    random_state=1234),\n",
       "                   n_iter=20, n_jobs=-1,\n",
       "                   param_distributions={&#x27;max_depth&#x27;: [2, 3, 4, 5, 6, 7, 8, 10,\n",
       "                                                      20],\n",
       "                                        &#x27;max_features&#x27;: [3, 4, 5, 6, 7],\n",
       "                                        &#x27;min_samples_split&#x27;: [1, 3, 5, 7, 9],\n",
       "                                        &#x27;n_estimators&#x27;: [10, 30, 50, 70, 100,\n",
       "                                                         200, 300, 500, 1000,\n",
       "                                                         2000]},\n",
       "                   random_state=1234, scoring=&#x27;accuracy&#x27;)</pre><b>In a Jupyter environment, please rerun this cell to show the HTML representation or trust the notebook. <br />On GitHub, the HTML representation is unable to render, please try loading this page with nbviewer.org.</b></div><div class=\"sk-container\" hidden><div class=\"sk-item sk-dashed-wrapped\"><div class=\"sk-label-container\"><div class=\"sk-label sk-toggleable\"><input class=\"sk-toggleable__control sk-hidden--visually\" id=\"sk-estimator-id-10\" type=\"checkbox\" ><label for=\"sk-estimator-id-10\" class=\"sk-toggleable__label sk-toggleable__label-arrow\">RandomizedSearchCV</label><div class=\"sk-toggleable__content\"><pre>RandomizedSearchCV(cv=KFold(n_splits=5, random_state=1234, shuffle=True),\n",
       "                   estimator=RandomForestClassifier(n_jobs=-1,\n",
       "                                                    random_state=1234),\n",
       "                   n_iter=20, n_jobs=-1,\n",
       "                   param_distributions={&#x27;max_depth&#x27;: [2, 3, 4, 5, 6, 7, 8, 10,\n",
       "                                                      20],\n",
       "                                        &#x27;max_features&#x27;: [3, 4, 5, 6, 7],\n",
       "                                        &#x27;min_samples_split&#x27;: [1, 3, 5, 7, 9],\n",
       "                                        &#x27;n_estimators&#x27;: [10, 30, 50, 70, 100,\n",
       "                                                         200, 300, 500, 1000,\n",
       "                                                         2000]},\n",
       "                   random_state=1234, scoring=&#x27;accuracy&#x27;)</pre></div></div></div><div class=\"sk-parallel\"><div class=\"sk-parallel-item\"><div class=\"sk-item\"><div class=\"sk-label-container\"><div class=\"sk-label sk-toggleable\"><input class=\"sk-toggleable__control sk-hidden--visually\" id=\"sk-estimator-id-11\" type=\"checkbox\" ><label for=\"sk-estimator-id-11\" class=\"sk-toggleable__label sk-toggleable__label-arrow\">estimator: RandomForestClassifier</label><div class=\"sk-toggleable__content\"><pre>RandomForestClassifier(n_jobs=-1, random_state=1234)</pre></div></div></div><div class=\"sk-serial\"><div class=\"sk-item\"><div class=\"sk-estimator sk-toggleable\"><input class=\"sk-toggleable__control sk-hidden--visually\" id=\"sk-estimator-id-12\" type=\"checkbox\" ><label for=\"sk-estimator-id-12\" class=\"sk-toggleable__label sk-toggleable__label-arrow\">RandomForestClassifier</label><div class=\"sk-toggleable__content\"><pre>RandomForestClassifier(n_jobs=-1, random_state=1234)</pre></div></div></div></div></div></div></div></div></div></div>"
      ],
      "text/plain": [
       "RandomizedSearchCV(cv=KFold(n_splits=5, random_state=1234, shuffle=True),\n",
       "                   estimator=RandomForestClassifier(n_jobs=-1,\n",
       "                                                    random_state=1234),\n",
       "                   n_iter=20, n_jobs=-1,\n",
       "                   param_distributions={'max_depth': [2, 3, 4, 5, 6, 7, 8, 10,\n",
       "                                                      20],\n",
       "                                        'max_features': [3, 4, 5, 6, 7],\n",
       "                                        'min_samples_split': [1, 3, 5, 7, 9],\n",
       "                                        'n_estimators': [10, 30, 50, 70, 100,\n",
       "                                                         200, 300, 500, 1000,\n",
       "                                                         2000]},\n",
       "                   random_state=1234, scoring='accuracy')"
      ]
     },
     "execution_count": 78,
     "metadata": {},
     "output_type": "execute_result"
    }
   ],
   "source": [
    "#RGS\n",
    "rf = RandomForestClassifier(n_jobs= -1,\n",
    "                            random_state = 1234)\n",
    "parameters = {\n",
    "    \"n_estimators\" : [10,30,50,70,100,200,300, 500,1000,2000],\n",
    "    \"max_features\":[3,4,5,6,7], # 분할 시 고려할 최대 feature 개수\n",
    "    \"max_depth\":[2,3,4,5,6,7,8,10,20], # 트리 최대 깊이\n",
    "    \"min_samples_split\": [1,3,5,7,9] # 노드 분할을 위한 최소 샘플 수\n",
    "}\n",
    "n_iter = 20\n",
    "\n",
    "rf_kfold_rgs = RandomizedSearchCV(\n",
    "    rf,\n",
    "    param_distributions = parameters,\n",
    "    cv = kfold,\n",
    "    scoring = \"accuracy\",\n",
    "    n_jobs = -1,\n",
    "    random_state = 1234,\n",
    "    n_iter = n_iter\n",
    ")\n",
    "\n",
    "rf_kfold_rgs.fit(X_train, y_train)"
   ]
  },
  {
   "cell_type": "code",
   "execution_count": 79,
   "id": "73957efe-4f79-46db-a5dd-47b4510eee12",
   "metadata": {},
   "outputs": [
    {
     "data": {
      "text/plain": [
       "0.8299911356249385"
      ]
     },
     "execution_count": 79,
     "metadata": {},
     "output_type": "execute_result"
    }
   ],
   "source": [
    "rf_kfold_rgs.best_score_"
   ]
  },
  {
   "cell_type": "code",
   "execution_count": 80,
   "id": "6279f521-cdcf-43f4-99e3-678bfc79528f",
   "metadata": {},
   "outputs": [
    {
     "data": {
      "text/plain": [
       "{'n_estimators': 50, 'min_samples_split': 7, 'max_features': 6, 'max_depth': 6}"
      ]
     },
     "execution_count": 80,
     "metadata": {},
     "output_type": "execute_result"
    }
   ],
   "source": [
    "rf_kfold_rgs.best_params_"
   ]
  },
  {
   "cell_type": "code",
   "execution_count": 81,
   "id": "238b5d91-5b86-4563-9f68-518822228288",
   "metadata": {},
   "outputs": [
    {
     "data": {
      "text/plain": [
       "0.8324022346368715"
      ]
     },
     "execution_count": 81,
     "metadata": {},
     "output_type": "execute_result"
    }
   ],
   "source": [
    "rf_kf_rgs_best = rf_kfold_rgs.best_estimator_\n",
    "rf_kf_rgs_ypred = rf_kf_rgs_best.predict(X_val)\n",
    "rf_kf_rgs_acc = accuracy_score( y_val, rf_kf_rgs_ypred)\n",
    "rf_kf_rgs_acc"
   ]
  },
  {
   "cell_type": "code",
   "execution_count": 84,
   "id": "c57f181e-4cb9-4e66-926a-7596df12cb8f",
   "metadata": {},
   "outputs": [
    {
     "data": {
      "text/html": [
       "<style>#sk-container-id-5 {color: black;background-color: white;}#sk-container-id-5 pre{padding: 0;}#sk-container-id-5 div.sk-toggleable {background-color: white;}#sk-container-id-5 label.sk-toggleable__label {cursor: pointer;display: block;width: 100%;margin-bottom: 0;padding: 0.3em;box-sizing: border-box;text-align: center;}#sk-container-id-5 label.sk-toggleable__label-arrow:before {content: \"▸\";float: left;margin-right: 0.25em;color: #696969;}#sk-container-id-5 label.sk-toggleable__label-arrow:hover:before {color: black;}#sk-container-id-5 div.sk-estimator:hover label.sk-toggleable__label-arrow:before {color: black;}#sk-container-id-5 div.sk-toggleable__content {max-height: 0;max-width: 0;overflow: hidden;text-align: left;background-color: #f0f8ff;}#sk-container-id-5 div.sk-toggleable__content pre {margin: 0.2em;color: black;border-radius: 0.25em;background-color: #f0f8ff;}#sk-container-id-5 input.sk-toggleable__control:checked~div.sk-toggleable__content {max-height: 200px;max-width: 100%;overflow: auto;}#sk-container-id-5 input.sk-toggleable__control:checked~label.sk-toggleable__label-arrow:before {content: \"▾\";}#sk-container-id-5 div.sk-estimator input.sk-toggleable__control:checked~label.sk-toggleable__label {background-color: #d4ebff;}#sk-container-id-5 div.sk-label input.sk-toggleable__control:checked~label.sk-toggleable__label {background-color: #d4ebff;}#sk-container-id-5 input.sk-hidden--visually {border: 0;clip: rect(1px 1px 1px 1px);clip: rect(1px, 1px, 1px, 1px);height: 1px;margin: -1px;overflow: hidden;padding: 0;position: absolute;width: 1px;}#sk-container-id-5 div.sk-estimator {font-family: monospace;background-color: #f0f8ff;border: 1px dotted black;border-radius: 0.25em;box-sizing: border-box;margin-bottom: 0.5em;}#sk-container-id-5 div.sk-estimator:hover {background-color: #d4ebff;}#sk-container-id-5 div.sk-parallel-item::after {content: \"\";width: 100%;border-bottom: 1px solid gray;flex-grow: 1;}#sk-container-id-5 div.sk-label:hover label.sk-toggleable__label {background-color: #d4ebff;}#sk-container-id-5 div.sk-serial::before {content: \"\";position: absolute;border-left: 1px solid gray;box-sizing: border-box;top: 0;bottom: 0;left: 50%;z-index: 0;}#sk-container-id-5 div.sk-serial {display: flex;flex-direction: column;align-items: center;background-color: white;padding-right: 0.2em;padding-left: 0.2em;position: relative;}#sk-container-id-5 div.sk-item {position: relative;z-index: 1;}#sk-container-id-5 div.sk-parallel {display: flex;align-items: stretch;justify-content: center;background-color: white;position: relative;}#sk-container-id-5 div.sk-item::before, #sk-container-id-5 div.sk-parallel-item::before {content: \"\";position: absolute;border-left: 1px solid gray;box-sizing: border-box;top: 0;bottom: 0;left: 50%;z-index: -1;}#sk-container-id-5 div.sk-parallel-item {display: flex;flex-direction: column;z-index: 1;position: relative;background-color: white;}#sk-container-id-5 div.sk-parallel-item:first-child::after {align-self: flex-end;width: 50%;}#sk-container-id-5 div.sk-parallel-item:last-child::after {align-self: flex-start;width: 50%;}#sk-container-id-5 div.sk-parallel-item:only-child::after {width: 0;}#sk-container-id-5 div.sk-dashed-wrapped {border: 1px dashed gray;margin: 0 0.4em 0.5em 0.4em;box-sizing: border-box;padding-bottom: 0.4em;background-color: white;}#sk-container-id-5 div.sk-label label {font-family: monospace;font-weight: bold;display: inline-block;line-height: 1.2em;}#sk-container-id-5 div.sk-label-container {text-align: center;}#sk-container-id-5 div.sk-container {/* jupyter's `normalize.less` sets `[hidden] { display: none; }` but bootstrap.min.css set `[hidden] { display: none !important; }` so we also need the `!important` here to be able to override the default hidden behavior on the sphinx rendered scikit-learn.org. See: https://github.com/scikit-learn/scikit-learn/issues/21755 */display: inline-block !important;position: relative;}#sk-container-id-5 div.sk-text-repr-fallback {display: none;}</style><div id=\"sk-container-id-5\" class=\"sk-top-container\"><div class=\"sk-text-repr-fallback\"><pre>GridSearchCV(cv=KFold(n_splits=5, random_state=1234, shuffle=True),\n",
       "             estimator=RandomForestClassifier(n_jobs=-1, random_state=1234),\n",
       "             n_jobs=-1,\n",
       "             param_grid={&#x27;max_depth&#x27;: [6, 5, 7], &#x27;max_features&#x27;: [6, 5, 7],\n",
       "                         &#x27;n_estimators&#x27;: [50, 100, 500]},\n",
       "             scoring=&#x27;accuracy&#x27;)</pre><b>In a Jupyter environment, please rerun this cell to show the HTML representation or trust the notebook. <br />On GitHub, the HTML representation is unable to render, please try loading this page with nbviewer.org.</b></div><div class=\"sk-container\" hidden><div class=\"sk-item sk-dashed-wrapped\"><div class=\"sk-label-container\"><div class=\"sk-label sk-toggleable\"><input class=\"sk-toggleable__control sk-hidden--visually\" id=\"sk-estimator-id-13\" type=\"checkbox\" ><label for=\"sk-estimator-id-13\" class=\"sk-toggleable__label sk-toggleable__label-arrow\">GridSearchCV</label><div class=\"sk-toggleable__content\"><pre>GridSearchCV(cv=KFold(n_splits=5, random_state=1234, shuffle=True),\n",
       "             estimator=RandomForestClassifier(n_jobs=-1, random_state=1234),\n",
       "             n_jobs=-1,\n",
       "             param_grid={&#x27;max_depth&#x27;: [6, 5, 7], &#x27;max_features&#x27;: [6, 5, 7],\n",
       "                         &#x27;n_estimators&#x27;: [50, 100, 500]},\n",
       "             scoring=&#x27;accuracy&#x27;)</pre></div></div></div><div class=\"sk-parallel\"><div class=\"sk-parallel-item\"><div class=\"sk-item\"><div class=\"sk-label-container\"><div class=\"sk-label sk-toggleable\"><input class=\"sk-toggleable__control sk-hidden--visually\" id=\"sk-estimator-id-14\" type=\"checkbox\" ><label for=\"sk-estimator-id-14\" class=\"sk-toggleable__label sk-toggleable__label-arrow\">estimator: RandomForestClassifier</label><div class=\"sk-toggleable__content\"><pre>RandomForestClassifier(n_jobs=-1, random_state=1234)</pre></div></div></div><div class=\"sk-serial\"><div class=\"sk-item\"><div class=\"sk-estimator sk-toggleable\"><input class=\"sk-toggleable__control sk-hidden--visually\" id=\"sk-estimator-id-15\" type=\"checkbox\" ><label for=\"sk-estimator-id-15\" class=\"sk-toggleable__label sk-toggleable__label-arrow\">RandomForestClassifier</label><div class=\"sk-toggleable__content\"><pre>RandomForestClassifier(n_jobs=-1, random_state=1234)</pre></div></div></div></div></div></div></div></div></div></div>"
      ],
      "text/plain": [
       "GridSearchCV(cv=KFold(n_splits=5, random_state=1234, shuffle=True),\n",
       "             estimator=RandomForestClassifier(n_jobs=-1, random_state=1234),\n",
       "             n_jobs=-1,\n",
       "             param_grid={'max_depth': [6, 5, 7], 'max_features': [6, 5, 7],\n",
       "                         'n_estimators': [50, 100, 500]},\n",
       "             scoring='accuracy')"
      ]
     },
     "execution_count": 84,
     "metadata": {},
     "output_type": "execute_result"
    }
   ],
   "source": [
    "# GS\n",
    "rf = RandomForestClassifier(n_jobs=-1, random_state=1234)\n",
    "parameters ={\n",
    "    \"n_estimators\":[50, 100,500],\n",
    "    \"max_features\":[6, 5,7],\n",
    "    \"max_depth\" : [6, 5, 7]\n",
    "} \n",
    "rf_kf_gs = GridSearchCV( rf,\n",
    "                        param_grid=parameters,\n",
    "                         cv=kfold,scoring=\"accuracy\",\n",
    "                         n_jobs=-1)\n",
    "rf_kf_gs.fit(X_train, y_train)"
   ]
  },
  {
   "cell_type": "code",
   "execution_count": 85,
   "id": "323714a1-957d-4b3e-abd7-cfd3b8bb2cc8",
   "metadata": {},
   "outputs": [
    {
     "data": {
      "text/plain": [
       "0.8379888268156425"
      ]
     },
     "execution_count": 85,
     "metadata": {},
     "output_type": "execute_result"
    }
   ],
   "source": [
    "# val으로 다시 체크\n",
    "rf_kf_gs_best = rf_kf_gs.best_estimator_\n",
    "rf_kf_gs_ypred = rf_kf_gs_best.predict(X_val)\n",
    "rf_kf_gs_acc = accuracy_score(y_val,rf_kf_gs_ypred )\n",
    "rf_kf_gs_acc"
   ]
  },
  {
   "cell_type": "code",
   "execution_count": null,
   "id": "176caf7b-34f0-413b-abce-71a9974c41d3",
   "metadata": {},
   "outputs": [],
   "source": []
  }
 ],
 "metadata": {
  "kernelspec": {
   "display_name": "Python 3 (ipykernel)",
   "language": "python",
   "name": "python3"
  },
  "language_info": {
   "codemirror_mode": {
    "name": "ipython",
    "version": 3
   },
   "file_extension": ".py",
   "mimetype": "text/x-python",
   "name": "python",
   "nbconvert_exporter": "python",
   "pygments_lexer": "ipython3",
   "version": "3.11.7"
  }
 },
 "nbformat": 4,
 "nbformat_minor": 5
}
