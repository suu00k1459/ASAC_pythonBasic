{
 "cells": [
  {
   "cell_type": "code",
   "execution_count": 1,
   "id": "d266393e-4e44-40ad-9f87-45c3fa37daa3",
   "metadata": {},
   "outputs": [],
   "source": [
    "# 주제 : 정렬\n",
    "# --> 코테용 vs  실제 대면 면접/ 기본 내용 차이점\n",
    "# 코테용 : 정렬관련 알고리즘 주된 내용은 아니고 하나의 주제\n",
    "#          맨 마지막 출력, 중간에 필요한 정도\n",
    "#      => 핵심 : 내가 언하는대로 정렬 규칙 세팅 + 필요한 자료형을 구성. 설정\n",
    "# 실제 대면 면접 : 기본적인 알고리즘 특성 , 파이썬 10줄 이내 가능 문제\n",
    "#                 알고리즘 특성에 대한 일의 효율성\n",
    "#      => 기본 알고리즘을 수업에서 하는 목적 : 파이썬의 목적!!!!!!!!\n"
   ]
  },
  {
   "cell_type": "code",
   "execution_count": 3,
   "id": "3c984c1c-60fb-44f3-b2b8-512935750bf3",
   "metadata": {},
   "outputs": [],
   "source": [
    "# 파이썬을 가지고 정렬하는 경우 = > 2가지\n",
    "# 1) 리스트.sort() 메서드 : 원본이 변경이 된다.\n",
    "# 2) 파이선 자체의 sorted() 함수 : 원본 유지가능, 변경된 결과 따로 할당\n",
    "\n",
    "# --> 공통점 : 사용법 동일\n",
    "# *** 중요한 점 ***\n",
    "# 위의 2가지 기능을 사용할 때 : 문제에서 요구하는대로 정렬 기준 작성\n",
    "# --> lambda 함수를 가지고 정렬 기준 작성\n",
    "#     코테에서는 문제 상황/조건이 다르니깐 연습해야함\n",
    "# +++ 이러한 정렬을 하기 편한 자료형, 값들을 어떻게 설정할지 고민해야함\n"
   ]
  },
  {
   "cell_type": "code",
   "execution_count": 4,
   "id": "0159a17f-1f37-49ba-8087-66817c731644",
   "metadata": {},
   "outputs": [],
   "source": [
    "# 정렬 : 기준을 가지고, 기준에 맞춰서 정리하는 것.\n",
    "# ---> 기준 : 포지션, 값의 크기, 알파벳, 성적순 등등등..."
   ]
  },
  {
   "cell_type": "code",
   "execution_count": 12,
   "id": "dc680e65-b118-46fd-827c-7ccc2aa89aa0",
   "metadata": {},
   "outputs": [
    {
     "data": {
      "text/plain": [
       "[10, 79, 8, 22, 15]"
      ]
     },
     "execution_count": 12,
     "metadata": {},
     "output_type": "execute_result"
    }
   ],
   "source": [
    "# 단순 선서 재배치 : reverse() 메서드\n",
    "# ---> 주의! 값의 크기가 아니라 단순 포지션\n",
    "\n",
    "a=[15,22,8,79,10]\n",
    "a.reverse()\n",
    "a"
   ]
  },
  {
   "cell_type": "code",
   "execution_count": 13,
   "id": "aecec0e8-bda2-4d3e-9175-d559a5b51db0",
   "metadata": {},
   "outputs": [
    {
     "name": "stdout",
     "output_type": "stream",
     "text": [
      "[8, 10, 15, 22, 79]\n",
      "[10, 79, 8, 22, 15]\n"
     ]
    }
   ],
   "source": [
    "# 값을 기준으로 정렬 : .sort()\n",
    "#                    sorted(a)\n",
    "\n",
    "b= sorted(a)\n",
    "print(b)\n",
    "a.sort #원본 회복 불가\n",
    "print(a)"
   ]
  },
  {
   "cell_type": "code",
   "execution_count": 14,
   "id": "349990d4-461a-46a8-bf7e-c4794a7fba9c",
   "metadata": {},
   "outputs": [
    {
     "data": {
      "text/plain": [
       "[15, 22, 8, 79, 10]"
      ]
     },
     "execution_count": 14,
     "metadata": {},
     "output_type": "execute_result"
    }
   ],
   "source": [
    "# 리스트 메서드 : 언본 바로 변경\n",
    "# 파이썬 함수  : 원본은 있지만, 변경 사항을 따로 할당\n",
    "# option : 값에 대한 정렬 : 오름/내림\n",
    "# reverse= Fasle :오름\n",
    "# reverse = True : 내림\n",
    "# FM적인 방법\n",
    "\n",
    "a=[15,22,8,79,10]\n",
    "a"
   ]
  },
  {
   "cell_type": "code",
   "execution_count": 15,
   "id": "c74018d9-29bd-467e-868e-613fc9cb36d4",
   "metadata": {},
   "outputs": [],
   "source": [
    "a.sort(reverse=True)"
   ]
  },
  {
   "cell_type": "code",
   "execution_count": 16,
   "id": "90690dad-fcb9-4709-924d-f09874ba3e86",
   "metadata": {},
   "outputs": [
    {
     "data": {
      "text/plain": [
       "[79, 22, 15, 10, 8]"
      ]
     },
     "execution_count": 16,
     "metadata": {},
     "output_type": "execute_result"
    }
   ],
   "source": [
    "a"
   ]
  },
  {
   "cell_type": "code",
   "execution_count": 18,
   "id": "7257e936-ac58-4743-8813-d25c6a641c36",
   "metadata": {},
   "outputs": [
    {
     "data": {
      "text/plain": [
       "[79, 22, 15, 10, 8]"
      ]
     },
     "execution_count": 18,
     "metadata": {},
     "output_type": "execute_result"
    }
   ],
   "source": [
    "sorted(a, reverse = True)"
   ]
  },
  {
   "cell_type": "code",
   "execution_count": 19,
   "id": "156b594c-b377-473b-bb52-0a320b6f53cf",
   "metadata": {},
   "outputs": [
    {
     "data": {
      "text/plain": [
       "['좋은 하루', 'good_morning', '굿모닝', 'niceday']"
      ]
     },
     "execution_count": 19,
     "metadata": {},
     "output_type": "execute_result"
    }
   ],
   "source": [
    "# 목적 : 내가 원하는 정렬 기준을 만들자.\n",
    "\n",
    "str_list = [\"좋은 하루\", \"good_morning\", \"굿모닝\", \"niceday\"]\n",
    "str_list"
   ]
  },
  {
   "cell_type": "code",
   "execution_count": 23,
   "id": "ac76d30a-ad9c-46b9-8df6-ebdea4d9234c",
   "metadata": {},
   "outputs": [
    {
     "data": {
      "text/plain": [
       "['good_morning', 'niceday', '굿모닝', '좋은 하루']"
      ]
     },
     "execution_count": 23,
     "metadata": {},
     "output_type": "execute_result"
    }
   ],
   "source": [
    "#참고) 수업진행을 위해서 원본을 유지하는 sorted 계열로만 하겠음. 코드로는 .sort() 와 완벽하게 동일\n",
    "\n",
    "sorted(str_list) #-> 기본 : 값 & 오름차순\n",
    "# 컴퓨터의 코드값 기준으로 영어가 앞의 숫자.\n",
    "# sorted(str_list, reverse= True) # 내림차순"
   ]
  },
  {
   "cell_type": "code",
   "execution_count": null,
   "id": "726ffe45-642c-495e-afe5-143ffa0d7410",
   "metadata": {},
   "outputs": [],
   "source": [
    "###############################################################\n",
    "# 원하는 정렬 기준 작성 : key 파라미터에 lambda 함수로 기술\n",
    "###############################################################"
   ]
  },
  {
   "cell_type": "code",
   "execution_count": 24,
   "id": "ce062735-304c-44c2-a7bb-b748f323b2ce",
   "metadata": {},
   "outputs": [
    {
     "data": {
      "text/plain": [
       "['good_morning', 'niceday', '굿모닝', '좋은 하루']"
      ]
     },
     "execution_count": 24,
     "metadata": {},
     "output_type": "execute_result"
    }
   ],
   "source": [
    "# 예) 글자의 앞글자 1개만 가지고 정렬을 하겠다. !!!!!!-> 명확한 기준을 제시한 경우!\n",
    "#     => 그 외의 글자는 신경쓰지 않을 것임.(원본대로 가겠음)\n",
    "\n",
    "sorted(str_list, key = lambda x: x[0])"
   ]
  },
  {
   "cell_type": "code",
   "execution_count": 25,
   "id": "7819bbc8-da28-4b09-93ea-b8a33c8aa1f3",
   "metadata": {},
   "outputs": [
    {
     "data": {
      "text/plain": [
       "['niceday', 'good_morning', '굿모닝', '좋은 하루']"
      ]
     },
     "execution_count": 25,
     "metadata": {},
     "output_type": "execute_result"
    }
   ],
   "source": [
    "#예) 특이하게 정렬의 기준을 2번째 글자로 정렬하기\n",
    "#     --> 너무 특수 기준이어서 내가 직접 만들어야 함\n",
    "sorted(str_list, key= lambda x : x[1])"
   ]
  },
  {
   "cell_type": "code",
   "execution_count": null,
   "id": "39c27da6-6c15-45d1-b848-e888b8cb750f",
   "metadata": {},
   "outputs": [],
   "source": [
    "#예) 특별하게 글자의 길이순서대로 정렬 하세요. -> 이것도 특수 기준  : 내가 직접 만들어야 함\n",
    "sorted(str_list, key = lambda x: len(x))\n",
    "\n",
    "# ---> 오름/내림을 지정하지 않아서 기본인 오름차순이 Default"
   ]
  },
  {
   "cell_type": "code",
   "execution_count": 26,
   "id": "347cf407-e25b-4de6-a6b3-e8aa3ea94e45",
   "metadata": {},
   "outputs": [],
   "source": [
    "#내림차순에 대한 AM적이 ㄴ방법 : 부호ㅓ\n",
    "# 오름차순 +, 내림차순 - : 부호로 표시\n",
    "# *** "
   ]
  },
  {
   "cell_type": "code",
   "execution_count": 27,
   "id": "18104684-3bc6-4d2b-91d6-75b4f891b9b7",
   "metadata": {},
   "outputs": [
    {
     "data": {
      "text/plain": [
       "['good_morning', 'niceday', '좋은 하루', '굿모닝']"
      ]
     },
     "execution_count": 27,
     "metadata": {},
     "output_type": "execute_result"
    }
   ],
   "source": [
    "sorted(str_list , key = lambda x : -len(x))"
   ]
  },
  {
   "cell_type": "code",
   "execution_count": 28,
   "id": "09914688-5e45-403f-bf3d-a4721c261f23",
   "metadata": {},
   "outputs": [
    {
     "data": {
      "text/plain": [
       "[('A', 0), ('B', 1), ('C', 5), ('D', 3), ('E', 5)]"
      ]
     },
     "execution_count": 28,
     "metadata": {},
     "output_type": "execute_result"
    }
   ],
   "source": [
    "# 구체적인 예) 이름하고 성적이 있는 자료들에 대해서 정렬\n",
    "zumsu_list =[(\"A\",0), (\"B\",1),(\"C\",5), (\"D\",3),(\"E\",5)]\n",
    "zumsu_list"
   ]
  },
  {
   "cell_type": "code",
   "execution_count": 29,
   "id": "093ae14e-1a58-4d7a-acc6-d6a3dfe409b1",
   "metadata": {},
   "outputs": [
    {
     "data": {
      "text/plain": [
       "[('A', 0), ('B', 1), ('C', 5), ('D', 3), ('E', 5)]"
      ]
     },
     "execution_count": 29,
     "metadata": {},
     "output_type": "execute_result"
    }
   ],
   "source": [
    "#--> 그냥 정렬\n",
    "sorted(zumsu_list)"
   ]
  },
  {
   "cell_type": "code",
   "execution_count": 33,
   "id": "f69f5936-25dc-4951-b96a-1390d836c06e",
   "metadata": {},
   "outputs": [
    {
     "data": {
      "text/plain": [
       "[('A', 0), ('B', 1), ('C', 5), ('D', 3), ('E', 5)]"
      ]
     },
     "execution_count": 33,
     "metadata": {},
     "output_type": "execute_result"
    }
   ],
   "source": [
    "#--> 정렬 기준 : 이름 중심으로 정렬을 해주세요.\n",
    "sorted(zumsu_list, key= lambda x : x[0])"
   ]
  },
  {
   "cell_type": "code",
   "execution_count": 35,
   "id": "f560b5ef-c3e5-4f9b-9a77-e84e4f0fc2c7",
   "metadata": {},
   "outputs": [
    {
     "data": {
      "text/plain": [
       "[('C', 5), ('E', 5), ('D', 3), ('B', 1), ('A', 0)]"
      ]
     },
     "execution_count": 35,
     "metadata": {},
     "output_type": "execute_result"
    }
   ],
   "source": [
    "# 성적이 제일 높은 친구를 앞으로 낮은 친구를 뒤로 정렬\n",
    "# 성적에 대한 내림챃순  : FM reverse= True, AM:-\n",
    "sorted(zumsu_list, key = lambda x : x[1], reverse = True)\n",
    "sorted(zumsu_list, key = lambda x : -x[1])"
   ]
  },
  {
   "cell_type": "code",
   "execution_count": 43,
   "id": "54f52eae-07d5-407c-a579-f68c7de99a55",
   "metadata": {},
   "outputs": [
    {
     "data": {
      "text/plain": [
       "[('A', 0),\n",
       " ('B', 1),\n",
       " ('C', 5),\n",
       " ('AA', 0),\n",
       " ('z', 1),\n",
       " ('D', 5),\n",
       " ('D', 3),\n",
       " ('E', 5)]"
      ]
     },
     "execution_count": 43,
     "metadata": {},
     "output_type": "execute_result"
    }
   ],
   "source": [
    "# 조금 더 유사한 값들이 있는 조건 : 이름 - 성적\n",
    "zumsu_list =[(\"A\",0), (\"B\",1),(\"C\",5),\n",
    "             (\"AA\",0), (\"z\",1),(\"D\",5),\n",
    "             (\"D\",3),(\"E\",5)]\n",
    "zumsu_list"
   ]
  },
  {
   "cell_type": "code",
   "execution_count": 44,
   "id": "0f7a9be0-9997-4e4a-8e34-f3bc84b57785",
   "metadata": {},
   "outputs": [
    {
     "data": {
      "text/plain": [
       "[('A', 0),\n",
       " ('AA', 0),\n",
       " ('B', 1),\n",
       " ('C', 5),\n",
       " ('D', 3),\n",
       " ('D', 5),\n",
       " ('E', 5),\n",
       " ('z', 1)]"
      ]
     },
     "execution_count": 44,
     "metadata": {},
     "output_type": "execute_result"
    }
   ],
   "source": [
    "# --> 그냥 정렬해줘\n",
    "# 결과 : 이름 순서대로 오름차순 하고, 혹 이름이 같으면, 성적을 기준으로 오름차순\n",
    "# 결론 : 기준대로 다 오름차순을 일괄 적용\n",
    "\n",
    "sorted(zumsu_list)"
   ]
  },
  {
   "cell_type": "code",
   "execution_count": 42,
   "id": "b13e9cfa-f45f-4846-a5ce-5bf4d08b5916",
   "metadata": {
    "scrolled": true
   },
   "outputs": [
    {
     "ename": "TypeError",
     "evalue": "'tuple' object is not callable",
     "output_type": "error",
     "traceback": [
      "\u001b[1;31m---------------------------------------------------------------------------\u001b[0m",
      "\u001b[1;31mTypeError\u001b[0m                                 Traceback (most recent call last)",
      "Cell \u001b[1;32mIn[42], line 13\u001b[0m\n\u001b[0;32m      4\u001b[0m \u001b[38;5;28msorted\u001b[39m(zumsu_list, key \u001b[38;5;241m=\u001b[39m\u001b[38;5;28;01mlambda\u001b[39;00m x : x[\u001b[38;5;241m0\u001b[39m])\n\u001b[0;32m      5\u001b[0m \u001b[38;5;66;03m# --> 코드적으로 정렬 기준에서 안 쓰면 원본 순서가 기준\u001b[39;00m\n\u001b[0;32m      6\u001b[0m \u001b[38;5;66;03m# --> 정렬 아무조건을 안 한 sorted() 동일하게 나오게 조건을 가질 때\u001b[39;00m\n\u001b[0;32m      7\u001b[0m \u001b[38;5;66;03m#          1번 기준  :이름 (오름차순)\u001b[39;00m\n\u001b[1;32m   (...)\u001b[0m\n\u001b[0;32m     10\u001b[0m \u001b[38;5;66;03m#   => 괄호로 묶어서,\u001b[39;00m\n\u001b[0;32m     11\u001b[0m \u001b[38;5;66;03m#   => 작성 순서가 정렬 기준의 순위가 됨!\u001b[39;00m\n\u001b[1;32m---> 13\u001b[0m \u001b[38;5;28msorted\u001b[39m(zumsu_list, key \u001b[38;5;241m=\u001b[39m \u001b[38;5;28;01mlambda\u001b[39;00m x : x([\u001b[38;5;241m0\u001b[39m], x[\u001b[38;5;241m1\u001b[39m]))\n",
      "Cell \u001b[1;32mIn[42], line 13\u001b[0m, in \u001b[0;36m<lambda>\u001b[1;34m(x)\u001b[0m\n\u001b[0;32m      4\u001b[0m \u001b[38;5;28msorted\u001b[39m(zumsu_list, key \u001b[38;5;241m=\u001b[39m\u001b[38;5;28;01mlambda\u001b[39;00m x : x[\u001b[38;5;241m0\u001b[39m])\n\u001b[0;32m      5\u001b[0m \u001b[38;5;66;03m# --> 코드적으로 정렬 기준에서 안 쓰면 원본 순서가 기준\u001b[39;00m\n\u001b[0;32m      6\u001b[0m \u001b[38;5;66;03m# --> 정렬 아무조건을 안 한 sorted() 동일하게 나오게 조건을 가질 때\u001b[39;00m\n\u001b[0;32m      7\u001b[0m \u001b[38;5;66;03m#          1번 기준  :이름 (오름차순)\u001b[39;00m\n\u001b[1;32m   (...)\u001b[0m\n\u001b[0;32m     10\u001b[0m \u001b[38;5;66;03m#   => 괄호로 묶어서,\u001b[39;00m\n\u001b[0;32m     11\u001b[0m \u001b[38;5;66;03m#   => 작성 순서가 정렬 기준의 순위가 됨!\u001b[39;00m\n\u001b[1;32m---> 13\u001b[0m \u001b[38;5;28msorted\u001b[39m(zumsu_list, key \u001b[38;5;241m=\u001b[39m \u001b[38;5;28;01mlambda\u001b[39;00m x : x([\u001b[38;5;241m0\u001b[39m], x[\u001b[38;5;241m1\u001b[39m]))\n",
      "\u001b[1;31mTypeError\u001b[0m: 'tuple' object is not callable"
     ]
    }
   ],
   "source": [
    "# --> 정렬 : 명확하게 정렬 기준에 대해선 1번 글자로 하겠다.\n",
    "#           (혹시 1번 이름이 같다면 원본 순서대로 해줘)\n",
    "\n",
    "sorted(zumsu_list, key =lambda x : x[0])\n",
    "# --> 코드적으로 정렬 기준에서 안 쓰면 원본 순서가 기준\n",
    "# --> 정렬 아무조건을 안 한 sorted() 동일하게 나오게 조건을 가질 때\n",
    "#          1번 기준  :이름 (오름차순)\n",
    "#          2번 기준  :성적(오름차순)\n",
    "# --> lambda 함수에 기준을 순서대로 값이 같을 때 부가 기준들\n",
    "#   => 괄호로 묶어서,\n",
    "#   => 작성 순서가 정렬 기준의 순위가 됨!\n",
    "\n",
    "sorted(zumsu_list, key = lambda x : x([0], x[1]), reverse = True)"
   ]
  },
  {
   "cell_type": "code",
   "execution_count": 45,
   "id": "54195987-d9e2-4f47-8ba5-199d2cc157ec",
   "metadata": {},
   "outputs": [],
   "source": [
    "##코테 - 실패율\n",
    "\n",
    "# 할 일 : 실패율 계싼\n",
    "# 정의 : 실패자 수/ 도전자 수\n",
    "# (도전자 0==> 실패율 0 정의)\n",
    "# --> if 도전자 0 : 그냥 실패율 0\n",
    "#     elif !=0 : 계산\n",
    "# 가변적인 스테이지 수 : N\n",
    "# 이용자 멈춘 스테이지  : 리스트(원소는 숫자) --> 속도 문제 정도..?\n",
    "# --> 값은 1 ~ N+1까지 숫자\n",
    "# --> N+1 : 끝까지 미션 클리어한 경우를 의미\n",
    "# 출력 : 정렬을 해야함\n",
    "# --> 정렬1 : 실패율이 높은 순 : 내림차순 해야함\n",
    "# --> 정렬2 : 작은 스테이지 번호 : 오름차순\n",
    "# 출력 대상 : 스테이지 번호만 출력\n",
    "\n",
    "\n",
    "N=5\n",
    "stages=[2, 1, 2, 6, 2, 4, 3, 3]\n",
    "# 1번\n",
    "# 도전자 =8\n",
    "# 실패자 : 1\n",
    "#-> 실패율 1/8 =0.125\n",
    "\n",
    "# 2번\n",
    "# 도전자=7\n",
    "# 실패자 : 3\n",
    "#-> 실패율 3/7 =0.43\n",
    "\n",
    "# 3번\n",
    "# 도전자 : 4\n",
    "# 실패자 : 2명\n",
    "# -> 실패율 : 2/4=0.5\n",
    "\n",
    "# 4번\n",
    "# 도전자 :2\n",
    "# 실패자 : 1명\n",
    "# -> 실패율 : 1/2=0.5\n",
    "\n",
    "# 5번\n",
    "# 도전자 :1\n",
    "# 실패자 : 0\n",
    "# -> 실패율 0/1 =0\n",
    "# ----------------\n",
    "\n",
    "#실패율 내림\n",
    "#리스트로 반환\n"
   ]
  },
  {
   "cell_type": "code",
   "execution_count": 116,
   "id": "d87cfe42-fa97-47c5-b2e1-bd5482510d38",
   "metadata": {},
   "outputs": [],
   "source": [
    "def solution(N, stages):\n",
    "# stages=[2, 1, 2, 6, 2, 4, 3, 3]\n",
    "# N=5\n",
    "\n",
    "    clg = len(stages)\n",
    "    f=[]\n",
    "    result=[]\n",
    "    for i in range(1,N+1):\n",
    "        st = stages.count(i)\n",
    "        if st ==0:\n",
    "            f.append((0,i))\n",
    "        else :\n",
    "            f.append((st/clg,i))\n",
    "            clg-= st\n",
    "    f.sort(key= lambda x : (-x[0],+x[1]))\n",
    "    for i in f:\n",
    "        result.append(i[1])\n",
    "    return result"
   ]
  },
  {
   "cell_type": "code",
   "execution_count": 117,
   "id": "8334b7d7-af1e-45c0-8dfd-e8ef5b77e744",
   "metadata": {},
   "outputs": [
    {
     "data": {
      "text/plain": [
       "[3, 4, 2, 1, 5]"
      ]
     },
     "execution_count": 117,
     "metadata": {},
     "output_type": "execute_result"
    }
   ],
   "source": [
    "solution(5,\t[2, 1, 2, 6, 2, 4, 3, 3]\t)"
   ]
  },
  {
   "cell_type": "code",
   "execution_count": null,
   "id": "b9557d9f-a333-4ee5-b9a3-78844353dd18",
   "metadata": {},
   "outputs": [],
   "source": [
    "# ==> 돌리면서 필요한 스테이지 넘버만 모으자  : 리스트 컴프리핸션\n",
    "[i[0] for i in temp] \n",
    "# 참고 : 실패자 구하는 간단 방법"
   ]
  },
  {
   "cell_type": "code",
   "execution_count": null,
   "id": "f3356fe0-d99b-49d1-a826-14a683e1ea7b",
   "metadata": {},
   "outputs": [],
   "source": [
    "# 내가 문제를 분석하고, 어떻게 해결의 방향을 설정할지\n",
    "# 문제 이해 ! 과거의 대표 유형과 뭐가 유사한지\n",
    "# ++ 정렬 : 정렬하기 위한 정보들을 어떻게 모을지\n",
    "# == 뭔가 정렬에 필요한 정보들을 연결해서 모아두자\n",
    "#\n",
    "# 참고) 리스트.sort() : 원본 변경\n",
    "#      sorted(리스트) : 원본 유지\n",
    "#      dict --> dict.items() 풀어서 리스트처럼 활용\n",
    "#           --> list(dict.items()) 형 변환해도 됨\n",
    "#               list(t.items()).sort(~~~~)\n",
    "# ** 유연하게 생각하는 연습을 하셔야 함!\n"
   ]
  },
  {
   "cell_type": "code",
   "execution_count": 118,
   "id": "888931cb-edce-4d4d-bd83-86cc47dc5d35",
   "metadata": {},
   "outputs": [],
   "source": [
    "# \n",
    "# 지금 논의 : 정렬 알고리즘 자체에 대한 내용\n",
    "# --> 정렬을 하는 알고리즘에 대한 내용\n",
    "# + 전통적인 알고리즘 중심으로.."
   ]
  },
  {
   "cell_type": "code",
   "execution_count": 120,
   "id": "33b8fabe-7779-4425-a298-c5754368b8f2",
   "metadata": {},
   "outputs": [
    {
     "data": {
      "text/plain": [
       "[30, 10]"
      ]
     },
     "execution_count": 120,
     "metadata": {},
     "output_type": "execute_result"
    }
   ],
   "source": [
    "# 사전 지식 : 정렬의 가장 기본적인 기능 SWAP \n",
    "# --> 값을 서로 교환\n",
    "# 전통적인 언어들은 값을 교환 swap 중간 temp 매개체가 필요함\n",
    "# => 코드가 단순하지만 길어지는 부분이 있음\n",
    "\n",
    "arr=[10,30]\n",
    "temp = arr[0]\n",
    "arr[0] = arr[1]\n",
    "arr[1]= temp\n",
    "arr"
   ]
  },
  {
   "cell_type": "code",
   "execution_count": 122,
   "id": "fd6564f9-b8ee-4439-bfb3-2ead2b89f7f5",
   "metadata": {},
   "outputs": [
    {
     "name": "stdout",
     "output_type": "stream",
     "text": [
      "[3, 10]\n",
      "[10, 3]\n"
     ]
    }
   ],
   "source": [
    "#==> swap 코드의 간결성 & 가독성이 편함\n",
    "\n",
    "arr= [3,10]\n",
    "print(arr)\n",
    "arr[0], arr[1] = arr[1], arr[0]\n",
    "print(arr)"
   ]
  },
  {
   "cell_type": "code",
   "execution_count": 123,
   "id": "8aca52bb-84b5-4e20-a8a5-479235d5c3f0",
   "metadata": {},
   "outputs": [],
   "source": [
    "### 선택 정렬 ###\n",
    "# 기본컨셉 : 호랑이가 제일 쎔 > 그 다음 쎈 애 \n",
    "# 흐름 : 제일 큰 값을 찾고-> 결정, 남은 애들 중에서 그 다음 큰 값 찾고 -> 결정 ... 끝까지\n",
    "# 누가 지금 제일 큰 애가 어디에 있는가\n",
    "# 참고) 인터넷 그림들은 기준 , 위치 가양각색이기 때문에, 개념 인지한 상태에서 그림 볼 것"
   ]
  },
  {
   "cell_type": "code",
   "execution_count": 124,
   "id": "e98e532e-10c5-4e80-a25a-56195a85e1bc",
   "metadata": {},
   "outputs": [
    {
     "data": {
      "text/plain": [
       "[2, 10, 15, 20, 21]"
      ]
     },
     "execution_count": 124,
     "metadata": {},
     "output_type": "execute_result"
    }
   ],
   "source": [
    "arr=[20,21,10,15,2]\n",
    "arr\n",
    "sorted(arr)"
   ]
  },
  {
   "cell_type": "code",
   "execution_count": 125,
   "id": "706fa59c-b7cd-4d6a-b52f-f2c9f219316f",
   "metadata": {},
   "outputs": [],
   "source": [
    "#0번째 단계: 전체 5개 중에서 제일 작은 친구 선택\n",
    "# 5개 중에서 제일 앞 0번째가 작다고 가정\n",
    "    # 그 다음  1번째부터 뽑아서 ~ 맨 끝까지 : 한명씩\n",
    "    # 비교 : 지금 위치에서 새롭게 뽑힌 값, 지금까지 제일 \n",
    "    # --> 비교했을 때 : 기존 1등보다 더 작은 친구가 나오면 \n",
    "#         1등 기록지 변경해주기.\n",
    "#         제일 작은 친구의 위치를 0번째로 swap\n",
    "\n",
    "# 1번째 단계 : 전체 4개 중에 제일 작은 친구 선택\n",
    "#      남은 4개 중에 제일 앞(1번째가) 작다고 가정 -> 1등 정보 변경\n",
    "#       그 다음 2번째부터 하나씩 뽑아서 ~ 맨끝까지 비교\n",
    "#       비교 : 지금 위치에서 새로 뽑힌 값 vs 지금까지 제일 작은 값 비교 =\n",
    "#       --> 비교했을 때 : 기존 1등보다 더 작은 값이 나오면 1등 기록 변경\n",
    "#       제일 작은 친구의 위치를 1번째로 변경\n",
    "\n",
    "# 3, 4,5... 반복\n",
    "\n",
    "#------------------\n",
    "# i 번째 단계 : 남은 수에서 제일 작은 수를 찾자\n",
    "# 초기 제일 작은 값의 세팅을 i번째 값으로 세팅 (반복 )\n"
   ]
  },
  {
   "cell_type": "code",
   "execution_count": 126,
   "id": "f9dfbae8-ce8e-443f-843a-0bf7a0a4fd32",
   "metadata": {},
   "outputs": [
    {
     "name": "stdout",
     "output_type": "stream",
     "text": [
      "[2, 10, 15, 20, 21]\n"
     ]
    }
   ],
   "source": [
    "arr=[20,21,10,15,2]\n",
    "\n",
    "for i_step in range(len(arr)):\n",
    "    #print(i_step) : 5ro dnjsth --> 0~4까지 5단계 롤링\n",
    "    # 1) 지금 i_step에서 제일 작은 친구가 어디에 있는지 기록\n",
    "    # --> 초기 값은 제일 앞에 있는 친구로 설정\n",
    "    min_step = i_step #--> 앞으로 계속 갱신\n",
    "    # 2) i_step +1 위치 값부터 끝까지 다 출전 ㅣ불러 --> for\n",
    "    for i in range(i_step+1, len(arr)):\n",
    "        # 비교 : 지금까지 1등 vs 새로운 값\n",
    "        if arr[i] < arr[min_step]: #더 작은 값 신규 등장 \n",
    "            min_step = i\n",
    "        else :\n",
    "            pass\n",
    "    ### i_step 에서 제일 작은 값에 대한 정보 min_step\n",
    "    # 방 빼서 자리 교환 swap\n",
    "    arr[min_step], arr[i_step] = arr[i_step], arr[min_step]\n",
    "print(arr)"
   ]
  },
  {
   "cell_type": "code",
   "execution_count": 127,
   "id": "684d1217-1fb6-4a2b-95ae-c8b552fc1f97",
   "metadata": {},
   "outputs": [
    {
     "ename": "SyntaxError",
     "evalue": "invalid syntax (2004426353.py, line 8)",
     "output_type": "error",
     "traceback": [
      "\u001b[1;36m  Cell \u001b[1;32mIn[127], line 8\u001b[1;36m\u001b[0m\n\u001b[1;33m    for j in range(n)~ #O(n^2)\u001b[0m\n\u001b[1;37m                     ^\u001b[0m\n\u001b[1;31mSyntaxError\u001b[0m\u001b[1;31m:\u001b[0m invalid syntax\n"
     ]
    }
   ],
   "source": [
    "#arr==n 개 : 원소가 많을 때 오래 걸림\n",
    "# 컴퓨터가 뻗는 경우가 존재\n",
    "# 최신 알고리즘을 한다고 해도 : 오래 걸림\n",
    "# for 문의 중첩을 최소화\n",
    "# 코테에서 3중 for 문이면 코드 의심 해보기\n",
    "\n",
    "for i in range(n):\n",
    "    for j in range(n)~ #O(n^2)\n",
    "\n",
    "for i in range(n):\n",
    "    for j in range(10000) # O(10000*n) ~ n"
   ]
  },
  {
   "cell_type": "code",
   "execution_count": 128,
   "id": "a7546318-5120-4343-a238-0fe6587d5a5e",
   "metadata": {},
   "outputs": [],
   "source": [
    "###삽입 정렬 ###\n",
    "# 기본 컨셉 : 카드게임할 때 카드정리\n",
    "# 기존에 정렬이 되어있는 상태에 중간에 꽂아 넣겠다\n",
    "\n",
    "# 예) [9,5,1,4,3]\n",
    "# 0 step : 9 --> 정리 끝\n",
    "# 1-step : 9 (5) --> 정리가 된 9하고, 새로운 카드 5하고 비교\n",
    "#                    : 새로운 5가 작으면 둘을 swap : 5,9\n",
    "# 2-step : 5, 9 (1) --> 정리된 5,9 있고 새로운 카드 1하고 비교\n",
    "#                    : 정렬된 9와 새로운 1하고 비교\n",
    "#                       -> new 1이 더 작음 : swap!  5,1,9\n",
    "#                      정렬된 5와 새로운 1하고 비교\n",
    "#                       -> new 1이 더 작음 : swap! 1,5,9\n",
    "# 3-step : 1,5,9 (4) --> 정리된 1,5,9 에서 새로운 카드 4하고 비교\n",
    "#                    :  정렬된 9와 새로운 4하고 비교 :swap! 1,5,4,9\n",
    "#                    :  정렬된 5와 새로운 4하고 비교 :swap! 1,4,5,9\n",
    "#                    :  정렬된 1과 새로운 4하고 비교 :1이 더 작음! :stop! 1,4,5,9\n",
    "# 4-step : 1,4,5,9 (3) --> 정리된 1,4,5,9 에서 새로운 카드 3하고 비교\n",
    "#                    :  정렬된 9와 새로운 3하고 비교 :swap! 1,4,5,3,9\n",
    "#                    :  정렬된 5와 새로운 3하고 비교 :swap! 1,4,3,5,9\n",
    "#                    :  정렬된 4와 새로운 3하고 비교 :swap! 1,3,4,5,9\n",
    "#                    :  정렬된 1과 새로운 3하고 비교 :1이 더 작음!:stop! 1,3,4,5,9\n",
    "\n",
    "# 참고) 선택정렬하고 차이점 : 선택정렬은 누가 작은지 기록지가 필요없음\n",
    "#       그냥 계쏙 앞으로 아픙로 swap 갈 때까지!\n",
    "#       못가면 stop!"
   ]
  },
  {
   "cell_type": "code",
   "execution_count": 129,
   "id": "6f217841-967c-4965-85c0-b3885528f162",
   "metadata": {},
   "outputs": [
    {
     "data": {
      "text/plain": [
       "[9, 5, 1, 4, 3]"
      ]
     },
     "execution_count": 129,
     "metadata": {},
     "output_type": "execute_result"
    }
   ],
   "source": [
    "arr=[9,5,1,4,3]\n",
    "arr"
   ]
  },
  {
   "cell_type": "code",
   "execution_count": 132,
   "id": "f08951bc-cdfb-4905-9ae0-0b604aab290c",
   "metadata": {},
   "outputs": [
    {
     "name": "stdout",
     "output_type": "stream",
     "text": [
      "[1, 3, 4, 5, 9]\n"
     ]
    }
   ],
   "source": [
    "#전체적으로 돌리는 구조 :1번 step~ 마지막까지\n",
    "for step in range(1,len(arr)):\n",
    "    for i in range(step,0,-1):# 새로운 카드를 바탕으로 앞으로 전진하면서 도장깨기! -> 역방향으로\n",
    "        if arr[i-1]>arr[i] : #new가 더 작으면...\n",
    "            arr[i-1], arr[i] = arr[i], arr[i-1] #swap!\n",
    "        # else : break를 생략한 이유:\n",
    "        # 최악의 경우 : break가 안 걸림!\n",
    "        # -->알고리즘의  시간 복잡도 상에서 영향 없어서 생략.\n",
    "        #    실제 러닝타임은 영향을 받음\n",
    "print(arr)"
   ]
  },
  {
   "cell_type": "code",
   "execution_count": null,
   "id": "33ad9116-f8d9-4d42-869f-db5618ec1839",
   "metadata": {},
   "outputs": [],
   "source": [
    "# 버블정렬 : 제곱!!\n",
    "#--> N* logN : 퀵 정렬 Quit Sort\n",
    "#--> 재귀함수를 알아야 편함!\n",
    "#     + 탐색, DP\n"
   ]
  }
 ],
 "metadata": {
  "kernelspec": {
   "display_name": "Python 3 (ipykernel)",
   "language": "python",
   "name": "python3"
  },
  "language_info": {
   "codemirror_mode": {
    "name": "ipython",
    "version": 3
   },
   "file_extension": ".py",
   "mimetype": "text/x-python",
   "name": "python",
   "nbconvert_exporter": "python",
   "pygments_lexer": "ipython3",
   "version": "3.11.7"
  }
 },
 "nbformat": 4,
 "nbformat_minor": 5
}
