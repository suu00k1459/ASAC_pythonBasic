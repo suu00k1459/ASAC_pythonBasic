{
 "cells": [
  {
   "cell_type": "code",
   "execution_count": 1,
   "id": "3c95ddc1-428e-48f4-91d0-a237fb4a47c8",
   "metadata": {},
   "outputs": [],
   "source": [
    "# 버블정렬\n",
    "# --> 코드상, 내용상 : 삽입정렬과 상당히 유사!\n",
    "# --> 중간에 기록지가 필요가 없음 : 선택 정렬과 차이점!\n",
    "# --> 컨셉 : 서로 서로 다 비교하면서, 뒤로 이동하자!\n",
    "#          비교는 끝까지 해야함!\n",
    "# 시간의 복잡도 O(N^2)"
   ]
  },
  {
   "cell_type": "code",
   "execution_count": 7,
   "id": "1facf698-89db-435f-ac9a-21dd4beeeeb8",
   "metadata": {},
   "outputs": [
    {
     "name": "stdout",
     "output_type": "stream",
     "text": [
      "0\n",
      "0 0\n",
      "0 1\n",
      "0 2\n",
      "1\n",
      "1 0\n",
      "1 1\n",
      "2\n",
      "2 0\n",
      "3\n",
      "[2, 3, 4, 6]\n"
     ]
    }
   ],
   "source": [
    "# 기본적으로 정렬하고자 하는 수만큼 돌려야 함\n",
    "arr=[4,2,6,3]\n",
    "for step in range(len(arr)):\n",
    "    print(step)\n",
    "    # 앞에서부터 2개씩 가지고 와서 비교 & 큰 것을 뒤로 swap\n",
    "    for i in range(0,len(arr)-step-1):\n",
    "        print(step, i)\n",
    "        if arr[i] >arr[i+1]: # 큰 친구가 앞에 있다 -> 뒤로 보내자\n",
    "            arr[i], arr[i+1] = arr[i+1], arr[i]\n",
    "print(arr)"
   ]
  },
  {
   "cell_type": "code",
   "execution_count": 2,
   "id": "24b4d58e-898f-451f-a122-91eba9fa2e23",
   "metadata": {},
   "outputs": [
    {
     "data": {
      "text/plain": [
       "[-2, 45, 0, 11, 9]"
      ]
     },
     "execution_count": 2,
     "metadata": {},
     "output_type": "execute_result"
    }
   ],
   "source": [
    "arr= [-2,45,0,11,9]\n",
    "arr"
   ]
  },
  {
   "cell_type": "code",
   "execution_count": 8,
   "id": "406d80f0-ee31-443c-aac3-fa3aee337bf5",
   "metadata": {},
   "outputs": [],
   "source": [
    "# 선택정렬 : 그 단계에서 누가 제일 잘하는지/ 대장 & 기록\n",
    "#           그 단계에서 대장을 찾고,swap\n",
    "# 삽입정렬 : 카드 정리 --> 정리가 되어 있는 상태에서 하나씩 중간 중간에 기록지 필요 없음.\n",
    "#           새로운 친구가 탐색의 대상이 정리 가 끝난 애들 중 자기 자리 찾기\n",
    "# 버블정렬 : 계속 2개씩 뒤로 뒤로 비교를 진행\n",
    "#           그 단계의 대장을 찾는 것은 선택정렬과 유사 but 기록\n",
    "#           계속 계속 전진 삽입정렬 유사  but 정리가 안되어 있는 경우\n",
    "#           계속 swap\n",
    "# 코드적으로 파이썬에서 간략하게 작성 가능\n",
    "# 하지만 속도적인 효율성에서는 이중 for 문을 벗어날 수 없음\n",
    "# 간단한 아이디어로 정렬을 할 수 있지만, 속도의 이슈 "
   ]
  },
  {
   "cell_type": "code",
   "execution_count": null,
   "id": "4db50bb8-8d9e-4a78-8dc3-b460abfde3fc",
   "metadata": {},
   "outputs": [],
   "source": []
  }
 ],
 "metadata": {
  "kernelspec": {
   "display_name": "Python 3 (ipykernel)",
   "language": "python",
   "name": "python3"
  },
  "language_info": {
   "codemirror_mode": {
    "name": "ipython",
    "version": 3
   },
   "file_extension": ".py",
   "mimetype": "text/x-python",
   "name": "python",
   "nbconvert_exporter": "python",
   "pygments_lexer": "ipython3",
   "version": "3.11.7"
  }
 },
 "nbformat": 4,
 "nbformat_minor": 5
}
