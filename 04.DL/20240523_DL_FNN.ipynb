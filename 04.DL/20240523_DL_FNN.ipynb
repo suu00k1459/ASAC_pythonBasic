{
  "nbformat": 4,
  "nbformat_minor": 0,
  "metadata": {
    "colab": {
      "provenance": [],
      "gpuType": "T4"
    },
    "kernelspec": {
      "name": "python3",
      "display_name": "Python 3"
    },
    "language_info": {
      "name": "python"
    },
    "accelerator": "GPU"
  },
  "cells": [
    {
      "cell_type": "markdown",
      "source": [
        "\n",
        "minist : 손글씨 데이터셋 0~9 10개의 숫자값에 대한 분류!  \n",
        "--> 1장 데이터 : 28 by 28 2D  \n",
        "(ML : 28*28 = 756 1차원 벡터)  \n",
        "--> 데이터 셋 : (60000, 28, 28) => 3D\n",
        "\n",
        "FashionMNIST : 의상관련된 이미지 분류 셋!!!!!  \n",
        " --> 1장 데이터 : 28,28 ==> 2D (흑백)  \n",
        "--> DL을 통해서 10가지의 의상을 분류!!!  \n",
        "&emsp; 원래는 이미 셋이 이미지 --> CNN 구조를 사용해야 잘 나옴!!!\n",
        "==> 일반적인 Dense레이어를 쌓는 방식의 DNN 구조로 설계!!!!\n",
        " + CNN구조로 설계 향후에 보겠습니다.."
      ],
      "metadata": {
        "id": "6NzfjtC8C85J"
      }
    },
    {
      "cell_type": "code",
      "source": [
        "import tensorflow as tf\n"
      ],
      "metadata": {
        "id": "fftFcdfkEJ13"
      },
      "execution_count": 2,
      "outputs": []
    },
    {
      "cell_type": "markdown",
      "source": [
        "# 1. 데이터셋 불러오기"
      ],
      "metadata": {
        "id": "BDB_SjR1FdWJ"
      }
    },
    {
      "cell_type": "code",
      "source": [
        "fashion_mnist = tf.keras.datasets.fashion_mnist\n",
        "fashion_mnist"
      ],
      "metadata": {
        "colab": {
          "base_uri": "https://localhost:8080/"
        },
        "id": "vYtydFIYErIX",
        "outputId": "1f861cc2-db90-4a0c-a694-18325cfa63fb"
      },
      "execution_count": 8,
      "outputs": [
        {
          "output_type": "execute_result",
          "data": {
            "text/plain": [
              "<module 'keras.api._v2.keras.datasets.fashion_mnist' from '/usr/local/lib/python3.10/dist-packages/keras/api/_v2/keras/datasets/fashion_mnist/__init__.py'>"
            ]
          },
          "metadata": {},
          "execution_count": 8
        }
      ]
    },
    {
      "cell_type": "code",
      "source": [
        "(train_X, train_y), (test_X, test_y) = fashion_mnist.load_data()\n",
        "print(train_X.shape)\n",
        "print(train_y.shape)\n",
        "print(test_X.shape)\n",
        "print(test_y.shape)"
      ],
      "metadata": {
        "colab": {
          "base_uri": "https://localhost:8080/"
        },
        "id": "j1_U-m2EFJz-",
        "outputId": "be33c026-b6ed-416b-b14d-499f0fb1de0d"
      },
      "execution_count": 9,
      "outputs": [
        {
          "output_type": "stream",
          "name": "stdout",
          "text": [
            "Downloading data from https://storage.googleapis.com/tensorflow/tf-keras-datasets/train-labels-idx1-ubyte.gz\n",
            "29515/29515 [==============================] - 0s 0us/step\n",
            "Downloading data from https://storage.googleapis.com/tensorflow/tf-keras-datasets/train-images-idx3-ubyte.gz\n",
            "26421880/26421880 [==============================] - 2s 0us/step\n",
            "Downloading data from https://storage.googleapis.com/tensorflow/tf-keras-datasets/t10k-labels-idx1-ubyte.gz\n",
            "5148/5148 [==============================] - 0s 0us/step\n",
            "Downloading data from https://storage.googleapis.com/tensorflow/tf-keras-datasets/t10k-images-idx3-ubyte.gz\n",
            "4422102/4422102 [==============================] - 1s 0us/step\n",
            "(60000, 28, 28)\n",
            "(60000,)\n",
            "(10000, 28, 28)\n",
            "(10000,)\n"
          ]
        }
      ]
    },
    {
      "cell_type": "markdown",
      "source": [
        "# 2. 전처리 + EDA"
      ],
      "metadata": {
        "id": "eKq4Wmg2FYPH"
      }
    },
    {
      "cell_type": "code",
      "source": [
        "# 실제 프로젝트 : 각가 전처리!!!!\n",
        "# ---> 이미지 데이터 전처리 : openCV(C/C++)\n",
        "# + resize, crop, 색상변환(컬럼 -> 흑백변환, 차원 낮추기), 해상도 등..."
      ],
      "metadata": {
        "id": "wZbPV3psFnZA"
      },
      "execution_count": 10,
      "outputs": []
    },
    {
      "cell_type": "code",
      "source": [
        "import matplotlib.pyplot as plt"
      ],
      "metadata": {
        "id": "FPt4NaEqGBLo"
      },
      "execution_count": 11,
      "outputs": []
    },
    {
      "cell_type": "code",
      "source": [
        "plt.imshow(train_X[0], cmap=\"gray\")\n",
        "plt .colorbar()\n",
        "print(train_y[0])"
      ],
      "metadata": {
        "colab": {
          "base_uri": "https://localhost:8080/",
          "height": 448
        },
        "id": "WrkrThk7GRWA",
        "outputId": "bd55be26-eb38-4afc-a358-a83e03aff211"
      },
      "execution_count": 12,
      "outputs": [
        {
          "output_type": "stream",
          "name": "stdout",
          "text": [
            "9\n"
          ]
        },
        {
          "output_type": "display_data",
          "data": {
            "text/plain": [
              "<Figure size 640x480 with 2 Axes>"
            ],
            "image/png": "[encoded data removed]"
          },
          "metadata": {}
        }
      ]
    },
    {
      "cell_type": "code",
      "source": [
        "# 데이터들의 경우에는 보면 8비트로 0~255까지의 값\n",
        "# --> 이미지 표현의 경우에는 정해진 룰일 딱 존재해서...\n",
        "# --> 일괄적으로 처리하는 경우들이 좀 많이 있음\n",
        "# 값 재조정 : 0~1 MinMaxScaler etc, 0을 중심으로 standardScale etc\n",
        "\n",
        "train_X = train_X / 255.0\n",
        "test_X = test_X / 255.0"
      ],
      "metadata": {
        "id": "gZmMUEarGYSz"
      },
      "execution_count": 14,
      "outputs": []
    },
    {
      "cell_type": "markdown",
      "source": [
        "# 3. 모델 설계"
      ],
      "metadata": {
        "id": "8oWHPMyrHM6V"
      }
    },
    {
      "cell_type": "code",
      "source": [
        "# 모델을 설계 하는데 기준 :\n",
        "# --> 1개 샘플을 기준으로 함\n",
        "# --> 설계 방식 : 전통적인 DNN 구조로 설계!\n",
        "    # 1) DNN으로 설계하기 위해서 flatten (2D->1D)\n",
        "    #   input layer : 노드 (764개)\n",
        "    # 2) HL : 1개만 쌓을 거임(이유는 없음. node =128, AF= Relu)\n",
        "    # 3) OL : 10개에 대한 분류 -> node = 10 + AF : softmax\n",
        "\n",
        "# 주의!\n",
        "# 정답이 train_y는 라벨인코딩! -> 원핫인코딩을 해야하는데\n",
        "#                             => 지금 주어진 정답 : 라벨인코딩 1D,\n",
        "#                             => OL 연결된 정답 : 원핫인코딩 2D"
      ],
      "metadata": {
        "id": "JvJ3yg0CHSTZ"
      },
      "execution_count": 15,
      "outputs": []
    },
    {
      "cell_type": "code",
      "source": [
        "train_X.shape"
      ],
      "metadata": {
        "colab": {
          "base_uri": "https://localhost:8080/"
        },
        "id": "yQd3PdBSHVNJ",
        "outputId": "e33d7b7a-2dc8-4992-d6c1-a8ecd9d2f3b7"
      },
      "execution_count": 16,
      "outputs": [
        {
          "output_type": "execute_result",
          "data": {
            "text/plain": [
              "(60000, 28, 28)"
            ]
          },
          "metadata": {},
          "execution_count": 16
        }
      ]
    },
    {
      "cell_type": "code",
      "source": [
        "train_X[0].shape"
      ],
      "metadata": {
        "colab": {
          "base_uri": "https://localhost:8080/"
        },
        "id": "SS8Q1CX5HWMt",
        "outputId": "0f464810-4d7d-4471-9392-5b36e7cee179"
      },
      "execution_count": 17,
      "outputs": [
        {
          "output_type": "execute_result",
          "data": {
            "text/plain": [
              "(28, 28)"
            ]
          },
          "metadata": {},
          "execution_count": 17
        }
      ]
    },
    {
      "cell_type": "code",
      "source": [],
      "metadata": {
        "id": "nH1o97Y6HXxf"
      },
      "execution_count": null,
      "outputs": []
    },
    {
      "cell_type": "code",
      "source": [
        "# 모델 구조\\\n",
        "model = tf.keras.Sequential(\n",
        "    [\n",
        "        # 쌓는 순서는 입력에서 출력방향으로 쌓아야 함\n",
        "        # 1) 2d 입력을 받아서 1d 모양: 단순 모양 + 1개 샘플의 모양을 입력\n",
        "        tf.keras.layers.Flatten(input_shape = (28,28)),\n",
        "\n",
        "        # 2) HL : 일반적인 Dense 레이어로 기능\n",
        "        # ++ 여러층 추가, 노드도 변경 AF 변경 가능(하이퍼 파라미터 영역)\n",
        "        tf.keras.layers.Dense(units = 128, activation=\"relu\"),\n",
        "\n",
        "        # 3) output layer 설계\n",
        "        # ==> 내 모델의 목적! 목적에 고정\n",
        "        # 목적 : 분류 + 10종\n",
        "        tf.keras.layers.Dense(units = 10, activation = \"softmax\")\n",
        "\n",
        "    ]\n",
        ")\n",
        "model"
      ],
      "metadata": {
        "colab": {
          "base_uri": "https://localhost:8080/"
        },
        "id": "BqOhlVXvJbiU",
        "outputId": "90debb43-0e3f-41e5-bb42-c9eef3c6d18b"
      },
      "execution_count": 20,
      "outputs": [
        {
          "output_type": "execute_result",
          "data": {
            "text/plain": [
              "<keras.src.engine.sequential.Sequential at 0x7f38d45b48b0>"
            ]
          },
          "metadata": {},
          "execution_count": 20
        }
      ]
    },
    {
      "cell_type": "code",
      "source": [
        " model.summary()"
      ],
      "metadata": {
        "colab": {
          "base_uri": "https://localhost:8080/"
        },
        "id": "czGt5-EuK8Pp",
        "outputId": "863b4df4-e559-453c-9a69-ec1a92592b69"
      },
      "execution_count": 21,
      "outputs": [
        {
          "output_type": "stream",
          "name": "stdout",
          "text": [
            "Model: \"sequential\"\n",
            "_________________________________________________________________\n",
            " Layer (type)                Output Shape              Param #   \n",
            "=================================================================\n",
            " flatten_2 (Flatten)         (None, 784)               0         \n",
            "                                                                 \n",
            " dense_2 (Dense)             (None, 128)               100480    \n",
            "                                                                 \n",
            " dense_3 (Dense)             (None, 10)                1290      \n",
            "                                                                 \n",
            "=================================================================\n",
            "Total params: 101770 (397.54 KB)\n",
            "Trainable params: 101770 (397.54 KB)\n",
            "Non-trainable params: 0 (0.00 Byte)\n",
            "_________________________________________________________________\n"
          ]
        }
      ]
    },
    {
      "cell_type": "code",
      "source": [
        "# 데이터 784 개 + bias 1개 가 같이 input 됨"
      ],
      "metadata": {
        "id": "DqJu01FRLFqm"
      },
      "execution_count": null,
      "outputs": []
    },
    {
      "cell_type": "code",
      "source": [
        "# 모델에 있는 weights 들을 어떻게 학습할까->세팅\n",
        "model.compile(\n",
        "    loss = \"categorical_crossentropy\",# 정답을 OneHotEncoding\n",
        "    optimizer= tf.keras.optimizers.Adam(),\n",
        "    # 주어진 약 10개의 weight 파라미터를\n",
        "    # loss CE 관점으로 어찌 최적화를 할지에 대한 방식\n",
        "    # GD -> 인공신경망  Adam() 최적화 방식\n",
        "\n",
        "    metrics = [\"accuracy\"]\n",
        "    # 잘 학습이 되는지 모니터링 지표\n",
        "\n",
        "\n",
        ")"
      ],
      "metadata": {
        "id": "IRRnwXFZLumi"
      },
      "execution_count": 22,
      "outputs": []
    },
    {
      "cell_type": "code",
      "source": [
        "# 참고) 정답지의 모양을 OHEncoding 으로 방식으로 변환\n",
        "# why 여러개의 분류 목적에 의한 output layer 의 노드와 연결\n",
        "train_y[0]\n",
        "# [0,0,0,0,0,0,0,0,1]\n",
        "# ++\n",
        "tf.keras.utils.to_categorical(train_y[0], num_classes=20)"
      ],
      "metadata": {
        "colab": {
          "base_uri": "https://localhost:8080/"
        },
        "id": "1WQum4LjNJxK",
        "outputId": "a208f4ce-947f-42a3-dabe-b4b2715e518c"
      },
      "execution_count": 24,
      "outputs": [
        {
          "output_type": "execute_result",
          "data": {
            "text/plain": [
              "array([0., 0., 0., 0., 0., 0., 0., 0., 0., 1., 0., 0., 0., 0., 0., 0., 0.,\n",
              "       0., 0., 0.], dtype=float32)"
            ]
          },
          "metadata": {},
          "execution_count": 24
        }
      ]
    },
    {
      "cell_type": "markdown",
      "source": [
        "# 4. 모델 학습"
      ],
      "metadata": {
        "id": "6kAZBNWdP-eM"
      }
    },
    {
      "cell_type": "code",
      "source": [
        "# 인공신경망으로 분류!\n",
        "# + 정답에 대한 처리!!!!!\n",
        "history = model.fit(\n",
        "    train_X,\n",
        "    tf.keras.utils.to_categorical(train_y, num_classes=10),\n",
        "\n",
        "    # 얼마나 많은 train 데이터를 재활용할까 epoch\n",
        "    epochs = 100, # overfit + 시간\n",
        "    batch_size = 256, # HW 스펙에 따라서 다름 gpu -> ram\n",
        "    validation_split = 0.25\n",
        ")"
      ],
      "metadata": {
        "colab": {
          "base_uri": "https://localhost:8080/"
        },
        "id": "6cXTKjuXNjSV",
        "outputId": "b1c94e50-aef3-4045-895a-4e141845f986"
      },
      "execution_count": 26,
      "outputs": [
        {
          "output_type": "stream",
          "name": "stdout",
          "text": [
            "Epoch 1/100\n",
            "176/176 [==============================] - 1s 6ms/step - loss: 0.3821 - accuracy: 0.8653 - val_loss: 0.3775 - val_accuracy: 0.8670\n",
            "Epoch 2/100\n",
            "176/176 [==============================] - 1s 4ms/step - loss: 0.3650 - accuracy: 0.8718 - val_loss: 0.3658 - val_accuracy: 0.8693\n",
            "Epoch 3/100\n",
            "176/176 [==============================] - 1s 4ms/step - loss: 0.3529 - accuracy: 0.8740 - val_loss: 0.3656 - val_accuracy: 0.8697\n",
            "Epoch 4/100\n",
            "176/176 [==============================] - 1s 4ms/step - loss: 0.3405 - accuracy: 0.8782 - val_loss: 0.3517 - val_accuracy: 0.8763\n",
            "Epoch 5/100\n",
            "176/176 [==============================] - 1s 4ms/step - loss: 0.3302 - accuracy: 0.8819 - val_loss: 0.3508 - val_accuracy: 0.8724\n",
            "Epoch 6/100\n",
            "176/176 [==============================] - 1s 4ms/step - loss: 0.3186 - accuracy: 0.8861 - val_loss: 0.3381 - val_accuracy: 0.8789\n",
            "Epoch 7/100\n",
            "176/176 [==============================] - 1s 4ms/step - loss: 0.3101 - accuracy: 0.8887 - val_loss: 0.3488 - val_accuracy: 0.8757\n",
            "Epoch 8/100\n",
            "176/176 [==============================] - 1s 4ms/step - loss: 0.3000 - accuracy: 0.8922 - val_loss: 0.3235 - val_accuracy: 0.8843\n",
            "Epoch 9/100\n",
            "176/176 [==============================] - 1s 4ms/step - loss: 0.2888 - accuracy: 0.8964 - val_loss: 0.3237 - val_accuracy: 0.8846\n",
            "Epoch 10/100\n",
            "176/176 [==============================] - 1s 4ms/step - loss: 0.2847 - accuracy: 0.8969 - val_loss: 0.3211 - val_accuracy: 0.8849\n",
            "Epoch 11/100\n",
            "176/176 [==============================] - 1s 5ms/step - loss: 0.2754 - accuracy: 0.9011 - val_loss: 0.3139 - val_accuracy: 0.8874\n",
            "Epoch 12/100\n",
            "176/176 [==============================] - 1s 6ms/step - loss: 0.2700 - accuracy: 0.9024 - val_loss: 0.3282 - val_accuracy: 0.8823\n",
            "Epoch 13/100\n",
            "176/176 [==============================] - 1s 5ms/step - loss: 0.2615 - accuracy: 0.9058 - val_loss: 0.3106 - val_accuracy: 0.8903\n",
            "Epoch 14/100\n",
            "176/176 [==============================] - 1s 4ms/step - loss: 0.2556 - accuracy: 0.9083 - val_loss: 0.3119 - val_accuracy: 0.8890\n",
            "Epoch 15/100\n",
            "176/176 [==============================] - 1s 4ms/step - loss: 0.2493 - accuracy: 0.9096 - val_loss: 0.3155 - val_accuracy: 0.8869\n",
            "Epoch 16/100\n",
            "176/176 [==============================] - 1s 4ms/step - loss: 0.2422 - accuracy: 0.9126 - val_loss: 0.3004 - val_accuracy: 0.8926\n",
            "Epoch 17/100\n",
            "176/176 [==============================] - 1s 4ms/step - loss: 0.2369 - accuracy: 0.9157 - val_loss: 0.3019 - val_accuracy: 0.8907\n",
            "Epoch 18/100\n",
            "176/176 [==============================] - 1s 4ms/step - loss: 0.2320 - accuracy: 0.9164 - val_loss: 0.3068 - val_accuracy: 0.8905\n",
            "Epoch 19/100\n",
            "176/176 [==============================] - 1s 4ms/step - loss: 0.2285 - accuracy: 0.9160 - val_loss: 0.3060 - val_accuracy: 0.8912\n",
            "Epoch 20/100\n",
            "176/176 [==============================] - 1s 4ms/step - loss: 0.2198 - accuracy: 0.9202 - val_loss: 0.2971 - val_accuracy: 0.8921\n",
            "Epoch 21/100\n",
            "176/176 [==============================] - 1s 4ms/step - loss: 0.2153 - accuracy: 0.9230 - val_loss: 0.3006 - val_accuracy: 0.8935\n",
            "Epoch 22/100\n",
            "176/176 [==============================] - 1s 4ms/step - loss: 0.2105 - accuracy: 0.9241 - val_loss: 0.3166 - val_accuracy: 0.8881\n",
            "Epoch 23/100\n",
            "176/176 [==============================] - 1s 4ms/step - loss: 0.2083 - accuracy: 0.9248 - val_loss: 0.3052 - val_accuracy: 0.8923\n",
            "Epoch 24/100\n",
            "176/176 [==============================] - 1s 4ms/step - loss: 0.2049 - accuracy: 0.9260 - val_loss: 0.3005 - val_accuracy: 0.8915\n",
            "Epoch 25/100\n",
            "176/176 [==============================] - 1s 4ms/step - loss: 0.1994 - accuracy: 0.9272 - val_loss: 0.2975 - val_accuracy: 0.8951\n",
            "Epoch 26/100\n",
            "176/176 [==============================] - 1s 4ms/step - loss: 0.1972 - accuracy: 0.9277 - val_loss: 0.2976 - val_accuracy: 0.8967\n",
            "Epoch 27/100\n",
            "176/176 [==============================] - 1s 4ms/step - loss: 0.1913 - accuracy: 0.9304 - val_loss: 0.3154 - val_accuracy: 0.8893\n",
            "Epoch 28/100\n",
            "176/176 [==============================] - 1s 5ms/step - loss: 0.1865 - accuracy: 0.9328 - val_loss: 0.3109 - val_accuracy: 0.8920\n",
            "Epoch 29/100\n",
            "176/176 [==============================] - 1s 6ms/step - loss: 0.1791 - accuracy: 0.9353 - val_loss: 0.3109 - val_accuracy: 0.8905\n",
            "Epoch 30/100\n",
            "176/176 [==============================] - 1s 6ms/step - loss: 0.1786 - accuracy: 0.9347 - val_loss: 0.3220 - val_accuracy: 0.8917\n",
            "Epoch 31/100\n",
            "176/176 [==============================] - 1s 4ms/step - loss: 0.1757 - accuracy: 0.9372 - val_loss: 0.3014 - val_accuracy: 0.8957\n",
            "Epoch 32/100\n",
            "176/176 [==============================] - 1s 4ms/step - loss: 0.1711 - accuracy: 0.9395 - val_loss: 0.3058 - val_accuracy: 0.8944\n",
            "Epoch 33/100\n",
            "176/176 [==============================] - 1s 4ms/step - loss: 0.1665 - accuracy: 0.9408 - val_loss: 0.3079 - val_accuracy: 0.8953\n",
            "Epoch 34/100\n",
            "176/176 [==============================] - 1s 4ms/step - loss: 0.1627 - accuracy: 0.9412 - val_loss: 0.3063 - val_accuracy: 0.8947\n",
            "Epoch 35/100\n",
            "176/176 [==============================] - 1s 4ms/step - loss: 0.1580 - accuracy: 0.9432 - val_loss: 0.3248 - val_accuracy: 0.8929\n",
            "Epoch 36/100\n",
            "176/176 [==============================] - 1s 4ms/step - loss: 0.1599 - accuracy: 0.9420 - val_loss: 0.3158 - val_accuracy: 0.8929\n",
            "Epoch 37/100\n",
            "176/176 [==============================] - 1s 4ms/step - loss: 0.1539 - accuracy: 0.9455 - val_loss: 0.3133 - val_accuracy: 0.8945\n",
            "Epoch 38/100\n",
            "176/176 [==============================] - 1s 4ms/step - loss: 0.1549 - accuracy: 0.9436 - val_loss: 0.3311 - val_accuracy: 0.8925\n",
            "Epoch 39/100\n",
            "176/176 [==============================] - 1s 4ms/step - loss: 0.1453 - accuracy: 0.9485 - val_loss: 0.3155 - val_accuracy: 0.8957\n",
            "Epoch 40/100\n",
            "176/176 [==============================] - 1s 4ms/step - loss: 0.1434 - accuracy: 0.9494 - val_loss: 0.3153 - val_accuracy: 0.8960\n",
            "Epoch 41/100\n",
            "176/176 [==============================] - 1s 4ms/step - loss: 0.1442 - accuracy: 0.9480 - val_loss: 0.3196 - val_accuracy: 0.8957\n",
            "Epoch 42/100\n",
            "176/176 [==============================] - 1s 4ms/step - loss: 0.1423 - accuracy: 0.9502 - val_loss: 0.3313 - val_accuracy: 0.8909\n",
            "Epoch 43/100\n",
            "176/176 [==============================] - 1s 4ms/step - loss: 0.1364 - accuracy: 0.9527 - val_loss: 0.3375 - val_accuracy: 0.8918\n",
            "Epoch 44/100\n",
            "176/176 [==============================] - 1s 4ms/step - loss: 0.1325 - accuracy: 0.9537 - val_loss: 0.3335 - val_accuracy: 0.8939\n",
            "Epoch 45/100\n",
            "176/176 [==============================] - 1s 6ms/step - loss: 0.1337 - accuracy: 0.9526 - val_loss: 0.3361 - val_accuracy: 0.8936\n",
            "Epoch 46/100\n",
            "176/176 [==============================] - 1s 6ms/step - loss: 0.1291 - accuracy: 0.9542 - val_loss: 0.3373 - val_accuracy: 0.8935\n",
            "Epoch 47/100\n",
            "176/176 [==============================] - 1s 5ms/step - loss: 0.1274 - accuracy: 0.9548 - val_loss: 0.3308 - val_accuracy: 0.8938\n",
            "Epoch 48/100\n",
            "176/176 [==============================] - 1s 4ms/step - loss: 0.1204 - accuracy: 0.9573 - val_loss: 0.3354 - val_accuracy: 0.8952\n",
            "Epoch 49/100\n",
            "176/176 [==============================] - 1s 4ms/step - loss: 0.1203 - accuracy: 0.9582 - val_loss: 0.3424 - val_accuracy: 0.8949\n",
            "Epoch 50/100\n",
            "176/176 [==============================] - 1s 4ms/step - loss: 0.1195 - accuracy: 0.9582 - val_loss: 0.3319 - val_accuracy: 0.8967\n",
            "Epoch 51/100\n",
            "176/176 [==============================] - 1s 4ms/step - loss: 0.1152 - accuracy: 0.9597 - val_loss: 0.3412 - val_accuracy: 0.8957\n",
            "Epoch 52/100\n",
            "176/176 [==============================] - 1s 4ms/step - loss: 0.1150 - accuracy: 0.9596 - val_loss: 0.3472 - val_accuracy: 0.8927\n",
            "Epoch 53/100\n",
            "176/176 [==============================] - 1s 4ms/step - loss: 0.1134 - accuracy: 0.9607 - val_loss: 0.3473 - val_accuracy: 0.8947\n",
            "Epoch 54/100\n",
            "176/176 [==============================] - 1s 4ms/step - loss: 0.1091 - accuracy: 0.9618 - val_loss: 0.3560 - val_accuracy: 0.8899\n",
            "Epoch 55/100\n",
            "176/176 [==============================] - 1s 4ms/step - loss: 0.1054 - accuracy: 0.9645 - val_loss: 0.3546 - val_accuracy: 0.8937\n",
            "Epoch 56/100\n",
            "176/176 [==============================] - 1s 4ms/step - loss: 0.1057 - accuracy: 0.9622 - val_loss: 0.3611 - val_accuracy: 0.8926\n",
            "Epoch 57/100\n",
            "176/176 [==============================] - 1s 4ms/step - loss: 0.1028 - accuracy: 0.9650 - val_loss: 0.3602 - val_accuracy: 0.8945\n",
            "Epoch 58/100\n",
            "176/176 [==============================] - 1s 4ms/step - loss: 0.1011 - accuracy: 0.9651 - val_loss: 0.3574 - val_accuracy: 0.8946\n",
            "Epoch 59/100\n",
            "176/176 [==============================] - 1s 4ms/step - loss: 0.0993 - accuracy: 0.9659 - val_loss: 0.3690 - val_accuracy: 0.8925\n",
            "Epoch 60/100\n",
            "176/176 [==============================] - 1s 4ms/step - loss: 0.1007 - accuracy: 0.9651 - val_loss: 0.3873 - val_accuracy: 0.8901\n",
            "Epoch 61/100\n",
            "176/176 [==============================] - 1s 4ms/step - loss: 0.0949 - accuracy: 0.9677 - val_loss: 0.3677 - val_accuracy: 0.8935\n",
            "Epoch 62/100\n",
            "176/176 [==============================] - 1s 5ms/step - loss: 0.0925 - accuracy: 0.9680 - val_loss: 0.3658 - val_accuracy: 0.8965\n",
            "Epoch 63/100\n",
            "176/176 [==============================] - 1s 5ms/step - loss: 0.0916 - accuracy: 0.9688 - val_loss: 0.3726 - val_accuracy: 0.8951\n",
            "Epoch 64/100\n",
            "176/176 [==============================] - 1s 6ms/step - loss: 0.0912 - accuracy: 0.9684 - val_loss: 0.3806 - val_accuracy: 0.8933\n",
            "Epoch 65/100\n",
            "176/176 [==============================] - 1s 4ms/step - loss: 0.0869 - accuracy: 0.9705 - val_loss: 0.3776 - val_accuracy: 0.8934\n",
            "Epoch 66/100\n",
            "176/176 [==============================] - 1s 4ms/step - loss: 0.0862 - accuracy: 0.9703 - val_loss: 0.3952 - val_accuracy: 0.8915\n",
            "Epoch 67/100\n",
            "176/176 [==============================] - 1s 4ms/step - loss: 0.0854 - accuracy: 0.9711 - val_loss: 0.3900 - val_accuracy: 0.8950\n",
            "Epoch 68/100\n",
            "176/176 [==============================] - 1s 4ms/step - loss: 0.0887 - accuracy: 0.9688 - val_loss: 0.3904 - val_accuracy: 0.8940\n",
            "Epoch 69/100\n",
            "176/176 [==============================] - 1s 4ms/step - loss: 0.0815 - accuracy: 0.9722 - val_loss: 0.3915 - val_accuracy: 0.8945\n",
            "Epoch 70/100\n",
            "176/176 [==============================] - 1s 4ms/step - loss: 0.0839 - accuracy: 0.9705 - val_loss: 0.4010 - val_accuracy: 0.8927\n",
            "Epoch 71/100\n",
            "176/176 [==============================] - 1s 4ms/step - loss: 0.0803 - accuracy: 0.9726 - val_loss: 0.4303 - val_accuracy: 0.8850\n",
            "Epoch 72/100\n",
            "176/176 [==============================] - 1s 4ms/step - loss: 0.0810 - accuracy: 0.9730 - val_loss: 0.4100 - val_accuracy: 0.8915\n",
            "Epoch 73/100\n",
            "176/176 [==============================] - 1s 4ms/step - loss: 0.0755 - accuracy: 0.9746 - val_loss: 0.3989 - val_accuracy: 0.8933\n",
            "Epoch 74/100\n",
            "176/176 [==============================] - 1s 4ms/step - loss: 0.0749 - accuracy: 0.9744 - val_loss: 0.4113 - val_accuracy: 0.8913\n",
            "Epoch 75/100\n",
            "176/176 [==============================] - 1s 4ms/step - loss: 0.0756 - accuracy: 0.9733 - val_loss: 0.4045 - val_accuracy: 0.8917\n",
            "Epoch 76/100\n",
            "176/176 [==============================] - 1s 4ms/step - loss: 0.0695 - accuracy: 0.9765 - val_loss: 0.4334 - val_accuracy: 0.8908\n",
            "Epoch 77/100\n",
            "176/176 [==============================] - 1s 4ms/step - loss: 0.0739 - accuracy: 0.9747 - val_loss: 0.4179 - val_accuracy: 0.8947\n",
            "Epoch 78/100\n",
            "176/176 [==============================] - 1s 5ms/step - loss: 0.0704 - accuracy: 0.9760 - val_loss: 0.4317 - val_accuracy: 0.8917\n",
            "Epoch 79/100\n",
            "176/176 [==============================] - 2s 12ms/step - loss: 0.0678 - accuracy: 0.9775 - val_loss: 0.4224 - val_accuracy: 0.8951\n",
            "Epoch 80/100\n",
            "176/176 [==============================] - 2s 13ms/step - loss: 0.0663 - accuracy: 0.9783 - val_loss: 0.4327 - val_accuracy: 0.8907\n",
            "Epoch 81/100\n",
            "176/176 [==============================] - 1s 5ms/step - loss: 0.0643 - accuracy: 0.9794 - val_loss: 0.4441 - val_accuracy: 0.8891\n",
            "Epoch 82/100\n",
            "176/176 [==============================] - 1s 4ms/step - loss: 0.0656 - accuracy: 0.9780 - val_loss: 0.4320 - val_accuracy: 0.8917\n",
            "Epoch 83/100\n",
            "176/176 [==============================] - 1s 4ms/step - loss: 0.0626 - accuracy: 0.9784 - val_loss: 0.4364 - val_accuracy: 0.8931\n",
            "Epoch 84/100\n",
            "176/176 [==============================] - 1s 4ms/step - loss: 0.0600 - accuracy: 0.9806 - val_loss: 0.4564 - val_accuracy: 0.8922\n",
            "Epoch 85/100\n",
            "176/176 [==============================] - 1s 4ms/step - loss: 0.0643 - accuracy: 0.9786 - val_loss: 0.4489 - val_accuracy: 0.8914\n",
            "Epoch 86/100\n",
            "176/176 [==============================] - 1s 4ms/step - loss: 0.0605 - accuracy: 0.9797 - val_loss: 0.4499 - val_accuracy: 0.8927\n",
            "Epoch 87/100\n",
            "176/176 [==============================] - 1s 4ms/step - loss: 0.0585 - accuracy: 0.9802 - val_loss: 0.4395 - val_accuracy: 0.8957\n",
            "Epoch 88/100\n",
            "176/176 [==============================] - 1s 4ms/step - loss: 0.0572 - accuracy: 0.9813 - val_loss: 0.4585 - val_accuracy: 0.8943\n",
            "Epoch 89/100\n",
            "176/176 [==============================] - 1s 4ms/step - loss: 0.0568 - accuracy: 0.9815 - val_loss: 0.4665 - val_accuracy: 0.8935\n",
            "Epoch 90/100\n",
            "176/176 [==============================] - 1s 4ms/step - loss: 0.0578 - accuracy: 0.9810 - val_loss: 0.4757 - val_accuracy: 0.8902\n",
            "Epoch 91/100\n",
            "176/176 [==============================] - 1s 4ms/step - loss: 0.0574 - accuracy: 0.9806 - val_loss: 0.4581 - val_accuracy: 0.8941\n",
            "Epoch 92/100\n",
            "176/176 [==============================] - 1s 5ms/step - loss: 0.0535 - accuracy: 0.9826 - val_loss: 0.4940 - val_accuracy: 0.8905\n",
            "Epoch 93/100\n",
            "176/176 [==============================] - 1s 5ms/step - loss: 0.0536 - accuracy: 0.9815 - val_loss: 0.4772 - val_accuracy: 0.8930\n",
            "Epoch 94/100\n",
            "176/176 [==============================] - 1s 5ms/step - loss: 0.0519 - accuracy: 0.9830 - val_loss: 0.4726 - val_accuracy: 0.8907\n",
            "Epoch 95/100\n",
            "176/176 [==============================] - 1s 6ms/step - loss: 0.0538 - accuracy: 0.9822 - val_loss: 0.4655 - val_accuracy: 0.8955\n",
            "Epoch 96/100\n",
            "176/176 [==============================] - 1s 5ms/step - loss: 0.0518 - accuracy: 0.9828 - val_loss: 0.4799 - val_accuracy: 0.8928\n",
            "Epoch 97/100\n",
            "176/176 [==============================] - 1s 4ms/step - loss: 0.0483 - accuracy: 0.9846 - val_loss: 0.4848 - val_accuracy: 0.8919\n",
            "Epoch 98/100\n",
            "176/176 [==============================] - 1s 4ms/step - loss: 0.0521 - accuracy: 0.9821 - val_loss: 0.4789 - val_accuracy: 0.8937\n",
            "Epoch 99/100\n",
            "176/176 [==============================] - 1s 4ms/step - loss: 0.0472 - accuracy: 0.9844 - val_loss: 0.4794 - val_accuracy: 0.8929\n",
            "Epoch 100/100\n",
            "176/176 [==============================] - 1s 4ms/step - loss: 0.0454 - accuracy: 0.9848 - val_loss: 0.5058 - val_accuracy: 0.8915\n"
          ]
        }
      ]
    },
    {
      "cell_type": "code",
      "source": [
        "# 위의 결과를 그래프로 그려보자!!!\n",
        "plt.subplot(1,2,1) # loss\n",
        "\n",
        "plt.plot(history.history[\"loss\"], \"b-\", label=\"train_loss\")\n",
        "plt.plot(history.history[\"val_loss\"], \"r-\", label=\"val_loss\")\n",
        "plt.xlabel(\"Epoch\")\n",
        "plt.legend()\n",
        "\n",
        "plt.subplot(1,2,2) # metrics : accuracy\n",
        "plt.plot(history.history[\"accuracy\"], \"b-\", label=\"train_accuracy\")\n",
        "plt.plot(history.history[\"val_accuracy\"], \"r-\", label=\"val_accuracy\")\n",
        "plt.xlabel(\"Epoch\")\n",
        "plt.legend()"
      ],
      "metadata": {
        "colab": {
          "base_uri": "https://localhost:8080/",
          "height": 467
        },
        "id": "s6pLWdu4Oaw-",
        "outputId": "a84b1744-de6d-4d3a-8723-09cbe261af05"
      },
      "execution_count": 27,
      "outputs": [
        {
          "output_type": "execute_result",
          "data": {
            "text/plain": [
              "<matplotlib.legend.Legend at 0x7f38d465b280>"
            ]
          },
          "metadata": {},
          "execution_count": 27
        },
        {
          "output_type": "display_data",
          "data": {
            "text/plain": [
              "<Figure size 640x480 with 2 Axes>"
            ],
            "image/png": "[encoded data removed]"
          },
          "metadata": {}
        }
      ]
    },
    {
      "cell_type": "code",
      "source": [
        "# 실제 평가 : X_test에 대해서 진행!\n",
        "# -> 학습한 그대로 평가!\n",
        "# 주의해야할 부분 : test_y ---> OH인코딩!!!!!!!\n",
        "model.evaluate( test_X, test_y) # 이렇게 하면 오류남"
      ],
      "metadata": {
        "colab": {
          "base_uri": "https://localhost:8080/",
          "height": 754
        },
        "id": "rcrnYNUsQEwo",
        "outputId": "993db57b-4cab-465d-dfe6-70647966c64a"
      },
      "execution_count": 28,
      "outputs": [
        {
          "output_type": "error",
          "ename": "ValueError",
          "evalue": "in user code:\n\n    File \"/usr/local/lib/python3.10/dist-packages/keras/src/engine/training.py\", line 2066, in test_function  *\n        return step_function(self, iterator)\n    File \"/usr/local/lib/python3.10/dist-packages/keras/src/engine/training.py\", line 2049, in step_function  **\n        outputs = model.distribute_strategy.run(run_step, args=(data,))\n    File \"/usr/local/lib/python3.10/dist-packages/keras/src/engine/training.py\", line 2037, in run_step  **\n        outputs = model.test_step(data)\n    File \"/usr/local/lib/python3.10/dist-packages/keras/src/engine/training.py\", line 1919, in test_step\n        self.compute_loss(x, y, y_pred, sample_weight)\n    File \"/usr/local/lib/python3.10/dist-packages/keras/src/engine/training.py\", line 1209, in compute_loss\n        return self.compiled_loss(\n    File \"/usr/local/lib/python3.10/dist-packages/keras/src/engine/compile_utils.py\", line 277, in __call__\n        loss_value = loss_obj(y_t, y_p, sample_weight=sw)\n    File \"/usr/local/lib/python3.10/dist-packages/keras/src/losses.py\", line 143, in __call__\n        losses = call_fn(y_true, y_pred)\n    File \"/usr/local/lib/python3.10/dist-packages/keras/src/losses.py\", line 270, in call  **\n        return ag_fn(y_true, y_pred, **self._fn_kwargs)\n    File \"/usr/local/lib/python3.10/dist-packages/keras/src/losses.py\", line 2221, in categorical_crossentropy\n        return backend.categorical_crossentropy(\n    File \"/usr/local/lib/python3.10/dist-packages/keras/src/backend.py\", line 5573, in categorical_crossentropy\n        target.shape.assert_is_compatible_with(output.shape)\n\n    ValueError: Shapes (None, 1) and (None, 10) are incompatible\n",
          "traceback": [
            "\u001b[0;31m---------------------------------------------------------------------------\u001b[0m",
            "\u001b[0;31mValueError\u001b[0m                                Traceback (most recent call last)",
            "\u001b[0;32m<ipython-input-28-3d815239c673>\u001b[0m in \u001b[0;36m<cell line: 4>\u001b[0;34m()\u001b[0m\n\u001b[1;32m      2\u001b[0m \u001b[0;31m# -> 학습한 그대로 평가!\u001b[0m\u001b[0;34m\u001b[0m\u001b[0;34m\u001b[0m\u001b[0m\n\u001b[1;32m      3\u001b[0m \u001b[0;31m# 주의해야할 부분 : test_y ---> OH인코딩!!!!!!!\u001b[0m\u001b[0;34m\u001b[0m\u001b[0;34m\u001b[0m\u001b[0m\n\u001b[0;32m----> 4\u001b[0;31m \u001b[0mmodel\u001b[0m\u001b[0;34m.\u001b[0m\u001b[0mevaluate\u001b[0m\u001b[0;34m(\u001b[0m \u001b[0mtest_X\u001b[0m\u001b[0;34m,\u001b[0m \u001b[0mtest_y\u001b[0m\u001b[0;34m)\u001b[0m\u001b[0;34m\u001b[0m\u001b[0;34m\u001b[0m\u001b[0m\n\u001b[0m",
            "\u001b[0;32m/usr/local/lib/python3.10/dist-packages/keras/src/utils/traceback_utils.py\u001b[0m in \u001b[0;36merror_handler\u001b[0;34m(*args, **kwargs)\u001b[0m\n\u001b[1;32m     68\u001b[0m             \u001b[0;31m# To get the full stack trace, call:\u001b[0m\u001b[0;34m\u001b[0m\u001b[0;34m\u001b[0m\u001b[0m\n\u001b[1;32m     69\u001b[0m             \u001b[0;31m# `tf.debugging.disable_traceback_filtering()`\u001b[0m\u001b[0;34m\u001b[0m\u001b[0;34m\u001b[0m\u001b[0m\n\u001b[0;32m---> 70\u001b[0;31m             \u001b[0;32mraise\u001b[0m \u001b[0me\u001b[0m\u001b[0;34m.\u001b[0m\u001b[0mwith_traceback\u001b[0m\u001b[0;34m(\u001b[0m\u001b[0mfiltered_tb\u001b[0m\u001b[0;34m)\u001b[0m \u001b[0;32mfrom\u001b[0m \u001b[0;32mNone\u001b[0m\u001b[0;34m\u001b[0m\u001b[0;34m\u001b[0m\u001b[0m\n\u001b[0m\u001b[1;32m     71\u001b[0m         \u001b[0;32mfinally\u001b[0m\u001b[0;34m:\u001b[0m\u001b[0;34m\u001b[0m\u001b[0;34m\u001b[0m\u001b[0m\n\u001b[1;32m     72\u001b[0m             \u001b[0;32mdel\u001b[0m \u001b[0mfiltered_tb\u001b[0m\u001b[0;34m\u001b[0m\u001b[0;34m\u001b[0m\u001b[0m\n",
            "\u001b[0;32m/usr/local/lib/python3.10/dist-packages/keras/src/engine/training.py\u001b[0m in \u001b[0;36mtf__test_function\u001b[0;34m(iterator)\u001b[0m\n\u001b[1;32m     13\u001b[0m                 \u001b[0;32mtry\u001b[0m\u001b[0;34m:\u001b[0m\u001b[0;34m\u001b[0m\u001b[0;34m\u001b[0m\u001b[0m\n\u001b[1;32m     14\u001b[0m                     \u001b[0mdo_return\u001b[0m \u001b[0;34m=\u001b[0m \u001b[0;32mTrue\u001b[0m\u001b[0;34m\u001b[0m\u001b[0;34m\u001b[0m\u001b[0m\n\u001b[0;32m---> 15\u001b[0;31m                     \u001b[0mretval_\u001b[0m \u001b[0;34m=\u001b[0m \u001b[0mag__\u001b[0m\u001b[0;34m.\u001b[0m\u001b[0mconverted_call\u001b[0m\u001b[0;34m(\u001b[0m\u001b[0mag__\u001b[0m\u001b[0;34m.\u001b[0m\u001b[0mld\u001b[0m\u001b[0;34m(\u001b[0m\u001b[0mstep_function\u001b[0m\u001b[0;34m)\u001b[0m\u001b[0;34m,\u001b[0m \u001b[0;34m(\u001b[0m\u001b[0mag__\u001b[0m\u001b[0;34m.\u001b[0m\u001b[0mld\u001b[0m\u001b[0;34m(\u001b[0m\u001b[0mself\u001b[0m\u001b[0;34m)\u001b[0m\u001b[0;34m,\u001b[0m \u001b[0mag__\u001b[0m\u001b[0;34m.\u001b[0m\u001b[0mld\u001b[0m\u001b[0;34m(\u001b[0m\u001b[0miterator\u001b[0m\u001b[0;34m)\u001b[0m\u001b[0;34m)\u001b[0m\u001b[0;34m,\u001b[0m \u001b[0;32mNone\u001b[0m\u001b[0;34m,\u001b[0m \u001b[0mfscope\u001b[0m\u001b[0;34m)\u001b[0m\u001b[0;34m\u001b[0m\u001b[0;34m\u001b[0m\u001b[0m\n\u001b[0m\u001b[1;32m     16\u001b[0m                 \u001b[0;32mexcept\u001b[0m\u001b[0;34m:\u001b[0m\u001b[0;34m\u001b[0m\u001b[0;34m\u001b[0m\u001b[0m\n\u001b[1;32m     17\u001b[0m                     \u001b[0mdo_return\u001b[0m \u001b[0;34m=\u001b[0m \u001b[0;32mFalse\u001b[0m\u001b[0;34m\u001b[0m\u001b[0;34m\u001b[0m\u001b[0m\n",
            "\u001b[0;31mValueError\u001b[0m: in user code:\n\n    File \"/usr/local/lib/python3.10/dist-packages/keras/src/engine/training.py\", line 2066, in test_function  *\n        return step_function(self, iterator)\n    File \"/usr/local/lib/python3.10/dist-packages/keras/src/engine/training.py\", line 2049, in step_function  **\n        outputs = model.distribute_strategy.run(run_step, args=(data,))\n    File \"/usr/local/lib/python3.10/dist-packages/keras/src/engine/training.py\", line 2037, in run_step  **\n        outputs = model.test_step(data)\n    File \"/usr/local/lib/python3.10/dist-packages/keras/src/engine/training.py\", line 1919, in test_step\n        self.compute_loss(x, y, y_pred, sample_weight)\n    File \"/usr/local/lib/python3.10/dist-packages/keras/src/engine/training.py\", line 1209, in compute_loss\n        return self.compiled_loss(\n    File \"/usr/local/lib/python3.10/dist-packages/keras/src/engine/compile_utils.py\", line 277, in __call__\n        loss_value = loss_obj(y_t, y_p, sample_weight=sw)\n    File \"/usr/local/lib/python3.10/dist-packages/keras/src/losses.py\", line 143, in __call__\n        losses = call_fn(y_true, y_pred)\n    File \"/usr/local/lib/python3.10/dist-packages/keras/src/losses.py\", line 270, in call  **\n        return ag_fn(y_true, y_pred, **self._fn_kwargs)\n    File \"/usr/local/lib/python3.10/dist-packages/keras/src/losses.py\", line 2221, in categorical_crossentropy\n        return backend.categorical_crossentropy(\n    File \"/usr/local/lib/python3.10/dist-packages/keras/src/backend.py\", line 5573, in categorical_crossentropy\n        target.shape.assert_is_compatible_with(output.shape)\n\n    ValueError: Shapes (None, 1) and (None, 10) are incompatible\n"
          ]
        }
      ]
    },
    {
      "cell_type": "code",
      "source": [
        "model.evaluate( test_X, tf.keras.utils.to_categorical(test_y))"
      ],
      "metadata": {
        "colab": {
          "base_uri": "https://localhost:8080/"
        },
        "id": "XXEUqsMKRJqU",
        "outputId": "a17e063f-af2a-4335-a9ec-ad3dd241fd1c"
      },
      "execution_count": 30,
      "outputs": [
        {
          "output_type": "stream",
          "name": "stdout",
          "text": [
            "313/313 [==============================] - 1s 2ms/step - loss: 0.5667 - accuracy: 0.8832\n"
          ]
        },
        {
          "output_type": "execute_result",
          "data": {
            "text/plain": [
              "[0.5667233467102051, 0.8831999897956848]"
            ]
          },
          "metadata": {},
          "execution_count": 30
        }
      ]
    },
    {
      "cell_type": "code",
      "source": [
        "y_pred = model.predict(test_X)\n",
        "y_pred"
      ],
      "metadata": {
        "colab": {
          "base_uri": "https://localhost:8080/"
        },
        "id": "OYTmAhp8RLVd",
        "outputId": "5171dba3-2a1b-4228-8a3e-aeeb91accca3"
      },
      "execution_count": 33,
      "outputs": [
        {
          "output_type": "stream",
          "name": "stdout",
          "text": [
            "313/313 [==============================] - 1s 2ms/step\n"
          ]
        },
        {
          "output_type": "execute_result",
          "data": {
            "text/plain": [
              "array([[1.3678767e-16, 3.3039174e-20, 9.7945596e-15, ..., 1.0334514e-05,\n",
              "        1.1676774e-12, 9.9998963e-01],\n",
              "       [1.0816647e-03, 4.9987629e-18, 9.9891734e-01, ..., 2.8787819e-19,\n",
              "        3.5795292e-21, 7.8314272e-28],\n",
              "       [1.1701313e-15, 1.0000000e+00, 3.9102159e-18, ..., 1.0578024e-24,\n",
              "        1.7491918e-24, 1.5176287e-29],\n",
              "       ...,\n",
              "       [1.0290480e-13, 6.2161851e-22, 1.1382934e-11, ..., 2.7272301e-11,\n",
              "        1.0000000e+00, 2.1308877e-22],\n",
              "       [6.8147009e-16, 1.0000000e+00, 6.9755241e-19, ..., 5.4417404e-16,\n",
              "        1.0973931e-15, 2.9248078e-19],\n",
              "       [2.4980590e-10, 6.6402440e-17, 2.5874014e-12, ..., 3.1068623e-05,\n",
              "        5.2111865e-08, 2.7429960e-13]], dtype=float32)"
            ]
          },
          "metadata": {},
          "execution_count": 33
        }
      ]
    },
    {
      "cell_type": "code",
      "source": [
        "y_pred[0].sum()"
      ],
      "metadata": {
        "colab": {
          "base_uri": "https://localhost:8080/"
        },
        "id": "4IWOCuqXRnMw",
        "outputId": "e8f18ba5-a5c8-4fde-c655-75fe329231e7"
      },
      "execution_count": 34,
      "outputs": [
        {
          "output_type": "execute_result",
          "data": {
            "text/plain": [
              "1.0"
            ]
          },
          "metadata": {},
          "execution_count": 34
        }
      ]
    },
    {
      "cell_type": "code",
      "source": [
        "y_pred[0].argmax() # -->  9+1번째 클래스가 가장 확률이 컸다!!!"
      ],
      "metadata": {
        "colab": {
          "base_uri": "https://localhost:8080/"
        },
        "id": "uoF3HRmNRzhy",
        "outputId": "9b7d4cf8-4413-44ea-be71-09775bf075d7"
      },
      "execution_count": 35,
      "outputs": [
        {
          "output_type": "execute_result",
          "data": {
            "text/plain": [
              "9"
            ]
          },
          "metadata": {},
          "execution_count": 35
        }
      ]
    },
    {
      "cell_type": "markdown",
      "source": [
        "<img src=\"https://drive.google.com/uc?id=1_axH4QGvO9sH34AzX1TTvhi15k-e8eUJ\">"
      ],
      "metadata": {
        "id": "c2Fq0AL5R1Qs"
      }
    },
    {
      "cell_type": "code",
      "source": [
        "y_pred[0][9]"
      ],
      "metadata": {
        "colab": {
          "base_uri": "https://localhost:8080/"
        },
        "id": "eaPDglJJSU4D",
        "outputId": "e1e7d5e2-32ac-4178-cf21-e73ebaed6cc9"
      },
      "execution_count": 37,
      "outputs": [
        {
          "output_type": "execute_result",
          "data": {
            "text/plain": [
              "0.9999896"
            ]
          },
          "metadata": {},
          "execution_count": 37
        }
      ]
    },
    {
      "cell_type": "code",
      "source": [
        "# 결론1) 다순하게 HL1 ---> X_test\n",
        "#        ACC : 0.87"
      ],
      "metadata": {
        "id": "6cTqabOPZEBB"
      },
      "execution_count": 38,
      "outputs": []
    },
    {
      "cell_type": "code",
      "source": [
        "# 성능을 향상하고자 하는 것이 목적!!!\n",
        "# 시도2) Layer의 수를 (HL) 늘려서 --> 비선형을 더 획득해서\n",
        "#        더더더 구불한 선으로 찾아보자!!!!\n",
        "# ===> HL의 레이어의 수를 증가하는 방법으로 시도!!!!\n",
        "# (참고) 일반적으로 DL은 모델 구조가 성능에 크게 좌우!!!\n",
        "#  +++ 선행 연구들을 찾아볼 수 있어야 함!!!!"
      ],
      "metadata": {
        "id": "85z9f0ijZGun"
      },
      "execution_count": null,
      "outputs": []
    },
    {
      "cell_type": "code",
      "source": [
        "# 모델 구조 : 1개 샘플단위로 설계!!!!!!!!\n",
        "model = tf.keras.Sequential(\n",
        "    [\n",
        "        tf.keras.layers.Flatten( input_shape =( 28,28)),\n",
        "        # 2) HL : 일반적인 Dense 레이어로 기능\n",
        "        # ++ HL의 레이어만 더 쌓아서 구조 변경!!!!\n",
        "        tf.keras.layers.Dense( units=128, activation=\"relu\"),\n",
        "        tf.keras.layers.Dense( units=64, activation=\"relu\"),\n",
        "        tf.keras.layers.Dense( units=32, activation=\"relu\"),\n",
        "        # 3) output Layer 설계\n",
        "        tf.keras.layers.Dense( units =10,activation=\"softmax\" )\n",
        "    ]\n",
        ")\n",
        "model"
      ],
      "metadata": {
        "colab": {
          "base_uri": "https://localhost:8080/"
        },
        "id": "7G7jqdjFaKma",
        "outputId": "e0054337-b7a0-4e7d-d1c6-76325a3eda63"
      },
      "execution_count": 39,
      "outputs": [
        {
          "output_type": "execute_result",
          "data": {
            "text/plain": [
              "<keras.src.engine.sequential.Sequential at 0x7f38d25479a0>"
            ]
          },
          "metadata": {},
          "execution_count": 39
        }
      ]
    },
    {
      "cell_type": "code",
      "source": [
        "model.summary()"
      ],
      "metadata": {
        "colab": {
          "base_uri": "https://localhost:8080/"
        },
        "id": "0rTwF78OaMg9",
        "outputId": "d116b0e2-42fb-490b-e13d-bae1de5c334b"
      },
      "execution_count": 40,
      "outputs": [
        {
          "output_type": "stream",
          "name": "stdout",
          "text": [
            "Model: \"sequential_1\"\n",
            "_________________________________________________________________\n",
            " Layer (type)                Output Shape              Param #   \n",
            "=================================================================\n",
            " flatten_3 (Flatten)         (None, 784)               0         \n",
            "                                                                 \n",
            " dense_4 (Dense)             (None, 128)               100480    \n",
            "                                                                 \n",
            " dense_5 (Dense)             (None, 64)                8256      \n",
            "                                                                 \n",
            " dense_6 (Dense)             (None, 32)                2080      \n",
            "                                                                 \n",
            " dense_7 (Dense)             (None, 10)                330       \n",
            "                                                                 \n",
            "=================================================================\n",
            "Total params: 111146 (434.16 KB)\n",
            "Trainable params: 111146 (434.16 KB)\n",
            "Non-trainable params: 0 (0.00 Byte)\n",
            "_________________________________________________________________\n"
          ]
        }
      ]
    },
    {
      "cell_type": "code",
      "source": [
        "# 이 모델에 있는 weights들을 어찌 학습할까???\n",
        "# ==> 세티!!!!\n",
        "model.compile(\n",
        "    loss = \"categorical_crossentropy\", # 정답을 OHE\n",
        "    optimizer = tf.keras.optimizers.Adam(),\n",
        "    # 주어진 약 10개의 weight 파라미터를\n",
        "    # loss CE관점으로 어찌 최적화를 할지에 대한 방식\n",
        "    # GD --> 인공신경망,,,, Adam()최적화 방식...\n",
        "    metrics =[\"accuracy\"]\n",
        "    # 잘 학습이 되는지 모니터링 지표...\n",
        ")"
      ],
      "metadata": {
        "id": "N53_RWftaOYH"
      },
      "execution_count": 42,
      "outputs": []
    },
    {
      "cell_type": "code",
      "source": [
        "# 인공신경망으로 분류!\n",
        "# + 정답에 대한 처리!!!!!\n",
        "history = model.fit(\n",
        "    train_X,\n",
        "    tf.keras.utils.to_categorical(train_y, num_classes=10),\n",
        "    # 얼마나 많은 train  데이터를 재활용할까요 epoch\n",
        "    epochs = 50,# 성능train--> OverFit + 시간!!!!\n",
        "    batch_size = 256, # 여러분들의 HW 스펙에 ...GPU-> RAM\n",
        "    validation_split=0.25\n",
        ")"
      ],
      "metadata": {
        "colab": {
          "base_uri": "https://localhost:8080/"
        },
        "id": "DFA3rp5uaP1G",
        "outputId": "0fa39dcb-cb33-4885-812d-eb95584c2bed"
      },
      "execution_count": 43,
      "outputs": [
        {
          "output_type": "stream",
          "name": "stdout",
          "text": [
            "Epoch 1/50\n",
            "176/176 [==============================] - 3s 7ms/step - loss: 0.6988 - accuracy: 0.7604 - val_loss: 0.4704 - val_accuracy: 0.8359\n",
            "Epoch 2/50\n",
            "176/176 [==============================] - 1s 5ms/step - loss: 0.4314 - accuracy: 0.8491 - val_loss: 0.4230 - val_accuracy: 0.8523\n",
            "Epoch 3/50\n",
            "176/176 [==============================] - 1s 6ms/step - loss: 0.3849 - accuracy: 0.8634 - val_loss: 0.3973 - val_accuracy: 0.8560\n",
            "Epoch 4/50\n",
            "176/176 [==============================] - 1s 6ms/step - loss: 0.3639 - accuracy: 0.8676 - val_loss: 0.3735 - val_accuracy: 0.8651\n",
            "Epoch 5/50\n",
            "176/176 [==============================] - 1s 5ms/step - loss: 0.3346 - accuracy: 0.8795 - val_loss: 0.3555 - val_accuracy: 0.8740\n",
            "Epoch 6/50\n",
            "176/176 [==============================] - 1s 4ms/step - loss: 0.3178 - accuracy: 0.8856 - val_loss: 0.3521 - val_accuracy: 0.8747\n",
            "Epoch 7/50\n",
            "176/176 [==============================] - 1s 4ms/step - loss: 0.3060 - accuracy: 0.8887 - val_loss: 0.3383 - val_accuracy: 0.8781\n",
            "Epoch 8/50\n",
            "176/176 [==============================] - 1s 4ms/step - loss: 0.2899 - accuracy: 0.8922 - val_loss: 0.3341 - val_accuracy: 0.8769\n",
            "Epoch 9/50\n",
            "176/176 [==============================] - 1s 4ms/step - loss: 0.2839 - accuracy: 0.8950 - val_loss: 0.3397 - val_accuracy: 0.8780\n",
            "Epoch 10/50\n",
            "176/176 [==============================] - 1s 4ms/step - loss: 0.2666 - accuracy: 0.9014 - val_loss: 0.3338 - val_accuracy: 0.8793\n",
            "Epoch 11/50\n",
            "176/176 [==============================] - 1s 4ms/step - loss: 0.2568 - accuracy: 0.9049 - val_loss: 0.3191 - val_accuracy: 0.8861\n",
            "Epoch 12/50\n",
            "176/176 [==============================] - 1s 4ms/step - loss: 0.2518 - accuracy: 0.9071 - val_loss: 0.3288 - val_accuracy: 0.8841\n",
            "Epoch 13/50\n",
            "176/176 [==============================] - 1s 4ms/step - loss: 0.2488 - accuracy: 0.9068 - val_loss: 0.3265 - val_accuracy: 0.8825\n",
            "Epoch 14/50\n",
            "176/176 [==============================] - 1s 4ms/step - loss: 0.2356 - accuracy: 0.9117 - val_loss: 0.3253 - val_accuracy: 0.8845\n",
            "Epoch 15/50\n",
            "176/176 [==============================] - 1s 4ms/step - loss: 0.2299 - accuracy: 0.9154 - val_loss: 0.3346 - val_accuracy: 0.8815\n",
            "Epoch 16/50\n",
            "176/176 [==============================] - 1s 5ms/step - loss: 0.2266 - accuracy: 0.9164 - val_loss: 0.3197 - val_accuracy: 0.8872\n",
            "Epoch 17/50\n",
            "176/176 [==============================] - 1s 5ms/step - loss: 0.2156 - accuracy: 0.9192 - val_loss: 0.3474 - val_accuracy: 0.8847\n",
            "Epoch 18/50\n",
            "176/176 [==============================] - 1s 7ms/step - loss: 0.2096 - accuracy: 0.9220 - val_loss: 0.3198 - val_accuracy: 0.8892\n",
            "Epoch 19/50\n",
            "176/176 [==============================] - 1s 7ms/step - loss: 0.2042 - accuracy: 0.9233 - val_loss: 0.3272 - val_accuracy: 0.8875\n",
            "Epoch 20/50\n",
            "176/176 [==============================] - 1s 5ms/step - loss: 0.2041 - accuracy: 0.9233 - val_loss: 0.3361 - val_accuracy: 0.8893\n",
            "Epoch 21/50\n",
            "176/176 [==============================] - 1s 4ms/step - loss: 0.2023 - accuracy: 0.9254 - val_loss: 0.3432 - val_accuracy: 0.8845\n",
            "Epoch 22/50\n",
            "176/176 [==============================] - 1s 4ms/step - loss: 0.1890 - accuracy: 0.9293 - val_loss: 0.3305 - val_accuracy: 0.8881\n",
            "Epoch 23/50\n",
            "176/176 [==============================] - 1s 5ms/step - loss: 0.1872 - accuracy: 0.9304 - val_loss: 0.3409 - val_accuracy: 0.8865\n",
            "Epoch 24/50\n",
            "176/176 [==============================] - 1s 5ms/step - loss: 0.1821 - accuracy: 0.9316 - val_loss: 0.3242 - val_accuracy: 0.8907\n",
            "Epoch 25/50\n",
            "176/176 [==============================] - 1s 5ms/step - loss: 0.1758 - accuracy: 0.9346 - val_loss: 0.3438 - val_accuracy: 0.8886\n",
            "Epoch 26/50\n",
            "176/176 [==============================] - 1s 5ms/step - loss: 0.1703 - accuracy: 0.9360 - val_loss: 0.3448 - val_accuracy: 0.8849\n",
            "Epoch 27/50\n",
            "176/176 [==============================] - 1s 5ms/step - loss: 0.1672 - accuracy: 0.9380 - val_loss: 0.3406 - val_accuracy: 0.8923\n",
            "Epoch 28/50\n",
            "176/176 [==============================] - 1s 5ms/step - loss: 0.1670 - accuracy: 0.9375 - val_loss: 0.3342 - val_accuracy: 0.8925\n",
            "Epoch 29/50\n",
            "176/176 [==============================] - 1s 5ms/step - loss: 0.1563 - accuracy: 0.9418 - val_loss: 0.3686 - val_accuracy: 0.8840\n",
            "Epoch 30/50\n",
            "176/176 [==============================] - 1s 5ms/step - loss: 0.1564 - accuracy: 0.9422 - val_loss: 0.3794 - val_accuracy: 0.8887\n",
            "Epoch 31/50\n",
            "176/176 [==============================] - 1s 5ms/step - loss: 0.1528 - accuracy: 0.9431 - val_loss: 0.3633 - val_accuracy: 0.8868\n",
            "Epoch 32/50\n",
            "176/176 [==============================] - 1s 7ms/step - loss: 0.1471 - accuracy: 0.9450 - val_loss: 0.3778 - val_accuracy: 0.8841\n",
            "Epoch 33/50\n",
            "176/176 [==============================] - 1s 7ms/step - loss: 0.1467 - accuracy: 0.9447 - val_loss: 0.4074 - val_accuracy: 0.8788\n",
            "Epoch 34/50\n",
            "176/176 [==============================] - 1s 7ms/step - loss: 0.1454 - accuracy: 0.9466 - val_loss: 0.3774 - val_accuracy: 0.8856\n",
            "Epoch 35/50\n",
            "176/176 [==============================] - 1s 5ms/step - loss: 0.1376 - accuracy: 0.9487 - val_loss: 0.3847 - val_accuracy: 0.8873\n",
            "Epoch 36/50\n",
            "176/176 [==============================] - 1s 5ms/step - loss: 0.1320 - accuracy: 0.9507 - val_loss: 0.3793 - val_accuracy: 0.8867\n",
            "Epoch 37/50\n",
            "176/176 [==============================] - 1s 6ms/step - loss: 0.1266 - accuracy: 0.9537 - val_loss: 0.3884 - val_accuracy: 0.8875\n",
            "Epoch 38/50\n",
            "176/176 [==============================] - 1s 6ms/step - loss: 0.1294 - accuracy: 0.9523 - val_loss: 0.3965 - val_accuracy: 0.8861\n",
            "Epoch 39/50\n",
            "176/176 [==============================] - 1s 8ms/step - loss: 0.1293 - accuracy: 0.9518 - val_loss: 0.3871 - val_accuracy: 0.8856\n",
            "Epoch 40/50\n",
            "176/176 [==============================] - 1s 8ms/step - loss: 0.1229 - accuracy: 0.9541 - val_loss: 0.3896 - val_accuracy: 0.8925\n",
            "Epoch 41/50\n",
            "176/176 [==============================] - 1s 8ms/step - loss: 0.1272 - accuracy: 0.9526 - val_loss: 0.3928 - val_accuracy: 0.8908\n",
            "Epoch 42/50\n",
            "176/176 [==============================] - 1s 7ms/step - loss: 0.1133 - accuracy: 0.9570 - val_loss: 0.3911 - val_accuracy: 0.8931\n",
            "Epoch 43/50\n",
            "176/176 [==============================] - 1s 5ms/step - loss: 0.1097 - accuracy: 0.9598 - val_loss: 0.4285 - val_accuracy: 0.8867\n",
            "Epoch 44/50\n",
            "176/176 [==============================] - 1s 6ms/step - loss: 0.1164 - accuracy: 0.9568 - val_loss: 0.4252 - val_accuracy: 0.8883\n",
            "Epoch 45/50\n",
            "176/176 [==============================] - 2s 12ms/step - loss: 0.1064 - accuracy: 0.9601 - val_loss: 0.4120 - val_accuracy: 0.8903\n",
            "Epoch 46/50\n",
            "176/176 [==============================] - 1s 8ms/step - loss: 0.1037 - accuracy: 0.9614 - val_loss: 0.4061 - val_accuracy: 0.8919\n",
            "Epoch 47/50\n",
            "176/176 [==============================] - 1s 5ms/step - loss: 0.1019 - accuracy: 0.9618 - val_loss: 0.4384 - val_accuracy: 0.8867\n",
            "Epoch 48/50\n",
            "176/176 [==============================] - 1s 5ms/step - loss: 0.1031 - accuracy: 0.9620 - val_loss: 0.4259 - val_accuracy: 0.8910\n",
            "Epoch 49/50\n",
            "176/176 [==============================] - 1s 5ms/step - loss: 0.0972 - accuracy: 0.9640 - val_loss: 0.4372 - val_accuracy: 0.8913\n",
            "Epoch 50/50\n",
            "176/176 [==============================] - 1s 5ms/step - loss: 0.0960 - accuracy: 0.9643 - val_loss: 0.4425 - val_accuracy: 0.8857\n"
          ]
        }
      ]
    },
    {
      "cell_type": "code",
      "source": [
        "# 위의 결과를 그래프로 그려보자!!!\n",
        "plt.subplot(1,2,1) # loss\n",
        "\n",
        "plt.plot(history.history[\"loss\"], \"b-\", label=\"train_loss\")\n",
        "plt.plot(history.history[\"val_loss\"], \"r-\", label=\"val_loss\")\n",
        "plt.xlabel(\"Epoch\")\n",
        "plt.legend()\n",
        "\n",
        "plt.subplot(1,2,2) # metrics : accuracy\n",
        "plt.plot(history.history[\"accuracy\"], \"b-\", label=\"train_accuracy\")\n",
        "plt.plot(history.history[\"val_accuracy\"], \"r-\", label=\"val_accuracy\")\n",
        "plt.xlabel(\"Epoch\")\n",
        "plt.legend()"
      ],
      "metadata": {
        "colab": {
          "base_uri": "https://localhost:8080/",
          "height": 467
        },
        "id": "93Cdrq34agI0",
        "outputId": "5ae9fc54-7abb-4fcb-b02c-c353091a2f0a"
      },
      "execution_count": 44,
      "outputs": [
        {
          "output_type": "execute_result",
          "data": {
            "text/plain": [
              "<matplotlib.legend.Legend at 0x7f38cf15de40>"
            ]
          },
          "metadata": {},
          "execution_count": 44
        },
        {
          "output_type": "display_data",
          "data": {
            "text/plain": [
              "<Figure size 640x480 with 2 Axes>"
            ],
            "image/png": "[encoded data removed]"
          },
          "metadata": {}
        }
      ]
    },
    {
      "cell_type": "code",
      "source": [
        "model.evaluate( test_X, tf.keras.utils.to_categorical(test_y))"
      ],
      "metadata": {
        "colab": {
          "base_uri": "https://localhost:8080/"
        },
        "id": "lYKNu6RCbEsX",
        "outputId": "a287a8f7-6de2-43a1-d46b-91de63cc94fe"
      },
      "execution_count": 45,
      "outputs": [
        {
          "output_type": "stream",
          "name": "stdout",
          "text": [
            "313/313 [==============================] - 1s 4ms/step - loss: 0.5005 - accuracy: 0.8797\n"
          ]
        },
        {
          "output_type": "execute_result",
          "data": {
            "text/plain": [
              "[0.5004932880401611, 0.8797000050544739]"
            ]
          },
          "metadata": {},
          "execution_count": 45
        }
      ]
    },
    {
      "cell_type": "code",
      "source": [
        "# 결론2)\n",
        "# 실험1 IL-HL-OL :0.87\n",
        "# 실험2 :IL-HL-HL-HL-OL : 0.88\n",
        "# 1% 성능 향상\n",
        "# 0.9% 넘기기가 정말 힘듬\n",
        "# 설계 방싱 CNN : 0.9 가볍게 넘어감\n",
        "\n",
        "# 결론) DL의 성능은 기본적으로 모델의 구조에 기인\n",
        "# -> 모델의 구조 & 최신 설계 방식 계속 모니터링\n",
        "#   논문 검색. 최신 기술 계속 참고할 것."
      ],
      "metadata": {
        "id": "vl3LU2SzbFzJ"
      },
      "execution_count": null,
      "outputs": []
    }
  ]
}