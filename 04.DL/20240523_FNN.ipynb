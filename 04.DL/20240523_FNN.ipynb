{
  "nbformat": 4,
  "nbformat_minor": 0,
  "metadata": {
    "colab": {
      "provenance": [],
      "gpuType": "T4"
    },
    "kernelspec": {
      "name": "python3",
      "display_name": "Python 3"
    },
    "language_info": {
      "name": "python"
    },
    "accelerator": "GPU"
  },
  "cells": [
    {
      "cell_type": "markdown",
      "source": [
        "\n",
        "* minist : 손글씨 데이터셋 0~9 10개의 숫자값에 대한 분류!  \n",
        "    * 1장 데이터 : 28 by 28 2D  \n",
        "    (ML : 28*28 = 756 1차원 벡터)  \n",
        "    * 데이터 셋 : (60000, 28, 28) => 3D\n",
        "\n",
        "* FashionMNIST : 의상관련된 이미지 분류 셋!!!!!  \n",
        "    * 1장 데이터 : 28,28 --> 2D (흑백)  \n",
        "    * DL을 통해서 10가지의 의상을 분류!!!  \n",
        "    * 원래는 이미 셋이 이미지  \n",
        "        --> CNN 구조를 사용해야 잘 나옴!!!\n",
        "        --> 일반적인 Dense레이어를 쌓는 방식의 DNN 구조로 설계!!!!\n"
      ],
      "metadata": {
        "id": "6NzfjtC8C85J"
      }
    },
    {
      "cell_type": "code",
      "source": [
        "import tensorflow as tf\n",
        "\n",
        "import matplotlib.pyplot as plt"
      ],
      "metadata": {
        "id": "fftFcdfkEJ13"
      },
      "execution_count": 4,
      "outputs": []
    },
    {
      "cell_type": "markdown",
      "source": [
        "# 데이터셋 불러오기"
      ],
      "metadata": {
        "id": "BDB_SjR1FdWJ"
      }
    },
    {
      "cell_type": "code",
      "source": [
        "fashion_mnist = tf.keras.datasets.fashion_mnist\n",
        "fashion_mnist"
      ],
      "metadata": {
        "colab": {
          "base_uri": "https://localhost:8080/"
        },
        "id": "vYtydFIYErIX",
        "outputId": "21c4468b-07b6-4d37-816a-7a7ba7410703"
      },
      "execution_count": 2,
      "outputs": [
        {
          "output_type": "execute_result",
          "data": {
            "text/plain": [
              "<module 'keras.api._v2.keras.datasets.fashion_mnist' from '/usr/local/lib/python3.10/dist-packages/keras/api/_v2/keras/datasets/fashion_mnist/__init__.py'>"
            ]
          },
          "metadata": {},
          "execution_count": 2
        }
      ]
    },
    {
      "cell_type": "code",
      "source": [
        "(train_X, train_y), (test_X, test_y) = fashion_mnist.load_data()\n",
        "print(train_X.shape)\n",
        "print(train_y.shape)\n",
        "print(test_X.shape)\n",
        "print(test_y.shape)"
      ],
      "metadata": {
        "colab": {
          "base_uri": "https://localhost:8080/"
        },
        "id": "j1_U-m2EFJz-",
        "outputId": "617f8f02-6b2e-48bd-e734-78330cb3cc42"
      },
      "execution_count": 3,
      "outputs": [
        {
          "output_type": "stream",
          "name": "stdout",
          "text": [
            "Downloading data from https://storage.googleapis.com/tensorflow/tf-keras-datasets/train-labels-idx1-ubyte.gz\n",
            "29515/29515 [==============================] - 0s 0us/step\n",
            "Downloading data from https://storage.googleapis.com/tensorflow/tf-keras-datasets/train-images-idx3-ubyte.gz\n",
            "26421880/26421880 [==============================] - 2s 0us/step\n",
            "Downloading data from https://storage.googleapis.com/tensorflow/tf-keras-datasets/t10k-labels-idx1-ubyte.gz\n",
            "5148/5148 [==============================] - 0s 0us/step\n",
            "Downloading data from https://storage.googleapis.com/tensorflow/tf-keras-datasets/t10k-images-idx3-ubyte.gz\n",
            "4422102/4422102 [==============================] - 1s 0us/step\n",
            "(60000, 28, 28)\n",
            "(60000,)\n",
            "(10000, 28, 28)\n",
            "(10000,)\n"
          ]
        }
      ]
    },
    {
      "cell_type": "markdown",
      "source": [
        "# 2. 전처리 + EDA"
      ],
      "metadata": {
        "id": "eKq4Wmg2FYPH"
      }
    },
    {
      "cell_type": "code",
      "source": [
        "# 실제 프로젝트 : 각각 전처리!!!!\n",
        "# ---> 이미지 데이터 전처리 : openCV(C/C++)\n",
        "# + resize, crop, 색상변환(컬럼 -> 흑백변환, 차원 낮추기), 해상도 등..."
      ],
      "metadata": {
        "id": "wZbPV3psFnZA"
      },
      "execution_count": null,
      "outputs": []
    },
    {
      "cell_type": "code",
      "source": [
        "train_X[0]"
      ],
      "metadata": {
        "colab": {
          "base_uri": "https://localhost:8080/",
          "height": 67
        },
        "id": "vDd55ZbBbSNk",
        "outputId": "4200e4d7-3c53-4844-b35e-8722ff4f870d"
      },
      "execution_count": 9,
      "outputs": [
        {
          "output_type": "execute_result",
          "data": {
            "text/plain": [
              "array([[  0,   0,   0,   0,   0,   0,   0,   0,   0,   0,   0,   0,   0,\n",
              "          0,   0,   0,   0,   0,   0,   0,   0,   0,   0,   0,   0,   0,\n",
              "          0,   0],\n",
              "       [  0,   0,   0,   0,   0,   0,   0,   0,   0,   0,   0,   0,   0,\n",
              "          0,   0,   0,   0,   0,   0,   0,   0,   0,   0,   0,   0,   0,\n",
              "          0,   0],\n",
              "       [  0,   0,   0,   0,   0,   0,   0,   0,   0,   0,   0,   0,   0,\n",
              "          0,   0,   0,   0,   0,   0,   0,   0,   0,   0,   0,   0,   0,\n",
              "          0,   0],\n",
              "       [  0,   0,   0,   0,   0,   0,   0,   0,   0,   0,   0,   0,   1,\n",
              "          0,   0,  13,  73,   0,   0,   1,   4,   0,   0,   0,   0,   1,\n",
              "          1,   0],\n",
              "       [  0,   0,   0,   0,   0,   0,   0,   0,   0,   0,   0,   0,   3,\n",
              "          0,  36, 136, 127,  62,  54,   0,   0,   0,   1,   3,   4,   0,\n",
              "          0,   3],\n",
              "       [  0,   0,   0,   0,   0,   0,   0,   0,   0,   0,   0,   0,   6,\n",
              "          0, 102, 204, 176, 134, 144, 123,  23,   0,   0,   0,   0,  12,\n",
              "         10,   0],\n",
              "       [  0,   0,   0,   0,   0,   0,   0,   0,   0,   0,   0,   0,   0,\n",
              "          0, 155, 236, 207, 178, 107, 156, 161, 109,  64,  23,  77, 130,\n",
              "         72,  15],\n",
              "       [  0,   0,   0,   0,   0,   0,   0,   0,   0,   0,   0,   1,   0,\n",
              "         69, 207, 223, 218, 216, 216, 163, 127, 121, 122, 146, 141,  88,\n",
              "        172,  66],\n",
              "       [  0,   0,   0,   0,   0,   0,   0,   0,   0,   1,   1,   1,   0,\n",
              "        200, 232, 232, 233, 229, 223, 223, 215, 213, 164, 127, 123, 196,\n",
              "        229,   0],\n",
              "       [  0,   0,   0,   0,   0,   0,   0,   0,   0,   0,   0,   0,   0,\n",
              "        183, 225, 216, 223, 228, 235, 227, 224, 222, 224, 221, 223, 245,\n",
              "        173,   0],\n",
              "       [  0,   0,   0,   0,   0,   0,   0,   0,   0,   0,   0,   0,   0,\n",
              "        193, 228, 218, 213, 198, 180, 212, 210, 211, 213, 223, 220, 243,\n",
              "        202,   0],\n",
              "       [  0,   0,   0,   0,   0,   0,   0,   0,   0,   1,   3,   0,  12,\n",
              "        219, 220, 212, 218, 192, 169, 227, 208, 218, 224, 212, 226, 197,\n",
              "        209,  52],\n",
              "       [  0,   0,   0,   0,   0,   0,   0,   0,   0,   0,   6,   0,  99,\n",
              "        244, 222, 220, 218, 203, 198, 221, 215, 213, 222, 220, 245, 119,\n",
              "        167,  56],\n",
              "       [  0,   0,   0,   0,   0,   0,   0,   0,   0,   4,   0,   0,  55,\n",
              "        236, 228, 230, 228, 240, 232, 213, 218, 223, 234, 217, 217, 209,\n",
              "         92,   0],\n",
              "       [  0,   0,   1,   4,   6,   7,   2,   0,   0,   0,   0,   0, 237,\n",
              "        226, 217, 223, 222, 219, 222, 221, 216, 223, 229, 215, 218, 255,\n",
              "         77,   0],\n",
              "       [  0,   3,   0,   0,   0,   0,   0,   0,   0,  62, 145, 204, 228,\n",
              "        207, 213, 221, 218, 208, 211, 218, 224, 223, 219, 215, 224, 244,\n",
              "        159,   0],\n",
              "       [  0,   0,   0,   0,  18,  44,  82, 107, 189, 228, 220, 222, 217,\n",
              "        226, 200, 205, 211, 230, 224, 234, 176, 188, 250, 248, 233, 238,\n",
              "        215,   0],\n",
              "       [  0,  57, 187, 208, 224, 221, 224, 208, 204, 214, 208, 209, 200,\n",
              "        159, 245, 193, 206, 223, 255, 255, 221, 234, 221, 211, 220, 232,\n",
              "        246,   0],\n",
              "       [  3, 202, 228, 224, 221, 211, 211, 214, 205, 205, 205, 220, 240,\n",
              "         80, 150, 255, 229, 221, 188, 154, 191, 210, 204, 209, 222, 228,\n",
              "        225,   0],\n",
              "       [ 98, 233, 198, 210, 222, 229, 229, 234, 249, 220, 194, 215, 217,\n",
              "        241,  65,  73, 106, 117, 168, 219, 221, 215, 217, 223, 223, 224,\n",
              "        229,  29],\n",
              "       [ 75, 204, 212, 204, 193, 205, 211, 225, 216, 185, 197, 206, 198,\n",
              "        213, 240, 195, 227, 245, 239, 223, 218, 212, 209, 222, 220, 221,\n",
              "        230,  67],\n",
              "       [ 48, 203, 183, 194, 213, 197, 185, 190, 194, 192, 202, 214, 219,\n",
              "        221, 220, 236, 225, 216, 199, 206, 186, 181, 177, 172, 181, 205,\n",
              "        206, 115],\n",
              "       [  0, 122, 219, 193, 179, 171, 183, 196, 204, 210, 213, 207, 211,\n",
              "        210, 200, 196, 194, 191, 195, 191, 198, 192, 176, 156, 167, 177,\n",
              "        210,  92],\n",
              "       [  0,   0,  74, 189, 212, 191, 175, 172, 175, 181, 185, 188, 189,\n",
              "        188, 193, 198, 204, 209, 210, 210, 211, 188, 188, 194, 192, 216,\n",
              "        170,   0],\n",
              "       [  2,   0,   0,   0,  66, 200, 222, 237, 239, 242, 246, 243, 244,\n",
              "        221, 220, 193, 191, 179, 182, 182, 181, 176, 166, 168,  99,  58,\n",
              "          0,   0],\n",
              "       [  0,   0,   0,   0,   0,   0,   0,  40,  61,  44,  72,  41,  35,\n",
              "          0,   0,   0,   0,   0,   0,   0,   0,   0,   0,   0,   0,   0,\n",
              "          0,   0],\n",
              "       [  0,   0,   0,   0,   0,   0,   0,   0,   0,   0,   0,   0,   0,\n",
              "          0,   0,   0,   0,   0,   0,   0,   0,   0,   0,   0,   0,   0,\n",
              "          0,   0],\n",
              "       [  0,   0,   0,   0,   0,   0,   0,   0,   0,   0,   0,   0,   0,\n",
              "          0,   0,   0,   0,   0,   0,   0,   0,   0,   0,   0,   0,   0,\n",
              "          0,   0]], dtype=uint8)"
            ],
            "text/html": [
              "<style>\n",
              "      .ndarray_repr .ndarray_raw_data {\n",
              "        display: none;\n",
              "      }\n",
              "      .ndarray_repr.show_array .ndarray_raw_data {\n",
              "        display: block;\n",
              "      }\n",
              "      .ndarray_repr.show_array .ndarray_image_preview {\n",
              "        display: none;\n",
              "      }\n",
              "      </style>\n",
              "      <div id=\"id-8023b053-1733-487a-8cd1-8afdd019af3f\" class=\"ndarray_repr\"><pre>ndarray (28, 28) <button style=\"padding: 0 2px;\">show data</button></pre><img src=\"data:image/png;base64,iVBORw0KGgoAAAANSUhEUgAAABwAAAAcCAAAAABXZoBIAAACBUlEQVR4nLXSz0tUURQH8O+597373rx545g6NmNJY6TlJgozEsKFZGCrkDBoVdGmdf9BiwJ3bVr1PwhBUbQfJQcKjWZRTsjo0KDpDPV+eN+997WK0Z2bvtsPfM+Bc4D/HwJycwBZAEAE6zAyfe5RFMQfFYiRAj+CXM/c2HK82VetVMM34RGUmCxz9v7yYnW9dnWyskyHR6azi72Jwep3ScVk9c7LLhKQrpRBSiI2n76puZFT3doUwH4pcmw/zpjrU2zw3dFt4XEWdvbKhpinzTBYt5bDH4qlLYO8cbKBWHOudDHluFtiLrLD0kmM2//6q9VFS+JLLDxv9GzMPV9v3XuzYgHEGSUGCngbRCLd4W6CxPCLHTDwVMkDA0y/qEa/lFFBoF2EEME8CAD6hsZK8+djlmSatuiXXsWfNh27NU6Yelro1bytPElRbaGaO1FGPfc7zPg9HvHlIaVD8AjID9y/+bgZ/6iP9ks7J/QZevh8w/cd2PlGs8CKt92R7MQEk0yA7GtWq9ETN3zRs7fpR7FaWi/3yXaipW1IjFnbaSM70N7dsRzbzbHd8aCx7+wmKskUO5esz0sPmvXYF67gBzoNfxptxb5stxM10iLg1pOTO23NhcUptW1hE6gFYYprC8QMMPNsMM+4pamVbps/HGkSsg+1Cv4d+0Jh//Sm3DjGix4rfwFoJNh2/0cDFgAAAABJRU5ErkJggg==\" class=\"ndarray_image_preview\" /><pre class=\"ndarray_raw_data\">array([[  0,   0,   0,   0,   0,   0,   0,   0,   0,   0,   0,   0,   0,\n",
              "          0,   0,   0,   0,   0,   0,   0,   0,   0,   0,   0,   0,   0,\n",
              "          0,   0],\n",
              "       [  0,   0,   0,   0,   0,   0,   0,   0,   0,   0,   0,   0,   0,\n",
              "          0,   0,   0,   0,   0,   0,   0,   0,   0,   0,   0,   0,   0,\n",
              "          0,   0],\n",
              "       [  0,   0,   0,   0,   0,   0,   0,   0,   0,   0,   0,   0,   0,\n",
              "          0,   0,   0,   0,   0,   0,   0,   0,   0,   0,   0,   0,   0,\n",
              "          0,   0],\n",
              "       [  0,   0,   0,   0,   0,   0,   0,   0,   0,   0,   0,   0,   1,\n",
              "          0,   0,  13,  73,   0,   0,   1,   4,   0,   0,   0,   0,   1,\n",
              "          1,   0],\n",
              "       [  0,   0,   0,   0,   0,   0,   0,   0,   0,   0,   0,   0,   3,\n",
              "          0,  36, 136, 127,  62,  54,   0,   0,   0,   1,   3,   4,   0,\n",
              "          0,   3],\n",
              "       [  0,   0,   0,   0,   0,   0,   0,   0,   0,   0,   0,   0,   6,\n",
              "          0, 102, 204, 176, 134, 144, 123,  23,   0,   0,   0,   0,  12,\n",
              "         10,   0],\n",
              "       [  0,   0,   0,   0,   0,   0,   0,   0,   0,   0,   0,   0,   0,\n",
              "          0, 155, 236, 207, 178, 107, 156, 161, 109,  64,  23,  77, 130,\n",
              "         72,  15],\n",
              "       [  0,   0,   0,   0,   0,   0,   0,   0,   0,   0,   0,   1,   0,\n",
              "         69, 207, 223, 218, 216, 216, 163, 127, 121, 122, 146, 141,  88,\n",
              "        172,  66],\n",
              "       [  0,   0,   0,   0,   0,   0,   0,   0,   0,   1,   1,   1,   0,\n",
              "        200, 232, 232, 233, 229, 223, 223, 215, 213, 164, 127, 123, 196,\n",
              "        229,   0],\n",
              "       [  0,   0,   0,   0,   0,   0,   0,   0,   0,   0,   0,   0,   0,\n",
              "        183, 225, 216, 223, 228, 235, 227, 224, 222, 224, 221, 223, 245,\n",
              "        173,   0],\n",
              "       [  0,   0,   0,   0,   0,   0,   0,   0,   0,   0,   0,   0,   0,\n",
              "        193, 228, 218, 213, 198, 180, 212, 210, 211, 213, 223, 220, 243,\n",
              "        202,   0],\n",
              "       [  0,   0,   0,   0,   0,   0,   0,   0,   0,   1,   3,   0,  12,\n",
              "        219, 220, 212, 218, 192, 169, 227, 208, 218, 224, 212, 226, 197,\n",
              "        209,  52],\n",
              "       [  0,   0,   0,   0,   0,   0,   0,   0,   0,   0,   6,   0,  99,\n",
              "        244, 222, 220, 218, 203, 198, 221, 215, 213, 222, 220, 245, 119,\n",
              "        167,  56],\n",
              "       [  0,   0,   0,   0,   0,   0,   0,   0,   0,   4,   0,   0,  55,\n",
              "        236, 228, 230, 228, 240, 232, 213, 218, 223, 234, 217, 217, 209,\n",
              "         92,   0],\n",
              "       [  0,   0,   1,   4,   6,   7,   2,   0,   0,   0,   0,   0, 237,\n",
              "        226, 217, 223, 222, 219, 222, 221, 216, 223, 229, 215, 218, 255,\n",
              "         77,   0],\n",
              "       [  0,   3,   0,   0,   0,   0,   0,   0,   0,  62, 145, 204, 228,\n",
              "        207, 213, 221, 218, 208, 211, 218, 224, 223, 219, 215, 224, 244,\n",
              "        159,   0],\n",
              "       [  0,   0,   0,   0,  18,  44,  82, 107, 189, 228, 220, 222, 217,\n",
              "        226, 200, 205, 211, 230, 224, 234, 176, 188, 250, 248, 233, 238,\n",
              "        215,   0],\n",
              "       [  0,  57, 187, 208, 224, 221, 224, 208, 204, 214, 208, 209, 200,\n",
              "        159, 245, 193, 206, 223, 255, 255, 221, 234, 221, 211, 220, 232,\n",
              "        246,   0],\n",
              "       [  3, 202, 228, 224, 221, 211, 211, 214, 205, 205, 205, 220, 240,\n",
              "         80, 150, 255, 229, 221, 188, 154, 191, 210, 204, 209, 222, 228,\n",
              "        225,   0],\n",
              "       [ 98, 233, 198, 210, 222, 229, 229, 234, 249, 220, 194, 215, 217,\n",
              "        241,  65,  73, 106, 117, 168, 219, 221, 215, 217, 223, 223, 224,\n",
              "        229,  29],\n",
              "       [ 75, 204, 212, 204, 193, 205, 211, 225, 216, 185, 197, 206, 198,\n",
              "        213, 240, 195, 227, 245, 239, 223, 218, 212, 209, 222, 220, 221,\n",
              "        230,  67],\n",
              "       [ 48, 203, 183, 194, 213, 197, 185, 190, 194, 192, 202, 214, 219,\n",
              "        221, 220, 236, 225, 216, 199, 206, 186, 181, 177, 172, 181, 205,\n",
              "        206, 115],\n",
              "       [  0, 122, 219, 193, 179, 171, 183, 196, 204, 210, 213, 207, 211,\n",
              "        210, 200, 196, 194, 191, 195, 191, 198, 192, 176, 156, 167, 177,\n",
              "        210,  92],\n",
              "       [  0,   0,  74, 189, 212, 191, 175, 172, 175, 181, 185, 188, 189,\n",
              "        188, 193, 198, 204, 209, 210, 210, 211, 188, 188, 194, 192, 216,\n",
              "        170,   0],\n",
              "       [  2,   0,   0,   0,  66, 200, 222, 237, 239, 242, 246, 243, 244,\n",
              "        221, 220, 193, 191, 179, 182, 182, 181, 176, 166, 168,  99,  58,\n",
              "          0,   0],\n",
              "       [  0,   0,   0,   0,   0,   0,   0,  40,  61,  44,  72,  41,  35,\n",
              "          0,   0,   0,   0,   0,   0,   0,   0,   0,   0,   0,   0,   0,\n",
              "          0,   0],\n",
              "       [  0,   0,   0,   0,   0,   0,   0,   0,   0,   0,   0,   0,   0,\n",
              "          0,   0,   0,   0,   0,   0,   0,   0,   0,   0,   0,   0,   0,\n",
              "          0,   0],\n",
              "       [  0,   0,   0,   0,   0,   0,   0,   0,   0,   0,   0,   0,   0,\n",
              "          0,   0,   0,   0,   0,   0,   0,   0,   0,   0,   0,   0,   0,\n",
              "          0,   0]], dtype=uint8)</pre></div><script>\n",
              "      (() => {\n",
              "      const titles = ['show data', 'hide data'];\n",
              "      let index = 0\n",
              "      document.querySelector('#id-8023b053-1733-487a-8cd1-8afdd019af3f button').onclick = (e) => {\n",
              "        document.querySelector('#id-8023b053-1733-487a-8cd1-8afdd019af3f').classList.toggle('show_array');\n",
              "        index = (++index) % 2;\n",
              "        document.querySelector('#id-8023b053-1733-487a-8cd1-8afdd019af3f button').textContent = titles[index];\n",
              "        e.preventDefault();\n",
              "        e.stopPropagation();\n",
              "      }\n",
              "      })();\n",
              "    </script>"
            ]
          },
          "metadata": {},
          "execution_count": 9
        }
      ]
    },
    {
      "cell_type": "code",
      "source": [
        "plt.figure(figsize= (3,3))\n",
        "plt.imshow(train_X[0], cmap=\"gray\")\n",
        "plt .colorbar()\n",
        "print(train_y[0])"
      ],
      "metadata": {
        "colab": {
          "base_uri": "https://localhost:8080/",
          "height": 295
        },
        "id": "WrkrThk7GRWA",
        "outputId": "c5b976b0-cda1-4cf3-b6ee-d8954f4db323"
      },
      "execution_count": 15,
      "outputs": [
        {
          "output_type": "stream",
          "name": "stdout",
          "text": [
            "9\n"
          ]
        },
        {
          "output_type": "display_data",
          "data": {
            "text/plain": [
              "<Figure size 300x300 with 2 Axes>"
            ],
            "image/png": "[encoded data removed]"
          },
          "metadata": {}
        }
      ]
    },
    {
      "cell_type": "code",
      "source": [
        "# 데이터들의 경우에는 보면 8비트로 0~255까지의 값\n",
        "# --> 이미지 표현의 경우에는 정해진 룰일 딱 존재해서...\n",
        "# --> 일괄적으로 처리하는 경우들이 많이 있음\n",
        "\n",
        "# 값 재조정 : 0~1 MinMaxScaler etc, 0을 중심으로 standardScale etc\n",
        "\n",
        "\n",
        "# 정규화\n",
        "train_X = train_X / 255.0\n",
        "test_X = test_X / 255.0"
      ],
      "metadata": {
        "id": "gZmMUEarGYSz"
      },
      "execution_count": 16,
      "outputs": []
    },
    {
      "cell_type": "markdown",
      "source": [
        "## 모델 설계"
      ],
      "metadata": {
        "id": "8oWHPMyrHM6V"
      }
    },
    {
      "cell_type": "code",
      "source": [
        "# 모델을 설계 하는데 기준\n",
        "# --> 1개 샘플을 기준으로 함 : train_X[0].shape\n",
        "# --> 설계 방식 : 전통적인 DNN 구조로 설계!\n",
        "    # 1) DNN으로 설계하기 위해서 flatten (2D->1D)\n",
        "    #   input layer : 노드 (764개)\n",
        "    # 2) HL(히든레이어) : 1개만 쌓을 거임(이유 없음. node =128, AF= Relu)\n",
        "    # 3) OL(아웃풋레이어) : 10개에 대한 분류 -> node = 10 + AF : softmax\n",
        "\n",
        "# 주의!\n",
        "# 정답 train_y는 라벨인코딩! -> 원핫인코딩을 해야하는데\n",
        "#                            -> 지금 주어진 정답 : 라벨인코딩 1D,\n",
        "#                            -> OL 연결된 정답 : 원핫인코딩 2D"
      ],
      "metadata": {
        "id": "JvJ3yg0CHSTZ"
      },
      "execution_count": 17,
      "outputs": []
    },
    {
      "cell_type": "code",
      "source": [
        "train_X.shape"
      ],
      "metadata": {
        "colab": {
          "base_uri": "https://localhost:8080/"
        },
        "id": "yQd3PdBSHVNJ",
        "outputId": "d601891d-744b-474b-c566-f51bebfb2b50"
      },
      "execution_count": 18,
      "outputs": [
        {
          "output_type": "execute_result",
          "data": {
            "text/plain": [
              "(60000, 28, 28)"
            ]
          },
          "metadata": {},
          "execution_count": 18
        }
      ]
    },
    {
      "cell_type": "code",
      "source": [
        "train_X[0].shape"
      ],
      "metadata": {
        "colab": {
          "base_uri": "https://localhost:8080/"
        },
        "id": "SS8Q1CX5HWMt",
        "outputId": "624fd19f-8ec6-49ec-e14c-f5a0f24254bf"
      },
      "execution_count": 19,
      "outputs": [
        {
          "output_type": "execute_result",
          "data": {
            "text/plain": [
              "(28, 28)"
            ]
          },
          "metadata": {},
          "execution_count": 19
        }
      ]
    },
    {
      "cell_type": "markdown",
      "source": [
        "### 모델 구조 설계"
      ],
      "metadata": {
        "id": "r9MZBGgYc7F1"
      }
    },
    {
      "cell_type": "code",
      "source": [
        "model = tf.keras.Sequential(\n",
        "    [\n",
        "        tf.keras.layers.Flatten(input_shape = (28,28)),\n",
        "\n",
        "        # HL : 일반적인 Dense 레이어로 기능\n",
        "        # ++ 여러층 추가, 노드도 변경 AF 변경 가능(하이퍼 파라미터 영역)\n",
        "        tf.keras.layers.Dense(units = 128, activation=\"relu\"),\n",
        "\n",
        "        # output layer 설계\n",
        "        # 내 모델의 목적에 고정 : 분류 + 10종\n",
        "        tf.keras.layers.Dense(units = 10, activation = \"softmax\")\n",
        "\n",
        "    ]\n",
        ")\n",
        "model"
      ],
      "metadata": {
        "colab": {
          "base_uri": "https://localhost:8080/"
        },
        "id": "BqOhlVXvJbiU",
        "outputId": "17c7e00e-e44d-421e-b194-275c3db4d0f5"
      },
      "execution_count": 20,
      "outputs": [
        {
          "output_type": "execute_result",
          "data": {
            "text/plain": [
              "<keras.src.engine.sequential.Sequential at 0x7aed0778bb20>"
            ]
          },
          "metadata": {},
          "execution_count": 20
        }
      ]
    },
    {
      "cell_type": "code",
      "source": [
        " model.summary()"
      ],
      "metadata": {
        "colab": {
          "base_uri": "https://localhost:8080/"
        },
        "id": "czGt5-EuK8Pp",
        "outputId": "eb99bcd3-4922-44a8-ce34-a8eb895c059c"
      },
      "execution_count": 21,
      "outputs": [
        {
          "output_type": "stream",
          "name": "stdout",
          "text": [
            "Model: \"sequential\"\n",
            "_________________________________________________________________\n",
            " Layer (type)                Output Shape              Param #   \n",
            "=================================================================\n",
            " flatten (Flatten)           (None, 784)               0         \n",
            "                                                                 \n",
            " dense (Dense)               (None, 128)               100480    \n",
            "                                                                 \n",
            " dense_1 (Dense)             (None, 10)                1290      \n",
            "                                                                 \n",
            "=================================================================\n",
            "Total params: 101770 (397.54 KB)\n",
            "Trainable params: 101770 (397.54 KB)\n",
            "Non-trainable params: 0 (0.00 Byte)\n",
            "_________________________________________________________________\n"
          ]
        }
      ]
    },
    {
      "cell_type": "code",
      "source": [
        "# 데이터 784 개 + bias 1개 가 같이 input 됨\n",
        "print(\"1번 레이어 :\" ,(784+1)*128)\n",
        "print(\"2번 레이어 :\", 128*10)"
      ],
      "metadata": {
        "id": "DqJu01FRLFqm",
        "colab": {
          "base_uri": "https://localhost:8080/"
        },
        "outputId": "36b16694-8fe5-4182-91e6-7749d07cf189"
      },
      "execution_count": 22,
      "outputs": [
        {
          "output_type": "stream",
          "name": "stdout",
          "text": [
            "1번 레이어 : 100480\n",
            "2번 레이어 : 1280\n"
          ]
        }
      ]
    },
    {
      "cell_type": "markdown",
      "source": [
        "#### 모델 학습 세팅\n",
        "    * weight 학습"
      ],
      "metadata": {
        "id": "RmeVT3YufAVv"
      }
    },
    {
      "cell_type": "code",
      "source": [
        "model.compile(\n",
        "\n",
        "    optimizer= tf.keras.optimizers.Adam(), # loss 최적화 GD\n",
        "    loss = \"categorical_crossentropy\",# 정답을 OneHotEncoding\n",
        "    metrics = [\"accuracy\"] # 잘 학습이 되는지 모니터링 지표\n",
        "\n",
        ")"
      ],
      "metadata": {
        "id": "IRRnwXFZLumi"
      },
      "execution_count": 23,
      "outputs": []
    },
    {
      "cell_type": "code",
      "source": [
        "# 참고) 정답지의 모양을 OHEncoding 으로 방식으로 변환\n",
        "# why 여러개의 분류 목적에 의한 output layer 의 노드와 연결\n",
        "print(\"원래 정답지 모양 train_y[0] :\",train_y[0])\n",
        "# [0,0,0,0,0,0,0,0,1]\n",
        "# ++\n",
        "tf.keras.utils.to_categorical(train_y[0], num_classes=10)"
      ],
      "metadata": {
        "colab": {
          "base_uri": "https://localhost:8080/"
        },
        "id": "1WQum4LjNJxK",
        "outputId": "ac9e7292-119c-4047-ac01-280c33c049fb"
      },
      "execution_count": 28,
      "outputs": [
        {
          "output_type": "stream",
          "name": "stdout",
          "text": [
            "원래 정답지 모양 train_y[0] : 9\n"
          ]
        },
        {
          "output_type": "execute_result",
          "data": {
            "text/plain": [
              "array([0., 0., 0., 0., 0., 0., 0., 0., 0., 1.], dtype=float32)"
            ]
          },
          "metadata": {},
          "execution_count": 28
        }
      ]
    },
    {
      "cell_type": "markdown",
      "source": [
        "#### 모델 학습"
      ],
      "metadata": {
        "id": "6kAZBNWdP-eM"
      }
    },
    {
      "cell_type": "code",
      "source": [
        "# 인공신경망으로 분류!\n",
        "# + 정답에 대한 처리!!!!!\n",
        "history = model.fit(\n",
        "    train_X,\n",
        "    tf.keras.utils.to_categorical(train_y, num_classes=10),\n",
        "\n",
        "    # 얼마나 많은 train 데이터를 재활용할까 epoch\n",
        "    epochs = 100, # overfit + 시간\n",
        "    batch_size = 256, # HW 스펙에 따라서 다름 gpu -> ram\n",
        "    validation_split = 0.25\n",
        ")"
      ],
      "metadata": {
        "colab": {
          "base_uri": "https://localhost:8080/"
        },
        "id": "6cXTKjuXNjSV",
        "outputId": "611a5ec8-59d3-401e-c168-ea8476cda2eb"
      },
      "execution_count": 31,
      "outputs": [
        {
          "output_type": "stream",
          "name": "stdout",
          "text": [
            "Epoch 1/100\n",
            "176/176 [==============================] - 3s 6ms/step - loss: 0.6587 - accuracy: 0.7772 - val_loss: 0.4785 - val_accuracy: 0.8327\n",
            "Epoch 2/100\n",
            "176/176 [==============================] - 1s 4ms/step - loss: 0.4481 - accuracy: 0.8457 - val_loss: 0.4398 - val_accuracy: 0.8471\n",
            "Epoch 3/100\n",
            "176/176 [==============================] - 1s 4ms/step - loss: 0.4075 - accuracy: 0.8583 - val_loss: 0.4055 - val_accuracy: 0.8577\n",
            "Epoch 4/100\n",
            "176/176 [==============================] - 1s 4ms/step - loss: 0.3848 - accuracy: 0.8639 - val_loss: 0.3987 - val_accuracy: 0.8581\n",
            "Epoch 5/100\n",
            "176/176 [==============================] - 1s 4ms/step - loss: 0.3608 - accuracy: 0.8717 - val_loss: 0.3868 - val_accuracy: 0.8604\n",
            "Epoch 6/100\n",
            "176/176 [==============================] - 1s 4ms/step - loss: 0.3409 - accuracy: 0.8791 - val_loss: 0.3740 - val_accuracy: 0.8672\n",
            "Epoch 7/100\n",
            "176/176 [==============================] - 1s 6ms/step - loss: 0.3322 - accuracy: 0.8812 - val_loss: 0.3515 - val_accuracy: 0.8753\n",
            "Epoch 8/100\n",
            "176/176 [==============================] - 1s 6ms/step - loss: 0.3123 - accuracy: 0.8882 - val_loss: 0.3499 - val_accuracy: 0.8758\n",
            "Epoch 9/100\n",
            "176/176 [==============================] - 1s 6ms/step - loss: 0.3043 - accuracy: 0.8905 - val_loss: 0.3408 - val_accuracy: 0.8799\n",
            "Epoch 10/100\n",
            "176/176 [==============================] - 1s 4ms/step - loss: 0.2942 - accuracy: 0.8940 - val_loss: 0.3323 - val_accuracy: 0.8817\n",
            "Epoch 11/100\n",
            "176/176 [==============================] - 1s 4ms/step - loss: 0.2834 - accuracy: 0.8976 - val_loss: 0.3379 - val_accuracy: 0.8774\n",
            "Epoch 12/100\n",
            "176/176 [==============================] - 1s 4ms/step - loss: 0.2778 - accuracy: 0.9002 - val_loss: 0.3364 - val_accuracy: 0.8772\n",
            "Epoch 13/100\n",
            "176/176 [==============================] - 1s 4ms/step - loss: 0.2705 - accuracy: 0.9017 - val_loss: 0.3276 - val_accuracy: 0.8839\n",
            "Epoch 14/100\n",
            "176/176 [==============================] - 1s 4ms/step - loss: 0.2601 - accuracy: 0.9057 - val_loss: 0.3310 - val_accuracy: 0.8843\n",
            "Epoch 15/100\n",
            "176/176 [==============================] - 1s 4ms/step - loss: 0.2527 - accuracy: 0.9089 - val_loss: 0.3273 - val_accuracy: 0.8841\n",
            "Epoch 16/100\n",
            "176/176 [==============================] - 1s 4ms/step - loss: 0.2456 - accuracy: 0.9112 - val_loss: 0.3185 - val_accuracy: 0.8857\n",
            "Epoch 17/100\n",
            "176/176 [==============================] - 1s 4ms/step - loss: 0.2476 - accuracy: 0.9100 - val_loss: 0.3297 - val_accuracy: 0.8829\n",
            "Epoch 18/100\n",
            "176/176 [==============================] - 1s 4ms/step - loss: 0.2390 - accuracy: 0.9136 - val_loss: 0.3137 - val_accuracy: 0.8881\n",
            "Epoch 19/100\n",
            "176/176 [==============================] - 1s 4ms/step - loss: 0.2338 - accuracy: 0.9148 - val_loss: 0.3220 - val_accuracy: 0.8853\n",
            "Epoch 20/100\n",
            "176/176 [==============================] - 1s 4ms/step - loss: 0.2283 - accuracy: 0.9164 - val_loss: 0.3145 - val_accuracy: 0.8883\n",
            "Epoch 21/100\n",
            "176/176 [==============================] - 1s 4ms/step - loss: 0.2218 - accuracy: 0.9194 - val_loss: 0.3100 - val_accuracy: 0.8909\n",
            "Epoch 22/100\n",
            "176/176 [==============================] - 1s 4ms/step - loss: 0.2199 - accuracy: 0.9207 - val_loss: 0.3258 - val_accuracy: 0.8854\n",
            "Epoch 23/100\n",
            "176/176 [==============================] - 1s 4ms/step - loss: 0.2170 - accuracy: 0.9201 - val_loss: 0.3274 - val_accuracy: 0.8861\n",
            "Epoch 24/100\n",
            "176/176 [==============================] - 1s 6ms/step - loss: 0.2103 - accuracy: 0.9235 - val_loss: 0.3272 - val_accuracy: 0.8853\n",
            "Epoch 25/100\n",
            "176/176 [==============================] - 1s 6ms/step - loss: 0.2085 - accuracy: 0.9226 - val_loss: 0.3204 - val_accuracy: 0.8881\n",
            "Epoch 26/100\n",
            "176/176 [==============================] - 1s 5ms/step - loss: 0.1996 - accuracy: 0.9275 - val_loss: 0.3154 - val_accuracy: 0.8909\n",
            "Epoch 27/100\n",
            "176/176 [==============================] - 1s 4ms/step - loss: 0.1957 - accuracy: 0.9304 - val_loss: 0.3214 - val_accuracy: 0.8877\n",
            "Epoch 28/100\n",
            "176/176 [==============================] - 1s 4ms/step - loss: 0.1947 - accuracy: 0.9296 - val_loss: 0.3305 - val_accuracy: 0.8861\n",
            "Epoch 29/100\n",
            "176/176 [==============================] - 1s 4ms/step - loss: 0.1905 - accuracy: 0.9313 - val_loss: 0.3157 - val_accuracy: 0.8912\n",
            "Epoch 30/100\n",
            "176/176 [==============================] - 1s 4ms/step - loss: 0.1858 - accuracy: 0.9327 - val_loss: 0.3267 - val_accuracy: 0.8889\n",
            "Epoch 31/100\n",
            "176/176 [==============================] - 1s 4ms/step - loss: 0.1812 - accuracy: 0.9341 - val_loss: 0.3236 - val_accuracy: 0.8887\n",
            "Epoch 32/100\n",
            "176/176 [==============================] - 1s 4ms/step - loss: 0.1810 - accuracy: 0.9339 - val_loss: 0.3285 - val_accuracy: 0.8880\n",
            "Epoch 33/100\n",
            "176/176 [==============================] - 1s 4ms/step - loss: 0.1759 - accuracy: 0.9366 - val_loss: 0.3259 - val_accuracy: 0.8877\n",
            "Epoch 34/100\n",
            "176/176 [==============================] - 1s 4ms/step - loss: 0.1741 - accuracy: 0.9377 - val_loss: 0.3188 - val_accuracy: 0.8913\n",
            "Epoch 35/100\n",
            "176/176 [==============================] - 1s 4ms/step - loss: 0.1717 - accuracy: 0.9388 - val_loss: 0.3296 - val_accuracy: 0.8881\n",
            "Epoch 36/100\n",
            "176/176 [==============================] - 1s 4ms/step - loss: 0.1685 - accuracy: 0.9401 - val_loss: 0.3206 - val_accuracy: 0.8897\n",
            "Epoch 37/100\n",
            "176/176 [==============================] - 1s 4ms/step - loss: 0.1645 - accuracy: 0.9398 - val_loss: 0.3291 - val_accuracy: 0.8913\n",
            "Epoch 38/100\n",
            "176/176 [==============================] - 1s 4ms/step - loss: 0.1613 - accuracy: 0.9421 - val_loss: 0.3312 - val_accuracy: 0.8909\n",
            "Epoch 39/100\n",
            "176/176 [==============================] - 1s 4ms/step - loss: 0.1594 - accuracy: 0.9417 - val_loss: 0.3314 - val_accuracy: 0.8896\n",
            "Epoch 40/100\n",
            "176/176 [==============================] - 1s 6ms/step - loss: 0.1545 - accuracy: 0.9461 - val_loss: 0.3341 - val_accuracy: 0.8896\n",
            "Epoch 41/100\n",
            "176/176 [==============================] - 1s 6ms/step - loss: 0.1498 - accuracy: 0.9463 - val_loss: 0.3454 - val_accuracy: 0.8879\n",
            "Epoch 42/100\n",
            "176/176 [==============================] - 1s 6ms/step - loss: 0.1486 - accuracy: 0.9472 - val_loss: 0.3415 - val_accuracy: 0.8889\n",
            "Epoch 43/100\n",
            "176/176 [==============================] - 1s 4ms/step - loss: 0.1470 - accuracy: 0.9486 - val_loss: 0.3351 - val_accuracy: 0.8907\n",
            "Epoch 44/100\n",
            "176/176 [==============================] - 1s 4ms/step - loss: 0.1456 - accuracy: 0.9476 - val_loss: 0.3430 - val_accuracy: 0.8897\n",
            "Epoch 45/100\n",
            "176/176 [==============================] - 1s 4ms/step - loss: 0.1411 - accuracy: 0.9506 - val_loss: 0.3408 - val_accuracy: 0.8915\n",
            "Epoch 46/100\n",
            "176/176 [==============================] - 1s 4ms/step - loss: 0.1373 - accuracy: 0.9516 - val_loss: 0.3489 - val_accuracy: 0.8876\n",
            "Epoch 47/100\n",
            "176/176 [==============================] - 1s 4ms/step - loss: 0.1390 - accuracy: 0.9515 - val_loss: 0.3613 - val_accuracy: 0.8871\n",
            "Epoch 48/100\n",
            "176/176 [==============================] - 1s 4ms/step - loss: 0.1371 - accuracy: 0.9518 - val_loss: 0.3466 - val_accuracy: 0.8906\n",
            "Epoch 49/100\n",
            "176/176 [==============================] - 1s 4ms/step - loss: 0.1341 - accuracy: 0.9519 - val_loss: 0.3581 - val_accuracy: 0.8896\n",
            "Epoch 50/100\n",
            "176/176 [==============================] - 1s 4ms/step - loss: 0.1279 - accuracy: 0.9553 - val_loss: 0.3503 - val_accuracy: 0.8915\n",
            "Epoch 51/100\n",
            "176/176 [==============================] - 1s 4ms/step - loss: 0.1304 - accuracy: 0.9542 - val_loss: 0.3625 - val_accuracy: 0.8873\n",
            "Epoch 52/100\n",
            "176/176 [==============================] - 1s 4ms/step - loss: 0.1282 - accuracy: 0.9545 - val_loss: 0.3652 - val_accuracy: 0.8886\n",
            "Epoch 53/100\n",
            "176/176 [==============================] - 1s 4ms/step - loss: 0.1225 - accuracy: 0.9576 - val_loss: 0.3591 - val_accuracy: 0.8906\n",
            "Epoch 54/100\n",
            "176/176 [==============================] - 1s 4ms/step - loss: 0.1210 - accuracy: 0.9566 - val_loss: 0.3606 - val_accuracy: 0.8897\n",
            "Epoch 55/100\n",
            "176/176 [==============================] - 1s 4ms/step - loss: 0.1219 - accuracy: 0.9563 - val_loss: 0.3838 - val_accuracy: 0.8849\n",
            "Epoch 56/100\n",
            "176/176 [==============================] - 1s 4ms/step - loss: 0.1161 - accuracy: 0.9590 - val_loss: 0.3760 - val_accuracy: 0.8911\n",
            "Epoch 57/100\n",
            "176/176 [==============================] - 1s 6ms/step - loss: 0.1127 - accuracy: 0.9599 - val_loss: 0.3766 - val_accuracy: 0.8891\n",
            "Epoch 58/100\n",
            "176/176 [==============================] - 1s 7ms/step - loss: 0.1092 - accuracy: 0.9622 - val_loss: 0.3846 - val_accuracy: 0.8887\n",
            "Epoch 59/100\n",
            "176/176 [==============================] - 1s 5ms/step - loss: 0.1085 - accuracy: 0.9622 - val_loss: 0.3883 - val_accuracy: 0.8892\n",
            "Epoch 60/100\n",
            "176/176 [==============================] - 1s 4ms/step - loss: 0.1113 - accuracy: 0.9608 - val_loss: 0.3837 - val_accuracy: 0.8863\n",
            "Epoch 61/100\n",
            "176/176 [==============================] - 1s 4ms/step - loss: 0.1060 - accuracy: 0.9637 - val_loss: 0.3815 - val_accuracy: 0.8891\n",
            "Epoch 62/100\n",
            "176/176 [==============================] - 1s 4ms/step - loss: 0.1048 - accuracy: 0.9637 - val_loss: 0.3750 - val_accuracy: 0.8907\n",
            "Epoch 63/100\n",
            "176/176 [==============================] - 1s 4ms/step - loss: 0.1011 - accuracy: 0.9651 - val_loss: 0.3861 - val_accuracy: 0.8921\n",
            "Epoch 64/100\n",
            "176/176 [==============================] - 1s 4ms/step - loss: 0.1032 - accuracy: 0.9637 - val_loss: 0.3804 - val_accuracy: 0.8899\n",
            "Epoch 65/100\n",
            "176/176 [==============================] - 1s 4ms/step - loss: 0.0972 - accuracy: 0.9670 - val_loss: 0.3894 - val_accuracy: 0.8905\n",
            "Epoch 66/100\n",
            "176/176 [==============================] - 1s 4ms/step - loss: 0.0981 - accuracy: 0.9663 - val_loss: 0.3936 - val_accuracy: 0.8886\n",
            "Epoch 67/100\n",
            "176/176 [==============================] - 1s 4ms/step - loss: 0.0997 - accuracy: 0.9648 - val_loss: 0.3903 - val_accuracy: 0.8917\n",
            "Epoch 68/100\n",
            "176/176 [==============================] - 1s 4ms/step - loss: 0.0948 - accuracy: 0.9677 - val_loss: 0.4041 - val_accuracy: 0.8902\n",
            "Epoch 69/100\n",
            "176/176 [==============================] - 1s 4ms/step - loss: 0.0918 - accuracy: 0.9694 - val_loss: 0.4037 - val_accuracy: 0.8897\n",
            "Epoch 70/100\n",
            "176/176 [==============================] - 1s 4ms/step - loss: 0.0895 - accuracy: 0.9696 - val_loss: 0.4097 - val_accuracy: 0.8841\n",
            "Epoch 71/100\n",
            "176/176 [==============================] - 1s 4ms/step - loss: 0.0939 - accuracy: 0.9673 - val_loss: 0.4131 - val_accuracy: 0.8890\n",
            "Epoch 72/100\n",
            "176/176 [==============================] - 1s 4ms/step - loss: 0.0923 - accuracy: 0.9680 - val_loss: 0.4206 - val_accuracy: 0.8873\n",
            "Epoch 73/100\n",
            "176/176 [==============================] - 1s 6ms/step - loss: 0.0929 - accuracy: 0.9677 - val_loss: 0.4119 - val_accuracy: 0.8885\n",
            "Epoch 74/100\n",
            "176/176 [==============================] - 1s 7ms/step - loss: 0.0892 - accuracy: 0.9688 - val_loss: 0.4230 - val_accuracy: 0.8862\n",
            "Epoch 75/100\n",
            "176/176 [==============================] - 1s 5ms/step - loss: 0.0832 - accuracy: 0.9717 - val_loss: 0.4126 - val_accuracy: 0.8899\n",
            "Epoch 76/100\n",
            "176/176 [==============================] - 1s 4ms/step - loss: 0.0850 - accuracy: 0.9710 - val_loss: 0.4228 - val_accuracy: 0.8882\n",
            "Epoch 77/100\n",
            "176/176 [==============================] - 1s 4ms/step - loss: 0.0787 - accuracy: 0.9729 - val_loss: 0.4213 - val_accuracy: 0.8885\n",
            "Epoch 78/100\n",
            "176/176 [==============================] - 1s 4ms/step - loss: 0.0752 - accuracy: 0.9752 - val_loss: 0.4345 - val_accuracy: 0.8879\n",
            "Epoch 79/100\n",
            "176/176 [==============================] - 1s 4ms/step - loss: 0.0769 - accuracy: 0.9745 - val_loss: 0.4419 - val_accuracy: 0.8891\n",
            "Epoch 80/100\n",
            "176/176 [==============================] - 1s 4ms/step - loss: 0.0792 - accuracy: 0.9736 - val_loss: 0.4534 - val_accuracy: 0.8833\n",
            "Epoch 81/100\n",
            "176/176 [==============================] - 1s 4ms/step - loss: 0.0740 - accuracy: 0.9756 - val_loss: 0.4409 - val_accuracy: 0.8880\n",
            "Epoch 82/100\n",
            "176/176 [==============================] - 1s 4ms/step - loss: 0.0730 - accuracy: 0.9756 - val_loss: 0.4404 - val_accuracy: 0.8901\n",
            "Epoch 83/100\n",
            "176/176 [==============================] - 1s 4ms/step - loss: 0.0790 - accuracy: 0.9721 - val_loss: 0.4578 - val_accuracy: 0.8864\n",
            "Epoch 84/100\n",
            "176/176 [==============================] - 1s 4ms/step - loss: 0.0753 - accuracy: 0.9743 - val_loss: 0.4719 - val_accuracy: 0.8825\n",
            "Epoch 85/100\n",
            "176/176 [==============================] - 1s 5ms/step - loss: 0.0707 - accuracy: 0.9764 - val_loss: 0.4552 - val_accuracy: 0.8851\n",
            "Epoch 86/100\n",
            "176/176 [==============================] - 1s 4ms/step - loss: 0.0684 - accuracy: 0.9769 - val_loss: 0.4421 - val_accuracy: 0.8896\n",
            "Epoch 87/100\n",
            "176/176 [==============================] - 1s 4ms/step - loss: 0.0701 - accuracy: 0.9765 - val_loss: 0.4582 - val_accuracy: 0.8879\n",
            "Epoch 88/100\n",
            "176/176 [==============================] - 1s 4ms/step - loss: 0.0678 - accuracy: 0.9771 - val_loss: 0.4581 - val_accuracy: 0.8891\n",
            "Epoch 89/100\n",
            "176/176 [==============================] - 1s 5ms/step - loss: 0.0659 - accuracy: 0.9779 - val_loss: 0.4611 - val_accuracy: 0.8872\n",
            "Epoch 90/100\n",
            "176/176 [==============================] - 1s 6ms/step - loss: 0.0616 - accuracy: 0.9802 - val_loss: 0.4635 - val_accuracy: 0.8890\n",
            "Epoch 91/100\n",
            "176/176 [==============================] - 1s 5ms/step - loss: 0.0662 - accuracy: 0.9773 - val_loss: 0.4822 - val_accuracy: 0.8843\n",
            "Epoch 92/100\n",
            "176/176 [==============================] - 1s 4ms/step - loss: 0.0617 - accuracy: 0.9791 - val_loss: 0.4668 - val_accuracy: 0.8882\n",
            "Epoch 93/100\n",
            "176/176 [==============================] - 1s 4ms/step - loss: 0.0582 - accuracy: 0.9810 - val_loss: 0.4807 - val_accuracy: 0.8883\n",
            "Epoch 94/100\n",
            "176/176 [==============================] - 1s 4ms/step - loss: 0.0592 - accuracy: 0.9809 - val_loss: 0.4838 - val_accuracy: 0.8893\n",
            "Epoch 95/100\n",
            "176/176 [==============================] - 1s 4ms/step - loss: 0.0620 - accuracy: 0.9784 - val_loss: 0.4765 - val_accuracy: 0.8892\n",
            "Epoch 96/100\n",
            "176/176 [==============================] - 1s 4ms/step - loss: 0.0586 - accuracy: 0.9810 - val_loss: 0.4796 - val_accuracy: 0.8892\n",
            "Epoch 97/100\n",
            "176/176 [==============================] - 1s 4ms/step - loss: 0.0571 - accuracy: 0.9811 - val_loss: 0.4909 - val_accuracy: 0.8847\n",
            "Epoch 98/100\n",
            "176/176 [==============================] - 1s 4ms/step - loss: 0.0583 - accuracy: 0.9802 - val_loss: 0.4822 - val_accuracy: 0.8898\n",
            "Epoch 99/100\n",
            "176/176 [==============================] - 1s 4ms/step - loss: 0.0587 - accuracy: 0.9801 - val_loss: 0.4981 - val_accuracy: 0.8870\n",
            "Epoch 100/100\n",
            "176/176 [==============================] - 1s 6ms/step - loss: 0.0559 - accuracy: 0.9815 - val_loss: 0.4990 - val_accuracy: 0.8900\n"
          ]
        }
      ]
    },
    {
      "cell_type": "code",
      "source": [
        "# 위의 결과를 그래프로 그려보자!!!\n",
        "plt.subplot(1,2,1) # loss\n",
        "\n",
        "plt.plot(history.history[\"loss\"], \"b-\", label=\"train_loss\")\n",
        "plt.plot(history.history[\"val_loss\"], \"r-\", label=\"val_loss\")\n",
        "plt.xlabel(\"Epoch\")\n",
        "plt.legend()\n",
        "\n",
        "plt.subplot(1,2,2) # metrics : accuracy\n",
        "plt.plot(history.history[\"accuracy\"], \"b-\", label=\"train_accuracy\")\n",
        "plt.plot(history.history[\"val_accuracy\"], \"r-\", label=\"val_accuracy\")\n",
        "plt.xlabel(\"Epoch\")\n",
        "plt.legend()"
      ],
      "metadata": {
        "colab": {
          "base_uri": "https://localhost:8080/",
          "height": 467
        },
        "id": "s6pLWdu4Oaw-",
        "outputId": "7c7b57b5-840a-4fcf-a6ff-741af575d254"
      },
      "execution_count": 32,
      "outputs": [
        {
          "output_type": "execute_result",
          "data": {
            "text/plain": [
              "<matplotlib.legend.Legend at 0x7aed04963c10>"
            ]
          },
          "metadata": {},
          "execution_count": 32
        },
        {
          "output_type": "display_data",
          "data": {
            "text/plain": [
              "<Figure size 640x480 with 2 Axes>"
            ],
            "image/png": "[encoded data removed]"
          },
          "metadata": {}
        }
      ]
    },
    {
      "cell_type": "markdown",
      "source": [
        "#### 평가"
      ],
      "metadata": {
        "id": "eql7123Mh7VD"
      }
    },
    {
      "cell_type": "code",
      "source": [
        "# 실제 평가 : X_test에 대해서 진행!\n",
        "# 주의해야할 부분 : test_y ---> OH인코딩!!!!!!!\n",
        "\n",
        "# model.evaluate( test_X, test_y) # 이렇게 하면 오류남\n",
        "\n",
        "model.evaluate( test_X, tf.keras.utils.to_categorical(test_y))"
      ],
      "metadata": {
        "colab": {
          "base_uri": "https://localhost:8080/"
        },
        "id": "rcrnYNUsQEwo",
        "outputId": "5e770210-7554-4d47-c27a-ef545bdaa2e3"
      },
      "execution_count": 34,
      "outputs": [
        {
          "output_type": "stream",
          "name": "stdout",
          "text": [
            "313/313 [==============================] - 1s 4ms/step - loss: 0.5323 - accuracy: 0.8872\n"
          ]
        },
        {
          "output_type": "execute_result",
          "data": {
            "text/plain": [
              "[0.5322598814964294, 0.8871999979019165]"
            ]
          },
          "metadata": {},
          "execution_count": 34
        }
      ]
    },
    {
      "cell_type": "code",
      "source": [
        "y_pred = model.predict(test_X)\n",
        "y_pred"
      ],
      "metadata": {
        "colab": {
          "base_uri": "https://localhost:8080/"
        },
        "id": "OYTmAhp8RLVd",
        "outputId": "3bf286c2-e636-4784-d697-b08b13b708e1"
      },
      "execution_count": 35,
      "outputs": [
        {
          "output_type": "stream",
          "name": "stdout",
          "text": [
            "313/313 [==============================] - 1s 1ms/step\n"
          ]
        },
        {
          "output_type": "execute_result",
          "data": {
            "text/plain": [
              "array([[6.11643709e-16, 1.09650326e-17, 1.91028535e-13, ...,\n",
              "        1.41294981e-06, 1.76678172e-10, 9.99998569e-01],\n",
              "       [2.28642011e-06, 1.78079061e-18, 9.99956369e-01, ...,\n",
              "        5.86620050e-19, 2.15877398e-16, 2.00291646e-24],\n",
              "       [1.21990213e-11, 1.00000000e+00, 5.36215564e-17, ...,\n",
              "        2.26594267e-27, 2.91263813e-19, 1.81139377e-31],\n",
              "       ...,\n",
              "       [1.29712974e-09, 3.04469839e-18, 2.29383623e-10, ...,\n",
              "        1.41936169e-17, 1.00000000e+00, 1.27126652e-14],\n",
              "       [1.62937521e-08, 9.99999523e-01, 1.73503382e-11, ...,\n",
              "        1.96433124e-14, 1.25167801e-11, 7.20115648e-17],\n",
              "       [8.29939520e-11, 7.35910681e-13, 2.78343615e-14, ...,\n",
              "        2.86246859e-06, 3.68970375e-11, 7.60038598e-14]], dtype=float32)"
            ]
          },
          "metadata": {},
          "execution_count": 35
        }
      ]
    },
    {
      "cell_type": "code",
      "source": [
        "y_pred[0].sum()"
      ],
      "metadata": {
        "colab": {
          "base_uri": "https://localhost:8080/"
        },
        "id": "4IWOCuqXRnMw",
        "outputId": "1e639c1f-52d6-4c5e-c654-4f8e737ed221"
      },
      "execution_count": 50,
      "outputs": [
        {
          "output_type": "execute_result",
          "data": {
            "text/plain": [
              "1.0"
            ]
          },
          "metadata": {},
          "execution_count": 50
        }
      ]
    },
    {
      "cell_type": "code",
      "source": [
        "y_pred[0].argmax() # -->  9+1번째 클래스가 가장 확률이 컸다!!!"
      ],
      "metadata": {
        "colab": {
          "base_uri": "https://localhost:8080/"
        },
        "id": "uoF3HRmNRzhy",
        "outputId": "b98ba15e-ccc4-4771-875e-296eeea0175f"
      },
      "execution_count": 38,
      "outputs": [
        {
          "output_type": "execute_result",
          "data": {
            "text/plain": [
              "9"
            ]
          },
          "metadata": {},
          "execution_count": 38
        }
      ]
    },
    {
      "cell_type": "markdown",
      "source": [
        "<img src=\"https://drive.google.com/uc?id=1_axH4QGvO9sH34AzX1TTvhi15k-e8eUJ\">"
      ],
      "metadata": {
        "id": "c2Fq0AL5R1Qs"
      }
    },
    {
      "cell_type": "code",
      "source": [
        "y_pred[0][9]"
      ],
      "metadata": {
        "colab": {
          "base_uri": "https://localhost:8080/"
        },
        "id": "eaPDglJJSU4D",
        "outputId": "e1e7d5e2-32ac-4178-cf21-e73ebaed6cc9"
      },
      "execution_count": null,
      "outputs": [
        {
          "output_type": "execute_result",
          "data": {
            "text/plain": [
              "0.9999896"
            ]
          },
          "metadata": {},
          "execution_count": 37
        }
      ]
    },
    {
      "cell_type": "code",
      "source": [
        "# 결론1) 다순하게 HL1 ---> X_test\n",
        "#        ACCURACY : 0.87"
      ],
      "metadata": {
        "id": "6cTqabOPZEBB"
      },
      "execution_count": null,
      "outputs": []
    },
    {
      "cell_type": "markdown",
      "source": [
        "* 성능을 향상 시키는 것이 목적!\n",
        "\n",
        "### 시도2) HL 추가 - 비선형 획득"
      ],
      "metadata": {
        "id": "vAC2z2zdnqxl"
      }
    },
    {
      "cell_type": "code",
      "source": [
        "model = tf.keras.Sequential(\n",
        "    [\n",
        "        tf.keras.layers.Flatten( input_shape =( 28,28)),\n",
        "\n",
        "        # HL : 일반적인 Dense 레이어로 기능\n",
        "        # ++ HL의 레이어만 더 쌓아서 구조 변경!!!!\n",
        "        tf.keras.layers.Dense( units=128, activation=\"relu\"),\n",
        "        tf.keras.layers.Dense( units=64, activation=\"relu\"),\n",
        "        tf.keras.layers.Dense( units=32, activation=\"relu\"),\n",
        "\n",
        "        # output Layer 설계\n",
        "        tf.keras.layers.Dense( units =10,activation=\"softmax\" )\n",
        "    ]\n",
        ")\n",
        "model"
      ],
      "metadata": {
        "colab": {
          "base_uri": "https://localhost:8080/"
        },
        "id": "7G7jqdjFaKma",
        "outputId": "015864f4-c4a3-4194-ec30-d0b1964bec5f"
      },
      "execution_count": 51,
      "outputs": [
        {
          "output_type": "execute_result",
          "data": {
            "text/plain": [
              "<keras.src.engine.sequential.Sequential at 0x7aeccc1dc520>"
            ]
          },
          "metadata": {},
          "execution_count": 51
        }
      ]
    },
    {
      "cell_type": "code",
      "source": [
        "model.summary()"
      ],
      "metadata": {
        "colab": {
          "base_uri": "https://localhost:8080/"
        },
        "id": "0rTwF78OaMg9",
        "outputId": "650cf8fb-b941-4710-9fb3-f6e2b77fee6b"
      },
      "execution_count": 52,
      "outputs": [
        {
          "output_type": "stream",
          "name": "stdout",
          "text": [
            "Model: \"sequential_1\"\n",
            "_________________________________________________________________\n",
            " Layer (type)                Output Shape              Param #   \n",
            "=================================================================\n",
            " flatten_1 (Flatten)         (None, 784)               0         \n",
            "                                                                 \n",
            " dense_2 (Dense)             (None, 128)               100480    \n",
            "                                                                 \n",
            " dense_3 (Dense)             (None, 64)                8256      \n",
            "                                                                 \n",
            " dense_4 (Dense)             (None, 32)                2080      \n",
            "                                                                 \n",
            " dense_5 (Dense)             (None, 10)                330       \n",
            "                                                                 \n",
            "=================================================================\n",
            "Total params: 111146 (434.16 KB)\n",
            "Trainable params: 111146 (434.16 KB)\n",
            "Non-trainable params: 0 (0.00 Byte)\n",
            "_________________________________________________________________\n"
          ]
        }
      ]
    },
    {
      "cell_type": "code",
      "source": [
        "model.compile(\n",
        "    optimizer = tf.keras.optimizers.Adam(),\n",
        "    loss = \"categorical_crossentropy\", # 정답을 OHE\n",
        "    metrics =[\"accuracy\"]\n",
        ")"
      ],
      "metadata": {
        "id": "N53_RWftaOYH"
      },
      "execution_count": 53,
      "outputs": []
    },
    {
      "cell_type": "code",
      "source": [
        "history = model.fit(\n",
        "    train_X,\n",
        "    tf.keras.utils.to_categorical(train_y, num_classes=10),\n",
        "    epochs = 50,\n",
        "    batch_size = 256,\n",
        "    validation_split=0.25\n",
        ")"
      ],
      "metadata": {
        "colab": {
          "base_uri": "https://localhost:8080/"
        },
        "id": "DFA3rp5uaP1G",
        "outputId": "41f68b0d-0707-4f66-bdaa-934c1892f44b"
      },
      "execution_count": 54,
      "outputs": [
        {
          "output_type": "stream",
          "name": "stdout",
          "text": [
            "Epoch 1/50\n",
            "176/176 [==============================] - 3s 9ms/step - loss: 0.7230 - accuracy: 0.7492 - val_loss: 0.4749 - val_accuracy: 0.8313\n",
            "Epoch 2/50\n",
            "176/176 [==============================] - 1s 7ms/step - loss: 0.4375 - accuracy: 0.8459 - val_loss: 0.4197 - val_accuracy: 0.8530\n",
            "Epoch 3/50\n",
            "176/176 [==============================] - 1s 6ms/step - loss: 0.3898 - accuracy: 0.8633 - val_loss: 0.3897 - val_accuracy: 0.8627\n",
            "Epoch 4/50\n",
            "176/176 [==============================] - 1s 4ms/step - loss: 0.3645 - accuracy: 0.8687 - val_loss: 0.3779 - val_accuracy: 0.8657\n",
            "Epoch 5/50\n",
            "176/176 [==============================] - 1s 5ms/step - loss: 0.3397 - accuracy: 0.8788 - val_loss: 0.3649 - val_accuracy: 0.8675\n",
            "Epoch 6/50\n",
            "176/176 [==============================] - 1s 4ms/step - loss: 0.3186 - accuracy: 0.8845 - val_loss: 0.3536 - val_accuracy: 0.8744\n",
            "Epoch 7/50\n",
            "176/176 [==============================] - 1s 5ms/step - loss: 0.3039 - accuracy: 0.8891 - val_loss: 0.3399 - val_accuracy: 0.8775\n",
            "Epoch 8/50\n",
            "176/176 [==============================] - 1s 5ms/step - loss: 0.2915 - accuracy: 0.8941 - val_loss: 0.3337 - val_accuracy: 0.8817\n",
            "Epoch 9/50\n",
            "176/176 [==============================] - 1s 5ms/step - loss: 0.2791 - accuracy: 0.8984 - val_loss: 0.3316 - val_accuracy: 0.8823\n",
            "Epoch 10/50\n",
            "176/176 [==============================] - 1s 5ms/step - loss: 0.2665 - accuracy: 0.9019 - val_loss: 0.3316 - val_accuracy: 0.8805\n",
            "Epoch 11/50\n",
            "176/176 [==============================] - 1s 5ms/step - loss: 0.2640 - accuracy: 0.9030 - val_loss: 0.3289 - val_accuracy: 0.8826\n",
            "Epoch 12/50\n",
            "176/176 [==============================] - 1s 4ms/step - loss: 0.2508 - accuracy: 0.9077 - val_loss: 0.3125 - val_accuracy: 0.8883\n",
            "Epoch 13/50\n",
            "176/176 [==============================] - 1s 6ms/step - loss: 0.2438 - accuracy: 0.9098 - val_loss: 0.3167 - val_accuracy: 0.8867\n",
            "Epoch 14/50\n",
            "176/176 [==============================] - 1s 7ms/step - loss: 0.2408 - accuracy: 0.9102 - val_loss: 0.3235 - val_accuracy: 0.8853\n",
            "Epoch 15/50\n",
            "176/176 [==============================] - 1s 6ms/step - loss: 0.2299 - accuracy: 0.9142 - val_loss: 0.3536 - val_accuracy: 0.8759\n",
            "Epoch 16/50\n",
            "176/176 [==============================] - 1s 4ms/step - loss: 0.2222 - accuracy: 0.9173 - val_loss: 0.3239 - val_accuracy: 0.8854\n",
            "Epoch 17/50\n",
            "176/176 [==============================] - 1s 4ms/step - loss: 0.2188 - accuracy: 0.9191 - val_loss: 0.3187 - val_accuracy: 0.8894\n",
            "Epoch 18/50\n",
            "176/176 [==============================] - 1s 5ms/step - loss: 0.2099 - accuracy: 0.9224 - val_loss: 0.3180 - val_accuracy: 0.8884\n",
            "Epoch 19/50\n",
            "176/176 [==============================] - 1s 5ms/step - loss: 0.2046 - accuracy: 0.9245 - val_loss: 0.3361 - val_accuracy: 0.8836\n",
            "Epoch 20/50\n",
            "176/176 [==============================] - 1s 5ms/step - loss: 0.1966 - accuracy: 0.9274 - val_loss: 0.3244 - val_accuracy: 0.8913\n",
            "Epoch 21/50\n",
            "176/176 [==============================] - 1s 5ms/step - loss: 0.1950 - accuracy: 0.9282 - val_loss: 0.3246 - val_accuracy: 0.8889\n",
            "Epoch 22/50\n",
            "176/176 [==============================] - 1s 4ms/step - loss: 0.1932 - accuracy: 0.9286 - val_loss: 0.3498 - val_accuracy: 0.8843\n",
            "Epoch 23/50\n",
            "176/176 [==============================] - 1s 5ms/step - loss: 0.1846 - accuracy: 0.9315 - val_loss: 0.3270 - val_accuracy: 0.8923\n",
            "Epoch 24/50\n",
            "176/176 [==============================] - 1s 5ms/step - loss: 0.1776 - accuracy: 0.9344 - val_loss: 0.3302 - val_accuracy: 0.8903\n",
            "Epoch 25/50\n",
            "176/176 [==============================] - 1s 5ms/step - loss: 0.1753 - accuracy: 0.9352 - val_loss: 0.3460 - val_accuracy: 0.8895\n",
            "Epoch 26/50\n",
            "176/176 [==============================] - 1s 4ms/step - loss: 0.1700 - accuracy: 0.9377 - val_loss: 0.3413 - val_accuracy: 0.8900\n",
            "Epoch 27/50\n",
            "176/176 [==============================] - 1s 4ms/step - loss: 0.1686 - accuracy: 0.9379 - val_loss: 0.3765 - val_accuracy: 0.8835\n",
            "Epoch 28/50\n",
            "176/176 [==============================] - 1s 6ms/step - loss: 0.1673 - accuracy: 0.9369 - val_loss: 0.3464 - val_accuracy: 0.8902\n",
            "Epoch 29/50\n",
            "176/176 [==============================] - 1s 6ms/step - loss: 0.1597 - accuracy: 0.9408 - val_loss: 0.3416 - val_accuracy: 0.8909\n",
            "Epoch 30/50\n",
            "176/176 [==============================] - 1s 5ms/step - loss: 0.1519 - accuracy: 0.9439 - val_loss: 0.3504 - val_accuracy: 0.8913\n",
            "Epoch 31/50\n",
            "176/176 [==============================] - 1s 4ms/step - loss: 0.1526 - accuracy: 0.9432 - val_loss: 0.3614 - val_accuracy: 0.8908\n",
            "Epoch 32/50\n",
            "176/176 [==============================] - 1s 4ms/step - loss: 0.1475 - accuracy: 0.9461 - val_loss: 0.3643 - val_accuracy: 0.8870\n",
            "Epoch 33/50\n",
            "176/176 [==============================] - 1s 4ms/step - loss: 0.1435 - accuracy: 0.9479 - val_loss: 0.3676 - val_accuracy: 0.8879\n",
            "Epoch 34/50\n",
            "176/176 [==============================] - 1s 4ms/step - loss: 0.1398 - accuracy: 0.9486 - val_loss: 0.3716 - val_accuracy: 0.8907\n",
            "Epoch 35/50\n",
            "176/176 [==============================] - 1s 4ms/step - loss: 0.1390 - accuracy: 0.9492 - val_loss: 0.3774 - val_accuracy: 0.8927\n",
            "Epoch 36/50\n",
            "176/176 [==============================] - 1s 5ms/step - loss: 0.1363 - accuracy: 0.9503 - val_loss: 0.4034 - val_accuracy: 0.8869\n",
            "Epoch 37/50\n",
            "176/176 [==============================] - 1s 5ms/step - loss: 0.1317 - accuracy: 0.9512 - val_loss: 0.3926 - val_accuracy: 0.8857\n",
            "Epoch 38/50\n",
            "176/176 [==============================] - 1s 4ms/step - loss: 0.1318 - accuracy: 0.9511 - val_loss: 0.3821 - val_accuracy: 0.8890\n",
            "Epoch 39/50\n",
            "176/176 [==============================] - 1s 4ms/step - loss: 0.1255 - accuracy: 0.9540 - val_loss: 0.3824 - val_accuracy: 0.8934\n",
            "Epoch 40/50\n",
            "176/176 [==============================] - 1s 5ms/step - loss: 0.1198 - accuracy: 0.9559 - val_loss: 0.4248 - val_accuracy: 0.8850\n",
            "Epoch 41/50\n",
            "176/176 [==============================] - 1s 4ms/step - loss: 0.1242 - accuracy: 0.9542 - val_loss: 0.3943 - val_accuracy: 0.8908\n",
            "Epoch 42/50\n",
            "176/176 [==============================] - 1s 4ms/step - loss: 0.1170 - accuracy: 0.9570 - val_loss: 0.4010 - val_accuracy: 0.8907\n",
            "Epoch 43/50\n",
            "176/176 [==============================] - 1s 6ms/step - loss: 0.1161 - accuracy: 0.9565 - val_loss: 0.4281 - val_accuracy: 0.8835\n",
            "Epoch 44/50\n",
            "176/176 [==============================] - 1s 6ms/step - loss: 0.1139 - accuracy: 0.9578 - val_loss: 0.4189 - val_accuracy: 0.8910\n",
            "Epoch 45/50\n",
            "176/176 [==============================] - 1s 6ms/step - loss: 0.1085 - accuracy: 0.9604 - val_loss: 0.4322 - val_accuracy: 0.8871\n",
            "Epoch 46/50\n",
            "176/176 [==============================] - 1s 5ms/step - loss: 0.1090 - accuracy: 0.9604 - val_loss: 0.4110 - val_accuracy: 0.8919\n",
            "Epoch 47/50\n",
            "176/176 [==============================] - 1s 6ms/step - loss: 0.1060 - accuracy: 0.9607 - val_loss: 0.4442 - val_accuracy: 0.8859\n",
            "Epoch 48/50\n",
            "176/176 [==============================] - 1s 7ms/step - loss: 0.0979 - accuracy: 0.9638 - val_loss: 0.4388 - val_accuracy: 0.8919\n",
            "Epoch 49/50\n",
            "176/176 [==============================] - 1s 6ms/step - loss: 0.0973 - accuracy: 0.9640 - val_loss: 0.4403 - val_accuracy: 0.8914\n",
            "Epoch 50/50\n",
            "176/176 [==============================] - 1s 5ms/step - loss: 0.0985 - accuracy: 0.9636 - val_loss: 0.4628 - val_accuracy: 0.8883\n"
          ]
        }
      ]
    },
    {
      "cell_type": "code",
      "source": [
        "plt.subplot(1,2,1) # loss\n",
        "\n",
        "plt.plot(history.history[\"loss\"], \"b-\", label=\"train_loss\")\n",
        "plt.plot(history.history[\"val_loss\"], \"r-\", label=\"val_loss\")\n",
        "plt.xlabel(\"Epoch\")\n",
        "plt.legend()\n",
        "\n",
        "plt.subplot(1,2,2) # metrics : accuracy\n",
        "plt.plot(history.history[\"accuracy\"], \"b-\", label=\"train_accuracy\")\n",
        "plt.plot(history.history[\"val_accuracy\"], \"r-\", label=\"val_accuracy\")\n",
        "plt.xlabel(\"Epoch\")\n",
        "plt.legend()"
      ],
      "metadata": {
        "colab": {
          "base_uri": "https://localhost:8080/",
          "height": 467
        },
        "id": "93Cdrq34agI0",
        "outputId": "5ae9fc54-7abb-4fcb-b02c-c353091a2f0a"
      },
      "execution_count": null,
      "outputs": [
        {
          "output_type": "execute_result",
          "data": {
            "text/plain": [
              "<matplotlib.legend.Legend at 0x7f38cf15de40>"
            ]
          },
          "metadata": {},
          "execution_count": 44
        },
        {
          "output_type": "display_data",
          "data": {
            "text/plain": [
              "<Figure size 640x480 with 2 Axes>"
            ],
            "image/png": "[encoded data removed]"
          },
          "metadata": {}
        }
      ]
    },
    {
      "cell_type": "code",
      "source": [
        "# 결론2)\n",
        "# 실험1 IL-HL-OL :0.87\n",
        "# 실험2 :IL-HL-HL-HL-OL : 0.88\n",
        "# 1% 성능 향상\n",
        "# 0.9% 넘기기가 정말 힘듬\n",
        "# 설계 방싱 CNN : 0.9 가볍게 넘어감\n",
        "\n",
        "# 결론) DL의 성능은 기본적으로 모델의 구조에 기인\n",
        "# -> 모델의 구조 & 최신 설계 방식 계속 모니터링\n",
        "#   논문 검색. 최신 기술 계속 참고할 것."
      ],
      "metadata": {
        "id": "vl3LU2SzbFzJ"
      },
      "execution_count": null,
      "outputs": []
    }
  ]
}