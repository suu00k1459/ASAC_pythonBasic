{
  "nbformat": 4,
  "nbformat_minor": 0,
  "metadata": {
    "colab": {
      "provenance": []
    },
    "kernelspec": {
      "name": "python3",
      "display_name": "Python 3"
    },
    "language_info": {
      "name": "python"
    }
  },
  "cells": [
    {
      "cell_type": "code",
      "source": [
        "import tensorflow as tf\n",
        "import matplotlib.pyplot as plt"
      ],
      "metadata": {
        "id": "_EV_1CfGABwi"
      },
      "execution_count": 1,
      "outputs": []
    },
    {
      "cell_type": "markdown",
      "source": [
        "# 1. 데이터 불러오기"
      ],
      "metadata": {
        "id": "Rd4ws_JXKKcM"
      }
    },
    {
      "cell_type": "code",
      "execution_count": 2,
      "metadata": {
        "colab": {
          "base_uri": "https://localhost:8080/"
        },
        "id": "tOK29op1_JQF",
        "outputId": "56ffd61d-73f0-40a8-c9cf-90ede2b5a276"
      },
      "outputs": [
        {
          "output_type": "execute_result",
          "data": {
            "text/plain": [
              "<module 'keras.api._v2.keras.datasets.fashion_mnist' from '/usr/local/lib/python3.10/dist-packages/keras/api/_v2/keras/datasets/fashion_mnist/__init__.py'>"
            ]
          },
          "metadata": {},
          "execution_count": 2
        }
      ],
      "source": [
        "fashion_mnist = tf.keras.datasets.fashion_mnist\n",
        "fashion_mnist"
      ]
    },
    {
      "cell_type": "code",
      "source": [
        "# 자체적으로 train/test구별\n",
        "(train_X, train_y), (test_X, test_y) = fashion_mnist.load_data()\n",
        "print(train_X.shape) # 3D ---> Tensor\n",
        "print(train_y.shape) # 1D ---> vecotr\n",
        "print(test_X.shape)\n",
        "print(test_y.shape)"
      ],
      "metadata": {
        "colab": {
          "base_uri": "https://localhost:8080/"
        },
        "id": "ou7S4dL7ABNJ",
        "outputId": "52fa8e92-da5a-4acf-da0a-3186b0394ac9"
      },
      "execution_count": 3,
      "outputs": [
        {
          "output_type": "stream",
          "name": "stdout",
          "text": [
            "Downloading data from https://storage.googleapis.com/tensorflow/tf-keras-datasets/train-labels-idx1-ubyte.gz\n",
            "29515/29515 [==============================] - 0s 0us/step\n",
            "Downloading data from https://storage.googleapis.com/tensorflow/tf-keras-datasets/train-images-idx3-ubyte.gz\n",
            "26421880/26421880 [==============================] - 0s 0us/step\n",
            "Downloading data from https://storage.googleapis.com/tensorflow/tf-keras-datasets/t10k-labels-idx1-ubyte.gz\n",
            "5148/5148 [==============================] - 0s 0us/step\n",
            "Downloading data from https://storage.googleapis.com/tensorflow/tf-keras-datasets/t10k-images-idx3-ubyte.gz\n",
            "4422102/4422102 [==============================] - 0s 0us/step\n",
            "(60000, 28, 28)\n",
            "(60000,)\n",
            "(10000, 28, 28)\n",
            "(10000,)\n"
          ]
        }
      ]
    },
    {
      "cell_type": "markdown",
      "source": [
        "# 2. OVER FITTING 연결 DROP"
      ],
      "metadata": {
        "id": "n2UnrtN5KP_H"
      }
    },
    {
      "cell_type": "markdown",
      "source": [
        "목적 : epoch 10번 내외에서 금방 OF걸리는 것 같다.\n",
        "-  내 모델 자체가 너무 OF 설계된 것이 아닌가 의심해봄\n",
        "+ HL 을 좀 여러 개 하면서 너무 연결을 타이트하게 해서, 모델 구조가 OF 구조를 사용한 것이 아닌지 확인\n",
        "-  중간중간 연결을 자르기"
      ],
      "metadata": {
        "id": "m6uEVKllBZ5C"
      }
    },
    {
      "cell_type": "code",
      "source": [
        "# 모델 구조 : 1개 샘플단위로 설계!!!!!!!!\n",
        "model = tf.keras.Sequential(\n",
        "    [\n",
        "        tf.keras.layers.Flatten( input_shape =( 28,28)),\n",
        "        # 2) HL : 일반적인 Dense 레이어로 기능\n",
        "\n",
        "        # + 모든 784개 픽셀 다 쓰지 말고,,좀 줄여서 쓰자.\n",
        "        tf.keras.layers.Dropout( 0.1),\n",
        "        tf.keras.layers.Dense( units=128, activation=\"relu\"),\n",
        "        tf.keras.layers.Dropout( 0.1),\n",
        "        tf.keras.layers.Dense( units=64, activation=\"relu\"),\n",
        "        tf.keras.layers.Dropout( 0.1),\n",
        "        tf.keras.layers.Dense( units=32, activation=\"relu\"),\n",
        "\n",
        "        # 3) output Layer 설계\n",
        "        tf.keras.layers.Dense( units =10,activation=\"softmax\" )\n",
        "    ]\n",
        ")\n",
        "model"
      ],
      "metadata": {
        "colab": {
          "base_uri": "https://localhost:8080/"
        },
        "id": "I0JBdO_eB2YC",
        "outputId": "7b019763-6471-4ba8-93bc-d8d5d4b115b1"
      },
      "execution_count": 4,
      "outputs": [
        {
          "output_type": "execute_result",
          "data": {
            "text/plain": [
              "<keras.src.engine.sequential.Sequential at 0x7b86ddadf7c0>"
            ]
          },
          "metadata": {},
          "execution_count": 4
        }
      ]
    },
    {
      "cell_type": "code",
      "source": [
        "model.summary()"
      ],
      "metadata": {
        "colab": {
          "base_uri": "https://localhost:8080/"
        },
        "id": "8suv8cuGCz57",
        "outputId": "2f084337-cbd1-4d77-e37a-83f620560357"
      },
      "execution_count": 5,
      "outputs": [
        {
          "output_type": "stream",
          "name": "stdout",
          "text": [
            "Model: \"sequential\"\n",
            "_________________________________________________________________\n",
            " Layer (type)                Output Shape              Param #   \n",
            "=================================================================\n",
            " flatten (Flatten)           (None, 784)               0         \n",
            "                                                                 \n",
            " dropout (Dropout)           (None, 784)               0         \n",
            "                                                                 \n",
            " dense (Dense)               (None, 128)               100480    \n",
            "                                                                 \n",
            " dropout_1 (Dropout)         (None, 128)               0         \n",
            "                                                                 \n",
            " dense_1 (Dense)             (None, 64)                8256      \n",
            "                                                                 \n",
            " dropout_2 (Dropout)         (None, 64)                0         \n",
            "                                                                 \n",
            " dense_2 (Dense)             (None, 32)                2080      \n",
            "                                                                 \n",
            " dense_3 (Dense)             (None, 10)                330       \n",
            "                                                                 \n",
            "=================================================================\n",
            "Total params: 111146 (434.16 KB)\n",
            "Trainable params: 111146 (434.16 KB)\n",
            "Non-trainable params: 0 (0.00 Byte)\n",
            "_________________________________________________________________\n"
          ]
        }
      ]
    },
    {
      "cell_type": "code",
      "source": [
        "model.compile(\n",
        "    loss = \"categorical_crossentropy\",\n",
        "    optimizer = tf.keras.optimizers.Adam(),\n",
        "    metrics =[\"accuracy\"]\n",
        ")\n",
        "\n",
        "history = model.fit(\n",
        "    train_X,\n",
        "    tf.keras.utils.to_categorical(train_y, num_classes=10),\n",
        "\n",
        "    epochs = 50,\n",
        "    batch_size = 256,\n",
        "    validation_split=0.25\n",
        ")"
      ],
      "metadata": {
        "colab": {
          "base_uri": "https://localhost:8080/"
        },
        "id": "V4j8pQGPDPIn",
        "outputId": "4596508e-37c6-4094-a4a3-287fc972dd54"
      },
      "execution_count": 7,
      "outputs": [
        {
          "output_type": "stream",
          "name": "stdout",
          "text": [
            "Epoch 1/50\n",
            "176/176 [==============================] - 3s 12ms/step - loss: 9.0959 - accuracy: 0.4637 - val_loss: 1.0734 - val_accuracy: 0.6539\n",
            "Epoch 2/50\n",
            "176/176 [==============================] - 3s 15ms/step - loss: 1.4271 - accuracy: 0.5947 - val_loss: 0.8301 - val_accuracy: 0.6983\n",
            "Epoch 3/50\n",
            "176/176 [==============================] - 2s 11ms/step - loss: 1.0765 - accuracy: 0.6557 - val_loss: 0.7234 - val_accuracy: 0.7455\n",
            "Epoch 4/50\n",
            "176/176 [==============================] - 2s 10ms/step - loss: 0.9045 - accuracy: 0.6958 - val_loss: 0.6316 - val_accuracy: 0.7600\n",
            "Epoch 5/50\n",
            "176/176 [==============================] - 2s 10ms/step - loss: 0.8084 - accuracy: 0.7211 - val_loss: 0.6009 - val_accuracy: 0.7843\n",
            "Epoch 6/50\n",
            "176/176 [==============================] - 2s 11ms/step - loss: 0.7397 - accuracy: 0.7387 - val_loss: 0.5649 - val_accuracy: 0.7961\n",
            "Epoch 7/50\n",
            "176/176 [==============================] - 2s 10ms/step - loss: 0.6919 - accuracy: 0.7547 - val_loss: 0.5312 - val_accuracy: 0.8039\n",
            "Epoch 8/50\n",
            "176/176 [==============================] - 2s 12ms/step - loss: 0.6419 - accuracy: 0.7724 - val_loss: 0.5109 - val_accuracy: 0.8142\n",
            "Epoch 9/50\n",
            "176/176 [==============================] - 3s 15ms/step - loss: 0.6052 - accuracy: 0.7869 - val_loss: 0.4801 - val_accuracy: 0.8265\n",
            "Epoch 10/50\n",
            "176/176 [==============================] - 2s 10ms/step - loss: 0.5835 - accuracy: 0.7929 - val_loss: 0.4739 - val_accuracy: 0.8327\n",
            "Epoch 11/50\n",
            "176/176 [==============================] - 2s 11ms/step - loss: 0.5685 - accuracy: 0.7950 - val_loss: 0.4652 - val_accuracy: 0.8365\n",
            "Epoch 12/50\n",
            "176/176 [==============================] - 2s 10ms/step - loss: 0.5391 - accuracy: 0.8049 - val_loss: 0.4515 - val_accuracy: 0.8377\n",
            "Epoch 13/50\n",
            "176/176 [==============================] - 2s 10ms/step - loss: 0.5275 - accuracy: 0.8078 - val_loss: 0.4347 - val_accuracy: 0.8405\n",
            "Epoch 14/50\n",
            "176/176 [==============================] - 2s 10ms/step - loss: 0.5088 - accuracy: 0.8145 - val_loss: 0.4343 - val_accuracy: 0.8445\n",
            "Epoch 15/50\n",
            "176/176 [==============================] - 3s 15ms/step - loss: 0.5059 - accuracy: 0.8147 - val_loss: 0.4399 - val_accuracy: 0.8393\n",
            "Epoch 16/50\n",
            "176/176 [==============================] - 2s 13ms/step - loss: 0.4868 - accuracy: 0.8219 - val_loss: 0.4381 - val_accuracy: 0.8357\n",
            "Epoch 17/50\n",
            "176/176 [==============================] - 2s 10ms/step - loss: 0.4789 - accuracy: 0.8235 - val_loss: 0.4187 - val_accuracy: 0.8469\n",
            "Epoch 18/50\n",
            "176/176 [==============================] - 2s 10ms/step - loss: 0.4697 - accuracy: 0.8288 - val_loss: 0.4086 - val_accuracy: 0.8524\n",
            "Epoch 19/50\n",
            "176/176 [==============================] - 2s 10ms/step - loss: 0.4599 - accuracy: 0.8315 - val_loss: 0.4183 - val_accuracy: 0.8505\n",
            "Epoch 20/50\n",
            "176/176 [==============================] - 2s 11ms/step - loss: 0.4521 - accuracy: 0.8340 - val_loss: 0.4057 - val_accuracy: 0.8533\n",
            "Epoch 21/50\n",
            "176/176 [==============================] - 2s 11ms/step - loss: 0.4415 - accuracy: 0.8368 - val_loss: 0.4209 - val_accuracy: 0.8463\n",
            "Epoch 22/50\n",
            "176/176 [==============================] - 4s 20ms/step - loss: 0.4382 - accuracy: 0.8380 - val_loss: 0.4041 - val_accuracy: 0.8523\n",
            "Epoch 23/50\n",
            "176/176 [==============================] - 2s 10ms/step - loss: 0.4301 - accuracy: 0.8405 - val_loss: 0.3921 - val_accuracy: 0.8519\n",
            "Epoch 24/50\n",
            "176/176 [==============================] - 2s 10ms/step - loss: 0.4243 - accuracy: 0.8426 - val_loss: 0.3813 - val_accuracy: 0.8603\n",
            "Epoch 25/50\n",
            "176/176 [==============================] - 2s 10ms/step - loss: 0.4229 - accuracy: 0.8449 - val_loss: 0.3983 - val_accuracy: 0.8583\n",
            "Epoch 26/50\n",
            "176/176 [==============================] - 2s 10ms/step - loss: 0.4132 - accuracy: 0.8466 - val_loss: 0.3946 - val_accuracy: 0.8597\n",
            "Epoch 27/50\n",
            "176/176 [==============================] - 2s 13ms/step - loss: 0.4124 - accuracy: 0.8473 - val_loss: 0.3770 - val_accuracy: 0.8647\n",
            "Epoch 28/50\n",
            "176/176 [==============================] - 4s 23ms/step - loss: 0.4075 - accuracy: 0.8495 - val_loss: 0.3793 - val_accuracy: 0.8657\n",
            "Epoch 29/50\n",
            "176/176 [==============================] - 2s 12ms/step - loss: 0.3992 - accuracy: 0.8528 - val_loss: 0.3784 - val_accuracy: 0.8682\n",
            "Epoch 30/50\n",
            "176/176 [==============================] - 3s 15ms/step - loss: 0.4003 - accuracy: 0.8518 - val_loss: 0.3715 - val_accuracy: 0.8678\n",
            "Epoch 31/50\n",
            "176/176 [==============================] - 4s 21ms/step - loss: 0.3936 - accuracy: 0.8550 - val_loss: 0.3669 - val_accuracy: 0.8682\n",
            "Epoch 32/50\n",
            "176/176 [==============================] - 3s 16ms/step - loss: 0.3942 - accuracy: 0.8556 - val_loss: 0.3786 - val_accuracy: 0.8637\n",
            "Epoch 33/50\n",
            "176/176 [==============================] - 3s 19ms/step - loss: 0.3883 - accuracy: 0.8571 - val_loss: 0.3645 - val_accuracy: 0.8699\n",
            "Epoch 34/50\n",
            "176/176 [==============================] - 4s 21ms/step - loss: 0.3843 - accuracy: 0.8567 - val_loss: 0.3598 - val_accuracy: 0.8716\n",
            "Epoch 35/50\n",
            "176/176 [==============================] - 3s 17ms/step - loss: 0.3842 - accuracy: 0.8568 - val_loss: 0.3633 - val_accuracy: 0.8699\n",
            "Epoch 36/50\n",
            "176/176 [==============================] - 2s 13ms/step - loss: 0.3782 - accuracy: 0.8599 - val_loss: 0.3823 - val_accuracy: 0.8612\n",
            "Epoch 37/50\n",
            "176/176 [==============================] - 3s 20ms/step - loss: 0.3751 - accuracy: 0.8622 - val_loss: 0.3633 - val_accuracy: 0.8659\n",
            "Epoch 38/50\n",
            "176/176 [==============================] - 3s 15ms/step - loss: 0.3688 - accuracy: 0.8626 - val_loss: 0.3551 - val_accuracy: 0.8721\n",
            "Epoch 39/50\n",
            "176/176 [==============================] - 2s 14ms/step - loss: 0.3638 - accuracy: 0.8642 - val_loss: 0.3480 - val_accuracy: 0.8751\n",
            "Epoch 40/50\n",
            "176/176 [==============================] - 2s 11ms/step - loss: 0.3685 - accuracy: 0.8635 - val_loss: 0.3545 - val_accuracy: 0.8723\n",
            "Epoch 41/50\n",
            "176/176 [==============================] - 2s 10ms/step - loss: 0.3660 - accuracy: 0.8642 - val_loss: 0.3706 - val_accuracy: 0.8646\n",
            "Epoch 42/50\n",
            "176/176 [==============================] - 2s 11ms/step - loss: 0.3622 - accuracy: 0.8642 - val_loss: 0.3652 - val_accuracy: 0.8701\n",
            "Epoch 43/50\n",
            "176/176 [==============================] - 2s 13ms/step - loss: 0.3623 - accuracy: 0.8659 - val_loss: 0.3657 - val_accuracy: 0.8680\n",
            "Epoch 44/50\n",
            "176/176 [==============================] - 3s 19ms/step - loss: 0.3641 - accuracy: 0.8656 - val_loss: 0.3551 - val_accuracy: 0.8749\n",
            "Epoch 45/50\n",
            "176/176 [==============================] - 2s 11ms/step - loss: 0.3570 - accuracy: 0.8679 - val_loss: 0.3594 - val_accuracy: 0.8737\n",
            "Epoch 46/50\n",
            "176/176 [==============================] - 3s 15ms/step - loss: 0.3577 - accuracy: 0.8669 - val_loss: 0.3500 - val_accuracy: 0.8727\n",
            "Epoch 47/50\n",
            "176/176 [==============================] - 3s 15ms/step - loss: 0.3550 - accuracy: 0.8684 - val_loss: 0.3580 - val_accuracy: 0.8724\n",
            "Epoch 48/50\n",
            "176/176 [==============================] - 3s 16ms/step - loss: 0.3453 - accuracy: 0.8698 - val_loss: 0.3413 - val_accuracy: 0.8761\n",
            "Epoch 49/50\n",
            "176/176 [==============================] - 3s 18ms/step - loss: 0.3424 - accuracy: 0.8718 - val_loss: 0.3476 - val_accuracy: 0.8779\n",
            "Epoch 50/50\n",
            "176/176 [==============================] - 2s 11ms/step - loss: 0.3426 - accuracy: 0.8750 - val_loss: 0.3593 - val_accuracy: 0.8731\n"
          ]
        }
      ]
    },
    {
      "cell_type": "markdown",
      "source": [
        "# 3. PATIENCE 지정하기"
      ],
      "metadata": {
        "id": "EiFOA1E8V8hl"
      }
    },
    {
      "cell_type": "code",
      "source": [
        "# --> 학습 과정에서 모델별로 weights를 저장을 하려고 함!!!\n",
        "# 1) callback_part1 : 학습과정에 epoch가 끝나면,, 저장을 하려고 함..\n",
        "#                    ==> 과거의 epoch의 weights를 불러와서.적요..\n",
        "checkpoint_path = \"training/cp-{epoch:04d}.ckpt\"\n",
        "checkpoint_dir =os.path.dirname(checkpoint_path)\n",
        "# ==> callback 세팅!!!\n",
        "cp_callback = tf.keras.callbacks.ModelCheckpoint(\n",
        "    checkpoint_path,\n",
        "    verbose=1,\n",
        "    save_weights_only = True\n",
        ")\n",
        "# 2) callback_part2 : 모델을 학습 과정에서 중간에 때려칩시다!!!\n",
        "#                    earlystopping\n",
        "#   ==> 무엇을 기준으로 때려칠것인가!!!!!! : 어떤 값을 모니터링!!!\n",
        "#   ==> 몇 번을 기회를 줄 것인가!!!\n",
        "#       참고) 꼭은 아닌데,,,val쪽을 모니터링을 함...\n",
        "es_callback = tf.keras.callbacks.EarlyStopping(\n",
        "    monitor =\"val_loss\",\n",
        "    patience = 5\n",
        ")"
      ],
      "metadata": {
        "id": "k_R4bZzgIUaR"
      },
      "execution_count": 14,
      "outputs": []
    },
    {
      "cell_type": "code",
      "source": [
        "# 모델 구조 : 1개 샘플단위로 설계!!!!!!!!\n",
        "model = tf.keras.Sequential(\n",
        "    [\n",
        "        tf.keras.layers.Flatten( input_shape =( 28,28)),\n",
        "        # 2) HL : 일반적인 Dense 레이어로 기능\n",
        "\n",
        "        # + 모든 784개 픽셀 다 쓰지 말고,,좀 줄여서 쓰자.\n",
        "        tf.keras.layers.Dropout( 0.1),\n",
        "        tf.keras.layers.Dense( units=128, activation=\"relu\"),\n",
        "        tf.keras.layers.Dropout( 0.1),\n",
        "        tf.keras.layers.Dense( units=64, activation=\"relㅁu\"),\n",
        "        tf.keras.layers.Dropout( 0.1),\n",
        "        tf.keras.layers.Dense( units=32, activation=\"relu\"),\n",
        "        # 3) output Layer 설계\n",
        "        tf.keras.layers.Dense( units =10,activation=\"softmax\" )\n",
        "    ]\n",
        ")\n",
        "\n",
        "# 이 모델에 있는 weights들을 어찌 학습할까???\n",
        "# ==> 세티!!!!\n",
        "model.compile(\n",
        "    loss = \"categorical_crossentropy\", # 정답을 OHE\n",
        "    optimizer = tf.keras.optimizers.Adam(),\n",
        "    # 주어진 약 10개의 weight 파라미터를\n",
        "    # loss CE관점으로 어찌 최적화를 할지에 대한 방식\n",
        "    # GD --> 인공신경망,,,, Adam()최적화 방식...\n",
        "    metrics =[\"accuracy\"]\n",
        "    # 잘 학습이 되는지 모니터링 지표...\n",
        ")\n",
        "\n",
        "# 인공신경망으로 분류!\n",
        "# + 정답에 대한 처리!!!!!\n",
        "history = model.fit(\n",
        "    train_X,\n",
        "    tf.keras.utils.to_categorical(train_y, num_classes=10),\n",
        "    # 얼마나 많은 train  데이터를 재활용할까요 epoch\n",
        "    epochs = 100,# 성능train--> OverFit + 시간!!!!\n",
        "    batch_size = 256, # 여러분들의 HW 스펙에 ...GPU-> RAM\n",
        "    validation_split=0.25,\n",
        "\n",
        "    ### ++ callback 추가!!!! etc......\n",
        "    callbacks=[cp_callback, es_callback]\n",
        ")"
      ],
      "metadata": {
        "colab": {
          "base_uri": "https://localhost:8080/"
        },
        "id": "g-91MKevDwp7",
        "outputId": "9f75b046-2052-4186-d40c-5ffbb282f675"
      },
      "execution_count": 15,
      "outputs": [
        {
          "output_type": "stream",
          "name": "stdout",
          "text": [
            "Epoch 1/100\n",
            "175/176 [============================>.] - ETA: 0s - loss: 6.1316 - accuracy: 0.5136\n",
            "Epoch 1: saving model to training/cp-0001.ckpt\n",
            "176/176 [==============================] - 3s 12ms/step - loss: 6.1122 - accuracy: 0.5141 - val_loss: 0.9129 - val_accuracy: 0.7039\n",
            "Epoch 2/100\n",
            "174/176 [============================>.] - ETA: 0s - loss: 1.1726 - accuracy: 0.6470\n",
            "Epoch 2: saving model to training/cp-0002.ckpt\n",
            "176/176 [==============================] - 2s 10ms/step - loss: 1.1699 - accuracy: 0.6474 - val_loss: 0.7234 - val_accuracy: 0.7605\n",
            "Epoch 3/100\n",
            "171/176 [============================>.] - ETA: 0s - loss: 0.8950 - accuracy: 0.6986\n",
            "Epoch 3: saving model to training/cp-0003.ckpt\n",
            "176/176 [==============================] - 2s 10ms/step - loss: 0.8919 - accuracy: 0.6994 - val_loss: 0.6271 - val_accuracy: 0.7873\n",
            "Epoch 4/100\n",
            "171/176 [============================>.] - ETA: 0s - loss: 0.7675 - accuracy: 0.7353\n",
            "Epoch 4: saving model to training/cp-0004.ckpt\n",
            "176/176 [==============================] - 2s 10ms/step - loss: 0.7649 - accuracy: 0.7361 - val_loss: 0.5672 - val_accuracy: 0.8007\n",
            "Epoch 5/100\n",
            "175/176 [============================>.] - ETA: 0s - loss: 0.6940 - accuracy: 0.7542\n",
            "Epoch 5: saving model to training/cp-0005.ckpt\n",
            "176/176 [==============================] - 2s 11ms/step - loss: 0.6944 - accuracy: 0.7541 - val_loss: 0.5338 - val_accuracy: 0.8145\n",
            "Epoch 6/100\n",
            "175/176 [============================>.] - ETA: 0s - loss: 0.6358 - accuracy: 0.7721\n",
            "Epoch 6: saving model to training/cp-0006.ckpt\n",
            "176/176 [==============================] - 3s 16ms/step - loss: 0.6359 - accuracy: 0.7723 - val_loss: 0.5085 - val_accuracy: 0.8215\n",
            "Epoch 7/100\n",
            "171/176 [============================>.] - ETA: 0s - loss: 0.6092 - accuracy: 0.7835\n",
            "Epoch 7: saving model to training/cp-0007.ckpt\n",
            "176/176 [==============================] - 2s 11ms/step - loss: 0.6094 - accuracy: 0.7837 - val_loss: 0.5032 - val_accuracy: 0.8216\n",
            "Epoch 8/100\n",
            "172/176 [============================>.] - ETA: 0s - loss: 0.5789 - accuracy: 0.7906\n",
            "Epoch 8: saving model to training/cp-0008.ckpt\n",
            "176/176 [==============================] - 2s 10ms/step - loss: 0.5790 - accuracy: 0.7906 - val_loss: 0.4780 - val_accuracy: 0.8302\n",
            "Epoch 9/100\n",
            "172/176 [============================>.] - ETA: 0s - loss: 0.5508 - accuracy: 0.8020\n",
            "Epoch 9: saving model to training/cp-0009.ckpt\n",
            "176/176 [==============================] - 2s 11ms/step - loss: 0.5507 - accuracy: 0.8019 - val_loss: 0.4644 - val_accuracy: 0.8373\n",
            "Epoch 10/100\n",
            "175/176 [============================>.] - ETA: 0s - loss: 0.5319 - accuracy: 0.8080\n",
            "Epoch 10: saving model to training/cp-0010.ckpt\n",
            "176/176 [==============================] - 2s 11ms/step - loss: 0.5321 - accuracy: 0.8081 - val_loss: 0.4483 - val_accuracy: 0.8419\n",
            "Epoch 11/100\n",
            "172/176 [============================>.] - ETA: 0s - loss: 0.5107 - accuracy: 0.8123\n",
            "Epoch 11: saving model to training/cp-0011.ckpt\n",
            "176/176 [==============================] - 2s 10ms/step - loss: 0.5099 - accuracy: 0.8125 - val_loss: 0.4432 - val_accuracy: 0.8468\n",
            "Epoch 12/100\n",
            "173/176 [============================>.] - ETA: 0s - loss: 0.5038 - accuracy: 0.8166\n",
            "Epoch 12: saving model to training/cp-0012.ckpt\n",
            "176/176 [==============================] - 2s 13ms/step - loss: 0.5030 - accuracy: 0.8167 - val_loss: 0.4505 - val_accuracy: 0.8389\n",
            "Epoch 13/100\n",
            "171/176 [============================>.] - ETA: 0s - loss: 0.4887 - accuracy: 0.8201\n",
            "Epoch 13: saving model to training/cp-0013.ckpt\n",
            "176/176 [==============================] - 3s 14ms/step - loss: 0.4885 - accuracy: 0.8203 - val_loss: 0.4330 - val_accuracy: 0.8478\n",
            "Epoch 14/100\n",
            "171/176 [============================>.] - ETA: 0s - loss: 0.4805 - accuracy: 0.8232\n",
            "Epoch 14: saving model to training/cp-0014.ckpt\n",
            "176/176 [==============================] - 2s 11ms/step - loss: 0.4794 - accuracy: 0.8234 - val_loss: 0.4311 - val_accuracy: 0.8489\n",
            "Epoch 15/100\n",
            "176/176 [==============================] - ETA: 0s - loss: 0.4685 - accuracy: 0.8281\n",
            "Epoch 15: saving model to training/cp-0015.ckpt\n",
            "176/176 [==============================] - 2s 10ms/step - loss: 0.4685 - accuracy: 0.8281 - val_loss: 0.4222 - val_accuracy: 0.8517\n",
            "Epoch 16/100\n",
            "174/176 [============================>.] - ETA: 0s - loss: 0.4601 - accuracy: 0.8289\n",
            "Epoch 16: saving model to training/cp-0016.ckpt\n",
            "176/176 [==============================] - 2s 11ms/step - loss: 0.4598 - accuracy: 0.8291 - val_loss: 0.4253 - val_accuracy: 0.8478\n",
            "Epoch 17/100\n",
            "173/176 [============================>.] - ETA: 0s - loss: 0.4540 - accuracy: 0.8334\n",
            "Epoch 17: saving model to training/cp-0017.ckpt\n",
            "176/176 [==============================] - 2s 10ms/step - loss: 0.4535 - accuracy: 0.8334 - val_loss: 0.4019 - val_accuracy: 0.8589\n",
            "Epoch 18/100\n",
            "171/176 [============================>.] - ETA: 0s - loss: 0.4434 - accuracy: 0.8354\n",
            "Epoch 18: saving model to training/cp-0018.ckpt\n",
            "176/176 [==============================] - 2s 11ms/step - loss: 0.4427 - accuracy: 0.8360 - val_loss: 0.4069 - val_accuracy: 0.8574\n",
            "Epoch 19/100\n",
            "172/176 [============================>.] - ETA: 0s - loss: 0.4346 - accuracy: 0.8400\n",
            "Epoch 19: saving model to training/cp-0019.ckpt\n",
            "176/176 [==============================] - 3s 14ms/step - loss: 0.4347 - accuracy: 0.8400 - val_loss: 0.3968 - val_accuracy: 0.8587\n",
            "Epoch 20/100\n",
            "173/176 [============================>.] - ETA: 0s - loss: 0.4319 - accuracy: 0.8426\n",
            "Epoch 20: saving model to training/cp-0020.ckpt\n",
            "176/176 [==============================] - 2s 13ms/step - loss: 0.4321 - accuracy: 0.8426 - val_loss: 0.4161 - val_accuracy: 0.8573\n",
            "Epoch 21/100\n",
            "171/176 [============================>.] - ETA: 0s - loss: 0.4264 - accuracy: 0.8431\n",
            "Epoch 21: saving model to training/cp-0021.ckpt\n",
            "176/176 [==============================] - 2s 11ms/step - loss: 0.4256 - accuracy: 0.8432 - val_loss: 0.4059 - val_accuracy: 0.8623\n",
            "Epoch 22/100\n",
            "170/176 [===========================>..] - ETA: 0s - loss: 0.4319 - accuracy: 0.8423\n",
            "Epoch 22: saving model to training/cp-0022.ckpt\n",
            "176/176 [==============================] - 2s 11ms/step - loss: 0.4314 - accuracy: 0.8426 - val_loss: 0.4013 - val_accuracy: 0.8565\n",
            "Epoch 23/100\n",
            "173/176 [============================>.] - ETA: 0s - loss: 0.4169 - accuracy: 0.8480\n",
            "Epoch 23: saving model to training/cp-0023.ckpt\n",
            "176/176 [==============================] - 2s 11ms/step - loss: 0.4166 - accuracy: 0.8480 - val_loss: 0.4033 - val_accuracy: 0.8533\n",
            "Epoch 24/100\n",
            "174/176 [============================>.] - ETA: 0s - loss: 0.4072 - accuracy: 0.8500\n",
            "Epoch 24: saving model to training/cp-0024.ckpt\n",
            "176/176 [==============================] - 2s 10ms/step - loss: 0.4079 - accuracy: 0.8498 - val_loss: 0.3843 - val_accuracy: 0.8663\n",
            "Epoch 25/100\n",
            "175/176 [============================>.] - ETA: 0s - loss: 0.4062 - accuracy: 0.8485\n",
            "Epoch 25: saving model to training/cp-0025.ckpt\n",
            "176/176 [==============================] - 2s 11ms/step - loss: 0.4064 - accuracy: 0.8485 - val_loss: 0.3885 - val_accuracy: 0.8619\n",
            "Epoch 26/100\n",
            "173/176 [============================>.] - ETA: 0s - loss: 0.4060 - accuracy: 0.8508\n",
            "Epoch 26: saving model to training/cp-0026.ckpt\n",
            "176/176 [==============================] - 3s 16ms/step - loss: 0.4056 - accuracy: 0.8509 - val_loss: 0.3796 - val_accuracy: 0.8659\n",
            "Epoch 27/100\n",
            "176/176 [==============================] - ETA: 0s - loss: 0.4013 - accuracy: 0.8527\n",
            "Epoch 27: saving model to training/cp-0027.ckpt\n",
            "176/176 [==============================] - 2s 10ms/step - loss: 0.4013 - accuracy: 0.8527 - val_loss: 0.3768 - val_accuracy: 0.8647\n",
            "Epoch 28/100\n",
            "170/176 [===========================>..] - ETA: 0s - loss: 0.4041 - accuracy: 0.8519\n",
            "Epoch 28: saving model to training/cp-0028.ckpt\n",
            "176/176 [==============================] - 2s 10ms/step - loss: 0.4046 - accuracy: 0.8520 - val_loss: 0.3818 - val_accuracy: 0.8677\n",
            "Epoch 29/100\n",
            "171/176 [============================>.] - ETA: 0s - loss: 0.3942 - accuracy: 0.8559\n",
            "Epoch 29: saving model to training/cp-0029.ckpt\n",
            "176/176 [==============================] - 2s 11ms/step - loss: 0.3942 - accuracy: 0.8559 - val_loss: 0.3963 - val_accuracy: 0.8620\n",
            "Epoch 30/100\n",
            "174/176 [============================>.] - ETA: 0s - loss: 0.3945 - accuracy: 0.8541\n",
            "Epoch 30: saving model to training/cp-0030.ckpt\n",
            "176/176 [==============================] - 2s 11ms/step - loss: 0.3945 - accuracy: 0.8543 - val_loss: 0.3802 - val_accuracy: 0.8649\n",
            "Epoch 31/100\n",
            "170/176 [===========================>..] - ETA: 0s - loss: 0.3885 - accuracy: 0.8548\n",
            "Epoch 31: saving model to training/cp-0031.ckpt\n",
            "176/176 [==============================] - 2s 10ms/step - loss: 0.3887 - accuracy: 0.8549 - val_loss: 0.3745 - val_accuracy: 0.8711\n",
            "Epoch 32/100\n",
            "172/176 [============================>.] - ETA: 0s - loss: 0.3830 - accuracy: 0.8592\n",
            "Epoch 32: saving model to training/cp-0032.ckpt\n",
            "176/176 [==============================] - 2s 12ms/step - loss: 0.3829 - accuracy: 0.8592 - val_loss: 0.3763 - val_accuracy: 0.8673\n",
            "Epoch 33/100\n",
            "173/176 [============================>.] - ETA: 0s - loss: 0.3793 - accuracy: 0.8610\n",
            "Epoch 33: saving model to training/cp-0033.ckpt\n",
            "176/176 [==============================] - 3s 15ms/step - loss: 0.3792 - accuracy: 0.8611 - val_loss: 0.3785 - val_accuracy: 0.8665\n",
            "Epoch 34/100\n",
            "175/176 [============================>.] - ETA: 0s - loss: 0.3838 - accuracy: 0.8590\n",
            "Epoch 34: saving model to training/cp-0034.ckpt\n",
            "176/176 [==============================] - 2s 10ms/step - loss: 0.3841 - accuracy: 0.8589 - val_loss: 0.3743 - val_accuracy: 0.8679\n",
            "Epoch 35/100\n",
            "175/176 [============================>.] - ETA: 0s - loss: 0.3803 - accuracy: 0.8591\n",
            "Epoch 35: saving model to training/cp-0035.ckpt\n",
            "176/176 [==============================] - 2s 11ms/step - loss: 0.3805 - accuracy: 0.8591 - val_loss: 0.3835 - val_accuracy: 0.8643\n",
            "Epoch 36/100\n",
            "172/176 [============================>.] - ETA: 0s - loss: 0.3793 - accuracy: 0.8614\n",
            "Epoch 36: saving model to training/cp-0036.ckpt\n",
            "176/176 [==============================] - 2s 11ms/step - loss: 0.3789 - accuracy: 0.8616 - val_loss: 0.3727 - val_accuracy: 0.8718\n",
            "Epoch 37/100\n",
            "176/176 [==============================] - ETA: 0s - loss: 0.3752 - accuracy: 0.8613\n",
            "Epoch 37: saving model to training/cp-0037.ckpt\n",
            "176/176 [==============================] - 2s 11ms/step - loss: 0.3752 - accuracy: 0.8613 - val_loss: 0.3614 - val_accuracy: 0.8717\n",
            "Epoch 38/100\n",
            "173/176 [============================>.] - ETA: 0s - loss: 0.3674 - accuracy: 0.8631\n",
            "Epoch 38: saving model to training/cp-0038.ckpt\n",
            "176/176 [==============================] - 2s 11ms/step - loss: 0.3676 - accuracy: 0.8631 - val_loss: 0.3656 - val_accuracy: 0.8684\n",
            "Epoch 39/100\n",
            "172/176 [============================>.] - ETA: 0s - loss: 0.3727 - accuracy: 0.8612\n",
            "Epoch 39: saving model to training/cp-0039.ckpt\n",
            "176/176 [==============================] - 3s 15ms/step - loss: 0.3717 - accuracy: 0.8615 - val_loss: 0.3703 - val_accuracy: 0.8681\n",
            "Epoch 40/100\n",
            "174/176 [============================>.] - ETA: 0s - loss: 0.3699 - accuracy: 0.8638\n",
            "Epoch 40: saving model to training/cp-0040.ckpt\n",
            "176/176 [==============================] - 2s 13ms/step - loss: 0.3703 - accuracy: 0.8638 - val_loss: 0.3751 - val_accuracy: 0.8710\n",
            "Epoch 41/100\n",
            "170/176 [===========================>..] - ETA: 0s - loss: 0.3651 - accuracy: 0.8634\n",
            "Epoch 41: saving model to training/cp-0041.ckpt\n",
            "176/176 [==============================] - 2s 10ms/step - loss: 0.3650 - accuracy: 0.8634 - val_loss: 0.3727 - val_accuracy: 0.8736\n",
            "Epoch 42/100\n",
            "172/176 [============================>.] - ETA: 0s - loss: 0.3651 - accuracy: 0.8639\n",
            "Epoch 42: saving model to training/cp-0042.ckpt\n",
            "176/176 [==============================] - 2s 10ms/step - loss: 0.3657 - accuracy: 0.8635 - val_loss: 0.3657 - val_accuracy: 0.8731\n"
          ]
        }
      ]
    },
    {
      "cell_type": "code",
      "source": [
        "plt.subplot(1,2,1) # loss\n",
        "\n",
        "plt.plot(history.history[\"loss\"], \"b-\", label=\"train_loss\")\n",
        "plt.plot(history.history[\"val_loss\"], \"r-\", label=\"val_loss\")\n",
        "plt.xlabel(\"Epoch\")\n",
        "plt.legend()\n",
        "\n",
        "plt.subplot(1,2,2) # metrics : accuracy\n",
        "plt.plot(history.history[\"accuracy\"], \"b-\", label=\"train_accuracy\")\n",
        "plt.plot(history.history[\"val_accuracy\"], \"r-\", label=\"val_accuracy\")\n",
        "plt.xlabel(\"Epoch\")\n",
        "plt.legend()"
      ],
      "metadata": {
        "colab": {
          "base_uri": "https://localhost:8080/",
          "height": 467
        },
        "id": "DRf6A3lJGAoq",
        "outputId": "8e1f0ca7-efbb-4727-976b-5c96b4f2083f"
      },
      "execution_count": 16,
      "outputs": [
        {
          "output_type": "execute_result",
          "data": {
            "text/plain": [
              "<matplotlib.legend.Legend at 0x7b86d2811480>"
            ]
          },
          "metadata": {},
          "execution_count": 16
        },
        {
          "output_type": "display_data",
          "data": {
            "text/plain": [
              "<Figure size 640x480 with 2 Axes>"
            ],
            "image/png": "[encoded data removed]"
          },
          "metadata": {}
        }
      ]
    },
    {
      "cell_type": "markdown",
      "source": [
        "# 4. 괜찮은 성능의 Weight부터 다시 학습"
      ],
      "metadata": {
        "id": "ag1q_X54WMlP"
      }
    },
    {
      "cell_type": "code",
      "source": [
        "# 1) 불러올 모델이 저장된 경로...\n",
        "# 주의!!!) 실제 os상 보이는 파일명으로 불러오면 안 됨!!!\n",
        "# --> 내가 callback 지정한 양식으로 불러야 함.\n",
        "load_cp_weights = \"training/cp-0042.ckpt\"\n",
        "# ==> 눈에 보이는 것이 아니라 설정한 양식대로!!!!\n",
        "\n",
        "# 2) 불러온 가중치를 채울 틀/(모델 구조!!설계도!!!)\n",
        "model_bc = tf.keras.Sequential(\n",
        "    [\n",
        "        tf.keras.layers.Flatten( input_shape =( 28,28)),\n",
        "        # 2) HL : 일반적인 Dense 레이어로 기능\n",
        "\n",
        "        # + 모든 784개 픽셀 다 쓰지 말고,,좀 줄여서 쓰자.\n",
        "        tf.keras.layers.Dropout( 0.1),\n",
        "        tf.keras.layers.Dense( units=128, activation=\"relu\"),\n",
        "        tf.keras.layers.Dropout( 0.1),\n",
        "        tf.keras.layers.Dense( units=64, activation=\"relu\"),\n",
        "        tf.keras.layers.Dropout( 0.1),\n",
        "        tf.keras.layers.Dense( units=32, activation=\"relu\"),\n",
        "        # 3) output Layer 설계\n",
        "        tf.keras.layers.Dense( units =10,activation=\"softmax\" )\n",
        "    ]\n",
        ")\n",
        "# 3) 설계도에 불러온 weight를 채워야!!!!\n",
        "# ===> 설계도와 weight가 정확히 일치해야 함!!!\n",
        "model_bc.compile(\n",
        "    loss = \"categorical_crossentropy\", # 정답을 OHE\n",
        "    optimizer = tf.keras.optimizers.Adam(),\n",
        "    # 주어진 약 10개의 weight 파라미터를\n",
        "    # loss CE관점으로 어찌 최적화를 할지에 대한 방식\n",
        "    # GD --> 인공신경망,,,, Adam()최적화 방식...\n",
        "    metrics =[\"accuracy\"]\n",
        "    # 잘 학습이 되는지 모니터링 지표...\n",
        ")\n",
        "model_bc.load_weights(load_cp_weights )"
      ],
      "metadata": {
        "colab": {
          "base_uri": "https://localhost:8080/"
        },
        "id": "B2Rl8xUbI4UH",
        "outputId": "9a026fdb-6d67-4f46-9b50-d03695d3c601"
      },
      "execution_count": 17,
      "outputs": [
        {
          "output_type": "execute_result",
          "data": {
            "text/plain": [
              "<tensorflow.python.checkpoint.checkpoint.CheckpointLoadStatus at 0x7b86c9a33a00>"
            ]
          },
          "metadata": {},
          "execution_count": 17
        }
      ]
    },
    {
      "cell_type": "code",
      "source": [
        "model_bc.evaluate(test_X, tf.keras.utils.to_categorical(test_y, num_classes=10))"
      ],
      "metadata": {
        "colab": {
          "base_uri": "https://localhost:8080/"
        },
        "id": "7n4JbkvNJY-w",
        "outputId": "55877153-62ed-4f5c-fd08-63ba3d8f5a5d"
      },
      "execution_count": 20,
      "outputs": [
        {
          "output_type": "stream",
          "name": "stdout",
          "text": [
            "313/313 [==============================] - 1s 2ms/step - loss: 0.3797 - accuracy: 0.8635\n"
          ]
        },
        {
          "output_type": "execute_result",
          "data": {
            "text/plain": [
              "[0.37967777252197266, 0.8634999990463257]"
            ]
          },
          "metadata": {},
          "execution_count": 20
        }
      ]
    },
    {
      "cell_type": "code",
      "source": [
        "# 결론 : fashion - MNIST 셋을 가지고 DNN 구조 방식으로 설계를 하면\n",
        "  # ACC 0.9 를 넘기기 쉽지가 않음.\n",
        "  # -> 내 데이터에 대해서 FNN 설계방식으로 한계가 있음\n",
        "  # -> 시도할 다른 방법 : 설계 방식의 근본적이 ㄴ다른 방식 차용\n",
        "  #   : 이미지 데이터 : CNN 구조로 해볼까\n",
        "  # + 설계 방식에 따라서 기본 성능 자체가 다름"
      ],
      "metadata": {
        "id": "EWsiqZM5Jvb_"
      },
      "execution_count": null,
      "outputs": []
    }
  ]
}