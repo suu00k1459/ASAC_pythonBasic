{
 "cells": [
  {
   "cell_type": "markdown",
   "id": "8a60f929-6a10-4fe1-b991-335a6296adc9",
   "metadata": {},
   "source": [
    "## 기본 문법"
   ]
  },
  {
   "cell_type": "code",
   "execution_count": 5,
   "id": "709f23aa-e934-4d38-9752-70b56e2702e4",
   "metadata": {},
   "outputs": [
    {
     "name": "stdout",
     "output_type": "stream",
     "text": [
      "123\n"
     ]
    }
   ],
   "source": [
    "A=123\n",
    "print (A) #print 안에 있는 값 출력. 안에 있는 값이 변수일 경우 변수가 가르키는 값을 출력."
   ]
  },
  {
   "cell_type": "code",
   "execution_count": 4,
   "id": "d5ee484a-69ca-44d9-8820-f38ecb390015",
   "metadata": {},
   "outputs": [
    {
     "ename": "SyntaxError",
     "evalue": "invalid syntax (2083724895.py, line 1)",
     "output_type": "error",
     "traceback": [
      "\u001b[1;36m  Cell \u001b[1;32mIn[4], line 1\u001b[1;36m\u001b[0m\n\u001b[1;33m    for = 77\u001b[0m\n\u001b[1;37m        ^\u001b[0m\n\u001b[1;31mSyntaxError\u001b[0m\u001b[1;31m:\u001b[0m invalid syntax\n"
     ]
    }
   ],
   "source": [
    "for = 77\n",
    "printm(for) #for는 예약어이기 때문에 변수로 지정할 경우 코드 꼬여서 에러남"
   ]
  },
  {
   "cell_type": "code",
   "execution_count": 30,
   "id": "ac377776-2d39-4701-bf79-d6c5b644e890",
   "metadata": {},
   "outputs": [],
   "source": [
    "n=10 # 값을 할당할 때 연산자 : ="
   ]
  },
  {
   "cell_type": "code",
   "execution_count": 31,
   "id": "387edec5-8bf3-47ff-a496-35525f6b0e1c",
   "metadata": {},
   "outputs": [],
   "source": [
    "n=n+1 # 기존 값을 갱신"
   ]
  },
  {
   "cell_type": "code",
   "execution_count": 32,
   "id": "987f4167-a43b-41f9-b2d7-2101d1db3d08",
   "metadata": {},
   "outputs": [],
   "source": [
    "# 갱신시 코드적 비효율이 있음 ( 자기 자신 갱신 )\n",
    "# n= n+1\n",
    "n += 1"
   ]
  },
  {
   "cell_type": "code",
   "execution_count": 33,
   "id": "be60e118-f87f-41a0-93bc-9823849facf1",
   "metadata": {},
   "outputs": [
    {
     "name": "stdout",
     "output_type": "stream",
     "text": [
      "12\n"
     ]
    }
   ],
   "source": [
    "print(n)"
   ]
  },
  {
   "cell_type": "code",
   "execution_count": 34,
   "id": "b7f37f81-6145-4703-a95d-ecd2d9923450",
   "metadata": {},
   "outputs": [],
   "source": [
    "# n = n*10 \n",
    "n*= 10 #곱하기도 갱신할 때 "
   ]
  },
  {
   "cell_type": "code",
   "execution_count": 35,
   "id": "9e6711a9-ccc8-47ef-ae08-575cbeb31d76",
   "metadata": {},
   "outputs": [
    {
     "name": "stdout",
     "output_type": "stream",
     "text": [
      "120\n"
     ]
    }
   ],
   "source": [
    "print(n)"
   ]
  },
  {
   "cell_type": "code",
   "execution_count": 36,
   "id": "acdcb71c-28f9-4166-bae2-7a025fd24e48",
   "metadata": {},
   "outputs": [],
   "source": [
    "# 파이썬 멀티 할당 : 코테할 때 많이 함\n",
    "# 장점 : 코드가 간결함."
   ]
  },
  {
   "cell_type": "code",
   "execution_count": 37,
   "id": "a90fe3e5-4db9-4c41-9998-2d00a344286b",
   "metadata": {},
   "outputs": [
    {
     "name": "stdout",
     "output_type": "stream",
     "text": [
      "10 20\n",
      "20 10\n"
     ]
    }
   ],
   "source": [
    "# ex) 두 변수가 값을 교환할 때 (원래 개념)\n",
    "a = 10\n",
    "b = 20\n",
    "print (a,b)\n",
    "\n",
    "temp = a\n",
    "a = b\n",
    "b = temp\n",
    "print (a,b)"
   ]
  },
  {
   "cell_type": "code",
   "execution_count": 38,
   "id": "d4c4c1ba-556c-401c-a233-38e2e1ae2f87",
   "metadata": {},
   "outputs": [
    {
     "name": "stdout",
     "output_type": "stream",
     "text": [
      "10 20\n",
      "20 10\n"
     ]
    }
   ],
   "source": [
    "# 파이썬에서 해보면 \n",
    "a= 10\n",
    "b= 20\n",
    "print (a,b)\n",
    "a, b = b, a\n",
    "print (a,b) # 쉬움\n",
    "# ---> 코테할 때 자주 사용 됨. 데분에선 그닥ㅇ"
   ]
  },
  {
   "cell_type": "markdown",
   "id": "b066d703-0caa-438b-a998-b3273b10737c",
   "metadata": {},
   "source": [
    "### 대상을 1개로 하는지 여러개로 하는지\n",
    "#### < 1개일 경우 >\n",
    "\n",
    "    ---> 숫자(정수, 실수,), 논리(True/False, 0,1), 문자 1개 (\"h\",\"a\") \n",
    "\n",
    "#### 여러개의 값을 대상 : 값들을 나열(값,값,값...)\n",
    "\n",
    "    ---> 리스트 [값, 값, 값...] : 수정이 가능 (추가, 제거 등 변경 가능)\n",
    "\n",
    "    ---> 튜플 (값, 값, 값...) : 한 번 만들면 변경이 X\n",
    "\n",
    "    ---> 집합 {값, 값, 값...} : 중복된 값은 무조건 1개로, 유니크값 처리 자동. -> 별도로 유니크 값 체크 안하고 자료형으로 끝낼 수 있음.\n",
    "\n",
    "    ---> Dict { 키: 값, 키: 값 } : 미니 DataBase 의 역할\n",
    "\n",
    "    ---> SQL : RDMBS \n",
    "\n",
    "    -------데분에서는 메인으로 잘 안쓰지만 코테에서 중요. dict 잘쓰면 코드가 편하고 빨라짐\n",
    "\n",
    "    -------코테에서 속도가 문제인 경우가 있음\n",
    "\n",
    "ex) 10000000(백만개 원소가 있을 때)\n",
    "\n",
    "    case 1) 리스트에 담을 경우  : 홍길동을 찾기 위해 리스트 다 훑어봐야 함 -> 속도 느려짐\n",
    "\n",
    "    case 2) dict에 담을 경우 : 홍길동 키 값 (1234번)만 알면 바로 찾기 가능 : index 개념\n",
    "\n",
    "    ---> 리스트의 원소 찾는 시간 복잡도 = O(n)\n",
    "\n",
    "    ---> 딕셔너리에서 원소 찾는 시간 복잡도 = O(1)\n",
    "    "
   ]
  },
  {
   "cell_type": "code",
   "execution_count": 39,
   "id": "f4b6b19d-5d52-4b5d-813b-75b20cdea06c",
   "metadata": {},
   "outputs": [
    {
     "name": "stdout",
     "output_type": "stream",
     "text": [
      "210\n"
     ]
    }
   ],
   "source": [
    "# ex) 한 반에 3명이 있을 경우\n",
    "a=60\n",
    "b=70\n",
    "c=80\n",
    "\n",
    "total = a+b+c\n",
    "print(total)"
   ]
  },
  {
   "cell_type": "code",
   "execution_count": null,
   "id": "543c0763-ef63-4196-bf9f-a49fca77fc5c",
   "metadata": {},
   "outputs": [],
   "source": [
    "# 우리반 학생이 100명으로 늘었을 때\n",
    "student_1=60\n",
    "student_2=70\n",
    "...\n",
    "# 장점 : 누가 얼마인지 바로 확인 가능\n",
    "# 단점 : 변수가 많아짐.\n",
    "\n",
    "\n",
    "# 그냥 반의 전체 평균, 총점,최고점 등이 관심사항이면 : 누군지 안 중요 -> 하나의 변수가 중요하지 않아짐\n",
    "score = [90,80,40,...] # 리스트 형으로 표현\n",
    "# 값들만 모아서 변수 1개로 만듬\n",
    "# 장점 : 변수가 심플!(메모리 효율)\n",
    "# 단점  : 누가 몇 점인지는 모름(정보 상실)\n"
   ]
  },
  {
   "cell_type": "code",
   "execution_count": 40,
   "id": "2cbfae31-35f6-4995-8bc1-e766a57256e7",
   "metadata": {},
   "outputs": [
    {
     "data": {
      "text/plain": [
       "3.3"
      ]
     },
     "execution_count": 40,
     "metadata": {},
     "output_type": "execute_result"
    }
   ],
   "source": [
    "33/10"
   ]
  },
  {
   "cell_type": "code",
   "execution_count": 41,
   "id": "41b263b6-a08d-4dcf-a026-b3f9b6bf19df",
   "metadata": {},
   "outputs": [
    {
     "data": {
      "text/plain": [
       "1.6666666666666667"
      ]
     },
     "execution_count": 41,
     "metadata": {},
     "output_type": "execute_result"
    }
   ],
   "source": [
    "# 적당하게 뒤에서 반올림!\n",
    "# ---> 수치 연산 중요한 모델링( 딥러닝/ ML)\n",
    "# ---> 모델 성능이 제대로 안 나옴\n",
    "# ---> 큰 범위의 유효숫자를 처리할 수 있는 자료형을 따로 사용 \n",
    "#      numpy(nimerical python), tensor flow/PyTorch : 더 큰 자료형까지 사용일 가능\n",
    "\n",
    "5/3"
   ]
  },
  {
   "cell_type": "code",
   "execution_count": 42,
   "id": "08c7b3de-46e5-4aef-a08a-a6878e9231af",
   "metadata": {},
   "outputs": [
    {
     "name": "stdout",
     "output_type": "stream",
     "text": [
      "1.6666666666666667\n",
      "1\n",
      "2\n"
     ]
    }
   ],
   "source": [
    "#1) 계산값\n",
    "print(5/3)\n",
    "\n",
    "#2) 몫\n",
    "print(5//3)\n",
    "\n",
    "#3) 나머지\n",
    "print(5%3)\n"
   ]
  },
  {
   "cell_type": "code",
   "execution_count": 43,
   "id": "caf07d3d-ccbc-4fb0-b4a9-9bfea3929ad4",
   "metadata": {},
   "outputs": [
    {
     "data": {
      "text/plain": [
       "(1, 2)"
      ]
     },
     "execution_count": 43,
     "metadata": {},
     "output_type": "execute_result"
    }
   ],
   "source": [
    "# 참고 : FM방법 divmod() 함수 사용하면 됨\n",
    "# ---> 입력/ 무엇을 할지 / 출력\n",
    "#     입력 : 기준수, 나눌 수 를 입력\n",
    "#     무엇을 할지 : 나눗셈을 해서 몫, 나머지 계싼 \n",
    "#     출력 : 몫, 나머지\n",
    "\n",
    "divmod(5,3) # 5/3 몫,나머지 출력해줌"
   ]
  },
  {
   "cell_type": "code",
   "execution_count": 45,
   "id": "42fe6d62-0420-45c8-89a2-37e3e3f3cee5",
   "metadata": {},
   "outputs": [
    {
     "data": {
      "text/plain": [
       "1"
      ]
     },
     "execution_count": 45,
     "metadata": {},
     "output_type": "execute_result"
    }
   ],
   "source": [
    "divmod(5,3)[0] # 파이썬에서 기준은 0부터이기 때문에 첫번째 0부터 시작"
   ]
  },
  {
   "cell_type": "code",
   "execution_count": 48,
   "id": "8d11a78f-f3c9-487e-8856-716d900cfea6",
   "metadata": {},
   "outputs": [
    {
     "data": {
      "text/plain": [
       "1"
      ]
     },
     "execution_count": 48,
     "metadata": {},
     "output_type": "execute_result"
    }
   ],
   "source": [
    "# 파이썬은 멀티 할당이 있음!\n",
    "q, m = divmod(5,3)\n",
    "q"
   ]
  },
  {
   "cell_type": "code",
   "execution_count": 49,
   "id": "7dc5c15b-8e07-43f1-bf0b-0eac62aec949",
   "metadata": {},
   "outputs": [],
   "source": [
    "# 리스트\n",
    "# 1) 기본 구조 [ 값, 값, 값 ...]\n",
    "# 기본 기능 : 값을 추가 ( append - 맨 뒤 값 추가, insert - 중간에 꽂아 넣자 )\n",
    "#          : 값을 제거 (pop - 몇 번째 값 지우자 , remove - 어느 값을 지우자. 중복될 경우 맨 앞 값을 지우자.) : 모든 값 싹 제거는 아님\n"
   ]
  },
  {
   "cell_type": "code",
   "execution_count": 50,
   "id": "a7d52f60-c020-4163-a680-dfa19534fc65",
   "metadata": {},
   "outputs": [
    {
     "data": {
      "text/plain": [
       "[10, 20, 30, 40]"
      ]
     },
     "execution_count": 50,
     "metadata": {},
     "output_type": "execute_result"
    }
   ],
   "source": [
    "a_list = [10,20,30,40]\n",
    "a_list"
   ]
  },
  {
   "cell_type": "code",
   "execution_count": 53,
   "id": "74aa49a9-fc5f-420f-a64c-f55b5ad40097",
   "metadata": {},
   "outputs": [
    {
     "data": {
      "text/plain": [
       "[10, 20, 30, 40, 100, 100, 100]"
      ]
     },
     "execution_count": 53,
     "metadata": {},
     "output_type": "execute_result"
    }
   ],
   "source": [
    "a_list.append(100) # 맨 끝 값만 추가돼서 리스트가 수정됨!\n",
    "a_list"
   ]
  },
  {
   "cell_type": "code",
   "execution_count": 55,
   "id": "a180af20-2be1-4619-bcc6-8df500acbc7d",
   "metadata": {},
   "outputs": [
    {
     "data": {
      "text/plain": [
       "[1, 2, 11.2, 'hello', [1, 2, 3]]"
      ]
     },
     "execution_count": 55,
     "metadata": {},
     "output_type": "execute_result"
    }
   ],
   "source": [
    "#파이썬은 자료형에 상관없이 모을 수 있음!\n",
    "# 장점 : 대충 이질적인 것도 하나의 변수로 모아짐\n",
    "# 단점 : 크게 자료형을 잡아서 핸들링을 해야함...\n",
    "\n",
    "a_list =[1,2,11.2,\"hello\",[1,2,3]] \n",
    "a_list"
   ]
  },
  {
   "cell_type": "code",
   "execution_count": 56,
   "id": "0616c711-0291-46af-9270-63dd52dbde7a",
   "metadata": {},
   "outputs": [],
   "source": [
    "# 수치적인 계산에 포커스가 되는 경우에서는 \n",
    "# numpy에서는 어느 정도 계싼을 위해서 동일한 자료형을 해야함\n",
    "# 아니면 object 형으로 안되는 경우가 종종 있음. 자료형 다른 거끼리 모아두면 불편하다는 거임~~"
   ]
  },
  {
   "cell_type": "code",
   "execution_count": 58,
   "id": "f2e88d16-5faa-4200-939e-321401083f53",
   "metadata": {},
   "outputs": [
    {
     "data": {
      "text/plain": [
       "[1, 2, 'a', 'a', 11.2, 'hello', [1, 2, 3]]"
      ]
     },
     "execution_count": 58,
     "metadata": {},
     "output_type": "execute_result"
    }
   ],
   "source": [
    "a_list.insert(2, \"a\") #2번째 칸에 꽂겠다~~~ 파이썬은 0부터 시작이라 0,1,2 즉 2라고 적으면 세번째임\n",
    "a_list"
   ]
  },
  {
   "cell_type": "code",
   "execution_count": 59,
   "id": "99a29c52-c1ef-4d51-bca5-0803e2b25505",
   "metadata": {},
   "outputs": [
    {
     "data": {
      "text/plain": [
       "[1, 2, 3]"
      ]
     },
     "execution_count": 59,
     "metadata": {},
     "output_type": "execute_result"
    }
   ],
   "source": [
    "a_list.pop()"
   ]
  },
  {
   "cell_type": "code",
   "execution_count": 60,
   "id": "7b03224f-a2d2-4577-a3b2-ec5e20484f18",
   "metadata": {},
   "outputs": [
    {
     "data": {
      "text/plain": [
       "[1, 2, 'a', 'a', 11.2, 'hello']"
      ]
     },
     "execution_count": 60,
     "metadata": {},
     "output_type": "execute_result"
    }
   ],
   "source": [
    "a_list"
   ]
  },
  {
   "cell_type": "code",
   "execution_count": 61,
   "id": "5a504ef8-f232-4036-8eb3-d1a23362f096",
   "metadata": {},
   "outputs": [
    {
     "data": {
      "text/plain": [
       "'hello'"
      ]
     },
     "execution_count": 61,
     "metadata": {},
     "output_type": "execute_result"
    }
   ],
   "source": [
    "a_list.pop()"
   ]
  },
  {
   "cell_type": "code",
   "execution_count": 62,
   "id": "6e6ddaa0-932b-4d13-a96f-418325ea3e8f",
   "metadata": {},
   "outputs": [
    {
     "data": {
      "text/plain": [
       "[1, 2, 'a', 'a', 11.2]"
      ]
     },
     "execution_count": 62,
     "metadata": {},
     "output_type": "execute_result"
    }
   ],
   "source": [
    "a_list #맨 뒤에서부터 튀어나옴"
   ]
  },
  {
   "cell_type": "code",
   "execution_count": 65,
   "id": "c0c08be3-c091-4789-bc61-529744b521d9",
   "metadata": {},
   "outputs": [
    {
     "data": {
      "text/plain": [
       "'a'"
      ]
     },
     "execution_count": 65,
     "metadata": {},
     "output_type": "execute_result"
    }
   ],
   "source": [
    "a_list.pop(2) #원하는 위치에서부터 뺄 수도 있음"
   ]
  },
  {
   "cell_type": "code",
   "execution_count": 64,
   "id": "e18fd47b-bd44-43de-8805-23176caf5dc9",
   "metadata": {},
   "outputs": [
    {
     "data": {
      "text/plain": [
       "[1, 2, 'a', 11.2]"
      ]
     },
     "execution_count": 64,
     "metadata": {},
     "output_type": "execute_result"
    }
   ],
   "source": [
    "a_list"
   ]
  },
  {
   "cell_type": "code",
   "execution_count": 70,
   "id": "a4ab323d-3f45-447b-8d23-a2e90213a5b5",
   "metadata": {},
   "outputs": [
    {
     "data": {
      "text/plain": [
       "[1, 2, 3, 5, 11.2, 3, 3, 3, 3]"
      ]
     },
     "execution_count": 70,
     "metadata": {},
     "output_type": "execute_result"
    }
   ],
   "source": [
    "a_list.append(3)\n",
    "a_list.append(3)\n",
    "a_list.insert(2,3)\n",
    "a_list"
   ]
  },
  {
   "cell_type": "code",
   "execution_count": 73,
   "id": "bc8675e8-bb44-46e5-88f0-6079d18f68c8",
   "metadata": {},
   "outputs": [],
   "source": [
    "a_list.remove(3) # 중복일 때 맨 앞의 값을 지움"
   ]
  },
  {
   "cell_type": "code",
   "execution_count": 72,
   "id": "c47270ad-2736-4162-8038-9afc623be6d3",
   "metadata": {},
   "outputs": [
    {
     "data": {
      "text/plain": [
       "[1, 2, 5, 11.2, 3, 3, 3, 3]"
      ]
     },
     "execution_count": 72,
     "metadata": {},
     "output_type": "execute_result"
    }
   ],
   "source": [
    "a_list"
   ]
  },
  {
   "cell_type": "code",
   "execution_count": 76,
   "id": "a77eba76-1a2d-4a41-a494-b08a8a2cedda",
   "metadata": {},
   "outputs": [
    {
     "data": {
      "text/plain": [
       "1"
      ]
     },
     "execution_count": 76,
     "metadata": {},
     "output_type": "execute_result"
    }
   ],
   "source": [
    "a_list[0] #첫번째 = 0"
   ]
  },
  {
   "cell_type": "code",
   "execution_count": 77,
   "id": "9952710b-b352-4277-8b6a-d982565c4fec",
   "metadata": {},
   "outputs": [
    {
     "data": {
      "text/plain": [
       "2"
      ]
     },
     "execution_count": 77,
     "metadata": {},
     "output_type": "execute_result"
    }
   ],
   "source": [
    "a_list[1] #두번째 = 1"
   ]
  },
  {
   "cell_type": "code",
   "execution_count": 78,
   "id": "e5c7878d-c632-4ed9-8892-eaec441ab56f",
   "metadata": {},
   "outputs": [
    {
     "data": {
      "text/plain": [
       "3"
      ]
     },
     "execution_count": 78,
     "metadata": {},
     "output_type": "execute_result"
    }
   ],
   "source": [
    "a_list[-1] #맨 뒤에서 첫번째 : -1"
   ]
  },
  {
   "cell_type": "code",
   "execution_count": 80,
   "id": "4560f3de-cf06-444f-a178-e292accdf8b3",
   "metadata": {},
   "outputs": [
    {
     "data": {
      "text/plain": [
       "[1, 2, 5]"
      ]
     },
     "execution_count": 80,
     "metadata": {},
     "output_type": "execute_result"
    }
   ],
   "source": [
    "# 앞에서 3개 부를 때\n",
    "a_list[0:3] #0번부터 3번 앞자리 즉, 0,1,2 번째 부름"
   ]
  },
  {
   "cell_type": "code",
   "execution_count": 81,
   "id": "2e7a1a8d-7d70-4249-99fa-f79b803ab0a5",
   "metadata": {},
   "outputs": [],
   "source": [
    "# 슬라이싱 : 정수인덱스 자리에\n",
    "# 시작점 : 끝점(빠지고)\n",
    "# 여러개의 값들을 규칙적으로 접근할 때 사용"
   ]
  },
  {
   "cell_type": "code",
   "execution_count": 82,
   "id": "5c04feb5-1a85-4736-8e41-fde00aaff1a3",
   "metadata": {},
   "outputs": [
    {
     "data": {
      "text/plain": [
       "[2, 5, 11.2, 3, 3, 3]"
      ]
     },
     "execution_count": 82,
     "metadata": {},
     "output_type": "execute_result"
    }
   ],
   "source": [
    "a_list[::] #자기 자신\n",
    "a_list[::-1] #순서 역순\n",
    "a_list[1::1] # 첫번째 값 빼고"
   ]
  },
  {
   "cell_type": "code",
   "execution_count": null,
   "id": "7135c3b7-df72-4f20-af3a-1065fb5cc2e5",
   "metadata": {},
   "outputs": [],
   "source": [
    "#참고 ) 쌩 파이선의 리스트는 안되는 것\n",
    "#      [] 인덱스 안에 여러개 리스트로 넣으면 안됨 -> numpy만 됨. array 새로운 개념 도입으로 가능\n",
    "#      리스트 안에 리스`트로 슬라이싱 못함."
   ]
  },
  {
   "cell_type": "code",
   "execution_count": null,
   "id": "0fc9f2fc-0fe6-4f84-b465-d8077d54fd9e",
   "metadata": {},
   "outputs": [],
   "source": [
    "#튜플 : (값, 값, 값)\n",
    "# ---> 한 번 만들면 조작 불가능\n",
    "# ---> 부르는 호출은 리스트와 동일"
   ]
  },
  {
   "cell_type": "code",
   "execution_count": 84,
   "id": "d9143a5a-ac78-4c93-ae12-4cd16df44cab",
   "metadata": {},
   "outputs": [],
   "source": [
    "a_tuple=(1,2,3,4)"
   ]
  },
  {
   "cell_type": "code",
   "execution_count": 85,
   "id": "9fd19605-505a-4a1f-bfa3-db2225ab6a4b",
   "metadata": {},
   "outputs": [
    {
     "data": {
      "text/plain": [
       "2"
      ]
     },
     "execution_count": 85,
     "metadata": {},
     "output_type": "execute_result"
    }
   ],
   "source": [
    "a_tuple[1]"
   ]
  },
  {
   "cell_type": "code",
   "execution_count": 86,
   "id": "df2728b4-e835-4740-983c-cd72dfcc8f91",
   "metadata": {},
   "outputs": [
    {
     "data": {
      "text/plain": [
       "(1, 2, 3)"
      ]
     },
     "execution_count": 86,
     "metadata": {},
     "output_type": "execute_result"
    }
   ],
   "source": [
    "a_tuple[:3]"
   ]
  },
  {
   "cell_type": "code",
   "execution_count": 87,
   "id": "9ce4c41e-041f-4234-a299-54e862481916",
   "metadata": {},
   "outputs": [
    {
     "ename": "AttributeError",
     "evalue": "'tuple' object has no attribute 'append'",
     "output_type": "error",
     "traceback": [
      "\u001b[1;31m---------------------------------------------------------------------------\u001b[0m",
      "\u001b[1;31mAttributeError\u001b[0m                            Traceback (most recent call last)",
      "Cell \u001b[1;32mIn[87], line 1\u001b[0m\n\u001b[1;32m----> 1\u001b[0m a_tuple\u001b[38;5;241m.\u001b[39mappend(\u001b[38;5;241m100\u001b[39m)\n",
      "\u001b[1;31mAttributeError\u001b[0m: 'tuple' object has no attribute 'append'"
     ]
    }
   ],
   "source": [
    "a_tuple.append(100)"
   ]
  },
  {
   "cell_type": "code",
   "execution_count": 90,
   "id": "4c92df80-c514-41a9-bd2a-6bfb758772e1",
   "metadata": {},
   "outputs": [
    {
     "name": "stdout",
     "output_type": "stream",
     "text": [
      "e\n",
      "hel\n"
     ]
    }
   ],
   "source": [
    "# 문자열도 리스트처럼 사용 가능하지롱\n",
    "print(\"hello\"[1])\n",
    "print(\"hello\"[0:3])"
   ]
  },
  {
   "cell_type": "code",
   "execution_count": 91,
   "id": "a7e1a206-6da1-4e82-ab7a-4df7863a70b6",
   "metadata": {},
   "outputs": [
    {
     "data": {
      "text/plain": [
       "'탐은 \"나 집에 갈게\" 라고 했다.'"
      ]
     },
     "execution_count": 91,
     "metadata": {},
     "output_type": "execute_result"
    }
   ],
   "source": [
    "'''탐은 \"나 집에 갈게\" 라고 했다.'''"
   ]
  },
  {
   "cell_type": "code",
   "execution_count": 92,
   "id": "3decf568-bf67-4203-8238-36beef2aee30",
   "metadata": {},
   "outputs": [],
   "source": [
    "#참고) 파이썬 특별메서드\n",
    "# --> 파이썬을 대충 여기 저기 해도 다 적용 가능"
   ]
  },
  {
   "cell_type": "code",
   "execution_count": 94,
   "id": "0e286c95-f2a2-4b0b-a9ae-ccd1ff0dee37",
   "metadata": {},
   "outputs": [
    {
     "data": {
      "text/plain": [
       "[1, 2, 3, 'A', 'B', 'C']"
      ]
     },
     "execution_count": 94,
     "metadata": {},
     "output_type": "execute_result"
    }
   ],
   "source": [
    "a=[1,2,3]\n",
    "b=[\"A\",\"B\",\"C\"]\n",
    "a+b"
   ]
  },
  {
   "cell_type": "code",
   "execution_count": 95,
   "id": "d96b44d2-85d6-4e27-a3a1-e47db588ff73",
   "metadata": {},
   "outputs": [
    {
     "data": {
      "text/plain": [
       "[1, 2, 3, 4, 5, 6]"
      ]
     },
     "execution_count": 95,
     "metadata": {},
     "output_type": "execute_result"
    }
   ],
   "source": [
    "a=[1,2,3]\n",
    "b=[4,5,6]\n",
    "a+b"
   ]
  },
  {
   "cell_type": "code",
   "execution_count": 96,
   "id": "d757f6c6-6d7e-4e25-b9f2-0461bd50ba73",
   "metadata": {},
   "outputs": [
    {
     "data": {
      "text/plain": [
       "[1234, 5678]"
      ]
     },
     "execution_count": 96,
     "metadata": {},
     "output_type": "execute_result"
    }
   ],
   "source": [
    "a_list = [1234, 5678]\n",
    "a_list"
   ]
  },
  {
   "cell_type": "code",
   "execution_count": 98,
   "id": "775d4354-a6be-48b9-a710-5f770c8cdada",
   "metadata": {},
   "outputs": [
    {
     "data": {
      "text/plain": [
       "1234"
      ]
     },
     "execution_count": 98,
     "metadata": {},
     "output_type": "execute_result"
    }
   ],
   "source": [
    "a_list[0]"
   ]
  },
  {
   "cell_type": "code",
   "execution_count": 97,
   "id": "ddce4f18-ba73-4c11-8dc8-b5e10f1f710c",
   "metadata": {},
   "outputs": [
    {
     "data": {
      "text/plain": [
       "{'a': 1234, 'b': 5678}"
      ]
     },
     "execution_count": 97,
     "metadata": {},
     "output_type": "execute_result"
    }
   ],
   "source": [
    "a_dict = {\"a\" : 1234, \"b\":5678}\n",
    "a_dict"
   ]
  },
  {
   "cell_type": "code",
   "execution_count": 101,
   "id": "475d6a87-d386-4bfc-9828-e89e49659cc2",
   "metadata": {},
   "outputs": [
    {
     "data": {
      "text/plain": [
       "1234"
      ]
     },
     "execution_count": 101,
     "metadata": {},
     "output_type": "execute_result"
    }
   ],
   "source": [
    "a_dict[\"a\"]"
   ]
  },
  {
   "cell_type": "code",
   "execution_count": 102,
   "id": "b7ba0ed1-b4bc-4f30-ae7a-8771e6771642",
   "metadata": {},
   "outputs": [
    {
     "data": {
      "text/plain": [
       "list"
      ]
     },
     "execution_count": 102,
     "metadata": {},
     "output_type": "execute_result"
    }
   ],
   "source": [
    "#참고) 정체 확인\n",
    "type(a_list)"
   ]
  },
  {
   "cell_type": "code",
   "execution_count": 103,
   "id": "cfe7ecfd-f8df-4318-9514-4320c7036f42",
   "metadata": {},
   "outputs": [
    {
     "data": {
      "text/plain": [
       "dict_keys(['a', 'b'])"
      ]
     },
     "execution_count": 103,
     "metadata": {},
     "output_type": "execute_result"
    }
   ],
   "source": [
    "a_dict.keys()"
   ]
  },
  {
   "cell_type": "code",
   "execution_count": 105,
   "id": "598011cd-9f6d-4538-8108-8a1842369949",
   "metadata": {
    "scrolled": true
   },
   "outputs": [
    {
     "data": {
      "text/plain": [
       "dict_values([1234, 5678])"
      ]
     },
     "execution_count": 105,
     "metadata": {},
     "output_type": "execute_result"
    }
   ],
   "source": [
    "a_dict.values()"
   ]
  },
  {
   "cell_type": "code",
   "execution_count": 106,
   "id": "e4d18f83-438d-4e3d-903f-5e2fec3c0e1a",
   "metadata": {},
   "outputs": [
    {
     "data": {
      "text/plain": [
       "{1, 2, 3, 5}"
      ]
     },
     "execution_count": 106,
     "metadata": {},
     "output_type": "execute_result"
    }
   ],
   "source": [
    "#참고 : set : 유니크한 값만 남기고 다 날림\n",
    "{1,1,2,2,2,3,3,5} "
   ]
  },
  {
   "cell_type": "code",
   "execution_count": 107,
   "id": "041df5cc-8ae3-4417-86a6-4a6d91af5dd0",
   "metadata": {},
   "outputs": [
    {
     "data": {
      "text/plain": [
       "[1, 1, 2, 2, 2, 3, 3, 5]"
      ]
     },
     "execution_count": 107,
     "metadata": {},
     "output_type": "execute_result"
    }
   ],
   "source": [
    "[1,1,2,2,2,3,3,5]"
   ]
  },
  {
   "cell_type": "code",
   "execution_count": 112,
   "id": "c92d0bd7-4c8d-4446-a5f3-339e38c91229",
   "metadata": {},
   "outputs": [
    {
     "data": {
      "text/plain": [
       "{1, 2, 3, 5}"
      ]
     },
     "execution_count": 112,
     "metadata": {},
     "output_type": "execute_result"
    }
   ],
   "source": [
    "set([1,1,2,2,2,3,3,5]) #set으로 형변환"
   ]
  },
  {
   "cell_type": "code",
   "execution_count": 114,
   "id": "47d2e83c-ca1d-4450-a2a6-03fba5a23538",
   "metadata": {},
   "outputs": [
    {
     "data": {
      "text/plain": [
       "[1, 2, 3, 5]"
      ]
     },
     "execution_count": 114,
     "metadata": {},
     "output_type": "execute_result"
    }
   ],
   "source": [
    "list(set([1,1,2,2,2,3,3,5])) #list로 형변환"
   ]
  },
  {
   "cell_type": "code",
   "execution_count": 1,
   "id": "b2e954b6-e986-480d-8cfc-76ad206a1459",
   "metadata": {},
   "outputs": [],
   "source": [
    "# 조건문 if !!!!! 예외처리 꼭 신경써줄 것\n",
    "# 예) 양수, 음수, 0 판별!"
   ]
  },
  {
   "cell_type": "code",
   "execution_count": 7,
   "id": "497e2cda-c693-41dd-bff7-f6e0fafe19ab",
   "metadata": {},
   "outputs": [
    {
     "name": "stdout",
     "output_type": "stream",
     "text": [
      "0입니다\n"
     ]
    }
   ],
   "source": [
    "a= 0\n",
    "\n",
    "if a>0:\n",
    "    # 만족할 때 뭐할지...\n",
    "    print(\"양수\")\n",
    "# 만족하지 못할 때...\n",
    "elif a<0:\n",
    "    # a<0 만족할 때\n",
    "    print(\"음수\")\n",
    "elif a==0:\n",
    "    # a==0 만족할 때\n",
    "    print(\"0입니다\")\n",
    "else: #그 외 퉁 치기!\n",
    "    print(\"얘는 양수도 아니여, 음수도 아니여, 0도 아니여~~\")"
   ]
  },
  {
   "cell_type": "code",
   "execution_count": 9,
   "id": "7f5f10e3-fcea-4b82-bead-56045be3c526",
   "metadata": {},
   "outputs": [
    {
     "name": "stdout",
     "output_type": "stream",
     "text": [
      "양수\n",
      "얘는 양수도 아니여, 음수도 아니여, 0도 아니여~~\n"
     ]
    }
   ],
   "source": [
    "a= 10\n",
    "\n",
    "if a>0: #1번 if 들어갔다 나옴\n",
    "    print(\"양수\")\n",
    "if a<0: #2번 if 들어갔다 나옴\n",
    "    print(\"음수\")\n",
    "if a==0: #3번 if 들어갔따 나옴\n",
    "    print(\"0입니다\")\n",
    "else: #그 외 퉁 치기! #3번 if랑 연결.\n",
    "    print(\"얘는 양수도 아니여, 음수도 아니여, 0도 아니여~~\")"
   ]
  },
  {
   "cell_type": "code",
   "execution_count": 10,
   "id": "c2269690-56d2-4795-b79b-5cee1bc53808",
   "metadata": {},
   "outputs": [],
   "source": [
    "#파이썬 for\n",
    "# --> 여러개의 값을 롤링하는 것이 기본 구조"
   ]
  },
  {
   "cell_type": "code",
   "execution_count": 11,
   "id": "77bb40f2-acf7-482e-bd8e-baaf4b2e19be",
   "metadata": {},
   "outputs": [
    {
     "name": "stdout",
     "output_type": "stream",
     "text": [
      "1\n",
      "2\n",
      "3\n"
     ]
    }
   ],
   "source": [
    "#상황 : 1부터 10까지 출력 \n",
    "print(1)\n",
    "print(2)\n",
    "print(3) #일일이 하나씩 해보기"
   ]
  },
  {
   "cell_type": "code",
   "execution_count": null,
   "id": "0b1d1129-940b-4d66-9c66-d5910ef051c9",
   "metadata": {},
   "outputs": [],
   "source": [
    "print(i) # i는 계속 바뀌는 변수임. 1~10까지 넣어주면 되는 거~~ "
   ]
  },
  {
   "cell_type": "code",
   "execution_count": 12,
   "id": "57d7a9c3-eaea-4b2f-a043-1139e7e056bd",
   "metadata": {},
   "outputs": [
    {
     "name": "stdout",
     "output_type": "stream",
     "text": [
      "1\n",
      "2\n",
      "3\n",
      "4\n",
      "5\n",
      "6\n",
      "7\n",
      "8\n",
      "9\n",
      "10\n"
     ]
    }
   ],
   "source": [
    "for i in [1,2,3,4,5,6,7,8,9,10]:\n",
    "    print(i)"
   ]
  },
  {
   "cell_type": "code",
   "execution_count": 13,
   "id": "d41c162a-8ce0-4895-8075-1f12deab288c",
   "metadata": {},
   "outputs": [
    {
     "name": "stdout",
     "output_type": "stream",
     "text": [
      "1\n",
      "2\n",
      "3\n",
      "4\n",
      "5\n",
      "6\n",
      "7\n",
      "8\n",
      "9\n",
      "10\n"
     ]
    }
   ],
   "source": [
    "a_list= [1,2,3,4,5,6,7,8,9,10]\n",
    "for i in a_list:\n",
    "    print(i)"
   ]
  },
  {
   "cell_type": "code",
   "execution_count": 16,
   "id": "e544e5e3-4b19-4ece-8038-bfeec756bdb0",
   "metadata": {},
   "outputs": [
    {
     "name": "stdout",
     "output_type": "stream",
     "text": [
      "1\n",
      "2\n",
      "3\n",
      "4\n",
      "5\n",
      "6\n",
      "7\n",
      "8\n",
      "9\n"
     ]
    }
   ],
   "source": [
    "# 필요한 여러개의 값이 숫자일 때\n",
    "# --> 파이썬에서 range(시작점, 끝점, 간격)\n",
    "# 연속되거나, 규칙적인 여러 숫자들을 만들어 줄 때 사용\n",
    "\n",
    "for i in range(1,10,1): # 끝점은 맨 마지막 값이 빠진다.\n",
    "    print(i)"
   ]
  },
  {
   "cell_type": "code",
   "execution_count": 17,
   "id": "260cd5c4-8806-455f-9071-4da85406b7a0",
   "metadata": {},
   "outputs": [
    {
     "name": "stdout",
     "output_type": "stream",
     "text": [
      "1\n",
      "2\n",
      "3\n",
      "4\n",
      "5\n",
      "6\n",
      "7\n",
      "8\n",
      "9\n",
      "10\n"
     ]
    }
   ],
   "source": [
    "for i in range(1,11,1):\n",
    "    print(i)"
   ]
  },
  {
   "cell_type": "code",
   "execution_count": 18,
   "id": "7d717cf4-92d9-4369-85bd-48d07f4875d0",
   "metadata": {},
   "outputs": [
    {
     "data": {
      "text/plain": [
       "['a', 'b', 'c', 'd', 'e', 20, 30, 'x']"
      ]
     },
     "execution_count": 18,
     "metadata": {},
     "output_type": "execute_result"
    }
   ],
   "source": [
    "#대상이 리스트\n",
    "a_list = [\"a\",\"b\",\"c\",\"d\",\"e\",20,30,\"x\"]\n",
    "a_list"
   ]
  },
  {
   "cell_type": "code",
   "execution_count": 21,
   "id": "5610dc67-5b0c-4432-8876-4a1f38f8ba55",
   "metadata": {},
   "outputs": [
    {
     "name": "stdout",
     "output_type": "stream",
     "text": [
      "a\n",
      "b\n",
      "c\n"
     ]
    }
   ],
   "source": [
    "#a_list의 값을 출력해보자.\n",
    "print(a_list[0])\n",
    "print(a_list[1])\n",
    "print(a_list[2])"
   ]
  },
  {
   "cell_type": "code",
   "execution_count": 22,
   "id": "70809713-2a75-4eb4-9f86-602edbdf14c7",
   "metadata": {},
   "outputs": [
    {
     "name": "stdout",
     "output_type": "stream",
     "text": [
      "a\n",
      "b\n",
      "c\n",
      "d\n",
      "e\n"
     ]
    }
   ],
   "source": [
    "# 0~4번까지 필요하다면? i가 숫자고 연속이네? 그럼 for rnage 써야지!\n",
    "for i in range(0,5,1):\n",
    "    print(a_list[i])"
   ]
  },
  {
   "cell_type": "code",
   "execution_count": 23,
   "id": "3ce21836-bac2-42f5-84ca-96bd67516c6b",
   "metadata": {},
   "outputs": [
    {
     "name": "stdout",
     "output_type": "stream",
     "text": [
      "a\n",
      "b\n",
      "c\n",
      "d\n",
      "e\n",
      "20\n",
      "30\n",
      "x\n"
     ]
    }
   ],
   "source": [
    "# 파이썬의 for는 값 자체로 돌릴 수 있음\n",
    "for i in a_list: \n",
    "    print(i)"
   ]
  },
  {
   "cell_type": "code",
   "execution_count": 24,
   "id": "0e4e4b6a-d38a-41be-a60e-453630884267",
   "metadata": {},
   "outputs": [],
   "source": [
    "#참고)dict 를 돌리면...\n",
    "a_dict = {\"a\": 1234, \"b\":5678,\"c\":9999}"
   ]
  },
  {
   "cell_type": "code",
   "execution_count": 25,
   "id": "dc0464c4-d90f-4bc4-b2fc-8fe62b273d01",
   "metadata": {},
   "outputs": [
    {
     "name": "stdout",
     "output_type": "stream",
     "text": [
      "a\n",
      "b\n",
      "c\n"
     ]
    }
   ],
   "source": [
    "for i in a_dict:\n",
    "    print(i)"
   ]
  },
  {
   "cell_type": "code",
   "execution_count": 28,
   "id": "c9e3b712-4f55-44ad-9da4-a5078cfb2725",
   "metadata": {},
   "outputs": [
    {
     "name": "stdout",
     "output_type": "stream",
     "text": [
      "1234\n",
      "5678\n",
      "9999\n"
     ]
    }
   ],
   "source": [
    "for i in a_dict.values():\n",
    "    print(i)"
   ]
  },
  {
   "cell_type": "code",
   "execution_count": 33,
   "id": "3100d7f3-fbf7-4d82-9594-cd8ea6f6f68c",
   "metadata": {},
   "outputs": [
    {
     "name": "stdout",
     "output_type": "stream",
     "text": [
      "a 1234\n",
      "b 5678\n",
      "c 9999\n"
     ]
    }
   ],
   "source": [
    "for k, v in a_dict.items():\n",
    "    print(k,v)"
   ]
  },
  {
   "cell_type": "code",
   "execution_count": 34,
   "id": "c3e16c76-419b-4a87-b18d-358dbb10a8ca",
   "metadata": {},
   "outputs": [
    {
     "name": "stdout",
     "output_type": "stream",
     "text": [
      "(0, 'a')\n",
      "(1, 'b')\n",
      "(2, 'c')\n",
      "(3, 'd')\n",
      "(4, 'e')\n",
      "(5, 20)\n",
      "(6, 30)\n",
      "(7, 'x')\n"
     ]
    }
   ],
   "source": [
    "# 리스트는 인덱스, 값 으로 이루어져있음\n",
    "# --> enumerate() 함수로, (index, 값 ) 반환\n",
    "for i in enumerate(a_list):\n",
    "    print(i)"
   ]
  },
  {
   "cell_type": "code",
   "execution_count": null,
   "id": "ae87cd10-8d3b-4977-9994-fa60c3ae522c",
   "metadata": {},
   "outputs": [],
   "source": [
    "#) 문\n",
    "# 국어 80 점, 수학 75, 영어 55, 사회 90\n",
    "# 이 학생의 평균을 구하는 코드를 작성하세요.\n",
    "\n",
    "# 변수설정, 자료형, 그들간의 관계 설정해보기.\n"
   ]
  },
  {
   "cell_type": "code",
   "execution_count": 41,
   "id": "d4b39ab1-835e-4061-a773-ddf7ae4cb2b8",
   "metadata": {},
   "outputs": [
    {
     "data": {
      "text/plain": [
       "75.0"
      ]
     },
     "execution_count": 41,
     "metadata": {},
     "output_type": "execute_result"
    }
   ],
   "source": [
    "(80+75+55+90)/4"
   ]
  },
  {
   "cell_type": "code",
   "execution_count": 43,
   "id": "6780ece7-eb0b-4e13-b733-873eff7129b2",
   "metadata": {},
   "outputs": [
    {
     "data": {
      "text/plain": [
       "75.0"
      ]
     },
     "execution_count": 43,
     "metadata": {},
     "output_type": "execute_result"
    }
   ],
   "source": [
    "lst = [80,75,55,90]\n",
    "sum(lst)/len(lst)"
   ]
  },
  {
   "cell_type": "code",
   "execution_count": 49,
   "id": "ad26ebb4-6eab-4885-bb80-4d8997eca34a",
   "metadata": {},
   "outputs": [
    {
     "data": {
      "text/plain": [
       "75.0"
      ]
     },
     "execution_count": 49,
     "metadata": {},
     "output_type": "execute_result"
    }
   ],
   "source": [
    "dic={\"국어\":80,\"수학\":75,\"영어\":55,\"사회\":90}\n",
    "sum(dic.values())/len(dic)"
   ]
  },
  {
   "cell_type": "code",
   "execution_count": 50,
   "id": "08118b7e-efee-4287-838e-77a1decd7e87",
   "metadata": {},
   "outputs": [
    {
     "name": "stdout",
     "output_type": "stream",
     "text": [
      "75.0\n"
     ]
    }
   ],
   "source": [
    "# 굳이굳이 기능테스트용으로 해보자!^0^ len도 sum도 모른다고 가정하고!\n",
    "lst = [80,75,55,90]\n",
    "# 돌리면서 누적합과 카운팅해주면 됨.\n",
    "s=0\n",
    "count=0\n",
    "for i in lst:\n",
    "    s+=i\n",
    "    count+=1\n",
    "print(s/count)\n"
   ]
  },
  {
   "cell_type": "code",
   "execution_count": null,
   "id": "c2054bd3-99ca-431d-a4cb-5f9cd78308d3",
   "metadata": {},
   "outputs": [],
   "source": []
  }
 ],
 "metadata": {
  "kernelspec": {
   "display_name": "Python 3 (ipykernel)",
   "language": "python",
   "name": "python3"
  },
  "language_info": {
   "codemirror_mode": {
    "name": "ipython",
    "version": 3
   },
   "file_extension": ".py",
   "mimetype": "text/x-python",
   "name": "python",
   "nbconvert_exporter": "python",
   "pygments_lexer": "ipython3",
   "version": "3.11.7"
  }
 },
 "nbformat": 4,
 "nbformat_minor": 5
}
