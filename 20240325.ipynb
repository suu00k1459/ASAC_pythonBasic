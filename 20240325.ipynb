{
 "cells": [
  {
   "cell_type": "markdown",
   "id": "424cb8a8-6929-4aef-9197-8528f4b92a6e",
   "metadata": {},
   "source": [
    "case1) 1개의 값 파이썬이 만들어 둔 자료형\n",
    "    -> 숫자 : 정수, 실수, 부호, 복소수 등...\n",
    "            기본적인 파있너의 자료형이 불편해서 만든 여러 패키지\n",
    "            수치연산을 파이썬으로 하려고 하니 : Numpy etc\n",
    "    -> 논리값 : T/F\n",
    "    -> 문자 : \"a\", 'a', '''a''',\"\"\"a\"\"\"\n",
    "    \n",
    "case2) 여러개 값 나타내는 자료형\n",
    "    -> 리스트 : [값, 값, 값..] => 추가, 제거 \n",
    "    -> 튜플 : (값, 값, 값...) => 추가, 제거 X : 조작 불가능/ 함수의 결과값들에 대해서 나타낼 때.\n",
    "    --> \n",
    "    -> 집합  : { 값, 값, 값 ..} => 수학적인 집합/ 거의 사용 안하는데 코테 할 때 사용하면 편할 수 있음\n",
    "    -> Dict 미니 DB : { 키:값, 키:값, 키:값 } => 값에 접근할 때 인덱스 대신 키값 중심으로 접근.\n",
    "                                            => dict.items() 키, 값 분리해서 한번에 사용 가능\n",
    "                                               list에서는 enumerate(list) : 정수인덱스, 값 분리\n",
    "\n",
    "\n",
    "골격 : 반복/ 제어문\n",
    "1) 제어문 : if~elif~ else\n",
    "       => 이분법적으로 조건을 명확하게 해서 갈라줄 것.\n",
    "       => else 에 대해 특별하게 없을 때 pass 사용\n",
    "2) 반복문 : for, while\n",
    "       => 데분에서는 보통 for\n",
    "       => 코테에서는 while 문 (탐색, 최단거리 등)\n",
    "       => for : 딱 주어진 값들을 롤링해주기/ fo 대표문자 in 여러 개 값(list, tuple, dict)[iterator형식]\n",
    "       => while 조건 : 조건이 만족할 때까지 주구장 돌아감, 탈출 조건에 대한 설계를 하는 것\n",
    "       => range(시작, 끝, 간격)"
   ]
  },
  {
   "cell_type": "code",
   "execution_count": 6,
   "id": "d0b7421f-663a-4d86-960d-057a6b4c7409",
   "metadata": {},
   "outputs": [],
   "source": [
    "#간단한 연습문제\n",
    "#1)\n",
    "a= [\"a\",\"b\",\"c\",\"d\",\"e\",\"f\",\"g\",\"c\",\"i\"]\n",
    "#a라는 리스트가 주어질 때, 원소 c만 제거하고 싶은 경우"
   ]
  },
  {
   "cell_type": "code",
   "execution_count": 7,
   "id": "4aee24d6-7734-46e6-8f4e-f3fa39dcabde",
   "metadata": {},
   "outputs": [
    {
     "name": "stdout",
     "output_type": "stream",
     "text": [
      "['a', 'b', 'c', 'd', 'e', 'f', 'g', 'c', 'i']\n"
     ]
    }
   ],
   "source": [
    "print(a)"
   ]
  },
  {
   "cell_type": "code",
   "execution_count": 8,
   "id": "b0883470-602b-4d4e-a82c-f7c063b02958",
   "metadata": {},
   "outputs": [
    {
     "name": "stdout",
     "output_type": "stream",
     "text": [
      "['a', 'b', 'd', 'e', 'f', 'g', 'c', 'i']\n",
      "['a', 'b', 'd', 'e', 'f', 'g', 'i']\n"
     ]
    }
   ],
   "source": [
    "for i in a :\n",
    "    if i==\"c\": #대문자냐 소문자냐 정확히 할 것.\n",
    "        a.remove(i) \n",
    "        print(a)"
   ]
  },
  {
   "cell_type": "code",
   "execution_count": 32,
   "id": "9b0df350-4ec0-43b1-a928-d01f0d12b612",
   "metadata": {},
   "outputs": [
    {
     "name": "stdout",
     "output_type": "stream",
     "text": [
      "['a', 'b', 'd', 'e', 'f', 'g', 'i']\n"
     ]
    }
   ],
   "source": [
    "b= [\"a\",\"b\",\"c\",\"d\",\"e\",\"f\",\"g\",\"c\",\"i\"] # 멀티할당이 가능하다.\n",
    "for k, d in enumerate(b):\n",
    "    if d ==\"c\": \n",
    "       b.pop(k)\n",
    "print(b)"
   ]
  },
  {
   "cell_type": "code",
   "execution_count": 33,
   "id": "7fb74b7c-13ff-4633-90db-a62f3a56dc9f",
   "metadata": {},
   "outputs": [
    {
     "data": {
      "text/plain": [
       "['a', 'b', 'd', 'e', 'f', 'g', 'i']"
      ]
     },
     "execution_count": 33,
     "metadata": {},
     "output_type": "execute_result"
    }
   ],
   "source": [
    "c= [\"a\",\"b\",\"c\",\"d\",\"e\",\"f\",\"g\",\"c\",\"i\"]\n",
    "c.remove(\"c\")\n",
    "c.remove(\"c\")\n",
    "c"
   ]
  },
  {
   "cell_type": "code",
   "execution_count": 29,
   "id": "653a2c76-5e36-44ca-808e-1c415ec5c864",
   "metadata": {},
   "outputs": [
    {
     "name": "stdout",
     "output_type": "stream",
     "text": [
      "['a', 'b', 'd', 'e', 'f', 'g', 'i']\n"
     ]
    }
   ],
   "source": [
    "#방법1 시도 : 값 자체로 롤링)\n",
    "a= [\"a\",\"b\",\"c\",\"d\",\"e\",\"f\",\"g\",\"c\",\"i\"]\n",
    "#--> c의 값하고 다를 때만.. 새로운 b에다 추가!\n",
    "b=[]\n",
    "for i in a:\n",
    "    if i !=\"c\" :\n",
    "        b.append(i)\n",
    "    else: #원소의 값이 c인 경우\n",
    "        pass\n",
    "print(b)"
   ]
  },
  {
   "cell_type": "code",
   "execution_count": 30,
   "id": "7768da38-3c24-4ec9-b487-8ecd487a2240",
   "metadata": {},
   "outputs": [],
   "source": [
    "#방법2 시도 : 개별 값 접근을 위한 필요한 인덱스로 롤링!\n",
    "# for i in range(0,len(a), 1):\n",
    "b=[]\n",
    "for i in range(len(a)):\n",
    "    if a[i] !=\"c\":\n",
    "        b.append(a[i])\n",
    "    else :\n",
    "        pass"
   ]
  },
  {
   "cell_type": "markdown",
   "id": "99862e1e-19c0-4a7c-8ada-38dc8fae3bd3",
   "metadata": {},
   "source": [
    "== 조건을 사용할 때는 대소문자, 공백문자 신경쓸 것\n",
    "원하는 조건에 맞춰서 코드를 짜는데 ==\"c\" 일 때 pass 하는 것처럼 원하는 조건일 때 pass 하도록 하는 코드는 잘 안 짬"
   ]
  },
  {
   "cell_type": "code",
   "execution_count": 31,
   "id": "19d83203-512d-4790-ba5e-07dc2b64b75f",
   "metadata": {},
   "outputs": [
    {
     "name": "stdout",
     "output_type": "stream",
     "text": [
      "0\n",
      "a\n",
      "1\n",
      "b\n",
      "2\n",
      "c\n",
      "3\n",
      "d\n",
      "4\n",
      "e\n",
      "5\n",
      "f\n",
      "6\n",
      "g\n",
      "7\n",
      "c\n",
      "8\n",
      "i\n"
     ]
    }
   ],
   "source": [
    "#+ 정수값/ 실제값 같이  : 리스트 -> enumerae()\n",
    "for i in enumerate(a):\n",
    "    print(i[0])\n",
    "    print(i[1])\n",
    "    "
   ]
  },
  {
   "cell_type": "code",
   "execution_count": 35,
   "id": "8bb93678-dc59-49f5-9039-65c6f1c3b2dd",
   "metadata": {},
   "outputs": [],
   "source": [
    "### 중요 ! 파이썬에서 주로 사용하는 방식 matlab\n",
    "# => 리스트 컴프리핸션\n",
    "# 장점 : 코드가 간결!\n",
    "# 단점 : 너무 중첩해서 사용하면 오히려 복잡\n",
    "# => 적당한 복잡도일 때 사용\n",
    "# 기능 : 값을 돌려가면서(for), 원하는 값을 모으는 역할\n",
    "# 형식 : [모을값 for i in list ]"
   ]
  },
  {
   "cell_type": "code",
   "execution_count": 36,
   "id": "2d7d3662-34f7-4ae4-9b7c-db359234626f",
   "metadata": {},
   "outputs": [
    {
     "data": {
      "text/plain": [
       "['a', 'b', 'c', 'd', 'e', 'f', 'g', 'c', 'i']"
      ]
     },
     "execution_count": 36,
     "metadata": {},
     "output_type": "execute_result"
    }
   ],
   "source": [
    "b=[]\n",
    "for i in a:\n",
    "    #print(i)\n",
    "    b.append(i)\n",
    "b"
   ]
  },
  {
   "cell_type": "code",
   "execution_count": 39,
   "id": "f68f2586-5006-4d9c-aba1-9821e265f096",
   "metadata": {},
   "outputs": [
    {
     "data": {
      "text/plain": [
       "['a', 'b', 'c', 'd', 'e', 'f', 'g', 'c', 'i']"
      ]
     },
     "execution_count": 39,
     "metadata": {},
     "output_type": "execute_result"
    }
   ],
   "source": [
    "b= [i for i in a ]\n",
    "b"
   ]
  },
  {
   "cell_type": "code",
   "execution_count": 40,
   "id": "6a0bea77-dbb8-4320-abbd-7be437b7c084",
   "metadata": {},
   "outputs": [],
   "source": [
    "#for + if 같이 사용해서 원하는 조건에 맞는 친구들만 모을 수 있고, 필터링을 쉽게 구현할 수 있음\n",
    "# 코드 구조상 for ~ if ~ 값들을 모은다 => 리스트 컴프리핸션\n",
    "# 각기 사용할 때 : [모을 값 if 조건 else 모을 값 for 문 ]"
   ]
  },
  {
   "cell_type": "code",
   "execution_count": null,
   "id": "e06987df-bd65-406a-934b-e9ac789377de",
   "metadata": {},
   "outputs": [],
   "source": [
    "#원래 코드\n",
    "b=[]\n",
    "for i in a:\n",
    "    if i !=\"c\": # --> 필터링역할\n",
    "        b.append(i)\n",
    "print(b)"
   ]
  },
  {
   "cell_type": "code",
   "execution_count": 41,
   "id": "66a25697-cd2b-491d-a646-3894409f3e86",
   "metadata": {},
   "outputs": [],
   "source": [
    "b=[i for i in a if i !=\"c\"] #한줄로 가능~"
   ]
  },
  {
   "cell_type": "code",
   "execution_count": 42,
   "id": "e16bb398-6454-498a-964a-aa620d712c75",
   "metadata": {},
   "outputs": [
    {
     "data": {
      "text/plain": [
       "['a', 'b', 'd', 'e', 'f', 'g', 'i']"
      ]
     },
     "execution_count": 42,
     "metadata": {},
     "output_type": "execute_result"
    }
   ],
   "source": [
    "b"
   ]
  },
  {
   "cell_type": "code",
   "execution_count": 48,
   "id": "b0085ec3-58d5-4e0c-a851-cb3af6e468c4",
   "metadata": {},
   "outputs": [
    {
     "data": {
      "text/plain": [
       "['bh', 'dh', 'fh', 'ch']"
      ]
     },
     "execution_count": 48,
     "metadata": {},
     "output_type": "execute_result"
    }
   ],
   "source": [
    "# 참고) 위에 있던 a리스트에 a의 홀수번째 위치한 값들에 대해서만 \"h\"문자를 붙여서 모아보세요. (1줄로)\n",
    "# if 문 하나 정도로 원하는 값을 필터링 \n",
    "b= [a[i]+\"h\" for i in range(len(a)) if i%2==1 ]\n",
    "b"
   ]
  },
  {
   "cell_type": "code",
   "execution_count": 50,
   "id": "3a011298-5f57-4c14-9f5f-bdacbe02b8f9",
   "metadata": {},
   "outputs": [
    {
     "ename": "SyntaxError",
     "evalue": "invalid syntax (1778841232.py, line 1)",
     "output_type": "error",
     "traceback": [
      "\u001b[1;36m  Cell \u001b[1;32mIn[50], line 1\u001b[1;36m\u001b[0m\n\u001b[1;33m    c = [k for i in range(len(a)) if i%2==1 k=a[i]+\"h\" else k=a[i]]\u001b[0m\n\u001b[1;37m                                            ^\u001b[0m\n\u001b[1;31mSyntaxError\u001b[0m\u001b[1;31m:\u001b[0m invalid syntax\n"
     ]
    }
   ],
   "source": [
    "c = [myfucn(k) for i in range(len(a)) if i%2==1 a[i]+\"h\" else k=a[i]]"
   ]
  },
  {
   "cell_type": "code",
   "execution_count": 52,
   "id": "905c3cdc-abe9-4771-afdf-2b0d04130c56",
   "metadata": {},
   "outputs": [
    {
     "ename": "SyntaxError",
     "evalue": "expected 'else' after 'if' expression (1955358476.py, line 1)",
     "output_type": "error",
     "traceback": [
      "\u001b[1;36m  Cell \u001b[1;32mIn[52], line 1\u001b[1;36m\u001b[0m\n\u001b[1;33m    c = [k  if i%2==1 k=a[i]+\"h\" else k=a[i] for i in range(len(a))]\u001b[0m\n\u001b[1;37m         ^\u001b[0m\n\u001b[1;31mSyntaxError\u001b[0m\u001b[1;31m:\u001b[0m expected 'else' after 'if' expression\n"
     ]
    }
   ],
   "source": [
    "c = [k  if i%2==1 k=a[i]+\"h\" else k=a[i] for i in range(len(a))]"
   ]
  },
  {
   "cell_type": "code",
   "execution_count": null,
   "id": "dffb7ea4-c617-476e-9468-e9e531679337",
   "metadata": {},
   "outputs": [],
   "source": [
    "#중요!\n",
    "# 리스트 컴프리 핸션 : for ~ if ~ print/append()\n",
    "#                    [모을대상 for ~ if ~]\n",
    "# 주로 사용되는 역할 : 필터링! (복제..)\n",
    "# 모을 대상이 하나가 아니라 여러 개도 가능"
   ]
  },
  {
   "cell_type": "code",
   "execution_count": 54,
   "id": "e06b0236-98af-4ac2-a7dc-c9800f4a430d",
   "metadata": {},
   "outputs": [
    {
     "data": {
      "text/plain": [
       "['ae', 'bo', 'ce', 'do', 'ee', 'fo', 'ge', 'co', 'ie']"
      ]
     },
     "execution_count": 54,
     "metadata": {},
     "output_type": "execute_result"
    }
   ],
   "source": [
    "# 참고) 질문 사항 --> 짝수일 때는 e를 더하고, 홀수일 때는 o를 더하자\n",
    "# --> case by case\n",
    "[v+\"e\" if i%2==0 else v+\"o\" for i,v in enumerate(a)]"
   ]
  },
  {
   "cell_type": "code",
   "execution_count": 55,
   "id": "b946ab43-28b9-407f-ab41-24dade85dae0",
   "metadata": {},
   "outputs": [],
   "source": [
    "# 연습!\n",
    "a= [[\"a\",\"b\",\"c\",\"d\"],\"f\",\"g\",[\"c\",\"i\"]]\n",
    "#하려고 하는 일 : a의 원소 중에서 c만 제거해서\n",
    "# b= [\"a\",\"b,\"d\",\"f\",\"g\",\"i\"]"
   ]
  },
  {
   "cell_type": "code",
   "execution_count": 63,
   "id": "ffe6b2ef-0f07-41e5-b0d2-7728d90ca322",
   "metadata": {},
   "outputs": [
    {
     "data": {
      "text/plain": [
       "['a', 'b', 'd', 'f', 'g', 'i']"
      ]
     },
     "execution_count": 63,
     "metadata": {},
     "output_type": "execute_result"
    }
   ],
   "source": [
    "b=[]\n",
    "for i in a:\n",
    "    for j in i:\n",
    "        if j!=\"c\":\n",
    "            b.append(j)\t\n",
    "b"
   ]
  },
  {
   "cell_type": "code",
   "execution_count": 69,
   "id": "311ef652-2a5b-4011-9c82-e31995dd36e6",
   "metadata": {},
   "outputs": [
    {
     "name": "stdout",
     "output_type": "stream",
     "text": [
      "['a', 'b', 'd', 'f', 'g', 'i']\n"
     ]
    }
   ],
   "source": [
    "b=[]\n",
    "for i in range(len(a)):\n",
    "    for j in range(len(a[i])):\n",
    "        if a[i][j]!=\"c\":\n",
    "            b.append(a[i][j])\n",
    "print(b)"
   ]
  },
  {
   "cell_type": "code",
   "execution_count": null,
   "id": "66daa415-6717-4db0-9962-6f17ca9ec874",
   "metadata": {},
   "outputs": [],
   "source": []
  },
  {
   "cell_type": "code",
   "execution_count": null,
   "id": "f73b65a9-fd7f-4b47-af54-64b2f79f99ad",
   "metadata": {},
   "outputs": [],
   "source": [
    "# a의 개별 언소를 접근하는 규칙을 일관성있게 만드어 주기 위해서!\n",
    "# 정수인덱스로 할 때\n",
    "# 파이썬은 그냥 값으로 돌려도 됨."
   ]
  },
  {
   "cell_type": "code",
   "execution_count": null,
   "id": "6da89bdf-fd2f-466b-9908-7687d4a38b25",
   "metadata": {},
   "outputs": [],
   "source": [
    "# 덩어리 중심의 코드 정리 : 함수 -> 클래스 -> 패키지"
   ]
  },
  {
   "cell_type": "code",
   "execution_count": 71,
   "id": "d9bb4d1a-16e1-491e-87d5-b179ef169a94",
   "metadata": {},
   "outputs": [],
   "source": [
    "# 가장 기본적인 구조화 : 함수\n",
    "# --> 3가지 요소 : 입력,출력, 이출력의 관계(기능)\n",
    "# --> 중심은 무엇을 수행할지에 대한 기능중심\n",
    "# --> 내부는 내가 만들면 , 1번 만들면 더 이상 신경안씀. 남이 만든거면 그냥 내부는 생각안하고 가져다 쓰기"
   ]
  },
  {
   "cell_type": "code",
   "execution_count": null,
   "id": "0d4a1dc0-d998-491a-8ec4-dcfb8a2ebee6",
   "metadata": {},
   "outputs": [],
   "source": [
    "def 함수명(입력인자) :\n",
    "    무엇을 할지 기술\n",
    "    return 출력"
   ]
  },
  {
   "cell_type": "code",
   "execution_count": 74,
   "id": "e6de7a34-6bcd-4a9c-acfc-de6b9ae6520f",
   "metadata": {},
   "outputs": [],
   "source": [
    "# 예) 파이선에 더하는 함수가 있음 -> sum\n",
    "# 조금 불편할 때 sum([10,20]) -> sum2(10,20):30\n",
    "\n",
    "# 입력: 숫자 2개를 입력으로 받아서\n",
    "# 기능 : 두 입력받은 숫자의 합 출력\n",
    "# 출력 : 입력받은 두 수의 합의 결과\n",
    "# --> 이러한 기능을 한 번이 아니라 여러번 반복해서, 여러번 사용할 것 같으면 만들고 계속 가져다 씀\n",
    "def sum2(a,b):\n",
    "    #입력으로 받은 a,b 를 가지고 무엇을 할지 기술, 파이썬 문법으로 구현\n",
    "    result = a+b\n",
    "    return result"
   ]
  },
  {
   "cell_type": "code",
   "execution_count": 76,
   "id": "8e8a2f17-7c3b-4bf8-9bc2-be278eef6c29",
   "metadata": {},
   "outputs": [
    {
     "data": {
      "text/plain": [
       "30"
      ]
     },
     "execution_count": 76,
     "metadata": {},
     "output_type": "execute_result"
    }
   ],
   "source": [
    "a=999\n",
    "sum2(10,20) # 함수 내부의 a와 외부 코드상의 변수 a는 다름\n"
   ]
  },
  {
   "cell_type": "code",
   "execution_count": 79,
   "id": "5d6a6b49-afc8-4041-8334-d534296d6cc0",
   "metadata": {},
   "outputs": [],
   "source": [
    "#차별점 : 입력이 가변적으로 여러개가 될 때에 대한 처리\n",
    "#여러개의 가변적 입력에 대해 처리할 때 : *args\n",
    "# ==> 파이썬의 리스트처럼 생각\n",
    "\n",
    "def sumrandom(*args):\n",
    "    # args 는 파이썬의 리스트처럼\n",
    "    # args = [10,20,30], [1,2,3,1,2,3,3,3] 같은 리스트임\n",
    "    # 누적합을 처리할 변수에 초기값 0을 설정\n",
    "    temp = 0\n",
    "    #입력으로 받은 것들을 롤링 => 값 자체로 롤링\n",
    "    for i in args: #--> 입력받은 리스트 값을 하나씩 뽑아서 i 에 할당해주는 역할\n",
    "        temp +=i  # temp = temp + i\n",
    "    return temp"
   ]
  },
  {
   "cell_type": "code",
   "execution_count": 80,
   "id": "a152e8cc-db44-4257-8cb2-4c033fb0581e",
   "metadata": {},
   "outputs": [
    {
     "data": {
      "text/plain": [
       "30"
      ]
     },
     "execution_count": 80,
     "metadata": {},
     "output_type": "execute_result"
    }
   ],
   "source": [
    "sumrandom(10,20)"
   ]
  },
  {
   "cell_type": "code",
   "execution_count": 81,
   "id": "682b63ba-7b8f-440b-8bd5-ee5d0437bf30",
   "metadata": {},
   "outputs": [
    {
     "data": {
      "text/plain": [
       "36"
      ]
     },
     "execution_count": 81,
     "metadata": {},
     "output_type": "execute_result"
    }
   ],
   "source": [
    "sumrandom(10,1,1,20,4)"
   ]
  },
  {
   "cell_type": "code",
   "execution_count": 82,
   "id": "11bc4836-c244-4608-92d3-057b957a3e57",
   "metadata": {},
   "outputs": [],
   "source": [
    "# 참고 ) 출력을 여러개 내보내는 경우\n",
    "#     -> 입력 2개 숫자 , 사칙연산결과 4개를 출력\n",
    "def multiple2(a,b):\n",
    "    return a+b, a-b, a*b, a/b"
   ]
  },
  {
   "cell_type": "code",
   "execution_count": 83,
   "id": "90662aa4-503f-4e51-9a9d-e1a57779c8bb",
   "metadata": {},
   "outputs": [
    {
     "data": {
      "text/plain": [
       "(30, -10, 200, 0.5)"
      ]
     },
     "execution_count": 83,
     "metadata": {},
     "output_type": "execute_result"
    }
   ],
   "source": [
    "multiple2(10,20)"
   ]
  },
  {
   "cell_type": "code",
   "execution_count": 84,
   "id": "c133dcfb-f327-4c49-8844-b0c3f804fdac",
   "metadata": {},
   "outputs": [],
   "source": [
    "# 함수 : 입,출력 중심으로 내가 무엇을 할지 기능화\n",
    "# 한번 만들면 재 사용 가능 : 효율 극대화\n",
    "# 2번정도 사용성이 낮은 경우 : lamda 함수 사용\n",
    "# ex) 데이터 전처리할 때 id_001, id_002 을 1,2,3 으로 바꿔주고 싶을 때 (자주 쓰진 않지만 기능이 필요할 때)\n",
    "# ex) 코테에서 나만의 기준에 대해 정렬이 필요할 때\n",
    "# 양식) lambda 입력인자들 : 입력인자들로 무엇을 할지만 기술\n",
    "# --> 단점 :재활용이 불가능!\n",
    "# "
   ]
  },
  {
   "cell_type": "code",
   "execution_count": 85,
   "id": "3565da94-1f49-40a6-8297-ff375f00458e",
   "metadata": {},
   "outputs": [
    {
     "data": {
      "text/plain": [
       "40"
      ]
     },
     "execution_count": 85,
     "metadata": {},
     "output_type": "execute_result"
    }
   ],
   "source": [
    "(lambda a, b : a+b)(10,30)"
   ]
  },
  {
   "cell_type": "code",
   "execution_count": null,
   "id": "d9121edd-0c03-4606-8d91-9bd54cc5f2bb",
   "metadata": {},
   "outputs": [],
   "source": [
    "# lambda 중요\n",
    "# 데이터 전처리 : apply + 어떤 일을 죽 적용할지 기술할 때\n",
    "# 코테에서 : 정렬을 활용한 나만의정렬기준을 작성할 때"
   ]
  },
  {
   "cell_type": "code",
   "execution_count": null,
   "id": "0d190cea-88c4-4561-adf5-8c349431a525",
   "metadata": {},
   "outputs": [],
   "source": [
    "#참고) 입력을 사람이 입력하도록 하자\n",
    "# -> 가변적인 입력ㅇ르 받을 때 파이썬은 input()함수\n",
    "# 입력 : 키보드\n",
    "# 기능 : 키보드 입력값을 문자열\n",
    "# 출력 : 누른 키보드값 문자열"
   ]
  },
  {
   "cell_type": "code",
   "execution_count": 86,
   "id": "2ae72ce9-760f-4083-a50b-9bbfc61ff864",
   "metadata": {},
   "outputs": [
    {
     "name": "stdin",
     "output_type": "stream",
     "text": [
      "성적을 입력하세요 90\n"
     ]
    }
   ],
   "source": [
    "a = input(\"성적을 입력하세요\") \n",
    "ㄴ"
   ]
  },
  {
   "cell_type": "code",
   "execution_count": 87,
   "id": "81b3229d-c7f8-4c76-9e7f-455eae5519da",
   "metadata": {},
   "outputs": [],
   "source": [
    "# 과목이 늘어나면 어떻게 할 것인가?\n",
    "# --> crtl c/v 고정적인 부분, 가변적인 부분\n",
    "# --> 가변적인 직접 하드코딩을 해야함.\n",
    "# 가변적인 부분 : 과목명\n",
    "# 고정적인 부분 : ~~.append(int~~~)"
   ]
  },
  {
   "cell_type": "code",
   "execution_count": 88,
   "id": "6a43ce1e-110b-485f-a255-2f38869c49e2",
   "metadata": {},
   "outputs": [
    {
     "data": {
      "text/plain": [
       "['국어', '수학', '영어', '사회', '과학', '음악', '미술']"
      ]
     },
     "execution_count": 88,
     "metadata": {},
     "output_type": "execute_result"
    }
   ],
   "source": [
    "subjects = [\"국어\",\"수학\",\"영어\",\"사회\",\"과학\",\"음악\",\"미술\"]\n",
    "subjects"
   ]
  },
  {
   "cell_type": "code",
   "execution_count": 90,
   "id": "d866fe34-c85b-4413-a112-10f886bef6d9",
   "metadata": {},
   "outputs": [
    {
     "name": "stdin",
     "output_type": "stream",
     "text": [
      "국어점수를 입력하세요 10\n",
      "수학점수를 입력하세요 20\n",
      "영어점수를 입력하세요 30\n",
      "사회점수를 입력하세요 40\n",
      "과학점수를 입력하세요 5\n",
      "음악점수를 입력하세요 40\n",
      "미술점수를 입력하세요 60\n"
     ]
    },
    {
     "data": {
      "text/plain": [
       "['10', '20', '30', '40', '5', '40', '60']"
      ]
     },
     "execution_count": 90,
     "metadata": {},
     "output_type": "execute_result"
    }
   ],
   "source": [
    "zumsu_list =[]\n",
    "for sub in subjects:\n",
    "    txt = input(sub+ \"점수를 입력하세요\")\n",
    "    zumsu_list.append(txt)\n",
    "zumsu_list"
   ]
  },
  {
   "cell_type": "code",
   "execution_count": 91,
   "id": "f941ba98-3098-4858-8c6e-1b065b8f88a2",
   "metadata": {},
   "outputs": [],
   "source": [
    "#문제 ) a=[\"one\", \"two\", \"three\", 'four\"]\n",
    "#for 문 이용해서\n",
    "#b=[\"one1\", \"two2\", \"three3\", 'four4\"] 만드세요"
   ]
  },
  {
   "cell_type": "code",
   "execution_count": null,
   "id": "aabc6492-dad7-4f17-a273-cb93b1332690",
   "metadata": {},
   "outputs": [],
   "source": []
  },
  {
   "cell_type": "code",
   "execution_count": 99,
   "id": "425ef37e-f280-4096-ac90-9d75f5e50946",
   "metadata": {},
   "outputs": [
    {
     "data": {
      "text/plain": [
       "['one1', 'two2', 'three3', 'four4']"
      ]
     },
     "execution_count": 99,
     "metadata": {},
     "output_type": "execute_result"
    }
   ],
   "source": [
    "#시도 1 : for range 방법(정수인덱스)\n",
    "a=[\"one\", \"two\", \"three\", \"four\"]\n",
    "b= [a[i]+str((i+1)) for i in range(len(a))]\n",
    "b    "
   ]
  },
  {
   "cell_type": "code",
   "execution_count": 106,
   "id": "6420f85c-56fa-4699-8d78-04f42b9aeabe",
   "metadata": {},
   "outputs": [
    {
     "data": {
      "text/plain": [
       "['one1', 'two2', 'three3', 'four4']"
      ]
     },
     "execution_count": 106,
     "metadata": {},
     "output_type": "execute_result"
    }
   ],
   "source": [
    "#시도 2 : for & a 바로 방법\n",
    "n=0\n",
    "c=[]\n",
    "for i in a :\n",
    "    n+=1\n",
    "    c.append(i+str(n))\n",
    "c"
   ]
  },
  {
   "cell_type": "code",
   "execution_count": 107,
   "id": "e02cde0a-bad1-4d4c-88a7-639a365a547d",
   "metadata": {},
   "outputs": [],
   "source": [
    "#값은 바로 접근이 되는데\n",
    "# 덧붙일 숫자의 값은 없음\n",
    "# 없으면 만들면 됨. 하나씩 증가하는 숫자 변수를 만듬(counting!!!)"
   ]
  },
  {
   "cell_type": "code",
   "execution_count": 114,
   "id": "088f14b0-f880-4550-a6c9-61eed4001326",
   "metadata": {},
   "outputs": [
    {
     "name": "stdout",
     "output_type": "stream",
     "text": [
      "one1\n",
      "two2\n",
      "three3\n",
      "four4\n"
     ]
    }
   ],
   "source": [
    "a=[\"one\", \"two\", \"three\", \"four\"]\n",
    "cnt = 0\n",
    "for i in a :\n",
    "    cnt+=1\n",
    "    print(i+str(cnt))"
   ]
  },
  {
   "cell_type": "code",
   "execution_count": 117,
   "id": "2f049b61-73e2-4d3f-a7a4-32a89ea36ae8",
   "metadata": {},
   "outputs": [],
   "source": [
    "#참고) a가 어떤 자료형이냐에 따라서 다르게 동작을 함!\n",
    "# a : 리스트면 a[정수, 슬라이싱]\n",
    "# a : 딕셔너리 a[키값] : 키값 정확히 매칭할 것!\n",
    "# a : numpy array a[정수, 슬라이싱, 리스트]\n",
    "# a : pandas의 DF, Series a[정수, 내가 만든 인덱스]"
   ]
  },
  {
   "cell_type": "code",
   "execution_count": 122,
   "id": "7a503648-1140-4c08-b57f-04ffb11fd212",
   "metadata": {},
   "outputs": [],
   "source": [
    "a={\"A\":90, \"B\":80, \"C\":70}"
   ]
  },
  {
   "cell_type": "code",
   "execution_count": 123,
   "id": "a87579e9-ae50-4cc6-9949-c71712443469",
   "metadata": {},
   "outputs": [
    {
     "name": "stdout",
     "output_type": "stream",
     "text": [
      "A\n",
      "B\n",
      "C\n"
     ]
    }
   ],
   "source": [
    "#참고) dict 돌리기\n",
    "for i in a : #--> key만 돌리게 됨\n",
    "    print(i)"
   ]
  },
  {
   "cell_type": "code",
   "execution_count": 124,
   "id": "2b7e042e-f150-42fc-aafb-1ba620c49178",
   "metadata": {},
   "outputs": [
    {
     "name": "stdout",
     "output_type": "stream",
     "text": [
      "90\n",
      "80\n",
      "70\n"
     ]
    }
   ],
   "source": [
    "for i in a.values():\n",
    "    print(i)"
   ]
  },
  {
   "cell_type": "code",
   "execution_count": 125,
   "id": "ede293ff-95e1-4dc0-98ab-caf924a0004a",
   "metadata": {},
   "outputs": [
    {
     "name": "stdout",
     "output_type": "stream",
     "text": [
      "A 90\n",
      "B 80\n",
      "C 70\n"
     ]
    }
   ],
   "source": [
    "for k,v in a.items():\n",
    "    print(k,v)"
   ]
  },
  {
   "cell_type": "code",
   "execution_count": 127,
   "id": "67011e27-a6ef-4b93-b094-f30513d33cf3",
   "metadata": {},
   "outputs": [
    {
     "data": {
      "text/plain": [
       "'C'"
      ]
     },
     "execution_count": 127,
     "metadata": {},
     "output_type": "execute_result"
    }
   ],
   "source": [
    "max(a) # 딕셔너리에서 키값을 기준으로 max 값을 구해서 C가 나온 것 max는 잘못이 없다ㅠ"
   ]
  },
  {
   "cell_type": "code",
   "execution_count": 128,
   "id": "a4857774-3628-456f-9e30-689d8f873f17",
   "metadata": {},
   "outputs": [
    {
     "data": {
      "text/plain": [
       "90"
      ]
     },
     "execution_count": 128,
     "metadata": {},
     "output_type": "execute_result"
    }
   ],
   "source": [
    "max(a.values()) #점수에 해당하는 values 값 중 max 값 찾을 거."
   ]
  },
  {
   "cell_type": "code",
   "execution_count": 129,
   "id": "a76b581d-df94-45d5-aa58-4e6666341889",
   "metadata": {},
   "outputs": [
    {
     "data": {
      "text/plain": [
       "'A'"
      ]
     },
     "execution_count": 129,
     "metadata": {},
     "output_type": "execute_result"
    }
   ],
   "source": [
    "min(a)"
   ]
  },
  {
   "cell_type": "code",
   "execution_count": 130,
   "id": "ed5e855b-4446-42a4-b472-52223148a8c0",
   "metadata": {},
   "outputs": [],
   "source": [
    "#문제3) a={\"A\":30,\"B\":50,\"C\":10,\"D\":43,\"E\":85,\"F\":76,\"G\":32}\n",
    "#      이 중에서 최고점과 최저점이 누구인지 찾아보기"
   ]
  },
  {
   "cell_type": "code",
   "execution_count": 133,
   "id": "57cb9a43-db6b-4506-a0d2-954161de1c2f",
   "metadata": {},
   "outputs": [
    {
     "name": "stdout",
     "output_type": "stream",
     "text": [
      "최소점 학생 :  C\n",
      "최고점 학생 :  85\n"
     ]
    }
   ],
   "source": [
    "# 사람 이름  : 키에서 찾아야 함\n",
    "# itmes 이용해서 한 번에 찾기\n",
    "\n",
    "\n",
    "a={\"A\":30,\"B\":50,\"C\":10,\"D\":43,\"E\":85,\"F\":76,\"G\":32}\n",
    "\n",
    "min_val = min(a.values())\n",
    "max_val = max(a.values())\n",
    "\n",
    "#전체 인원에 대해서 돌려가면서, 최저점인지, 최고점인지 물어보고 싶다.\n",
    "# k,v : items() 돌리려고 함.(교육용)\n",
    "for name, score in a.items():\n",
    "    if score ==min_val:\n",
    "        print(\"최소점 학생 : \", name)\n",
    "    elif score ==max_val:\n",
    "        print(\"최고점 학생 : \", score)\n",
    "    else :\n",
    "        pass\n"
   ]
  },
  {
   "cell_type": "code",
   "execution_count": 134,
   "id": "3e70dc4f-829c-4751-a95e-3cf97200f6f9",
   "metadata": {},
   "outputs": [],
   "source": [
    "# 문제) a=[1,2,3,4,5] 리스트가 있을 때, [1,3,5] 의 리스트로 만들어 보세요\n",
    "\n",
    "# --> 기존 값들에서 필요한 값들만 필터링을 하자!"
   ]
  },
  {
   "cell_type": "code",
   "execution_count": 137,
   "id": "001731b8-e1f8-4490-8928-c2ed1749a6cc",
   "metadata": {},
   "outputs": [
    {
     "data": {
      "text/plain": [
       "[1, 3, 5]"
      ]
     },
     "execution_count": 137,
     "metadata": {},
     "output_type": "execute_result"
    }
   ],
   "source": [
    "#sol1) 내가 제거할 값들에 규칙이 있는가? yes!\n",
    "#     규칙 : 홀수! -> 2로 나눠서 1인 값을 구하자!\n",
    "a=[1,2,3,4,5]\n",
    "b=[]\n",
    "for i in a:\n",
    "    if i%2 ==1:\n",
    "        b.append(i)\n",
    "b"
   ]
  },
  {
   "cell_type": "code",
   "execution_count": 138,
   "id": "1974ad37-0e11-44ad-a301-0796b21267c1",
   "metadata": {},
   "outputs": [],
   "source": [
    "# 리스트 컴프리핸션\n",
    "c= [i for i in a if i%2==1]"
   ]
  },
  {
   "cell_type": "code",
   "execution_count": 139,
   "id": "86965fab-479b-46eb-ada7-3fc1555ca1b7",
   "metadata": {},
   "outputs": [
    {
     "name": "stdout",
     "output_type": "stream",
     "text": [
      "1\n",
      "3\n",
      "5\n"
     ]
    }
   ],
   "source": [
    "#sol2) 규칙이 없을 경우 --> 데이터 수집/ 전처리할 때 예외 케이스\n",
    "#     -> 데이터 전처리 같은 예외처리에 규칙이 없는 경우에 한해서\n",
    "# 할 수 있는 일은 그냥 예외처리할 것들을 리스트업 하는 것\n",
    "\n",
    "\n",
    "a = [1,2,3,4,5]\n",
    "for i in a :\n",
    "    if (i==1) or (i==3) or (i==5):\n",
    "        print(i) #--- 예외처리가 많아질 경우 어떻게 할 것인가..."
   ]
  },
  {
   "cell_type": "code",
   "execution_count": 140,
   "id": "c6feb5a2-4ea5-4c51-bfc3-dc5ba40add2e",
   "metadata": {},
   "outputs": [
    {
     "name": "stdout",
     "output_type": "stream",
     "text": [
      "1\n",
      "3\n",
      "3\n",
      "3\n",
      "5\n"
     ]
    }
   ],
   "source": [
    "# 내가 선택 or 제거할 것들을 리스트업한다.\n",
    "a=[1,2,3,2,2,2,3,3,5,7,9]\n",
    "b=[1,3,5]\n",
    "\n",
    "for i in a:\n",
    "    if i in b: # b라는 값들에 하나라도 있으면 or 연산에 대한 효과적인처리\n",
    "        print(i)\n",
    "# 중요! in!\n",
    "# for 문에서 in 은 돌릴 대상들을 지정하는 역할 \n",
    "# if 문에서 in 은 원하는, 필터링할 대상들을 리스트업하는 역할이라고 보면 됨.\n",
    "\n",
    "        "
   ]
  },
  {
   "cell_type": "code",
   "execution_count": 141,
   "id": "3c431840-1d09-4456-be8f-14d52c22dfdb",
   "metadata": {},
   "outputs": [
    {
     "name": "stdout",
     "output_type": "stream",
     "text": [
      "2\n",
      "2\n",
      "2\n",
      "2\n",
      "7\n",
      "9\n"
     ]
    }
   ],
   "source": [
    "# b값을 제외시키고 싶다면? not in !!!\n",
    "for i in a:\n",
    "    if i not in b: # b라는 값들에 하나라도 있으면 or 연산에 대한 효과적인처리\n",
    "        print(i)"
   ]
  },
  {
   "cell_type": "code",
   "execution_count": 142,
   "id": "1d299b09-32ff-4ab2-ad68-47affbedc543",
   "metadata": {},
   "outputs": [],
   "source": [
    "# 문제 ) 시험 성적을 봤는데\n",
    "#      시험성적 a=[90,80,30,50,60,70,85,99]\n",
    "#      시험의 통과점수를 60점 이상이라고 할 때 몇명이 통과했는가>"
   ]
  },
  {
   "cell_type": "code",
   "execution_count": 143,
   "id": "a8d54bcd-e392-4d16-ae89-9474726022c0",
   "metadata": {},
   "outputs": [
    {
     "data": {
      "text/plain": [
       "6"
      ]
     },
     "execution_count": 143,
     "metadata": {},
     "output_type": "execute_result"
    }
   ],
   "source": [
    "a=[90,80,30,50,60,70,85,99]\n",
    "\n",
    "# sol1 ) 직접 꾸역꾸역ㅋㅋㅋㅋ\n",
    "cnt =0\n",
    "for i in a:\n",
    "    if i >=60:\n",
    "        cnt+=1\n",
    "cnt"
   ]
  },
  {
   "cell_type": "code",
   "execution_count": 144,
   "id": "0f77d5e4-e7fd-423b-beef-6e9855c7ccfe",
   "metadata": {},
   "outputs": [
    {
     "data": {
      "text/plain": [
       "6"
      ]
     },
     "execution_count": 144,
     "metadata": {},
     "output_type": "execute_result"
    }
   ],
   "source": [
    "len([i for i in a if i >=60])"
   ]
  },
  {
   "cell_type": "code",
   "execution_count": 145,
   "id": "fdcbd2c0-e83c-4353-9cf6-b5e6fe54445e",
   "metadata": {},
   "outputs": [],
   "source": [
    "# 정리)\n",
    "# 값들에 대해서 정리/ 피러링 -> 규칙이 있나, 없나\n",
    "# 규칙이 있다면,,, 규칙을 코드화 작업\n",
    "# 규칙이 없다면,,, 최소한ㅇ로 리스트업\n",
    "\n",
    "# 필터링은 간단하게 리스트컴프리핸션하기\n",
    "# 리스트컴프리핸션 결과도 리스트이므로 여러 작동 추가 가능"
   ]
  },
  {
   "cell_type": "code",
   "execution_count": 146,
   "id": "5e4dd8d9-8a86-4851-9e87-3329338be394",
   "metadata": {},
   "outputs": [],
   "source": [
    "# 문제) 한 점을 구성하는 x,y의 좌표 입력받아서\n",
    "# 이 점의 좌표가 (50,40), (50,80),(100,40),(100,80) 을 꼭짓점으로 하는\n",
    "# 사각형 내부에 있는지 체크해보세요."
   ]
  },
  {
   "cell_type": "code",
   "execution_count": 151,
   "id": "468f7392-ada1-4c45-b3cf-2609c9375ca4",
   "metadata": {},
   "outputs": [
    {
     "name": "stdin",
     "output_type": "stream",
     "text": [
      "x,y좌표를 입력하세요 30,50\n"
     ]
    },
    {
     "name": "stdout",
     "output_type": "stream",
     "text": [
      "no!! try again!\n"
     ]
    }
   ],
   "source": [
    "x,y = input(\"x,y좌표를 입력하세요\").split(',')\n",
    "x= int(x)\n",
    "y= int(y)\n",
    "if x>=50 and x<=100 and y<=80 and y>=40 :\n",
    "    print(\"yes!!\")\n",
    "else:\n",
    "    print(\"no!! try again!\")"
   ]
  },
  {
   "cell_type": "code",
   "execution_count": null,
   "id": "f629bbbb-c582-483b-b1ea-b7d7b1dac4cb",
   "metadata": {},
   "outputs": [],
   "source": [
    "# sol)\n",
    "# 1) 입력 : 사용자한테 좌표값을 입력을 받아야 함\n",
    "# 2) 범위에 대한 지정 : x범위를 and, y범위를 and로 하겠음\n",
    "#                  -> 범위 지정에 대한 타입은 부등식을 사용하겠음\n",
    "#                  -> 부등식은 대상이 숫자형식이어야 함.\n",
    "# 아쪽 기준으로 중심으로 작성 and 하겠음\n"
   ]
  },
  {
   "cell_type": "code",
   "execution_count": 156,
   "id": "ee56da3d-bc20-4108-9b10-fdc97d9b80e3",
   "metadata": {},
   "outputs": [],
   "source": [
    "# 일단 시작을 하기 위해서 주어진 샘플\n",
    "# --> 입력 부분이 이렇게 초기화\n",
    "\n",
    "n = 5\n",
    "plans = [\"R\",\"R\",\"R\",\"U\",\"D\",\"D\"]"
   ]
  },
  {
   "cell_type": "code",
   "execution_count": 159,
   "id": "1ff88fcc-0903-4fdc-90e1-8efc092fb11a",
   "metadata": {},
   "outputs": [
    {
     "data": {
      "text/plain": [
       "['R', 'R', 'R', 'U', 'D', 'D']"
      ]
     },
     "execution_count": 159,
     "metadata": {},
     "output_type": "execute_result"
    }
   ],
   "source": [
    "# \"R R R U D D\".split()"
   ]
  },
  {
   "cell_type": "code",
   "execution_count": null,
   "id": "8722e2cc-28ad-4750-a8b4-e7bf74e5d2a2",
   "metadata": {},
   "outputs": [],
   "source": [
    "# 세팅 : 움직임에 대한 좌표화\n",
    "# --> 임의의 위치(x,y)에 있을 때\n",
    "#L : (x,y-1)\n",
    "#R : (x,y+1)\n",
    "#U : (X-1,y)\n",
    "#D : (x+1,y)\n",
    "#--> 증감을 기준으로 표현을 함, 지금 위치 + 얼마만큼 이동했는지(delta)\n",
    "# (x,y) -> L(x,y) (0,-1) = (X+0,y-1)\n",
    "#       -> R(x,y) (0,+1) = (X+0,y+1)\n",
    "#       -> U(x,y) (-1,0) = (X-1,y+0)\n",
    "#       -> D(x,y) (1,0) = (X+1,y+0)\n",
    "\n",
    "# 스타일에 따라 dict 같은 쌍의 형식이 편할 수 있음\n",
    "\n"
   ]
  },
  {
   "cell_type": "code",
   "execution_count": 160,
   "id": "2925e0a8-4458-45e3-976d-085f00e4c185",
   "metadata": {},
   "outputs": [
    {
     "data": {
      "text/plain": [
       "[0, -1]"
      ]
     },
     "execution_count": 160,
     "metadata": {},
     "output_type": "execute_result"
    }
   ],
   "source": [
    "move_dic={\n",
    "    \"L\" :[0,-1],\n",
    "    \"R\" :[0,1],\n",
    "    \"U\" :[-1,0],\n",
    "    \"D\" :[1,0]\n",
    "}\n",
    "move_dic[\"L\"]"
   ]
  },
  {
   "cell_type": "code",
   "execution_count": 163,
   "id": "5a768d92-75fc-41e9-a9c7-4a4506e2aae6",
   "metadata": {},
   "outputs": [
    {
     "name": "stdout",
     "output_type": "stream",
     "text": [
      "3 4\n"
     ]
    }
   ],
   "source": [
    "# ---> 큰 틀로 접근\n",
    "\n",
    "# 1) 주어진 입력사항에 대한 세팅\n",
    "n = 5\n",
    "plans = [\"R\",\"R\",\"R\",\"U\",\"D\",\"D\"]\n",
    "\n",
    "# 2) 내가 어디에 있는지 좌표값을 다루는 변수설정  : (x,y) ,x/y 본인 스타일\n",
    "x, y =1,1\n",
    "#--> 문제 조건상 1,1에서 시작하려고 했으니 그냥 초기값\n",
    "\n",
    "# 3) 이동에 대한 규칙화 --> dict/ list 여러 스타일로 코드화\n",
    "move_dict={\n",
    "    \"L\" :[0,-1],\n",
    "    \"R\" :[0,1],\n",
    "    \"U\" :[-1,0],\n",
    "    \"D\" :[1,0]\n",
    "}\n",
    "\n",
    "#--> 세팅 끝\n",
    "# 4) 본격적인 문제 해결 단계 코드\n",
    "# 이 문제의 가장 큰 틀 : 입력으로 받은 plans을 다 돌려가면서 for\n",
    "#                     -> 그 해당하는 plan으로 좌표를 이동하기\n",
    "#                     -> in, out 체크하기 if 부등식\n",
    "#                     -> 이동이 가능할 때 좌표 갱신\n",
    "\n",
    "for plan in plans: # ㅣ시사항들을 하나씩 확인\n",
    "    next_x = x+move_dict[plan][0]\n",
    "    next_y = y+move_dict[plan][1]\n",
    "\n",
    "    if next_x<1 or next_x>n or next_y<1 or next_y>n: # 아웃바운드 체크\n",
    "        continue\n",
    "    else:\n",
    "        x, y = next_x, next_y # 갱신\n",
    "print(x, y)\n"
   ]
  },
  {
   "cell_type": "code",
   "execution_count": null,
   "id": "46dfba91-ae64-47e1-be75-43150cf5aff8",
   "metadata": {},
   "outputs": [],
   "source": [
    "# 내가 주어진 상황을 어떤 자료형으로 할지에 따라 코드적인 부분이 달라짐\n",
    "# -> 효율적인 부분, 다른 사람의 코드, 노하우\n",
    "# 좌표 이동에 대한 설정 부분, dict, 리스트로 할 것이냐에 대한 각기 방향\n",
    "# 평면상에 이동에 대한 여부는 좌표를 쓰면 용이할 수 있다\n",
    "# 파이썬의 리스트 잡다한 기능(메서드)\n"
   ]
  },
  {
   "cell_type": "code",
   "execution_count": 164,
   "id": "b94e6a23-a9d4-4b43-b559-f933355bed0d",
   "metadata": {},
   "outputs": [],
   "source": [
    "#l자 이동문제\n",
    "# 문제를 보면 고정된 8 by 8 "
   ]
  },
  {
   "cell_type": "code",
   "execution_count": 165,
   "id": "0c72be73-be5f-4844-a500-b483d9256d77",
   "metadata": {},
   "outputs": [],
   "source": [
    "# 참고) 문자를 좌표값인 숫자형식으로 변환해야하는 과정이 필요함\n",
    "# ==> 문자 + 숫자의 좌표 대신에 \"숫자, 숫자\" 형식의 좌표로 변경\n",
    "# 필요한 일 : 문자를 숫자로 어떻게 바꿁 것인가."
   ]
  },
  {
   "cell_type": "code",
   "execution_count": 166,
   "id": "6d65a7f0-c6ed-48ef-a765-dd3e423a0f40",
   "metadata": {},
   "outputs": [
    {
     "data": {
      "text/plain": [
       "97"
      ]
     },
     "execution_count": 166,
     "metadata": {},
     "output_type": "execute_result"
    }
   ],
   "source": [
    "#참고) 문자에 대한 코드값\n",
    "ord(\"a\")"
   ]
  },
  {
   "cell_type": "code",
   "execution_count": 167,
   "id": "49893c66-6bdc-49de-a485-809e82316af8",
   "metadata": {},
   "outputs": [
    {
     "data": {
      "text/plain": [
       "98"
      ]
     },
     "execution_count": 167,
     "metadata": {},
     "output_type": "execute_result"
    }
   ],
   "source": [
    "ord(\"b\")"
   ]
  },
  {
   "cell_type": "code",
   "execution_count": 172,
   "id": "beb0e1c4-7cd9-4ea6-bdfd-f9ecb0e5d50d",
   "metadata": {},
   "outputs": [
    {
     "name": "stdout",
     "output_type": "stream",
     "text": [
      "2 3\n"
     ]
    }
   ],
   "source": [
    "#편의상 주어진 세로컬럼의 문자와 숫자의 호응\n",
    "#a-->1, b-->2, c-->3...\n",
    "#예) c2 -->(3,2)\n",
    "in_txt = \"c2\"\n",
    "# in_txt[0] #세로줄\n",
    "# in_txt[1] #가로줄\n",
    "row = int(in_txt[1]) #--> 문자열 숫자를 수치형으로 형 변환\n",
    "col = ord(in_txt[0]) - ord(\"a\")+1\n",
    "print(row, col)"
   ]
  },
  {
   "cell_type": "code",
   "execution_count": null,
   "id": "0ed957f9-8f4e-4d09-af80-eeb117c7f7df",
   "metadata": {},
   "outputs": [],
   "source": [
    "# 8가지 l이동에 대한 표현\n",
    "# ---> 앞의 지도 이동과 다른 부분은 뭐가 어떻게 이동한다 지정할 필요가 없음. 단순히 8가지 이동에 대한 변화량만 리스트업 : 리스트로 자료형을 선택\n",
    "# ---> 8가지를 순서도 별 상관없고, 그냥 8개만 리스트업하면 끝!\n",
    "\n",
    "#문제의 큰 틀\n",
    "# --> 이 8가지 l자 \n",
    "\n",
    "#카운팅 변수\n",
    "count =0\n",
    "# 8가지 이동 패턴을 롤링! for\n",
    "for move in i_mvoes :\n",
    "    #1) 일단 한 번 이동해봐!\n",
    "    next_row = row+move[0]\n",
    "    next_col = col+move[1]\n",
    "    #2) 일단 이렇게 이동하면 되냐 체크! in, out\n",
    "    # ---> in을 중심으로 조건을 작성!!\n",
    "    if next_row >=1 and next_row <=8 and next_col >=1 and next_col<=8:\n",
    "        # 8 by 8 지도 상 안쪽에 있을 때..\n",
    "        # --> 할 일 카운팅 : 카운트용 변수 갱신\n",
    "        count +=1\n",
    "    "
   ]
  }
 ],
 "metadata": {
  "kernelspec": {
   "display_name": "Python 3 (ipykernel)",
   "language": "python",
   "name": "python3"
  },
  "language_info": {
   "codemirror_mode": {
    "name": "ipython",
    "version": 3
   },
   "file_extension": ".py",
   "mimetype": "text/x-python",
   "name": "python",
   "nbconvert_exporter": "python",
   "pygments_lexer": "ipython3",
   "version": "3.11.7"
  }
 },
 "nbformat": 4,
 "nbformat_minor": 5
}
