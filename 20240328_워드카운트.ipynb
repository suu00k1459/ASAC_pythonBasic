{
 "cells": [
  {
   "cell_type": "code",
   "execution_count": 2,
   "id": "0cc8788f-1dea-4c86-b11a-dc6312cea7c4",
   "metadata": {},
   "outputs": [],
   "source": [
    "# 가장 기본적인 dict를 가지고 활용하는 예 : 워드카운트!\n",
    "# --> 어떤 단어가 몇 번 나타났느냐!\n",
    "#     단어 & 출현빈도(연결/ 쌍)\n",
    "# --> 쌍/ 연결 구조 : dict (key : 단어, value : 출현빈도)\n",
    "#     단) 내가 수집한/ 처리할 긴 텍스트 중에서,\n",
    "#         쭉 스캔하면서 해당 단어가 나올 때마다 카운팅\n",
    "\n",
    "# --> 주어진 긴 텍스트(문자열)을 기준 : 단어 \n",
    "#     ++ 엄밀하게 처리하기 위해서는 : 문장에 대한 품사 처리!\n",
    "# --> 단어 중심( 띄어쓰기 중심으로 간단히 )"
   ]
  },
  {
   "cell_type": "code",
   "execution_count": 7,
   "id": "70caeb93-e425-4cb8-b444-40df84b40de4",
   "metadata": {},
   "outputs": [
    {
     "data": {
      "text/plain": [
       "['i', 'like', 'it']"
      ]
     },
     "execution_count": 7,
     "metadata": {},
     "output_type": "execute_result"
    }
   ],
   "source": [
    "songs =\"i like it\"\n",
    "songs.split(\" \")"
   ]
  },
  {
   "cell_type": "code",
   "execution_count": 8,
   "id": "b98f7ab3-a142-4ae3-95de-02f94e86d167",
   "metadata": {},
   "outputs": [],
   "source": [
    "# to do : 위의 단어 리스트들을 돌아가면서 : for \n",
    "#         -> 단어별로 몇 번 나타나는지 카운팅\n",
    "#         case1) 신규 등록된 단어 : 단어 키, 값1\n",
    "#         case2) 이미 나왔던 단어 : 단어로 키 조회 -> 값 +1"
   ]
  },
  {
   "cell_type": "code",
   "execution_count": null,
   "id": "6ad203c2-25a6-469a-ae0a-ec65c1d1028a",
   "metadata": {},
   "outputs": [],
   "source": [
    "words = songs.split(\" \")\n",
    "# 내가 words 입력에 대해서 처리할 양식!\n",
    "counts = {} #키 : 단어, 값 : 빈도\n",
    "# --> 수집된 단어들을 돌어가면서..\n",
    "for word in words:\n",
    "    # 1) 대소문자에 대한 처리 : 소문자 통일\n",
    "    word = word.lower() # The -> the\n",
    "    # 2) 입력 단어들에 대한 빈도처리...\n",
    "    #   -> 기 등록된 여부: key 있는지\n",
    "    #    ( in 리스트 : 값이 있냐, in 딕셔너리 : 키가 있냐 )\n",
    "    if word in counts : #True --> 기 등록된 단어 : +1 갱신\n",
    "        counts[word] +=1\n",
    "    else : #처음 등록된 단어 "
   ]
  }
 ],
 "metadata": {
  "kernelspec": {
   "display_name": "Python 3 (ipykernel)",
   "language": "python",
   "name": "python3"
  },
  "language_info": {
   "codemirror_mode": {
    "name": "ipython",
    "version": 3
   },
   "file_extension": ".py",
   "mimetype": "text/x-python",
   "name": "python",
   "nbconvert_exporter": "python",
   "pygments_lexer": "ipython3",
   "version": "3.11.7"
  }
 },
 "nbformat": 4,
 "nbformat_minor": 5
}
