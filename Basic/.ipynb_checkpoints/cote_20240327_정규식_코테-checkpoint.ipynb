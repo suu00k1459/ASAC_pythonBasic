{
 "cells": [
  {
   "cell_type": "code",
   "execution_count": 1,
   "id": "93ccc8c3-5fdd-4c5d-8715-1f6f2ac8f1dc",
   "metadata": {},
   "outputs": [],
   "source": [
    "# 정규식\n",
    "# 카카오 코테 : 정규식, 문자열 나옴\n",
    "# 데이터 처리 : 종종 사용을 많이 함\n",
    "#              1) 데이터 수집 crwling\n",
    "#              2) 자연어처리, 텍스트 처리 : 엄청 많이 사용\n",
    "# --> 안 쓰면 잘 기억이 안남;;;\n",
    "#     규칙성을 기반으로 하고 있어서\n",
    "#     부서에서 주로 쓰는 스타일\n",
    "#     chatGPT 도움을 받아서 하면 됨."
   ]
  },
  {
   "cell_type": "code",
   "execution_count": 2,
   "id": "ba12bed2-5bf2-4bfc-8a11-7075434aaedf",
   "metadata": {},
   "outputs": [],
   "source": [
    "# 사전 지식) 정규식\n",
    "# ---> 문자열에서 내가 원하는 패턴을 찾는 룰(규칙)\n",
    "# 일반적인 모든 갭라 언어에서 다 존재\n",
    "# 큰 틀은 모든 언어에서 유사하지만 언어 특성상 조금 다르게 동작하기도 함\n",
    "# 대략적인 룰은 유사하다.\n",
    "# --> 파이썬 : re 패키지(코테 플랫폼 : 사용할 수 있는 패키지)\n",
    "#     구글링, 부서 스타일, chatGPT etc\n",
    "# 활용) 텍스트 데이터를 처리할 때!\n",
    "#       텍스트 데이터 수집할 때, 전처리 할 때"
   ]
  },
  {
   "cell_type": "code",
   "execution_count": 3,
   "id": "293c7780-ff43-429c-abfd-28d1906f1700",
   "metadata": {},
   "outputs": [],
   "source": [
    "import re\n",
    "# --> anaconda 로 설치하면 기본으로 설치가 되는 패키지\n",
    "# --> colab 에서도 기본으로 설치돼 있음\n",
    "# --> 쌩 파이썬은 없음. 다운로드하고 사용"
   ]
  },
  {
   "cell_type": "code",
   "execution_count": 4,
   "id": "b359ba9d-bb75-4436-b623-ecdb58826815",
   "metadata": {},
   "outputs": [
    {
     "ename": "SyntaxError",
     "evalue": "unterminated string literal (detected at line 3) (3380595998.py, line 3)",
     "output_type": "error",
     "traceback": [
      "\u001b[1;36m  Cell \u001b[1;32mIn[4], line 3\u001b[1;36m\u001b[0m\n\u001b[1;33m    r\"heelo.100$\u001b[0m\n\u001b[1;37m    ^\u001b[0m\n\u001b[1;31mSyntaxError\u001b[0m\u001b[1;31m:\u001b[0m unterminated string literal (detected at line 3)\n"
     ]
    }
   ],
   "source": [
    "# 정규식을 나타내는 문자열 vs 파이썬 문자열\n",
    "\"hello. 100$\"\n",
    "r\"heelo.100$\n",
    "# --> 그냥 문자열이 아니라 정규식으로 작성된 문자열\n",
    "# ---> .() \\ []\n",
    "#     정규식에서 사용하는 룰를 나타내느 문자로 인식을 함"
   ]
  },
  {
   "cell_type": "code",
   "execution_count": 54,
   "id": "31ec2098-0ef9-43c1-93f3-54d73cb42506",
   "metadata": {},
   "outputs": [
    {
     "data": {
      "text/plain": [
       "[]"
      ]
     },
     "execution_count": 54,
     "metadata": {},
     "output_type": "execute_result"
    }
   ],
   "source": [
    "# 정규식 기본 룰\n",
    "# * vs + : 원하는 패턴이 0 이상 vs 1번 이상  --> 출현 빈도\n",
    "# [문자들] : 여러문자들 중 하나라도..=> [Pp]ython\n",
    "# . : 줄바꿈 빼고 뭐라도 1개의 문자/ 공간\n",
    "# {n} : 패턴 반복\n",
    "\n",
    "temp = \"8\"\n",
    "\n",
    "re.findall ( r\"\\d+\", temp)\n",
    "\n",
    "re.findall ( r\"[0123456789]+\", temp)\n",
    "re.findall ( r\"[012345679]+\", temp)\n",
    "#--> 꼭 제대로 나오는지 사람이 체크를 해야함 \n",
    "#     간단한 테스트라도\n",
    "#--> 에러를 던지지 않고 이상한 결과를 던짐."
   ]
  },
  {
   "cell_type": "code",
   "execution_count": 55,
   "id": "f44c59a7-2acb-43e0-bb6d-bfd45638b4fa",
   "metadata": {},
   "outputs": [
    {
     "ename": "error",
     "evalue": "bad character range a-Z at position 1",
     "output_type": "error",
     "traceback": [
      "\u001b[1;31m---------------------------------------------------------------------------\u001b[0m",
      "\u001b[1;31merror\u001b[0m                                     Traceback (most recent call last)",
      "Cell \u001b[1;32mIn[55], line 3\u001b[0m\n\u001b[0;32m      1\u001b[0m re\u001b[38;5;241m.\u001b[39mfindall ( \u001b[38;5;124mr\u001b[39m\u001b[38;5;124m\"\u001b[39m\u001b[38;5;124m[a-z]+\u001b[39m\u001b[38;5;124m\"\u001b[39m, temp) \u001b[38;5;66;03m#소문자\u001b[39;00m\n\u001b[0;32m      2\u001b[0m re\u001b[38;5;241m.\u001b[39mfindall ( \u001b[38;5;124mr\u001b[39m\u001b[38;5;124m\"\u001b[39m\u001b[38;5;124m[A-Z]+\u001b[39m\u001b[38;5;124m\"\u001b[39m, temp) \u001b[38;5;66;03m#대문자\u001b[39;00m\n\u001b[1;32m----> 3\u001b[0m re\u001b[38;5;241m.\u001b[39mfindall ( \u001b[38;5;124mr\u001b[39m\u001b[38;5;124m\"\u001b[39m\u001b[38;5;124m[a-Z]+\u001b[39m\u001b[38;5;124m\"\u001b[39m, temp)\n",
      "File \u001b[1;32m~\\anaconda3\\Lib\\re\\__init__.py:216\u001b[0m, in \u001b[0;36mfindall\u001b[1;34m(pattern, string, flags)\u001b[0m\n\u001b[0;32m    208\u001b[0m \u001b[38;5;28;01mdef\u001b[39;00m \u001b[38;5;21mfindall\u001b[39m(pattern, string, flags\u001b[38;5;241m=\u001b[39m\u001b[38;5;241m0\u001b[39m):\n\u001b[0;32m    209\u001b[0m \u001b[38;5;250m    \u001b[39m\u001b[38;5;124;03m\"\"\"Return a list of all non-overlapping matches in the string.\u001b[39;00m\n\u001b[0;32m    210\u001b[0m \n\u001b[0;32m    211\u001b[0m \u001b[38;5;124;03m    If one or more capturing groups are present in the pattern, return\u001b[39;00m\n\u001b[1;32m   (...)\u001b[0m\n\u001b[0;32m    214\u001b[0m \n\u001b[0;32m    215\u001b[0m \u001b[38;5;124;03m    Empty matches are included in the result.\"\"\"\u001b[39;00m\n\u001b[1;32m--> 216\u001b[0m     \u001b[38;5;28;01mreturn\u001b[39;00m _compile(pattern, flags)\u001b[38;5;241m.\u001b[39mfindall(string)\n",
      "File \u001b[1;32m~\\anaconda3\\Lib\\re\\__init__.py:294\u001b[0m, in \u001b[0;36m_compile\u001b[1;34m(pattern, flags)\u001b[0m\n\u001b[0;32m    288\u001b[0m     \u001b[38;5;28;01mimport\u001b[39;00m \u001b[38;5;21;01mwarnings\u001b[39;00m\n\u001b[0;32m    289\u001b[0m     warnings\u001b[38;5;241m.\u001b[39mwarn(\u001b[38;5;124m\"\u001b[39m\u001b[38;5;124mThe re.TEMPLATE/re.T flag is deprecated \u001b[39m\u001b[38;5;124m\"\u001b[39m\n\u001b[0;32m    290\u001b[0m               \u001b[38;5;124m\"\u001b[39m\u001b[38;5;124mas it is an undocumented flag \u001b[39m\u001b[38;5;124m\"\u001b[39m\n\u001b[0;32m    291\u001b[0m               \u001b[38;5;124m\"\u001b[39m\u001b[38;5;124mwithout an obvious purpose. \u001b[39m\u001b[38;5;124m\"\u001b[39m\n\u001b[0;32m    292\u001b[0m               \u001b[38;5;124m\"\u001b[39m\u001b[38;5;124mDon\u001b[39m\u001b[38;5;124m'\u001b[39m\u001b[38;5;124mt use it.\u001b[39m\u001b[38;5;124m\"\u001b[39m,\n\u001b[0;32m    293\u001b[0m               \u001b[38;5;167;01mDeprecationWarning\u001b[39;00m)\n\u001b[1;32m--> 294\u001b[0m p \u001b[38;5;241m=\u001b[39m _compiler\u001b[38;5;241m.\u001b[39mcompile(pattern, flags)\n\u001b[0;32m    295\u001b[0m \u001b[38;5;28;01mif\u001b[39;00m \u001b[38;5;129;01mnot\u001b[39;00m (flags \u001b[38;5;241m&\u001b[39m DEBUG):\n\u001b[0;32m    296\u001b[0m     \u001b[38;5;28;01mif\u001b[39;00m \u001b[38;5;28mlen\u001b[39m(_cache) \u001b[38;5;241m>\u001b[39m\u001b[38;5;241m=\u001b[39m _MAXCACHE:\n\u001b[0;32m    297\u001b[0m         \u001b[38;5;66;03m# Drop the oldest item\u001b[39;00m\n",
      "File \u001b[1;32m~\\anaconda3\\Lib\\re\\_compiler.py:745\u001b[0m, in \u001b[0;36mcompile\u001b[1;34m(p, flags)\u001b[0m\n\u001b[0;32m    743\u001b[0m \u001b[38;5;28;01mif\u001b[39;00m isstring(p):\n\u001b[0;32m    744\u001b[0m     pattern \u001b[38;5;241m=\u001b[39m p\n\u001b[1;32m--> 745\u001b[0m     p \u001b[38;5;241m=\u001b[39m _parser\u001b[38;5;241m.\u001b[39mparse(p, flags)\n\u001b[0;32m    746\u001b[0m \u001b[38;5;28;01melse\u001b[39;00m:\n\u001b[0;32m    747\u001b[0m     pattern \u001b[38;5;241m=\u001b[39m \u001b[38;5;28;01mNone\u001b[39;00m\n",
      "File \u001b[1;32m~\\anaconda3\\Lib\\re\\_parser.py:989\u001b[0m, in \u001b[0;36mparse\u001b[1;34m(str, flags, state)\u001b[0m\n\u001b[0;32m    986\u001b[0m state\u001b[38;5;241m.\u001b[39mflags \u001b[38;5;241m=\u001b[39m flags\n\u001b[0;32m    987\u001b[0m state\u001b[38;5;241m.\u001b[39mstr \u001b[38;5;241m=\u001b[39m \u001b[38;5;28mstr\u001b[39m\n\u001b[1;32m--> 989\u001b[0m p \u001b[38;5;241m=\u001b[39m _parse_sub(source, state, flags \u001b[38;5;241m&\u001b[39m SRE_FLAG_VERBOSE, \u001b[38;5;241m0\u001b[39m)\n\u001b[0;32m    990\u001b[0m p\u001b[38;5;241m.\u001b[39mstate\u001b[38;5;241m.\u001b[39mflags \u001b[38;5;241m=\u001b[39m fix_flags(\u001b[38;5;28mstr\u001b[39m, p\u001b[38;5;241m.\u001b[39mstate\u001b[38;5;241m.\u001b[39mflags)\n\u001b[0;32m    992\u001b[0m \u001b[38;5;28;01mif\u001b[39;00m source\u001b[38;5;241m.\u001b[39mnext \u001b[38;5;129;01mis\u001b[39;00m \u001b[38;5;129;01mnot\u001b[39;00m \u001b[38;5;28;01mNone\u001b[39;00m:\n",
      "File \u001b[1;32m~\\anaconda3\\Lib\\re\\_parser.py:464\u001b[0m, in \u001b[0;36m_parse_sub\u001b[1;34m(source, state, verbose, nested)\u001b[0m\n\u001b[0;32m    462\u001b[0m start \u001b[38;5;241m=\u001b[39m source\u001b[38;5;241m.\u001b[39mtell()\n\u001b[0;32m    463\u001b[0m \u001b[38;5;28;01mwhile\u001b[39;00m \u001b[38;5;28;01mTrue\u001b[39;00m:\n\u001b[1;32m--> 464\u001b[0m     itemsappend(_parse(source, state, verbose, nested \u001b[38;5;241m+\u001b[39m \u001b[38;5;241m1\u001b[39m,\n\u001b[0;32m    465\u001b[0m                        \u001b[38;5;129;01mnot\u001b[39;00m nested \u001b[38;5;129;01mand\u001b[39;00m \u001b[38;5;129;01mnot\u001b[39;00m items))\n\u001b[0;32m    466\u001b[0m     \u001b[38;5;28;01mif\u001b[39;00m \u001b[38;5;129;01mnot\u001b[39;00m sourcematch(\u001b[38;5;124m\"\u001b[39m\u001b[38;5;124m|\u001b[39m\u001b[38;5;124m\"\u001b[39m):\n\u001b[0;32m    467\u001b[0m         \u001b[38;5;28;01mbreak\u001b[39;00m\n",
      "File \u001b[1;32m~\\anaconda3\\Lib\\re\\_parser.py:621\u001b[0m, in \u001b[0;36m_parse\u001b[1;34m(source, state, verbose, nested, first)\u001b[0m\n\u001b[0;32m    619\u001b[0m     \u001b[38;5;28;01mif\u001b[39;00m hi \u001b[38;5;241m<\u001b[39m lo:\n\u001b[0;32m    620\u001b[0m         msg \u001b[38;5;241m=\u001b[39m \u001b[38;5;124m\"\u001b[39m\u001b[38;5;124mbad character range \u001b[39m\u001b[38;5;132;01m%s\u001b[39;00m\u001b[38;5;124m-\u001b[39m\u001b[38;5;132;01m%s\u001b[39;00m\u001b[38;5;124m\"\u001b[39m \u001b[38;5;241m%\u001b[39m (this, that)\n\u001b[1;32m--> 621\u001b[0m         \u001b[38;5;28;01mraise\u001b[39;00m source\u001b[38;5;241m.\u001b[39merror(msg, \u001b[38;5;28mlen\u001b[39m(this) \u001b[38;5;241m+\u001b[39m \u001b[38;5;241m1\u001b[39m \u001b[38;5;241m+\u001b[39m \u001b[38;5;28mlen\u001b[39m(that))\n\u001b[0;32m    622\u001b[0m     setappend((RANGE, (lo, hi)))\n\u001b[0;32m    623\u001b[0m \u001b[38;5;28;01melse\u001b[39;00m:\n",
      "\u001b[1;31merror\u001b[0m: bad character range a-Z at position 1"
     ]
    }
   ],
   "source": [
    "re.findall ( r\"[a-z]+\", temp) #소문자\n",
    "re.findall ( r\"[A-Z]+\", temp) #대문자\n",
    "re.findall ( r\"[a-Z]+\", temp) #대소문자 아무거나 1개 이상"
   ]
  },
  {
   "cell_type": "code",
   "execution_count": 7,
   "id": "6ecb68ba-4bf6-4b35-ac06-8500d14ec626",
   "metadata": {},
   "outputs": [],
   "source": [
    "# 사전지식2) 숫자앞에 0이 붙는 경우가 있음\n",
    "# --> 모야 / 자리수를 맞추기 위한 용도\n",
    "# --> 000034 (문자로) ==> 숫자 34"
   ]
  },
  {
   "cell_type": "code",
   "execution_count": 9,
   "id": "f0e06ab4-3324-4efd-9ca2-7156bd5b7ca3",
   "metadata": {},
   "outputs": [
    {
     "data": {
      "text/plain": [
       "34"
      ]
     },
     "execution_count": 9,
     "metadata": {},
     "output_type": "execute_result"
    }
   ],
   "source": [
    "int(\"000034\")"
   ]
  },
  {
   "cell_type": "code",
   "execution_count": 10,
   "id": "7abc56b3-01ae-428e-8c9d-7e4e9ec46353",
   "metadata": {},
   "outputs": [
    {
     "data": {
      "text/plain": [
       "'sSSSssdsf=d321sdsdsda1234dfdfddafa33433****adfsdfsd1231231'"
      ]
     },
     "execution_count": 10,
     "metadata": {},
     "output_type": "execute_result"
    }
   ],
   "source": [
    "temp =\"sSSSssdsf=d321sdsdsda1234dfdfddafa33433****adfsdfsd1231231\"\n",
    "temp"
   ]
  },
  {
   "cell_type": "code",
   "execution_count": 11,
   "id": "4cbbc811-23b4-49ba-b935-ea9f42b3f0db",
   "metadata": {},
   "outputs": [
    {
     "data": {
      "text/plain": [
       "['321', '1234', '33433', '1231231']"
      ]
     },
     "execution_count": 11,
     "metadata": {},
     "output_type": "execute_result"
    }
   ],
   "source": [
    "re.findall(r\"\\d+\",temp)"
   ]
  },
  {
   "cell_type": "code",
   "execution_count": 15,
   "id": "bca2f7b0-931a-4577-9d73-18f65987cac0",
   "metadata": {},
   "outputs": [
    {
     "data": {
      "text/plain": [
       "11"
      ]
     },
     "execution_count": 15,
     "metadata": {},
     "output_type": "execute_result"
    }
   ],
   "source": [
    "temp.index(re.findall(r\"\\d+\",temp)[0])"
   ]
  },
  {
   "cell_type": "code",
   "execution_count": 16,
   "id": "36850d6b-5bde-430c-86db-43b2f35177ad",
   "metadata": {},
   "outputs": [],
   "source": [
    "#--> 본인이 알거나 , 필요하다고 생각하는 기능들을 잘 조합해야 함"
   ]
  },
  {
   "cell_type": "code",
   "execution_count": 18,
   "id": "5c6f6bf3-151e-48c4-8feb-2829d90c39f2",
   "metadata": {},
   "outputs": [
    {
     "name": "stdout",
     "output_type": "stream",
     "text": [
      "abbbbfddddsss\n",
      "ABBBBFDDDDSSS\n"
     ]
    }
   ],
   "source": [
    "# 사전지식3) 문자열에서 대소문자에 대한 변환!\n",
    "print(\"AbbbbFDDDDsss\".lower())\n",
    "print(\"AbbbbFDDDDsss\".upper())"
   ]
  },
  {
   "cell_type": "code",
   "execution_count": 24,
   "id": "69790cdf-ed99-4226-8786-a948522b87e7",
   "metadata": {},
   "outputs": [
    {
     "name": "stdin",
     "output_type": "stream",
     "text": [
      "휴대폰 번호를 입력해주세요 111-123-10000000\n"
     ]
    },
    {
     "name": "stdout",
     "output_type": "stream",
     "text": [
      "Incorrect format.\n"
     ]
    }
   ],
   "source": [
    "import re\n",
    "pattern = r'\\d\\d\\d-\\d\\d\\d\\d-\\d\\d\\d\\d'\n",
    "\n",
    "s=input(\"휴대폰 번호를 입력해주세요\")\n",
    "if re.match(pattern,s):\n",
    "    print('Number accepted.')\n",
    "else :\n",
    "    print('Incorrect format.')"
   ]
  },
  {
   "cell_type": "code",
   "execution_count": null,
   "id": "eb15df48-43e3-4ec0-bbff-0586317cc973",
   "metadata": {},
   "outputs": [],
   "source": [
    "# 정규식 코테 문제 풀어보기\n",
    "# 문제 : 이름 순서대로 정렬하면 img1- img10- img2 순으로 정리됨 (숫자 크기를 반영하지 못함)\n",
    "# --> 숫자 크기를 반영해서 정렬하고 싶음\n",
    "\n",
    "#조건 : 파일명 100 글자 이내,\n",
    "#      영문 대소 있음, \n",
    "#      숫자, 공백, 특수문자( . , - ),\n",
    "#      파일명의 시작;영문자 시작, \n",
    "#      파일명에 무조건 숫자 1개 포함\n",
    "#      파일명) head/number/tail\n",
    "#             head : 영문, 최소 1 이상\n",
    "#             number : 숫자 5자리(제로패딩)\n",
    "#             tail : ㅏ그외, 숫, 문자, 특수 etc\n",
    "# ==> 코드적으로 head, number, tail 어떻게 구성할 것인가!\n",
    "# -- 1기준 : head 사전순(오름, 단 영문 대소문자 구별 X : 통일)\n",
    "# -- 2기준 : number 숫자 크기(오름, 단 zeropadding 신경 안씀)\n",
    "# -- 3기준:  tial 원본 순서대로 (정렬에 필요 X)\n",
    "# 정렬에 필요한IMG\" head,1numbe1, 원4 순서\n",
    "\n",
    "\n",
    "# 샘플 분석\n",
    "# 입력 :  [\"img12.png\", \"img10.png\", \"img02.png\", \"img1.png\", \"IMG01.GIF\", \"img2.JPG\"]\n",
    "# 1) 필요한 정보 추출 : head, number, 원본순서...\n",
    "(\"img\" --> \"img\" , \"12\" --> 12 , 0) #6\n",
    "(\"img\" --> \"img\" , \"10\" --> 10 , 1) #5\n",
    "(\"img\" --> \"img\" , \"02\" --> 2 , 2) #3\n",
    "(\"img\" --> \"img\" , \"1\" --> 1 , 3) #1\n",
    "(\"IMG\" --> \"img\" , \"01\" --> 1 , 4) #2\n",
    "(\"img\" --> \"img\" , \"2\" --> 2 , 5) # 4\n",
    "\n",
    "# 출력 양식 : 내가 정리한 것이 아님. 원본 파일명 글대로 출력\n",
    "# --> 방법 1 ) 위에 필요한 정보를 모은 과정에서 원본파일명 (\"img\"-->\"img\",\"2\"-->2, t. \"img2.JPG\")\n",
    "# --> 방법 2 ) [files[3], files[4] ,,,]\n",
    "# --> 기타 등등\n",
    "\n",
    "# 2) 출력\n",
    "[\"img1.png\", \"IMG01.GIF\", \"img02.png\", \"img2.JPG\", \"img10.png\", \"img12.png\"]"
   ]
  },
  {
   "cell_type": "code",
   "execution_count": null,
   "id": "b0b2d604-9101-4109-b7b7-d2fb839ccec7",
   "metadata": {},
   "outputs": [],
   "source": [
    "# 예시2\n",
    "\n",
    "# 입력: [\"F-5 Freedom Fighter\", \"B-50 Superfortress\", \"A-10 Thunderbolt II\", \"F-14 Tomcat\"]\n",
    "# (F-,5,0) 3\n",
    "# (B0,40,1) 2\n",
    "# (A-,10,2) 1\n",
    "# (F-,14,3) 4\n",
    "\n",
    "# 출력: [\"A-10 Thunderbolt II\", \"B-50 Superfortress\", \"F-5 Freedom Fighter\", \"F-14 Tomcat\"]\n",
    "\n"
   ]
  },
  {
   "cell_type": "code",
   "execution_count": 25,
   "id": "7ef1d2c1-e0d5-4d38-a83f-afcdc717c132",
   "metadata": {},
   "outputs": [],
   "source": [
    "# 문제상 정렬의 기준\n",
    "# 1) head 파트의 알파벳순(오름 : 대/ 소문자 X) : 문자열, 대소문자\n",
    "# 2) number 파트 숫자순(왼쪽 zeropadding 처리) -> 문자숫자 => 숫자 int\n",
    "#           -> 타입을 숫자형\n",
    "# 3) 1/2같다면,,, 원본순서\n",
    "# 필요 정보르 어떻게 추출할까\n",
    "# --> 기준 : 파일명 속에 처음 나타나는 숫자\n",
    "# --> 기준 앞 : head\n",
    "# --> 기준 : number\n",
    "# --> 기준 밖 : tail\n",
    "# ==> 파일명의 타입 : 문자열 --> 규칙 있음(숫자연속 1개 이상+) ====> 정규식 활용\n",
    "# ==> 찾은 패턴의 앞은 문자열의 슬라이싱\n",
    "#                    & . index() 값으로 찾기"
   ]
  },
  {
   "cell_type": "code",
   "execution_count": 70,
   "id": "80b3a717-e966-4d00-a078-f70e96d1eda1",
   "metadata": {},
   "outputs": [
    {
     "name": "stdout",
     "output_type": "stream",
     "text": [
      "img12.png\n",
      "img12\n",
      "12\n",
      "img10.png\n",
      "img10\n",
      "10\n",
      "img02.png\n",
      "img02\n",
      "2\n",
      "img1.png\n",
      "img1\n",
      "1\n",
      "IMG01.GIF\n",
      "IMG01\n",
      "1\n",
      "img2.JPG\n",
      "img2\n",
      "2\n"
     ]
    }
   ],
   "source": [
    "lst= [\"img12.png\", \"img10.png\", \"img02.png\", \"img1.png\", \"IMG01.GIF\", \"img2.JPG\"]\n",
    "    "
   ]
  },
  {
   "cell_type": "code",
   "execution_count": 45,
   "id": "8fbe8827-7eb9-47ea-9937-f8fa8537fe28",
   "metadata": {},
   "outputs": [],
   "source": [
    "# 방법1) 리스트르 사용해서\n",
    "#개인 try"
   ]
  },
  {
   "cell_type": "code",
   "execution_count": 79,
   "id": "7798bef9-1ecd-4162-a579-bdc3cc5cbbc7",
   "metadata": {},
   "outputs": [],
   "source": [
    "def solution(files):\n",
    "    answer =[] # 출력용 : 기준대로 한 이후 원본 파일명 담아서\n",
    "# 0) 기본세팅 : 정렬에 필요한 정보를 담을 변수 리스트\n",
    "#              (head: 소문자, number: 숫자, 원본위치)\n",
    "#              참고) (head, number, 원본위치, 원본파일명) \n",
    "    my_files = []\n",
    "# --> [(h, n, i), (h,n,i) ...]\n",
    "# 1) 큰 틀 : 입력으로 받은 files을 다 돌려가면서 원하는 정보\n",
    "#       => 어차피 내가 모을 정보에 원본의 순서 index\n",
    "    for idx, s in enumerate(files): #(index, files명)\n",
    "        # 개별 파일에서 필요한 정보를 어떻게 추출할지\n",
    "        # 2-1) 기준 : 숫자 파트 --> 정규식으로 숫자 추출\n",
    "        number = re.findall(r\"\\d+\",s) # -->[\"0012\"],[\"333\"],[\"223\"]\n",
    "        # 그 중에서 제일 앞에 나타나는 숫자 : index 0\n",
    "        real_number = int(number[0]) #\"0012\"(문자열) --> 12\n",
    "        # --> number 파트 정보 추출\n",
    "\n",
    "        # 2-2) 앞 부분 head 추출 : 처음~ 숫자파트 전까지\n",
    "        head= s[:s.index(number[0])] #\"iMgf0012\" --> \"iMgf\"\n",
    "        head= head.lower() #\"iMgf\" --> \"imgf\"\n",
    "\n",
    "        #2-3) 정렬에 필요한 정보들을 모으자  --> my_files에 쌓이게\n",
    "        my_files.append([head, real_number,idx])\n",
    "        # ==> [[\"imgf\",12,0],[\"imgf\",12,0],..]\n",
    "    # ---> 입력으로 받은 모든 파일들에 대해서 다 처리하면..\n",
    "\n",
    "    # 2) 문제에서 주어진대로 정렬 수행\n",
    "    #     => 기존 룰이 아니라 직접처리해야함\n",
    "    #        .sort(), sorted()\n",
    "    #     => 원본 파일명 files에 있으니 바로 변경.\n",
    "    my_files.sort(key = lambda x : (x[0], x[1], x[2] ))\n",
    "    # x : (h,n,i)\n",
    "    # my_files = sorted(my_files, key= lambda x: (x[0], x[1], x[2] ))\n",
    "    # ===> [[\"ab\",2,1],[\"ab\",33,0]...]\n",
    "    # 3) 최종 제출 양식으로 스타일 정리!\n",
    "    #   => 원본 파일명으로 가지고 기준대로 정리해서\n",
    "    #      파일명을 원소로 가지는 리스트로 출력!\n",
    "    # ===> 원본에 필요한 것들 모으자 : 리스트컴프리핸션\n",
    "    # for j in my_files: # (h,n,i)\n",
    "          # answer.append(files[j[2]]) \n",
    "\n",
    "    answer =[ files[j[2]] for j in my_files ]\n",
    "    \n",
    "    return answer"
   ]
  },
  {
   "cell_type": "code",
   "execution_count": 80,
   "id": "7834963c-9b3d-4e77-9b8d-0a9caf1f2132",
   "metadata": {},
   "outputs": [
    {
     "data": {
      "text/plain": [
       "['img1.png', 'IMG01.GIF', 'img02.png', 'img2.JPG', 'img10.png', 'img12.png']"
      ]
     },
     "execution_count": 80,
     "metadata": {},
     "output_type": "execute_result"
    }
   ],
   "source": [
    "#test\n",
    "lst= [\"img12.png\", \"img10.png\", \"img02.png\", \"img1.png\", \"IMG01.GIF\", \"img2.JPG\"]\n",
    "\n",
    "solution(lst)"
   ]
  },
  {
   "cell_type": "code",
   "execution_count": null,
   "id": "40738a7d-3389-4257-9904-23e740f4087c",
   "metadata": {},
   "outputs": [],
   "source": [
    "# 중요한 사항  : 정렬을 해야한다면, 필요한 정보들을 어떻게 처리, 어떤 것들을 모을까(+어디로 모을까)\n",
    "# ---> key lambda 로 구현:\n",
    "#####################################\n",
    "# 문제 분석이 먼저임.\n"
   ]
  },
  {
   "cell_type": "code",
   "execution_count": 81,
   "id": "08aff940-f96e-48c0-894b-e4c39d15d2b3",
   "metadata": {},
   "outputs": [],
   "source": [
    "# 방법2) dict 를 사용해서\n",
    "# --> my_files = {}\n",
    "# --> key : 중복이 없어야 함 ==> 문제에서 개별 파일명은 중복이 없다 => 파일명을 key로 사용\n",
    "# --> value: 정렬에 필요한 정보(\"head\",\"number\",(idx))\n",
    "#             Q) 그럼 정렬기준 1,2 까지 같으면?\n",
    "#                 => 파이썬의 정렬 함수들 동일하면,,, 원본 순서!\n",
    "#                 => dict.items()"
   ]
  },
  {
   "cell_type": "code",
   "execution_count": 83,
   "id": "b867e5dc-5c41-4a54-ad5e-895ff136a2ff",
   "metadata": {},
   "outputs": [],
   "source": [
    "import re\n",
    "\n",
    "def solution(files):\n",
    "    answer = []\n",
    "    # 세팅)\n",
    "    my_files = {} # 내가 모을 내용: key(파일명), values( Head, number)\n",
    "    # 개별 파일들 롤링!!!!!! # ---> 파일명 그대로 돌릴려고 함.\n",
    "    for f in files:\n",
    "        # 기준이 되는 숫자 파트\n",
    "        p = re.findall(r\"\\d+\", f)[0]\n",
    "        head = f[:f.index(p)].lower()\n",
    "        numner = int(p)\n",
    "        my_files[f] = (head, numner)\n",
    "        # {\"aa01.png\":(\"aa\", 1), \"a003.jpg\":(\"a\",3),.....}\n",
    "    # --> Dict에서 정렬!!!!!!\n",
    "    file_list = my_files.items()\n",
    "    # [ (\"aa01.png\", (\"aa\", 1)), (\"a003.jpg\",(\"a\",3) ),....]\n",
    "    file_list = sorted(file_list, key=lambda x: (x[1][0], x[1][1]))\n",
    "    answer = [ i[0] for i in file_list]\n",
    "    return answer"
   ]
  },
  {
   "cell_type": "code",
   "execution_count": 84,
   "id": "5c12cd6b-91db-4273-b8e3-07cdac500cec",
   "metadata": {},
   "outputs": [
    {
     "data": {
      "text/plain": [
       "['img1.png', 'IMG01.GIF', 'img02.png', 'img2.JPG', 'img10.png', 'img12.png']"
      ]
     },
     "execution_count": 84,
     "metadata": {},
     "output_type": "execute_result"
    }
   ],
   "source": [
    "# Test1\n",
    "a = [\"img12.png\", \"img10.png\", \"img02.png\", \"img1.png\", \"IMG01.GIF\", \"img2.JPG\"]\n",
    "solution(a)\n",
    "# [\"img1.png\", \"IMG01.GIF\", \"img02.png\", \"img2.JPG\", \"img10.png\", \"img12.png\"]"
   ]
  },
  {
   "cell_type": "code",
   "execution_count": null,
   "id": "b0652f9e-6e25-48a3-8b47-e60755dbb1e5",
   "metadata": {},
   "outputs": [],
   "source": [
    "# 익혀야하는 포인트\n",
    "# --> 정렬을 위한 정보들이 무엇인가 정리\n",
    "# --> 정보들을 어떻게 추출/계산할 것인가\n",
    "# --> 나는 어떤 파이썬의 자료혀응로 핸들링을 할까!\n",
    "# --> 정렬 & 출제자 의도대로 출력양식 맞추기"
   ]
  }
 ],
 "metadata": {
  "kernelspec": {
   "display_name": "Python 3 (ipykernel)",
   "language": "python",
   "name": "python3"
  },
  "language_info": {
   "codemirror_mode": {
    "name": "ipython",
    "version": 3
   },
   "file_extension": ".py",
   "mimetype": "text/x-python",
   "name": "python",
   "nbconvert_exporter": "python",
   "pygments_lexer": "ipython3",
   "version": "3.11.7"
  }
 },
 "nbformat": 4,
 "nbformat_minor": 5
}
