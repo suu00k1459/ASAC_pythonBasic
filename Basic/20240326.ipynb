{
 "cells": [
  {
   "cell_type": "code",
   "execution_count": 1,
   "id": "f9469a89-a429-4a1c-a72b-1df1b7d60693",
   "metadata": {},
   "outputs": [],
   "source": [
    "# 문제) [\"A\",\"B\",\"A\",\"O\",\"AB\",\"AB\",\"O\",\"A\",\"B\",\"AB\"]\n",
    "# 이러한 혈액형을 가지고 잇을 때 각 혈액형별로 몇 명인지 총 인원을 구하세요\n",
    "# -> 카운팅"
   ]
  },
  {
   "cell_type": "code",
   "execution_count": 13,
   "id": "af4f84e9-718b-43f9-9ed0-56b1a86f175a",
   "metadata": {},
   "outputs": [
    {
     "name": "stdout",
     "output_type": "stream",
     "text": [
      "AB: 3\n",
      "B: 2\n",
      "A: 3\n",
      "O: 2\n"
     ]
    }
   ],
   "source": [
    "# 방법1) 그냥하기\n",
    "blood_data = [\"A\",\"B\",\"A\",\"O\",\"AB\",\"AB\",\"O\",\"A\",\"B\",\"AB\"]\n",
    "a=0\n",
    "b=0\n",
    "ab=0\n",
    "o=0\n",
    "for i in blood_data:\n",
    "   if i==\"A\":\n",
    "    a+=1\n",
    "   elif i==\"B\":\n",
    "    b+=1\n",
    "   elif i==\"AB\":\n",
    "    ab+=1\n",
    "   else:\n",
    "    o+=1\n",
    "print(\"AB:\",ab)\n",
    "print(\"B:\",b)\n",
    "print(\"A:\",a)\n",
    "print(\"O:\",o)"
   ]
  },
  {
   "cell_type": "code",
   "execution_count": 14,
   "id": "968a55d5-d490-406e-bed8-1626ebe68280",
   "metadata": {},
   "outputs": [
    {
     "name": "stdout",
     "output_type": "stream",
     "text": [
      "AB : 3\n",
      "B : 2\n",
      "A : 3\n",
      "O : 2\n"
     ]
    }
   ],
   "source": [
    "for i in list(set(blood_data)):\n",
    "    print(i,\":\",blood_data.count(i))"
   ]
  },
  {
   "cell_type": "code",
   "execution_count": 15,
   "id": "c838b293-e83e-466c-9a3a-8e0aa4923a2c",
   "metadata": {},
   "outputs": [
    {
     "data": {
      "text/plain": [
       "[3, 2, 3, 2]"
      ]
     },
     "execution_count": 15,
     "metadata": {},
     "output_type": "execute_result"
    }
   ],
   "source": [
    "#참고) 지도상에서 움직이는 것들 \n",
    "blood_data = [\"A\",\"B\",\"A\",\"O\",\"AB\",\"AB\",\"O\",\"A\",\"B\",\"AB\"]\n",
    "blood_type = [\"A\",\"B\",\"AB\",\"O\"]\n",
    "blood_cnts= [0,0,0,0]\n",
    "#--> 했던 스타일들이 다양한 상황에서 도니다. 유연하게 생각하기\n",
    "#핵심) 리스트에서 대응은 정수 인덱스 위치로 함. or dict\n",
    "\n",
    "for blood in blood_data :\n",
    "    # 지정한 혈액종류 중에서 몇 번째 정수 인덱스에 호응이 되는지\n",
    "    for i in range(len (blood_type)):\n",
    "        if blood==blood_type[i]:\n",
    "             blood_cnts[i] +=1\n",
    "        else :\n",
    "            pass\n",
    "blood_cnts"
   ]
  },
  {
   "cell_type": "code",
   "execution_count": 36,
   "id": "dd263b3a-5609-4dab-b3b5-94ad7ce2cdca",
   "metadata": {},
   "outputs": [
    {
     "data": {
      "text/plain": [
       "['A3', 'B2', 'O2', 'AB3']"
      ]
     },
     "execution_count": 36,
     "metadata": {},
     "output_type": "execute_result"
    }
   ],
   "source": [
    "# 방법2) 리스트 컴프리핸션 사용 꼭 1줄은 아닐 수 있음\n",
    "[i+str(len([b for b in blood_data if b ==i])) for i in [\"A\",\"B\",\"O\",\"AB\"]]"
   ]
  },
  {
   "cell_type": "code",
   "execution_count": null,
   "id": "a339f57a-fb2d-4068-86d6-0247b8e7d897",
   "metadata": {},
   "outputs": [],
   "source": [
    "# 목적 : 코드적인 규칙을 잡는 사고 훈련 & 간단한 문법 적용\n",
    "#     -> 규칙을 발견하는 부분\n",
    "#     -> 그 규칙을 코드화 하는 연습\n",
    "#     -> 고정적인 부분, 변하는 부분\n",
    "#----> 변하는 부분들을 리스트업해서 사용하면 됨\n",
    "# ==> 인덱스 처리\n",
    "# 코드를 작성할 때 중요한 부분이면서\n",
    "# 정렬쪽 알고리즘을 할 때 중요한 내용 중 하나임\n"
   ]
  },
  {
   "cell_type": "code",
   "execution_count": 37,
   "id": "cdb0a077-ec43-4f29-89ac-19f6fcafb678",
   "metadata": {},
   "outputs": [
    {
     "data": {
      "text/plain": [
       "'@@@@@'"
      ]
     },
     "execution_count": 37,
     "metadata": {},
     "output_type": "execute_result"
    }
   ],
   "source": [
    "# ex1) @@@@ 을 출력하세요!!\n",
    "\"@@@@@\""
   ]
  },
  {
   "cell_type": "code",
   "execution_count": 38,
   "id": "5d298318-621c-4789-8892-80a7f79953d5",
   "metadata": {},
   "outputs": [
    {
     "data": {
      "text/plain": [
       "'@@@@@'"
      ]
     },
     "execution_count": 38,
     "metadata": {},
     "output_type": "execute_result"
    }
   ],
   "source": [
    "\"@\"*5"
   ]
  },
  {
   "cell_type": "code",
   "execution_count": 39,
   "id": "06c003c3-ad82-4b9f-8f3d-13491b10d375",
   "metadata": {},
   "outputs": [
    {
     "name": "stdout",
     "output_type": "stream",
     "text": [
      "@\n",
      "@\n",
      "@\n",
      "@\n",
      "@\n"
     ]
    }
   ],
   "source": [
    "# 접근 : for + print 를 같이 한다면\n",
    "# 단순히 롤링용(끄냥 단순 반복만 필요한 경우 , 숫자/값이 아닌)\n",
    "# => 단순 몇 번 돌려요!\n",
    "for _ in range(5):\n",
    "    print(\"@\")"
   ]
  },
  {
   "cell_type": "code",
   "execution_count": null,
   "id": "40bce311-dea5-47a0-a91d-ad8668927935",
   "metadata": {},
   "outputs": [],
   "source": [
    "# 규칙 찾기! 고정/ 가변 \n",
    "# print(\"X\"*i+\"@\"*"
   ]
  },
  {
   "cell_type": "code",
   "execution_count": 41,
   "id": "fd4ffc11-7a5b-4820-a48c-43d341debd6d",
   "metadata": {},
   "outputs": [
    {
     "name": "stdout",
     "output_type": "stream",
     "text": [
      "@@@@@@@@@\n",
      "X@@@@@@@\n",
      "XX@@@@@\n",
      "XXX@@@\n",
      "XXXX@\n"
     ]
    }
   ],
   "source": [
    "for i in range(5):\n",
    "    print(\"X\"*i+\"@\"*(2*(4-i)+1))"
   ]
  },
  {
   "cell_type": "code",
   "execution_count": null,
   "id": "6ef6f023-5f74-4ec4-8657-b1f6e18b39f3",
   "metadata": {},
   "outputs": [],
   "source": []
  }
 ],
 "metadata": {
  "kernelspec": {
   "display_name": "Python 3 (ipykernel)",
   "language": "python",
   "name": "python3"
  },
  "language_info": {
   "codemirror_mode": {
    "name": "ipython",
    "version": 3
   },
   "file_extension": ".py",
   "mimetype": "text/x-python",
   "name": "python",
   "nbconvert_exporter": "python",
   "pygments_lexer": "ipython3",
   "version": "3.11.7"
  }
 },
 "nbformat": 4,
 "nbformat_minor": 5
}
