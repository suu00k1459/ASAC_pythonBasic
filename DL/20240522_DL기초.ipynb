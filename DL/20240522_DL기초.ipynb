{
 "cells": [
  {
   "cell_type": "code",
   "execution_count": null,
   "metadata": {
    "id": "ugMynjcHNayr"
   },
   "outputs": [],
   "source": [
    "# DL은 무조건 GPU 있어야 함\n",
    "# T4로 세팅\n",
    "# ML : scikit learn + pandas etc\n",
    "# DL : TensorFlow & Keras 중심 (버전 1, 2는 완전 다름. 코드 수정 필요 : TF 는 2.X 참고 할 것!)\n",
    "#   : pytorch 사용할 것! 다만 버전 이슈가 있음\n",
    "\n",
    "# 조별 프로젝트 : 최신 1~2년으로 버전 세팅 맞추고 시작할 것.\n",
    "# TF 중에서도 keras 모듈 사용이 가능함. -> keras 가 사용하기 편함"
   ]
  },
  {
   "cell_type": "code",
   "execution_count": 1,
   "metadata": {
    "id": "qGPRoZs8QUFd"
   },
   "outputs": [],
   "source": [
    "import numpy as np"
   ]
  },
  {
   "cell_type": "code",
   "execution_count": 3,
   "metadata": {
    "id": "MTs1EehRQNE-"
   },
   "outputs": [],
   "source": [
    "# 01) 0차원 : 스칼라 ex) 3\n",
    "# 코드로 표현하기\n",
    "arr = np.array(10)"
   ]
  },
  {
   "cell_type": "code",
   "execution_count": 4,
   "metadata": {
    "colab": {
     "base_uri": "https://localhost:8080/"
    },
    "id": "LpdV_83QQYBo",
    "outputId": "f5053cfd-106f-40d3-fb28-804a3854fb65"
   },
   "outputs": [
    {
     "data": {
      "text/plain": [
       "()"
      ]
     },
     "execution_count": 4,
     "metadata": {},
     "output_type": "execute_result"
    }
   ],
   "source": [
    "arr.shape"
   ]
  },
  {
   "cell_type": "code",
   "execution_count": 5,
   "metadata": {
    "colab": {
     "base_uri": "https://localhost:8080/"
    },
    "id": "D_tvBxtNQZIu",
    "outputId": "c050c7e6-ecd3-4e6f-81c7-28e0151348dc"
   },
   "outputs": [
    {
     "data": {
      "text/plain": [
       "0"
      ]
     },
     "execution_count": 5,
     "metadata": {},
     "output_type": "execute_result"
    }
   ],
   "source": [
    "# () : 0차원임을 알 수 있음.\n",
    "arr.ndim"
   ]
  },
  {
   "cell_type": "markdown",
   "metadata": {
    "id": "aqAgB1xIQncO"
   },
   "source": [
    "1) 1차원 : 여러개의 스칼라 값을 일렬로 묶어둔 벡터  \n",
    "  --> col-vector, row-vector  \n",
    "  --> 10개를 1차원으로 묶을지, 100개를 1차원으로 묶을지, 개수를 고민해야한는 부분"
   ]
  },
  {
   "cell_type": "code",
   "execution_count": 6,
   "metadata": {
    "id": "-az3bxadQ2Ro"
   },
   "outputs": [],
   "source": [
    "arr = np.array([10])"
   ]
  },
  {
   "cell_type": "code",
   "execution_count": 7,
   "metadata": {
    "colab": {
     "base_uri": "https://localhost:8080/"
    },
    "id": "fxNA3FhPRCGV",
    "outputId": "e8c09796-5331-412b-9af1-92cea1d01c07"
   },
   "outputs": [
    {
     "data": {
      "text/plain": [
       "(1,)"
      ]
     },
     "execution_count": 7,
     "metadata": {},
     "output_type": "execute_result"
    }
   ],
   "source": [
    "arr.shape"
   ]
  },
  {
   "cell_type": "code",
   "execution_count": 8,
   "metadata": {
    "colab": {
     "base_uri": "https://localhost:8080/"
    },
    "id": "X8jL8H9-RC8D",
    "outputId": "2dbb719e-43ee-42ba-a9e3-ed32fd952c13"
   },
   "outputs": [
    {
     "data": {
      "text/plain": [
       "1"
      ]
     },
     "execution_count": 8,
     "metadata": {},
     "output_type": "execute_result"
    }
   ],
   "source": [
    "# 1차원임을 알 수 있음.\n",
    "arr.ndim"
   ]
  },
  {
   "cell_type": "code",
   "execution_count": 9,
   "metadata": {
    "id": "eb1f1if9RGJB"
   },
   "outputs": [],
   "source": [
    "# 1차원에 3개의 원소를 가지는 벡터\n",
    "arr = np.array([1,2,3])"
   ]
  },
  {
   "cell_type": "code",
   "execution_count": 10,
   "metadata": {
    "colab": {
     "base_uri": "https://localhost:8080/"
    },
    "id": "_dnJzlrNRaQt",
    "outputId": "4d967a2e-f65b-465c-9775-5bd1fd117258"
   },
   "outputs": [
    {
     "data": {
      "text/plain": [
       "(3,)"
      ]
     },
     "execution_count": 10,
     "metadata": {},
     "output_type": "execute_result"
    }
   ],
   "source": [
    "arr.shape"
   ]
  },
  {
   "cell_type": "markdown",
   "metadata": {
    "id": "GvxjIQbyRbLe"
   },
   "source": [
    "2) 2차원 : Matrix  \n",
    "  --> 가로, 세로에 대한 2차원 정보가 명확  \n",
    "  --> 파이썬으로 간접적으로 표현하는 게 리스트에서 가로 세롤로 나옴"
   ]
  },
  {
   "cell_type": "code",
   "execution_count": 14,
   "metadata": {
    "id": "D2UVp_yDRpCK"
   },
   "outputs": [],
   "source": [
    "# 파이썬의 리스트로 2차원 간접표현\n",
    "arr = np.array([\n",
    "                [1,2,3],\n",
    "                [4,5,6],\n",
    "                [7,8,9]\n",
    "            ])"
   ]
  },
  {
   "cell_type": "code",
   "execution_count": 15,
   "metadata": {
    "colab": {
     "base_uri": "https://localhost:8080/"
    },
    "id": "r1IZbgo7SPU1",
    "outputId": "c8d56c97-1a6b-48ad-b097-514f366fc79b"
   },
   "outputs": [
    {
     "data": {
      "text/plain": [
       "array([[1, 2, 3],\n",
       "       [4, 5, 6],\n",
       "       [7, 8, 9]])"
      ]
     },
     "execution_count": 15,
     "metadata": {},
     "output_type": "execute_result"
    }
   ],
   "source": [
    "arr"
   ]
  },
  {
   "cell_type": "code",
   "execution_count": 16,
   "metadata": {
    "colab": {
     "base_uri": "https://localhost:8080/"
    },
    "id": "vLsKZqUvSP2d",
    "outputId": "265782a3-48b2-4d63-b153-a5d59869f46a"
   },
   "outputs": [
    {
     "data": {
      "text/plain": [
       "(3, 3)"
      ]
     },
     "execution_count": 16,
     "metadata": {},
     "output_type": "execute_result"
    }
   ],
   "source": [
    "arr.shape"
   ]
  },
  {
   "cell_type": "markdown",
   "metadata": {
    "id": "iUiPSzyHSW4n"
   },
   "source": [
    "3) 3차원 Tensor  \n",
    "  --> 컬러이미지 데이터 1장  \n",
    "&nbsp;&nbsp;&nbsp;&nbsp;이미지 크기 : 2 by 3  \n",
    "&nbsp;&nbsp;&nbsp;&nbsp;이미지의 채널(색상) : R/G/B  \n",
    "  --> 컬러이미지 1장의 데이터는 3차원 데이터!  "
   ]
  },
  {
   "cell_type": "code",
   "execution_count": 22,
   "metadata": {
    "colab": {
     "base_uri": "https://localhost:8080/"
    },
    "id": "z78t2h7DSqif",
    "outputId": "e4806091-7635-4518-c808-b0da9908ae96"
   },
   "outputs": [
    {
     "data": {
      "text/plain": [
       "array([[[ 1,  2,  3],\n",
       "        [ 4,  5,  6]],\n",
       "\n",
       "       [[ 7,  8,  9],\n",
       "        [10, 11, 12]],\n",
       "\n",
       "       [[12, 13, 14],\n",
       "        [15, 16, 17]]])"
      ]
     },
     "execution_count": 22,
     "metadata": {},
     "output_type": "execute_result"
    }
   ],
   "source": [
    "arr = np.array(\n",
    "    [\n",
    "        [[1,2,3],\n",
    "         [4,5,6]],\n",
    "        [[7,8,9],\n",
    "         [10,11,12]],\n",
    "        [[12,13,14],\n",
    "         [15,16,17]]\n",
    "    ]\n",
    ")\n",
    "arr"
   ]
  },
  {
   "cell_type": "code",
   "execution_count": 20,
   "metadata": {
    "colab": {
     "base_uri": "https://localhost:8080/"
    },
    "id": "0Rqyb1-0TOOe",
    "outputId": "5a48ce43-8f09-41e1-e93b-0e3fbbc61af4"
   },
   "outputs": [
    {
     "data": {
      "text/plain": [
       "(3, 2, 3)"
      ]
     },
     "execution_count": 20,
     "metadata": {},
     "output_type": "execute_result"
    }
   ],
   "source": [
    "arr.shape"
   ]
  },
  {
   "cell_type": "code",
   "execution_count": 23,
   "metadata": {
    "colab": {
     "base_uri": "https://localhost:8080/"
    },
    "id": "RluYoOxpTPQf",
    "outputId": "c4dd564e-1578-4f0e-9942-cddb5069c367"
   },
   "outputs": [
    {
     "data": {
      "text/plain": [
       "3"
      ]
     },
     "execution_count": 23,
     "metadata": {},
     "output_type": "execute_result"
    }
   ],
   "source": [
    "arr.ndim"
   ]
  },
  {
   "cell_type": "markdown",
   "metadata": {
    "id": "UoaYG4g5TREE"
   },
   "source": [
    "TF  \n",
    "colab 에서 GPU 세팅"
   ]
  },
  {
   "cell_type": "code",
   "execution_count": 24,
   "metadata": {
    "id": "ScKlv4caTfE_"
   },
   "outputs": [],
   "source": [
    "import tensorflow as tf"
   ]
  },
  {
   "cell_type": "code",
   "execution_count": 26,
   "metadata": {
    "colab": {
     "base_uri": "https://localhost:8080/",
     "height": 35
    },
    "id": "aaSUIjLaTil6",
    "outputId": "8f37eda2-3f29-4930-dc90-d47f4f9949ff"
   },
   "outputs": [
    {
     "data": {
      "application/vnd.google.colaboratory.intrinsic+json": {
       "type": "string"
      },
      "text/plain": [
       "'2.15.0'"
      ]
     },
     "execution_count": 26,
     "metadata": {},
     "output_type": "execute_result"
    }
   ],
   "source": [
    "tf.__version__ #참고 : 양쪽 언더바 2개\n",
    "              # 갑자기 예고없이 버전을 바꾸는 경우가 있음;"
   ]
  },
  {
   "cell_type": "markdown",
   "metadata": {
    "id": "9tIW3AP-Tp3I"
   },
   "source": [
    "TensorFlow 에서는 기본인 되는 자료형 : tensor  \n",
    "python : list/ tuple\n",
    "numpy : array(차원, 모양, 벡터연산) np.array  \n",
    "TF : tensor(고차원의 연산, DL에 연동자료형)  \n",
    "&emsp;tf.constant\n"
   ]
  },
  {
   "cell_type": "code",
   "execution_count": 27,
   "metadata": {
    "colab": {
     "base_uri": "https://localhost:8080/"
    },
    "id": "vatef7kqURym",
    "outputId": "07d8af8f-6928-45d6-a0a3-1ef9a261aa8d"
   },
   "outputs": [
    {
     "data": {
      "text/plain": [
       "<tf.Tensor: shape=(3,), dtype=int32, numpy=array([1, 2, 3], dtype=int32)>"
      ]
     },
     "execution_count": 27,
     "metadata": {},
     "output_type": "execute_result"
    }
   ],
   "source": [
    "#예) 파이썬 리스트 이요해서 1D tensor 로 변환\n",
    "tf.constant([1,2,3])"
   ]
  },
  {
   "cell_type": "code",
   "execution_count": 29,
   "metadata": {
    "colab": {
     "base_uri": "https://localhost:8080/"
    },
    "id": "vl8GQga4UksE",
    "outputId": "f10a60dd-2c2e-4cc8-d943-eb84f4b9a6f1"
   },
   "outputs": [
    {
     "data": {
      "text/plain": [
       "<tf.Tensor: shape=(3,), dtype=int64, numpy=array([1, 2, 3])>"
      ]
     },
     "execution_count": 29,
     "metadata": {},
     "output_type": "execute_result"
    }
   ],
   "source": [
    "arr = np.array([1,2,3])\n",
    "tf.constant(arr)"
   ]
  },
  {
   "cell_type": "code",
   "execution_count": 31,
   "metadata": {
    "colab": {
     "base_uri": "https://localhost:8080/"
    },
    "id": "oMk29yoqUpus",
    "outputId": "a98eed49-dd59-4489-f03e-679bd110aa8e"
   },
   "outputs": [
    {
     "data": {
      "text/plain": [
       "TensorShape([3])"
      ]
     },
     "execution_count": 31,
     "metadata": {},
     "output_type": "execute_result"
    }
   ],
   "source": [
    "tensor_1 = tf.constant(arr)\n",
    "tensor_1.shape"
   ]
  },
  {
   "cell_type": "code",
   "execution_count": 33,
   "metadata": {
    "colab": {
     "base_uri": "https://localhost:8080/"
    },
    "id": "Vons7c5TUvkg",
    "outputId": "a4b79454-08d1-4171-9739-495fa9aa4fe0"
   },
   "outputs": [
    {
     "data": {
      "text/plain": [
       "tf.int64"
      ]
     },
     "execution_count": 33,
     "metadata": {},
     "output_type": "execute_result"
    }
   ],
   "source": [
    "tensor_1.dtype"
   ]
  },
  {
   "cell_type": "code",
   "execution_count": 36,
   "metadata": {
    "colab": {
     "base_uri": "https://localhost:8080/"
    },
    "id": "4v0F8c7ZU0XW",
    "outputId": "6f351a77-6e50-47a8-e536-227ee4da0158"
   },
   "outputs": [
    {
     "data": {
      "text/plain": [
       "<tf.Tensor: shape=(3,), dtype=float32, numpy=array([1., 3., 5.], dtype=float32)>"
      ]
     },
     "execution_count": 36,
     "metadata": {},
     "output_type": "execute_result"
    }
   ],
   "source": [
    "# 자료형이 중요함.\n",
    "# 형 변환하면서 자료형을 지정!\n",
    "\n",
    "t2= tf.constant([1,3,5], dtype = tf.float32)\n",
    "t2"
   ]
  },
  {
   "cell_type": "code",
   "execution_count": 37,
   "metadata": {
    "colab": {
     "base_uri": "https://localhost:8080/"
    },
    "id": "1SWXFjTLU_lu",
    "outputId": "f2981388-1095-44d9-d742-5e98cb9fdd79"
   },
   "outputs": [
    {
     "data": {
      "text/plain": [
       "array([1., 2., 3.], dtype=float32)"
      ]
     },
     "execution_count": 37,
     "metadata": {},
     "output_type": "execute_result"
    }
   ],
   "source": [
    "# 예전에 arrary에서 비슷한 걸 했음\n",
    "arr = np.array([1,2,3], dtype = np.float32)\n",
    "arr"
   ]
  },
  {
   "cell_type": "code",
   "execution_count": 38,
   "metadata": {
    "colab": {
     "base_uri": "https://localhost:8080/"
    },
    "id": "h66TIptaVgxr",
    "outputId": "a75ebe82-9077-4a14-8184-8f079b691f00"
   },
   "outputs": [
    {
     "data": {
      "text/plain": [
       "<tf.Tensor: shape=(3,), dtype=int16, numpy=array([1, 3, 5], dtype=int16)>"
      ]
     },
     "execution_count": 38,
     "metadata": {},
     "output_type": "execute_result"
    }
   ],
   "source": [
    "tf.cast(t2, dtype = tf.int16)"
   ]
  },
  {
   "cell_type": "code",
   "execution_count": 39,
   "metadata": {
    "colab": {
     "base_uri": "https://localhost:8080/"
    },
    "id": "ZV-7xYdvVmEz",
    "outputId": "f2b6d2dc-73a4-4faf-84a4-445a905bbf09"
   },
   "outputs": [
    {
     "data": {
      "text/plain": [
       "array([1, 2, 3], dtype=int16)"
      ]
     },
     "execution_count": 39,
     "metadata": {},
     "output_type": "execute_result"
    }
   ],
   "source": [
    "arr.astype(np.int16)"
   ]
  },
  {
   "cell_type": "code",
   "execution_count": 40,
   "metadata": {
    "colab": {
     "base_uri": "https://localhost:8080/"
    },
    "id": "Pu2VeXB-VpTL",
    "outputId": "c5283531-895b-44c3-edca-3892d4bff408"
   },
   "outputs": [
    {
     "data": {
      "text/plain": [
       "array([1., 3., 5.], dtype=float32)"
      ]
     },
     "execution_count": 40,
     "metadata": {},
     "output_type": "execute_result"
    }
   ],
   "source": [
    "# 서로 형 변환!\n",
    "t2.numpy() #--> tf에서 array 값만 추출"
   ]
  },
  {
   "cell_type": "code",
   "execution_count": 42,
   "metadata": {
    "colab": {
     "base_uri": "https://localhost:8080/"
    },
    "id": "sb633e87Vu6s",
    "outputId": "f0a3e860-517a-4b3d-bd05-1fad2edc0ce4"
   },
   "outputs": [
    {
     "data": {
      "text/plain": [
       "array([1., 3., 5.], dtype=float32)"
      ]
     },
     "execution_count": 42,
     "metadata": {},
     "output_type": "execute_result"
    }
   ],
   "source": [
    "np.array(t2) # numpy의 자료형으로 강제 casting"
   ]
  },
  {
   "cell_type": "code",
   "execution_count": 43,
   "metadata": {
    "id": "5FEbie3ZV4a0"
   },
   "outputs": [],
   "source": [
    "### TF 2.x + keras 모듈 기본 흐름"
   ]
  },
  {
   "cell_type": "code",
   "execution_count": 44,
   "metadata": {
    "colab": {
     "base_uri": "https://localhost:8080/"
    },
    "id": "IoH8yEVEWHvb",
    "outputId": "cf8f2b74-5969-4f2b-bcfa-1ff8a3d408b6"
   },
   "outputs": [
    {
     "data": {
      "text/plain": [
       "<module 'keras.api._v2.keras.datasets.mnist' from '/usr/local/lib/python3.10/dist-packages/keras/api/_v2/keras/datasets/mnist/__init__.py'>"
      ]
     },
     "execution_count": 44,
     "metadata": {},
     "output_type": "execute_result"
    }
   ],
   "source": [
    "# 데이터 불러오기 + 수집한 것.\n",
    "\n",
    "mnist = tf.keras.datasets.mnist\n",
    "mnist"
   ]
  },
  {
   "cell_type": "code",
   "execution_count": 45,
   "metadata": {
    "colab": {
     "base_uri": "https://localhost:8080/"
    },
    "id": "r08PJppCWN1n",
    "outputId": "aa40183b-32d9-4ed8-a47d-179b85d119f9"
   },
   "outputs": [
    {
     "name": "stdout",
     "output_type": "stream",
     "text": [
      "Downloading data from https://storage.googleapis.com/tensorflow/tf-keras-datasets/mnist.npz\n",
      "11490434/11490434 [==============================] - 0s 0us/step\n"
     ]
    }
   ],
   "source": [
    "# 참고) scikit-learn train_test_split\n",
    "\n",
    "(X_train, y_train), (X_test, y_test) = mnist.load_data()"
   ]
  },
  {
   "cell_type": "code",
   "execution_count": 47,
   "metadata": {
    "colab": {
     "base_uri": "https://localhost:8080/"
    },
    "id": "CHBPH91KWYVZ",
    "outputId": "ba676ccf-b37b-49f4-834b-1973f13da90b"
   },
   "outputs": [
    {
     "data": {
      "text/plain": [
       "(60000, 28, 28)"
      ]
     },
     "execution_count": 47,
     "metadata": {},
     "output_type": "execute_result"
    }
   ],
   "source": [
    "X_train.shape"
   ]
  },
  {
   "cell_type": "code",
   "execution_count": 48,
   "metadata": {
    "id": "k8wuk2gGWadc"
   },
   "outputs": [],
   "source": [
    "# 28 by 28 로 이루어진 이미지(흑백) 이 60000장 쌓여있는 3차원 데이터 셋\n",
    "\n",
    "# input_layer : 1개 샘플로 설계! (28,28) 2D로 입력층 설계\n",
    "\n",
    "# 참고) sikit-learn 의 ML로 한다면\n",
    "#   -> 전체 60000장의 샘플을 무조건 2F\n",
    "#     1장에 대한 28*28 2D - > 756 1차원 vactor 로 reshape 할거임\n",
    "#     즉, 60000장에 대해 (60000, 756) 2D Matrix!\n",
    "\n",
    "# DL : 그냥 쌓인대로 하면 됨\n",
    "# 단, 1개 샘플 단위로 입력 레이어를 설계해야 함."
   ]
  },
  {
   "cell_type": "code",
   "execution_count": 49,
   "metadata": {
    "id": "IKr1r5ebXsGE"
   },
   "outputs": [],
   "source": [
    "# 2) 전처리 : 정규화\n",
    "X_train, X_test = X_train/255.0, X_test/255.0\n",
    "\n",
    "# 0~255 까지의 개별 픽셀의 값들을 0~1 사이로 조정\n",
    "# 딥러닝에서 값이 크면 학습이 잘 안됨. normalize 작업 필요"
   ]
  },
  {
   "cell_type": "markdown",
   "metadata": {
    "id": "nLj_g4l_YGx7"
   },
   "source": [
    "* 모델링 : 스스로 설계 + 남의 모델을 가져와서 튜닝  \n",
    "&emsp;&emsp;--> 다른 사람들이나 최신 논문을 참조하면서 설계  \n",
    "\n",
    "* TF의 keras 는 레고 조립하는 것처럼 쌓는 중심의 설계 방식!  \n",
    "&emsp;&emsp;1) 쉽게 layer를 쌓아가는 방식 진행   \n",
    "&emsp;&emsp;- feedback 구조 할 수 없음. 그냥 조립처럼 쌓으면 끝!!  \n",
    "&emsp;&emsp;2) 함수처럼 설계를 in/out 방식으로 설계!(가독성은 안좋지만 feed back 구조가 다양하게 표현하기 용이함)  \n",
    "&emsp;&emsp;--> 당분간 적층구조로만 코드 작성 예정"
   ]
  },
  {
   "cell_type": "code",
   "execution_count": 53,
   "metadata": {
    "colab": {
     "base_uri": "https://localhost:8080/"
    },
    "id": "gKv-gYIVYpIn",
    "outputId": "a45bc761-8924-4072-ad49-153e33794e8b"
   },
   "outputs": [
    {
     "data": {
      "text/plain": [
       "<keras.src.engine.sequential.Sequential at 0x7cb754be66b0>"
      ]
     },
     "execution_count": 53,
     "metadata": {},
     "output_type": "execute_result"
    }
   ],
   "source": [
    "model = tf.keras.models.Sequential(\n",
    "    [\n",
    "        # 쌓는 구조의 방향 : 입력부터 -> 출력 방향으로 쌓는\n",
    "        # 1번 층 : 기능은 입력을 받는 역할 input layer\n",
    "              #  : 모양 학습할 데이터 1개 샘플을 받도록 설계\n",
    "        # -> input layer의 input_shape이라는 파라미터도 퉁 침!\n",
    "        tf.keras.layers.Flatten(input_shape =(28,28)),\n",
    "        tf.keras.layers.Dense(128, activation= \"relu\"),\n",
    "\n",
    "        # output layer : 모델의 목적 0-9까지, 10종류 분류\n",
    "        tf.keras.layers.Dense(10, activation = \"softmax\")\n",
    "    ]\n",
    ")\n",
    "\n",
    "model"
   ]
  },
  {
   "cell_type": "code",
   "execution_count": 54,
   "metadata": {
    "id": "eVaRo0AHZ9ZY"
   },
   "outputs": [],
   "source": [
    "# 3. 설계도 그린 모델을 학습시킬 방법\n",
    "# compile 을 통해서 처리!\n",
    "# 학부 방식 : 어떤 방법으로 최적의 w를 찾을 것인가 -> adam (GD)\n",
    "# loss function :\n",
    "# 모니터링 : 평가 -> metrics (여러개 지표 모니터링도 가능)\n",
    "\n",
    "model.compile(\n",
    "    optimizer = \"Adam\",\n",
    "    loss = \"sparse_categorical_crossentropy\",\n",
    "    metrics = [\"accuracy\"]\n",
    ")"
   ]
  },
  {
   "cell_type": "code",
   "execution_count": 55,
   "metadata": {
    "colab": {
     "base_uri": "https://localhost:8080/"
    },
    "id": "8MbdeoTCcAg3",
    "outputId": "b8357e1e-68c2-4785-9ed9-8a250082a454"
   },
   "outputs": [
    {
     "name": "stdout",
     "output_type": "stream",
     "text": [
      "Epoch 1/3\n",
      "1875/1875 [==============================] - 7s 3ms/step - loss: 0.2644 - accuracy: 0.9238\n",
      "Epoch 2/3\n",
      "1875/1875 [==============================] - 5s 3ms/step - loss: 0.1161 - accuracy: 0.9656\n",
      "Epoch 3/3\n",
      "1875/1875 [==============================] - 6s 3ms/step - loss: 0.0792 - accuracy: 0.9764\n"
     ]
    },
    {
     "data": {
      "text/plain": [
       "<keras.src.callbacks.History at 0x7cb754f7fb50>"
      ]
     },
     "execution_count": 55,
     "metadata": {},
     "output_type": "execute_result"
    }
   ],
   "source": [
    "# 실제 데이터를 밀어 넣으면서 학습\n",
    "model.fit(X_train, y_train, epochs  = 3)"
   ]
  },
  {
   "cell_type": "code",
   "execution_count": 56,
   "metadata": {
    "colab": {
     "base_uri": "https://localhost:8080/"
    },
    "id": "zSl_vSm6cGwy",
    "outputId": "210dec40-dc70-4279-fd87-53f630ea6ae4"
   },
   "outputs": [
    {
     "name": "stdout",
     "output_type": "stream",
     "text": [
      "313/313 [==============================] - 2s 5ms/step - loss: 0.0816 - accuracy: 0.9726\n"
     ]
    },
    {
     "data": {
      "text/plain": [
       "[0.08162202686071396, 0.972599983215332]"
      ]
     },
     "execution_count": 56,
     "metadata": {},
     "output_type": "execute_result"
    }
   ],
   "source": [
    "model.evaluate(X_test, y_test)"
   ]
  },
  {
   "cell_type": "code",
   "execution_count": null,
   "metadata": {
    "id": "G3JiQ8-ycZiw"
   },
   "outputs": [],
   "source": [
    "# KNN 열심히 해도 이정도 안나오는데 DL 로 대충 1개만 쌓아도 0.97 이상 나옴\n"
   ]
  }
 ],
 "metadata": {
  "accelerator": "GPU",
  "colab": {
   "gpuType": "T4",
   "provenance": []
  },
  "kernelspec": {
   "display_name": "Python 3 (ipykernel)",
   "language": "python",
   "name": "python3"
  },
  "language_info": {
   "codemirror_mode": {
    "name": "ipython",
    "version": 3
   },
   "file_extension": ".py",
   "mimetype": "text/x-python",
   "name": "python",
   "nbconvert_exporter": "python",
   "pygments_lexer": "ipython3",
   "version": "3.11.7"
  }
 },
 "nbformat": 4,
 "nbformat_minor": 4
}
