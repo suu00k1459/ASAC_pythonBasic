{
 "cells": [
  {
   "cell_type": "markdown",
   "id": "42ccf79a-b26a-43e9-a45e-02f5849a4f79",
   "metadata": {},
   "source": [
    "# json 알아보기"
   ]
  },
  {
   "cell_type": "code",
   "execution_count": null,
   "id": "bc91ba8b-72f6-4647-b574-535e5f63c242",
   "metadata": {},
   "outputs": [],
   "source": [
    "# json : 서로 다른 프로그램/ 서비스/ 어플리케이션 사이 데이터 주고받는 형식 파일\n",
    "# -> 어떤 값은 뭐구요~~ 그 값은 어떤 양식에 해당\n",
    "# 파이썬 리스트, dict와 상당히 유사\n",
    "\n",
    "# 실제 json 데이터는 문자열로 작성되어 있는 text 데이터\n",
    "# -> 보면 양식이 거의 파있너의 리스트, dict 대응이 됨\n",
    "# re 정규식을 이용해서 필요한 정보들을 다 추출!\n",
    "# json 양식을 파이썬의 자료형을 변환을 해주는 패키지!\n",
    "# json 패키지(anaconda, colab 기본 패키지)\n",
    "# -> 정규식 대신, 정수 인덱스, 키 값으로 원하는 정보 접근 "
   ]
  },
  {
   "cell_type": "code",
   "execution_count": 1,
   "id": "d4521ded-0662-46ed-b727-bab78503caf6",
   "metadata": {},
   "outputs": [],
   "source": [
    "import json"
   ]
  },
  {
   "cell_type": "code",
   "execution_count": 2,
   "id": "90aaa582-4f08-4d00-92da-0d43ad0254fd",
   "metadata": {},
   "outputs": [],
   "source": [
    "json_data1= \"\"\"{\n",
    "    \"color\":\"red\",\n",
    "    \"value\":\"$100\"\n",
    "}\n",
    "\"\"\""
   ]
  },
  {
   "cell_type": "code",
   "execution_count": 3,
   "id": "88749ce3-7085-47f7-a306-f601ef04915f",
   "metadata": {},
   "outputs": [
    {
     "data": {
      "text/plain": [
       "'{\\n    \"color\":\"red\",\\n    \"value\":\"$100\"\\n}\\n'"
      ]
     },
     "execution_count": 3,
     "metadata": {},
     "output_type": "execute_result"
    }
   ],
   "source": [
    "json_data1"
   ]
  },
  {
   "cell_type": "code",
   "execution_count": 6,
   "id": "83bcb7f4-4557-49db-b774-cb424633875d",
   "metadata": {},
   "outputs": [
    {
     "data": {
      "text/plain": [
       "{'color': 'red', 'value': '$100'}"
      ]
     },
     "execution_count": 6,
     "metadata": {},
     "output_type": "execute_result"
    }
   ],
   "source": [
    "result = json.loads(json_data1)\n",
    "result"
   ]
  },
  {
   "cell_type": "code",
   "execution_count": 10,
   "id": "9d26137a-f303-4961-acaa-6b111565e730",
   "metadata": {},
   "outputs": [
    {
     "data": {
      "text/plain": [
       "'{\\n    \"id\" : \"0001\",\\n    \"type\" : \"donut\",\\n    \"name\" : \"Cake\",\\n    \"ppu\" : 0.55,\\n    \"groups\" : {\\n        \"group\" : [\\n                    {\"id\":\"1001\", \"type\":\"Regular\"},\\n                    {\"id\":\"1002\", \"type\":\"Choco\"},\\n                    {\"id\":\"1003\", \"type\":\"Cream\"}\\n                ]\\n    },\\n    \"topping\" : [\\n        {\"id\":\"5001\", \"type\":\"None\"},\\n        {\"id\":\"5002\", \"type\":\"Sugar\"},\\n        {\"id\":\"5003\", \"type\":\"Choco\"}\\n    ]\\n\\n\\n}\\n'"
      ]
     },
     "execution_count": 10,
     "metadata": {},
     "output_type": "execute_result"
    }
   ],
   "source": [
    "json_data2 = \"\"\"{\n",
    "    \"id\" : \"0001\",\n",
    "    \"type\" : \"donut\",\n",
    "    \"name\" : \"Cake\",\n",
    "    \"ppu\" : 0.55,\n",
    "    \"groups\" : {\n",
    "        \"group\" : [\n",
    "                    {\"id\":\"1001\", \"type\":\"Regular\"},\n",
    "                    {\"id\":\"1002\", \"type\":\"Choco\"},\n",
    "                    {\"id\":\"1003\", \"type\":\"Cream\"}\n",
    "                ]\n",
    "    },\n",
    "    \"topping\" : [\n",
    "        {\"id\":\"5001\", \"type\":\"None\"},\n",
    "        {\"id\":\"5002\", \"type\":\"Sugar\"},\n",
    "        {\"id\":\"5003\", \"type\":\"Choco\"}\n",
    "    ]\n",
    "\n",
    "\n",
    "}\n",
    "\"\"\"\n",
    "json_data2\n"
   ]
  },
  {
   "cell_type": "code",
   "execution_count": 11,
   "id": "d607e460-c6f8-4f47-9cb1-904905ed83af",
   "metadata": {},
   "outputs": [
    {
     "data": {
      "text/plain": [
       "{'id': '0001',\n",
       " 'type': 'donut',\n",
       " 'name': 'Cake',\n",
       " 'ppu': 0.55,\n",
       " 'groups': {'group': [{'id': '1001', 'type': 'Regular'},\n",
       "   {'id': '1002', 'type': 'Choco'},\n",
       "   {'id': '1003', 'type': 'Cream'}]},\n",
       " 'topping': [{'id': '5001', 'type': 'None'},\n",
       "  {'id': '5002', 'type': 'Sugar'},\n",
       "  {'id': '5003', 'type': 'Choco'}]}"
      ]
     },
     "execution_count": 11,
     "metadata": {},
     "output_type": "execute_result"
    }
   ],
   "source": [
    "data= json.loads(json_data2)\n",
    "data"
   ]
  },
  {
   "cell_type": "code",
   "execution_count": null,
   "id": "d8db325b-fc4a-41e9-9f1e-3c901c531c40",
   "metadata": {},
   "outputs": [],
   "source": [
    "# JSON 특징 -> 원하는 정보에 대해서 한 번에 접근을 못함. 순차적으로 접근해야 함!\n",
    "#           -> 원하는 정보에 접근하는 코드가 길어짐\n",
    "# 참고) xml 은 태그로 접근이 가능함"
   ]
  },
  {
   "cell_type": "code",
   "execution_count": 12,
   "id": "7904cd01-185b-4eb0-99ad-2195da5181c2",
   "metadata": {},
   "outputs": [
    {
     "data": {
      "text/plain": [
       "'0001'"
      ]
     },
     "execution_count": 12,
     "metadata": {},
     "output_type": "execute_result"
    }
   ],
   "source": [
    "# Q) 받은 데이터의 id값은 무엇인가?\n",
    "data[\"id\"]"
   ]
  },
  {
   "cell_type": "code",
   "execution_count": 14,
   "id": "ed14794d-7cee-4122-9492-1b89545d5921",
   "metadata": {},
   "outputs": [
    {
     "data": {
      "text/plain": [
       "'5001'"
      ]
     },
     "execution_count": 14,
     "metadata": {},
     "output_type": "execute_result"
    }
   ],
   "source": [
    "# Q) 받은 데이터 중에서 topping 항목 중에서 처음 토핑 항목의 id값은 얼마?\n",
    "data[\"topping\"][0][\"id\"] # 계속 단계적으로 파고 들어가야 원하는 값에 접근이 가능\n"
   ]
  },
  {
   "cell_type": "code",
   "execution_count": 16,
   "id": "80e43923-e5cb-424d-b255-1a056fe95c9d",
   "metadata": {},
   "outputs": [
    {
     "data": {
      "text/plain": [
       "'Choco'"
      ]
     },
     "execution_count": 16,
     "metadata": {},
     "output_type": "execute_result"
    }
   ],
   "source": [
    "# Q) 받은 데이터 중에서 2번째 group의 type은 무엇인가?\n",
    "data[\"groups\"][\"group\"][1][\"type\"]"
   ]
  },
  {
   "cell_type": "code",
   "execution_count": null,
   "id": "d0ae1f34-a0f8-4649-a902-4ff1aa560de6",
   "metadata": {},
   "outputs": [],
   "source": []
  }
 ],
 "metadata": {
  "kernelspec": {
   "display_name": "Python 3 (ipykernel)",
   "language": "python",
   "name": "python3"
  },
  "language_info": {
   "codemirror_mode": {
    "name": "ipython",
    "version": 3
   },
   "file_extension": ".py",
   "mimetype": "text/x-python",
   "name": "python",
   "nbconvert_exporter": "python",
   "pygments_lexer": "ipython3",
   "version": "3.11.7"
  }
 },
 "nbformat": 4,
 "nbformat_minor": 5
}
