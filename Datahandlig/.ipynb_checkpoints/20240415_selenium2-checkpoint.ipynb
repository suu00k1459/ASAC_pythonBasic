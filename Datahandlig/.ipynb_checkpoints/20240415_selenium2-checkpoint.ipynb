{
 "cells": [
  {
   "cell_type": "code",
   "execution_count": 1,
   "id": "e6b473f1-f0d4-4d38-bb5a-c230d65b5bf8",
   "metadata": {},
   "outputs": [],
   "source": [
    "# 접속관련 내용 : 버전마다 조금씩 다름\n",
    "from selenium import webdriver\n",
    "from selenium.webdriver.chrome.service import Service\n",
    "\n",
    "# 찾고자 하는 정보들의 속성/ 위치와 관련된 접근\n",
    "from selenium.webdriver.common.by import By\n",
    "\n",
    "# 시간 지연\n",
    "import time\n",
    "\n",
    "# 요청하고 정보가 올 때까지 기다리기\n",
    "from selenium.webdriver.support.ui import WebDriverWait\n",
    "\n",
    "# 상태\n",
    "from selenium.webdriver.chrome.options import Options\n",
    "from selenium.webdriver.support import expected_conditions as ec\n",
    "\n",
    "# 키보드 입력\n",
    "from selenium.webdriver.common.keys import Keys\n"
   ]
  },
  {
   "cell_type": "code",
   "execution_count": 2,
   "id": "78d7e42a-d45f-4c7d-ba41-bd134e9dbd99",
   "metadata": {},
   "outputs": [],
   "source": [
    "# +++옵션\n",
    "# 우리가 하는 정보들이 html 기반으로 하고 있기 때문에 bs4 를 사용해도 됨\n",
    "# ==> 요즘에 여러 필요, 편한 패키지들을 찾아서 하면 됨.\n",
    "from bs4 import BeautifulSoup"
   ]
  },
  {
   "cell_type": "code",
   "execution_count": 3,
   "id": "65297fc1-0b07-4da0-9f0d-ac411dea23f6",
   "metadata": {},
   "outputs": [],
   "source": [
    "# 환경에 맞는 웹드라이버에 대헌 경로\n",
    "# ==> 경로 복사 후 경로에 r\"\" 지정\n",
    "# ==> 폴더 경로 구분을 개발자로 안하고 편하게 하기 위해서\n",
    "\n",
    "path = r\"C:\\Users\\NT551XCJ\\Desktop\\chromedriver-win64\\chromedriver.exe\""
   ]
  },
  {
   "cell_type": "code",
   "execution_count": 87,
   "id": "c6dd5c57-adb8-4aed-8cb1-3bb47a6a017f",
   "metadata": {},
   "outputs": [],
   "source": [
    "# dart 사이트에서 필요한 패키지 : 정보처리를 위해\n",
    "import re\n",
    "import time\n",
    "import datetime\n",
    "import pandas as pd"
   ]
  },
  {
   "cell_type": "code",
   "execution_count": 7,
   "id": "d5beef4a-f7fd-4fbd-bf1a-f38be5a596d0",
   "metadata": {},
   "outputs": [
    {
     "data": {
      "text/plain": [
       "'2024.03.05'"
      ]
     },
     "execution_count": 7,
     "metadata": {},
     "output_type": "execute_result"
    }
   ],
   "source": [
    "# 수집 날짜 : 2024년 3월 5일\n",
    "# -> url상에서 2024.03.05로 표현해서 작성\n",
    "date_year = 2024\n",
    "date_month = 3\n",
    "date_day= 5\n",
    "page = 1\n",
    "\n",
    "# datetime 패키지 장점 : 원하는 양식대로 날짜/ 시간 정보들을 구성\n",
    "# => 날짜 사이의 간격, 몇 일 후의 날짜 등..\n",
    "date = datetime.datetime(date_year, date_month, date_day)\n",
    "date_YMD = date.strftime(\"%Y.%m.%d\")\n",
    "date_YMD"
   ]
  },
  {
   "cell_type": "code",
   "execution_count": 49,
   "id": "d7bf4c2f-6990-4f8f-b3b2-3f8ee44fa72e",
   "metadata": {},
   "outputs": [
    {
     "name": "stdout",
     "output_type": "stream",
     "text": [
      "<class 'datetime.datetime'>\n"
     ]
    }
   ],
   "source": [
    "print(type(date))"
   ]
  },
  {
   "cell_type": "code",
   "execution_count": 26,
   "id": "abf96936-30b2-46a3-a597-48d06ab2e336",
   "metadata": {},
   "outputs": [],
   "source": [
    "url = f\"https://dart.fss.or.kr/dsac001/mainAll.do?selectDate={date_YMD}&sort=&series=&mdayCnt=0&currenPage={page}\""
   ]
  },
  {
   "cell_type": "code",
   "execution_count": 123,
   "id": "f6acffe0-0574-471e-9247-877a0bd880a9",
   "metadata": {},
   "outputs": [],
   "source": [
    "# 지난 수업 시간에는 request/ urllib 직접적으로 접속했음\n",
    "# 이번에는 크롬 브라우저를 통해 접속을 하려고 함\n",
    "# => 중간에 크롬 브라우저의 대리인을 내세워서 접속\n",
    "\n",
    "s = Service(path) #웹브라우저의 파일의 경로지정\n",
    "\n",
    "# 크롬 브라우저에 대한 접속 실행\n",
    "driver = webdriver.Chrome(service =s)\n",
    "\n",
    "# 크롬을 통해서 접속하고자 하는 주소를 입력\n",
    "driver.get(url)"
   ]
  },
  {
   "cell_type": "code",
   "execution_count": 28,
   "id": "660fb323-eaf1-44ea-a9b6-d61f3c17cd32",
   "metadata": {},
   "outputs": [],
   "source": [
    "# 브라우저 닫히면 driver에 정보가 없어서 코드가 안 먹힘!\n",
    "t_path = '//*[@id=\"listContents\"]/div[2]/table/tbody/tr[1]/td[1]'\n",
    "temp = driver.find_element(By.XPATH, t_path)"
   ]
  },
  {
   "cell_type": "code",
   "execution_count": 29,
   "id": "eadb4b18-6462-408a-8f34-418468c6b162",
   "metadata": {},
   "outputs": [
    {
     "data": {
      "text/plain": [
       "<selenium.webdriver.remote.webelement.WebElement (session=\"c37d9df4c5ec7e63cc77c73ab3082089\", element=\"f.07B23D5F4C08E5A5D05B95554907D771.d.EC402C710CB23022EB6076F30DC9A083.e.23\")>"
      ]
     },
     "execution_count": 29,
     "metadata": {},
     "output_type": "execute_result"
    }
   ],
   "source": [
    "temp #안보임"
   ]
  },
  {
   "cell_type": "code",
   "execution_count": 30,
   "id": "593481a8-7857-446a-8c98-bcc590c61d0c",
   "metadata": {},
   "outputs": [
    {
     "data": {
      "text/plain": [
       "'19:29'"
      ]
     },
     "execution_count": 30,
     "metadata": {},
     "output_type": "execute_result"
    }
   ],
   "source": [
    "temp.text"
   ]
  },
  {
   "cell_type": "code",
   "execution_count": 31,
   "id": "5bf08d3e-7615-4222-a10b-46854be8db4d",
   "metadata": {},
   "outputs": [
    {
     "name": "stdout",
     "output_type": "stream",
     "text": [
      "19:29\n",
      "18:58\n",
      "18:50\n",
      "18:48\n",
      "18:43\n"
     ]
    }
   ],
   "source": [
    "# 상위 5개의 공시 시간에 대한 정보 출력!\n",
    "for i in range(1,6):\n",
    "    t_path = f'//*[@id=\"listContents\"]/div[2]/table/tbody/tr[{i}]/td[1]'\n",
    "    temp = driver.find_element(By.XPATH, t_path)\n",
    "    print(temp.text)"
   ]
  },
  {
   "cell_type": "code",
   "execution_count": 32,
   "id": "99c62e99-b6c8-483d-94aa-35294bb8c5b2",
   "metadata": {},
   "outputs": [
    {
     "data": {
      "text/plain": [
       "'19:29 코 에이프릴바이오 [기재정정]매출액또는손익구조30%(대규모법인은15%)이상변동 에이프릴바이오 2024.03.05 코'"
      ]
     },
     "execution_count": 32,
     "metadata": {},
     "output_type": "execute_result"
    }
   ],
   "source": [
    "# 참고) bs4에서 tag 중심으로 찾고자 할 때:\n",
    "# 방법1) 지금 driver에 있는 정보를 bs4를 이용해서 변환을 해서, soup을 통해서 지금까지 했던 대로 찾기\n",
    "#         soup.find(~~), soup.find_all(~~)\n",
    "# 방법2) 세레니움을 이용해서\n",
    "driver.find_elements(By.TAG_NAME, \"tr\")[1].text\n",
    "# 참고) 속도 적인 부분에 있어서는 그 페이지에서 뭔가 찾거나 접근할 요소가 많다면 (정적이라면)\n",
    "# bs4로 하는 게 빠름\n"
   ]
  },
  {
   "cell_type": "code",
   "execution_count": 35,
   "id": "2d4a9af7-8144-47e0-a976-70fc8f1570e4",
   "metadata": {},
   "outputs": [
    {
     "data": {
      "text/plain": [
       "'에이프릴바이오'"
      ]
     },
     "execution_count": 35,
     "metadata": {},
     "output_type": "execute_result"
    }
   ],
   "source": [
    "# Q) 1번 회사의 이름을 출력\n",
    "driver.find_element(By.XPATH, '//*[@id=\"listContents\"]/div[2]/table/tbody/tr[1]/td[2]/span/a').text\n"
   ]
  },
  {
   "cell_type": "code",
   "execution_count": null,
   "id": "f08cc7b9-4689-499f-8146-f0a01335cbc9",
   "metadata": {},
   "outputs": [],
   "source": [
    "# Q) 1번 회사의 공시 이름을 출력\n",
    "# path 사용해도 됨. 다만, XPATH는 id기준으로 줄이기 때문에 규칙 찾기에 어려움 있음\n",
    "# -> find_Elements 쓰던가 FULL_XPATH 쓰는 것도 방법"
   ]
  },
  {
   "cell_type": "code",
   "execution_count": 46,
   "id": "38c934b6-6237-499f-a957-328c57d2a607",
   "metadata": {},
   "outputs": [
    {
     "data": {
      "text/plain": [
       "'[기재정정]매출액또는손익구조30%(대규모법인은15%)이상변동'"
      ]
     },
     "execution_count": 46,
     "metadata": {},
     "output_type": "execute_result"
    }
   ],
   "source": [
    "driver.find_elements(By.TAG_NAME, \"tr\")[1].text.split(\" \")[3]"
   ]
  },
  {
   "cell_type": "code",
   "execution_count": 47,
   "id": "364f7f4f-85b7-4b09-a865-441eb6820bc0",
   "metadata": {},
   "outputs": [
    {
     "data": {
      "text/plain": [
       "'코'"
      ]
     },
     "execution_count": 47,
     "metadata": {},
     "output_type": "execute_result"
    }
   ],
   "source": [
    "# Q) 회사가 속한 시장의 종류의 full name 접근\n",
    "-> 위의 찾을 정보와 다른 점은\n",
    "# 찾을 정보가 값에 있는 것이 아니라 속성값에 존재를 하는 것.\n",
    "#     해결책) beutifulSoup -> find, find_all + get(\"title\")\n",
    "#             selenium -> find_element/find_elements + get_attribute(\"title\")\n",
    "\n",
    "\n",
    "co_cat_path = '//*[@id=\"listContents\"]/div[2]/table/tbody/tr[1]/td[2]/span/span'\n",
    "driver.find_element(By.XPATH, co_cat_path).text # 코 말고 코스닥 시장(\"title\"에 해당)"
   ]
  },
  {
   "cell_type": "code",
   "execution_count": 63,
   "id": "4cfb19b8-8aa1-437b-836b-8c67848bcda2",
   "metadata": {},
   "outputs": [
    {
     "data": {
      "text/plain": [
       "'코스닥시장'"
      ]
     },
     "execution_count": 63,
     "metadata": {},
     "output_type": "execute_result"
    }
   ],
   "source": [
    "driver.find_element(By.XPATH, co_cat_path).get_attribute(\"title\")"
   ]
  },
  {
   "cell_type": "code",
   "execution_count": 73,
   "id": "3a396b17-1657-43f2-b1dd-700b03361c45",
   "metadata": {},
   "outputs": [
    {
     "data": {
      "text/plain": [
       "['01375822']"
      ]
     },
     "execution_count": 73,
     "metadata": {},
     "output_type": "execute_result"
    }
   ],
   "source": [
    "# Q) 회사의 코드값 가져오기\n",
    "co_code_path = '//*[@id=\"listContents\"]/div[2]/table/tbody/tr[1]/td[2]/span/a'\n",
    "code_str = driver.find_element(By.XPATH, co_code_path).get_attribute(\"href\")\n",
    "re.findall(r\"\\d{8}\", code_str)\n"
   ]
  },
  {
   "cell_type": "code",
   "execution_count": null,
   "id": "681893c8-c2d7-4447-9638-311a1bfdc2c7",
   "metadata": {},
   "outputs": [],
   "source": [
    "# 참고) 이런 식으로 공통적이면 제거해도 됨.\n",
    "re.sub(r\"javascript:openCorpInfoNew(\",\"\",driver.find_element(By.PATH,"
   ]
  },
  {
   "cell_type": "code",
   "execution_count": null,
   "id": "72ed7765-b938-4777-af2d-22cf1d713e39",
   "metadata": {},
   "outputs": [],
   "source": [
    "# Q) 공시의 코드값을 가져오세요!!!\n",
    "# ==> tag에 id가 있어서, xpath에서는 id 값으로 접근이 되어서..규칙적으로는 좀;;;\n",
    "# == full path, tag_name etc\n",
    "\n",
    "rcp_path = '/html/body/div[4]/div[2]/div[1]/div[2]/div[3]/div[2]/table/tbody/tr[1]/td[3]/a'\n",
    "driver.find_element(By.XPATH, rcp_path).get_attribute(\"id\")[2:]"
   ]
  },
  {
   "cell_type": "code",
   "execution_count": null,
   "id": "744d9340-15d4-4f18-9b1c-3d5f59bdf7c2",
   "metadata": {},
   "outputs": [],
   "source": [
    "rcp_path = '/html/body/div[4]/div[2]/div[1]/div[2]/div[3]/div[2]/table/tbody/tr[1]/td[3]/a'\n",
    "driver.find_element(By.XPATH, rcp_path).get_attribute(\"href\")"
   ]
  },
  {
   "cell_type": "code",
   "execution_count": null,
   "id": "25e6ed9c-915e-4655-93a9-7638f41a6887",
   "metadata": {},
   "outputs": [],
   "source": [
    "re.findall(r\"\\d{14}\", driver.find_element(By.XPATH, rcp_path).get_attribute(\"href\"))[0]"
   ]
  },
  {
   "cell_type": "code",
   "execution_count": 78,
   "id": "8e2dbc12-4ae7-4d75-8f75-9f8f2bc91d5f",
   "metadata": {},
   "outputs": [],
   "source": [
    "# Q) 1페이지의 모든 공시 정보를 다 추출했다고 하면\n",
    "btn_path = '//*[@id=\"listContents\"]/div[3]/div[2]/ul/li[2]/a'\n",
    "# --> li 뒤에 숫자가 내가 클릭하려는 페이지의 수와 동일함.\n",
    "driver.find_element(By.XPATH, btn_path).click()\n",
    "\n",
    "# 다음 2페이지의 정보가 크롬 브라우저에 충분히 담길 때까지 기다려야 함.\n",
    "# -> 네트워크 상황, 통신 상황, pc 상황 등...\n",
    "time.sleep(3) # 3초 기다리기\n",
    "# --> 사이트마다, 해당하는 적당한 시간들을 체크해야 함.\n",
    "# --> driver에는 다음 페이지의 정보들이 담겨있음 "
   ]
  },
  {
   "cell_type": "code",
   "execution_count": 148,
   "id": "6e1a4539-9796-4a53-a94a-907b035c3c6d",
   "metadata": {},
   "outputs": [
    {
     "data": {
      "text/plain": [
       "'SK디스커버리'"
      ]
     },
     "execution_count": 148,
     "metadata": {},
     "output_type": "execute_result"
    }
   ],
   "source": [
    "# 상황 : 2페이지로 코드상 넘어간 브라우저에서...\n",
    "#        강제적으로 다시 1페이지로 넘어가는 부분을 클릭!!!!!\n",
    "# ===> driver 변수에는 코드적인 2페이지가 아니라 1페이지 정보!!!!!\n",
    "# +++ 로그인 해야하는 사이트들,,,,,,: 반자동처럼 코드를 작성해서 데이터 수집!!\n",
    "# (네이버 : 계속 주기적으로 업데이트를 해서,,,구글링 해서 나오는 코드들이\n",
    "#           안 될 떄가 많이 있음...)\n",
    "# ===> 데이터 수집할 때 상황에 맞게 사용하시면 됨!!!!!\n",
    "\n",
    "# 아래 코드를 실행하면,,1페이지의 1번 공시 회사가 나타남!!!!!\n",
    "# ---> 지금 브라우저에 있는 페이지에 대한 1번 공시에 대한 회사이니\n",
    "#      결과는 상황마다 다를 수 있음!!!!\n",
    "co_path = '//*[@id=\"listContents\"]/div[2]/table/tbody/tr[1]/td[2]/span/a'\n",
    "driver.find_element(By.XPATH,co_path ).text"
   ]
  },
  {
   "cell_type": "markdown",
   "id": "f53cd167-7232-4844-b382-14c462f1bca3",
   "metadata": {},
   "source": [
    "### 문제!"
   ]
  },
  {
   "cell_type": "code",
   "execution_count": null,
   "id": "d594a98c-36a1-4e57-90dc-f9b03ebd7c29",
   "metadata": {},
   "outputs": [],
   "source": [
    "# Q) 1페이지에 있는 모든 공시정보들에 대해서 필요한 정보르 DF에 담아보세요!\n",
    "# -> 세레니움을 사용해서 정보들을 접근해 보세요.\n",
    "# ++ 다음 페이지 넘어가서 하는 부분까지.."
   ]
  },
  {
   "cell_type": "markdown",
   "id": "e17b4d41-987d-42c5-adb3-cbc959406283",
   "metadata": {},
   "source": [
    "### 내 문제 풀이"
   ]
  },
  {
   "cell_type": "code",
   "execution_count": 143,
   "id": "225bf81f-3e94-4bbc-86db-a61fed5ab941",
   "metadata": {},
   "outputs": [],
   "source": [
    "tot_path = '//*[@id=\"listContents\"]/div[3]/div[1]'\n",
    "page_str = re.findall(r'\\/\\d+',driver.find_element(By.XPATH, tot_path).text)[0]\n",
    "page = int(re.sub(r\"[^0-9]\",\"\",page_str))\n",
    "\n",
    "lst =[]\n",
    "for i in range(1,page):\n",
    "    btn_path = f'//*[@id=\"listContents\"]/div[3]/div[2]/ul/li[{page}]/a'\n",
    "    driver.find_element(By.XPATH, btn_path).click()\n",
    "\n",
    "    temp = driver.find_elements(By.TAG_NAME, \"tr\")\n",
    "    for i in range(1,len(temp)):\n",
    "        temp_lst = temp[i].text.split(\" \")\n",
    "        if temp_lst[3] !=\"IR\":\n",
    "            temp_lst.insert(3,\" \")\n",
    "    \n",
    "        lst.append(temp_lst)\n",
    "\n",
    "df = pd.DataFrame(lst)\n",
    "df = df.iloc[:,:7].drop(3, axis=1)\n",
    "\n",
    "df.columns = [\"time\", \"market\", \"coName\", \"reportName\",\"subName\",\"date\"]\n",
    "df"
   ]
  },
  {
   "cell_type": "markdown",
   "id": "3973b596-1c8e-4fd7-be38-46f45e8eba57",
   "metadata": {},
   "source": [
    "### 강사님 문제 풀이!"
   ]
  },
  {
   "cell_type": "code",
   "execution_count": null,
   "id": "ca67f784-1ff1-4080-8713-78493639db58",
   "metadata": {},
   "outputs": [],
   "source": [
    "result = [] # --> 개별 공시들에 대한 정보를 담겠다!!!!!\n",
    "\n",
    "# 숫자 중심으로 하겠습니다...물론 값 중심으로 돌려도 됨!!!!!\n",
    "# --> table의 맨 위에 컬럼도 tr 테그를 가지고 있어서... 101개 나타나게 됨..\n",
    "# --> 좀 더 정확하게 tbody 잡고, 다시 거기서 tr하고,,,,\n",
    "tot_num = len(driver.find_elements( By.TAG_NAME, \"tr\"))\n",
    "for i in range(1, tot_num):\n",
    "    # --> 공시 시간\n",
    "    time_path = f'//*[@id=\"listContents\"]/div[2]/table/tbody/tr[{i}]/td[1]'\n",
    "    t_data = driver.find_element(By.XPATH, time_path).text\n",
    "\n",
    "    # --> 공시 회사, 시장, id\n",
    "    co_path = f'//*[@id=\"listContents\"]/div[2]/table/tbody/tr[{i}]/td[2]/span/a'\n",
    "    co_data = driver.find_element(By.XPATH, co_path).text\n",
    "    co_id   = re.findall(r\"\\d{8}\",  driver.find_element(By.XPATH, co_path).get_attribute(\"href\"))[0]\n",
    "\n",
    "    co_path_cat = f'//*[@id=\"listContents\"]/div[2]/table/tbody/tr[{i}]/td[2]/span/span'\n",
    "    co_cat_data = driver.find_element(By.XPATH, co_path_cat).get_attribute(\"title\")\n",
    "    #print(co_data,co_id,co_cat_data)\n",
    "\n",
    "    # --> 공시 정보에 대한 처리\n",
    "    rcp_path =f'/html/body/div[4]/div[2]/div[1]/div[2]/div[3]/div[2]/table/tbody/tr[{i}]/td[3]/a'\n",
    "    rcp_data = driver.find_element(By.XPATH, rcp_path).text\n",
    "    rcp_id_data = re.findall(r\"\\d{14}\", driver.find_element(By.XPATH, rcp_path).get_attribute(\"href\"))[0]\n",
    "    #print(rcp_data,rcp_id_data)\n",
    "\n",
    "    # --> 요청 일자.\n",
    "    req_path = f'//*[@id=\"listContents\"]/div[2]/table/tbody/tr[{i}]/td[5]'\n",
    "    req_data = driver.find_element(By.XPATH, req_path).text\n",
    "    #print(req_data)\n",
    "\n",
    "    # ---> 1개 공시에 대한 정보를 모아서,,,전체 쌓기!!!!!\n",
    "    result.append([t_data, co_data,co_id,co_cat_data, rcp_data,rcp_id_data,req_data  ]   )\n",
    "print(\"Done!!!\")"
   ]
  },
  {
   "cell_type": "markdown",
   "id": "bbb5970e-9bb5-4e7c-9ac6-8adb7be72571",
   "metadata": {},
   "source": [
    "편하게 하기 위해서 파악한 주소가 있음 -> 직접 요청하는 게 best\n",
    "\n",
    "-> 예) 전자공시사이트 -> openAPI -> 직접 url 찾기 -> selenium"
   ]
  },
  {
   "cell_type": "code",
   "execution_count": null,
   "id": "209c12c8-8726-4ca6-a7dc-58f688376be1",
   "metadata": {},
   "outputs": [
    {
     "name": "stdout",
     "output_type": "stream",
     "text": [
      "현재 진행되는 페이지:1, 이 페이지 공시 수:98\n",
      "현재 진행되는 페이지:2, 이 페이지 공시 수:100\n",
      "현재 진행되는 페이지:3, 이 페이지 공시 수:100\n",
      "현재 진행되는 페이지:4, 이 페이지 공시 수:100\n"
     ]
    }
   ],
   "source": [
    "### 페이지를 돌려가면서 하고 싶다!!!!!!\n",
    "result = []\n",
    "# --> page의 넘길 용도로 변수 : 지금 현재 페이지\n",
    "page = 1\n",
    "\n",
    "# --> 1페이지 위에서 접속하고,,그 다음 페이지를 할 때....\n",
    "# --> 뒤에서...더 넘길 페이지가 없다면,,,멈추면 됨!!!!!!!\n",
    "while True:\n",
    "    # 1. 현재 진행되는 페이지 정보& 처리할 수!!!!!\n",
    "    tot_num = len(driver.find_elements( By.TAG_NAME, \"tr\"))\n",
    "    print(f\"현재 진행되는 페이지:{page}, 이 페이지 공시 수:{tot_num-1}\")\n",
    "\n",
    "    for i in range(1, tot_num):\n",
    "        # --> 공시 시간\n",
    "        time_path = f'//*[@id=\"listContents\"]/div[2]/table/tbody/tr[{i}]/td[1]'\n",
    "        t_data = driver.find_element(By.XPATH, time_path).text\n",
    "\n",
    "        # --> 공시 회사, 시장, id\n",
    "        co_path = f'//*[@id=\"listContents\"]/div[2]/table/tbody/tr[{i}]/td[2]/span/a'\n",
    "        co_data = driver.find_element(By.XPATH, co_path).text\n",
    "        co_id   = re.findall(r\"\\d{8}\",  driver.find_element(By.XPATH, co_path).get_attribute(\"href\"))[0]\n",
    "\n",
    "        co_path_cat = f'//*[@id=\"listContents\"]/div[2]/table/tbody/tr[{i}]/td[2]/span/span'\n",
    "        co_cat_data = driver.find_element(By.XPATH, co_path_cat).get_attribute(\"title\")\n",
    "        #print(co_data,co_id,co_cat_data)\n",
    "\n",
    "        # --> 공시 정보에 대한 처리\n",
    "        rcp_path =f'/html/body/div[4]/div[2]/div[1]/div[2]/div[3]/div[2]/table/tbody/tr[{i}]/td[3]/a'\n",
    "        rcp_data = driver.find_element(By.XPATH, rcp_path).text\n",
    "        rcp_id_data = re.findall(r\"\\d{14}\", driver.find_element(By.XPATH, rcp_path).get_attribute(\"href\"))[0]\n",
    "        #print(rcp_data,rcp_id_data)\n",
    "\n",
    "        # --> 요청 일자.\n",
    "        req_path = f'//*[@id=\"listContents\"]/div[2]/table/tbody/tr[{i}]/td[5]'\n",
    "        req_data = driver.find_element(By.XPATH, req_path).text\n",
    "        #print(req_data)\n",
    "\n",
    "        # ---> 1개 공시에 대한 정보를 모아서,,,전체 쌓기!!!!!\n",
    "        # ==> 리스트, deque or Dict 같은 형식으로 모으시면 됨!!!\n",
    "        #    최대한 수집하는 1개 샘플에 대해서 DF은 피하세요!!!!!!\n",
    "        result.append([t_data, co_data,co_id,co_cat_data, rcp_data,rcp_id_data,req_data  ]   )\n",
    "    #---> 그 페이지에서 처리할 공시 정보들 다 처리!!!!!\n",
    "\n",
    "    # 추가 : 다음 페이지로 넘기는 요소를 찾아서 클릭하는 코드!!!!!!\n",
    "    #       (참고: 총 공시 건수가 1000건 미만인 상황 가정...)\n",
    "    b_btn_path ='//*[@id=\"listContents\"]/div[3]/div[2]/ul'\n",
    "    # soup에서도 찾고,,,또 거기서 찾고,,또 뭐 하고!!!!: 셀레니움에서도 가능하다!!\n",
    "    tot_page_btn = len(driver.find_element(By.XPATH,b_btn_path ).find_elements(By.TAG_NAME,\"li\" ))\n",
    "    # 지금 공시 정보를 처리한 페이지가 맨 마지막 페이지라면,,Stop\n",
    "    if page == tot_page_btn:\n",
    "        break\n",
    "    # 아직 더 남아서 다음 페이지 클릭해야한다...\n",
    "    else:\n",
    "        next_path = f'//*[@id=\"listContents\"]/div[3]/div[2]/ul/li[{page+1}]/a'\n",
    "        driver.find_element(By.XPATH, next_path).click()\n",
    "        page += 1\n",
    "        #######? 다음 페이지 정보가 충분히 driver 변수에 담길 때 까지 기다려야 함...\\\n",
    "        time.sleep(3)\n",
    "print(\"Done!!!!!!\")"
   ]
  },
  {
   "cell_type": "code",
   "execution_count": null,
   "id": "c74e5536-00c2-4597-8879-d64ac6421960",
   "metadata": {},
   "outputs": [],
   "source": []
  },
  {
   "cell_type": "code",
   "execution_count": null,
   "id": "19546600-d0b0-4d51-8cc5-98cce2b39721",
   "metadata": {},
   "outputs": [],
   "source": []
  }
 ],
 "metadata": {
  "kernelspec": {
   "display_name": "Python 3 (ipykernel)",
   "language": "python",
   "name": "python3"
  },
  "language_info": {
   "codemirror_mode": {
    "name": "ipython",
    "version": 3
   },
   "file_extension": ".py",
   "mimetype": "text/x-python",
   "name": "python",
   "nbconvert_exporter": "python",
   "pygments_lexer": "ipython3",
   "version": "3.11.7"
  }
 },
 "nbformat": 4,
 "nbformat_minor": 5
}
