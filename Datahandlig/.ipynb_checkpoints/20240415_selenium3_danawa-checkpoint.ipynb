{
 "cells": [
  {
   "cell_type": "code",
   "execution_count": null,
   "id": "e595fc2e-7fe2-4774-a28e-8be731c9de45",
   "metadata": {},
   "outputs": [],
   "source": [
    "### 다나와 사이트\n",
    "# --> 컴퓨터 --> 노트북 --> 노트북 전체\n",
    "# https://prod.danawa.com/list/?cate=112758&15main_11_02="
   ]
  },
  {
   "cell_type": "code",
   "execution_count": 7,
   "id": "f1d7dceb-e2a5-4334-9a58-9914463014f6",
   "metadata": {},
   "outputs": [],
   "source": [
    "from selenium import webdriver\n",
    "from selenium.webdriver.chrome.service import Service\n",
    "\n",
    "from selenium.webdriver.common.by import By\n",
    "\n",
    "import time\n",
    "\n",
    "from selenium.webdriver.support.ui import WebDriverWait\n",
    "\n",
    "from selenium.webdriver.chrome.options import Options\n",
    "from selenium.webdriver.support import expected_conditions as ec\n",
    "\n",
    "from selenium.webdriver.common.keys import Keys\n",
    "\n",
    "# ++html 상의 정보를 soup 으로 처리하기 위해서\n",
    "from bs4 import BeautifulSoup\n",
    "\n",
    "import re\n",
    "import datetime\n",
    "import pandas as pd"
   ]
  },
  {
   "cell_type": "code",
   "execution_count": 8,
   "id": "5fb4af80-e2aa-43a2-9f97-d802bf621382",
   "metadata": {},
   "outputs": [],
   "source": [
    "path = r\"C:\\Users\\NT551XCJ\\Desktop\\chromedriver-win64\\chromedriver.exe\""
   ]
  },
  {
   "cell_type": "code",
   "execution_count": 9,
   "id": "7ab8ed42-bc76-4f6f-9fc4-654b2ddb2263",
   "metadata": {},
   "outputs": [],
   "source": [
    "url = f\"https://prod.danawa.com/list/?cate=112758&15main_11_02=\""
   ]
  },
  {
   "cell_type": "code",
   "execution_count": 11,
   "id": "e076b5fd-2706-4214-8dd4-53f555b97199",
   "metadata": {},
   "outputs": [
    {
     "data": {
      "text/plain": [
       "'https://prod.danawa.com/list/?cate=112758&15main_11_02='"
      ]
     },
     "execution_count": 11,
     "metadata": {},
     "output_type": "execute_result"
    }
   ],
   "source": [
    "url"
   ]
  },
  {
   "cell_type": "code",
   "execution_count": 31,
   "id": "66f75644-de5d-4f6b-98d2-16fb7ae62300",
   "metadata": {},
   "outputs": [],
   "source": [
    "# 셀레니움 이용한 브라우저 접속 환경\n",
    "s = Service(path)\n",
    "driver = webdriver.Chrome(service =s)\n",
    "driver.get(url)\n",
    "\n",
    "btn_ex_path= '//*[@id=\"dlMaker_simple\"]/dd/div[2]/button[1]'\n",
    "driver.find_element(By.XPATH, btn_ex_path).click()\n",
    "\n",
    "apple_btn_path = '//*[@id=\"searchMaker1452\"]'\n",
    "driver.find_element(By.XPATH, apple_btn_path).click()\n",
    "\n",
    "# 정보 넘어갈 수 있는 시간 확보 : 딜레이하기\n",
    "time.sleep(3)\n",
    "\n",
    "# --> 내가 원하는 선택까지는 셀레니움으로 하고,\n",
    "# 필요한 정보 추출은 속도를 위해서 bs4를 사용하겠다!\n",
    "# --> 껍데기는 셀레니움으로 돌고, 내부 정보 추출은 속도 bs4로 처리 (여러 유용한 패키지들도 있음..)\n",
    "soup = BeautifulSoup(driver.page_source, \"html.parser\")"
   ]
  },
  {
   "cell_type": "code",
   "execution_count": 32,
   "id": "215fd70f-0058-4d40-b053-11034e5a71b2",
   "metadata": {},
   "outputs": [
    {
     "data": {
      "text/plain": [
       "30"
      ]
     },
     "execution_count": 32,
     "metadata": {},
     "output_type": "execute_result"
    }
   ],
   "source": [
    "# 참고로 이제는 정보를 찾는 기준이 tag중심\n",
    "len(soup.find(\"div\", class_ = \"main_prodlist main_prodlist_list\").find_all(\"li\", class_ = \"prod_item prod_layer\"))"
   ]
  },
  {
   "cell_type": "code",
   "execution_count": 33,
   "id": "ca2c5d0d-4fa7-478c-b353-7a38f359f3a8",
   "metadata": {},
   "outputs": [
    {
     "name": "stdout",
     "output_type": "stream",
     "text": [
      "APPLE 2024 맥북프로16 M3 Pro 12Core 18GPU 블랙\n",
      "APPLE 2024 맥북프로14 M3 8Core 10GPU 그레이\n",
      "APPLE 2023 맥북에어15 M2 8Core 10GPU 그레이\n",
      "APPLE 2023 맥북에어15 M2 8Core 10GPU 블루\n",
      "APPLE 2024 맥북프로14 M3 Max 14Core 30GPU 블랙\n",
      "APPLE 2024 맥북프로16 M3 Pro 12Core 18GPU 실버\n",
      "APPLE 2024 맥북프로14 M3 Pro 11Core 14GPU 실버\n",
      "APPLE 2024 맥북프로14 M3 Pro 12Core 18GPU 블랙\n",
      "APPLE 2024 맥북프로14 M3 8Core 10GPU 실버\n",
      "APPLE 2024 맥북에어13 M3 8Core 8GPU 블루\n",
      "APPLE 2024 맥북에어15 M3 8Core 10GPU 실버\n",
      "APPLE 2024 맥북에어15 M3 8Core 10GPU 블루\n",
      "APPLE 2020 맥북에어 M1 8Core 7GPU 실버\n",
      "APPLE 2022 맥북에어13 M2 8Core 8GPU 블루\n",
      "APPLE 2024 맥북에어13 M3 8Core 10GPU 그레이\n",
      "APPLE 2022 맥북에어13 M2 8Core 10GPU 그레이\n",
      "APPLE 2024 맥북에어13 M3 8Core 8GPU 골드\n",
      "APPLE 2020 맥북에어 M1 8Core 7GPU 그레이\n",
      "APPLE 2024 맥북프로14 M3 Pro 11Core 14GPU 블랙\n",
      "APPLE 2022 맥북에어13 M2 8Core 10GPU 실버\n",
      "APPLE 2024 맥북에어13 M3 8Core 8GPU 실버\n",
      "APPLE 2021 맥북프로14 M1 Pro 8Core 14GPU 그레이\n",
      "APPLE 2024 맥북에어13 M3 8Core 10GPU 실버\n",
      "APPLE 2020 맥북에어 M1 8Core 8GPU 그레이\n",
      "APPLE 2024 맥북프로16 M3 Max 14Core 30GPU 블랙\n",
      "APPLE 2021 맥북프로14 M1 Pro 8Core 14GPU 실버\n",
      "APPLE 2020 맥북에어 M1 8Core 8GPU 실버\n",
      "APPLE 2020 맥북에어 M1 8Core 8GPU 골드\n",
      "APPLE 2020 맥북에어 M1 8Core 7GPU 골드\n",
      "APPLE 2021 맥북프로14 M1 Pro 10Core 16GPU 실버\n"
     ]
    }
   ],
   "source": [
    "temp = soup.find(\"div\", class_ = \"main_prodlist main_prodlist_list\").find_all(\"li\", class_ = \"prod_item prod_layer\")\n",
    "for i_data in temp:\n",
    "    # --> 제품의 이름만 체크..\n",
    "    # print(i_data.find(\"a\"))\n",
    "    print(i_data.find(\"a\",{\"name\":\"productName\"}).text.strip())"
   ]
  },
  {
   "cell_type": "code",
   "execution_count": null,
   "id": "44e79f8e-1254-43a2-861c-5d9f8b87ff96",
   "metadata": {},
   "outputs": [],
   "source": [
    "# 정리\n",
    "# 여러 형식 중에서 웹에 데이터가 존재할 경우\n",
    "# 1) API 가 있는지\n",
    "# -> API 양식에 맞는 URL 작성하는 부분\n",
    "# -> JSON, XML etc\n",
    "# -> 인터넷 접속을 위해서 : urllib + json패키지 필요, requests : json 메서드가 있음\n",
    "\n",
    "# 2) 웹 페이지에 정보가 있는지\n",
    "# -> 주소창이 정확하게 원하는 정보에 따라 변경이 되는지 체크\n",
    "# 그런 규칙이 안보인다면 개발자 도구로 해당 ur이나 내부 요청에 대한 정보 탐색.(사이트별로. 경우에 따라 안되는 곳도 있음)\n",
    "# -> 내가 마치 코드적으로 브라우저인 것 처럼 header 정보를 실어야 하는 케이스\n",
    "#     or 그냥 주소만 요청해도 되는 사이트가 있음\n",
    "\n",
    "#     + 브라우저를 통해서 접근하는 셀레니움..(대안일 수도)\n",
    "#     -> 요소 중심으로 처리를 하시면 됨\n",
    "#     -> 장점 : 우회적으로 피할 수 있으나, 속도의 이슈가 존재함!\n",
    "#         + bs4 같이 혼합해서 쓰는 것도 방법\n",
    "\n",
    "# => 내가 할 사이트에 대해서 직접 하면서 에러 처리!\n"
   ]
  }
 ],
 "metadata": {
  "kernelspec": {
   "display_name": "Python 3 (ipykernel)",
   "language": "python",
   "name": "python3"
  },
  "language_info": {
   "codemirror_mode": {
    "name": "ipython",
    "version": 3
   },
   "file_extension": ".py",
   "mimetype": "text/x-python",
   "name": "python",
   "nbconvert_exporter": "python",
   "pygments_lexer": "ipython3",
   "version": "3.11.7"
  }
 },
 "nbformat": 4,
 "nbformat_minor": 5
}
