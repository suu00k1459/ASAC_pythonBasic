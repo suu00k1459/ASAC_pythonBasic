{
 "cells": [
  {
   "cell_type": "markdown",
   "id": "bbf8f229-4b41-41e9-ad4e-21c4939810ce",
   "metadata": {},
   "source": [
    "주어진 환경에 따라서 다름!!!  \n",
    "--> PC의 상황, 지금 다른 프로그램 켜져있는 상황 등...  \n",
    "--> 대략적으로 체크!!!!"
   ]
  },
  {
   "cell_type": "code",
   "execution_count": 1,
   "id": "ee805c9a-60a0-4c0e-99a5-e4a42b9f2074",
   "metadata": {},
   "outputs": [],
   "source": [
    "import time\n",
    "import timeit\n",
    "# --> 여러번 반복 수행하면서, 코드 실행시간을 체크!!\n",
    "\n",
    "# 데이터를 합칠 때 사용하는 주된 자료형\n",
    "# --> 리스트/dict + deque\n",
    "#     numpy array\n",
    "#     pandas DF\n",
    "import pandas as pd\n",
    "import numpy as np\n",
    "from collections import deque"
   ]
  },
  {
   "cell_type": "code",
   "execution_count": 2,
   "id": "c0f1a5c5-e51f-4adb-a2a7-1ad0d0e95d73",
   "metadata": {},
   "outputs": [],
   "source": [
    "# DF concat 하는 방법\n",
    "\n",
    "def df_concat(n):\n",
    "    df = pd.DataFrame(columns=[\"A\",\"B\",\"C\"])\n",
    "    temp = pd.DataFrame.from_dict({\"A\":[1], \"B\":[11.3], \"C\":[\"abcdef\"]})\n",
    "    for _ in range(n):\n",
    "        df = pd.concat([df, temp], ignore_index=True)\n",
    "    return df"
   ]
  },
  {
   "cell_type": "code",
   "execution_count": 3,
   "id": "46140f83-8754-4a45-9d9d-e9cd8dffac3b",
   "metadata": {},
   "outputs": [],
   "source": [
    "# 리스트 append 방법\n",
    "\n",
    "def list_append_df(n):\n",
    "    data = []\n",
    "    for _ in range(n):\n",
    "        data.append([1,11.3,\"abcdef\"])\n",
    "    return pd.DataFrame(data, columns=[\"A\",\"B\",\"C\"])"
   ]
  },
  {
   "cell_type": "code",
   "execution_count": 4,
   "id": "64e02330-b902-44d5-a58d-a9727a25e7ca",
   "metadata": {},
   "outputs": [],
   "source": [
    "# 넘파이 방법\n",
    "\n",
    "def np_append_df(n):\n",
    "    data = np.array(np.empty((0,3), int)) # 빈배열 만들어주기\n",
    "    for _ in range(n):\n",
    "        data = np.append(data, np.array([[1, 11.3,\"abcdef\"]]), axis=0)\n",
    "    return pd.DataFrame(data, columns=[\"A\",\"B\",\"C\"])\n"
   ]
  },
  {
   "cell_type": "code",
   "execution_count": 5,
   "id": "42f1c9aa-c7fc-4a70-b8cf-a7f09d719b00",
   "metadata": {},
   "outputs": [],
   "source": [
    "# deque 방법\n",
    "\n",
    "def deque_append_df(n):\n",
    "    data = deque([])\n",
    "    for _ in range(n):\n",
    "        data.append([1,11.3,\"abcdef\"])\n",
    "    return pd.DataFrame(data, columns=[\"A\",\"B\",\"C\"])"
   ]
  },
  {
   "cell_type": "code",
   "execution_count": 6,
   "id": "5e250478-3ef3-4cd3-baf9-66648e7c88ee",
   "metadata": {},
   "outputs": [
    {
     "name": "stdout",
     "output_type": "stream",
     "text": [
      "CPU times: total: 0 ns\n",
      "Wall time: 6.22 ms\n",
      "CPU times: total: 0 ns\n",
      "Wall time: 0 ns\n",
      "CPU times: total: 0 ns\n",
      "Wall time: 16.8 ms\n",
      "CPU times: total: 0 ns\n",
      "Wall time: 0 ns\n"
     ]
    },
    {
     "name": "stderr",
     "output_type": "stream",
     "text": [
      "C:\\Users\\NT551XCJ\\AppData\\Local\\Temp\\ipykernel_21692\\838831640.py:7: FutureWarning: The behavior of DataFrame concatenation with empty or all-NA entries is deprecated. In a future version, this will no longer exclude empty or all-NA columns when determining the result dtypes. To retain the old behavior, exclude the relevant entries before the concat operation.\n",
      "  df = pd.concat([df, temp], ignore_index=True)\n"
     ]
    },
    {
     "data": {
      "text/html": [
       "<div>\n",
       "<style scoped>\n",
       "    .dataframe tbody tr th:only-of-type {\n",
       "        vertical-align: middle;\n",
       "    }\n",
       "\n",
       "    .dataframe tbody tr th {\n",
       "        vertical-align: top;\n",
       "    }\n",
       "\n",
       "    .dataframe thead th {\n",
       "        text-align: right;\n",
       "    }\n",
       "</style>\n",
       "<table border=\"1\" class=\"dataframe\">\n",
       "  <thead>\n",
       "    <tr style=\"text-align: right;\">\n",
       "      <th></th>\n",
       "      <th>A</th>\n",
       "      <th>B</th>\n",
       "      <th>C</th>\n",
       "    </tr>\n",
       "  </thead>\n",
       "  <tbody>\n",
       "    <tr>\n",
       "      <th>0</th>\n",
       "      <td>1</td>\n",
       "      <td>11.3</td>\n",
       "      <td>abcdef</td>\n",
       "    </tr>\n",
       "    <tr>\n",
       "      <th>1</th>\n",
       "      <td>1</td>\n",
       "      <td>11.3</td>\n",
       "      <td>abcdef</td>\n",
       "    </tr>\n",
       "    <tr>\n",
       "      <th>2</th>\n",
       "      <td>1</td>\n",
       "      <td>11.3</td>\n",
       "      <td>abcdef</td>\n",
       "    </tr>\n",
       "    <tr>\n",
       "      <th>3</th>\n",
       "      <td>1</td>\n",
       "      <td>11.3</td>\n",
       "      <td>abcdef</td>\n",
       "    </tr>\n",
       "    <tr>\n",
       "      <th>4</th>\n",
       "      <td>1</td>\n",
       "      <td>11.3</td>\n",
       "      <td>abcdef</td>\n",
       "    </tr>\n",
       "    <tr>\n",
       "      <th>5</th>\n",
       "      <td>1</td>\n",
       "      <td>11.3</td>\n",
       "      <td>abcdef</td>\n",
       "    </tr>\n",
       "    <tr>\n",
       "      <th>6</th>\n",
       "      <td>1</td>\n",
       "      <td>11.3</td>\n",
       "      <td>abcdef</td>\n",
       "    </tr>\n",
       "    <tr>\n",
       "      <th>7</th>\n",
       "      <td>1</td>\n",
       "      <td>11.3</td>\n",
       "      <td>abcdef</td>\n",
       "    </tr>\n",
       "    <tr>\n",
       "      <th>8</th>\n",
       "      <td>1</td>\n",
       "      <td>11.3</td>\n",
       "      <td>abcdef</td>\n",
       "    </tr>\n",
       "    <tr>\n",
       "      <th>9</th>\n",
       "      <td>1</td>\n",
       "      <td>11.3</td>\n",
       "      <td>abcdef</td>\n",
       "    </tr>\n",
       "  </tbody>\n",
       "</table>\n",
       "</div>"
      ],
      "text/plain": [
       "   A     B       C\n",
       "0  1  11.3  abcdef\n",
       "1  1  11.3  abcdef\n",
       "2  1  11.3  abcdef\n",
       "3  1  11.3  abcdef\n",
       "4  1  11.3  abcdef\n",
       "5  1  11.3  abcdef\n",
       "6  1  11.3  abcdef\n",
       "7  1  11.3  abcdef\n",
       "8  1  11.3  abcdef\n",
       "9  1  11.3  abcdef"
      ]
     },
     "execution_count": 6,
     "metadata": {},
     "output_type": "execute_result"
    }
   ],
   "source": [
    "# test\n",
    "# 수집할 데이터가 적으면 시간상 차이가 나도, 사람이 인지할 정도는 아님\n",
    "\n",
    "n = 10\n",
    "\n",
    "%time df_concat(n)\n",
    "%time list_append_df(n)\n",
    "%time np_append_df(n)\n",
    "%time deque_append_df(n)"
   ]
  },
  {
   "cell_type": "markdown",
   "id": "dd6975d5-7efa-4d94-b78c-3731e9a47187",
   "metadata": {},
   "source": [
    "정리)  \n",
    "1. pandas : 편하긴 하지만, 여러 건을 하면 속도가 많이 느려짐\n",
    "2. numpy : 빠를 것 같지만, 생각만큼 안 빠름. (숫자 위주로 그렇기 때문)  \n",
    "3. 생각보다 파이썬의 기본 list 가 빠를 수 있음.  \n",
    "   : 데이터 수집하는 과정에서 주로 리스트형으로 수집을 한 이유\n",
    "4. deque가 대안이 될 수 있다.\n",
    "   + 중간에 너무 무거워지면 중간 중간 저장해서 가벼운 상태로 진행하는 것이 좋다."
   ]
  },
  {
   "cell_type": "code",
   "execution_count": null,
   "id": "33efe148-491b-43db-ad1d-1b619ba21da1",
   "metadata": {},
   "outputs": [],
   "source": []
  }
 ],
 "metadata": {
  "kernelspec": {
   "display_name": "Python 3 (ipykernel)",
   "language": "python",
   "name": "python3"
  },
  "language_info": {
   "codemirror_mode": {
    "name": "ipython",
    "version": 3
   },
   "file_extension": ".py",
   "mimetype": "text/x-python",
   "name": "python",
   "nbconvert_exporter": "python",
   "pygments_lexer": "ipython3",
   "version": "3.11.7"
  }
 },
 "nbformat": 4,
 "nbformat_minor": 5
}
