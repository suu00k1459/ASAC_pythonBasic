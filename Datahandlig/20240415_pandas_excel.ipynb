{
 "cells": [
  {
   "cell_type": "code",
   "execution_count": 14,
   "id": "061bcf6d-00ac-4461-b70a-288d1697af0d",
   "metadata": {},
   "outputs": [
    {
     "name": "stdout",
     "output_type": "stream",
     "text": [
      "Collecting xlrd\n",
      "  Downloading xlrd-2.0.1-py2.py3-none-any.whl.metadata (3.4 kB)\n",
      "Downloading xlrd-2.0.1-py2.py3-none-any.whl (96 kB)\n",
      "   ---------------------------------------- 0.0/96.5 kB ? eta -:--:--\n",
      "   ---- ----------------------------------- 10.2/96.5 kB ? eta -:--:--\n",
      "   -------------------------------------- - 92.2/96.5 kB 1.7 MB/s eta 0:00:01\n",
      "   ---------------------------------------- 96.5/96.5 kB 1.4 MB/s eta 0:00:00\n",
      "Installing collected packages: xlrd\n",
      "Successfully installed xlrd-2.0.1\n",
      "Note: you may need to restart the kernel to use updated packages.\n"
     ]
    }
   ],
   "source": [
    "pip install xlrd"
   ]
  },
  {
   "cell_type": "code",
   "execution_count": 11,
   "id": "7ddda166-8b9d-436f-a7a5-49dd3b945c6c",
   "metadata": {},
   "outputs": [],
   "source": [
    "import pandas as pd\n",
    "import re"
   ]
  },
  {
   "cell_type": "code",
   "execution_count": 17,
   "id": "e97109b5-4b5f-4568-9850-cb8d15aa1982",
   "metadata": {},
   "outputs": [],
   "source": [
    "# 07_surveys_excelformat\n",
    "path = r\"C:\\Users\\NT551XCJ\\Documents\\suyoungkim\\05.DataHandling\\pandas_csv_training\"\n",
    "file = path+\"\\\\07_surveys_excelformat.xls\"\n",
    "\n",
    "data = pd.read_excel(file, sheet_name=\"Sheet1\")"
   ]
  },
  {
   "cell_type": "code",
   "execution_count": 19,
   "id": "d9b8be20-a65b-47a0-9e27-479f2d04991f",
   "metadata": {},
   "outputs": [],
   "source": [
    "data.to_excel(\"test_excel.xlsx\")"
   ]
  },
  {
   "cell_type": "code",
   "execution_count": 20,
   "id": "ee60713e-2abc-45f4-8daf-4f17d160c2dc",
   "metadata": {},
   "outputs": [],
   "source": [
    "# 코드값이나 특정 날짜 같은 경우를\n",
    "# 가로줄 인덱스로 하면,,,가로줄 인덱스를\n",
    "# 엑셀로 출력해도 상관이 없으나,,\n",
    "# 정수 인덱스 같은 경우는 엑셀의 가로줄 숫자로\n",
    "# 중첩이 되는 일이 발생을 함!!!\n",
    "# --> index를 출력으로 하지 않는 옵션!!!\n",
    "data.to_excel(\"test2_excel.xlsx\",\n",
    "              index=False)"
   ]
  },
  {
   "cell_type": "code",
   "execution_count": null,
   "id": "604a1559-0484-4d06-b4d4-ea8cfae8515d",
   "metadata": {},
   "outputs": [],
   "source": []
  }
 ],
 "metadata": {
  "kernelspec": {
   "display_name": "Python 3 (ipykernel)",
   "language": "python",
   "name": "python3"
  },
  "language_info": {
   "codemirror_mode": {
    "name": "ipython",
    "version": 3
   },
   "file_extension": ".py",
   "mimetype": "text/x-python",
   "name": "python",
   "nbconvert_exporter": "python",
   "pygments_lexer": "ipython3",
   "version": "3.11.7"
  }
 },
 "nbformat": 4,
 "nbformat_minor": 5
}
