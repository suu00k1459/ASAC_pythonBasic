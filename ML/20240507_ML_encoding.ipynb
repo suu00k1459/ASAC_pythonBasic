{
 "cells": [
  {
   "cell_type": "code",
   "execution_count": 28,
   "id": "23daec93-5fb4-4c4e-a8ef-08d2db989f1a",
   "metadata": {},
   "outputs": [],
   "source": [
    "import pandas as pd\n",
    "import numpy as np\n",
    "from sklearn.preprocessing import LabelEncoder"
   ]
  },
  {
   "cell_type": "code",
   "execution_count": 2,
   "id": "727641f4-62a6-4ff4-b7c0-d24d559083aa",
   "metadata": {},
   "outputs": [],
   "source": [
    "# * 데이터 크기/ 상황 \n",
    "# -> 가벼울 땐 pandas 사용 무거우면 대용량 :PySpark, DASK etc 사용"
   ]
  },
  {
   "cell_type": "code",
   "execution_count": 3,
   "id": "33ff332e-1e8e-4f1a-8dcb-882a3ca8afb9",
   "metadata": {},
   "outputs": [],
   "source": [
    "data = pd.read_csv(\"train.csv\")"
   ]
  },
  {
   "cell_type": "code",
   "execution_count": 4,
   "id": "c8cf967a-8ee8-4fee-9d28-7476ef4a810e",
   "metadata": {},
   "outputs": [
    {
     "data": {
      "text/html": [
       "<div>\n",
       "<style scoped>\n",
       "    .dataframe tbody tr th:only-of-type {\n",
       "        vertical-align: middle;\n",
       "    }\n",
       "\n",
       "    .dataframe tbody tr th {\n",
       "        vertical-align: top;\n",
       "    }\n",
       "\n",
       "    .dataframe thead th {\n",
       "        text-align: right;\n",
       "    }\n",
       "</style>\n",
       "<table border=\"1\" class=\"dataframe\">\n",
       "  <thead>\n",
       "    <tr style=\"text-align: right;\">\n",
       "      <th></th>\n",
       "      <th>PassengerId</th>\n",
       "      <th>Survived</th>\n",
       "      <th>Pclass</th>\n",
       "      <th>Name</th>\n",
       "      <th>Sex</th>\n",
       "      <th>Age</th>\n",
       "      <th>SibSp</th>\n",
       "      <th>Parch</th>\n",
       "      <th>Ticket</th>\n",
       "      <th>Fare</th>\n",
       "      <th>Cabin</th>\n",
       "      <th>Embarked</th>\n",
       "    </tr>\n",
       "  </thead>\n",
       "  <tbody>\n",
       "    <tr>\n",
       "      <th>0</th>\n",
       "      <td>1</td>\n",
       "      <td>0</td>\n",
       "      <td>3</td>\n",
       "      <td>Braund, Mr. Owen Harris</td>\n",
       "      <td>male</td>\n",
       "      <td>22.0</td>\n",
       "      <td>1</td>\n",
       "      <td>0</td>\n",
       "      <td>A/5 21171</td>\n",
       "      <td>7.2500</td>\n",
       "      <td>NaN</td>\n",
       "      <td>S</td>\n",
       "    </tr>\n",
       "    <tr>\n",
       "      <th>1</th>\n",
       "      <td>2</td>\n",
       "      <td>1</td>\n",
       "      <td>1</td>\n",
       "      <td>Cumings, Mrs. John Bradley (Florence Briggs Th...</td>\n",
       "      <td>female</td>\n",
       "      <td>38.0</td>\n",
       "      <td>1</td>\n",
       "      <td>0</td>\n",
       "      <td>PC 17599</td>\n",
       "      <td>71.2833</td>\n",
       "      <td>C85</td>\n",
       "      <td>C</td>\n",
       "    </tr>\n",
       "    <tr>\n",
       "      <th>2</th>\n",
       "      <td>3</td>\n",
       "      <td>1</td>\n",
       "      <td>3</td>\n",
       "      <td>Heikkinen, Miss. Laina</td>\n",
       "      <td>female</td>\n",
       "      <td>26.0</td>\n",
       "      <td>0</td>\n",
       "      <td>0</td>\n",
       "      <td>STON/O2. 3101282</td>\n",
       "      <td>7.9250</td>\n",
       "      <td>NaN</td>\n",
       "      <td>S</td>\n",
       "    </tr>\n",
       "    <tr>\n",
       "      <th>3</th>\n",
       "      <td>4</td>\n",
       "      <td>1</td>\n",
       "      <td>1</td>\n",
       "      <td>Futrelle, Mrs. Jacques Heath (Lily May Peel)</td>\n",
       "      <td>female</td>\n",
       "      <td>35.0</td>\n",
       "      <td>1</td>\n",
       "      <td>0</td>\n",
       "      <td>113803</td>\n",
       "      <td>53.1000</td>\n",
       "      <td>C123</td>\n",
       "      <td>S</td>\n",
       "    </tr>\n",
       "    <tr>\n",
       "      <th>4</th>\n",
       "      <td>5</td>\n",
       "      <td>0</td>\n",
       "      <td>3</td>\n",
       "      <td>Allen, Mr. William Henry</td>\n",
       "      <td>male</td>\n",
       "      <td>35.0</td>\n",
       "      <td>0</td>\n",
       "      <td>0</td>\n",
       "      <td>373450</td>\n",
       "      <td>8.0500</td>\n",
       "      <td>NaN</td>\n",
       "      <td>S</td>\n",
       "    </tr>\n",
       "  </tbody>\n",
       "</table>\n",
       "</div>"
      ],
      "text/plain": [
       "   PassengerId  Survived  Pclass  \\\n",
       "0            1         0       3   \n",
       "1            2         1       1   \n",
       "2            3         1       3   \n",
       "3            4         1       1   \n",
       "4            5         0       3   \n",
       "\n",
       "                                                Name     Sex   Age  SibSp  \\\n",
       "0                            Braund, Mr. Owen Harris    male  22.0      1   \n",
       "1  Cumings, Mrs. John Bradley (Florence Briggs Th...  female  38.0      1   \n",
       "2                             Heikkinen, Miss. Laina  female  26.0      0   \n",
       "3       Futrelle, Mrs. Jacques Heath (Lily May Peel)  female  35.0      1   \n",
       "4                           Allen, Mr. William Henry    male  35.0      0   \n",
       "\n",
       "   Parch            Ticket     Fare Cabin Embarked  \n",
       "0      0         A/5 21171   7.2500   NaN        S  \n",
       "1      0          PC 17599  71.2833   C85        C  \n",
       "2      0  STON/O2. 3101282   7.9250   NaN        S  \n",
       "3      0            113803  53.1000  C123        S  \n",
       "4      0            373450   8.0500   NaN        S  "
      ]
     },
     "execution_count": 4,
     "metadata": {},
     "output_type": "execute_result"
    }
   ],
   "source": [
    "data.head()"
   ]
  },
  {
   "cell_type": "markdown",
   "id": "136df3e1-583a-4edd-80ae-65c440ee1bc2",
   "metadata": {},
   "source": [
    "### 모델 생성 : 생성 여부에 대한 예측\n",
    "\n",
    "1) 결측값이 없어야 함 ! -> 제거, 채울 값\n",
    "2) 숫자가 아닌 데이터를 꼭 숫자화(인코딩)"
   ]
  },
  {
   "cell_type": "markdown",
   "id": "6fb954fe-0db7-4e85-879c-65d2d24428fe",
   "metadata": {},
   "source": [
    "### 1) 결측값 확인 후 채우기"
   ]
  },
  {
   "cell_type": "code",
   "execution_count": 5,
   "id": "9eaca03f-4891-4d64-b27b-78d3a520b68a",
   "metadata": {},
   "outputs": [
    {
     "name": "stdout",
     "output_type": "stream",
     "text": [
      "<class 'pandas.core.frame.DataFrame'>\n",
      "RangeIndex: 891 entries, 0 to 890\n",
      "Data columns (total 12 columns):\n",
      " #   Column       Non-Null Count  Dtype  \n",
      "---  ------       --------------  -----  \n",
      " 0   PassengerId  891 non-null    int64  \n",
      " 1   Survived     891 non-null    int64  \n",
      " 2   Pclass       891 non-null    int64  \n",
      " 3   Name         891 non-null    object \n",
      " 4   Sex          891 non-null    object \n",
      " 5   Age          714 non-null    float64\n",
      " 6   SibSp        891 non-null    int64  \n",
      " 7   Parch        891 non-null    int64  \n",
      " 8   Ticket       891 non-null    object \n",
      " 9   Fare         891 non-null    float64\n",
      " 10  Cabin        204 non-null    object \n",
      " 11  Embarked     889 non-null    object \n",
      "dtypes: float64(2), int64(5), object(5)\n",
      "memory usage: 83.7+ KB\n"
     ]
    }
   ],
   "source": [
    "data.info()"
   ]
  },
  {
   "cell_type": "code",
   "execution_count": 6,
   "id": "ec598a60-5966-453b-b6fb-e3adffe7e692",
   "metadata": {},
   "outputs": [
    {
     "name": "stdout",
     "output_type": "stream",
     "text": [
      "PassengerId: 0.0\n",
      "Survived: 0.0\n",
      "Pclass: 0.0\n",
      "Name: 0.0\n",
      "Sex: 0.0\n",
      "Age: 0.19865319865319866\n",
      "SibSp: 0.0\n",
      "Parch: 0.0\n",
      "Ticket: 0.0\n",
      "Fare: 0.0\n",
      "Cabin: 0.7710437710437711\n",
      "Embarked: 0.002244668911335578\n"
     ]
    }
   ],
   "source": [
    "for col in data.columns:\n",
    "    print(str(col)+\":\", data.loc[:,col].isnull().sum()/len(data))"
   ]
  },
  {
   "cell_type": "code",
   "execution_count": 16,
   "id": "6462ce76-0f18-41b1-b17a-4b89a1ce679e",
   "metadata": {},
   "outputs": [
    {
     "data": {
      "text/plain": [
       "<Axes: ylabel='Frequency'>"
      ]
     },
     "execution_count": 16,
     "metadata": {},
     "output_type": "execute_result"
    },
    {
     "data": {
      "image/png": "[encoded data removed]",
      "text/plain": [
       "<Figure size 640x480 with 1 Axes>"
      ]
     },
     "metadata": {},
     "output_type": "display_data"
    }
   ],
   "source": [
    "# Age cloumn\n",
    "\n",
    "data[\"Age\"].plot(kind = \"hist\")"
   ]
  },
  {
   "cell_type": "code",
   "execution_count": 17,
   "id": "e8d71e8c-17d7-450f-90cc-90f9280b5344",
   "metadata": {},
   "outputs": [],
   "source": [
    "# 현실적인 문제 : 누락된 20퍼센트의 데이터를 어떻게 할까?\n",
    "# ==> 분석자가 타당하게 이유들과 방법들을 제시해야 함!!!!\n",
    "# 예) 중요한 변수가 아니라고 생각하면,,,,,나이변수 제거하자!!!!\n",
    "#     ---> 많은 데이터가 소실될 수 있음....특징이 중요...\n",
    "# ==> 채우자고 결정!!!!!\n",
    "#     어떻게 채울것인가??(정답은 없음!!!!)\n",
    "#     --> 가장 편한 방법 : 임의의 값으로 채운다 9999,99, 0, -1 etc\n",
    "#                          대표값으로 채운다 : 평균, 중간값, 최빈값 etc\n",
    "#     --> 결측값을 예측하는 모델을 만들어서 예측값으로 할 수도 있음...\n",
    "#     --> 외부 데이터를 참조(대회 규정을 참고, 고객의사)\n",
    "#     --> 유사한 데이터를 모아서(그룹, 묶음): 대표값 ==> knn\n",
    "#     etc.... 공식적인 부분은 없음!!!!\n",
    "#     시도의 영역// 하는 도메인에서 주로 하는 방식 // etc"
   ]
  },
  {
   "cell_type": "code",
   "execution_count": 18,
   "id": "5034f59f-be34-4705-ac72-d3e4092cf6dd",
   "metadata": {},
   "outputs": [],
   "source": [
    "# 수업 진행은 편히 하기 위해서 : 대표값으로 처리...\n",
    "# 결정 ) 직접 age컬럼의 누락된 값은 채우자!! & 평균대표값\n",
    "# ==> 분포를 보니, 적당히 평균을 해도 괜찮을 것 같아서 평균 결정!!!!\n",
    "data.loc[:,\"Age\"].fillna(data[\"Age\"].mean(), inplace=True)"
   ]
  },
  {
   "cell_type": "code",
   "execution_count": 19,
   "id": "6802339f-2a9b-479c-a1a1-fb7cccd0d5a1",
   "metadata": {},
   "outputs": [
    {
     "data": {
      "text/plain": [
       "0"
      ]
     },
     "execution_count": 19,
     "metadata": {},
     "output_type": "execute_result"
    }
   ],
   "source": [
    "# --> 누락된 데이터가 잘 처리가 되었는지 체크\n",
    "data.loc[:,\"Age\"].isnull().sum()\n"
   ]
  },
  {
   "cell_type": "code",
   "execution_count": 22,
   "id": "20ab5d7f-dd13-4079-b3f4-6cef25baf546",
   "metadata": {},
   "outputs": [],
   "source": [
    "# --> Cabin/ Embarked의 값을 채우자라고 결정!!!\n",
    "# ===> 정보 없음을 나타내는 대표값으로 채울려고 함 N\n",
    "data.loc[:,\"Cabin\"].fillna(\"N\",inplace=True )\n",
    "data.loc[:,\"Embarked\"].fillna(\"N\",inplace=True )"
   ]
  },
  {
   "cell_type": "code",
   "execution_count": 23,
   "id": "93fc3203-7d6e-4a4f-a75d-d9d741729015",
   "metadata": {},
   "outputs": [
    {
     "name": "stdout",
     "output_type": "stream",
     "text": [
      "<class 'pandas.core.frame.DataFrame'>\n",
      "RangeIndex: 891 entries, 0 to 890\n",
      "Data columns (total 12 columns):\n",
      " #   Column       Non-Null Count  Dtype  \n",
      "---  ------       --------------  -----  \n",
      " 0   PassengerId  891 non-null    int64  \n",
      " 1   Survived     891 non-null    int64  \n",
      " 2   Pclass       891 non-null    int64  \n",
      " 3   Name         891 non-null    object \n",
      " 4   Sex          891 non-null    object \n",
      " 5   Age          891 non-null    float64\n",
      " 6   SibSp        891 non-null    int64  \n",
      " 7   Parch        891 non-null    int64  \n",
      " 8   Ticket       891 non-null    object \n",
      " 9   Fare         891 non-null    float64\n",
      " 10  Cabin        891 non-null    object \n",
      " 11  Embarked     891 non-null    object \n",
      "dtypes: float64(2), int64(5), object(5)\n",
      "memory usage: 83.7+ KB\n"
     ]
    }
   ],
   "source": [
    "data.info()"
   ]
  },
  {
   "cell_type": "markdown",
   "id": "7406f21f-68d3-4e62-9a6a-b3dc7ffd7720",
   "metadata": {},
   "source": [
    "### 범주형 인코딩하기"
   ]
  },
  {
   "cell_type": "code",
   "execution_count": 36,
   "id": "e937edab-135e-4d32-81e9-829df0f3f416",
   "metadata": {},
   "outputs": [],
   "source": [
    "# 잠시) 인코딩중에서 대표적인 방법 : 라벨인코딩, 원핫인코딩 ,,,,etc\n",
    "# 성별 : 남자/여자, female/male, f/m, F/M\n",
    "# 학교 : 초등, 중등, 고등, 대학,,,\n",
    "\n",
    "# --> 라벨 인코딩 : 유니크한 종류에 정수값을 부여를 함\n",
    "# 성별 : 남자/ 여자 --> 유니크한 종류의 사전 순서\n",
    "#        남자0, 여자1\n",
    "# 학교 : 초등, 중등, 고등, 대학\n",
    "#        고등0, 대학1, 중등2, 초등3\n",
    "#        ==> 임의로 순서를 조정해서\n",
    "#        초등0, 중등1, 고등2, 대학3\n",
    "# --------> 개별 종류값을 정수로 변환!!!!!\n",
    "\n",
    "# --> 원핫인코딩 : 해당하는 고유값인지/아닌지(0/1)\n",
    "# 성별 --> OHEnc ---> 성별_남자,   성별_여자\n",
    "# 남자                    1            0\n",
    "# 여자                    0            1\n",
    "# --> 종류가 국가 같이 100개국 이상인 경우\n",
    "#     기계 적으로 OHEnc 컬럼이 100개가 옆으로 확장\n",
    "#     & 대부분의 값이 거의 0\n",
    "#     ==> 희소행렬( 행렬의 사이즈는 큰데, 값은 대부분 0)\n",
    "#     ==> 역행렬 X , 종속적인 관계여서 연산 잘 안 됨!!\n",
    "#         (장바구니분석, 언어에 대해서 인코딩)\n",
    "#     ==> 연산이 잘 안 되어서,,결과가 그닥.....\n",
    "\n",
    "# 주어진 벡터 사이즈로 제한을 하고, 확률값으로 처리를 한\n",
    "# word2vec 와우!!!!!!모델로 언어를 처리하는 전환!!!!!"
   ]
  },
  {
   "cell_type": "code",
   "execution_count": 38,
   "id": "9bfe9994-8ad3-498d-970f-6f0c6a988874",
   "metadata": {},
   "outputs": [
    {
     "data": {
      "text/plain": [
       "['TV', '냉장고', '세탁기', 'TV', '냉장고']"
      ]
     },
     "execution_count": 38,
     "metadata": {},
     "output_type": "execute_result"
    }
   ],
   "source": [
    "items = [\"TV\",\"냉장고\",\"세탁기\",\"TV\",\"냉장고\"]\n",
    "items"
   ]
  },
  {
   "cell_type": "code",
   "execution_count": 39,
   "id": "b8a5a666-760d-4126-94b3-130664b2d484",
   "metadata": {},
   "outputs": [
    {
     "data": {
      "text/plain": [
       "array([0, 1, 2, 0, 1])"
      ]
     },
     "execution_count": 39,
     "metadata": {},
     "output_type": "execute_result"
    }
   ],
   "source": [
    "# scikit - learn의 기본 움직임은 다 모델화!!!!\n",
    "# ---> 변환에 대한 룰을 학습해서 적용한다!!!!!\n",
    "label_enc = LabelEncoder()\n",
    "\n",
    "# 실제 데이터르 주면서,,룰을 학습을 시킴\n",
    "label_enc.fit(items ) # 단순 룰을 체크.....\n",
    "\n",
    "# 구체적으로 찾은 룰을 기반으로 값을 변경.. transform\n",
    "label_encs = label_enc.transform( items)\n",
    "label_encs"
   ]
  },
  {
   "cell_type": "code",
   "execution_count": 40,
   "id": "e9fc37a8-1130-4c65-a08a-c03ab06b9d64",
   "metadata": {},
   "outputs": [
    {
     "data": {
      "text/plain": [
       "array([0, 1, 2, 0, 1], dtype=int64)"
      ]
     },
     "execution_count": 40,
     "metadata": {},
     "output_type": "execute_result"
    }
   ],
   "source": [
    "# 귀찮아서,,한 번에 룰을 체크 & 변환까지 하자\n",
    "label_enc.fit_transform( items )"
   ]
  },
  {
   "cell_type": "code",
   "execution_count": 41,
   "id": "84f6efed-8cd4-4959-86dc-284b721e788a",
   "metadata": {},
   "outputs": [
    {
     "data": {
      "text/plain": [
       "array(['TV', '냉장고', '세탁기'], dtype='<U3')"
      ]
     },
     "execution_count": 41,
     "metadata": {},
     "output_type": "execute_result"
    }
   ],
   "source": [
    "label_enc.classes_"
   ]
  },
  {
   "cell_type": "code",
   "execution_count": 42,
   "id": "e245307c-4275-4d77-bf94-5da596b9f5d3",
   "metadata": {},
   "outputs": [
    {
     "data": {
      "text/plain": [
       "['TV', '세탁기', '세탁기', '스타일러']"
      ]
     },
     "execution_count": 42,
     "metadata": {},
     "output_type": "execute_result"
    }
   ],
   "source": [
    "#### 현실적인 문제는\n",
    "#### Test데이터 셋에서 갑자기 나타나는 unseen data Problem\n",
    "test_items = [\"TV\",\"세탁기\",\"세탁기\",\"스타일러\"]\n",
    "test_items"
   ]
  },
  {
   "cell_type": "code",
   "execution_count": 43,
   "id": "d6dd5d6f-6933-4b9e-a1ff-0431782c1383",
   "metadata": {},
   "outputs": [
    {
     "ename": "ValueError",
     "evalue": "y contains previously unseen labels: '스타일'",
     "output_type": "error",
     "traceback": [
      "\u001b[1;31m---------------------------------------------------------------------------\u001b[0m",
      "\u001b[1;31mKeyError\u001b[0m                                  Traceback (most recent call last)",
      "File \u001b[1;32m~\\anaconda3\\Lib\\site-packages\\sklearn\\utils\\_encode.py:224\u001b[0m, in \u001b[0;36m_encode\u001b[1;34m(values, uniques, check_unknown)\u001b[0m\n\u001b[0;32m    223\u001b[0m \u001b[38;5;28;01mtry\u001b[39;00m:\n\u001b[1;32m--> 224\u001b[0m     \u001b[38;5;28;01mreturn\u001b[39;00m _map_to_integer(values, uniques)\n\u001b[0;32m    225\u001b[0m \u001b[38;5;28;01mexcept\u001b[39;00m \u001b[38;5;167;01mKeyError\u001b[39;00m \u001b[38;5;28;01mas\u001b[39;00m e:\n",
      "File \u001b[1;32m~\\anaconda3\\Lib\\site-packages\\sklearn\\utils\\_encode.py:164\u001b[0m, in \u001b[0;36m_map_to_integer\u001b[1;34m(values, uniques)\u001b[0m\n\u001b[0;32m    163\u001b[0m table \u001b[38;5;241m=\u001b[39m _nandict({val: i \u001b[38;5;28;01mfor\u001b[39;00m i, val \u001b[38;5;129;01min\u001b[39;00m \u001b[38;5;28menumerate\u001b[39m(uniques)})\n\u001b[1;32m--> 164\u001b[0m \u001b[38;5;28;01mreturn\u001b[39;00m np\u001b[38;5;241m.\u001b[39marray([table[v] \u001b[38;5;28;01mfor\u001b[39;00m v \u001b[38;5;129;01min\u001b[39;00m values])\n",
      "File \u001b[1;32m~\\anaconda3\\Lib\\site-packages\\sklearn\\utils\\_encode.py:164\u001b[0m, in \u001b[0;36m<listcomp>\u001b[1;34m(.0)\u001b[0m\n\u001b[0;32m    163\u001b[0m table \u001b[38;5;241m=\u001b[39m _nandict({val: i \u001b[38;5;28;01mfor\u001b[39;00m i, val \u001b[38;5;129;01min\u001b[39;00m \u001b[38;5;28menumerate\u001b[39m(uniques)})\n\u001b[1;32m--> 164\u001b[0m \u001b[38;5;28;01mreturn\u001b[39;00m np\u001b[38;5;241m.\u001b[39marray([table[v] \u001b[38;5;28;01mfor\u001b[39;00m v \u001b[38;5;129;01min\u001b[39;00m values])\n",
      "File \u001b[1;32m~\\anaconda3\\Lib\\site-packages\\sklearn\\utils\\_encode.py:158\u001b[0m, in \u001b[0;36m_nandict.__missing__\u001b[1;34m(self, key)\u001b[0m\n\u001b[0;32m    157\u001b[0m     \u001b[38;5;28;01mreturn\u001b[39;00m \u001b[38;5;28mself\u001b[39m\u001b[38;5;241m.\u001b[39mnan_value\n\u001b[1;32m--> 158\u001b[0m \u001b[38;5;28;01mraise\u001b[39;00m \u001b[38;5;167;01mKeyError\u001b[39;00m(key)\n",
      "\u001b[1;31mKeyError\u001b[0m: '스타일'",
      "\nDuring handling of the above exception, another exception occurred:\n",
      "\u001b[1;31mValueError\u001b[0m                                Traceback (most recent call last)",
      "Cell \u001b[1;32mIn[43], line 2\u001b[0m\n\u001b[0;32m      1\u001b[0m \u001b[38;5;66;03m# 새로운 거 들어오면 에러남!\u001b[39;00m\n\u001b[1;32m----> 2\u001b[0m label_enc\u001b[38;5;241m.\u001b[39mtransform( test_items)\n",
      "File \u001b[1;32m~\\anaconda3\\Lib\\site-packages\\sklearn\\utils\\_set_output.py:140\u001b[0m, in \u001b[0;36m_wrap_method_output.<locals>.wrapped\u001b[1;34m(self, X, *args, **kwargs)\u001b[0m\n\u001b[0;32m    138\u001b[0m \u001b[38;5;129m@wraps\u001b[39m(f)\n\u001b[0;32m    139\u001b[0m \u001b[38;5;28;01mdef\u001b[39;00m \u001b[38;5;21mwrapped\u001b[39m(\u001b[38;5;28mself\u001b[39m, X, \u001b[38;5;241m*\u001b[39margs, \u001b[38;5;241m*\u001b[39m\u001b[38;5;241m*\u001b[39mkwargs):\n\u001b[1;32m--> 140\u001b[0m     data_to_wrap \u001b[38;5;241m=\u001b[39m f(\u001b[38;5;28mself\u001b[39m, X, \u001b[38;5;241m*\u001b[39margs, \u001b[38;5;241m*\u001b[39m\u001b[38;5;241m*\u001b[39mkwargs)\n\u001b[0;32m    141\u001b[0m     \u001b[38;5;28;01mif\u001b[39;00m \u001b[38;5;28misinstance\u001b[39m(data_to_wrap, \u001b[38;5;28mtuple\u001b[39m):\n\u001b[0;32m    142\u001b[0m         \u001b[38;5;66;03m# only wrap the first output for cross decomposition\u001b[39;00m\n\u001b[0;32m    143\u001b[0m         \u001b[38;5;28;01mreturn\u001b[39;00m (\n\u001b[0;32m    144\u001b[0m             _wrap_data_with_container(method, data_to_wrap[\u001b[38;5;241m0\u001b[39m], X, \u001b[38;5;28mself\u001b[39m),\n\u001b[0;32m    145\u001b[0m             \u001b[38;5;241m*\u001b[39mdata_to_wrap[\u001b[38;5;241m1\u001b[39m:],\n\u001b[0;32m    146\u001b[0m         )\n",
      "File \u001b[1;32m~\\anaconda3\\Lib\\site-packages\\sklearn\\preprocessing\\_label.py:139\u001b[0m, in \u001b[0;36mLabelEncoder.transform\u001b[1;34m(self, y)\u001b[0m\n\u001b[0;32m    136\u001b[0m \u001b[38;5;28;01mif\u001b[39;00m _num_samples(y) \u001b[38;5;241m==\u001b[39m \u001b[38;5;241m0\u001b[39m:\n\u001b[0;32m    137\u001b[0m     \u001b[38;5;28;01mreturn\u001b[39;00m np\u001b[38;5;241m.\u001b[39marray([])\n\u001b[1;32m--> 139\u001b[0m \u001b[38;5;28;01mreturn\u001b[39;00m _encode(y, uniques\u001b[38;5;241m=\u001b[39m\u001b[38;5;28mself\u001b[39m\u001b[38;5;241m.\u001b[39mclasses_)\n",
      "File \u001b[1;32m~\\anaconda3\\Lib\\site-packages\\sklearn\\utils\\_encode.py:226\u001b[0m, in \u001b[0;36m_encode\u001b[1;34m(values, uniques, check_unknown)\u001b[0m\n\u001b[0;32m    224\u001b[0m         \u001b[38;5;28;01mreturn\u001b[39;00m _map_to_integer(values, uniques)\n\u001b[0;32m    225\u001b[0m     \u001b[38;5;28;01mexcept\u001b[39;00m \u001b[38;5;167;01mKeyError\u001b[39;00m \u001b[38;5;28;01mas\u001b[39;00m e:\n\u001b[1;32m--> 226\u001b[0m         \u001b[38;5;28;01mraise\u001b[39;00m \u001b[38;5;167;01mValueError\u001b[39;00m(\u001b[38;5;124mf\u001b[39m\u001b[38;5;124m\"\u001b[39m\u001b[38;5;124my contains previously unseen labels: \u001b[39m\u001b[38;5;132;01m{\u001b[39;00m\u001b[38;5;28mstr\u001b[39m(e)\u001b[38;5;132;01m}\u001b[39;00m\u001b[38;5;124m\"\u001b[39m)\n\u001b[0;32m    227\u001b[0m \u001b[38;5;28;01melse\u001b[39;00m:\n\u001b[0;32m    228\u001b[0m     \u001b[38;5;28;01mif\u001b[39;00m check_unknown:\n",
      "\u001b[1;31mValueError\u001b[0m: y contains previously unseen labels: '스타일'"
     ]
    }
   ],
   "source": [
    "# 새로운 거 들어오면 에러남!\n",
    "label_enc.transform( test_items)"
   ]
  },
  {
   "cell_type": "code",
   "execution_count": 44,
   "id": "1a0b7374-5d15-47e5-b9db-8e5b74c4b7fa",
   "metadata": {},
   "outputs": [
    {
     "data": {
      "text/plain": [
       "array([0, 2, 2, 3])"
      ]
     },
     "execution_count": 44,
     "metadata": {},
     "output_type": "execute_result"
    }
   ],
   "source": [
    "# Step1) 기존 변환 룰을 가지고 와야 함!!!!\n",
    "#         train_data에서 체크된 룰\n",
    "label_enc = LabelEncoder()\n",
    "label_enc.fit(items)\n",
    "prev_classes = list(label_enc.classes_)\n",
    "prev_classes\n",
    "# --> train데이터의 변환은 문제가 없음..\n",
    "\n",
    "# Step2) test : unseen data를 생각하면서,,,코드화!!!\n",
    "#  ==> 새로운 종류가 튀어나오면 어찌할지 예외 처리...\n",
    "for label in np.unique( test_items):\n",
    "    if label not in prev_classes:\n",
    "        # 새로운 듣도 보지 못한 new --> unseen data :새로운 룰 추가\n",
    "        prev_classes.append( label)\n",
    "prev_classes # ==> test에서 새로운 값이 나타나면,,학습과 별개의 값을 부여하도록 코드화..\n",
    "\n",
    "# Step3) 새로운 추가된 룰을 생성\n",
    "label_enc.classes_ = np.array( prev_classes )\n",
    "\n",
    "# Step4) 새로운 추가된 룰에 따라서 변경\n",
    "label_enc.transform( test_items)"
   ]
  },
  {
   "cell_type": "code",
   "execution_count": 45,
   "id": "672ebea2-fd17-40ab-b26f-3554174b077a",
   "metadata": {},
   "outputs": [],
   "source": [
    "# 참고) 원핫인코딩!!! 종류를 옆으로 펼쳐서 0/1로 표현!!!!\n",
    "# ==> scikit-learn은 조금 불편하게 되어 있음!!!!\n",
    "#     + pandas의 get_dummies() 메서드로 사용을 함...\n",
    "# ==> 1단계 : 라벨인코딩 --> 2단계 : 원핫인코딩..,\n",
    "# +++++ 딥러닝의 분류를 문제를 할 때 원핫인코딩으로 해야할 때도 있고,,,\n",
    "#       loss를 다른 것을 써서,,라벨인코딩으로 된 것으로 할 수도 있고,,,\n"
   ]
  },
  {
   "cell_type": "code",
   "execution_count": 46,
   "id": "320dea8f-a15e-44f6-bf0b-702898101c8f",
   "metadata": {},
   "outputs": [],
   "source": [
    "from sklearn.preprocessing import LabelEncoder\n",
    "from sklearn.preprocessing import OneHotEncoder"
   ]
  },
  {
   "cell_type": "code",
   "execution_count": 47,
   "id": "733158ab-b005-4e62-bcde-68be2802bdb7",
   "metadata": {},
   "outputs": [
    {
     "name": "stdout",
     "output_type": "stream",
     "text": [
      "원본데이터: ['TV', '냉장고', '세탁기', 'TV', '냉장고']\n",
      "라벨인코딩: [0 1 2 0 1]\n"
     ]
    },
    {
     "data": {
      "text/plain": [
       "array([[1., 0., 0.],\n",
       "       [0., 1., 0.],\n",
       "       [0., 0., 1.],\n",
       "       [1., 0., 0.],\n",
       "       [0., 1., 0.]])"
      ]
     },
     "execution_count": 47,
     "metadata": {},
     "output_type": "execute_result"
    }
   ],
   "source": [
    "print(\"원본데이터:\", items)\n",
    "label_enc = LabelEncoder()\n",
    "label_enc.fit(items)\n",
    "label_items = label_enc.transform( items)\n",
    "print(\"라벨인코딩:\", label_items)\n",
    "# +++ 원핫인코딩...\n",
    "oh_enc = OneHotEncoder() # 2D로 핸들링을 함...\n",
    "oh_enc_items = label_items.reshape(-1, 1) # 2D의 컬럼벡터화....\n",
    "# --> DL에서 데이터셋들 처리할 때 많이 활용!!!\n",
    "#     DL에서 이 부분을 잘 못 하게 되면,,,내 코드 안 도는 일이 주로..\n",
    "#     모양을 제대로 처리를 안 하면 에러가 발생을 함!!!!\n",
    "oh_enc.fit_transform(oh_enc_items ).toarray()"
   ]
  },
  {
   "cell_type": "code",
   "execution_count": null,
   "id": "6ff49439-6556-47b0-8042-084a05c49c52",
   "metadata": {},
   "outputs": [],
   "source": [
    "# ++++ 누락데이터 & 인코딩 : 필수\n",
    "# opt) 정규화(숫자값을 다른 숫자값으로 변경): 0~1, 평균0 etc\n",
    "# ===> ML에서 사용하는 모델이 대부분 Tree모형...\n",
    "#      Tree 변수값이 중요할 까요??????\n",
    "#      전통적인 회귀 모형들은 좀 영향력이 큰데,,,\n",
    "#      트리 기반의 모형들은 정규화의 영향력이 그렇게까지는...\n",
    "# +++ 시간적인 여유가 있거나, 좀 더 성능을 더 올려야 할 때\n",
    "#     고민을 할 수 있지 않을까 함...\n"
   ]
  },
  {
   "cell_type": "code",
   "execution_count": null,
   "id": "4edf1a4b-ee9c-43e4-a9b3-bc73180d331f",
   "metadata": {},
   "outputs": [],
   "source": [
    "# +++ 전처리에 대한 부분을 함수로 만들어서 처리를 하겠음!!!\n",
    "# step1) 누락 데이터 채우기/ 처리\n",
    "# step2) 불필요한 컬럼은 제거..\n",
    "# step3) 숫자가 아닌 컬럼 --> 숫자화 인코딩\n",
    "# +++ 정규화"
   ]
  },
  {
   "cell_type": "code",
   "execution_count": null,
   "id": "bff1d405-cd23-47cc-9584-8c9b6ecf7120",
   "metadata": {},
   "outputs": [],
   "source": [
    "# 전처리 과정 : 함수나 클래스 정도 생성\n",
    "# 반복적으로 해야하는 과정임 : pipline"
   ]
  },
  {
   "cell_type": "code",
   "execution_count": 29,
   "id": "c0fc7b2a-4f12-495c-a236-c57607c4bc39",
   "metadata": {},
   "outputs": [],
   "source": [
    "# step1 )누락딘 데이터 처리\n",
    "# 컬럼) age, cabin, embarked\n",
    "# 입력) df\n",
    "# 출력) 위의 3개 컬럼을 누락 데이터 채우기! => 채워진 df\n",
    "\n",
    "def check_fillna(df):\n",
    "    #누락된 데이터 채우기 -> 분석자 판단에 따라 결정\n",
    "    df.loc[:,\"Age\"].fillna(df.loc[:,\"Age\"].mean(), inplace =True)\n",
    "    df.loc[:,\"Cabin\"].fillna(\"N\", inplace =True)\n",
    "    df.loc[:,\"Embarked\"].fillna(\"N\", inplace =True)\n",
    "    df.loc[:,\"Fare\"].fillna(0, inplace =True)\n",
    "\n",
    "    return df\n",
    "\n",
    "\n",
    "# Step2 ) 불필요한 컬럼 제거! -> 모델 입력시 불필요한 컬럼 제거 후 전달\n",
    "def drop_feature(df):\n",
    "    # 생존 여부와 상관 없는 이름, id, ticket, \n",
    "    # drop + axis = 0/1\n",
    "    df.drop([\"PassengerId\", \"Name\", \"Ticket\"], axis = 1, inplace = True)\n",
    "    return df\n",
    "\n",
    "\n",
    "# step3 ) 숫자가 아닌 컬럼을 숫자로 변경\n",
    "# test 에서  unseen data 를 고민해야한ㅁ.\n",
    "def encode_features(df):\n",
    "    # cabin 은 라벨 인코딩을 하면 종류가 너무 많음\n",
    "    # eda, 도메인 특성 종류를 재 정리 해야함\n",
    "    df.loc[:, \"Cabin\"] = df.loc[:, \"Cabin\"].apply(lambda x: str(x))\n",
    "\n",
    "    # -> 라벨 인코딩\n",
    "    cols = [\"Cabin\", \"Sex\", \"Embarked\"]\n",
    "    \n",
    "    # 순서 무시하고 처리할 거임.\n",
    "    # test 의  unseen data 는 생략하고 처리할 거임\n",
    "    for col in cols:\n",
    "        le = LabelEncoder()\n",
    "        le.fit(df.loc[:,col])\n",
    "        df.isetitem(df.columns.get_loc(col), le.transform(df.loc[:,col]))\n",
    "        # df.loc[:,col] = le.transform(df.loc[:,col])\n",
    "        # 참고 : fit_Transform 한 번에 할 수도 있음\n",
    "    return df\n",
    "\n",
    "\n",
    "# 전처리 하는 함수를 모아서 다시 함수화함\n",
    "def titanic_preprocessing(df):\n",
    "    df = check_fillna(df)\n",
    "    df = drop_feature(df)\n",
    "    df = encode_features(df)\n",
    "\n",
    "    return df"
   ]
  },
  {
   "cell_type": "code",
   "execution_count": 30,
   "id": "6d28e374-93f9-48f7-80e9-8989e6be254f",
   "metadata": {},
   "outputs": [],
   "source": [
    "#문제지와 정답지가 혼제할 때 분리!\n",
    "y_titanic = data.loc[:, \"Survived\"]\n",
    "X_titanic = data.drop(\"Survived\", axis = 1)\n",
    "# 참고) inplace를 안 한 이유 : 원본을 살려둬서 하기 위해... 원본 크면 메모리 낭비가 단점..."
   ]
  },
  {
   "cell_type": "code",
   "execution_count": 31,
   "id": "c6496e80-a575-41a4-8021-a609ac8b92e1",
   "metadata": {},
   "outputs": [
    {
     "data": {
      "text/html": [
       "<div>\n",
       "<style scoped>\n",
       "    .dataframe tbody tr th:only-of-type {\n",
       "        vertical-align: middle;\n",
       "    }\n",
       "\n",
       "    .dataframe tbody tr th {\n",
       "        vertical-align: top;\n",
       "    }\n",
       "\n",
       "    .dataframe thead th {\n",
       "        text-align: right;\n",
       "    }\n",
       "</style>\n",
       "<table border=\"1\" class=\"dataframe\">\n",
       "  <thead>\n",
       "    <tr style=\"text-align: right;\">\n",
       "      <th></th>\n",
       "      <th>PassengerId</th>\n",
       "      <th>Pclass</th>\n",
       "      <th>Name</th>\n",
       "      <th>Sex</th>\n",
       "      <th>Age</th>\n",
       "      <th>SibSp</th>\n",
       "      <th>Parch</th>\n",
       "      <th>Ticket</th>\n",
       "      <th>Fare</th>\n",
       "      <th>Cabin</th>\n",
       "      <th>Embarked</th>\n",
       "    </tr>\n",
       "  </thead>\n",
       "  <tbody>\n",
       "    <tr>\n",
       "      <th>0</th>\n",
       "      <td>1</td>\n",
       "      <td>3</td>\n",
       "      <td>Braund, Mr. Owen Harris</td>\n",
       "      <td>male</td>\n",
       "      <td>22.0</td>\n",
       "      <td>1</td>\n",
       "      <td>0</td>\n",
       "      <td>A/5 21171</td>\n",
       "      <td>7.2500</td>\n",
       "      <td>NaN</td>\n",
       "      <td>S</td>\n",
       "    </tr>\n",
       "    <tr>\n",
       "      <th>1</th>\n",
       "      <td>2</td>\n",
       "      <td>1</td>\n",
       "      <td>Cumings, Mrs. John Bradley (Florence Briggs Th...</td>\n",
       "      <td>female</td>\n",
       "      <td>38.0</td>\n",
       "      <td>1</td>\n",
       "      <td>0</td>\n",
       "      <td>PC 17599</td>\n",
       "      <td>71.2833</td>\n",
       "      <td>C85</td>\n",
       "      <td>C</td>\n",
       "    </tr>\n",
       "    <tr>\n",
       "      <th>2</th>\n",
       "      <td>3</td>\n",
       "      <td>3</td>\n",
       "      <td>Heikkinen, Miss. Laina</td>\n",
       "      <td>female</td>\n",
       "      <td>26.0</td>\n",
       "      <td>0</td>\n",
       "      <td>0</td>\n",
       "      <td>STON/O2. 3101282</td>\n",
       "      <td>7.9250</td>\n",
       "      <td>NaN</td>\n",
       "      <td>S</td>\n",
       "    </tr>\n",
       "    <tr>\n",
       "      <th>3</th>\n",
       "      <td>4</td>\n",
       "      <td>1</td>\n",
       "      <td>Futrelle, Mrs. Jacques Heath (Lily May Peel)</td>\n",
       "      <td>female</td>\n",
       "      <td>35.0</td>\n",
       "      <td>1</td>\n",
       "      <td>0</td>\n",
       "      <td>113803</td>\n",
       "      <td>53.1000</td>\n",
       "      <td>C123</td>\n",
       "      <td>S</td>\n",
       "    </tr>\n",
       "    <tr>\n",
       "      <th>4</th>\n",
       "      <td>5</td>\n",
       "      <td>3</td>\n",
       "      <td>Allen, Mr. William Henry</td>\n",
       "      <td>male</td>\n",
       "      <td>35.0</td>\n",
       "      <td>0</td>\n",
       "      <td>0</td>\n",
       "      <td>373450</td>\n",
       "      <td>8.0500</td>\n",
       "      <td>NaN</td>\n",
       "      <td>S</td>\n",
       "    </tr>\n",
       "  </tbody>\n",
       "</table>\n",
       "</div>"
      ],
      "text/plain": [
       "   PassengerId  Pclass                                               Name  \\\n",
       "0            1       3                            Braund, Mr. Owen Harris   \n",
       "1            2       1  Cumings, Mrs. John Bradley (Florence Briggs Th...   \n",
       "2            3       3                             Heikkinen, Miss. Laina   \n",
       "3            4       1       Futrelle, Mrs. Jacques Heath (Lily May Peel)   \n",
       "4            5       3                           Allen, Mr. William Henry   \n",
       "\n",
       "      Sex   Age  SibSp  Parch            Ticket     Fare Cabin Embarked  \n",
       "0    male  22.0      1      0         A/5 21171   7.2500   NaN        S  \n",
       "1  female  38.0      1      0          PC 17599  71.2833   C85        C  \n",
       "2  female  26.0      0      0  STON/O2. 3101282   7.9250   NaN        S  \n",
       "3  female  35.0      1      0            113803  53.1000  C123        S  \n",
       "4    male  35.0      0      0            373450   8.0500   NaN        S  "
      ]
     },
     "execution_count": 31,
     "metadata": {},
     "output_type": "execute_result"
    }
   ],
   "source": [
    "X_titanic.head()"
   ]
  },
  {
   "cell_type": "code",
   "execution_count": 32,
   "id": "b312016f-24f5-47ea-93de-95a249bd16d8",
   "metadata": {},
   "outputs": [],
   "source": [
    "# 함수 처리\n",
    "X_titanic = titanic_preprocessing(X_titanic)"
   ]
  },
  {
   "cell_type": "code",
   "execution_count": 35,
   "id": "adbcc6bf-2e44-42dd-a97b-058adde8fad3",
   "metadata": {},
   "outputs": [
    {
     "data": {
      "text/html": [
       "<div>\n",
       "<style scoped>\n",
       "    .dataframe tbody tr th:only-of-type {\n",
       "        vertical-align: middle;\n",
       "    }\n",
       "\n",
       "    .dataframe tbody tr th {\n",
       "        vertical-align: top;\n",
       "    }\n",
       "\n",
       "    .dataframe thead th {\n",
       "        text-align: right;\n",
       "    }\n",
       "</style>\n",
       "<table border=\"1\" class=\"dataframe\">\n",
       "  <thead>\n",
       "    <tr style=\"text-align: right;\">\n",
       "      <th></th>\n",
       "      <th>Pclass</th>\n",
       "      <th>Sex</th>\n",
       "      <th>Age</th>\n",
       "      <th>SibSp</th>\n",
       "      <th>Parch</th>\n",
       "      <th>Fare</th>\n",
       "      <th>Cabin</th>\n",
       "      <th>Embarked</th>\n",
       "    </tr>\n",
       "  </thead>\n",
       "  <tbody>\n",
       "    <tr>\n",
       "      <th>0</th>\n",
       "      <td>3</td>\n",
       "      <td>1</td>\n",
       "      <td>22.0</td>\n",
       "      <td>1</td>\n",
       "      <td>0</td>\n",
       "      <td>7.2500</td>\n",
       "      <td>146</td>\n",
       "      <td>3</td>\n",
       "    </tr>\n",
       "    <tr>\n",
       "      <th>1</th>\n",
       "      <td>1</td>\n",
       "      <td>0</td>\n",
       "      <td>38.0</td>\n",
       "      <td>1</td>\n",
       "      <td>0</td>\n",
       "      <td>71.2833</td>\n",
       "      <td>81</td>\n",
       "      <td>0</td>\n",
       "    </tr>\n",
       "    <tr>\n",
       "      <th>2</th>\n",
       "      <td>3</td>\n",
       "      <td>0</td>\n",
       "      <td>26.0</td>\n",
       "      <td>0</td>\n",
       "      <td>0</td>\n",
       "      <td>7.9250</td>\n",
       "      <td>146</td>\n",
       "      <td>3</td>\n",
       "    </tr>\n",
       "    <tr>\n",
       "      <th>3</th>\n",
       "      <td>1</td>\n",
       "      <td>0</td>\n",
       "      <td>35.0</td>\n",
       "      <td>1</td>\n",
       "      <td>0</td>\n",
       "      <td>53.1000</td>\n",
       "      <td>55</td>\n",
       "      <td>3</td>\n",
       "    </tr>\n",
       "    <tr>\n",
       "      <th>4</th>\n",
       "      <td>3</td>\n",
       "      <td>1</td>\n",
       "      <td>35.0</td>\n",
       "      <td>0</td>\n",
       "      <td>0</td>\n",
       "      <td>8.0500</td>\n",
       "      <td>146</td>\n",
       "      <td>3</td>\n",
       "    </tr>\n",
       "  </tbody>\n",
       "</table>\n",
       "</div>"
      ],
      "text/plain": [
       "   Pclass Sex   Age  SibSp  Parch     Fare Cabin Embarked\n",
       "0       3   1  22.0      1      0   7.2500   146        3\n",
       "1       1   0  38.0      1      0  71.2833    81        0\n",
       "2       3   0  26.0      0      0   7.9250   146        3\n",
       "3       1   0  35.0      1      0  53.1000    55        3\n",
       "4       3   1  35.0      0      0   8.0500   146        3"
      ]
     },
     "execution_count": 35,
     "metadata": {},
     "output_type": "execute_result"
    }
   ],
   "source": [
    "X_titanic.head()"
   ]
  },
  {
   "cell_type": "code",
   "execution_count": 36,
   "id": "4fc9e614-1437-44d4-8c08-9043c23bba6d",
   "metadata": {},
   "outputs": [
    {
     "name": "stdout",
     "output_type": "stream",
     "text": [
      "<class 'pandas.core.frame.DataFrame'>\n",
      "RangeIndex: 891 entries, 0 to 890\n",
      "Data columns (total 8 columns):\n",
      " #   Column    Non-Null Count  Dtype  \n",
      "---  ------    --------------  -----  \n",
      " 0   Pclass    891 non-null    int64  \n",
      " 1   Sex       891 non-null    object \n",
      " 2   Age       891 non-null    float64\n",
      " 3   SibSp     891 non-null    int64  \n",
      " 4   Parch     891 non-null    int64  \n",
      " 5   Fare      891 non-null    float64\n",
      " 6   Cabin     891 non-null    object \n",
      " 7   Embarked  891 non-null    object \n",
      "dtypes: float64(2), int64(3), object(3)\n",
      "memory usage: 55.8+ KB\n"
     ]
    }
   ],
   "source": [
    "X_titanic.info()"
   ]
  },
  {
   "cell_type": "markdown",
   "id": "289ef5a6-b992-4d77-a3fe-e289969df6f3",
   "metadata": {},
   "source": [
    "### 데이터 분리 (train_test_split)"
   ]
  },
  {
   "cell_type": "code",
   "execution_count": 38,
   "id": "e3353e27-0e35-470d-86ed-725ca33af248",
   "metadata": {},
   "outputs": [],
   "source": [
    "from sklearn.model_selection import train_test_split"
   ]
  },
  {
   "cell_type": "code",
   "execution_count": 39,
   "id": "8d73c7a3-ae52-41e4-845e-330cf81bdb5d",
   "metadata": {},
   "outputs": [
    {
     "data": {
      "text/plain": [
       "Survived\n",
       "0    0.616162\n",
       "1    0.383838\n",
       "Name: proportion, dtype: float64"
      ]
     },
     "execution_count": 39,
     "metadata": {},
     "output_type": "execute_result"
    }
   ],
   "source": [
    "y_titanic.value_counts(normalize = True)"
   ]
  },
  {
   "cell_type": "code",
   "execution_count": 40,
   "id": "17a5e024-f51d-4564-ace6-d498ef73ee93",
   "metadata": {},
   "outputs": [],
   "source": [
    "X_train, X_val, y_train, y_val = train_test_split(\n",
    "    X_titanic, y_titanic,\n",
    "    test_size = 0.2,\n",
    "    random_state = 1234\n",
    ")"
   ]
  },
  {
   "cell_type": "code",
   "execution_count": 45,
   "id": "771196d7-e314-4700-a709-b667b375af56",
   "metadata": {},
   "outputs": [
    {
     "data": {
      "text/plain": [
       "KFold(n_splits=5, random_state=1234, shuffle=True)"
      ]
     },
     "execution_count": 45,
     "metadata": {},
     "output_type": "execute_result"
    }
   ],
   "source": [
    "# 1) 일반적인 k-fold\n",
    "from sklearn.model_selection import KFold\n",
    "\n",
    "kfold = KFold(n_splits = 5, random_state =1234, shuffle = True)\n",
    "kfold"
   ]
  },
  {
   "cell_type": "code",
   "execution_count": 47,
   "id": "74655300-0bcd-4cf2-94dd-530e042c49fb",
   "metadata": {},
   "outputs": [
    {
     "data": {
      "text/plain": [
       "StratifiedKFold(n_splits=5, random_state=1234, shuffle=True)"
      ]
     },
     "execution_count": 47,
     "metadata": {},
     "output_type": "execute_result"
    }
   ],
   "source": [
    "# 2) 비율을 유지하는 strafied k-fold\n",
    "from sklearn.model_selection import StratifiedKFold\n",
    "str_kfold = StratifiedKFold(n_splits=5, random_state=1234, shuffle=True)\n",
    "str_kfold"
   ]
  },
  {
   "cell_type": "code",
   "execution_count": 43,
   "id": "2116be27-2906-44ac-b972-b314299b4050",
   "metadata": {},
   "outputs": [],
   "source": [
    "# 3) 복원추출을 사용하는 repeated k-fold\n",
    "from sklearn.model_selection import RepeatedKFold\n",
    "rkold = RepeatedKFold(n_splits= 5, random_state = 1234, n_repeats = 10)"
   ]
  },
  {
   "cell_type": "code",
   "execution_count": null,
   "id": "b8cb6b77-f627-472a-9151-3fd376cf8bfd",
   "metadata": {},
   "outputs": [],
   "source": [
    "# 4) 비율 유지 & 반복 repeated strafied k-fold\n"
   ]
  },
  {
   "cell_type": "markdown",
   "id": "d97b9402-304a-4040-8a7d-dc1058fd4fdd",
   "metadata": {},
   "source": [
    "### 모델 선택"
   ]
  },
  {
   "cell_type": "code",
   "execution_count": 48,
   "id": "dfd6b59d-3517-4c36-bf37-1e38b1d3f0aa",
   "metadata": {},
   "outputs": [],
   "source": [
    "# 1) 개별 보델에 대한 대략적인 성능 체크 Baseline\n",
    "# 2) 개별 모델에 대한 성능을 끌어올려야 함 HPT\n",
    "#     -> RandomGridSearchCV : 크게 추리는 것...\n",
    "#     -> GridSearchCV : 디테일하게 탐색\n",
    "#       최근) bayseian opt -> GridSearchCV 최적을 찾기도 함\n",
    "#       ++ 효율성 : baysian에서 큰 범위로 세팅!\n",
    "#       ++ 여러 플랫폼이 존재를 함.\n",
    "# 3) 실제 모의 평가 진행 : 모델 성능 체크 -> 개별 모델에 대한 성능 최적화가 되었는지 체크\n",
    "#     -> 성능이 별로인 경우 : 2~3번 돌아가켠서 체크 -> 최적의 성능 끌어내기\n",
    "# 4) 최종 모델 선택 \n",
    "#     -> 4-1) 시도한 모델 중 best선정\n",
    "#     -> 4-2) 여러 모델 종합 voting\n",
    "#         (hard voting, soft voting)\n",
    "        # ++ many & diversity\n",
    "#     -> 4-3) stacking (대회 한정) 재학습"
   ]
  },
  {
   "cell_type": "code",
   "execution_count": 56,
   "id": "5f9384e1-8761-4416-b325-96dfe981a2ae",
   "metadata": {},
   "outputs": [],
   "source": [
    "# 모델 학습과정에서 필요한 모듈\n",
    "from sklearn.model_selection import cross_val_score\n",
    "\n",
    "# 평가하기\n",
    "from sklearn.metrics import accuracy_score\n",
    "\n",
    "# 3) HPT :시간적인 부분이 많이 소요\n",
    "# -> 직접 다 체크 : gridsearch + CV\n",
    "\n",
    "from sklearn.model_selection import GridSearchCV\n",
    "from sklearn.model_selection import RandomizedSearchCV\n",
    "# +optuna 외부 pkg  경우는 HPT 을 하는 것과 최종모델을 다시 학습\n"
   ]
  },
  {
   "cell_type": "markdown",
   "id": "4f3069aa-ad4b-41fc-8c38-b89d4f1826c9",
   "metadata": {},
   "source": [
    "### 1) knn모델"
   ]
  },
  {
   "cell_type": "code",
   "execution_count": 61,
   "id": "ca89d0bf-fa75-42c9-95f5-25f50a57a08b",
   "metadata": {},
   "outputs": [],
   "source": [
    "from sklearn.neighbors import KNeighborsClassifier\n",
    "knn = KNeighborsClassifier( n_jobs= -1)"
   ]
  },
  {
   "cell_type": "code",
   "execution_count": 62,
   "id": "2d4d8762-7f24-4574-b8e4-efe8e8fa2226",
   "metadata": {},
   "outputs": [
    {
     "data": {
      "text/plain": [
       "array([0.72027972, 0.72027972, 0.66901408, 0.76760563, 0.68309859])"
      ]
     },
     "execution_count": 62,
     "metadata": {},
     "output_type": "execute_result"
    }
   ],
   "source": [
    "scores = cross_val_score(knn, X_train, y_train, cv = kfold, scoring = \"accuracy\")\n",
    "scores"
   ]
  },
  {
   "cell_type": "code",
   "execution_count": 63,
   "id": "025e3765-52c4-4b62-a1bd-9c6b5515fcd5",
   "metadata": {},
   "outputs": [
    {
     "name": "stdout",
     "output_type": "stream",
     "text": [
      "knn의 0시도 acc : 0.7202797202797203\n",
      "knn의 1시도 acc : 0.7202797202797203\n",
      "knn의 2시도 acc : 0.6690140845070423\n",
      "knn의 3시도 acc : 0.7676056338028169\n",
      "knn의 4시도 acc : 0.6830985915492958\n",
      "knn의 모델의 acc mean : 0.7120555500837191\n",
      "knn의 모델의 acc std: 0.034386505953867816\n"
     ]
    }
   ],
   "source": [
    "for iter_count, acc in enumerate(scores):\n",
    "    print(f\"knn의 {iter_count}시도 acc : {acc}\")\n",
    "print(\"knn의 모델의 acc mean :\", scores.mean())\n",
    "print(\"knn의 모델의 acc std:\", scores.std())"
   ]
  },
  {
   "cell_type": "code",
   "execution_count": 64,
   "id": "10645613-7ea1-4f87-aaea-25d4b23c95e3",
   "metadata": {},
   "outputs": [],
   "source": [
    "# RGS/GS 매번 시행이 독립적\n",
    "# bayeisan 과거 시행의 결과를 활용해서 next\n",
    "\n",
    "# RGS : 1) 테스트할 파라미터의 조합들 중에서, 임의로 선택\n",
    "# -> 테스트할 종류가 엄청 많을 때 사용이 가능함\n",
    "# -> 범위를 좀 좁힐 때 사용할 수 있음\n",
    "# 참고) sikitlearn에서 변질이 되었음\n"
   ]
  },
  {
   "cell_type": "code",
   "execution_count": 69,
   "id": "63d7f000-cd70-4364-a9cc-87f0f8213a5a",
   "metadata": {},
   "outputs": [],
   "source": [
    "parameters = {\n",
    "    \"n_neighbors\" :[1,3,5,7,9,11,15,17,19], #test 할 값 리스트 나열 : 컴프리핸션 등 사용 가능\n",
    "    \"algorithm\" : [\"auto\" , \"ball_tree\", \"kd_tree\"]\n",
    "}"
   ]
  },
  {
   "cell_type": "code",
   "execution_count": 71,
   "id": "2d9e71ce-f29f-41d3-a47a-e2e361504403",
   "metadata": {},
   "outputs": [
    {
     "data": {
      "text/html": [
       "<style>#sk-container-id-1 {color: black;background-color: white;}#sk-container-id-1 pre{padding: 0;}#sk-container-id-1 div.sk-toggleable {background-color: white;}#sk-container-id-1 label.sk-toggleable__label {cursor: pointer;display: block;width: 100%;margin-bottom: 0;padding: 0.3em;box-sizing: border-box;text-align: center;}#sk-container-id-1 label.sk-toggleable__label-arrow:before {content: \"▸\";float: left;margin-right: 0.25em;color: #696969;}#sk-container-id-1 label.sk-toggleable__label-arrow:hover:before {color: black;}#sk-container-id-1 div.sk-estimator:hover label.sk-toggleable__label-arrow:before {color: black;}#sk-container-id-1 div.sk-toggleable__content {max-height: 0;max-width: 0;overflow: hidden;text-align: left;background-color: #f0f8ff;}#sk-container-id-1 div.sk-toggleable__content pre {margin: 0.2em;color: black;border-radius: 0.25em;background-color: #f0f8ff;}#sk-container-id-1 input.sk-toggleable__control:checked~div.sk-toggleable__content {max-height: 200px;max-width: 100%;overflow: auto;}#sk-container-id-1 input.sk-toggleable__control:checked~label.sk-toggleable__label-arrow:before {content: \"▾\";}#sk-container-id-1 div.sk-estimator input.sk-toggleable__control:checked~label.sk-toggleable__label {background-color: #d4ebff;}#sk-container-id-1 div.sk-label input.sk-toggleable__control:checked~label.sk-toggleable__label {background-color: #d4ebff;}#sk-container-id-1 input.sk-hidden--visually {border: 0;clip: rect(1px 1px 1px 1px);clip: rect(1px, 1px, 1px, 1px);height: 1px;margin: -1px;overflow: hidden;padding: 0;position: absolute;width: 1px;}#sk-container-id-1 div.sk-estimator {font-family: monospace;background-color: #f0f8ff;border: 1px dotted black;border-radius: 0.25em;box-sizing: border-box;margin-bottom: 0.5em;}#sk-container-id-1 div.sk-estimator:hover {background-color: #d4ebff;}#sk-container-id-1 div.sk-parallel-item::after {content: \"\";width: 100%;border-bottom: 1px solid gray;flex-grow: 1;}#sk-container-id-1 div.sk-label:hover label.sk-toggleable__label {background-color: #d4ebff;}#sk-container-id-1 div.sk-serial::before {content: \"\";position: absolute;border-left: 1px solid gray;box-sizing: border-box;top: 0;bottom: 0;left: 50%;z-index: 0;}#sk-container-id-1 div.sk-serial {display: flex;flex-direction: column;align-items: center;background-color: white;padding-right: 0.2em;padding-left: 0.2em;position: relative;}#sk-container-id-1 div.sk-item {position: relative;z-index: 1;}#sk-container-id-1 div.sk-parallel {display: flex;align-items: stretch;justify-content: center;background-color: white;position: relative;}#sk-container-id-1 div.sk-item::before, #sk-container-id-1 div.sk-parallel-item::before {content: \"\";position: absolute;border-left: 1px solid gray;box-sizing: border-box;top: 0;bottom: 0;left: 50%;z-index: -1;}#sk-container-id-1 div.sk-parallel-item {display: flex;flex-direction: column;z-index: 1;position: relative;background-color: white;}#sk-container-id-1 div.sk-parallel-item:first-child::after {align-self: flex-end;width: 50%;}#sk-container-id-1 div.sk-parallel-item:last-child::after {align-self: flex-start;width: 50%;}#sk-container-id-1 div.sk-parallel-item:only-child::after {width: 0;}#sk-container-id-1 div.sk-dashed-wrapped {border: 1px dashed gray;margin: 0 0.4em 0.5em 0.4em;box-sizing: border-box;padding-bottom: 0.4em;background-color: white;}#sk-container-id-1 div.sk-label label {font-family: monospace;font-weight: bold;display: inline-block;line-height: 1.2em;}#sk-container-id-1 div.sk-label-container {text-align: center;}#sk-container-id-1 div.sk-container {/* jupyter's `normalize.less` sets `[hidden] { display: none; }` but bootstrap.min.css set `[hidden] { display: none !important; }` so we also need the `!important` here to be able to override the default hidden behavior on the sphinx rendered scikit-learn.org. See: https://github.com/scikit-learn/scikit-learn/issues/21755 */display: inline-block !important;position: relative;}#sk-container-id-1 div.sk-text-repr-fallback {display: none;}</style><div id=\"sk-container-id-1\" class=\"sk-top-container\"><div class=\"sk-text-repr-fallback\"><pre>RandomizedSearchCV(cv=KFold(n_splits=5, random_state=1234, shuffle=True),\n",
       "                   estimator=KNeighborsClassifier(n_jobs=-1), n_jobs=-1,\n",
       "                   param_distributions={&#x27;algorithm&#x27;: [&#x27;auto&#x27;, &#x27;ball_tree&#x27;,\n",
       "                                                      &#x27;kd_tree&#x27;],\n",
       "                                        &#x27;n_neighbors&#x27;: [1, 3, 5, 7, 9, 11, 15,\n",
       "                                                        17, 19]},\n",
       "                   random_state=1234, scoring=&#x27;accuracy&#x27;)</pre><b>In a Jupyter environment, please rerun this cell to show the HTML representation or trust the notebook. <br />On GitHub, the HTML representation is unable to render, please try loading this page with nbviewer.org.</b></div><div class=\"sk-container\" hidden><div class=\"sk-item sk-dashed-wrapped\"><div class=\"sk-label-container\"><div class=\"sk-label sk-toggleable\"><input class=\"sk-toggleable__control sk-hidden--visually\" id=\"sk-estimator-id-1\" type=\"checkbox\" ><label for=\"sk-estimator-id-1\" class=\"sk-toggleable__label sk-toggleable__label-arrow\">RandomizedSearchCV</label><div class=\"sk-toggleable__content\"><pre>RandomizedSearchCV(cv=KFold(n_splits=5, random_state=1234, shuffle=True),\n",
       "                   estimator=KNeighborsClassifier(n_jobs=-1), n_jobs=-1,\n",
       "                   param_distributions={&#x27;algorithm&#x27;: [&#x27;auto&#x27;, &#x27;ball_tree&#x27;,\n",
       "                                                      &#x27;kd_tree&#x27;],\n",
       "                                        &#x27;n_neighbors&#x27;: [1, 3, 5, 7, 9, 11, 15,\n",
       "                                                        17, 19]},\n",
       "                   random_state=1234, scoring=&#x27;accuracy&#x27;)</pre></div></div></div><div class=\"sk-parallel\"><div class=\"sk-parallel-item\"><div class=\"sk-item\"><div class=\"sk-label-container\"><div class=\"sk-label sk-toggleable\"><input class=\"sk-toggleable__control sk-hidden--visually\" id=\"sk-estimator-id-2\" type=\"checkbox\" ><label for=\"sk-estimator-id-2\" class=\"sk-toggleable__label sk-toggleable__label-arrow\">estimator: KNeighborsClassifier</label><div class=\"sk-toggleable__content\"><pre>KNeighborsClassifier(n_jobs=-1)</pre></div></div></div><div class=\"sk-serial\"><div class=\"sk-item\"><div class=\"sk-estimator sk-toggleable\"><input class=\"sk-toggleable__control sk-hidden--visually\" id=\"sk-estimator-id-3\" type=\"checkbox\" ><label for=\"sk-estimator-id-3\" class=\"sk-toggleable__label sk-toggleable__label-arrow\">KNeighborsClassifier</label><div class=\"sk-toggleable__content\"><pre>KNeighborsClassifier(n_jobs=-1)</pre></div></div></div></div></div></div></div></div></div></div>"
      ],
      "text/plain": [
       "RandomizedSearchCV(cv=KFold(n_splits=5, random_state=1234, shuffle=True),\n",
       "                   estimator=KNeighborsClassifier(n_jobs=-1), n_jobs=-1,\n",
       "                   param_distributions={'algorithm': ['auto', 'ball_tree',\n",
       "                                                      'kd_tree'],\n",
       "                                        'n_neighbors': [1, 3, 5, 7, 9, 11, 15,\n",
       "                                                        17, 19]},\n",
       "                   random_state=1234, scoring='accuracy')"
      ]
     },
     "execution_count": 71,
     "metadata": {},
     "output_type": "execute_result"
    }
   ],
   "source": [
    "# RGS\n",
    "# 1) 사용할 모델 : HW성능 관련된 것은 기본으로 성능!!\n",
    "knn = KNeighborsClassifier(n_jobs=-1)\n",
    "# 2) 몇 번을 탐색할 것인가!!!!!dk \n",
    "n_iter = 10 # ( test할 파라미터 조합보다 경우의 수가 작은면 에러..)\n",
    "# 3) RGSV 세팅 : 마치 모델!!!!\n",
    "knn_kf_rgs = RandomizedSearchCV(\n",
    "    knn,\n",
    "    # test할 파라미터들...\n",
    "    param_distributions= parameters,\n",
    "    cv = kfold,\n",
    "    scoring = \"accuracy\",\n",
    "    n_jobs = -1,\n",
    "    random_state=1234,\n",
    "    n_iter = n_iter\n",
    ")\n",
    "\n",
    "# 4) 실제 데이터를 밀어 넣어서 학습\n",
    "knn_kf_rgs.fit(X_train, y_train)\n"
   ]
  },
  {
   "cell_type": "code",
   "execution_count": 72,
   "id": "5f719fdb-8425-432c-915a-ad2e0837ada3",
   "metadata": {},
   "outputs": [
    {
     "data": {
      "text/plain": [
       "{'mean_fit_time': array([0.01343455, 0.00891433, 0.00841818, 0.00672297, 0.01314616,\n",
       "        0.00697937, 0.0058661 , 0.00607543, 0.00628119, 0.00655932]),\n",
       " 'std_fit_time': array([0.0052341 , 0.00115386, 0.00148552, 0.00070083, 0.00848151,\n",
       "        0.00154108, 0.00054727, 0.00025294, 0.00062363, 0.00078498]),\n",
       " 'mean_score_time': array([0.12781825, 0.06166806, 0.04597111, 0.07260618, 0.07479973,\n",
       "        0.05087981, 0.03938313, 0.0357604 , 0.03979344, 0.03319201]),\n",
       " 'std_score_time': array([0.01738076, 0.02716699, 0.01570071, 0.01947113, 0.01628999,\n",
       "        0.01404083, 0.00869359, 0.00236647, 0.0076554 , 0.00592209]),\n",
       " 'param_n_neighbors': masked_array(data=[1, 17, 9, 7, 17, 5, 9, 3, 11, 11],\n",
       "              mask=[False, False, False, False, False, False, False, False,\n",
       "                    False, False],\n",
       "        fill_value='?',\n",
       "             dtype=object),\n",
       " 'param_algorithm': masked_array(data=['kd_tree', 'auto', 'auto', 'auto', 'kd_tree', 'auto',\n",
       "                    'ball_tree', 'auto', 'kd_tree', 'auto'],\n",
       "              mask=[False, False, False, False, False, False, False, False,\n",
       "                    False, False],\n",
       "        fill_value='?',\n",
       "             dtype=object),\n",
       " 'params': [{'n_neighbors': 1, 'algorithm': 'kd_tree'},\n",
       "  {'n_neighbors': 17, 'algorithm': 'auto'},\n",
       "  {'n_neighbors': 9, 'algorithm': 'auto'},\n",
       "  {'n_neighbors': 7, 'algorithm': 'auto'},\n",
       "  {'n_neighbors': 17, 'algorithm': 'kd_tree'},\n",
       "  {'n_neighbors': 5, 'algorithm': 'auto'},\n",
       "  {'n_neighbors': 9, 'algorithm': 'ball_tree'},\n",
       "  {'n_neighbors': 3, 'algorithm': 'auto'},\n",
       "  {'n_neighbors': 11, 'algorithm': 'kd_tree'},\n",
       "  {'n_neighbors': 11, 'algorithm': 'auto'}],\n",
       " 'split0_test_score': array([0.74125874, 0.73426573, 0.74825175, 0.71328671, 0.73426573,\n",
       "        0.72027972, 0.74825175, 0.75524476, 0.72727273, 0.72727273]),\n",
       " 'split1_test_score': array([0.69230769, 0.73426573, 0.73426573, 0.72027972, 0.73426573,\n",
       "        0.72027972, 0.73426573, 0.74125874, 0.74125874, 0.74125874]),\n",
       " 'split2_test_score': array([0.63380282, 0.67605634, 0.68309859, 0.68309859, 0.67605634,\n",
       "        0.66901408, 0.68309859, 0.65492958, 0.68309859, 0.68309859]),\n",
       " 'split3_test_score': array([0.67605634, 0.71830986, 0.77464789, 0.78169014, 0.71830986,\n",
       "        0.76760563, 0.77464789, 0.71830986, 0.78873239, 0.78873239]),\n",
       " 'split4_test_score': array([0.64084507, 0.72535211, 0.6971831 , 0.66197183, 0.72535211,\n",
       "        0.68309859, 0.6971831 , 0.6971831 , 0.71830986, 0.71830986]),\n",
       " 'mean_test_score': array([0.67685413, 0.71764996, 0.72748941, 0.7120654 , 0.71764996,\n",
       "        0.71205555, 0.72748941, 0.71338521, 0.73173446, 0.73173446]),\n",
       " 'std_test_score': array([0.03882646, 0.02164235, 0.03343631, 0.04065713, 0.02164235,\n",
       "        0.03438651, 0.03343631, 0.03530716, 0.03436583, 0.03436583]),\n",
       " 'rank_test_score': array([10,  5,  3,  8,  5,  9,  3,  7,  1,  1])}"
      ]
     },
     "execution_count": 72,
     "metadata": {},
     "output_type": "execute_result"
    }
   ],
   "source": [
    "#  RGSCV에 실제 수행 결과 : 로그표\n",
    "knn_kf_rgs.cv_results_"
   ]
  },
  {
   "cell_type": "code",
   "execution_count": 73,
   "id": "38d714a6-8a51-4200-9daa-56eb6a55013a",
   "metadata": {},
   "outputs": [
    {
     "data": {
      "text/plain": [
       "{'n_neighbors': 11, 'algorithm': 'kd_tree'}"
      ]
     },
     "execution_count": 73,
     "metadata": {},
     "output_type": "execute_result"
    }
   ],
   "source": [
    "# 했던 조합 중 best parameter 조합은?\n",
    "# --> 선정 기준은 오로지 cv에 대한 평균 성능 지표의 순서\n",
    "knn_kf_rgs.best_params_"
   ]
  },
  {
   "cell_type": "code",
   "execution_count": 75,
   "id": "d6656aa9-baa8-40ec-a8b1-d8b0b420b030",
   "metadata": {},
   "outputs": [
    {
     "data": {
      "text/plain": [
       "0.7317344627203781"
      ]
     },
     "execution_count": 75,
     "metadata": {},
     "output_type": "execute_result"
    }
   ],
   "source": [
    "# 했던 조합 중 제일 좋은 조합의 평균 성능\n",
    "knn_kf_rgs.best_score_"
   ]
  },
  {
   "cell_type": "code",
   "execution_count": 78,
   "id": "87281a31-d3aa-408b-a887-bd26dae4da2d",
   "metadata": {},
   "outputs": [
    {
     "name": "stdout",
     "output_type": "stream",
     "text": [
      "KNN kfold RGS Acc:  0.6703910614525139\n"
     ]
    }
   ],
   "source": [
    "# 모델이 괜찮다 평가되면 실제 val 로 평가\n",
    "knn_kf_rgs_best = knn_kf_rgs.best_estimator_\n",
    "\n",
    "# val에 대한 문제 풀어보자\n",
    "knn_kf_rgs_ypred = knn_kf_rgs_best.predict(X_val)\n",
    "\n",
    "# val에 대한 채점\n",
    "knn_kf_rgs_acc = accuracy_score(y_val, knn_kf_rgs_ypred)\n",
    "print(\"KNN kfold RGS Acc: \", knn_kf_rgs_acc)"
   ]
  },
  {
   "cell_type": "code",
   "execution_count": 82,
   "id": "cc6c5e72-13f9-43cd-95be-805dccf205e0",
   "metadata": {},
   "outputs": [],
   "source": [
    "### --> RGS에서 제일 좋다고 하는 조합을 봤더니....\n",
    "#       좀 더 디테일하게 탐색을 하고 싶다!!! : GS\n",
    "\n",
    "# 가정 : RGS/Bayseian opt 찾은 후보들 중에서 디테일하게 탐색..\n",
    "# 1) 테스트할 파라미터 조합 : 몇 가지로 좀 줄여서...\n",
    "parameters = {\n",
    "    \"n_neighbors\":[7, 9,11,13]\n",
    "}\n",
    "# 2) 사용할 모델\n",
    "knn = KNeighborsClassifier(n_jobs=-1)#\n",
    "# 3) GSCV : 내가 생각한 파라미터 조합은 다 수행!!!!\n",
    "knn_kf_gs = GridSearchCV(\n",
    "    knn, \n",
    "    param_grid = parameters,\n",
    "    cv = kfold, \n",
    "    scoring = \"accuracy\",\n",
    "    n_jobs=-1)"
   ]
  },
  {
   "cell_type": "code",
   "execution_count": 84,
   "id": "03393b3d-3028-409f-87f3-40719856cd1a",
   "metadata": {},
   "outputs": [
    {
     "data": {
      "text/plain": [
       "{'mean_fit_time': array([0.00498624, 0.00797896, 0.0067811 , 0.00648932]),\n",
       " 'std_fit_time': array([0.00063158, 0.00166867, 0.00127974, 0.00203715]),\n",
       " 'mean_score_time': array([0.04190235, 0.04609151, 0.03382502, 0.03814983]),\n",
       " 'std_score_time': array([0.00259127, 0.01303439, 0.00205612, 0.00233398]),\n",
       " 'param_n_neighbors': masked_array(data=[7, 9, 11, 13],\n",
       "              mask=[False, False, False, False],\n",
       "        fill_value='?',\n",
       "             dtype=object),\n",
       " 'params': [{'n_neighbors': 7},\n",
       "  {'n_neighbors': 9},\n",
       "  {'n_neighbors': 11},\n",
       "  {'n_neighbors': 13}],\n",
       " 'split0_test_score': array([0.71328671, 0.74825175, 0.72727273, 0.70629371]),\n",
       " 'split1_test_score': array([0.72027972, 0.73426573, 0.74125874, 0.72727273]),\n",
       " 'split2_test_score': array([0.68309859, 0.68309859, 0.68309859, 0.69014085]),\n",
       " 'split3_test_score': array([0.78169014, 0.77464789, 0.78873239, 0.78873239]),\n",
       " 'split4_test_score': array([0.66197183, 0.6971831 , 0.71830986, 0.71830986]),\n",
       " 'mean_test_score': array([0.7120654 , 0.72748941, 0.73173446, 0.72614991]),\n",
       " 'std_test_score': array([0.04065713, 0.03343631, 0.03436583, 0.03367556]),\n",
       " 'rank_test_score': array([4, 2, 1, 3])}"
      ]
     },
     "execution_count": 84,
     "metadata": {},
     "output_type": "execute_result"
    }
   ],
   "source": [
    "knn_kf_gs.fit(X_train , y_train)\n",
    "knn_kf_gs.cv_results_"
   ]
  },
  {
   "cell_type": "code",
   "execution_count": 85,
   "id": "0e2bf7af-488f-46eb-99f8-90826a46bfef",
   "metadata": {},
   "outputs": [
    {
     "data": {
      "text/plain": [
       "{'n_neighbors': 11}"
      ]
     },
     "execution_count": 85,
     "metadata": {},
     "output_type": "execute_result"
    }
   ],
   "source": [
    "knn_kf_gs.best_params_"
   ]
  },
  {
   "cell_type": "code",
   "execution_count": 86,
   "id": "b77d99b3-9a79-4ebb-8a66-9c90b7746466",
   "metadata": {},
   "outputs": [
    {
     "data": {
      "text/plain": [
       "0.7317344627203781"
      ]
     },
     "execution_count": 86,
     "metadata": {},
     "output_type": "execute_result"
    }
   ],
   "source": [
    "knn_kf_gs.best_score_"
   ]
  },
  {
   "cell_type": "code",
   "execution_count": null,
   "id": "5bb0bd87-0368-4692-9ac1-3203deccd7e1",
   "metadata": {},
   "outputs": [],
   "source": [
    "########\n",
    "## 팀 프로젝트들을 하다보면,,,,\n",
    "## 실제 활용을 할 때에는 역할별로 맡은 모델을 작성하고, 공유!!!!\n",
    "## ==> 내가 만든 모델에 대한 저장 & 불러오는 과정!!!!!\n",
    "## model save, model load\n",
    "## --> DL같은 경우도 모델에 대한 저장/ 불러오는 것은 중요!!!!!"
   ]
  },
  {
   "cell_type": "code",
   "execution_count": null,
   "id": "6505b3a4-05e6-4609-8d5f-55b1a66c7073",
   "metadata": {},
   "outputs": [],
   "source": [
    "# anaconda를 사용해서 하면 기본 패키지 중 : joblib\n",
    "import joblib"
   ]
  },
  {
   "cell_type": "code",
   "execution_count": null,
   "id": "64d94414-50c2-4065-8bee-52a03741a4ac",
   "metadata": {},
   "outputs": [],
   "source": [
    "# 1) 모델을 저장 : joblib.dump(어떤 모델, 어디다가 저장할지)\n",
    "# 참고) 파이썬에서는 주로 모델을 저장하는 파일 양식 pickle타입\n",
    "#        ~~~.pkl\n",
    "# 참고) 모델이 큰 경우는 몇 백메가~~~몇 십 기가~~이상...\n",
    "joblib.dump(rf_kf_gs_best, \"rf_kf_gs_best.pkl\" )"
   ]
  },
  {
   "cell_type": "code",
   "execution_count": null,
   "id": "dd98ba6e-882c-4659-b2a1-0ef9fd9d883c",
   "metadata": {},
   "outputs": [],
   "source": [
    "# 2) 받은 모델을 불러와서 사용!!: joblib.load(불러올모델파일경로)\n",
    "model_path ='/content/rf_kf_gs_best.pkl'\n",
    "rf_backup = joblib.load(model_path)\n",
    "rf_backup"
   ]
  },
  {
   "cell_type": "code",
   "execution_count": null,
   "id": "f06019c0-19d8-47cc-aa0a-03d1670f94cd",
   "metadata": {},
   "outputs": [],
   "source": [
    "# ==> 체크\n",
    "(rf_kf_gs_best.predict(X_val) != rf_backup.predict(X_val)).sum()"
   ]
  },
  {
   "cell_type": "code",
   "execution_count": null,
   "id": "2a71366f-2291-4bfd-a768-920a7aa19bcd",
   "metadata": {},
   "outputs": [],
   "source": [
    "# 참고) 조원분들의 각기 머신들의 사양들이 다 다름!!!!\n",
    "#      ==> OS에 차이가 발생을 함....모델 공유에 문제가 있을 수 있음..\n",
    "# 체크사항1) scikit-learn 버전을 맞춰야 함!!!!\n",
    "#            --> 안 맞으면 경고가 발생할 수도 있음!!!\n",
    "# 체크사항2) 명확하게 pickle 패키지를 불러서 사용을 해야함!!!\n",
    "#            ==> joblib가 아니라 pickle패키지를 불러서 사용!!!!\n",
    "# 체크사항3) 불러오거나, 저장할 때 : 파이썬의 파일 입출IO open()사용"
   ]
  },
  {
   "cell_type": "code",
   "execution_count": null,
   "id": "87e6fb96-6065-4710-bd6b-9917396ac390",
   "metadata": {},
   "outputs": [],
   "source": [
    "# 서로 다른 os상 모델 저장)\n",
    "import pickle\n",
    "file_name = \"my_model.pkl\"\n",
    "pickle.dump(rf_kf_gs_best, open(file_name,\"wb\") )"
   ]
  },
  {
   "cell_type": "code",
   "execution_count": null,
   "id": "d1c4c1c7-ec90-4bad-958d-1e1b512fa259",
   "metadata": {},
   "outputs": [],
   "source": [
    "# 서로 다른 os상 모델을 받을 때\n",
    "import pickle\n",
    "path = '/content/my_model.pkl'\n",
    "new_model = pickle.load( open(path, \"rb\"))"
   ]
  },
  {
   "cell_type": "code",
   "execution_count": null,
   "id": "df72b90f-9bc4-4c14-acd8-3d13dc1a2984",
   "metadata": {},
   "outputs": [],
   "source": [
    "new_model"
   ]
  }
 ],
 "metadata": {
  "kernelspec": {
   "display_name": "Python 3 (ipykernel)",
   "language": "python",
   "name": "python3"
  },
  "language_info": {
   "codemirror_mode": {
    "name": "ipython",
    "version": 3
   },
   "file_extension": ".py",
   "mimetype": "text/x-python",
   "name": "python",
   "nbconvert_exporter": "python",
   "pygments_lexer": "ipython3",
   "version": "3.11.7"
  }
 },
 "nbformat": 4,
 "nbformat_minor": 5
}
