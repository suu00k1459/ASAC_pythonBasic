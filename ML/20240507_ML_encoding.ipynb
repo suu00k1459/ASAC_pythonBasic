{
 "cells": [
  {
   "cell_type": "code",
   "execution_count": 9,
   "id": "23daec93-5fb4-4c4e-a8ef-08d2db989f1a",
   "metadata": {},
   "outputs": [],
   "source": [
    "import pandas as pd\n",
    "import numpy as np"
   ]
  },
  {
   "cell_type": "code",
   "execution_count": 10,
   "id": "727641f4-62a6-4ff4-b7c0-d24d559083aa",
   "metadata": {},
   "outputs": [],
   "source": [
    "# * 데이터 크기/ 상황 \n",
    "# -> 가벼울 땐 pandas 사용 무거우면 대용량 :PySpark, DASK etc 사용"
   ]
  },
  {
   "cell_type": "code",
   "execution_count": 12,
   "id": "33ff332e-1e8e-4f1a-8dcb-882a3ca8afb9",
   "metadata": {},
   "outputs": [],
   "source": [
    "data = pd.read_csv(\"train.csv\")"
   ]
  },
  {
   "cell_type": "code",
   "execution_count": 13,
   "id": "c8cf967a-8ee8-4fee-9d28-7476ef4a810e",
   "metadata": {},
   "outputs": [
    {
     "data": {
      "text/html": [
       "<div>\n",
       "<style scoped>\n",
       "    .dataframe tbody tr th:only-of-type {\n",
       "        vertical-align: middle;\n",
       "    }\n",
       "\n",
       "    .dataframe tbody tr th {\n",
       "        vertical-align: top;\n",
       "    }\n",
       "\n",
       "    .dataframe thead th {\n",
       "        text-align: right;\n",
       "    }\n",
       "</style>\n",
       "<table border=\"1\" class=\"dataframe\">\n",
       "  <thead>\n",
       "    <tr style=\"text-align: right;\">\n",
       "      <th></th>\n",
       "      <th>PassengerId</th>\n",
       "      <th>Survived</th>\n",
       "      <th>Pclass</th>\n",
       "      <th>Name</th>\n",
       "      <th>Sex</th>\n",
       "      <th>Age</th>\n",
       "      <th>SibSp</th>\n",
       "      <th>Parch</th>\n",
       "      <th>Ticket</th>\n",
       "      <th>Fare</th>\n",
       "      <th>Cabin</th>\n",
       "      <th>Embarked</th>\n",
       "    </tr>\n",
       "  </thead>\n",
       "  <tbody>\n",
       "    <tr>\n",
       "      <th>0</th>\n",
       "      <td>1</td>\n",
       "      <td>0</td>\n",
       "      <td>3</td>\n",
       "      <td>Braund, Mr. Owen Harris</td>\n",
       "      <td>male</td>\n",
       "      <td>22.0</td>\n",
       "      <td>1</td>\n",
       "      <td>0</td>\n",
       "      <td>A/5 21171</td>\n",
       "      <td>7.2500</td>\n",
       "      <td>NaN</td>\n",
       "      <td>S</td>\n",
       "    </tr>\n",
       "    <tr>\n",
       "      <th>1</th>\n",
       "      <td>2</td>\n",
       "      <td>1</td>\n",
       "      <td>1</td>\n",
       "      <td>Cumings, Mrs. John Bradley (Florence Briggs Th...</td>\n",
       "      <td>female</td>\n",
       "      <td>38.0</td>\n",
       "      <td>1</td>\n",
       "      <td>0</td>\n",
       "      <td>PC 17599</td>\n",
       "      <td>71.2833</td>\n",
       "      <td>C85</td>\n",
       "      <td>C</td>\n",
       "    </tr>\n",
       "    <tr>\n",
       "      <th>2</th>\n",
       "      <td>3</td>\n",
       "      <td>1</td>\n",
       "      <td>3</td>\n",
       "      <td>Heikkinen, Miss. Laina</td>\n",
       "      <td>female</td>\n",
       "      <td>26.0</td>\n",
       "      <td>0</td>\n",
       "      <td>0</td>\n",
       "      <td>STON/O2. 3101282</td>\n",
       "      <td>7.9250</td>\n",
       "      <td>NaN</td>\n",
       "      <td>S</td>\n",
       "    </tr>\n",
       "    <tr>\n",
       "      <th>3</th>\n",
       "      <td>4</td>\n",
       "      <td>1</td>\n",
       "      <td>1</td>\n",
       "      <td>Futrelle, Mrs. Jacques Heath (Lily May Peel)</td>\n",
       "      <td>female</td>\n",
       "      <td>35.0</td>\n",
       "      <td>1</td>\n",
       "      <td>0</td>\n",
       "      <td>113803</td>\n",
       "      <td>53.1000</td>\n",
       "      <td>C123</td>\n",
       "      <td>S</td>\n",
       "    </tr>\n",
       "    <tr>\n",
       "      <th>4</th>\n",
       "      <td>5</td>\n",
       "      <td>0</td>\n",
       "      <td>3</td>\n",
       "      <td>Allen, Mr. William Henry</td>\n",
       "      <td>male</td>\n",
       "      <td>35.0</td>\n",
       "      <td>0</td>\n",
       "      <td>0</td>\n",
       "      <td>373450</td>\n",
       "      <td>8.0500</td>\n",
       "      <td>NaN</td>\n",
       "      <td>S</td>\n",
       "    </tr>\n",
       "  </tbody>\n",
       "</table>\n",
       "</div>"
      ],
      "text/plain": [
       "   PassengerId  Survived  Pclass  \\\n",
       "0            1         0       3   \n",
       "1            2         1       1   \n",
       "2            3         1       3   \n",
       "3            4         1       1   \n",
       "4            5         0       3   \n",
       "\n",
       "                                                Name     Sex   Age  SibSp  \\\n",
       "0                            Braund, Mr. Owen Harris    male  22.0      1   \n",
       "1  Cumings, Mrs. John Bradley (Florence Briggs Th...  female  38.0      1   \n",
       "2                             Heikkinen, Miss. Laina  female  26.0      0   \n",
       "3       Futrelle, Mrs. Jacques Heath (Lily May Peel)  female  35.0      1   \n",
       "4                           Allen, Mr. William Henry    male  35.0      0   \n",
       "\n",
       "   Parch            Ticket     Fare Cabin Embarked  \n",
       "0      0         A/5 21171   7.2500   NaN        S  \n",
       "1      0          PC 17599  71.2833   C85        C  \n",
       "2      0  STON/O2. 3101282   7.9250   NaN        S  \n",
       "3      0            113803  53.1000  C123        S  \n",
       "4      0            373450   8.0500   NaN        S  "
      ]
     },
     "execution_count": 13,
     "metadata": {},
     "output_type": "execute_result"
    }
   ],
   "source": [
    "data.head()"
   ]
  },
  {
   "cell_type": "markdown",
   "id": "136df3e1-583a-4edd-80ae-65c440ee1bc2",
   "metadata": {},
   "source": [
    "### 모델 생성 : 생성 여부에 대한 예측\n",
    "\n",
    "1) 결측값이 없어야 함 ! -> 제거, 채울 값\n",
    "2) 숫자가 아닌 데이터를 꼭 숫자화(인코딩)"
   ]
  },
  {
   "cell_type": "markdown",
   "id": "6fb954fe-0db7-4e85-879c-65d2d24428fe",
   "metadata": {},
   "source": [
    "### 1) 결측값 확인 후 채우기"
   ]
  },
  {
   "cell_type": "code",
   "execution_count": 14,
   "id": "9eaca03f-4891-4d64-b27b-78d3a520b68a",
   "metadata": {},
   "outputs": [
    {
     "name": "stdout",
     "output_type": "stream",
     "text": [
      "<class 'pandas.core.frame.DataFrame'>\n",
      "RangeIndex: 891 entries, 0 to 890\n",
      "Data columns (total 12 columns):\n",
      " #   Column       Non-Null Count  Dtype  \n",
      "---  ------       --------------  -----  \n",
      " 0   PassengerId  891 non-null    int64  \n",
      " 1   Survived     891 non-null    int64  \n",
      " 2   Pclass       891 non-null    int64  \n",
      " 3   Name         891 non-null    object \n",
      " 4   Sex          891 non-null    object \n",
      " 5   Age          714 non-null    float64\n",
      " 6   SibSp        891 non-null    int64  \n",
      " 7   Parch        891 non-null    int64  \n",
      " 8   Ticket       891 non-null    object \n",
      " 9   Fare         891 non-null    float64\n",
      " 10  Cabin        204 non-null    object \n",
      " 11  Embarked     889 non-null    object \n",
      "dtypes: float64(2), int64(5), object(5)\n",
      "memory usage: 83.7+ KB\n"
     ]
    }
   ],
   "source": [
    "data.info()"
   ]
  },
  {
   "cell_type": "code",
   "execution_count": 15,
   "id": "ec598a60-5966-453b-b6fb-e3adffe7e692",
   "metadata": {},
   "outputs": [
    {
     "name": "stdout",
     "output_type": "stream",
     "text": [
      "PassengerId: 0.0\n",
      "Survived: 0.0\n",
      "Pclass: 0.0\n",
      "Name: 0.0\n",
      "Sex: 0.0\n",
      "Age: 0.19865319865319866\n",
      "SibSp: 0.0\n",
      "Parch: 0.0\n",
      "Ticket: 0.0\n",
      "Fare: 0.0\n",
      "Cabin: 0.7710437710437711\n",
      "Embarked: 0.002244668911335578\n"
     ]
    }
   ],
   "source": [
    "for col in data.columns:\n",
    "    print(str(col)+\":\", data.loc[:,col].isnull().sum()/len(data))"
   ]
  },
  {
   "cell_type": "code",
   "execution_count": 16,
   "id": "6462ce76-0f18-41b1-b17a-4b89a1ce679e",
   "metadata": {},
   "outputs": [
    {
     "data": {
      "text/plain": [
       "<Axes: ylabel='Frequency'>"
      ]
     },
     "execution_count": 16,
     "metadata": {},
     "output_type": "execute_result"
    },
    {
     "data": {
      "image/png": "[encoded data removed]",
      "text/plain": [
       "<Figure size 640x480 with 1 Axes>"
      ]
     },
     "metadata": {},
     "output_type": "display_data"
    }
   ],
   "source": [
    "# Age cloumn\n",
    "\n",
    "data[\"Age\"].plot(kind = \"hist\")"
   ]
  },
  {
   "cell_type": "code",
   "execution_count": 17,
   "id": "e8d71e8c-17d7-450f-90cc-90f9280b5344",
   "metadata": {},
   "outputs": [],
   "source": [
    "# 현실적인 문제 : 누락된 20퍼센트의 데이터를 어떻게 할까?\n",
    "# ==> 분석자가 타당하게 이유들과 방법들을 제시해야 함!!!!\n",
    "# 예) 중요한 변수가 아니라고 생각하면,,,,,나이변수 제거하자!!!!\n",
    "#     ---> 많은 데이터가 소실될 수 있음....특징이 중요...\n",
    "# ==> 채우자고 결정!!!!!\n",
    "#     어떻게 채울것인가??(정답은 없음!!!!)\n",
    "#     --> 가장 편한 방법 : 임의의 값으로 채운다 9999,99, 0, -1 etc\n",
    "#                          대표값으로 채운다 : 평균, 중간값, 최빈값 etc\n",
    "#     --> 결측값을 예측하는 모델을 만들어서 예측값으로 할 수도 있음...\n",
    "#     --> 외부 데이터를 참조(대회 규정을 참고, 고객의사)\n",
    "#     --> 유사한 데이터를 모아서(그룹, 묶음): 대표값 ==> knn\n",
    "#     etc.... 공식적인 부분은 없음!!!!\n",
    "#     시도의 영역// 하는 도메인에서 주로 하는 방식 // etc"
   ]
  },
  {
   "cell_type": "code",
   "execution_count": 18,
   "id": "5034f59f-be34-4705-ac72-d3e4092cf6dd",
   "metadata": {},
   "outputs": [],
   "source": [
    "# 수업 진행은 편히 하기 위해서 : 대표값으로 처리...\n",
    "# 결정 ) 직접 age컬럼의 누락된 값은 채우자!! & 평균대표값\n",
    "# ==> 분포를 보니, 적당히 평균을 해도 괜찮을 것 같아서 평균 결정!!!!\n",
    "data.loc[:,\"Age\"].fillna(data[\"Age\"].mean(), inplace=True)"
   ]
  },
  {
   "cell_type": "code",
   "execution_count": 19,
   "id": "6802339f-2a9b-479c-a1a1-fb7cccd0d5a1",
   "metadata": {},
   "outputs": [
    {
     "data": {
      "text/plain": [
       "0"
      ]
     },
     "execution_count": 19,
     "metadata": {},
     "output_type": "execute_result"
    }
   ],
   "source": [
    "# --> 누락된 데이터가 잘 처리가 되었는지 체크\n",
    "data.loc[:,\"Age\"].isnull().sum()\n"
   ]
  },
  {
   "cell_type": "code",
   "execution_count": 22,
   "id": "20ab5d7f-dd13-4079-b3f4-6cef25baf546",
   "metadata": {},
   "outputs": [],
   "source": [
    "# --> Cabin/ Embarked의 값을 채우자라고 결정!!!\n",
    "# ===> 정보 없음을 나타내는 대표값으로 채울려고 함 N\n",
    "data.loc[:,\"Cabin\"].fillna(\"N\",inplace=True )\n",
    "data.loc[:,\"Embarked\"].fillna(\"N\",inplace=True )"
   ]
  },
  {
   "cell_type": "code",
   "execution_count": 23,
   "id": "93fc3203-7d6e-4a4f-a75d-d9d741729015",
   "metadata": {},
   "outputs": [
    {
     "name": "stdout",
     "output_type": "stream",
     "text": [
      "<class 'pandas.core.frame.DataFrame'>\n",
      "RangeIndex: 891 entries, 0 to 890\n",
      "Data columns (total 12 columns):\n",
      " #   Column       Non-Null Count  Dtype  \n",
      "---  ------       --------------  -----  \n",
      " 0   PassengerId  891 non-null    int64  \n",
      " 1   Survived     891 non-null    int64  \n",
      " 2   Pclass       891 non-null    int64  \n",
      " 3   Name         891 non-null    object \n",
      " 4   Sex          891 non-null    object \n",
      " 5   Age          891 non-null    float64\n",
      " 6   SibSp        891 non-null    int64  \n",
      " 7   Parch        891 non-null    int64  \n",
      " 8   Ticket       891 non-null    object \n",
      " 9   Fare         891 non-null    float64\n",
      " 10  Cabin        891 non-null    object \n",
      " 11  Embarked     891 non-null    object \n",
      "dtypes: float64(2), int64(5), object(5)\n",
      "memory usage: 83.7+ KB\n"
     ]
    }
   ],
   "source": [
    "data.info()"
   ]
  },
  {
   "cell_type": "markdown",
   "id": "7406f21f-68d3-4e62-9a6a-b3dc7ffd7720",
   "metadata": {},
   "source": [
    "### 범주형 인코딩하기"
   ]
  },
  {
   "cell_type": "code",
   "execution_count": 36,
   "id": "e937edab-135e-4d32-81e9-829df0f3f416",
   "metadata": {},
   "outputs": [],
   "source": [
    "# 잠시) 인코딩중에서 대표적인 방법 : 라벨인코딩, 원핫인코딩 ,,,,etc\n",
    "# 성별 : 남자/여자, female/male, f/m, F/M\n",
    "# 학교 : 초등, 중등, 고등, 대학,,,\n",
    "\n",
    "# --> 라벨 인코딩 : 유니크한 종류에 정수값을 부여를 함\n",
    "# 성별 : 남자/ 여자 --> 유니크한 종류의 사전 순서\n",
    "#        남자0, 여자1\n",
    "# 학교 : 초등, 중등, 고등, 대학\n",
    "#        고등0, 대학1, 중등2, 초등3\n",
    "#        ==> 임의로 순서를 조정해서\n",
    "#        초등0, 중등1, 고등2, 대학3\n",
    "# --------> 개별 종류값을 정수로 변환!!!!!\n",
    "\n",
    "# --> 원핫인코딩 : 해당하는 고유값인지/아닌지(0/1)\n",
    "# 성별 --> OHEnc ---> 성별_남자,   성별_여자\n",
    "# 남자                    1            0\n",
    "# 여자                    0            1\n",
    "# --> 종류가 국가 같이 100개국 이상인 경우\n",
    "#     기계 적으로 OHEnc 컬럼이 100개가 옆으로 확장\n",
    "#     & 대부분의 값이 거의 0\n",
    "#     ==> 희소행렬( 행렬의 사이즈는 큰데, 값은 대부분 0)\n",
    "#     ==> 역행렬 X , 종속적인 관계여서 연산 잘 안 됨!!\n",
    "#         (장바구니분석, 언어에 대해서 인코딩)\n",
    "#     ==> 연산이 잘 안 되어서,,결과가 그닥.....\n",
    "\n",
    "# 주어진 벡터 사이즈로 제한을 하고, 확률값으로 처리를 한\n",
    "# word2vec 와우!!!!!!모델로 언어를 처리하는 전환!!!!!"
   ]
  },
  {
   "cell_type": "code",
   "execution_count": 37,
   "id": "61d88d75-d0e4-46f6-9412-b961b283f55e",
   "metadata": {},
   "outputs": [],
   "source": [
    "from sklearn.preprocessing import LabelEncoder"
   ]
  },
  {
   "cell_type": "code",
   "execution_count": 38,
   "id": "9bfe9994-8ad3-498d-970f-6f0c6a988874",
   "metadata": {},
   "outputs": [
    {
     "data": {
      "text/plain": [
       "['TV', '냉장고', '세탁기', 'TV', '냉장고']"
      ]
     },
     "execution_count": 38,
     "metadata": {},
     "output_type": "execute_result"
    }
   ],
   "source": [
    "items = [\"TV\",\"냉장고\",\"세탁기\",\"TV\",\"냉장고\"]\n",
    "items"
   ]
  },
  {
   "cell_type": "code",
   "execution_count": 39,
   "id": "b8a5a666-760d-4126-94b3-130664b2d484",
   "metadata": {},
   "outputs": [
    {
     "data": {
      "text/plain": [
       "array([0, 1, 2, 0, 1])"
      ]
     },
     "execution_count": 39,
     "metadata": {},
     "output_type": "execute_result"
    }
   ],
   "source": [
    "# scikit - learn의 기본 움직임은 다 모델화!!!!\n",
    "# ---> 변환에 대한 룰을 학습해서 적용한다!!!!!\n",
    "label_enc = LabelEncoder()\n",
    "\n",
    "# 실제 데이터르 주면서,,룰을 학습을 시킴\n",
    "label_enc.fit(items ) # 단순 룰을 체크.....\n",
    "\n",
    "# 구체적으로 찾은 룰을 기반으로 값을 변경.. transform\n",
    "label_encs = label_enc.transform( items)\n",
    "label_encs"
   ]
  },
  {
   "cell_type": "code",
   "execution_count": 40,
   "id": "e9fc37a8-1130-4c65-a08a-c03ab06b9d64",
   "metadata": {},
   "outputs": [
    {
     "data": {
      "text/plain": [
       "array([0, 1, 2, 0, 1], dtype=int64)"
      ]
     },
     "execution_count": 40,
     "metadata": {},
     "output_type": "execute_result"
    }
   ],
   "source": [
    "# 귀찮아서,,한 번에 룰을 체크 & 변환까지 하자\n",
    "label_enc.fit_transform( items )"
   ]
  },
  {
   "cell_type": "code",
   "execution_count": 41,
   "id": "84f6efed-8cd4-4959-86dc-284b721e788a",
   "metadata": {},
   "outputs": [
    {
     "data": {
      "text/plain": [
       "array(['TV', '냉장고', '세탁기'], dtype='<U3')"
      ]
     },
     "execution_count": 41,
     "metadata": {},
     "output_type": "execute_result"
    }
   ],
   "source": [
    "label_enc.classes_"
   ]
  },
  {
   "cell_type": "code",
   "execution_count": 42,
   "id": "e245307c-4275-4d77-bf94-5da596b9f5d3",
   "metadata": {},
   "outputs": [
    {
     "data": {
      "text/plain": [
       "['TV', '세탁기', '세탁기', '스타일러']"
      ]
     },
     "execution_count": 42,
     "metadata": {},
     "output_type": "execute_result"
    }
   ],
   "source": [
    "#### 현실적인 문제는\n",
    "#### Test데이터 셋에서 갑자기 나타나는 unseen data Problem\n",
    "test_items = [\"TV\",\"세탁기\",\"세탁기\",\"스타일러\"]\n",
    "test_items"
   ]
  },
  {
   "cell_type": "code",
   "execution_count": 43,
   "id": "d6dd5d6f-6933-4b9e-a1ff-0431782c1383",
   "metadata": {},
   "outputs": [
    {
     "ename": "ValueError",
     "evalue": "y contains previously unseen labels: '스타일'",
     "output_type": "error",
     "traceback": [
      "\u001b[1;31m---------------------------------------------------------------------------\u001b[0m",
      "\u001b[1;31mKeyError\u001b[0m                                  Traceback (most recent call last)",
      "File \u001b[1;32m~\\anaconda3\\Lib\\site-packages\\sklearn\\utils\\_encode.py:224\u001b[0m, in \u001b[0;36m_encode\u001b[1;34m(values, uniques, check_unknown)\u001b[0m\n\u001b[0;32m    223\u001b[0m \u001b[38;5;28;01mtry\u001b[39;00m:\n\u001b[1;32m--> 224\u001b[0m     \u001b[38;5;28;01mreturn\u001b[39;00m _map_to_integer(values, uniques)\n\u001b[0;32m    225\u001b[0m \u001b[38;5;28;01mexcept\u001b[39;00m \u001b[38;5;167;01mKeyError\u001b[39;00m \u001b[38;5;28;01mas\u001b[39;00m e:\n",
      "File \u001b[1;32m~\\anaconda3\\Lib\\site-packages\\sklearn\\utils\\_encode.py:164\u001b[0m, in \u001b[0;36m_map_to_integer\u001b[1;34m(values, uniques)\u001b[0m\n\u001b[0;32m    163\u001b[0m table \u001b[38;5;241m=\u001b[39m _nandict({val: i \u001b[38;5;28;01mfor\u001b[39;00m i, val \u001b[38;5;129;01min\u001b[39;00m \u001b[38;5;28menumerate\u001b[39m(uniques)})\n\u001b[1;32m--> 164\u001b[0m \u001b[38;5;28;01mreturn\u001b[39;00m np\u001b[38;5;241m.\u001b[39marray([table[v] \u001b[38;5;28;01mfor\u001b[39;00m v \u001b[38;5;129;01min\u001b[39;00m values])\n",
      "File \u001b[1;32m~\\anaconda3\\Lib\\site-packages\\sklearn\\utils\\_encode.py:164\u001b[0m, in \u001b[0;36m<listcomp>\u001b[1;34m(.0)\u001b[0m\n\u001b[0;32m    163\u001b[0m table \u001b[38;5;241m=\u001b[39m _nandict({val: i \u001b[38;5;28;01mfor\u001b[39;00m i, val \u001b[38;5;129;01min\u001b[39;00m \u001b[38;5;28menumerate\u001b[39m(uniques)})\n\u001b[1;32m--> 164\u001b[0m \u001b[38;5;28;01mreturn\u001b[39;00m np\u001b[38;5;241m.\u001b[39marray([table[v] \u001b[38;5;28;01mfor\u001b[39;00m v \u001b[38;5;129;01min\u001b[39;00m values])\n",
      "File \u001b[1;32m~\\anaconda3\\Lib\\site-packages\\sklearn\\utils\\_encode.py:158\u001b[0m, in \u001b[0;36m_nandict.__missing__\u001b[1;34m(self, key)\u001b[0m\n\u001b[0;32m    157\u001b[0m     \u001b[38;5;28;01mreturn\u001b[39;00m \u001b[38;5;28mself\u001b[39m\u001b[38;5;241m.\u001b[39mnan_value\n\u001b[1;32m--> 158\u001b[0m \u001b[38;5;28;01mraise\u001b[39;00m \u001b[38;5;167;01mKeyError\u001b[39;00m(key)\n",
      "\u001b[1;31mKeyError\u001b[0m: '스타일'",
      "\nDuring handling of the above exception, another exception occurred:\n",
      "\u001b[1;31mValueError\u001b[0m                                Traceback (most recent call last)",
      "Cell \u001b[1;32mIn[43], line 2\u001b[0m\n\u001b[0;32m      1\u001b[0m \u001b[38;5;66;03m# 새로운 거 들어오면 에러남!\u001b[39;00m\n\u001b[1;32m----> 2\u001b[0m label_enc\u001b[38;5;241m.\u001b[39mtransform( test_items)\n",
      "File \u001b[1;32m~\\anaconda3\\Lib\\site-packages\\sklearn\\utils\\_set_output.py:140\u001b[0m, in \u001b[0;36m_wrap_method_output.<locals>.wrapped\u001b[1;34m(self, X, *args, **kwargs)\u001b[0m\n\u001b[0;32m    138\u001b[0m \u001b[38;5;129m@wraps\u001b[39m(f)\n\u001b[0;32m    139\u001b[0m \u001b[38;5;28;01mdef\u001b[39;00m \u001b[38;5;21mwrapped\u001b[39m(\u001b[38;5;28mself\u001b[39m, X, \u001b[38;5;241m*\u001b[39margs, \u001b[38;5;241m*\u001b[39m\u001b[38;5;241m*\u001b[39mkwargs):\n\u001b[1;32m--> 140\u001b[0m     data_to_wrap \u001b[38;5;241m=\u001b[39m f(\u001b[38;5;28mself\u001b[39m, X, \u001b[38;5;241m*\u001b[39margs, \u001b[38;5;241m*\u001b[39m\u001b[38;5;241m*\u001b[39mkwargs)\n\u001b[0;32m    141\u001b[0m     \u001b[38;5;28;01mif\u001b[39;00m \u001b[38;5;28misinstance\u001b[39m(data_to_wrap, \u001b[38;5;28mtuple\u001b[39m):\n\u001b[0;32m    142\u001b[0m         \u001b[38;5;66;03m# only wrap the first output for cross decomposition\u001b[39;00m\n\u001b[0;32m    143\u001b[0m         \u001b[38;5;28;01mreturn\u001b[39;00m (\n\u001b[0;32m    144\u001b[0m             _wrap_data_with_container(method, data_to_wrap[\u001b[38;5;241m0\u001b[39m], X, \u001b[38;5;28mself\u001b[39m),\n\u001b[0;32m    145\u001b[0m             \u001b[38;5;241m*\u001b[39mdata_to_wrap[\u001b[38;5;241m1\u001b[39m:],\n\u001b[0;32m    146\u001b[0m         )\n",
      "File \u001b[1;32m~\\anaconda3\\Lib\\site-packages\\sklearn\\preprocessing\\_label.py:139\u001b[0m, in \u001b[0;36mLabelEncoder.transform\u001b[1;34m(self, y)\u001b[0m\n\u001b[0;32m    136\u001b[0m \u001b[38;5;28;01mif\u001b[39;00m _num_samples(y) \u001b[38;5;241m==\u001b[39m \u001b[38;5;241m0\u001b[39m:\n\u001b[0;32m    137\u001b[0m     \u001b[38;5;28;01mreturn\u001b[39;00m np\u001b[38;5;241m.\u001b[39marray([])\n\u001b[1;32m--> 139\u001b[0m \u001b[38;5;28;01mreturn\u001b[39;00m _encode(y, uniques\u001b[38;5;241m=\u001b[39m\u001b[38;5;28mself\u001b[39m\u001b[38;5;241m.\u001b[39mclasses_)\n",
      "File \u001b[1;32m~\\anaconda3\\Lib\\site-packages\\sklearn\\utils\\_encode.py:226\u001b[0m, in \u001b[0;36m_encode\u001b[1;34m(values, uniques, check_unknown)\u001b[0m\n\u001b[0;32m    224\u001b[0m         \u001b[38;5;28;01mreturn\u001b[39;00m _map_to_integer(values, uniques)\n\u001b[0;32m    225\u001b[0m     \u001b[38;5;28;01mexcept\u001b[39;00m \u001b[38;5;167;01mKeyError\u001b[39;00m \u001b[38;5;28;01mas\u001b[39;00m e:\n\u001b[1;32m--> 226\u001b[0m         \u001b[38;5;28;01mraise\u001b[39;00m \u001b[38;5;167;01mValueError\u001b[39;00m(\u001b[38;5;124mf\u001b[39m\u001b[38;5;124m\"\u001b[39m\u001b[38;5;124my contains previously unseen labels: \u001b[39m\u001b[38;5;132;01m{\u001b[39;00m\u001b[38;5;28mstr\u001b[39m(e)\u001b[38;5;132;01m}\u001b[39;00m\u001b[38;5;124m\"\u001b[39m)\n\u001b[0;32m    227\u001b[0m \u001b[38;5;28;01melse\u001b[39;00m:\n\u001b[0;32m    228\u001b[0m     \u001b[38;5;28;01mif\u001b[39;00m check_unknown:\n",
      "\u001b[1;31mValueError\u001b[0m: y contains previously unseen labels: '스타일'"
     ]
    }
   ],
   "source": [
    "# 새로운 거 들어오면 에러남!\n",
    "label_enc.transform( test_items)"
   ]
  },
  {
   "cell_type": "code",
   "execution_count": 44,
   "id": "1a0b7374-5d15-47e5-b9db-8e5b74c4b7fa",
   "metadata": {},
   "outputs": [
    {
     "data": {
      "text/plain": [
       "array([0, 2, 2, 3])"
      ]
     },
     "execution_count": 44,
     "metadata": {},
     "output_type": "execute_result"
    }
   ],
   "source": [
    "# Step1) 기존 변환 룰을 가지고 와야 함!!!!\n",
    "#         train_data에서 체크된 룰\n",
    "label_enc = LabelEncoder()\n",
    "label_enc.fit(items)\n",
    "prev_classes = list(label_enc.classes_)\n",
    "prev_classes\n",
    "# --> train데이터의 변환은 문제가 없음..\n",
    "\n",
    "# Step2) test : unseen data를 생각하면서,,,코드화!!!\n",
    "#  ==> 새로운 종류가 튀어나오면 어찌할지 예외 처리...\n",
    "for label in np.unique( test_items):\n",
    "    if label not in prev_classes:\n",
    "        # 새로운 듣도 보지 못한 new --> unseen data :새로운 룰 추가\n",
    "        prev_classes.append( label)\n",
    "prev_classes # ==> test에서 새로운 값이 나타나면,,학습과 별개의 값을 부여하도록 코드화..\n",
    "\n",
    "# Step3) 새로운 추가된 룰을 생성\n",
    "label_enc.classes_ = np.array( prev_classes )\n",
    "\n",
    "# Step4) 새로운 추가된 룰에 따라서 변경\n",
    "label_enc.transform( test_items)"
   ]
  },
  {
   "cell_type": "code",
   "execution_count": 45,
   "id": "672ebea2-fd17-40ab-b26f-3554174b077a",
   "metadata": {},
   "outputs": [],
   "source": [
    "# 참고) 원핫인코딩!!! 종류를 옆으로 펼쳐서 0/1로 표현!!!!\n",
    "# ==> scikit-learn은 조금 불편하게 되어 있음!!!!\n",
    "#     + pandas의 get_dummies() 메서드로 사용을 함...\n",
    "# ==> 1단계 : 라벨인코딩 --> 2단계 : 원핫인코딩..,\n",
    "# +++++ 딥러닝의 분류를 문제를 할 때 원핫인코딩으로 해야할 때도 있고,,,\n",
    "#       loss를 다른 것을 써서,,라벨인코딩으로 된 것으로 할 수도 있고,,,\n"
   ]
  },
  {
   "cell_type": "code",
   "execution_count": 46,
   "id": "320dea8f-a15e-44f6-bf0b-702898101c8f",
   "metadata": {},
   "outputs": [],
   "source": [
    "from sklearn.preprocessing import LabelEncoder\n",
    "from sklearn.preprocessing import OneHotEncoder"
   ]
  },
  {
   "cell_type": "code",
   "execution_count": 47,
   "id": "733158ab-b005-4e62-bcde-68be2802bdb7",
   "metadata": {},
   "outputs": [
    {
     "name": "stdout",
     "output_type": "stream",
     "text": [
      "원본데이터: ['TV', '냉장고', '세탁기', 'TV', '냉장고']\n",
      "라벨인코딩: [0 1 2 0 1]\n"
     ]
    },
    {
     "data": {
      "text/plain": [
       "array([[1., 0., 0.],\n",
       "       [0., 1., 0.],\n",
       "       [0., 0., 1.],\n",
       "       [1., 0., 0.],\n",
       "       [0., 1., 0.]])"
      ]
     },
     "execution_count": 47,
     "metadata": {},
     "output_type": "execute_result"
    }
   ],
   "source": [
    "print(\"원본데이터:\", items)\n",
    "label_enc = LabelEncoder()\n",
    "label_enc.fit(items)\n",
    "label_items = label_enc.transform( items)\n",
    "print(\"라벨인코딩:\", label_items)\n",
    "# +++ 원핫인코딩...\n",
    "oh_enc = OneHotEncoder() # 2D로 핸들링을 함...\n",
    "oh_enc_items = label_items.reshape(-1, 1) # 2D의 컬럼벡터화....\n",
    "# --> DL에서 데이터셋들 처리할 때 많이 활용!!!\n",
    "#     DL에서 이 부분을 잘 못 하게 되면,,,내 코드 안 도는 일이 주로..\n",
    "#     모양을 제대로 처리를 안 하면 에러가 발생을 함!!!!\n",
    "oh_enc.fit_transform(oh_enc_items ).toarray()"
   ]
  },
  {
   "cell_type": "code",
   "execution_count": null,
   "id": "6ff49439-6556-47b0-8042-084a05c49c52",
   "metadata": {},
   "outputs": [],
   "source": [
    "# ++++ 누락데이터 & 인코딩 : 필수\n",
    "# opt) 정규화(숫자값을 다른 숫자값으로 변경): 0~1, 평균0 etc\n",
    "# ===> ML에서 사용하는 모델이 대부분 Tree모형...\n",
    "#      Tree 변수값이 중요할 까요??????\n",
    "#      전통적인 회귀 모형들은 좀 영향력이 큰데,,,\n",
    "#      트리 기반의 모형들은 정규화의 영향력이 그렇게까지는...\n",
    "# +++ 시간적인 여유가 있거나, 좀 더 성능을 더 올려야 할 때\n",
    "#     고민을 할 수 있지 않을까 함...\n"
   ]
  },
  {
   "cell_type": "code",
   "execution_count": null,
   "id": "4edf1a4b-ee9c-43e4-a9b3-bc73180d331f",
   "metadata": {},
   "outputs": [],
   "source": [
    "# +++ 전처리에 대한 부분을 함수로 만들어서 처리를 하겠음!!!\n",
    "# step1) 누락 데이터 채우기/ 처리\n",
    "# step2) 불필요한 컬럼은 제거..\n",
    "# step3) 숫자가 아닌 컬럼 --> 숫자화 인코딩\n",
    "# +++ 정규화"
   ]
  }
 ],
 "metadata": {
  "kernelspec": {
   "display_name": "Python 3 (ipykernel)",
   "language": "python",
   "name": "python3"
  },
  "language_info": {
   "codemirror_mode": {
    "name": "ipython",
    "version": 3
   },
   "file_extension": ".py",
   "mimetype": "text/x-python",
   "name": "python",
   "nbconvert_exporter": "python",
   "pygments_lexer": "ipython3",
   "version": "3.11.7"
  }
 },
 "nbformat": 4,
 "nbformat_minor": 5
}
