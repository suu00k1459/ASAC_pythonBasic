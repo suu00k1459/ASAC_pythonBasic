{
 "cells": [
  {
   "cell_type": "code",
   "execution_count": 6,
   "id": "aaa564b1-4214-42ba-ba24-ef59bb4082a4",
   "metadata": {},
   "outputs": [
    {
     "name": "stdout",
     "output_type": "stream",
     "text": [
      "Collecting optuna\n",
      "  Using cached optuna-3.6.1-py3-none-any.whl.metadata (17 kB)\n",
      "Collecting alembic>=1.5.0 (from optuna)\n",
      "  Using cached alembic-1.13.1-py3-none-any.whl.metadata (7.4 kB)\n",
      "Collecting colorlog (from optuna)\n",
      "  Using cached colorlog-6.8.2-py3-none-any.whl.metadata (10 kB)\n",
      "Requirement already satisfied: numpy in c:\\users\\nt551xcj\\anaconda3\\lib\\site-packages (from optuna) (1.26.4)\n",
      "Requirement already satisfied: packaging>=20.0 in c:\\users\\nt551xcj\\anaconda3\\lib\\site-packages (from optuna) (23.1)\n",
      "Requirement already satisfied: sqlalchemy>=1.3.0 in c:\\users\\nt551xcj\\anaconda3\\lib\\site-packages (from optuna) (2.0.25)\n",
      "Requirement already satisfied: tqdm in c:\\users\\nt551xcj\\anaconda3\\lib\\site-packages (from optuna) (4.65.0)\n",
      "Requirement already satisfied: PyYAML in c:\\users\\nt551xcj\\anaconda3\\lib\\site-packages (from optuna) (6.0.1)\n",
      "Collecting Mako (from alembic>=1.5.0->optuna)\n",
      "  Using cached Mako-1.3.3-py3-none-any.whl.metadata (2.9 kB)\n",
      "Requirement already satisfied: typing-extensions>=4 in c:\\users\\nt551xcj\\anaconda3\\lib\\site-packages (from alembic>=1.5.0->optuna) (4.9.0)\n",
      "Requirement already satisfied: greenlet!=0.4.17 in c:\\users\\nt551xcj\\anaconda3\\lib\\site-packages (from sqlalchemy>=1.3.0->optuna) (3.0.1)\n",
      "Requirement already satisfied: colorama in c:\\users\\nt551xcj\\anaconda3\\lib\\site-packages (from colorlog->optuna) (0.4.6)\n",
      "Requirement already satisfied: MarkupSafe>=0.9.2 in c:\\users\\nt551xcj\\anaconda3\\lib\\site-packages (from Mako->alembic>=1.5.0->optuna) (2.1.3)\n",
      "Using cached optuna-3.6.1-py3-none-any.whl (380 kB)\n",
      "Downloading alembic-1.13.1-py3-none-any.whl (233 kB)\n",
      "   ---------------------------------------- 0.0/233.4 kB ? eta -:--:--\n",
      "   - -------------------------------------- 10.2/233.4 kB ? eta -:--:--\n",
      "   ----- --------------------------------- 30.7/233.4 kB 435.7 kB/s eta 0:00:01\n",
      "   ---------- ---------------------------- 61.4/233.4 kB 648.1 kB/s eta 0:00:01\n",
      "   --------------- ----------------------- 92.2/233.4 kB 521.8 kB/s eta 0:00:01\n",
      "   ---------------------------------------- 233.4/233.4 kB 1.1 MB/s eta 0:00:00\n",
      "Downloading colorlog-6.8.2-py3-none-any.whl (11 kB)\n",
      "Downloading Mako-1.3.3-py3-none-any.whl (78 kB)\n",
      "   ---------------------------------------- 0.0/78.8 kB ? eta -:--:--\n",
      "   ---------------------------------------- 78.8/78.8 kB 4.6 MB/s eta 0:00:00\n",
      "Installing collected packages: Mako, colorlog, alembic, optuna\n",
      "Successfully installed Mako-1.3.3 alembic-1.13.1 colorlog-6.8.2 optuna-3.6.1\n"
     ]
    }
   ],
   "source": [
    "# 베이지안 최적화 - > optuna 사용할 거임\n",
    "!pip install optuna"
   ]
  },
  {
   "cell_type": "code",
   "execution_count": 36,
   "id": "a383bb06-69b0-4225-a63d-7dc6d499a6c8",
   "metadata": {},
   "outputs": [
    {
     "name": "stdout",
     "output_type": "stream",
     "text": [
      "Requirement already satisfied: plotly in c:\\users\\nt551xcj\\anaconda3\\lib\\site-packages (5.22.0)\n",
      "Requirement already satisfied: tenacity>=6.2.0 in c:\\users\\nt551xcj\\anaconda3\\lib\\site-packages (from plotly) (8.2.2)\n",
      "Requirement already satisfied: packaging in c:\\users\\nt551xcj\\anaconda3\\lib\\site-packages (from plotly) (23.1)\n",
      "Note: you may need to restart the kernel to use updated packages.\n"
     ]
    }
   ],
   "source": [
    "pip install plotly"
   ]
  },
  {
   "cell_type": "markdown",
   "id": "ec67f191-5441-445b-9703-de2e50fbe1ff",
   "metadata": {},
   "source": [
    "## optuna"
   ]
  },
  {
   "cell_type": "code",
   "execution_count": 39,
   "id": "70d1008d-dc89-4e9c-ba88-cd4e2db192d3",
   "metadata": {},
   "outputs": [],
   "source": [
    "import optuna\n",
    "import plotly.express"
   ]
  },
  {
   "cell_type": "code",
   "execution_count": 9,
   "id": "2c85ccf6-e3c2-41e7-a3f3-1daea9e6ea37",
   "metadata": {},
   "outputs": [
    {
     "name": "stderr",
     "output_type": "stream",
     "text": [
      "[I 2024-05-09 13:44:13,291] A new study created in memory with name: no-name-a0e19661-b81a-42df-9012-e3b04c6e5626\n",
      "[I 2024-05-09 13:44:13,294] Trial 0 finished with value: 1.7795218910296025 and parameters: {'x': 0.6660127845329242}. Best is trial 0 with value: 1.7795218910296025.\n",
      "[I 2024-05-09 13:44:13,296] Trial 1 finished with value: 31.970582507234017 and parameters: {'x': 7.654253488059588}. Best is trial 0 with value: 1.7795218910296025.\n",
      "[I 2024-05-09 13:44:13,297] Trial 2 finished with value: 2.3455695430991637 and parameters: {'x': 3.5315252342351933}. Best is trial 0 with value: 1.7795218910296025.\n",
      "[I 2024-05-09 13:44:13,299] Trial 3 finished with value: 116.91295912735156 and parameters: {'x': -8.81262961204866}. Best is trial 0 with value: 1.7795218910296025.\n",
      "[I 2024-05-09 13:44:13,300] Trial 4 finished with value: 84.29229183280862 and parameters: {'x': -7.181083369233101}. Best is trial 0 with value: 1.7795218910296025.\n",
      "[I 2024-05-09 13:44:13,302] Trial 5 finished with value: 52.7956086333241 and parameters: {'x': 9.266058672576495}. Best is trial 0 with value: 1.7795218910296025.\n",
      "[I 2024-05-09 13:44:13,304] Trial 6 finished with value: 12.425332893853001 and parameters: {'x': 5.524958566260461}. Best is trial 0 with value: 1.7795218910296025.\n",
      "[I 2024-05-09 13:44:13,305] Trial 7 finished with value: 115.15453301752406 and parameters: {'x': -8.731008014978093}. Best is trial 0 with value: 1.7795218910296025.\n",
      "[I 2024-05-09 13:44:13,306] Trial 8 finished with value: 67.0778117285512 and parameters: {'x': -6.190104500465865}. Best is trial 0 with value: 1.7795218910296025.\n",
      "[I 2024-05-09 13:44:13,308] Trial 9 finished with value: 31.909763150033726 and parameters: {'x': 7.648872732681603}. Best is trial 0 with value: 1.7795218910296025.\n",
      "[I 2024-05-09 13:44:13,319] Trial 10 finished with value: 13.097845687174212 and parameters: {'x': -1.6190945949469477}. Best is trial 0 with value: 1.7795218910296025.\n",
      "[I 2024-05-09 13:44:13,328] Trial 11 finished with value: 0.044136386577949924 and parameters: {'x': 2.2100866168463615}. Best is trial 11 with value: 0.044136386577949924.\n",
      "[I 2024-05-09 13:44:13,336] Trial 12 finished with value: 3.331023919238817 and parameters: {'x': 0.1748907103302506}. Best is trial 11 with value: 0.044136386577949924.\n",
      "[I 2024-05-09 13:44:13,351] Trial 13 finished with value: 3.4263598817208547 and parameters: {'x': 0.14895708269071872}. Best is trial 11 with value: 0.044136386577949924.\n",
      "[I 2024-05-09 13:44:13,363] Trial 14 finished with value: 21.96005716443046 and parameters: {'x': -2.6861559048361228}. Best is trial 11 with value: 0.044136386577949924.\n",
      "[I 2024-05-09 13:44:13,389] Trial 15 finished with value: 1.6245398842739147 and parameters: {'x': 3.2745743933854605}. Best is trial 11 with value: 0.044136386577949924.\n",
      "[I 2024-05-09 13:44:13,403] Trial 16 finished with value: 1.2018235432103064 and parameters: {'x': 3.0962771288366397}. Best is trial 11 with value: 0.044136386577949924.\n",
      "[I 2024-05-09 13:44:13,414] Trial 17 finished with value: 1.4019897854696848 and parameters: {'x': 3.184056495894383}. Best is trial 11 with value: 0.044136386577949924.\n",
      "[I 2024-05-09 13:44:13,439] Trial 18 finished with value: 33.77089063369996 and parameters: {'x': -3.8112727206439008}. Best is trial 11 with value: 0.044136386577949924.\n",
      "[I 2024-05-09 13:44:13,451] Trial 19 finished with value: 11.442058290151936 and parameters: {'x': 5.3826111644928885}. Best is trial 11 with value: 0.044136386577949924.\n",
      "[I 2024-05-09 13:44:13,462] Trial 20 finished with value: 0.06260162478451421 and parameters: {'x': 2.250203167015356}. Best is trial 11 with value: 0.044136386577949924.\n",
      "[I 2024-05-09 13:44:13,472] Trial 21 finished with value: 0.07035669742672149 and parameters: {'x': 2.2652483693196275}. Best is trial 11 with value: 0.044136386577949924.\n",
      "[I 2024-05-09 13:44:13,480] Trial 22 finished with value: 0.2171888319833234 and parameters: {'x': 1.5339647738814979}. Best is trial 11 with value: 0.044136386577949924.\n",
      "[I 2024-05-09 13:44:13,487] Trial 23 finished with value: 13.089568439164491 and parameters: {'x': -1.6179508619057406}. Best is trial 11 with value: 0.044136386577949924.\n",
      "[I 2024-05-09 13:44:13,494] Trial 24 finished with value: 10.65523111309902 and parameters: {'x': 5.26423514978609}. Best is trial 11 with value: 0.044136386577949924.\n",
      "[I 2024-05-09 13:44:13,501] Trial 25 finished with value: 0.07986030348476872 and parameters: {'x': 1.7174043463094864}. Best is trial 11 with value: 0.044136386577949924.\n",
      "[I 2024-05-09 13:44:13,509] Trial 26 finished with value: 40.582364262652646 and parameters: {'x': -4.370428891578074}. Best is trial 11 with value: 0.044136386577949924.\n",
      "[I 2024-05-09 13:44:13,516] Trial 27 finished with value: 8.156684370594384 and parameters: {'x': -0.8559909612242094}. Best is trial 11 with value: 0.044136386577949924.\n",
      "[I 2024-05-09 13:44:13,523] Trial 28 finished with value: 0.2123036042845704 and parameters: {'x': 1.5392358474397445}. Best is trial 11 with value: 0.044136386577949924.\n",
      "[I 2024-05-09 13:44:13,530] Trial 29 finished with value: 22.74296715260765 and parameters: {'x': 6.768958707370787}. Best is trial 11 with value: 0.044136386577949924.\n",
      "[I 2024-05-09 13:44:13,537] Trial 30 finished with value: 6.017701048223112 and parameters: {'x': 4.4531002931439865}. Best is trial 11 with value: 0.044136386577949924.\n",
      "[I 2024-05-09 13:44:13,545] Trial 31 finished with value: 0.5999412259520446 and parameters: {'x': 1.2254412701724648}. Best is trial 11 with value: 0.044136386577949924.\n",
      "[I 2024-05-09 13:44:13,561] Trial 32 finished with value: 0.03347584165613239 and parameters: {'x': 2.182964044708605}. Best is trial 32 with value: 0.03347584165613239.\n",
      "[I 2024-05-09 13:44:13,581] Trial 33 finished with value: 0.174461177958741 and parameters: {'x': 2.41768550125512}. Best is trial 32 with value: 0.03347584165613239.\n",
      "[I 2024-05-09 13:44:13,597] Trial 34 finished with value: 4.885095481196635 and parameters: {'x': 4.2102252105151265}. Best is trial 32 with value: 0.03347584165613239.\n",
      "[I 2024-05-09 13:44:13,609] Trial 35 finished with value: 6.792435151239617 and parameters: {'x': -0.6062300649097763}. Best is trial 32 with value: 0.03347584165613239.\n",
      "[I 2024-05-09 13:44:13,619] Trial 36 finished with value: 18.82387396500082 and parameters: {'x': 6.338648863989897}. Best is trial 32 with value: 0.03347584165613239.\n",
      "[I 2024-05-09 13:44:13,627] Trial 37 finished with value: 0.3732723589933281 and parameters: {'x': 2.610960194278914}. Best is trial 32 with value: 0.03347584165613239.\n",
      "[I 2024-05-09 13:44:13,647] Trial 38 finished with value: 0.8056192416916943 and parameters: {'x': 1.1024370541896829}. Best is trial 32 with value: 0.03347584165613239.\n",
      "[I 2024-05-09 13:44:13,664] Trial 39 finished with value: 56.94936088090723 and parameters: {'x': 9.546480032499074}. Best is trial 32 with value: 0.03347584165613239.\n",
      "[I 2024-05-09 13:44:13,683] Trial 40 finished with value: 6.15954815546182 and parameters: {'x': 4.481843700852618}. Best is trial 32 with value: 0.03347584165613239.\n",
      "[I 2024-05-09 13:44:13,696] Trial 41 finished with value: 0.08811697908718522 and parameters: {'x': 2.296845042214259}. Best is trial 32 with value: 0.03347584165613239.\n",
      "[I 2024-05-09 13:44:13,710] Trial 42 finished with value: 1.7546346625279567 and parameters: {'x': 0.6753737649706779}. Best is trial 32 with value: 0.03347584165613239.\n",
      "[I 2024-05-09 13:44:13,741] Trial 43 finished with value: 0.01696058616129605 and parameters: {'x': 1.8697671847755104}. Best is trial 43 with value: 0.01696058616129605.\n",
      "[I 2024-05-09 13:44:13,750] Trial 44 finished with value: 4.215306467407197 and parameters: {'x': 4.053121152637417}. Best is trial 43 with value: 0.01696058616129605.\n",
      "[I 2024-05-09 13:44:13,758] Trial 45 finished with value: 5.949670807132814 and parameters: {'x': -0.4391947046377447}. Best is trial 43 with value: 0.01696058616129605.\n",
      "[I 2024-05-09 13:44:13,766] Trial 46 finished with value: 14.053602569212215 and parameters: {'x': -1.7488134881869244}. Best is trial 43 with value: 0.01696058616129605.\n",
      "[I 2024-05-09 13:44:13,773] Trial 47 finished with value: 2.6477226126106697 and parameters: {'x': 0.37281758471563187}. Best is trial 43 with value: 0.01696058616129605.\n",
      "[I 2024-05-09 13:44:13,781] Trial 48 finished with value: 0.21047342577932437 and parameters: {'x': 2.458773828568418}. Best is trial 43 with value: 0.01696058616129605.\n",
      "[I 2024-05-09 13:44:13,788] Trial 49 finished with value: 2.5296947776118928 and parameters: {'x': 3.5905014233291}. Best is trial 43 with value: 0.01696058616129605.\n",
      "[I 2024-05-09 13:44:13,795] Trial 50 finished with value: 133.38053143457617 and parameters: {'x': -9.549048940695341}. Best is trial 43 with value: 0.01696058616129605.\n",
      "[I 2024-05-09 13:44:13,803] Trial 51 finished with value: 0.0020657764789650717 and parameters: {'x': 1.9545491861572857}. Best is trial 51 with value: 0.0020657764789650717.\n",
      "[I 2024-05-09 13:44:13,810] Trial 52 finished with value: 0.01819869319878946 and parameters: {'x': 1.8650974677821448}. Best is trial 51 with value: 0.0020657764789650717.\n",
      "[I 2024-05-09 13:44:13,818] Trial 53 finished with value: 1.9167651696912291 and parameters: {'x': 0.6155271148587889}. Best is trial 51 with value: 0.0020657764789650717.\n",
      "[I 2024-05-09 13:44:13,826] Trial 54 finished with value: 1.3861828837455112 and parameters: {'x': 3.1773626814815863}. Best is trial 51 with value: 0.0020657764789650717.\n",
      "[I 2024-05-09 13:44:13,834] Trial 55 finished with value: 0.009683613954817828 and parameters: {'x': 1.901594644684256}. Best is trial 51 with value: 0.0020657764789650717.\n",
      "[I 2024-05-09 13:44:13,842] Trial 56 finished with value: 10.046560941199798 and parameters: {'x': -1.1696310418090934}. Best is trial 51 with value: 0.0020657764789650717.\n",
      "[I 2024-05-09 13:44:13,852] Trial 57 finished with value: 8.760393529301293 and parameters: {'x': 4.959796197257726}. Best is trial 51 with value: 0.0020657764789650717.\n",
      "[I 2024-05-09 13:44:13,860] Trial 58 finished with value: 20.16207809976517 and parameters: {'x': -2.4902202729671488}. Best is trial 51 with value: 0.0020657764789650717.\n",
      "[I 2024-05-09 13:44:13,867] Trial 59 finished with value: 5.230030032345794 and parameters: {'x': -0.2869258913103838}. Best is trial 51 with value: 0.0020657764789650717.\n",
      "[I 2024-05-09 13:44:13,873] Trial 60 finished with value: 19.02759599248389 and parameters: {'x': 6.362063272407209}. Best is trial 51 with value: 0.0020657764789650717.\n",
      "[I 2024-05-09 13:44:13,881] Trial 61 finished with value: 0.06296810257397638 and parameters: {'x': 1.7490655412782525}. Best is trial 51 with value: 0.0020657764789650717.\n",
      "[I 2024-05-09 13:44:13,888] Trial 62 finished with value: 2.433995126405303 and parameters: {'x': 3.560126637938505}. Best is trial 51 with value: 0.0020657764789650717.\n",
      "[I 2024-05-09 13:44:13,896] Trial 63 finished with value: 0.059309758849284355 and parameters: {'x': 1.7564640501911795}. Best is trial 51 with value: 0.0020657764789650717.\n",
      "[I 2024-05-09 13:44:13,903] Trial 64 finished with value: 1.03567747047777 and parameters: {'x': 0.9823175984238648}. Best is trial 51 with value: 0.0020657764789650717.\n",
      "[I 2024-05-09 13:44:13,910] Trial 65 finished with value: 0.002076398956400204 and parameters: {'x': 1.9544324791501644}. Best is trial 51 with value: 0.0020657764789650717.\n",
      "[I 2024-05-09 13:44:13,917] Trial 66 finished with value: 44.93794494859152 and parameters: {'x': 8.703577026378643}. Best is trial 51 with value: 0.0020657764789650717.\n",
      "[I 2024-05-09 13:44:13,925] Trial 67 finished with value: 3.764879281881983 and parameters: {'x': 0.05967031618799812}. Best is trial 51 with value: 0.0020657764789650717.\n",
      "[I 2024-05-09 13:44:13,932] Trial 68 finished with value: 3.074714897094128 and parameters: {'x': 3.7534864975511297}. Best is trial 51 with value: 0.0020657764789650717.\n",
      "[I 2024-05-09 13:44:13,938] Trial 69 finished with value: 0.44352130252981947 and parameters: {'x': 2.6659739503387647}. Best is trial 51 with value: 0.0020657764789650717.\n",
      "[I 2024-05-09 13:44:13,949] Trial 70 finished with value: 1.076790039438793 and parameters: {'x': 3.037684942281998}. Best is trial 51 with value: 0.0020657764789650717.\n",
      "[I 2024-05-09 13:44:13,959] Trial 71 finished with value: 0.024295104007218432 and parameters: {'x': 1.8441311320140599}. Best is trial 51 with value: 0.0020657764789650717.\n",
      "[I 2024-05-09 13:44:13,966] Trial 72 finished with value: 0.012014784965062732 and parameters: {'x': 1.8903880254485728}. Best is trial 51 with value: 0.0020657764789650717.\n",
      "[I 2024-05-09 13:44:13,979] Trial 73 finished with value: 0.151571577895608 and parameters: {'x': 1.6106780536681653}. Best is trial 51 with value: 0.0020657764789650717.\n",
      "[I 2024-05-09 13:44:13,994] Trial 74 finished with value: 0.9763988823913965 and parameters: {'x': 1.01187101935456}. Best is trial 51 with value: 0.0020657764789650717.\n",
      "[I 2024-05-09 13:44:14,006] Trial 75 finished with value: 0.004664899422612242 and parameters: {'x': 1.931699931020443}. Best is trial 51 with value: 0.0020657764789650717.\n",
      "[I 2024-05-09 13:44:14,019] Trial 76 finished with value: 4.000025775550632 and parameters: {'x': -6.443877277106935e-06}. Best is trial 51 with value: 0.0020657764789650717.\n",
      "[I 2024-05-09 13:44:14,044] Trial 77 finished with value: 0.0003813498732778843 and parameters: {'x': 2.0195281815148745}. Best is trial 77 with value: 0.0003813498732778843.\n",
      "[I 2024-05-09 13:44:14,055] Trial 78 finished with value: 86.51728209774562 and parameters: {'x': -7.301466663798006}. Best is trial 77 with value: 0.0003813498732778843.\n",
      "[I 2024-05-09 13:44:14,066] Trial 79 finished with value: 0.5645725105342961 and parameters: {'x': 2.7513804033472633}. Best is trial 77 with value: 0.0003813498732778843.\n",
      "[I 2024-05-09 13:44:14,073] Trial 80 finished with value: 0.5432001427690065 and parameters: {'x': 1.2629788722370257}. Best is trial 77 with value: 0.0003813498732778843.\n",
      "[I 2024-05-09 13:44:14,082] Trial 81 finished with value: 0.018187417496419965 and parameters: {'x': 1.8651392662914072}. Best is trial 77 with value: 0.0003813498732778843.\n",
      "[I 2024-05-09 13:44:14,089] Trial 82 finished with value: 1.8712102140691367 and parameters: {'x': 0.6320781403643201}. Best is trial 77 with value: 0.0003813498732778843.\n",
      "[I 2024-05-09 13:44:14,096] Trial 83 finished with value: 0.00010714386495345233 and parameters: {'x': 2.0103510320718976}. Best is trial 83 with value: 0.00010714386495345233.\n",
      "[I 2024-05-09 13:44:14,104] Trial 84 finished with value: 0.7771759924992505 and parameters: {'x': 2.8815758574843406}. Best is trial 83 with value: 0.00010714386495345233.\n",
      "[I 2024-05-09 13:44:14,115] Trial 85 finished with value: 0.02316956318882712 and parameters: {'x': 2.152215515598204}. Best is trial 83 with value: 0.00010714386495345233.\n",
      "[I 2024-05-09 13:44:14,123] Trial 86 finished with value: 4.340700603982297 and parameters: {'x': 4.083434809151056}. Best is trial 83 with value: 0.00010714386495345233.\n",
      "[I 2024-05-09 13:44:14,130] Trial 87 finished with value: 0.6076647301407402 and parameters: {'x': 1.2204714693221677}. Best is trial 83 with value: 0.00010714386495345233.\n",
      "[I 2024-05-09 13:44:14,137] Trial 88 finished with value: 7.617263125414383 and parameters: {'x': 4.759938971320631}. Best is trial 83 with value: 0.00010714386495345233.\n",
      "[I 2024-05-09 13:44:14,144] Trial 89 finished with value: 1.8069035694043984 and parameters: {'x': 3.344211132748274}. Best is trial 83 with value: 0.00010714386495345233.\n",
      "[I 2024-05-09 13:44:14,151] Trial 90 finished with value: 0.008144512365212646 and parameters: {'x': 2.090246952110377}. Best is trial 83 with value: 0.00010714386495345233.\n",
      "[I 2024-05-09 13:44:14,158] Trial 91 finished with value: 2.2380944667920826 and parameters: {'x': 0.5039737746977553}. Best is trial 83 with value: 0.00010714386495345233.\n",
      "[I 2024-05-09 13:44:14,165] Trial 92 finished with value: 0.03280055429555624 and parameters: {'x': 2.1811092330488875}. Best is trial 83 with value: 0.00010714386495345233.\n",
      "[I 2024-05-09 13:44:14,172] Trial 93 finished with value: 0.8479123214540285 and parameters: {'x': 2.9208215470187633}. Best is trial 83 with value: 0.00010714386495345233.\n",
      "[I 2024-05-09 13:44:14,182] Trial 94 finished with value: 0.4886519250314713 and parameters: {'x': 1.300963573887976}. Best is trial 83 with value: 0.00010714386495345233.\n",
      "[I 2024-05-09 13:44:14,194] Trial 95 finished with value: 1.2350674939339246 and parameters: {'x': 0.8886640949137274}. Best is trial 83 with value: 0.00010714386495345233.\n",
      "[I 2024-05-09 13:44:14,206] Trial 96 finished with value: 3.3824760394335285 and parameters: {'x': 3.8391509017569843}. Best is trial 83 with value: 0.00010714386495345233.\n",
      "[I 2024-05-09 13:44:14,220] Trial 97 finished with value: 0.024777406843756688 and parameters: {'x': 2.157408407792458}. Best is trial 83 with value: 0.00010714386495345233.\n",
      "[I 2024-05-09 13:44:14,232] Trial 98 finished with value: 7.413189826074075 and parameters: {'x': -0.7227173606663757}. Best is trial 83 with value: 0.00010714386495345233.\n",
      "[I 2024-05-09 13:44:14,240] Trial 99 finished with value: 4.764063269852221 and parameters: {'x': -0.18267342262928143}. Best is trial 83 with value: 0.00010714386495345233.\n"
     ]
    },
    {
     "data": {
      "text/plain": [
       "{'x': 2.0103510320718976}"
      ]
     },
     "execution_count": 9,
     "metadata": {},
     "output_type": "execute_result"
    }
   ],
   "source": [
    "def objective(trail) :\n",
    "    x = trail.suggest_float(\"x\",-10,10)\n",
    "    return (x-2)**2\n",
    "\n",
    "\n",
    "# 어떻게 학습할지에 대해 세팅\n",
    "study = optuna.create_study()\n",
    "study.optimize(objective, n_trials = 100)\n",
    "study.best_params"
   ]
  },
  {
   "cell_type": "markdown",
   "id": "163912a9-7d18-47e7-b157-acc1fef099f8",
   "metadata": {},
   "source": [
    "참고) optuna에서 시도할 파라미터들에 대한 세팅  \n",
    "==> titanic 데이터를 불러서 & 모델은 RF  \n",
    "ref) https://optuna.readthedocs.io/en/stable/reference/generated/optuna.trial.Trial.html#optuna.trial.Trial  \n",
    "\n",
    "1) n_estimators : 정수값 : suggest_int(이름, 최소,최대값,,,)  \n",
    "\"n_estimators\" : suggest_int(\"n_estimators\", 10, 10000)  \n",
    "\n",
    "2) criterion : \"gini\", \"entropy\", \"log_loss\"  \n",
    "-> 종류 중 하나로 선택 :suggest_categorical  \n",
    "\"criterion\" : suggest_categorical(\"criterion\", [\"gini\", \"entropy\", \"log_loss\"])  \n",
    "\n",
    "3) 수치범위인데 범위 내에서 균일분포. 로그 -> 비율에 대한 것을 지정할 때    \n",
    "4) suggest_uniform, suggest_loguniform etc  \n",
    "\"min_samples_split\" : suggest_uniform(\"min_samples_split\", 0.2, 0.8)  "
   ]
  },
  {
   "cell_type": "markdown",
   "id": "abdecf38-8e1b-4e41-a147-0ba4b0be9966",
   "metadata": {},
   "source": [
    "## data 불러오기"
   ]
  },
  {
   "cell_type": "code",
   "execution_count": 11,
   "id": "540cf02d-2a40-44a2-bc7d-71d86dfadfe7",
   "metadata": {},
   "outputs": [],
   "source": [
    "import pandas as pd\n",
    "import numpy as np\n",
    "\n",
    "# encoding\n",
    "from sklearn.preprocessing import LabelEncoder\n",
    "from sklearn.preprocessing import OneHotEncoder\n",
    "\n",
    "# divid data\n",
    "from sklearn.model_selection import train_test_split\n",
    "\n",
    "# validation 4개 중 선택\n",
    "from sklearn.model_selection import KFold\n",
    "from sklearn.model_selection import StratifiedKFold #-- 비율 유지 k-fold\n",
    "from sklearn.model_selection import RepeatedKFold #-- 복원추출 k-fold\n",
    "from sklearn.model_selection import RepeatedStratifiedKFold #-- 복원추출 비율 유지 k-fold\n",
    "\n",
    "# 평가\n",
    "from sklearn.model_selection import cross_val_score\n",
    "from sklearn.metrics import accuracy_score\n",
    "\n",
    "# 파라미터\n",
    "from sklearn.model_selection import GridSearchCV  #--> 직접 다 체크\n",
    "from sklearn.model_selection import RandomizedSearchCV #--> 랜덤하게 서치\n",
    "\n",
    "# ML\n",
    "from sklearn.neighbors import KNeighborsClassifier\n",
    "from sklearn.ensemble import RandomForestClassifier"
   ]
  },
  {
   "cell_type": "code",
   "execution_count": 12,
   "id": "07de55e2-bc58-4b62-a3d2-7fed3a970367",
   "metadata": {},
   "outputs": [],
   "source": [
    "data = pd.read_csv(\"train.csv\")"
   ]
  },
  {
   "cell_type": "code",
   "execution_count": 13,
   "id": "af8b1758-1e5a-48ca-a430-cc63f57488a2",
   "metadata": {},
   "outputs": [],
   "source": [
    "# 결측치 처리\n",
    "def check_fillna(df):\n",
    "    df.loc[:, \"Age\"].fillna(df.loc[:,\"Age\"].mean(), inplace=True)\n",
    "    df.loc[:, \"Cabin\"].fillna(\"N\", inplace = True)\n",
    "    df.loc[:, \"Embarked\"].fillna(\"N\", inplace = True)\n",
    "    df.loc[:, \"Fare\"].fillna(0, inplace = True) #--> 결측치 대체 값은 변수유형도 확인할 것.\n",
    "\n",
    "    return df\n",
    "\n",
    "\n",
    "# 불필요한 컬럼 제거\n",
    "def drop_feature(df):\n",
    "    df.drop([\"PassengerId\",\"Name\",\"Ticket\"], axis=1, inplace = True)\n",
    "\n",
    "    return df\n",
    "\n",
    "\n",
    "# 인코딩 : 범주형은 숫자로 바꿔줘야함. (라벨인코딩: 1,2,3... / 원핫 인코딩 : 남,여 = 0,1 / 더미변수 : 남 = 0, 여 = 1)\n",
    "def encode_fetures(df):\n",
    "    # Cabin의 앞자리 1개만 가져올 거임. ex) C85 => \"C\"\n",
    "    df.loc[:, \"Cabin\"] = df.loc[:, \"Cabin\"].apply(lambda x: str(x)[:1]) \n",
    "\n",
    "    #라벨 인코딩 \n",
    "    cols = [\"Cabin\", \"Sex\", \"Embarked\"]\n",
    "\n",
    "    for col in cols:\n",
    "        le = LabelEncoder()\n",
    "        le.fit(df.loc[:, col])\n",
    "\n",
    "        df.isetitem( df.columns.get_loc(col), le.transform(df.loc[:, col]) ) #****\n",
    "\n",
    "    return df\n",
    "\n",
    "# 한 번에 표현\n",
    "def titanic_preprocessing(df):\n",
    "    df = check_fillna(df)\n",
    "    df = drop_feature(df)\n",
    "    df = encode_fetures(df)\n",
    "\n",
    "    return df"
   ]
  },
  {
   "cell_type": "code",
   "execution_count": 14,
   "id": "aa7125bc-31ef-4314-82dd-a95d1217fa5c",
   "metadata": {},
   "outputs": [],
   "source": [
    "data = titanic_preprocessing(data)\n",
    "\n",
    "\n",
    "y_titanic = data.loc[:,\"Survived\"]\n",
    "X_titanic = data.drop(\"Survived\", axis = 1)\n",
    "\n",
    "\n",
    "X_train, X_val, y_train, y_val = train_test_split(\n",
    "    X_titanic,\n",
    "    y_titanic,\n",
    "    test_size = 0.2, #test 비율이 20%\n",
    "    random_state = 1234, #꼭 1234 아니고 고정시키면 됨\n",
    "    stratify = y_titanic\n",
    ")"
   ]
  },
  {
   "cell_type": "code",
   "execution_count": 15,
   "id": "34eb4f5b-264f-4d95-bd73-d2c60b30e787",
   "metadata": {},
   "outputs": [],
   "source": [
    "kfold = KFold( n_splits = 5, random_state=1234, shuffle=True)"
   ]
  },
  {
   "cell_type": "markdown",
   "id": "af6dc67c-b9f3-43f7-bcf6-44f3d89533eb",
   "metadata": {},
   "source": [
    "## 랜덤포레스트"
   ]
  },
  {
   "cell_type": "code",
   "execution_count": 23,
   "id": "52e20e2d-dfbe-4642-99a1-ea28473db8b7",
   "metadata": {},
   "outputs": [
    {
     "data": {
      "text/plain": [
       "array([0.81118881, 0.84615385, 0.78873239, 0.76056338, 0.83098592])"
      ]
     },
     "execution_count": 23,
     "metadata": {},
     "output_type": "execute_result"
    }
   ],
   "source": [
    "rf = RandomForestClassifier(n_jobs=-1, random_state=1234 )\n",
    "scores = cross_val_score( rf,\n",
    "                         X_train, y_train,\n",
    "                          cv = kfold, scoring=\"accuracy\")\n",
    "scores"
   ]
  },
  {
   "cell_type": "code",
   "execution_count": 24,
   "id": "5226c517-ad89-4c81-93c4-b5b429990e49",
   "metadata": {},
   "outputs": [],
   "source": [
    "# 이 다음에 최적의 RF을 찾기 위해서\n",
    "# 오전에는 RGS방법을 통해서 범위를 좁힘\n",
    "\n",
    "# 문제는 내가 선택하지 않은 값에서는 확인 불가능함!!!\n",
    "# ==> optuna를 활용해서 최적의 파라미터를 찾아보자!!!\n",
    "\n",
    "# 장점 : 했던 시행들이 종속적으로 서로 활용을 하면서 탐색!!\n",
    "#        + 내가 전혀 생각하지 않은 값들에 대해서도 체크될 가능성.\n",
    "# 단점 : 어느 시행의 횟수가 좀 확보가 되어야 함!!!"
   ]
  },
  {
   "cell_type": "code",
   "execution_count": 25,
   "id": "fcfc9233-2c61-4d7d-bb10-f743937b30e7",
   "metadata": {},
   "outputs": [],
   "source": [
    "# optuna : 스스로 직접 목적함수를 세팅!!!!!!\n",
    "#          ==> 정답은 없는데,,,본인 목적에 맞는 함수를 직접\n",
    "#              만들 수 있어야 함...\n",
    "def rf_objective( trail ) :\n",
    "    # 1) Test를 할 파라미터들에 대한 가변적인 범위를 설정!!!\n",
    "    paramas = {\n",
    "        \"n_estimators\" : trail.suggest_int(\"n_estimators\", 10,10000),\n",
    "        \"criterion\" : trail.suggest_categorical(\"criterion\", [\"gini\",\"entropy\",\"log_loss\"]),\n",
    "        \"max_features\":trail.suggest_int(\"max_features\", 1, X_train.shape[1]),\n",
    "        \"max_depth\":trail.suggest_int(\"max_depth\", 1, 50),\n",
    "        \"min_samples_split\":trail.suggest_int(\"min_samples_split\", 3,10)\n",
    "    }\n",
    "    # 2) 1번에 세팅한 파라미터들 받을 함수!!!!\n",
    "    # ==> 직접 넘겨야 함!!!!!\n",
    "    rf = RandomForestClassifier(n_jobs=-1, random_state=1234, **paramas )\n",
    "    \n",
    "    # 3-1) 그냥 통으로 학습한다면,,\n",
    "    #rf.fit(X_train, y_train)\n",
    "    # 3-2) CV를 한 결과를 바탕으로 하겠다.....\n",
    "    scores = cross_val_score( rf,\n",
    "                         X_train, y_train,\n",
    "                        cv = kfold, scoring=\"accuracy\")\n",
    "    # --> cv=5에 대한 accuracy의 값이 존재!!!!\n",
    "    \n",
    "    # 저는 5번 시도 중에서 대표를 평균으로 하겠다..\n",
    "    acc_mean = scores.mean()\n",
    "    # 4) OPT를 할 값을 지정을 하게 됨!!!!!\n",
    "    return acc_mean"
   ]
  },
  {
   "cell_type": "code",
   "execution_count": 26,
   "id": "8c62db61-34cc-4367-a2bb-cfdca5d31d43",
   "metadata": {},
   "outputs": [
    {
     "name": "stderr",
     "output_type": "stream",
     "text": [
      "[I 2024-05-09 14:34:51,174] A new study created in memory with name: no-name-2fb3dbb8-4889-4b1b-b3d0-fedf6e4c7752\n",
      "[I 2024-05-09 14:35:41,210] Trial 0 finished with value: 0.8089530188121739 and parameters: {'n_estimators': 382, 'criterion': 'gini', 'max_features': 1, 'max_depth': 45, 'min_samples_split': 9}. Best is trial 0 with value: 0.8089530188121739.\n",
      "[I 2024-05-09 14:36:35,435] Trial 8 finished with value: 0.8271742342164877 and parameters: {'n_estimators': 644, 'criterion': 'log_loss', 'max_features': 5, 'max_depth': 26, 'min_samples_split': 9}. Best is trial 8 with value: 0.8271742342164877.\n",
      "[I 2024-05-09 14:37:07,742] Trial 7 finished with value: 0.8215798286220821 and parameters: {'n_estimators': 2053, 'criterion': 'entropy', 'max_features': 3, 'max_depth': 3, 'min_samples_split': 10}. Best is trial 8 with value: 0.8271742342164877.\n",
      "[I 2024-05-09 14:38:53,729] Trial 9 finished with value: 0.8187924751305033 and parameters: {'n_estimators': 1918, 'criterion': 'gini', 'max_features': 2, 'max_depth': 15, 'min_samples_split': 8}. Best is trial 8 with value: 0.8271742342164877.\n",
      "[I 2024-05-09 14:39:19,866] Trial 3 finished with value: 0.8229685807150597 and parameters: {'n_estimators': 3793, 'criterion': 'log_loss', 'max_features': 4, 'max_depth': 39, 'min_samples_split': 9}. Best is trial 8 with value: 0.8271742342164877.\n",
      "[I 2024-05-09 14:39:48,141] Trial 6 finished with value: 0.8089234708953018 and parameters: {'n_estimators': 5349, 'criterion': 'gini', 'max_features': 3, 'max_depth': 38, 'min_samples_split': 6}. Best is trial 8 with value: 0.8271742342164877.\n",
      "[I 2024-05-09 14:41:22,132] Trial 4 finished with value: 0.8271742342164877 and parameters: {'n_estimators': 8143, 'criterion': 'entropy', 'max_features': 5, 'max_depth': 9, 'min_samples_split': 3}. Best is trial 8 with value: 0.8271742342164877.\n",
      "[I 2024-05-09 14:41:30,836] Trial 1 finished with value: 0.8173150792869104 and parameters: {'n_estimators': 6605, 'criterion': 'gini', 'max_features': 8, 'max_depth': 41, 'min_samples_split': 10}. Best is trial 8 with value: 0.8271742342164877.\n",
      "[I 2024-05-09 14:42:07,516] Trial 5 finished with value: 0.8201516793066087 and parameters: {'n_estimators': 8742, 'criterion': 'gini', 'max_features': 4, 'max_depth': 34, 'min_samples_split': 7}. Best is trial 8 with value: 0.8271742342164877.\n",
      "[I 2024-05-09 14:42:32,945] Trial 11 finished with value: 0.8271742342164877 and parameters: {'n_estimators': 3323, 'criterion': 'log_loss', 'max_features': 5, 'max_depth': 31, 'min_samples_split': 10}. Best is trial 8 with value: 0.8271742342164877.\n",
      "[I 2024-05-09 14:43:33,477] Trial 2 finished with value: 0.817374175120654 and parameters: {'n_estimators': 9798, 'criterion': 'entropy', 'max_features': 6, 'max_depth': 3, 'min_samples_split': 7}. Best is trial 8 with value: 0.8271742342164877.\n",
      "[I 2024-05-09 14:43:36,228] Trial 10 finished with value: 0.8243770314192851 and parameters: {'n_estimators': 7612, 'criterion': 'entropy', 'max_features': 4, 'max_depth': 33, 'min_samples_split': 10}. Best is trial 8 with value: 0.8271742342164877.\n",
      "[I 2024-05-09 14:44:26,150] Trial 13 finished with value: 0.824386880724909 and parameters: {'n_estimators': 5561, 'criterion': 'gini', 'max_features': 5, 'max_depth': 41, 'min_samples_split': 7}. Best is trial 8 with value: 0.8271742342164877.\n",
      "[I 2024-05-09 14:46:20,477] Trial 15 finished with value: 0.8145572737122032 and parameters: {'n_estimators': 4443, 'criterion': 'entropy', 'max_features': 7, 'max_depth': 18, 'min_samples_split': 5}. Best is trial 8 with value: 0.8271742342164877.\n",
      "[I 2024-05-09 14:46:51,198] Trial 21 finished with value: 0.8075150201910766 and parameters: {'n_estimators': 146, 'criterion': 'log_loss', 'max_features': 6, 'max_depth': 21, 'min_samples_split': 3}. Best is trial 8 with value: 0.8271742342164877.\n",
      "[I 2024-05-09 14:46:59,183] Trial 12 finished with value: 0.824347483502413 and parameters: {'n_estimators': 8791, 'criterion': 'gini', 'max_features': 6, 'max_depth': 18, 'min_samples_split': 9}. Best is trial 8 with value: 0.8271742342164877.\n",
      "[I 2024-05-09 14:47:40,190] Trial 14 finished with value: 0.8117305229981285 and parameters: {'n_estimators': 5662, 'criterion': 'log_loss', 'max_features': 3, 'max_depth': 22, 'min_samples_split': 6}. Best is trial 8 with value: 0.8271742342164877.\n",
      "[I 2024-05-09 14:49:45,818] Trial 16 finished with value: 0.8075051708854526 and parameters: {'n_estimators': 8318, 'criterion': 'log_loss', 'max_features': 1, 'max_depth': 45, 'min_samples_split': 4}. Best is trial 8 with value: 0.8271742342164877.\n",
      "[I 2024-05-09 14:50:51,117] Trial 19 finished with value: 0.8061656653205949 and parameters: {'n_estimators': 6407, 'criterion': 'log_loss', 'max_features': 7, 'max_depth': 20, 'min_samples_split': 3}. Best is trial 8 with value: 0.8271742342164877.\n",
      "[I 2024-05-09 14:51:41,857] Trial 18 finished with value: 0.8117600709150006 and parameters: {'n_estimators': 7034, 'criterion': 'entropy', 'max_features': 6, 'max_depth': 19, 'min_samples_split': 3}. Best is trial 8 with value: 0.8271742342164877.\n",
      "[I 2024-05-09 14:53:35,319] Trial 20 finished with value: 0.8061656653205949 and parameters: {'n_estimators': 7508, 'criterion': 'log_loss', 'max_features': 7, 'max_depth': 20, 'min_samples_split': 3}. Best is trial 8 with value: 0.8271742342164877.\n",
      "[I 2024-05-09 14:53:45,773] Trial 26 finished with value: 0.8201418300009848 and parameters: {'n_estimators': 2163, 'criterion': 'entropy', 'max_features': 5, 'max_depth': 12, 'min_samples_split': 5}. Best is trial 8 with value: 0.8271742342164877.\n",
      "[I 2024-05-09 14:53:48,342] Trial 23 finished with value: 0.8215798286220821 and parameters: {'n_estimators': 6436, 'criterion': 'log_loss', 'max_features': 8, 'max_depth': 10, 'min_samples_split': 3}. Best is trial 8 with value: 0.8271742342164877.\n",
      "[I 2024-05-09 14:53:59,849] Trial 17 finished with value: 0.8117600709150006 and parameters: {'n_estimators': 9675, 'criterion': 'entropy', 'max_features': 7, 'max_depth': 13, 'min_samples_split': 3}. Best is trial 8 with value: 0.8271742342164877.\n",
      "[I 2024-05-09 14:54:09,505] Trial 27 finished with value: 0.8187333792967595 and parameters: {'n_estimators': 1992, 'criterion': 'entropy', 'max_features': 5, 'max_depth': 11, 'min_samples_split': 5}. Best is trial 8 with value: 0.8271742342164877.\n",
      "[I 2024-05-09 14:54:32,853] Trial 22 finished with value: 0.8243770314192849 and parameters: {'n_estimators': 7266, 'criterion': 'log_loss', 'max_features': 6, 'max_depth': 11, 'min_samples_split': 3}. Best is trial 8 with value: 0.8271742342164877.\n",
      "[I 2024-05-09 14:55:46,945] Trial 24 finished with value: 0.8215798286220821 and parameters: {'n_estimators': 7127, 'criterion': 'log_loss', 'max_features': 8, 'max_depth': 10, 'min_samples_split': 3}. Best is trial 8 with value: 0.8271742342164877.\n",
      "[I 2024-05-09 14:56:33,721] Trial 28 finished with value: 0.8257756328178865 and parameters: {'n_estimators': 2824, 'criterion': 'log_loss', 'max_features': 5, 'max_depth': 28, 'min_samples_split': 8}. Best is trial 8 with value: 0.8271742342164877.\n",
      "[I 2024-05-09 14:57:22,780] Trial 25 finished with value: 0.8271643849108639 and parameters: {'n_estimators': 6878, 'criterion': 'entropy', 'max_features': 8, 'max_depth': 7, 'min_samples_split': 4}. Best is trial 8 with value: 0.8271742342164877.\n",
      "[I 2024-05-09 14:57:27,409] Trial 30 finished with value: 0.8229587314094357 and parameters: {'n_estimators': 3587, 'criterion': 'log_loss', 'max_features': 5, 'max_depth': 30, 'min_samples_split': 8}. Best is trial 8 with value: 0.8271742342164877.\n",
      "[I 2024-05-09 14:57:37,861] Trial 29 finished with value: 0.8229685807150595 and parameters: {'n_estimators': 3437, 'criterion': 'log_loss', 'max_features': 5, 'max_depth': 28, 'min_samples_split': 8}. Best is trial 8 with value: 0.8271742342164877.\n",
      "[I 2024-05-09 14:57:49,118] Trial 35 finished with value: 0.8229784300206836 and parameters: {'n_estimators': 964, 'criterion': 'log_loss', 'max_features': 4, 'max_depth': 26, 'min_samples_split': 8}. Best is trial 8 with value: 0.8271742342164877.\n",
      "[I 2024-05-09 14:58:05,881] Trial 33 finished with value: 0.8257756328178862 and parameters: {'n_estimators': 3273, 'criterion': 'log_loss', 'max_features': 5, 'max_depth': 28, 'min_samples_split': 8}. Best is trial 8 with value: 0.8271742342164877.\n",
      "[I 2024-05-09 14:58:07,264] Trial 32 finished with value: 0.8257756328178862 and parameters: {'n_estimators': 3252, 'criterion': 'log_loss', 'max_features': 5, 'max_depth': 27, 'min_samples_split': 8}. Best is trial 8 with value: 0.8271742342164877.\n",
      "[I 2024-05-09 14:58:20,698] Trial 37 finished with value: 0.8257559342066385 and parameters: {'n_estimators': 526, 'criterion': 'log_loss', 'max_features': 4, 'max_depth': 26, 'min_samples_split': 9}. Best is trial 8 with value: 0.8271742342164877.\n",
      "[I 2024-05-09 14:58:33,786] Trial 34 finished with value: 0.8229587314094357 and parameters: {'n_estimators': 3318, 'criterion': 'log_loss', 'max_features': 5, 'max_depth': 29, 'min_samples_split': 8}. Best is trial 8 with value: 0.8271742342164877.\n",
      "[I 2024-05-09 14:58:40,273] Trial 31 finished with value: 0.8257756328178862 and parameters: {'n_estimators': 3260, 'criterion': 'log_loss', 'max_features': 5, 'max_depth': 28, 'min_samples_split': 8}. Best is trial 8 with value: 0.8271742342164877.\n",
      "[I 2024-05-09 14:58:46,837] Trial 40 finished with value: 0.8159263271939329 and parameters: {'n_estimators': 797, 'criterion': 'entropy', 'max_features': 2, 'max_depth': 7, 'min_samples_split': 4}. Best is trial 8 with value: 0.8271742342164877.\n",
      "[I 2024-05-09 14:58:50,070] Trial 36 finished with value: 0.8229784300206836 and parameters: {'n_estimators': 1084, 'criterion': 'log_loss', 'max_features': 4, 'max_depth': 26, 'min_samples_split': 8}. Best is trial 8 with value: 0.8271742342164877.\n",
      "[I 2024-05-09 14:58:54,338] Trial 38 finished with value: 0.824386880724909 and parameters: {'n_estimators': 924, 'criterion': 'entropy', 'max_features': 4, 'max_depth': 6, 'min_samples_split': 4}. Best is trial 8 with value: 0.8271742342164877.\n",
      "[I 2024-05-09 14:59:03,480] Trial 39 finished with value: 0.8173446272037822 and parameters: {'n_estimators': 924, 'criterion': 'entropy', 'max_features': 2, 'max_depth': 6, 'min_samples_split': 4}. Best is trial 8 with value: 0.8271742342164877.\n",
      "[I 2024-05-09 14:59:12,960] Trial 41 finished with value: 0.7415345218162119 and parameters: {'n_estimators': 951, 'criterion': 'entropy', 'max_features': 2, 'max_depth': 1, 'min_samples_split': 4}. Best is trial 8 with value: 0.8271742342164877.\n",
      "[I 2024-05-09 15:01:50,487] Trial 43 finished with value: 0.828582684920713 and parameters: {'n_estimators': 4560, 'criterion': 'entropy', 'max_features': 6, 'max_depth': 6, 'min_samples_split': 4}. Best is trial 43 with value: 0.828582684920713.\n",
      "[I 2024-05-09 15:02:19,917] Trial 47 finished with value: 0.7836698512754852 and parameters: {'n_estimators': 4356, 'criterion': 'entropy', 'max_features': 3, 'max_depth': 1, 'min_samples_split': 10}. Best is trial 43 with value: 0.828582684920713.\n",
      "[I 2024-05-09 15:02:34,059] Trial 44 finished with value: 0.7850783019797103 and parameters: {'n_estimators': 4397, 'criterion': 'entropy', 'max_features': 6, 'max_depth': 1, 'min_samples_split': 4}. Best is trial 43 with value: 0.828582684920713.\n",
      "[I 2024-05-09 15:02:36,823] Trial 42 finished with value: 0.8187432286023835 and parameters: {'n_estimators': 4750, 'criterion': 'entropy', 'max_features': 2, 'max_depth': 6, 'min_samples_split': 4}. Best is trial 43 with value: 0.828582684920713.\n",
      "[I 2024-05-09 15:02:41,246] Trial 45 finished with value: 0.7850783019797103 and parameters: {'n_estimators': 4608, 'criterion': 'entropy', 'max_features': 8, 'max_depth': 1, 'min_samples_split': 10}. Best is trial 43 with value: 0.828582684920713.\n",
      "[I 2024-05-09 15:02:41,762] Trial 46 finished with value: 0.7850783019797103 and parameters: {'n_estimators': 4708, 'criterion': 'entropy', 'max_features': 6, 'max_depth': 1, 'min_samples_split': 10}. Best is trial 43 with value: 0.828582684920713.\n",
      "[I 2024-05-09 15:02:48,757] Trial 49 finished with value: 0.8257559342066385 and parameters: {'n_estimators': 4295, 'criterion': 'gini', 'max_features': 6, 'max_depth': 34, 'min_samples_split': 10}. Best is trial 43 with value: 0.828582684920713.\n",
      "[I 2024-05-09 15:02:49,602] Trial 48 finished with value: 0.8243573328080369 and parameters: {'n_estimators': 4454, 'criterion': 'entropy', 'max_features': 6, 'max_depth': 35, 'min_samples_split': 10}. Best is trial 43 with value: 0.828582684920713.\n"
     ]
    }
   ],
   "source": [
    "# 위의 목적함수는 RF로 가려는 지향점을 설계!!!!!\n",
    "# Next Step) 이 목적함수를 어떻게 학습할지 세팅!!!!!\n",
    "# 예) 목적함수를 에러를 타켓: 학습의 방향을 min\n",
    "# 예) 목적합수를 정확도 타켓 : 학습ㅇ의 방향을 max\n",
    "rf_study = optuna.create_study(direction = \"maximize\")\n",
    "\n",
    "# 공부의 방향성 : 내가 만든 목적함수의 target\n",
    "# 실제\n",
    "rf_study.optimize(rf_objective, n_trials = 50, n_jobs =-1)\n",
    "\n",
    "# 참고) 위의 방식으로 하면 재현성이 없음. 중요하다고 생각하면 TPEsampler\n",
    "# from optuna.samplers import TPESampler\n",
    "# rf_study = optuna.create_study(direction = \"maximize\", sampler = TPESampler())"
   ]
  },
  {
   "cell_type": "code",
   "execution_count": 27,
   "id": "af4a0cd3-99e4-42d2-910e-e56b991f6cf6",
   "metadata": {},
   "outputs": [
    {
     "data": {
      "text/plain": [
       "[0.828582684920713]"
      ]
     },
     "execution_count": 27,
     "metadata": {},
     "output_type": "execute_result"
    }
   ],
   "source": [
    "# 참고 : 50번은 좀 적게 한 부분이 있고,,\n",
    "# ==> 설정한 파라미터들의 범위를 고려해서...\n",
    "\n",
    "# 50번 시도 중에서 제일 cv평균이 높은 결과값\n",
    "rf_study.best_trial.values"
   ]
  },
  {
   "cell_type": "code",
   "execution_count": 28,
   "id": "37801963-1f34-4205-b5bf-67a68abdebe9",
   "metadata": {},
   "outputs": [
    {
     "data": {
      "text/plain": [
       "{'n_estimators': 4560,\n",
       " 'criterion': 'entropy',\n",
       " 'max_features': 6,\n",
       " 'max_depth': 6,\n",
       " 'min_samples_split': 4}"
      ]
     },
     "execution_count": 28,
     "metadata": {},
     "output_type": "execute_result"
    }
   ],
   "source": [
    "# 50번 시도 중에서 제일 좋았던 파라미터의 조합?\n",
    "rf_study.best_params"
   ]
  },
  {
   "cell_type": "code",
   "execution_count": 30,
   "id": "e3ee9624-16a4-4d98-9cd7-4c2c72d07e7f",
   "metadata": {},
   "outputs": [],
   "source": [
    "# 단점은 할 때마다 다른 결과가 나옴!!!!!!"
   ]
  },
  {
   "cell_type": "code",
   "execution_count": 40,
   "id": "853ac585-5c16-4d92-9f0a-186f3ac5c0ce",
   "metadata": {},
   "outputs": [
    {
     "data": {
      "application/vnd.plotly.v1+json": {
       "config": {
        "plotlyServerURL": "https://plot.ly"
       },
       "data": [
        {
         "mode": "markers",
         "name": "Objective Value",
         "type": "scatter",
         "x": [
          0,
          1,
          2,
          3,
          4,
          5,
          6,
          7,
          8,
          9,
          10,
          11,
          12,
          13,
          14,
          15,
          16,
          17,
          18,
          19,
          20,
          21,
          22,
          23,
          24,
          25,
          26,
          27,
          28,
          29,
          30,
          31,
          32,
          33,
          34,
          35,
          36,
          37,
          38,
          39,
          40,
          41,
          42,
          43,
          44,
          45,
          46,
          47,
          48,
          49
         ],
         "y": [
          0.8089530188121739,
          0.8173150792869104,
          0.817374175120654,
          0.8229685807150597,
          0.8271742342164877,
          0.8201516793066087,
          0.8089234708953018,
          0.8215798286220821,
          0.8271742342164877,
          0.8187924751305033,
          0.8243770314192851,
          0.8271742342164877,
          0.824347483502413,
          0.824386880724909,
          0.8117305229981285,
          0.8145572737122032,
          0.8075051708854526,
          0.8117600709150006,
          0.8117600709150006,
          0.8061656653205949,
          0.8061656653205949,
          0.8075150201910766,
          0.8243770314192849,
          0.8215798286220821,
          0.8215798286220821,
          0.8271643849108639,
          0.8201418300009848,
          0.8187333792967595,
          0.8257756328178865,
          0.8229685807150595,
          0.8229587314094357,
          0.8257756328178862,
          0.8257756328178862,
          0.8257756328178862,
          0.8229587314094357,
          0.8229784300206836,
          0.8229784300206836,
          0.8257559342066385,
          0.824386880724909,
          0.8173446272037822,
          0.8159263271939329,
          0.7415345218162119,
          0.8187432286023835,
          0.828582684920713,
          0.7850783019797103,
          0.7850783019797103,
          0.7850783019797103,
          0.7836698512754852,
          0.8243573328080369,
          0.8257559342066385
         ]
        },
        {
         "mode": "lines",
         "name": "Best Value",
         "type": "scatter",
         "x": [
          0,
          1,
          2,
          3,
          4,
          5,
          6,
          7,
          8,
          9,
          10,
          11,
          12,
          13,
          14,
          15,
          16,
          17,
          18,
          19,
          20,
          21,
          22,
          23,
          24,
          25,
          26,
          27,
          28,
          29,
          30,
          31,
          32,
          33,
          34,
          35,
          36,
          37,
          38,
          39,
          40,
          41,
          42,
          43,
          44,
          45,
          46,
          47,
          48,
          49
         ],
         "y": [
          0.8089530188121739,
          0.8173150792869104,
          0.817374175120654,
          0.8229685807150597,
          0.8271742342164877,
          0.8271742342164877,
          0.8271742342164877,
          0.8271742342164877,
          0.8271742342164877,
          0.8271742342164877,
          0.8271742342164877,
          0.8271742342164877,
          0.8271742342164877,
          0.8271742342164877,
          0.8271742342164877,
          0.8271742342164877,
          0.8271742342164877,
          0.8271742342164877,
          0.8271742342164877,
          0.8271742342164877,
          0.8271742342164877,
          0.8271742342164877,
          0.8271742342164877,
          0.8271742342164877,
          0.8271742342164877,
          0.8271742342164877,
          0.8271742342164877,
          0.8271742342164877,
          0.8271742342164877,
          0.8271742342164877,
          0.8271742342164877,
          0.8271742342164877,
          0.8271742342164877,
          0.8271742342164877,
          0.8271742342164877,
          0.8271742342164877,
          0.8271742342164877,
          0.8271742342164877,
          0.8271742342164877,
          0.8271742342164877,
          0.8271742342164877,
          0.8271742342164877,
          0.8271742342164877,
          0.828582684920713,
          0.828582684920713,
          0.828582684920713,
          0.828582684920713,
          0.828582684920713,
          0.828582684920713,
          0.828582684920713
         ]
        },
        {
         "marker": {
          "color": "#cccccc"
         },
         "mode": "markers",
         "name": "Infeasible Trial",
         "showlegend": false,
         "type": "scatter",
         "x": [],
         "y": []
        }
       ],
       "layout": {
        "template": {
         "data": {
          "bar": [
           {
            "error_x": {
             "color": "#2a3f5f"
            },
            "error_y": {
             "color": "#2a3f5f"
            },
            "marker": {
             "line": {
              "color": "#E5ECF6",
              "width": 0.5
             },
             "pattern": {
              "fillmode": "overlay",
              "size": 10,
              "solidity": 0.2
             }
            },
            "type": "bar"
           }
          ],
          "barpolar": [
           {
            "marker": {
             "line": {
              "color": "#E5ECF6",
              "width": 0.5
             },
             "pattern": {
              "fillmode": "overlay",
              "size": 10,
              "solidity": 0.2
             }
            },
            "type": "barpolar"
           }
          ],
          "carpet": [
           {
            "aaxis": {
             "endlinecolor": "#2a3f5f",
             "gridcolor": "white",
             "linecolor": "white",
             "minorgridcolor": "white",
             "startlinecolor": "#2a3f5f"
            },
            "baxis": {
             "endlinecolor": "#2a3f5f",
             "gridcolor": "white",
             "linecolor": "white",
             "minorgridcolor": "white",
             "startlinecolor": "#2a3f5f"
            },
            "type": "carpet"
           }
          ],
          "choropleth": [
           {
            "colorbar": {
             "outlinewidth": 0,
             "ticks": ""
            },
            "type": "choropleth"
           }
          ],
          "contour": [
           {
            "colorbar": {
             "outlinewidth": 0,
             "ticks": ""
            },
            "colorscale": [
             [
              0,
              "#0d0887"
             ],
             [
              0.1111111111111111,
              "#46039f"
             ],
             [
              0.2222222222222222,
              "#7201a8"
             ],
             [
              0.3333333333333333,
              "#9c179e"
             ],
             [
              0.4444444444444444,
              "#bd3786"
             ],
             [
              0.5555555555555556,
              "#d8576b"
             ],
             [
              0.6666666666666666,
              "#ed7953"
             ],
             [
              0.7777777777777778,
              "#fb9f3a"
             ],
             [
              0.8888888888888888,
              "#fdca26"
             ],
             [
              1,
              "#f0f921"
             ]
            ],
            "type": "contour"
           }
          ],
          "contourcarpet": [
           {
            "colorbar": {
             "outlinewidth": 0,
             "ticks": ""
            },
            "type": "contourcarpet"
           }
          ],
          "heatmap": [
           {
            "colorbar": {
             "outlinewidth": 0,
             "ticks": ""
            },
            "colorscale": [
             [
              0,
              "#0d0887"
             ],
             [
              0.1111111111111111,
              "#46039f"
             ],
             [
              0.2222222222222222,
              "#7201a8"
             ],
             [
              0.3333333333333333,
              "#9c179e"
             ],
             [
              0.4444444444444444,
              "#bd3786"
             ],
             [
              0.5555555555555556,
              "#d8576b"
             ],
             [
              0.6666666666666666,
              "#ed7953"
             ],
             [
              0.7777777777777778,
              "#fb9f3a"
             ],
             [
              0.8888888888888888,
              "#fdca26"
             ],
             [
              1,
              "#f0f921"
             ]
            ],
            "type": "heatmap"
           }
          ],
          "heatmapgl": [
           {
            "colorbar": {
             "outlinewidth": 0,
             "ticks": ""
            },
            "colorscale": [
             [
              0,
              "#0d0887"
             ],
             [
              0.1111111111111111,
              "#46039f"
             ],
             [
              0.2222222222222222,
              "#7201a8"
             ],
             [
              0.3333333333333333,
              "#9c179e"
             ],
             [
              0.4444444444444444,
              "#bd3786"
             ],
             [
              0.5555555555555556,
              "#d8576b"
             ],
             [
              0.6666666666666666,
              "#ed7953"
             ],
             [
              0.7777777777777778,
              "#fb9f3a"
             ],
             [
              0.8888888888888888,
              "#fdca26"
             ],
             [
              1,
              "#f0f921"
             ]
            ],
            "type": "heatmapgl"
           }
          ],
          "histogram": [
           {
            "marker": {
             "pattern": {
              "fillmode": "overlay",
              "size": 10,
              "solidity": 0.2
             }
            },
            "type": "histogram"
           }
          ],
          "histogram2d": [
           {
            "colorbar": {
             "outlinewidth": 0,
             "ticks": ""
            },
            "colorscale": [
             [
              0,
              "#0d0887"
             ],
             [
              0.1111111111111111,
              "#46039f"
             ],
             [
              0.2222222222222222,
              "#7201a8"
             ],
             [
              0.3333333333333333,
              "#9c179e"
             ],
             [
              0.4444444444444444,
              "#bd3786"
             ],
             [
              0.5555555555555556,
              "#d8576b"
             ],
             [
              0.6666666666666666,
              "#ed7953"
             ],
             [
              0.7777777777777778,
              "#fb9f3a"
             ],
             [
              0.8888888888888888,
              "#fdca26"
             ],
             [
              1,
              "#f0f921"
             ]
            ],
            "type": "histogram2d"
           }
          ],
          "histogram2dcontour": [
           {
            "colorbar": {
             "outlinewidth": 0,
             "ticks": ""
            },
            "colorscale": [
             [
              0,
              "#0d0887"
             ],
             [
              0.1111111111111111,
              "#46039f"
             ],
             [
              0.2222222222222222,
              "#7201a8"
             ],
             [
              0.3333333333333333,
              "#9c179e"
             ],
             [
              0.4444444444444444,
              "#bd3786"
             ],
             [
              0.5555555555555556,
              "#d8576b"
             ],
             [
              0.6666666666666666,
              "#ed7953"
             ],
             [
              0.7777777777777778,
              "#fb9f3a"
             ],
             [
              0.8888888888888888,
              "#fdca26"
             ],
             [
              1,
              "#f0f921"
             ]
            ],
            "type": "histogram2dcontour"
           }
          ],
          "mesh3d": [
           {
            "colorbar": {
             "outlinewidth": 0,
             "ticks": ""
            },
            "type": "mesh3d"
           }
          ],
          "parcoords": [
           {
            "line": {
             "colorbar": {
              "outlinewidth": 0,
              "ticks": ""
             }
            },
            "type": "parcoords"
           }
          ],
          "pie": [
           {
            "automargin": true,
            "type": "pie"
           }
          ],
          "scatter": [
           {
            "fillpattern": {
             "fillmode": "overlay",
             "size": 10,
             "solidity": 0.2
            },
            "type": "scatter"
           }
          ],
          "scatter3d": [
           {
            "line": {
             "colorbar": {
              "outlinewidth": 0,
              "ticks": ""
             }
            },
            "marker": {
             "colorbar": {
              "outlinewidth": 0,
              "ticks": ""
             }
            },
            "type": "scatter3d"
           }
          ],
          "scattercarpet": [
           {
            "marker": {
             "colorbar": {
              "outlinewidth": 0,
              "ticks": ""
             }
            },
            "type": "scattercarpet"
           }
          ],
          "scattergeo": [
           {
            "marker": {
             "colorbar": {
              "outlinewidth": 0,
              "ticks": ""
             }
            },
            "type": "scattergeo"
           }
          ],
          "scattergl": [
           {
            "marker": {
             "colorbar": {
              "outlinewidth": 0,
              "ticks": ""
             }
            },
            "type": "scattergl"
           }
          ],
          "scattermapbox": [
           {
            "marker": {
             "colorbar": {
              "outlinewidth": 0,
              "ticks": ""
             }
            },
            "type": "scattermapbox"
           }
          ],
          "scatterpolar": [
           {
            "marker": {
             "colorbar": {
              "outlinewidth": 0,
              "ticks": ""
             }
            },
            "type": "scatterpolar"
           }
          ],
          "scatterpolargl": [
           {
            "marker": {
             "colorbar": {
              "outlinewidth": 0,
              "ticks": ""
             }
            },
            "type": "scatterpolargl"
           }
          ],
          "scatterternary": [
           {
            "marker": {
             "colorbar": {
              "outlinewidth": 0,
              "ticks": ""
             }
            },
            "type": "scatterternary"
           }
          ],
          "surface": [
           {
            "colorbar": {
             "outlinewidth": 0,
             "ticks": ""
            },
            "colorscale": [
             [
              0,
              "#0d0887"
             ],
             [
              0.1111111111111111,
              "#46039f"
             ],
             [
              0.2222222222222222,
              "#7201a8"
             ],
             [
              0.3333333333333333,
              "#9c179e"
             ],
             [
              0.4444444444444444,
              "#bd3786"
             ],
             [
              0.5555555555555556,
              "#d8576b"
             ],
             [
              0.6666666666666666,
              "#ed7953"
             ],
             [
              0.7777777777777778,
              "#fb9f3a"
             ],
             [
              0.8888888888888888,
              "#fdca26"
             ],
             [
              1,
              "#f0f921"
             ]
            ],
            "type": "surface"
           }
          ],
          "table": [
           {
            "cells": {
             "fill": {
              "color": "#EBF0F8"
             },
             "line": {
              "color": "white"
             }
            },
            "header": {
             "fill": {
              "color": "#C8D4E3"
             },
             "line": {
              "color": "white"
             }
            },
            "type": "table"
           }
          ]
         },
         "layout": {
          "annotationdefaults": {
           "arrowcolor": "#2a3f5f",
           "arrowhead": 0,
           "arrowwidth": 1
          },
          "autotypenumbers": "strict",
          "coloraxis": {
           "colorbar": {
            "outlinewidth": 0,
            "ticks": ""
           }
          },
          "colorscale": {
           "diverging": [
            [
             0,
             "#8e0152"
            ],
            [
             0.1,
             "#c51b7d"
            ],
            [
             0.2,
             "#de77ae"
            ],
            [
             0.3,
             "#f1b6da"
            ],
            [
             0.4,
             "#fde0ef"
            ],
            [
             0.5,
             "#f7f7f7"
            ],
            [
             0.6,
             "#e6f5d0"
            ],
            [
             0.7,
             "#b8e186"
            ],
            [
             0.8,
             "#7fbc41"
            ],
            [
             0.9,
             "#4d9221"
            ],
            [
             1,
             "#276419"
            ]
           ],
           "sequential": [
            [
             0,
             "#0d0887"
            ],
            [
             0.1111111111111111,
             "#46039f"
            ],
            [
             0.2222222222222222,
             "#7201a8"
            ],
            [
             0.3333333333333333,
             "#9c179e"
            ],
            [
             0.4444444444444444,
             "#bd3786"
            ],
            [
             0.5555555555555556,
             "#d8576b"
            ],
            [
             0.6666666666666666,
             "#ed7953"
            ],
            [
             0.7777777777777778,
             "#fb9f3a"
            ],
            [
             0.8888888888888888,
             "#fdca26"
            ],
            [
             1,
             "#f0f921"
            ]
           ],
           "sequentialminus": [
            [
             0,
             "#0d0887"
            ],
            [
             0.1111111111111111,
             "#46039f"
            ],
            [
             0.2222222222222222,
             "#7201a8"
            ],
            [
             0.3333333333333333,
             "#9c179e"
            ],
            [
             0.4444444444444444,
             "#bd3786"
            ],
            [
             0.5555555555555556,
             "#d8576b"
            ],
            [
             0.6666666666666666,
             "#ed7953"
            ],
            [
             0.7777777777777778,
             "#fb9f3a"
            ],
            [
             0.8888888888888888,
             "#fdca26"
            ],
            [
             1,
             "#f0f921"
            ]
           ]
          },
          "colorway": [
           "#636efa",
           "#EF553B",
           "#00cc96",
           "#ab63fa",
           "#FFA15A",
           "#19d3f3",
           "#FF6692",
           "#B6E880",
           "#FF97FF",
           "#FECB52"
          ],
          "font": {
           "color": "#2a3f5f"
          },
          "geo": {
           "bgcolor": "white",
           "lakecolor": "white",
           "landcolor": "#E5ECF6",
           "showlakes": true,
           "showland": true,
           "subunitcolor": "white"
          },
          "hoverlabel": {
           "align": "left"
          },
          "hovermode": "closest",
          "mapbox": {
           "style": "light"
          },
          "paper_bgcolor": "white",
          "plot_bgcolor": "#E5ECF6",
          "polar": {
           "angularaxis": {
            "gridcolor": "white",
            "linecolor": "white",
            "ticks": ""
           },
           "bgcolor": "#E5ECF6",
           "radialaxis": {
            "gridcolor": "white",
            "linecolor": "white",
            "ticks": ""
           }
          },
          "scene": {
           "xaxis": {
            "backgroundcolor": "#E5ECF6",
            "gridcolor": "white",
            "gridwidth": 2,
            "linecolor": "white",
            "showbackground": true,
            "ticks": "",
            "zerolinecolor": "white"
           },
           "yaxis": {
            "backgroundcolor": "#E5ECF6",
            "gridcolor": "white",
            "gridwidth": 2,
            "linecolor": "white",
            "showbackground": true,
            "ticks": "",
            "zerolinecolor": "white"
           },
           "zaxis": {
            "backgroundcolor": "#E5ECF6",
            "gridcolor": "white",
            "gridwidth": 2,
            "linecolor": "white",
            "showbackground": true,
            "ticks": "",
            "zerolinecolor": "white"
           }
          },
          "shapedefaults": {
           "line": {
            "color": "#2a3f5f"
           }
          },
          "ternary": {
           "aaxis": {
            "gridcolor": "white",
            "linecolor": "white",
            "ticks": ""
           },
           "baxis": {
            "gridcolor": "white",
            "linecolor": "white",
            "ticks": ""
           },
           "bgcolor": "#E5ECF6",
           "caxis": {
            "gridcolor": "white",
            "linecolor": "white",
            "ticks": ""
           }
          },
          "title": {
           "x": 0.05
          },
          "xaxis": {
           "automargin": true,
           "gridcolor": "white",
           "linecolor": "white",
           "ticks": "",
           "title": {
            "standoff": 15
           },
           "zerolinecolor": "white",
           "zerolinewidth": 2
          },
          "yaxis": {
           "automargin": true,
           "gridcolor": "white",
           "linecolor": "white",
           "ticks": "",
           "title": {
            "standoff": 15
           },
           "zerolinecolor": "white",
           "zerolinewidth": 2
          }
         }
        },
        "title": {
         "text": "Optimization History Plot"
        },
        "xaxis": {
         "title": {
          "text": "Trial"
         }
        },
        "yaxis": {
         "title": {
          "text": "Objective Value"
         }
        }
       }
      },
      "text/html": [
       "<div>                            <div id=\"9d3497f3-1075-4cda-812d-75d179292616\" class=\"plotly-graph-div\" style=\"height:525px; width:100%;\"></div>            <script type=\"text/javascript\">                require([\"plotly\"], function(Plotly) {                    window.PLOTLYENV=window.PLOTLYENV || {};                                    if (document.getElementById(\"9d3497f3-1075-4cda-812d-75d179292616\")) {                    Plotly.newPlot(                        \"9d3497f3-1075-4cda-812d-75d179292616\",                        [{\"mode\":\"markers\",\"name\":\"Objective Value\",\"x\":[0,1,2,3,4,5,6,7,8,9,10,11,12,13,14,15,16,17,18,19,20,21,22,23,24,25,26,27,28,29,30,31,32,33,34,35,36,37,38,39,40,41,42,43,44,45,46,47,48,49],\"y\":[0.8089530188121739,0.8173150792869104,0.817374175120654,0.8229685807150597,0.8271742342164877,0.8201516793066087,0.8089234708953018,0.8215798286220821,0.8271742342164877,0.8187924751305033,0.8243770314192851,0.8271742342164877,0.824347483502413,0.824386880724909,0.8117305229981285,0.8145572737122032,0.8075051708854526,0.8117600709150006,0.8117600709150006,0.8061656653205949,0.8061656653205949,0.8075150201910766,0.8243770314192849,0.8215798286220821,0.8215798286220821,0.8271643849108639,0.8201418300009848,0.8187333792967595,0.8257756328178865,0.8229685807150595,0.8229587314094357,0.8257756328178862,0.8257756328178862,0.8257756328178862,0.8229587314094357,0.8229784300206836,0.8229784300206836,0.8257559342066385,0.824386880724909,0.8173446272037822,0.8159263271939329,0.7415345218162119,0.8187432286023835,0.828582684920713,0.7850783019797103,0.7850783019797103,0.7850783019797103,0.7836698512754852,0.8243573328080369,0.8257559342066385],\"type\":\"scatter\"},{\"mode\":\"lines\",\"name\":\"Best Value\",\"x\":[0,1,2,3,4,5,6,7,8,9,10,11,12,13,14,15,16,17,18,19,20,21,22,23,24,25,26,27,28,29,30,31,32,33,34,35,36,37,38,39,40,41,42,43,44,45,46,47,48,49],\"y\":[0.8089530188121739,0.8173150792869104,0.817374175120654,0.8229685807150597,0.8271742342164877,0.8271742342164877,0.8271742342164877,0.8271742342164877,0.8271742342164877,0.8271742342164877,0.8271742342164877,0.8271742342164877,0.8271742342164877,0.8271742342164877,0.8271742342164877,0.8271742342164877,0.8271742342164877,0.8271742342164877,0.8271742342164877,0.8271742342164877,0.8271742342164877,0.8271742342164877,0.8271742342164877,0.8271742342164877,0.8271742342164877,0.8271742342164877,0.8271742342164877,0.8271742342164877,0.8271742342164877,0.8271742342164877,0.8271742342164877,0.8271742342164877,0.8271742342164877,0.8271742342164877,0.8271742342164877,0.8271742342164877,0.8271742342164877,0.8271742342164877,0.8271742342164877,0.8271742342164877,0.8271742342164877,0.8271742342164877,0.8271742342164877,0.828582684920713,0.828582684920713,0.828582684920713,0.828582684920713,0.828582684920713,0.828582684920713,0.828582684920713],\"type\":\"scatter\"},{\"marker\":{\"color\":\"#cccccc\"},\"mode\":\"markers\",\"name\":\"Infeasible Trial\",\"showlegend\":false,\"x\":[],\"y\":[],\"type\":\"scatter\"}],                        {\"title\":{\"text\":\"Optimization History Plot\"},\"xaxis\":{\"title\":{\"text\":\"Trial\"}},\"yaxis\":{\"title\":{\"text\":\"Objective Value\"}},\"template\":{\"data\":{\"histogram2dcontour\":[{\"type\":\"histogram2dcontour\",\"colorbar\":{\"outlinewidth\":0,\"ticks\":\"\"},\"colorscale\":[[0.0,\"#0d0887\"],[0.1111111111111111,\"#46039f\"],[0.2222222222222222,\"#7201a8\"],[0.3333333333333333,\"#9c179e\"],[0.4444444444444444,\"#bd3786\"],[0.5555555555555556,\"#d8576b\"],[0.6666666666666666,\"#ed7953\"],[0.7777777777777778,\"#fb9f3a\"],[0.8888888888888888,\"#fdca26\"],[1.0,\"#f0f921\"]]}],\"choropleth\":[{\"type\":\"choropleth\",\"colorbar\":{\"outlinewidth\":0,\"ticks\":\"\"}}],\"histogram2d\":[{\"type\":\"histogram2d\",\"colorbar\":{\"outlinewidth\":0,\"ticks\":\"\"},\"colorscale\":[[0.0,\"#0d0887\"],[0.1111111111111111,\"#46039f\"],[0.2222222222222222,\"#7201a8\"],[0.3333333333333333,\"#9c179e\"],[0.4444444444444444,\"#bd3786\"],[0.5555555555555556,\"#d8576b\"],[0.6666666666666666,\"#ed7953\"],[0.7777777777777778,\"#fb9f3a\"],[0.8888888888888888,\"#fdca26\"],[1.0,\"#f0f921\"]]}],\"heatmap\":[{\"type\":\"heatmap\",\"colorbar\":{\"outlinewidth\":0,\"ticks\":\"\"},\"colorscale\":[[0.0,\"#0d0887\"],[0.1111111111111111,\"#46039f\"],[0.2222222222222222,\"#7201a8\"],[0.3333333333333333,\"#9c179e\"],[0.4444444444444444,\"#bd3786\"],[0.5555555555555556,\"#d8576b\"],[0.6666666666666666,\"#ed7953\"],[0.7777777777777778,\"#fb9f3a\"],[0.8888888888888888,\"#fdca26\"],[1.0,\"#f0f921\"]]}],\"heatmapgl\":[{\"type\":\"heatmapgl\",\"colorbar\":{\"outlinewidth\":0,\"ticks\":\"\"},\"colorscale\":[[0.0,\"#0d0887\"],[0.1111111111111111,\"#46039f\"],[0.2222222222222222,\"#7201a8\"],[0.3333333333333333,\"#9c179e\"],[0.4444444444444444,\"#bd3786\"],[0.5555555555555556,\"#d8576b\"],[0.6666666666666666,\"#ed7953\"],[0.7777777777777778,\"#fb9f3a\"],[0.8888888888888888,\"#fdca26\"],[1.0,\"#f0f921\"]]}],\"contourcarpet\":[{\"type\":\"contourcarpet\",\"colorbar\":{\"outlinewidth\":0,\"ticks\":\"\"}}],\"contour\":[{\"type\":\"contour\",\"colorbar\":{\"outlinewidth\":0,\"ticks\":\"\"},\"colorscale\":[[0.0,\"#0d0887\"],[0.1111111111111111,\"#46039f\"],[0.2222222222222222,\"#7201a8\"],[0.3333333333333333,\"#9c179e\"],[0.4444444444444444,\"#bd3786\"],[0.5555555555555556,\"#d8576b\"],[0.6666666666666666,\"#ed7953\"],[0.7777777777777778,\"#fb9f3a\"],[0.8888888888888888,\"#fdca26\"],[1.0,\"#f0f921\"]]}],\"surface\":[{\"type\":\"surface\",\"colorbar\":{\"outlinewidth\":0,\"ticks\":\"\"},\"colorscale\":[[0.0,\"#0d0887\"],[0.1111111111111111,\"#46039f\"],[0.2222222222222222,\"#7201a8\"],[0.3333333333333333,\"#9c179e\"],[0.4444444444444444,\"#bd3786\"],[0.5555555555555556,\"#d8576b\"],[0.6666666666666666,\"#ed7953\"],[0.7777777777777778,\"#fb9f3a\"],[0.8888888888888888,\"#fdca26\"],[1.0,\"#f0f921\"]]}],\"mesh3d\":[{\"type\":\"mesh3d\",\"colorbar\":{\"outlinewidth\":0,\"ticks\":\"\"}}],\"scatter\":[{\"fillpattern\":{\"fillmode\":\"overlay\",\"size\":10,\"solidity\":0.2},\"type\":\"scatter\"}],\"parcoords\":[{\"type\":\"parcoords\",\"line\":{\"colorbar\":{\"outlinewidth\":0,\"ticks\":\"\"}}}],\"scatterpolargl\":[{\"type\":\"scatterpolargl\",\"marker\":{\"colorbar\":{\"outlinewidth\":0,\"ticks\":\"\"}}}],\"bar\":[{\"error_x\":{\"color\":\"#2a3f5f\"},\"error_y\":{\"color\":\"#2a3f5f\"},\"marker\":{\"line\":{\"color\":\"#E5ECF6\",\"width\":0.5},\"pattern\":{\"fillmode\":\"overlay\",\"size\":10,\"solidity\":0.2}},\"type\":\"bar\"}],\"scattergeo\":[{\"type\":\"scattergeo\",\"marker\":{\"colorbar\":{\"outlinewidth\":0,\"ticks\":\"\"}}}],\"scatterpolar\":[{\"type\":\"scatterpolar\",\"marker\":{\"colorbar\":{\"outlinewidth\":0,\"ticks\":\"\"}}}],\"histogram\":[{\"marker\":{\"pattern\":{\"fillmode\":\"overlay\",\"size\":10,\"solidity\":0.2}},\"type\":\"histogram\"}],\"scattergl\":[{\"type\":\"scattergl\",\"marker\":{\"colorbar\":{\"outlinewidth\":0,\"ticks\":\"\"}}}],\"scatter3d\":[{\"type\":\"scatter3d\",\"line\":{\"colorbar\":{\"outlinewidth\":0,\"ticks\":\"\"}},\"marker\":{\"colorbar\":{\"outlinewidth\":0,\"ticks\":\"\"}}}],\"scattermapbox\":[{\"type\":\"scattermapbox\",\"marker\":{\"colorbar\":{\"outlinewidth\":0,\"ticks\":\"\"}}}],\"scatterternary\":[{\"type\":\"scatterternary\",\"marker\":{\"colorbar\":{\"outlinewidth\":0,\"ticks\":\"\"}}}],\"scattercarpet\":[{\"type\":\"scattercarpet\",\"marker\":{\"colorbar\":{\"outlinewidth\":0,\"ticks\":\"\"}}}],\"carpet\":[{\"aaxis\":{\"endlinecolor\":\"#2a3f5f\",\"gridcolor\":\"white\",\"linecolor\":\"white\",\"minorgridcolor\":\"white\",\"startlinecolor\":\"#2a3f5f\"},\"baxis\":{\"endlinecolor\":\"#2a3f5f\",\"gridcolor\":\"white\",\"linecolor\":\"white\",\"minorgridcolor\":\"white\",\"startlinecolor\":\"#2a3f5f\"},\"type\":\"carpet\"}],\"table\":[{\"cells\":{\"fill\":{\"color\":\"#EBF0F8\"},\"line\":{\"color\":\"white\"}},\"header\":{\"fill\":{\"color\":\"#C8D4E3\"},\"line\":{\"color\":\"white\"}},\"type\":\"table\"}],\"barpolar\":[{\"marker\":{\"line\":{\"color\":\"#E5ECF6\",\"width\":0.5},\"pattern\":{\"fillmode\":\"overlay\",\"size\":10,\"solidity\":0.2}},\"type\":\"barpolar\"}],\"pie\":[{\"automargin\":true,\"type\":\"pie\"}]},\"layout\":{\"autotypenumbers\":\"strict\",\"colorway\":[\"#636efa\",\"#EF553B\",\"#00cc96\",\"#ab63fa\",\"#FFA15A\",\"#19d3f3\",\"#FF6692\",\"#B6E880\",\"#FF97FF\",\"#FECB52\"],\"font\":{\"color\":\"#2a3f5f\"},\"hovermode\":\"closest\",\"hoverlabel\":{\"align\":\"left\"},\"paper_bgcolor\":\"white\",\"plot_bgcolor\":\"#E5ECF6\",\"polar\":{\"bgcolor\":\"#E5ECF6\",\"angularaxis\":{\"gridcolor\":\"white\",\"linecolor\":\"white\",\"ticks\":\"\"},\"radialaxis\":{\"gridcolor\":\"white\",\"linecolor\":\"white\",\"ticks\":\"\"}},\"ternary\":{\"bgcolor\":\"#E5ECF6\",\"aaxis\":{\"gridcolor\":\"white\",\"linecolor\":\"white\",\"ticks\":\"\"},\"baxis\":{\"gridcolor\":\"white\",\"linecolor\":\"white\",\"ticks\":\"\"},\"caxis\":{\"gridcolor\":\"white\",\"linecolor\":\"white\",\"ticks\":\"\"}},\"coloraxis\":{\"colorbar\":{\"outlinewidth\":0,\"ticks\":\"\"}},\"colorscale\":{\"sequential\":[[0.0,\"#0d0887\"],[0.1111111111111111,\"#46039f\"],[0.2222222222222222,\"#7201a8\"],[0.3333333333333333,\"#9c179e\"],[0.4444444444444444,\"#bd3786\"],[0.5555555555555556,\"#d8576b\"],[0.6666666666666666,\"#ed7953\"],[0.7777777777777778,\"#fb9f3a\"],[0.8888888888888888,\"#fdca26\"],[1.0,\"#f0f921\"]],\"sequentialminus\":[[0.0,\"#0d0887\"],[0.1111111111111111,\"#46039f\"],[0.2222222222222222,\"#7201a8\"],[0.3333333333333333,\"#9c179e\"],[0.4444444444444444,\"#bd3786\"],[0.5555555555555556,\"#d8576b\"],[0.6666666666666666,\"#ed7953\"],[0.7777777777777778,\"#fb9f3a\"],[0.8888888888888888,\"#fdca26\"],[1.0,\"#f0f921\"]],\"diverging\":[[0,\"#8e0152\"],[0.1,\"#c51b7d\"],[0.2,\"#de77ae\"],[0.3,\"#f1b6da\"],[0.4,\"#fde0ef\"],[0.5,\"#f7f7f7\"],[0.6,\"#e6f5d0\"],[0.7,\"#b8e186\"],[0.8,\"#7fbc41\"],[0.9,\"#4d9221\"],[1,\"#276419\"]]},\"xaxis\":{\"gridcolor\":\"white\",\"linecolor\":\"white\",\"ticks\":\"\",\"title\":{\"standoff\":15},\"zerolinecolor\":\"white\",\"automargin\":true,\"zerolinewidth\":2},\"yaxis\":{\"gridcolor\":\"white\",\"linecolor\":\"white\",\"ticks\":\"\",\"title\":{\"standoff\":15},\"zerolinecolor\":\"white\",\"automargin\":true,\"zerolinewidth\":2},\"scene\":{\"xaxis\":{\"backgroundcolor\":\"#E5ECF6\",\"gridcolor\":\"white\",\"linecolor\":\"white\",\"showbackground\":true,\"ticks\":\"\",\"zerolinecolor\":\"white\",\"gridwidth\":2},\"yaxis\":{\"backgroundcolor\":\"#E5ECF6\",\"gridcolor\":\"white\",\"linecolor\":\"white\",\"showbackground\":true,\"ticks\":\"\",\"zerolinecolor\":\"white\",\"gridwidth\":2},\"zaxis\":{\"backgroundcolor\":\"#E5ECF6\",\"gridcolor\":\"white\",\"linecolor\":\"white\",\"showbackground\":true,\"ticks\":\"\",\"zerolinecolor\":\"white\",\"gridwidth\":2}},\"shapedefaults\":{\"line\":{\"color\":\"#2a3f5f\"}},\"annotationdefaults\":{\"arrowcolor\":\"#2a3f5f\",\"arrowhead\":0,\"arrowwidth\":1},\"geo\":{\"bgcolor\":\"white\",\"landcolor\":\"#E5ECF6\",\"subunitcolor\":\"white\",\"showland\":true,\"showlakes\":true,\"lakecolor\":\"white\"},\"title\":{\"x\":0.05},\"mapbox\":{\"style\":\"light\"}}}},                        {\"responsive\": true}                    ).then(function(){\n",
       "                            \n",
       "var gd = document.getElementById('9d3497f3-1075-4cda-812d-75d179292616');\n",
       "var x = new MutationObserver(function (mutations, observer) {{\n",
       "        var display = window.getComputedStyle(gd).display;\n",
       "        if (!display || display === 'none') {{\n",
       "            console.log([gd, 'removed!']);\n",
       "            Plotly.purge(gd);\n",
       "            observer.disconnect();\n",
       "        }}\n",
       "}});\n",
       "\n",
       "// Listen for the removal of the full notebook cells\n",
       "var notebookContainer = gd.closest('#notebook-container');\n",
       "if (notebookContainer) {{\n",
       "    x.observe(notebookContainer, {childList: true});\n",
       "}}\n",
       "\n",
       "// Listen for the clearing of the current output cell\n",
       "var outputEl = gd.closest('.output');\n",
       "if (outputEl) {{\n",
       "    x.observe(outputEl, {childList: true});\n",
       "}}\n",
       "\n",
       "                        })                };                });            </script>        </div>"
      ]
     },
     "metadata": {},
     "output_type": "display_data"
    }
   ],
   "source": [
    "# + optuna 특징 중 하나가 시각화!!!!!!\n",
    "# ==> 테스트한 결과들에 대한 시각적인 정보!!! plotly기본\n",
    "optuna.visualization.plot_optimization_history(rf_study)"
   ]
  },
  {
   "cell_type": "code",
   "execution_count": null,
   "id": "74f4063e-5602-42c7-825a-8b9dc4d5618a",
   "metadata": {},
   "outputs": [],
   "source": []
  }
 ],
 "metadata": {
  "kernelspec": {
   "display_name": "Python 3 (ipykernel)",
   "language": "python",
   "name": "python3"
  },
  "language_info": {
   "codemirror_mode": {
    "name": "ipython",
    "version": 3
   },
   "file_extension": ".py",
   "mimetype": "text/x-python",
   "name": "python",
   "nbconvert_exporter": "python",
   "pygments_lexer": "ipython3",
   "version": "3.11.7"
  }
 },
 "nbformat": 4,
 "nbformat_minor": 5
}
