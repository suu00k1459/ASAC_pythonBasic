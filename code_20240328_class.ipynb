{
 "cells": [
  {
   "cell_type": "code",
   "execution_count": 3,
   "id": "5d27cb90-7da2-4eaf-a8ff-27f1416abead",
   "metadata": {},
   "outputs": [],
   "source": [
    "# 기본적 목적 : 코드들을 기능 중심으로 구조화\n",
    "#     -> 함수 : 입력, 출력, 기능\n",
    "#     -> 클래스  : 내가 필요한 대상(속성, 기능)\n",
    "#     -> 패키지  : 필요한 여러가지들을 모아둔 것\n",
    "#         ex) pandas, scikit-learn + optuna, TF/PyTorch\n",
    "#             DF      DF/array               Tensor(Array)\n",
    "#     -> 내가 불편해서 필요한 거 만들겠다! 자주 사용되는 것들.\n",
    "\n",
    "# *** 체계적으로 기능 중심들로 어떻게 구성을 할까!\n",
    "# 참고) 데이터 수집, 데이터분석, 머신러닝  : 함수정도면 충분함.\n",
    "#     딥러닝 : tensorflow --> keras : 함수\n",
    "#             프로젝트(최신것) PyTorch : 클래스!"
   ]
  },
  {
   "cell_type": "code",
   "execution_count": null,
   "id": "ba846fb0-a965-4e0d-ab1c-82e778850164",
   "metadata": {},
   "outputs": [],
   "source": [
    "# 예) 학생들에 대한 국어, 영어, 수학, 과학 점수들을 처리하고자 함!!!\n",
    "# 1) 주어진 정보들을 파이썬의 특징을 활용해서 꾸역꾸역!!!!!\n",
    "#    ==> 우리반 전체 학생들에 대해서 : 리스트\n",
    "#        개별 학생에 대한 정보       : 딕션어리"
   ]
  },
  {
   "cell_type": "code",
   "execution_count": 12,
   "id": "fdcac065-f47f-44d5-bd40-ceb9a40a3156",
   "metadata": {},
   "outputs": [
    {
     "data": {
      "text/plain": [
       "[{'name': 'AAA', 'korean': 98, 'math': 93, 'english': 79, 'science': 95},\n",
       " {'name': 'BBB', 'korean': 78, 'math': 87, 'english': 87, 'science': 90},\n",
       " {'name': 'CCC', 'korean': 65, 'math': 75, 'english': 89, 'science': 92},\n",
       " {'name': 'DDD', 'korean': 95, 'math': 80, 'english': 87, 'science': 90},\n",
       " {'name': 'BBB', 'korean': 100, 'math': 73, 'english': 70, 'science': 95}]"
      ]
     },
     "execution_count": 12,
     "metadata": {},
     "output_type": "execute_result"
    }
   ],
   "source": [
    "# 1)\n",
    "students = [\n",
    "    {\"name\":\"AAA\",\"korean\":98,\"math\":93,\"english\":79, \"science\":95},\n",
    "    {\"name\":\"BBB\",\"korean\":78,\"math\":87,\"english\":87, \"science\":90},\n",
    "    {\"name\":\"CCC\",\"korean\":65,\"math\":75,\"english\":89, \"science\":92},\n",
    "    {\"name\":\"DDD\",\"korean\":95,\"math\":80,\"english\":87, \"science\":90},\n",
    "    {\"name\":\"BBB\",\"korean\":100,\"math\":73,\"english\":70, \"science\":95}\n",
    "]\n",
    "students"
   ]
  },
  {
   "cell_type": "code",
   "execution_count": 15,
   "id": "156a8389-0614-4781-a213-7031b858fe8b",
   "metadata": {},
   "outputs": [
    {
     "name": "stdout",
     "output_type": "stream",
     "text": [
      "AAA\t365\t91.25\n",
      "BBB\t342\t85.5\n",
      "CCC\t321\t80.25\n",
      "DDD\t352\t88.0\n",
      "BBB\t338\t84.5\n"
     ]
    }
   ],
   "source": [
    "# 우리반 학생별로 4과목 성적에 대한 총점/ 평균 점수를 출력\n",
    "# 출력 : 학생이름, 4과목 총점, 4과목에 평균 출력\n",
    "# print(\"이름\", \"총점\", \"평균\", sep=\"\\t\") #sep: cnffureotkd, end : 다 출력하고 줄바꿈 결정\n",
    "for student in students:\n",
    "    # 개별 학생에 대해서 할 일에!\n",
    "    score_sum = student[\"korean\"] + student[\"math\"] \\\n",
    "                +student[\"english\"] + student[\"science\"]\n",
    "    score_avg = score_sum/ 4\n",
    "    print(student[\"name\"], score_sum, score_avg, sep=\"\\t\")"
   ]
  },
  {
   "cell_type": "code",
   "execution_count": 8,
   "id": "e32f585b-325b-44e7-8fdd-6fb71c88204a",
   "metadata": {},
   "outputs": [
    {
     "data": {
      "text/plain": [
       "{'name': 'AAA', 'korean': 98, 'math': 93, 'english': 79, 'science': 95}"
      ]
     },
     "execution_count": 8,
     "metadata": {},
     "output_type": "execute_result"
    }
   ],
   "source": [
    "students[0]"
   ]
  },
  {
   "cell_type": "code",
   "execution_count": 16,
   "id": "f343a5d8-fb30-4fd2-9e23-2ef7600a0a1d",
   "metadata": {},
   "outputs": [],
   "source": [
    "#2) 학생들에 대한 정보를 생성하는 함수\n",
    "# --> 학생마다 정보를 만들 때 키값이 반복되고 있음\n",
    "# --> 귀찮으니 함수로 만들어서 처리\n",
    "# --> 가장 반복 없는 기본이 되는 정보들만 가지고 생성"
   ]
  },
  {
   "cell_type": "code",
   "execution_count": 19,
   "id": "66e7a331-7070-46c0-ac48-9c842c6bc135",
   "metadata": {},
   "outputs": [
    {
     "data": {
      "text/plain": [
       "{'name': 'AAA', 'korean': 98, 'math': 93, 'english': 97, 'science': 95}"
      ]
     },
     "execution_count": 19,
     "metadata": {},
     "output_type": "execute_result"
    }
   ],
   "source": [
    "def create_students(name, kor, math, english, science):\n",
    "    return {\"name\" : name, \"korean\":kor, \"math\": math, \"english\":english, \"science\": science}\n",
    "create_students(\"AAA\",98,93,97,95)"
   ]
  },
  {
   "cell_type": "code",
   "execution_count": 22,
   "id": "06f7369e-c4b1-427c-b64e-31c4b1543921",
   "metadata": {},
   "outputs": [
    {
     "data": {
      "text/plain": [
       "[{'name': 'AAA', 'korean': 98, 'math': 93, 'english': 79, 'science': 95},\n",
       " {'name': 'BBB', 'korean': 78, 'math': 87, 'english': 87, 'science': 90},\n",
       " {'name': 'CCC', 'korean': 65, 'math': 75, 'english': 89, 'science': 92},\n",
       " {'name': 'DDD', 'korean': 95, 'math': 80, 'english': 87, 'science': 90},\n",
       " {'name': 'BBB', 'korean': 100, 'math': 73, 'english': 70, 'science': 95}]"
      ]
     },
     "execution_count": 22,
     "metadata": {},
     "output_type": "execute_result"
    }
   ],
   "source": [
    "stuendts = [\n",
    "    create_students(\"AAA\",98,93,79,95),\n",
    "        create_students(\"BBB\",87,87,87,90),\n",
    "        create_students(\"CCC\",65,75,89,92),\n",
    "        create_students(\"DDD\",95,80,87,90),\n",
    "        create_students(\"EEE\",100,73,70,95)\n",
    "]\n",
    "students"
   ]
  },
  {
   "cell_type": "code",
   "execution_count": 23,
   "id": "e6fa0ee5-a066-420d-a449-ade8ccf4f3f9",
   "metadata": {},
   "outputs": [],
   "source": [
    "# 3) 필요한 기능들에 대해서 함수화를 최대한 해보자!\n",
    "# -> 1명 학생에 대한 정보를 생성하는 함수\n",
    "# -> 1명 학생에 대한 정보를 바탕으로 총점을 구하는 함수\n",
    "# -> 1명 학생에 대한 정보를 받탕으로 평균을 구하는 함수\n",
    "# -> 1명 학생에 대한 정보를 출력하는 함수(이름, 총점, 평균)\n"
   ]
  },
  {
   "cell_type": "code",
   "execution_count": 30,
   "id": "9dcc43d1-2bf5-4363-8f43-496585a0af69",
   "metadata": {},
   "outputs": [],
   "source": [
    "# - 1명 학생에 대한 정보를 생성하는 함수\n",
    "#   입력 : 이름, 국어, 수학, 영어, 과학\n",
    "#   기능 : 학생 정보를 Dict 생성\n",
    "#   출력 : 1명 학생 정보 Dict\n",
    "def create_studnet( n, k, m, e, s):\n",
    "    return { \"name\":n, \"korean\":k, \"math\":m, \"english\":e,\"science\": s}\n",
    "\n",
    "# - 1명 학생에 대한 총점을 계산해주는 함수\n",
    "#   입력 : 1명 학생의 정보\n",
    "#   기능 : 총점을 계산\n",
    "#   출력 : 총점\n",
    "def student_get_sum( studnet ): # student = {\"name\":\"AAA\",~~~~~}\n",
    "    score_sum = studnet[\"korean\"] + studnet[\"math\"] \\\n",
    "                + studnet[\"english\"] + studnet[\"science\"]\n",
    "    return score_sum\n",
    "\n",
    "# - 1명 학생에 대한 4과목 평균을 함수\n",
    "# - 입력 : 학생 1명에 대한 정보\n",
    "#   기능 : 4과목 점수 평균 계산\n",
    "#   출력 : 평균 점수\n",
    "def studnet_get_avg( studnet ):\n",
    "    score_avg = student_get_sum(studnet)\n",
    "    return score_avg\n",
    "\n",
    "# - 1명 학생에 대한 정보 출력하는 함수/기능!!!!\n",
    "# - 입력 : 학생 1명에 대한 정보\n",
    "#   기능 : 정보를 출력 문자열생성 ->이름, 총점, 평균\n",
    "#   출력 : 출력할 문자열\n",
    "def student_to_string(studnet):\n",
    "    temp = \"{0}\\t{1}\\t{2}\".format( studnet[\"name\"],\n",
    "                               student_get_sum(studnet),\n",
    "                                studnet_get_avg(studnet))\n",
    "    return temp\n"
   ]
  },
  {
   "cell_type": "code",
   "execution_count": 26,
   "id": "2a7fd7e0-6af5-4f5c-86ca-ba9e002bcf9d",
   "metadata": {},
   "outputs": [],
   "source": [
    "# 참고) 파이썬의 문자열을 표현하는 방식 크게 3가지\n",
    "#  - % 연산자를 활용해서 표현\n",
    "#  - format() 함수로 표현\n",
    "#  - f-string 통해서 표현\n",
    "# ===> 본인 편할 대로......."
   ]
  },
  {
   "cell_type": "code",
   "execution_count": 31,
   "id": "e4001dcd-13cf-41c2-b82f-d86404e9d993",
   "metadata": {},
   "outputs": [
    {
     "name": "stdout",
     "output_type": "stream",
     "text": [
      "나의 총점 : 345, 평균:86\n",
      "나의 총점 : 345, 평균:86.00\n",
      "나의 총점 : 86, 평균:345\n"
     ]
    }
   ],
   "source": [
    "a=345\n",
    "b=86\n",
    "print(\"나의 총점 : {}, 평균:{}\".format(a,b))\n",
    "print(\"나의 총점 : {}, 평균:{:.2f}\".format(a,b))\n",
    "print(\"나의 총점 : {1}, 평균:{0}\".format(a,b))"
   ]
  },
  {
   "cell_type": "code",
   "execution_count": 32,
   "id": "fb2932a0-fa13-46ed-a856-f9bd2ec0df7c",
   "metadata": {},
   "outputs": [],
   "source": [
    "# 일반적으로 프로그램의 코드를 작성하는 스타일과\n",
    "#     -> 객체지향으로 설계 : class -> object\n",
    "# : 필요한 기능 중심으로, 조립을 하는 방식(유기적인 관계 ...)\n",
    "# --> 많은 시행착오, 경험, 노하우!\n",
    "# (--> 프로그램설계 컨설턴트 : 컨설팅! 단가가 비쌈...)\n",
    "#     + DB \n",
    "# --> 동일한 기능이어도 어떻게 설꼐 구조를 하느냐.\n",
    "\n",
    "# 클래스 class : 속성 + 기능(뭔가 틀을 생성하는게 class)\n",
    "#                 점수, 이름 : 속성 -> property\n",
    "#                 평균구해주세요. 총점 계산 : 기능 -> method"
   ]
  },
  {
   "cell_type": "code",
   "execution_count": 74,
   "id": "214a221b-1113-43c1-8417-23185a200b01",
   "metadata": {},
   "outputs": [],
   "source": [
    "class Student: #일반적인 함수와 구별하기 위해서 대문자로 시작\n",
    "    # 생성자 : 필요한초기 속성들에 대한 초기화\n",
    "    #      -> 파이썬에서 클래서 생성을 위한 미리 만든 특별함수 (_ : 양옆으로 두개 써주기)\n",
    "    def __init__(self, name, korean, math, english, science):\n",
    "        self.name = name\n",
    "        self.korean = korean\n",
    "        self.math = math\n",
    "        self.english = english\n",
    "        self.science = science\n",
    "        \n",
    "    # --> 필요한 기능 추가 : 총점계싼, 평균계산, 출력(이름, 총점, 출력)\n",
    "    def get_sum(self):\n",
    "        score_sum = self.korean + self.math + self.english + self.science\n",
    "        return score_sum\n",
    "\n",
    "    def get_avg(self):\n",
    "        score_avg = self.get_sum()/4\n",
    "        return score_avg\n",
    "\n",
    "    def to_string(self):\n",
    "        temp = \"{0}\\t{1}\\t{2}\".format(self.name, self.get_sum(), self.get_avg())\n",
    "        return temp\n",
    "        \n",
    "    ### --> 2개의 학생 클래스끼리의 연산자들을 사용해서 비교\n",
    "    #       내 기준 : 4과목 총점을 기준으로 비교할 것.(개인별 목적에 맞춰서)\n",
    "\n",
    "    def __eq__(self, value): #std1 == std2 총점\n",
    "        return self.get_sum() == value.get_sum()\n",
    "\n",
    "    def __ne__(self, value):\n",
    "        return self.get_sum() != value.get_sum()\n",
    "\n",
    "    def __gt__(self, value):\n",
    "        return self.get_sum() > value.get_sum()\n",
    "        \n",
    "    def __ge__(self, value):\n",
    "        return self.get_sum() >= value.get_sum()\n",
    "    \n",
    "    def __lt__(self, value):\n",
    "        return self.get_sum() < value.get_sum()\n",
    "        \n",
    "    def __le__(self, value):\n",
    "        return self.get_sum() <= value.get_sum()"
   ]
  },
  {
   "cell_type": "code",
   "execution_count": 64,
   "id": "7fc82b44-947f-43ed-b2b6-a475d326f04a",
   "metadata": {},
   "outputs": [
    {
     "data": {
      "text/plain": [
       "[<__main__.Student at 0x26009d27490>,\n",
       " <__main__.Student at 0x26009dc66d0>,\n",
       " <__main__.Student at 0x260096aa590>,\n",
       " <__main__.Student at 0x26008a078d0>,\n",
       " <__main__.Student at 0x260099f8d90>]"
      ]
     },
     "execution_count": 64,
     "metadata": {},
     "output_type": "execute_result"
    }
   ],
   "source": [
    "students = [\n",
    "    Student(\"AAA\",98,93,79,95),\n",
    "    Student(\"BBB\",87,87,87,90),\n",
    "    Student(\"CCC\",65,75,89,92),\n",
    "    Student(\"DDD\",95,80,87,90),\n",
    "    Student(\"EEE\",100,73,70,95)\n",
    "]\n",
    "students"
   ]
  },
  {
   "cell_type": "code",
   "execution_count": 54,
   "id": "7839d737-4dab-4d7a-bfdb-a1ae70d6d064",
   "metadata": {},
   "outputs": [
    {
     "data": {
      "text/plain": [
       "'AAA'"
      ]
     },
     "execution_count": 54,
     "metadata": {},
     "output_type": "execute_result"
    }
   ],
   "source": [
    "students[0].name"
   ]
  },
  {
   "cell_type": "code",
   "execution_count": 48,
   "id": "c71757db-c1fa-4535-9b07-c33619085bea",
   "metadata": {},
   "outputs": [],
   "source": [
    "# ==> 학생들에 대한 대상을 생성하는 과정에서\n",
    "#     필요한 정보들만 생성을 한 것!!!\n",
    "# --> 속성값 property 물어보게 되는 것!!!!!"
   ]
  },
  {
   "cell_type": "code",
   "execution_count": null,
   "id": "5e497363-08ef-456a-ab3c-1ab6c6b8bdda",
   "metadata": {},
   "outputs": [],
   "source": [
    "# 클래스 내부에... 기능적으로 필요한 것들을 추가/ 설꼐\n",
    "# --> 너 무슨 과목은 몇 점이니?\n",
    "# --> 너의 총점은 얼마니?\n",
    "\n",
    "# class 클래스명:\n",
    "#     def __init__(self, ....)\n",
    "#         self.설정속성 =~~\n",
    "#     def 메서드, 기능함수"
   ]
  },
  {
   "cell_type": "code",
   "execution_count": 65,
   "id": "08ea9e8b-4854-4abf-a1ac-5d2980e6aa9c",
   "metadata": {},
   "outputs": [
    {
     "data": {
      "text/plain": [
       "365"
      ]
     },
     "execution_count": 65,
     "metadata": {},
     "output_type": "execute_result"
    }
   ],
   "source": [
    "students[0].get_sum()"
   ]
  },
  {
   "cell_type": "code",
   "execution_count": 66,
   "id": "db72822d-1a03-44dc-ad08-74d8325ff5ee",
   "metadata": {},
   "outputs": [
    {
     "name": "stdout",
     "output_type": "stream",
     "text": [
      "AAA\t365\t91.25\n"
     ]
    }
   ],
   "source": [
    "print(students[0].to_string())"
   ]
  },
  {
   "cell_type": "code",
   "execution_count": 67,
   "id": "5334ce15-9530-4577-901a-f3f7777b8d58",
   "metadata": {},
   "outputs": [
    {
     "name": "stdout",
     "output_type": "stream",
     "text": [
      "이름\t총점\t평균\n",
      "AAA\t365\t91.25\n",
      "BBB\t351\t87.75\n",
      "CCC\t321\t80.25\n",
      "DDD\t352\t88.0\n",
      "EEE\t338\t84.5\n"
     ]
    }
   ],
   "source": [
    "print(\"이름\",\"총점\",\"평균\", sep =\"\\t\")\n",
    "for student in students:\n",
    "    print(student.to_string())"
   ]
  },
  {
   "cell_type": "code",
   "execution_count": 69,
   "id": "0af8e578-9105-4cc0-9e81-06fb956b9d49",
   "metadata": {},
   "outputs": [
    {
     "data": {
      "text/plain": [
       "3"
      ]
     },
     "execution_count": 69,
     "metadata": {},
     "output_type": "execute_result"
    }
   ],
   "source": [
    "# --> 특별 메서드\n",
    "# 기본적인 연산자들을 내가 설계한 클래스들 사이에서\n",
    "# 동작을 정의할 수 있음!\n",
    "1 + 2"
   ]
  },
  {
   "cell_type": "code",
   "execution_count": 70,
   "id": "f85fdf54-c265-41c9-9cc2-cf65284cb97a",
   "metadata": {},
   "outputs": [
    {
     "data": {
      "text/plain": [
       "'12'"
      ]
     },
     "execution_count": 70,
     "metadata": {},
     "output_type": "execute_result"
    }
   ],
   "source": [
    "\"1\"+\"2\""
   ]
  },
  {
   "cell_type": "code",
   "execution_count": null,
   "id": "13fd1183-1c53-4093-ac90-a716ddaa052d",
   "metadata": {},
   "outputs": [],
   "source": [
    "# --> 우리의 학생 클래서 설계 입장에서 생각하면,,,,,\n",
    "#     2명의 학생을 불러다가 총점에 대해서 비교1!!!!\n",
    "#     2명 중에서 누가 더 총점이 높은가!!!!!\n",
    "# ==> 비교 : 부등식!!!!!!!!\n",
    "# std1 > std2\n",
    "\n",
    "# ==> 목적 : 내가 설계한 학생 클래스로 생성된 2 객체끼리\n",
    "#            부등식의 연산자를 통해서 바로 총점 비교를 하도록\n",
    "#            기능을 구현하고 싶다!!!\n",
    "# ===> 특별메서드!!!!"
   ]
  },
  {
   "cell_type": "code",
   "execution_count": 72,
   "id": "30b61030-0b89-4ddb-9496-93b462f92881",
   "metadata": {},
   "outputs": [
    {
     "data": {
      "text/plain": [
       "True"
      ]
     },
     "execution_count": 72,
     "metadata": {},
     "output_type": "execute_result"
    }
   ],
   "source": [
    "students[0].get_sum() > students[1].get_sum()"
   ]
  },
  {
   "cell_type": "code",
   "execution_count": 75,
   "id": "f71a3373-bd3b-4908-b800-463db3a35490",
   "metadata": {},
   "outputs": [],
   "source": [
    "# --> 이런식으로 students[0] > students[1]\n",
    "# 기준은 나를 총점으로하겠다.. 국어 성적.. 설계에 따라서 바꿀 수 있음\n",
    "# 특별 메서드 : ==(eq), !=(ne), >=, ==, <="
   ]
  },
  {
   "cell_type": "code",
   "execution_count": 76,
   "id": "ded593bc-a424-4788-a3e0-b9251ca8d03c",
   "metadata": {},
   "outputs": [
    {
     "data": {
      "text/plain": [
       "False"
      ]
     },
     "execution_count": 76,
     "metadata": {},
     "output_type": "execute_result"
    }
   ],
   "source": [
    "# 0번학생하고 1번 학생하고 총점이 같니?\n",
    "students[0] == students[1]"
   ]
  },
  {
   "cell_type": "code",
   "execution_count": 92,
   "id": "e639a75c-a8c2-4a52-8429-5b60de23e749",
   "metadata": {},
   "outputs": [],
   "source": [
    "#참고) 외부에서 내부 property 속성값에 대한 접근성!\n",
    "class Square :\n",
    "    def __init__(self, size):\n",
    "        self.size =size\n",
    "        \n",
    "    #  1. 속성값을 나한테 알려주세요1!! : ~~~ get~\n",
    "    def get_size(self):\n",
    "        return self.__size\n",
    "        \n",
    "    #  2. 속성값에 대한 변경~!!!!       : ~~~~ set ~~\n",
    "    def set_size(self, value):\n",
    "        self.__size= value"
   ]
  },
  {
   "cell_type": "code",
   "execution_count": 93,
   "id": "5a360c88-5e87-4925-a7ce-794c26d02a9e",
   "metadata": {},
   "outputs": [
    {
     "data": {
      "text/plain": [
       "<__main__.Square at 0x26009f2c290>"
      ]
     },
     "execution_count": 93,
     "metadata": {},
     "output_type": "execute_result"
    }
   ],
   "source": [
    "s1 = Square(10)\n",
    "s1"
   ]
  },
  {
   "cell_type": "code",
   "execution_count": 94,
   "id": "916ec877-596b-4c0b-a2c8-b86c6df6e566",
   "metadata": {},
   "outputs": [
    {
     "ename": "AttributeError",
     "evalue": "'Square' object has no attribute 'get_area'",
     "output_type": "error",
     "traceback": [
      "\u001b[1;31m---------------------------------------------------------------------------\u001b[0m",
      "\u001b[1;31mAttributeError\u001b[0m                            Traceback (most recent call last)",
      "Cell \u001b[1;32mIn[94], line 2\u001b[0m\n\u001b[0;32m      1\u001b[0m s1\u001b[38;5;241m.\u001b[39msize \u001b[38;5;241m=\u001b[39m\u001b[38;5;241m20\u001b[39m\n\u001b[1;32m----> 2\u001b[0m s1\u001b[38;5;241m.\u001b[39mget_area()\n",
      "\u001b[1;31mAttributeError\u001b[0m: 'Square' object has no attribute 'get_area'"
     ]
    }
   ],
   "source": [
    "s1.size =20\n",
    "s1.get_area()"
   ]
  },
  {
   "cell_type": "code",
   "execution_count": 81,
   "id": "0c1143b7-4c61-4263-8bb5-4984521029cb",
   "metadata": {},
   "outputs": [],
   "source": [
    "# ==> 클래스 내부의 속성값에 대한 외부의 접근을 막기위해서\n",
    "#     속성값을 __ 지정을 할 수 있음!!!!"
   ]
  },
  {
   "cell_type": "code",
   "execution_count": 91,
   "id": "d2904f80-3d24-42af-a25f-b3db22a1bc73",
   "metadata": {},
   "outputs": [
    {
     "ename": "AttributeError",
     "evalue": "'Square' object has no attribute 'get_area'",
     "output_type": "error",
     "traceback": [
      "\u001b[1;31m---------------------------------------------------------------------------\u001b[0m",
      "\u001b[1;31mAttributeError\u001b[0m                            Traceback (most recent call last)",
      "Cell \u001b[1;32mIn[91], line 2\u001b[0m\n\u001b[0;32m      1\u001b[0m s1 \u001b[38;5;241m=\u001b[39m Square(\u001b[38;5;241m10\u001b[39m)\n\u001b[1;32m----> 2\u001b[0m s1\u001b[38;5;241m.\u001b[39mget_area()\n",
      "\u001b[1;31mAttributeError\u001b[0m: 'Square' object has no attribute 'get_area'"
     ]
    }
   ],
   "source": [
    "s1 = Square(10)\n",
    "s1.get_area()"
   ]
  },
  {
   "cell_type": "code",
   "execution_count": 90,
   "id": "2458c0b6-7f8d-4c05-b4f8-cc82f13122c5",
   "metadata": {},
   "outputs": [
    {
     "ename": "AttributeError",
     "evalue": "'Square' object has no attribute 'set_size'",
     "output_type": "error",
     "traceback": [
      "\u001b[1;31m---------------------------------------------------------------------------\u001b[0m",
      "\u001b[1;31mAttributeError\u001b[0m                            Traceback (most recent call last)",
      "Cell \u001b[1;32mIn[90], line 1\u001b[0m\n\u001b[1;32m----> 1\u001b[0m s1\u001b[38;5;241m.\u001b[39mset_size(\u001b[38;5;241m20\u001b[39m)\n",
      "\u001b[1;31mAttributeError\u001b[0m: 'Square' object has no attribute 'set_size'"
     ]
    }
   ],
   "source": [
    "s1.set_size(20)"
   ]
  },
  {
   "cell_type": "code",
   "execution_count": null,
   "id": "436af765-d5f9-40e8-8eba-6cfd1fa83172",
   "metadata": {},
   "outputs": [],
   "source": [
    "# model = svm(~~~~~~~~~)\n",
    "# model.fit(X_train, y_train)\n",
    "# model.predict(X_test)"
   ]
  },
  {
   "cell_type": "code",
   "execution_count": null,
   "id": "3d407c8f-99df-4337-9327-236e451aee0e",
   "metadata": {},
   "outputs": [],
   "source": [
    "# 효율성 문제 : 타이트하게 시간을 엄밀하는 문제, 그냥 꾸역꾸역 코드를 짜도 되는가? 안됨!\n",
    "# 간단한 아이디어 정도로 효율성있게 할 수 있다.\n",
    "\n",
    "# 특별한 알고리즘을 사용하지 않는다.\n",
    "# (구현, 파있너 기본으로 다 된다? 아님!)\n",
    "# 기본적인 알고리즘은 알고 있다고 하고, 여기서 말하는 정말로 ~ 아주 특수한 케이스 알고리즘\n",
    "# (세부적인 지식은 없어도 됨)\n",
    "# (그렇다고 기본 지식까지 없어도 되는 것은 아님ㅠ)\n"
   ]
  }
 ],
 "metadata": {
  "kernelspec": {
   "display_name": "Python 3 (ipykernel)",
   "language": "python",
   "name": "python3"
  },
  "language_info": {
   "codemirror_mode": {
    "name": "ipython",
    "version": 3
   },
   "file_extension": ".py",
   "mimetype": "text/x-python",
   "name": "python",
   "nbconvert_exporter": "python",
   "pygments_lexer": "ipython3",
   "version": "3.11.7"
  }
 },
 "nbformat": 4,
 "nbformat_minor": 5
}
