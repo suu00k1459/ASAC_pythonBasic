{
 "cells": [
  {
   "cell_type": "markdown",
   "id": "1458daf1-c5e0-4423-bb67-caa4c4f87d8a",
   "metadata": {},
   "source": [
    "### while 반복문"
   ]
  },
  {
   "cell_type": "code",
   "execution_count": 3,
   "id": "f196fc09-730b-42f9-828b-c41e5674f32b",
   "metadata": {},
   "outputs": [
    {
     "name": "stdout",
     "output_type": "stream",
     "text": [
      "2\n",
      "3\n",
      "4\n",
      "5\n",
      "6\n",
      "7\n",
      "8\n",
      "9\n",
      "10\n",
      "11\n",
      "12\n",
      "13\n",
      "14\n",
      "15\n",
      "16\n",
      "17\n",
      "18\n",
      "19\n",
      "20\n",
      "21\n"
     ]
    }
   ],
   "source": [
    "# 선수 내용 : while반복문\n",
    "\n",
    "# --> while 조건 : 조건이 참일 때까지..\n",
    "#     돌아가면서, 롤링하면서 무엇을 할지!\n",
    "#     빠져나갈 조건에 대한 값의 변화/ 조건\n",
    "\n",
    "\n",
    "# 예) 1부터 20까지 출력을 하자\n",
    "i = 1 # 출력을 하기 위한 값의 변수\n",
    "\n",
    "while i<21: # 몇 번이 중요한 것이 아니라 해당 조건이 만족할 때\n",
    "    i+=1\n",
    "    print(i)# 이론은 계속 돌아야 하는데, 파이썬은 중간에 세움."
   ]
  },
  {
   "cell_type": "code",
   "execution_count": 4,
   "id": "293303e9-5817-4451-b5c4-54f58eeb2383",
   "metadata": {},
   "outputs": [
    {
     "name": "stdout",
     "output_type": "stream",
     "text": [
      "1\n",
      "2\n",
      "3\n",
      "4\n",
      "5\n",
      "6\n",
      "7\n",
      "8\n",
      "9\n",
      "10\n",
      "11\n",
      "12\n",
      "13\n",
      "14\n",
      "15\n",
      "16\n",
      "17\n",
      "18\n",
      "19\n",
      "20\n"
     ]
    }
   ],
   "source": [
    "# 예) 1부터 20까지 출력을 하자!\n",
    "# --> 값을 줄이는 방향으로 설계\n",
    "\n",
    "i = 20\n",
    "while i>0:\n",
    "    print(21-i)\n",
    "    i -= 1"
   ]
  },
  {
   "cell_type": "code",
   "execution_count": null,
   "id": "9e0c76a1-beb7-4bf8-97dc-febf87ea1ea5",
   "metadata": {},
   "outputs": [],
   "source": [
    "# 예) 1부터 20까지 출력\n",
    "#   -> 특정 조건이 되면 while 세우자!\n",
    "i = 1\n",
    "while True:\n",
    "    print(i)\n",
    "    i +=1"
   ]
  },
  {
   "cell_type": "code",
   "execution_count": null,
   "id": "ad1bcfb2-6f02-4280-a0e3-46d7c97c793b",
   "metadata": {},
   "outputs": [],
   "source": [
    "# 예) 1부터 20까지 출력\n",
    "#    --> 특정 조건이 되면 while 세우자!!!\n",
    "i = 1\n",
    "while True: # 일단 주구장창 돌리고,,밑에서 break\n",
    "    print(i)\n",
    "    if i==20:\n",
    "        break\n",
    "    i += 1"
   ]
  },
  {
   "cell_type": "code",
   "execution_count": null,
   "id": "5d24cfb6-b7c5-41e0-a244-9c1d29e578b4",
   "metadata": {},
   "outputs": [],
   "source": [
    "# ==> 기능적으로는 다 동일하게 만들 수 있음!!!\n",
    "#     while문 작성하는 스타일이 정말로 다양함!!!\n",
    "#     멈출 조건에 대한 설계가 다 사람마다 다를 수 있고,\n",
    "#     상황마다 다를 수 있어서!!!\n"
   ]
  },
  {
   "cell_type": "code",
   "execution_count": 1,
   "id": "099fd98e-840b-4716-a4e1-f9e4fe587959",
   "metadata": {},
   "outputs": [
    {
     "name": "stdout",
     "output_type": "stream",
     "text": [
      "1\n",
      "2\n",
      "3\n",
      "4\n",
      "5\n",
      "6\n",
      "7\n",
      "8\n",
      "9\n",
      "10\n",
      "11\n",
      "12\n",
      "13\n",
      "14\n",
      "15\n",
      "16\n",
      "17\n",
      "18\n",
      "19\n",
      "20\n"
     ]
    }
   ],
   "source": [
    "for i in range(1,21):\n",
    "    print(i)\n",
    "    # 같은 기능을 for문으로는 거의 일정한 코드가 작성되지만,\n",
    "# while은 좀 다양하게 작성될 수 있음!!"
   ]
  },
  {
   "cell_type": "code",
   "execution_count": 2,
   "id": "622e1049-d028-444f-9547-f5cacad313ed",
   "metadata": {},
   "outputs": [],
   "source": [
    "# 선수내용 1-2) pass, continue, break\n",
    "# - pass : 아래 내용 skip ==> 형식상 맞춤을 위해서...\n",
    "#          코테에서는 거의 pass거의 skip\n",
    "# - continue : for/while 다음 순번으로 넘어가는 것..\n",
    "# - break     : 반복문 자체를 완전 세우는 것!!!!"
   ]
  },
  {
   "cell_type": "code",
   "execution_count": 2,
   "id": "5a06a5d1-ec15-4be1-8008-4a28f1810a84",
   "metadata": {},
   "outputs": [
    {
     "name": "stdout",
     "output_type": "stream",
     "text": [
      "체크 전의 값: 3\n",
      "PASS\n",
      "체크 전의 값: 4\n",
      "PASS\n",
      "체크 전의 값: 5\n",
      "5\n",
      "체크 전의 값: 6\n",
      "PASS\n",
      "체크 전의 값: 7\n",
      "PASS\n",
      "체크 전의 값: 8\n",
      "PASS\n",
      "체크 전의 값: 9\n",
      "PASS\n"
     ]
    }
   ],
   "source": [
    "# pass 에 대한 예\n",
    "# --> 대충 생각하면 건너띄는 것 같지만.. 코드적으로 그냥 줄만 pass하는 거\n",
    "#     pass 아래에 보통 코드는 원래 없는데, 만약 쓴다면 실행됨.\n",
    "        \n",
    "a = [3,4,5,6,7,8,9]\n",
    "for i in a :\n",
    "    print(\"체크 전의 값:\",i)\n",
    "    # 중간에 혹시 5가 나오면 뒤에는 하지 말고 때려치자.\n",
    "    if i ==5:\n",
    "        print(i)\n",
    "        continue ## for문으로 돌아가서 다음 값으로 바로 넘어감. 아래 코드는 생략해버림~~\n",
    "        print(i+100)\n",
    "    print(\"PASS\")\n",
    "        "
   ]
  },
  {
   "cell_type": "code",
   "execution_count": 3,
   "id": "4934136e-79a3-423b-b2e7-a1b455738691",
   "metadata": {},
   "outputs": [],
   "source": [
    "# 정리 : 프로그램 구조 => 반복문(for/ while)+ 디테일한 구조 if,break,pass,continue\n",
    "# --> 원하는 목적대로 반복문을 컨트롤을 할 수 있어야 함.\n",
    "\n"
   ]
  },
  {
   "cell_type": "code",
   "execution_count": 4,
   "id": "908a766a-1297-4056-a42c-900564f89e2c",
   "metadata": {},
   "outputs": [],
   "source": [
    "# 사전 내용2) stack, queue 가장 대표적인 자료구조\n",
    "\n",
    "# 기본적인 내용 : 값을 처리하는 방식\n",
    "# stack : 지하철 -> 늦게 온 사람이 제일 먼저 내린다.\n",
    "#         last in first out : lifo\n",
    "#         비유 : 지하철 출입\n",
    "# queue : 놀이공원 매표소 줄서기 -> 먼저 줄 선 사람 먼저 표 줌!\n",
    "#         first in first out\n",
    "#         비유 : 놀이공원 매표소\n",
    "#         -> 새로운 것 : 뒤로 쌓아둠! : append()\n",
    "#         -> 처리할 것 : 맨 앞에 있는 것부터! : pop()"
   ]
  },
  {
   "cell_type": "code",
   "execution_count": 5,
   "id": "7aeb95f2-28d1-4892-b6fb-4b8966f91820",
   "metadata": {},
   "outputs": [
    {
     "data": {
      "text/plain": [
       "7"
      ]
     },
     "execution_count": 5,
     "metadata": {},
     "output_type": "execute_result"
    }
   ],
   "source": [
    "a=[1,2,3,4,5]\n",
    "a.append(7)\n",
    "\n",
    "# 할 일에 대한 차출! : 맨 뒤에서부터 stack\n",
    "a.pop()"
   ]
  },
  {
   "cell_type": "code",
   "execution_count": 6,
   "id": "62c62c6c-3f43-4e10-bf79-f9ebcf83df24",
   "metadata": {},
   "outputs": [
    {
     "data": {
      "text/plain": [
       "[1, 2, 3, 4, 5, 8]"
      ]
     },
     "execution_count": 6,
     "metadata": {},
     "output_type": "execute_result"
    }
   ],
   "source": [
    "#--> 큐\n",
    "a.append(8)\n",
    "a"
   ]
  },
  {
   "cell_type": "code",
   "execution_count": 7,
   "id": "263def25-64ad-471f-98f3-96a0eeb0143a",
   "metadata": {},
   "outputs": [
    {
     "data": {
      "text/plain": [
       "1"
      ]
     },
     "execution_count": 7,
     "metadata": {},
     "output_type": "execute_result"
    }
   ],
   "source": [
    "a.pop(0)"
   ]
  },
  {
   "cell_type": "code",
   "execution_count": 9,
   "id": "6586c9e2-8fb2-4b44-b9ec-6fb2e3f1709c",
   "metadata": {},
   "outputs": [],
   "source": [
    "# 참고!) 파이썬 리스트로 대표적인 자료구조 queue를 구현\n",
    "#         -> 파이썬 언어의 특징상 속도의 이슈가 걸림!\n",
    "# --> 제일 앞에 있는 원소 차출 속도 이슈 pop(0)\n",
    "# --> 탐색 알고리즘에서 queue로 파이썬으로 구현하면 속도가 느려짐\n",
    "#     (이론적으로 맞으나, c를 쓰면 되는데, 파이썬을 사용하니깐 문제)\n",
    "# --> 코테에서 파이썬으로 내가 큐를 사용할 경우\n",
    "#     무조건 deque 패키지를 불러서 사용해야 함.\n",
    "# --> 정규식처럼 일반적인 코테 플랫폼에서 기본적으로 쓸 수 있는\n",
    "# +++ deque 로 형식만 변환하면 속도 이슈 해결!\n",
    "# (참고 : 데이터를 처리할 때 리스트보다 deque 속도가 빨라요)"
   ]
  },
  {
   "cell_type": "markdown",
   "id": "f4b000b2-491e-464a-91e6-fdab24d4ea35",
   "metadata": {},
   "source": [
    "### 재귀함수!"
   ]
  },
  {
   "cell_type": "code",
   "execution_count": 10,
   "id": "356d979c-ec48-4de9-934c-334e0f06e799",
   "metadata": {},
   "outputs": [],
   "source": [
    "# 사전 지식3) 재귀 함수!\n",
    "# --> 일반적인 코드, 데이터 분석에서 거의 사용 안하는 스타일!\n",
    "# --> 코테에서는 정말 종종 사용됨\n",
    "# why? 구조적인 반복을 코드화 하면 되어서\n",
    "# DP, DFS -> simple\n",
    "# --> 구조적으로 뭔가 기능이 반복될 때@\n",
    "# 참고) 파이썬의 재귀함수의 특징!\n",
    "#  --> 일반 언어하고 다르게  limit\n",
    "def recursive_func():\n",
    "    print(\"나는 재귀함수다!\")\n",
    "    recursive_func():"
   ]
  },
  {
   "cell_type": "code",
   "execution_count": 16,
   "id": "b2a425dd-3356-46fa-8fec-dac3302f34a8",
   "metadata": {},
   "outputs": [
    {
     "name": "stdout",
     "output_type": "stream",
     "text": [
      "24\n"
     ]
    }
   ],
   "source": [
    "# --> for 문\n",
    "n=4\n",
    "fact =1\n",
    "for i in range(1,n+1, 1):\n",
    "    fact*=i\n",
    "print(fact)"
   ]
  },
  {
   "cell_type": "code",
   "execution_count": 21,
   "id": "11091332-56d2-4cd5-8ac0-e5b1f3849a34",
   "metadata": {},
   "outputs": [
    {
     "name": "stdout",
     "output_type": "stream",
     "text": [
      "24\n"
     ]
    }
   ],
   "source": [
    "i=1\n",
    "n=4\n",
    "fact=1\n",
    "while i<=n:\n",
    "    fact*=i\n",
    "    i+=1\n",
    "print(fact)"
   ]
  },
  {
   "cell_type": "code",
   "execution_count": 1,
   "id": "24549db8-0efc-440d-9d69-a760b9a2f055",
   "metadata": {},
   "outputs": [],
   "source": [
    "# --> 기능 중심으로 바라보자!\n",
    "#     n! = n*(n-1)!\n",
    "# --> 기능 중심의 규칙!\n",
    "# -----> 바로 코드화가 용이함\n",
    "\n",
    "def my_fact(n):\n",
    "    #호출이 되었는지 체크용\n",
    "    print(\"My Fact 함수 불렀어요?:\" + str(n))\n",
    "    if n <=1:\n",
    "        return 1\n",
    "    else :\n",
    "        return n* my_fact(n-1)\n",
    "# ---> 기능적인 규칙성을 그냥 코드화 하는 작업을 가능하게 함\n",
    "#      코드가 상당히 직관적으로 작성이 됨\n",
    "# ---> 규칙성이 있는 것들에 대한 관계 중심의 코드 작성에 편함\n",
    "#      퀵정렬, 탐색, dp, 규칙적 작업에 대한 구현: 코테용"
   ]
  },
  {
   "cell_type": "code",
   "execution_count": 2,
   "id": "967447ba-a978-4057-b6dd-c413d74d70c7",
   "metadata": {},
   "outputs": [
    {
     "name": "stdout",
     "output_type": "stream",
     "text": [
      "My Fact 함수 불렀어요?:4\n",
      "My Fact 함수 불렀어요?:3\n",
      "My Fact 함수 불렀어요?:2\n",
      "My Fact 함수 불렀어요?:1\n"
     ]
    },
    {
     "data": {
      "text/plain": [
       "24"
      ]
     },
     "execution_count": 2,
     "metadata": {},
     "output_type": "execute_result"
    }
   ],
   "source": [
    "my_fact(4)"
   ]
  },
  {
   "cell_type": "code",
   "execution_count": null,
   "id": "0979691a-3924-4458-9cb7-a8fb7d575f9e",
   "metadata": {},
   "outputs": [],
   "source": [
    "# 재귀 함수 정리 : 기능 중심의 관계썽/ 규칙성이 있는 부분을 간단게 코드화!\n",
    "# --> while 처럼 종료조건, 일을 해결할 부분에 대한 세팅!\n",
    "# ==> 재귀함수 : 자기 자신을 계속 호출하는 구조를 사용하다 보니.\n",
    "#                해결의 순서는 맨 마지막에 호출된 친구부터\n",
    "#                해결이 되어야 순차적으로 모든 값들이 해결이 됨!!!\n",
    "#                ===> Stack 동작을 시킬 수 있다!!!!\n",
    "#                ===> DFS에서 Stack 형식으로 탐색을 하기에..\n",
    "#                     DFS에서는 기능 중심으로 재귀함수로 탐색이 가능함!!!!\n",
    "#                ===> BFS에서는 Queue 형식으로 탐색을 하기에..\n",
    "#                     BFS에서는 기능 중심으로 재귀함수로 탐색이 불가능!!!!!!!"
   ]
  },
  {
   "cell_type": "markdown",
   "id": "6b78c1ec-f5e7-427a-829b-35fc4d64a495",
   "metadata": {},
   "source": [
    "## 탐색문제 자료구조"
   ]
  },
  {
   "cell_type": "code",
   "execution_count": 3,
   "id": "a3ab716b-fc6a-406d-87d3-139f8b83e6af",
   "metadata": {},
   "outputs": [],
   "source": [
    "# 사전 지식 4) 그래프에 대한 코드화 작업\n",
    "# 기본적인 대상 : 지도, 네트워크\n",
    "# --> 현실적인 현상을 점/선으로 추상화\n",
    "# 코드적으로 어떻게 표현을 할 것인가\n",
    "# - 행렬 방식으로 구현\n",
    "# - 리스트 방식으로 구현\n",
    "\n",
    "# 탐색 문제 : 모든 경우들을 다 체크!!!!\n",
    "#             --> 수학적인 모든 경우의 수 문제\n",
    "#             --> 최단 거리도 bfs 탐색 기반으로 할 수 있음!!\n",
    "#             ==> 여러 유형을 풀어야 함!!!( 유형별로 많이!! )\n",
    "#                 문제별로 왜 이 문제가 탐색이지?\n",
    "#                 어떤 탐색 알고리즘이 적당할까?"
   ]
  },
  {
   "cell_type": "code",
   "execution_count": 6,
   "id": "b8da7873-14e0-4b50-b6cb-042e5c30bdd7",
   "metadata": {},
   "outputs": [
    {
     "data": {
      "text/plain": [
       "inf"
      ]
     },
     "execution_count": 6,
     "metadata": {},
     "output_type": "execute_result"
    }
   ],
   "source": [
    "# 지도에 대한 코드 표현\n",
    "# 방법1) 그냥 엄청 큰 수로 직접 입력!\n",
    "INF = 9999999\n",
    "\n",
    "# 방법2) 명시적으로 파이썬의 무한대로 인식해줘!\n",
    "INF = float(\"inf\")\n",
    "INF\n"
   ]
  },
  {
   "cell_type": "code",
   "execution_count": 7,
   "id": "48d32fb4-d1d5-4c87-b98c-f53a32eb1afc",
   "metadata": {},
   "outputs": [
    {
     "data": {
      "text/plain": [
       "[[0, 7, 0], [7, 0, inf], [5, inf, 0]]"
      ]
     },
     "execution_count": 7,
     "metadata": {},
     "output_type": "execute_result"
    }
   ],
   "source": [
    "# 인접행렬방식으로 표현\n",
    "# 중요!) 파이썬의 리스트를 가지고 2차원 행렬 표현\n",
    "#        -> 가로줄 단위로 묶어서 최종적으로 1번 묶어주기\n",
    "m=[\n",
    "    [0,7,0],\n",
    "    [7,0,INF],\n",
    "    [5,INF,0]\n",
    "]\n",
    "m"
   ]
  },
  {
   "cell_type": "code",
   "execution_count": 8,
   "id": "952ac597-0a75-4947-90f7-20f3ae423e31",
   "metadata": {},
   "outputs": [
    {
     "data": {
      "text/plain": [
       "7"
      ]
     },
     "execution_count": 8,
     "metadata": {},
     "output_type": "execute_result"
    }
   ],
   "source": [
    "#-- 0번에서 1번 도시가 연결 되어 있나?\n",
    "m[0][1]"
   ]
  },
  {
   "cell_type": "code",
   "execution_count": 9,
   "id": "050c495d-4c06-4bfa-956c-557d00e4d496",
   "metadata": {},
   "outputs": [
    {
     "data": {
      "text/plain": [
       "inf"
      ]
     },
     "execution_count": 9,
     "metadata": {},
     "output_type": "execute_result"
    }
   ],
   "source": [
    "#-- 0번에서 1번 도시가 연결 되어 있나?\n",
    "m[2][1]"
   ]
  },
  {
   "cell_type": "code",
   "execution_count": 10,
   "id": "bec82d39-8fc1-414c-9cf8-77a055778a56",
   "metadata": {},
   "outputs": [],
   "source": [
    "# --> 행렬로 표현을 한다면 : 가로줄 --> start : 지도[1번인덱스]\n",
    "#                             세로줄 --> start : 지도[1번][세로 1번인덱스]\n",
    "# 파이썬의 인덱스 입장으로 지도를 표현한 인접행렬을 바라본다면\n",
    "# 지도[start][end[\n",
    "\n",
    "# 참고) 명시적으로 2D numpy, df, tensor : 파이썬 다른 패키지\n",
    "#       지도[가로, 세로]"
   ]
  },
  {
   "cell_type": "code",
   "execution_count": 11,
   "id": "8b0fb49c-3e35-4c0f-8ef5-761270566b14",
   "metadata": {},
   "outputs": [
    {
     "data": {
      "text/plain": [
       "[[(1, 7), (2, 5)], [(0, 7)], [(0, 5)]]"
      ]
     },
     "execution_count": 11,
     "metadata": {},
     "output_type": "execute_result"
    }
   ],
   "source": [
    "# 인접리스트 방식으로 표현 : 도로 연결 중심\n",
    "#  --> 상황마다 조금씩 표현 스타일은 다를 수 있음!\n",
    "\n",
    "g_1 = [\n",
    "    [(1,7),(2,5)], #-->0번 도시의 리스트업\n",
    "    [(0,7)], #-->1번 도시의 리스트업\n",
    "    [(0,5)] #-->2번 도시의 리스트업\n",
    "]\n",
    "g_1"
   ]
  },
  {
   "cell_type": "code",
   "execution_count": 12,
   "id": "50fc8fcd-8ee9-4268-9832-7054c3f064b7",
   "metadata": {},
   "outputs": [
    {
     "data": {
      "text/plain": [
       "7"
      ]
     },
     "execution_count": 12,
     "metadata": {},
     "output_type": "execute_result"
    }
   ],
   "source": [
    "# --> 0번 도시에서 1번 도시가 연결 되어 있나요?\n",
    "g_1[0][0][1]"
   ]
  },
  {
   "cell_type": "code",
   "execution_count": 16,
   "id": "93879fe5-490e-4f1d-931f-1aecd42ff6dd",
   "metadata": {},
   "outputs": [
    {
     "data": {
      "text/plain": [
       "{'0': [(1, 7), (2, 5)], '1': [(0, 7)], '2': [(0, 5)]}"
      ]
     },
     "execution_count": 16,
     "metadata": {},
     "output_type": "execute_result"
    }
   ],
   "source": [
    "# --> 구체적인 연결성에 대한 질문에 대해서는 탐색을 해야되어서 좀 행렬보다는 직관성은 떨어진다.\n",
    "# --> 연결성을 좀 더 직관적으로 개선할 수 있는 방법 : dict\n",
    "g_dict = {\n",
    "    \"0\":[(1,7),(2,5)], \n",
    "    \"1\":[(0,7)], \n",
    "    \"2\":[(0,5)]\n",
    "}\n",
    "g_dict"
   ]
  },
  {
   "cell_type": "code",
   "execution_count": 18,
   "id": "c1a6c4f5-6a69-4c8c-8e3e-a08562afa3de",
   "metadata": {},
   "outputs": [
    {
     "data": {
      "text/plain": [
       "7"
      ]
     },
     "execution_count": 18,
     "metadata": {},
     "output_type": "execute_result"
    }
   ],
   "source": [
    "# --> 연결 중심으로 정보를 수집을 했기에 도시와 도시 사이의 연결을 탐색을 해야함!\n",
    "#     : 연결이 엄청 많을 때 dict  속도적 이슈가 있음.\n",
    "g_dict[\"0\"][0][1]"
   ]
  },
  {
   "cell_type": "code",
   "execution_count": 21,
   "id": "959a7549-ebfb-4fbc-ba19-44853b4a18ac",
   "metadata": {},
   "outputs": [
    {
     "data": {
      "text/plain": [
       "[(2, 4)]"
      ]
     },
     "execution_count": 21,
     "metadata": {},
     "output_type": "execute_result"
    }
   ],
   "source": [
    "# 참고) 리스트를 활용해서 할 때 0번 도시가 없을 때는\n",
    "        # -> 비우고 도시에 대한 것을 리스트의 정수인덱스에 연결\n",
    "# -> 도시 번호를 인접리스트의 정수 인덱스에 매칭을 시키고 싶어서!!\n",
    "#    만약에 안하면, 작성하는 코드 사엥서 계쏙 -1,+! 신경 쓰면서\n",
    "#    계속 인덱스 신경써서 작성해야 하므로\n",
    "\n",
    "\n",
    "g_2 = [\n",
    "    [],\n",
    "    [(2,4)],\n",
    "    [(1,4)]\n",
    "]\n",
    "g_2[1]"
   ]
  },
  {
   "cell_type": "code",
   "execution_count": 23,
   "id": "fa2b6374-acba-41c1-95fa-b0645a08feb4",
   "metadata": {},
   "outputs": [
    {
     "data": {
      "text/plain": [
       "[[], [2, 3, 8], [1, 7], [1, 4, 5], [3, 5], [3, 4], [7], [2, 6, 8], [1, 7]]"
      ]
     },
     "execution_count": 23,
     "metadata": {},
     "output_type": "execute_result"
    }
   ],
   "source": [
    "# 0) 탐색에 대한 지돌ㄹ 코드화!\n",
    "# --> 인접 리스트 : 리스트로 표현할 때\n",
    "#     가상의 0번 도시가 있다고 가정하고 표현\n",
    "\n",
    "graph_list=[ \n",
    "    [],#<-가상의 0번 도시는 연결되어있지 않다.고 생각\n",
    "    [2,3,8], #<- 1번 도시와 연결된 도시들\n",
    "    [1,7], #<- 2번 도시와 연결된 도시들\n",
    "    [1,4,5],\n",
    "    [3,5],\n",
    "    [3,4],\n",
    "    [7],\n",
    "    [2,6,8],\n",
    "    [1,7]\n",
    "]\n",
    "graph_list\n",
    "    "
   ]
  },
  {
   "cell_type": "code",
   "execution_count": 24,
   "id": "9e1be5a7-a5d7-4238-90c4-7df043c05be3",
   "metadata": {},
   "outputs": [
    {
     "data": {
      "text/plain": [
       "[1, 4, 5]"
      ]
     },
     "execution_count": 24,
     "metadata": {},
     "output_type": "execute_result"
    }
   ],
   "source": [
    "# 3번 도시와 연결된 도시들은 뭐에요?\n",
    "graph_list[3] # 인덱스 편하게 하려고 0번도시 가짜로 만들어줌"
   ]
  },
  {
   "cell_type": "code",
   "execution_count": null,
   "id": "d94d5ddb-7f3a-42c7-a069-0c2c69229afb",
   "metadata": {},
   "outputs": [],
   "source": [
    "#탐색에 대해서 DFS 함수\n",
    "# 입력 : 지도, 시작점\n",
    "#  --> 필요한 세팅 변수 : 방문할 곳 리스트 (to do list)\n",
    "#  --> 필요한 세팅 변수 : 방문한 곳 리스트 (done list)\n",
    "# 사무시을 나와서 출발!\n",
    "# 큰 틀 : 방문할 곳 리스트가 다 텅 빌 때까지! while\n",
    "#        기능) while 리스트 : 빈 리스트가 될 때까지\n",
    "#        --> 일단 방문할 곳 1개 꺼내 : Stack -> pop() 이동 go!\n",
    "#            1) 여기가 내가 처음 온 곳인가? 도장!\n",
    "#              -> 방문한 곳 리스트 추가! append(뒤로)\n",
    "#            2) 여기에서 연결된 곳이 어디인가? ( 또 할 일이 뭐임?)\n",
    "#              -> 방문할 곳 리스트에 추가! append(뒤로)\n"
   ]
  },
  {
   "cell_type": "code",
   "execution_count": 25,
   "id": "2c06f521-fa55-4dc0-b8a6-01effd4bc7db",
   "metadata": {},
   "outputs": [],
   "source": [
    "# 입력 : 지도, 시작점\n",
    "# 기능 : DFS 방식으로 주어진 지도를 탐색. 방문하겠다\n",
    "# 출력 : 방문한 기록을 제출!\n",
    "\n",
    "def dfs_m1(graph, start):\n",
    "    # 초기 변수들에 대한 세팅\n",
    "    # -1) 방문할 곳 리스트(to do list)\n",
    "    # -2) 방문한 곳 리스트(done list)\n",
    "    need_visit = list()\n",
    "    visited   = list()\n",
    "    # --> 부여받은 출발점 :할 일에 추가!\n",
    "\n",
    "    need_visit.append(start)\n",
    "\n",
    "    # 출발!a\n",
    "    # --> 언제까지 할 거냐? need_visit 할 목록이 업을 때까지\n",
    "    #     언제, 몇 번에 없어질지 몰라... 주구장창 while\n",
    "    while need_visit: # 리스트가 비면 자동적으로 끝남\n",
    "        # 1) 나 이제 어디로 갈까 : 방문할 곳 하나 꺼내!\n",
    "        # ==> 할 일의 선택 : 맨 뒤에서 꺼내겠다. Stack\n",
    "        node = need_visit.pop()\n",
    "        \n",
    "        # 2) node 내가 이미 갔던 곳인지, 신규방문인지 체크\n",
    "        #    -> 갔던 곳이면 pass=\n",
    "        #    -> 신규 방문 : 왔다고 도장 찍어야함.\n",
    "        #                  + 이 지점에서 연결된 곳들의 주소를 받아서 할 일에 추가\n",
    "        if node not in visited : #<- 신규 방문지\n",
    "            # 2-1) 도장찍기!\n",
    "            visited.append(node)\n",
    "            \n",
    "            # 2-2) 연결된 도시(또 나 할일 방문할 곳 있어요?)\n",
    "            # --> 순서를 지정 : 지도 구성의 역순으로 돌리면,\n",
    "            #     역방향 : .reverse(), reversed(), a[::-1] 사용. sort 하면 시간 걸림 안씀.\n",
    "            # ++ 도시별 정렬을 할 수도 있음!\n",
    "            temp = graph[node]\n",
    "            temp_reverse = list(reversed[temp]))\n",
    "            need_visit.extend(graph[node])\n",
    "    return visited\n",
    "            "
   ]
  },
  {
   "cell_type": "code",
   "execution_count": null,
   "id": "631633bf-5f52-4584-881c-dc3718a48cc5",
   "metadata": {},
   "outputs": [],
   "source": [
    "# 방문 순서를 같은 연결이면 작은 숫자 도시부터 방문하자!\n",
    "# 원본 인접리스트는 그대로 두고 코드상으로 순서만 뒤짚어서 하고 싶다.\n",
    "# reversed() "
   ]
  },
  {
   "cell_type": "code",
   "execution_count": null,
   "id": "aec779d8-c335-49a6-a2e6-bb6d9b34bea2",
   "metadata": {},
   "outputs": [],
   "source": [
    "# BFS 로 수정하기!\n",
    "# 입력 : 지도, 시작점\n",
    "# 기능 : DFS 방식으로 주어진 지도를 탐색. 방문하겠다\n",
    "# 출력 : 방문한 기록을 제출!\n",
    "\n",
    "def bfs_m1(graph, start):\n",
    "    need_visit = list()\n",
    "    visited   = list()\n",
    "\n",
    "    need_visit.append(start)\n",
    "\n",
    "    while need_visit: \n",
    "        node = need_visit.pop(0) # 이거만 변경하면 됨. 하지만 속도 문제로 실제로 이렇게 하진 않음!\n",
    "        \n",
    "        if node not in visited : \n",
    "            visited.append(node)\n",
    "           \n",
    "            temp = graph[node]\n",
    "            temp_reverse = list(reversed[temp]))\n",
    "            need_visit.extend(graph[node])\n",
    "    return visited\n",
    "            "
   ]
  }
 ],
 "metadata": {
  "kernelspec": {
   "display_name": "Python 3 (ipykernel)",
   "language": "python",
   "name": "python3"
  },
  "language_info": {
   "codemirror_mode": {
    "name": "ipython",
    "version": 3
   },
   "file_extension": ".py",
   "mimetype": "text/x-python",
   "name": "python",
   "nbconvert_exporter": "python",
   "pygments_lexer": "ipython3",
   "version": "3.11.7"
  }
 },
 "nbformat": 4,
 "nbformat_minor": 5
}
