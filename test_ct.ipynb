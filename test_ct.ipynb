{
 "cells": [
  {
   "cell_type": "code",
   "execution_count": 24,
   "id": "fd45bec6-a76f-41f5-bec6-4a11a6d94203",
   "metadata": {},
   "outputs": [],
   "source": [
    "def solution(numbers, n):\n",
    "    p = 0\n",
    "    for i in numbers:\n",
    "        p= p+i\n",
    "        if p > n:\n",
    "            return p\n",
    "    return p"
   ]
  },
  {
   "cell_type": "code",
   "execution_count": 25,
   "id": "24ad3864-2e6b-4ab2-a279-aab1a6fb6ec4",
   "metadata": {
    "scrolled": true
   },
   "outputs": [
    {
     "data": {
      "text/plain": [
       "139"
      ]
     },
     "execution_count": 25,
     "metadata": {},
     "output_type": "execute_result"
    }
   ],
   "source": [
    "solution([34, 5, 71, 29, 100, 34],123)"
   ]
  },
  {
   "cell_type": "code",
   "execution_count": 39,
   "id": "5f77f61c-f01a-4871-a035-297ce064bc3d",
   "metadata": {},
   "outputs": [
    {
     "name": "stdout",
     "output_type": "stream",
     "text": [
      "4\n",
      "5\n",
      "6\n"
     ]
    }
   ],
   "source": [
    "for i in range(4,7):\n",
    "    print(i)"
   ]
  },
  {
   "cell_type": "code",
   "execution_count": 40,
   "id": "1e6a830f-a419-412d-a194-1f7dffdd4bce",
   "metadata": {},
   "outputs": [
    {
     "name": "stdout",
     "output_type": "stream",
     "text": [
      "5\n"
     ]
    }
   ],
   "source": [
    "a=[1,2,3,4,5]\n",
    "print(len(a))"
   ]
  },
  {
   "cell_type": "code",
   "execution_count": 63,
   "id": "5b1ba095-29a1-4bf0-ab9b-f647b58c48b8",
   "metadata": {},
   "outputs": [],
   "source": [
    "def solution(num_list, n):\n",
    "    answer = []\n",
    "    for i in range(n-1,len(num_list)):\n",
    "        answer.append(num_list[i])\n",
    "    return answer"
   ]
  },
  {
   "cell_type": "code",
   "execution_count": 64,
   "id": "0f478cc8-66fe-4620-8504-2d74052c7676",
   "metadata": {},
   "outputs": [
    {
     "name": "stdout",
     "output_type": "stream",
     "text": [
      "[7]\n",
      "[7, 5]\n"
     ]
    },
    {
     "data": {
      "text/plain": [
       "[7, 5]"
      ]
     },
     "execution_count": 64,
     "metadata": {},
     "output_type": "execute_result"
    }
   ],
   "source": [
    "solution([5, 2, 1, 7, 5],4)"
   ]
  },
  {
   "cell_type": "code",
   "execution_count": 65,
   "id": "e16f0845-b950-4314-ab69-b7e686c001cf",
   "metadata": {},
   "outputs": [
    {
     "name": "stdout",
     "output_type": "stream",
     "text": [
      "None\n",
      "None\n",
      "None\n"
     ]
    }
   ],
   "source": [
    "b=[1,2,3]\n",
    "for i in b:\n",
    "    a=[]\n",
    "    a= a.append(i)\n",
    "    print(a)"
   ]
  },
  {
   "cell_type": "code",
   "execution_count": 66,
   "id": "9dd20522-9e34-440e-8f72-df477ddbf45d",
   "metadata": {},
   "outputs": [
    {
     "data": {
      "text/plain": [
       "[0, 2, 4]"
      ]
     },
     "execution_count": 66,
     "metadata": {},
     "output_type": "execute_result"
    }
   ],
   "source": [
    "lst = [0,1,2,3,4]\n",
    "\n",
    "lst[::2]"
   ]
  },
  {
   "cell_type": "code",
   "execution_count": 80,
   "id": "62f8e8a3-615f-46a0-a407-06dd5a336be7",
   "metadata": {},
   "outputs": [
    {
     "name": "stdout",
     "output_type": "stream",
     "text": [
      "0\n",
      "2\n",
      "4\n",
      "6\n"
     ]
    }
   ],
   "source": [
    "for i in range(0,7,2):\n",
    "    print(i)"
   ]
  },
  {
   "cell_type": "code",
   "execution_count": 77,
   "id": "9b0ba2e0-8daa-493b-b9b2-7ac944762bf0",
   "metadata": {},
   "outputs": [
    {
     "name": "stdout",
     "output_type": "stream",
     "text": [
      "0\n",
      "[76, 12, 100, 276, 33]\n",
      "2\n",
      "[76, 12, 127, 276, 33]\n",
      "4\n",
      "[76, 12, 127, 276, 60]\n"
     ]
    }
   ],
   "source": [
    "arr=[49, 12, 100, 276, 33]\n",
    "if len(arr)%2==1 : #배열 길이가 홀수면\n",
    "        for i in range(0,len(arr),2):\n",
    "            arr[i]= arr[i]+27\n",
    "            "
   ]
  },
  {
   "cell_type": "code",
   "execution_count": 100,
   "id": "c2881095-60a1-479a-9ad8-b8dbef6a457d",
   "metadata": {},
   "outputs": [],
   "source": [
    "def solution(numbers, hand):\n",
    "    c=\"\"\n",
    "    l_l=10\n",
    "    l_r=12\n",
    "    for i in numbers:\n",
    "        if i in [1,4,7]:\n",
    "            c+=\"L\"\n",
    "            l_l=i\n",
    "        elif i in [3,6,9,12]:\n",
    "            c+=\"R\"\n",
    "            l_r=i\n",
    "        elif i in [2,5,8]:\n",
    "            if abs(l_l-i)==abs(l_r-i) or l_l-l_r==2:\n",
    "                if hand ==\"right\":\n",
    "                    c+=\"R\"\n",
    "                    l_r=i\n",
    "                else:\n",
    "                    c+=\"L\"\n",
    "                    l_l=i\n",
    "            elif min(abs(l_l-i), abs(l_r-i))==abs(l_l-i) :\n",
    "                c+=\"L\"\n",
    "                l_r=i\n",
    "            elif min(abs(l_l-i), abs(l_r-i))==abs(l_r-i):\n",
    "                c+=\"R\"\n",
    "                l_r=i\n",
    "        elif i ==0:\n",
    "            i=11\n",
    "            if abs(l_l-i)==abs(l_r-i) or l_l-l_r==2:\n",
    "                if hand ==\"right\":\n",
    "                    c+=\"R\"\n",
    "                    l_r=i\n",
    "                else:\n",
    "                    c+=\"L\"\n",
    "                    l_l=i\n",
    "            elif min(abs(l_l-i), abs(l_r-i))==abs(l_l-i):\n",
    "                c+=\"L\"\n",
    "                l_r=i\n",
    "            elif min(abs(l_l-i), abs(l_r-i))==abs(l_r-i):\n",
    "                c+=\"R\"\n",
    "                l_r=i\n",
    "        else:\n",
    "            pass\n",
    "    return c"
   ]
  },
  {
   "cell_type": "code",
   "execution_count": 101,
   "id": "d9b5d439-73a9-41e7-baaf-5490643c3ecf",
   "metadata": {
    "scrolled": true
   },
   "outputs": [
    {
     "ename": "UnboundLocalError",
     "evalue": "cannot access local variable 'l_l' where it is not associated with a value",
     "output_type": "error",
     "traceback": [
      "\u001b[1;31m---------------------------------------------------------------------------\u001b[0m",
      "\u001b[1;31mUnboundLocalError\u001b[0m                         Traceback (most recent call last)",
      "Cell \u001b[1;32mIn[101], line 1\u001b[0m\n\u001b[1;32m----> 1\u001b[0m solution(\t[\u001b[38;5;241m1\u001b[39m, \u001b[38;5;241m2\u001b[39m, \u001b[38;5;241m3\u001b[39m, \u001b[38;5;241m4\u001b[39m, \u001b[38;5;241m5\u001b[39m, \u001b[38;5;241m6\u001b[39m, \u001b[38;5;241m7\u001b[39m, \u001b[38;5;241m8\u001b[39m, \u001b[38;5;241m9\u001b[39m, \u001b[38;5;241m0\u001b[39m], \u001b[38;5;124m\"\u001b[39m\u001b[38;5;124mright\u001b[39m\u001b[38;5;124m\"\u001b[39m)\n",
      "Cell \u001b[1;32mIn[100], line 16\u001b[0m, in \u001b[0;36msolution\u001b[1;34m(numbers, hand)\u001b[0m\n\u001b[0;32m     14\u001b[0m         c\u001b[38;5;241m+\u001b[39m\u001b[38;5;241m=\u001b[39m\u001b[38;5;124m\"\u001b[39m\u001b[38;5;124mR\u001b[39m\u001b[38;5;124m\"\u001b[39m\n\u001b[0;32m     15\u001b[0m         l_r\u001b[38;5;241m=\u001b[39mi\n\u001b[1;32m---> 16\u001b[0m \u001b[38;5;28;01mreturn\u001b[39;00m l_l, l_r, c\n\u001b[0;32m     18\u001b[0m c\u001b[38;5;241m=\u001b[39m\u001b[38;5;124m\"\u001b[39m\u001b[38;5;124m\"\u001b[39m\n\u001b[0;32m     19\u001b[0m l_l\u001b[38;5;241m=\u001b[39m\u001b[38;5;241m10\u001b[39m\n",
      "\u001b[1;31mUnboundLocalError\u001b[0m: cannot access local variable 'l_l' where it is not associated with a value"
     ]
    }
   ],
   "source": [
    "solution(\t[1, 2, 3, 4, 5, 6, 7, 8, 9, 0], \"right\")"
   ]
  },
  {
   "cell_type": "code",
   "execution_count": null,
   "id": "be4ec577-8611-47b4-b484-11d2a00e15d9",
   "metadata": {},
   "outputs": [],
   "source": []
  }
 ],
 "metadata": {
  "kernelspec": {
   "display_name": "Python 3 (ipykernel)",
   "language": "python",
   "name": "python3"
  },
  "language_info": {
   "codemirror_mode": {
    "name": "ipython",
    "version": 3
   },
   "file_extension": ".py",
   "mimetype": "text/x-python",
   "name": "python",
   "nbconvert_exporter": "python",
   "pygments_lexer": "ipython3",
   "version": "3.11.7"
  }
 },
 "nbformat": 4,
 "nbformat_minor": 5
}
